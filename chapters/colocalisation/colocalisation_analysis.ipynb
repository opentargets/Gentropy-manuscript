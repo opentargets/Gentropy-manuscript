{
 "cells": [
  {
   "cell_type": "code",
   "execution_count": null,
   "metadata": {},
   "outputs": [],
   "source": [
    "import pyspark.sql.functions as f\n",
    "\n",
    "from gentropy.common.session import Session\n",
    "from gentropy.dataset.colocalisation import Colocalisation\n"
   ]
  },
  {
   "cell_type": "code",
   "execution_count": null,
   "metadata": {},
   "outputs": [
    {
     "name": "stderr",
     "output_type": "stream",
     "text": [
      "Setting default log level to \"WARN\".\n",
      "To adjust logging level use sc.setLogLevel(newLevel). For SparkR, use setLogLevel(newLevel).\n",
      "25/04/01 10:15:30 WARN NativeCodeLoader: Unable to load native-hadoop library for your platform... using builtin-java classes where applicable\n"
     ]
    }
   ],
   "source": [
    "session = Session(extended_spark_conf={\"spark.executor.memory\": \"10g\", \"spark.driver.memory\": \"10g\"})\n"
   ]
  },
  {
   "cell_type": "code",
   "execution_count": null,
   "metadata": {},
   "outputs": [],
   "source": [
    "coloc = Colocalisation.from_parquet(session, \"/users/dc16/data/releases/24.12/colocalisation/coloc/\")\n",
    "ecaviar = Colocalisation.from_parquet(session, \"/users/dc16/data/releases/24.12/colocalisation/ecaviar/\")\n"
   ]
  },
  {
   "cell_type": "code",
   "execution_count": null,
   "metadata": {},
   "outputs": [
    {
     "name": "stderr",
     "output_type": "stream",
     "text": [
      "                                                                                \r"
     ]
    },
    {
     "name": "stdout",
     "output_type": "stream",
     "text": [
      "Total number of coloc overlaps: 23,709,155\n",
      "Total number of ecaviar overlaps: 48,821,549\n",
      "Number of coloc overlaps with H4 > 0.8: 17,553,867\n",
      "Number of ecaviar overlaps with clpp > 0.01: 31,873,679\n"
     ]
    }
   ],
   "source": [
    "coloc_count = coloc.df.select(\"leftStudyLocusId\", \"rightStudyLocusId\").distinct().count()\n",
    "ecaviar_count = ecaviar.df.select(\"leftStudyLocusId\", \"rightStudyLocusId\").distinct().count()\n",
    "coloc_h4_count = coloc.df.filter(f.col(\"h4\") >= 0.8).count()\n",
    "ecaviar_clpp_count = ecaviar.df.filter(f.col(\"clpp\") >= 0.01).count()\n",
    "\n",
    "print(f\"Total number of coloc overlaps: {coloc_count:,}\")\n",
    "print(f\"Total number of ecaviar overlaps: {ecaviar_count:,}\")\n",
    "print(f\"Number of coloc overlaps with H4 > 0.8: {coloc_h4_count:,}\")\n",
    "print(f\"Number of ecaviar overlaps with clpp > 0.01: {ecaviar_clpp_count:,}\")\n"
   ]
  },
  {
   "cell_type": "code",
   "execution_count": null,
   "metadata": {},
   "outputs": [
    {
     "name": "stdout",
     "output_type": "stream",
     "text": [
      "+--------------+--------------+----------+\n",
      "|rightStudyType|COLOC overlaps|  H4 > 0.8|\n",
      "+--------------+--------------+----------+\n",
      "|          gwas|    12,850,416|11,439,294|\n",
      "|          sqtl|       723,171|   428,430|\n",
      "|          pqtl|     1,536,457| 1,408,379|\n",
      "|         tuqtl|     1,341,078|   774,303|\n",
      "|          eqtl|     4,609,874| 2,345,418|\n",
      "|       sctuqtl|       279,962|   169,159|\n",
      "|        sceqtl|     2,242,196|   918,555|\n",
      "|        scsqtl|       126,001|    70,329|\n",
      "+--------------+--------------+----------+\n",
      "\n"
     ]
    },
    {
     "name": "stderr",
     "output_type": "stream",
     "text": [
      "                                                                                \r"
     ]
    }
   ],
   "source": [
    "(\n",
    "    coloc.df.groupBy(\"rightStudyType\")\n",
    "    .agg(\n",
    "        f.format_number(f.count(\"*\"), 0).alias(\"COLOC overlaps\"),\n",
    "        f.format_number(f.count(f.when(f.col(\"h4\") >= 0.8, 1)), 0).alias(\"H4 > 0.8\"),\n",
    "    )\n",
    "    .show()\n",
    ")\n"
   ]
  },
  {
   "cell_type": "code",
   "execution_count": null,
   "metadata": {},
   "outputs": [
    {
     "name": "stderr",
     "output_type": "stream",
     "text": [
      "[Stage 685:================>                                       (8 + 8) / 28]\r"
     ]
    },
    {
     "name": "stdout",
     "output_type": "stream",
     "text": [
      "+--------------+----------------+----------+\n",
      "|rightStudyType|eCAVIAR overlaps| CLPP > 1%|\n",
      "+--------------+----------------+----------+\n",
      "|          gwas|      28,855,277|23,196,177|\n",
      "|          sqtl|       1,448,104|   601,706|\n",
      "|          pqtl|       2,972,496| 2,530,275|\n",
      "|         tuqtl|       2,576,057| 1,029,218|\n",
      "|          eqtl|       8,379,027| 3,062,911|\n",
      "|       sctuqtl|         541,580|   219,830|\n",
      "|        sceqtl|       3,801,921| 1,138,481|\n",
      "|        scsqtl|         247,087|    95,081|\n",
      "+--------------+----------------+----------+\n",
      "\n"
     ]
    },
    {
     "name": "stderr",
     "output_type": "stream",
     "text": [
      "                                                                                \r"
     ]
    }
   ],
   "source": [
    "(\n",
    "    ecaviar.df.groupBy(\"rightStudyType\")\n",
    "    .agg(\n",
    "        f.format_number(f.count(\"*\"), 0).alias(\"eCAVIAR overlaps\"),\n",
    "        f.format_number(f.count(f.when(f.col(\"clpp\") >= 0.01, 1)), 0).alias(\"CLPP > 1%\"),\n",
    "    )\n",
    "    .show()\n",
    ")\n"
   ]
  },
  {
   "cell_type": "code",
   "execution_count": null,
   "metadata": {},
   "outputs": [
    {
     "name": "stdout",
     "output_type": "stream",
     "text": [
      "+-------------------------------+----------------------------------+-------------------------------+\n",
      "|max(numberColocalisingVariants)|median(numberColocalisingVariants)|avg(numberColocalisingVariants)|\n",
      "+-------------------------------+----------------------------------+-------------------------------+\n",
      "|                           2879|                               4.0|             153.01816812956852|\n",
      "+-------------------------------+----------------------------------+-------------------------------+\n",
      "\n"
     ]
    },
    {
     "name": "stderr",
     "output_type": "stream",
     "text": [
      "                                                                                \r"
     ]
    }
   ],
   "source": [
    "coloc.df.agg(\n",
    "    f.max(\"numberColocalisingVariants\"), f.median(\"numberColocalisingVariants\"), f.mean(\"numberColocalisingVariants\")\n",
    ").show()\n"
   ]
  },
  {
   "cell_type": "code",
   "execution_count": null,
   "metadata": {},
   "outputs": [
    {
     "name": "stderr",
     "output_type": "stream",
     "text": [
      "[Stage 258:===============================>                       (16 + 8) / 28]\r"
     ]
    },
    {
     "name": "stdout",
     "output_type": "stream",
     "text": [
      "+-------------------------------+----------------------------------+-------------------------------+\n",
      "|max(numberColocalisingVariants)|median(numberColocalisingVariants)|avg(numberColocalisingVariants)|\n",
      "+-------------------------------+----------------------------------+-------------------------------+\n",
      "|                           3081|                               6.0|             122.61254260900243|\n",
      "+-------------------------------+----------------------------------+-------------------------------+\n",
      "\n"
     ]
    },
    {
     "name": "stderr",
     "output_type": "stream",
     "text": [
      "                                                                                \r"
     ]
    }
   ],
   "source": [
    "ecaviar.df.agg(\n",
    "    f.max(\"numberColocalisingVariants\"), f.median(\"numberColocalisingVariants\"), f.mean(\"numberColocalisingVariants\")\n",
    ").show()\n"
   ]
  },
  {
   "cell_type": "code",
   "execution_count": null,
   "metadata": {},
   "outputs": [],
   "source": [
    "target = session.spark.read.parquet(\"/users/dc16/data/releases/25.03/target\")\n",
    "feature_matrix = session.spark.read.parquet(\"/users/dc16/data/releases/25.03/l2g_feature_matrix/\").join(\n",
    "    target.select(\"id\", \"biotype\").filter(f.col(\"biotype\") == \"protein_coding\"), f.col(\"geneId\") == f.col(\"id\"), \"inner\"\n",
    ")\n"
   ]
  },
  {
   "cell_type": "code",
   "execution_count": null,
   "metadata": {},
   "outputs": [
    {
     "name": "stderr",
     "output_type": "stream",
     "text": [
      "[Stage 692:==========================================>             (9 + 3) / 12]\r"
     ]
    },
    {
     "name": "stdout",
     "output_type": "stream",
     "text": [
      "Number of unique credible sets in feature matrix (protein-coding genes only): 568548\n"
     ]
    },
    {
     "name": "stderr",
     "output_type": "stream",
     "text": [
      "                                                                                \r"
     ]
    }
   ],
   "source": [
    "print(\n",
    "    \"Number of unique credible sets in feature matrix (protein-coding genes only):\",\n",
    "    feature_matrix.select(\"studyLocusId\").distinct().count(),\n",
    ")\n"
   ]
  },
  {
   "cell_type": "code",
   "execution_count": null,
   "metadata": {},
   "outputs": [
    {
     "name": "stdout",
     "output_type": "stream",
     "text": [
      "Numbers with at least one significant colocalisation:\n"
     ]
    },
    {
     "name": "stderr",
     "output_type": "stream",
     "text": [
      "[Stage 699:==========================================>             (9 + 3) / 12]\r"
     ]
    },
    {
     "name": "stdout",
     "output_type": "stream",
     "text": [
      "+--------------------+-------------+\n",
      "|numberOfCredibleSets|numberOfGenes|\n",
      "+--------------------+-------------+\n",
      "|              341412|        14412|\n",
      "+--------------------+-------------+\n",
      "\n"
     ]
    },
    {
     "name": "stderr",
     "output_type": "stream",
     "text": [
      "                                                                                \r"
     ]
    }
   ],
   "source": [
    "print(\"Numbers with at least one significant colocalisation:\")\n",
    "(\n",
    "    feature_matrix.filter(\n",
    "        (f.col(\"eQTlColocClppMaximum\") >= 0.01)\n",
    "        | (f.col(\"eQTlColocH4Maximum\") >= 0.8)\n",
    "        | (f.col(\"sQTlColocClppMaximum\") >= 0.01)\n",
    "        | (f.col(\"sQTlColocH4Maximum\") >= 0.8)\n",
    "        | (f.col(\"pQTlColocClppMaximum\") >= 0.01)\n",
    "        | (f.col(\"pQTlColocH4Maximum\") >= 0.8)\n",
    "    )\n",
    "    .agg(\n",
    "        f.count_distinct(\"studyLocusId\").alias(\"numberOfCredibleSets\"),\n",
    "        f.count_distinct(\"geneId\").alias(\"numberOfGenes\"),\n",
    "    )\n",
    "    .show()\n",
    ")\n"
   ]
  },
  {
   "cell_type": "code",
   "execution_count": null,
   "metadata": {},
   "outputs": [
    {
     "name": "stdout",
     "output_type": "stream",
     "text": [
      "Percentage of credible sets with at least one significant colocalisation:\n"
     ]
    },
    {
     "data": {
      "text/plain": [
       "60.04981109774372"
      ]
     },
     "execution_count": 178,
     "metadata": {},
     "output_type": "execute_result"
    }
   ],
   "source": [
    "print(\"Percentage of credible sets with at least one significant colocalisation:\")\n",
    "(341412 / 568548) * 100\n"
   ]
  },
  {
   "cell_type": "code",
   "execution_count": null,
   "metadata": {},
   "outputs": [
    {
     "name": "stdout",
     "output_type": "stream",
     "text": [
      "Numbers with a significant eQTL in feature matrix:\n"
     ]
    },
    {
     "name": "stderr",
     "output_type": "stream",
     "text": [
      "[Stage 706:==================>                                     (4 + 8) / 12]\r"
     ]
    },
    {
     "name": "stdout",
     "output_type": "stream",
     "text": [
      "+--------------------+-------------+\n",
      "|numberOfCredibleSets|numberOfGenes|\n",
      "+--------------------+-------------+\n",
      "|              265334|        13526|\n",
      "+--------------------+-------------+\n",
      "\n"
     ]
    },
    {
     "name": "stderr",
     "output_type": "stream",
     "text": [
      "                                                                                \r"
     ]
    }
   ],
   "source": [
    "print(\"Numbers with a significant eQTL in feature matrix:\")\n",
    "(\n",
    "    feature_matrix.filter((f.col(\"eQtlColocClppMaximum\") >= 0.01) | (f.col(\"eQtlColocH4Maximum\") >= 0.8))\n",
    "    .agg(\n",
    "        f.count_distinct(\"studyLocusId\").alias(\"numberOfCredibleSets\"),\n",
    "        f.count_distinct(\"geneId\").alias(\"numberOfGenes\"),\n",
    "    )\n",
    "    .show()\n",
    ")\n"
   ]
  },
  {
   "cell_type": "code",
   "execution_count": null,
   "metadata": {},
   "outputs": [
    {
     "name": "stdout",
     "output_type": "stream",
     "text": [
      "Numbers with a significant pQTL in feature matrix:\n"
     ]
    },
    {
     "name": "stderr",
     "output_type": "stream",
     "text": [
      "[Stage 713:=====================================>                  (8 + 4) / 12]\r"
     ]
    },
    {
     "name": "stdout",
     "output_type": "stream",
     "text": [
      "+--------------------+-------------+\n",
      "|numberOfCredibleSets|numberOfGenes|\n",
      "+--------------------+-------------+\n",
      "|              153199|         2489|\n",
      "+--------------------+-------------+\n",
      "\n"
     ]
    },
    {
     "name": "stderr",
     "output_type": "stream",
     "text": [
      "                                                                                \r"
     ]
    }
   ],
   "source": [
    "print(\"Numbers with a significant pQTL in feature matrix:\")\n",
    "(\n",
    "    feature_matrix.filter((f.col(\"pQtlColocClppMaximum\") >= 0.01) | (f.col(\"pQtlColocH4Maximum\") >= 0.8))\n",
    "    .agg(\n",
    "        f.count_distinct(\"studyLocusId\").alias(\"numberOfCredibleSets\"),\n",
    "        f.count_distinct(\"geneId\").alias(\"numberOfGenes\"),\n",
    "    )\n",
    "    .show()\n",
    ")\n"
   ]
  },
  {
   "cell_type": "code",
   "execution_count": null,
   "metadata": {},
   "outputs": [
    {
     "name": "stdout",
     "output_type": "stream",
     "text": [
      "Numbers with a significant sQTL in feature matrix:\n",
      "+--------------------+-------------+\n",
      "|numberOfCredibleSets|numberOfGenes|\n",
      "+--------------------+-------------+\n",
      "|              175962|         9541|\n",
      "+--------------------+-------------+\n",
      "\n"
     ]
    },
    {
     "name": "stderr",
     "output_type": "stream",
     "text": [
      "                                                                                \r"
     ]
    }
   ],
   "source": [
    "print(\"Numbers with a significant sQTL in feature matrix:\")\n",
    "(\n",
    "    feature_matrix.filter((f.col(\"sQtlColocClppMaximum\") >= 0.01) | (f.col(\"sQtlColocH4Maximum\") >= 0.8))\n",
    "    .agg(\n",
    "        f.count_distinct(\"studyLocusId\").alias(\"numberOfCredibleSets\"),\n",
    "        f.count_distinct(\"geneId\").alias(\"numberOfGenes\"),\n",
    "    )\n",
    "    .show()\n",
    ")\n"
   ]
  }
 ],
 "metadata": {
  "kernelspec": {
   "display_name": ".venv",
   "language": "python",
   "name": "python3"
  },
  "language_info": {
   "codemirror_mode": {
    "name": "ipython",
    "version": 3
   },
   "file_extension": ".py",
   "mimetype": "text/x-python",
   "name": "python",
   "nbconvert_exporter": "python",
   "pygments_lexer": "ipython3",
   "version": "3.11.11"
  }
 },
 "nbformat": 4,
 "nbformat_minor": 2
}

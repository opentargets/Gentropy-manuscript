{
 "cells": [
  {
   "cell_type": "markdown",
   "metadata": {},
   "source": [
    "# Leave one group in analysis\n",
    "\n",
    "## Reason\n",
    "\n",
    "We want to understand how excluding one set of features affect the overall locus to gene model predictions. \n",
    "\n",
    "## How\n",
    "\n",
    "To conduct the analysis we follow the protocol:\n",
    "\n",
    "\n",
    "* (1) obtain feature matrix\n",
    "* (2) Exclude or make the features requested in combination constant - two ways are redundant, as we use gradient boosting model\n",
    "* (3) Run training\n",
    "* (4) Run predictions"
   ]
  },
  {
   "cell_type": "markdown",
   "metadata": {},
   "source": [
    "## Setup"
   ]
  },
  {
   "cell_type": "code",
   "execution_count": 28,
   "metadata": {},
   "outputs": [
    {
     "name": "stdout",
     "output_type": "stream",
     "text": [
      "openjdk version \"11.0.13\" 2021-10-19\n",
      "OpenJDK Runtime Environment JBR-11.0.13.7-1751.21-jcef (build 11.0.13+7-b1751.21)\n",
      "OpenJDK 64-Bit Server VM JBR-11.0.13.7-1751.21-jcef (build 11.0.13+7-b1751.21, mixed mode)\n"
     ]
    }
   ],
   "source": [
    "# Ensure proper java version < 11\n",
    "!java -version\n"
   ]
  },
  {
   "cell_type": "code",
   "execution_count": 29,
   "metadata": {},
   "outputs": [
    {
     "name": "stdout",
     "output_type": "stream",
     "text": [
      "receiving incremental file list\n",
      "\n",
      "sent 29 bytes  received 13.403 bytes  26.864,00 bytes/sec\n",
      "total size is 836.131.251  speedup is 62.249,20\n",
      "receiving incremental file list\n",
      "\n",
      "sent 29 bytes  received 9.674 bytes  6.468,67 bytes/sec\n",
      "total size is 21.402.425  speedup is 2.205,75\n"
     ]
    }
   ],
   "source": [
    "!rsync -rpltvz --delete rsync.ebi.ac.uk::pub/databases/opentargets/platform/25.03/intermediate/l2g_feature_matrix ../../data/.\n",
    "!rsync -rpltvz --delete rsync.ebi.ac.uk::pub/databases/opentargets/platform/25.03/input/l2g/gold_standard.json ../../data/.\n"
   ]
  },
  {
   "cell_type": "code",
   "execution_count": 30,
   "metadata": {},
   "outputs": [
    {
     "name": "stdout",
     "output_type": "stream",
     "text": [
      "Your browser has been opened to visit:\n",
      "\n",
      "    https://accounts.google.com/o/oauth2/auth?response_type=code&client_id=764086051850-6qr4p6gpi6hn506pt8ejuq83di341hur.apps.googleusercontent.com&redirect_uri=http%3A%2F%2Flocalhost%3A8085%2F&scope=openid+https%3A%2F%2Fwww.googleapis.com%2Fauth%2Fuserinfo.email+https%3A%2F%2Fwww.googleapis.com%2Fauth%2Fcloud-platform+https%3A%2F%2Fwww.googleapis.com%2Fauth%2Fsqlservice.login&state=0qh1QG9Q6SOwqCyDLrMSh5M6Bicmsa&access_type=offline&code_challenge=qTZ4lVEsItKrm4wdTYa-BbTzBhTQSzg3BydsfS96mC8&code_challenge_method=S256\n",
      "\n",
      "\n",
      "Credentials saved to file: [/home/mindos/.config/gcloud/application_default_credentials.json]\n",
      "\n",
      "These credentials will be used by any library that requests Application Default Credentials (ADC).\n",
      "\n",
      "Quota project \"open-targets-genetics-dev\" was added to ADC which can be used by Google client libraries for billing and quota. Note that some services may still bill the project owning the resource.\n"
     ]
    }
   ],
   "source": [
    "!gcloud auth application-default login\n"
   ]
  },
  {
   "cell_type": "code",
   "execution_count": 31,
   "metadata": {},
   "outputs": [],
   "source": [
    "from enum import Enum, StrEnum\n",
    "from pprint import pprint\n",
    "\n",
    "from gentropy.common.session import Session\n",
    "from gentropy.dataset.l2g_feature_matrix import L2GFeatureMatrix\n",
    "from gentropy.l2g import LocusToGeneStep\n"
   ]
  },
  {
   "cell_type": "code",
   "execution_count": 32,
   "metadata": {},
   "outputs": [
    {
     "name": "stderr",
     "output_type": "stream",
     "text": [
      "25/04/25 14:19:37 WARN SparkSession: Using an existing Spark session; only runtime SQL configurations will take effect.\n"
     ]
    }
   ],
   "source": [
    "session = Session(extended_spark_conf={\"spark.driver.memory\": \"40G\", \"spark.rpc.message.maxSize\": \"1024\"})\n",
    "fm_path = \"../../data/l2g_feature_matrix\"\n"
   ]
  },
  {
   "cell_type": "code",
   "execution_count": 33,
   "metadata": {},
   "outputs": [
    {
     "data": {
      "text/html": [
       "\n",
       "            <div>\n",
       "                <p><b>SparkSession - in-memory</b></p>\n",
       "                \n",
       "        <div>\n",
       "            <p><b>SparkContext</b></p>\n",
       "\n",
       "            <p><a href=\"http://192.168.0.100:4041\">Spark UI</a></p>\n",
       "\n",
       "            <dl>\n",
       "              <dt>Version</dt>\n",
       "                <dd><code>v3.5.5</code></dd>\n",
       "              <dt>Master</dt>\n",
       "                <dd><code>local[*]</code></dd>\n",
       "              <dt>AppName</dt>\n",
       "                <dd><code>gentropy</code></dd>\n",
       "            </dl>\n",
       "        </div>\n",
       "        \n",
       "            </div>\n",
       "        "
      ],
      "text/plain": [
       "<pyspark.sql.session.SparkSession at 0x7bd528472210>"
      ]
     },
     "execution_count": 33,
     "metadata": {},
     "output_type": "execute_result"
    }
   ],
   "source": [
    "session.spark\n"
   ]
  },
  {
   "cell_type": "markdown",
   "metadata": {},
   "source": [
    "## Data loading\n",
    "We need to:\n",
    "* prepare feature combinations\n",
    "* load l2g feature matrix with feature combinations"
   ]
  },
  {
   "cell_type": "markdown",
   "metadata": {},
   "source": [
    "### Feature combination preparation"
   ]
  },
  {
   "cell_type": "code",
   "execution_count": 34,
   "metadata": {},
   "outputs": [],
   "source": [
    "class EQTLFeatures(StrEnum):\n",
    "    EQTLCOLOCCLPPMAXIMUM = \"eQtlColocClppMaximum\"\n",
    "    EQTLCOLOCH4MAXIMUM = \"eQtlColocH4Maximum\"\n",
    "    EQTLCOLOCCLPPMAXIMUMNEIGHBOURHOOD = \"eQtlColocClppMaximumNeighbourhood\"\n",
    "    EQTLCOLOCH4MAXIMUMNEIGHBOURHOOD = \"eQtlColocH4MaximumNeighbourhood\"\n",
    "\n",
    "\n",
    "class PQTLFeatures(StrEnum):\n",
    "    PQTLCOLOCCLPPMAXIMUM = \"pQtlColocClppMaximum\"\n",
    "    PQTLCOLOCH4MAXIMUM = \"pQtlColocH4Maximum\"\n",
    "    PQTLCOLOCCLPPMAXIMUMNEIGHBOURHOOD = \"pQtlColocClppMaximumNeighbourhood\"\n",
    "    PQTLCOLOCH4MAXIMUMNEIGHBOURHOOD = \"pQtlColocH4MaximumNeighbourhood\"\n",
    "\n",
    "\n",
    "class SQTLFeatures(StrEnum):\n",
    "    SQTLCOLOCCLPPMAXIMUM = \"sQtlColocClppMaximum\"\n",
    "    SQTLCOLOCH4MAXIMUM = \"sQtlColocH4Maximum\"\n",
    "    SQTLCOLOCCLPPMAXIMUMNEIGHBOURHOOD = \"sQtlColocClppMaximumNeighbourhood\"\n",
    "    SQTLCOLOCH4MAXIMUMNEIGHBOURHOOD = \"sQtlColocH4MaximumNeighbourhood\"\n",
    "\n",
    "\n",
    "class DistanceFeatures(StrEnum):\n",
    "    DISTANCESENTINELFOOTPRINT = \"distanceSentinelFootprint\"\n",
    "    DISTANCESENTINELFOOTPRINTNEIGHBOURHOOD = \"distanceSentinelFootprintNeighbourhood\"\n",
    "    DISTANCEFOOTPRINTMEAN = \"distanceFootprintMean\"\n",
    "    DISTANCEFOOTPRINTMEANNEIGHBOURHOOD = \"distanceFootprintMeanNeighbourhood\"\n",
    "    DISTANCETSSMEAN = \"distanceTssMean\"\n",
    "    DISTANCETSSMEANNEIGHBOURHOOD = \"distanceTssMeanNeighbourhood\"\n",
    "    DISTANCESENTINELTSS = \"distanceSentinelTss\"\n",
    "    DISTANCESENTINELTSSNEIGHBOURHOOD = \"distanceSentinelTssNeighbourhood\"\n",
    "\n",
    "\n",
    "class VEPFeatures(StrEnum):\n",
    "    VEPMAXIMUM = \"vepMaximum\"\n",
    "    VEPMAXIMUMNEIGHBOURHOOD = \"vepMaximumNeighbourhood\"\n",
    "    VEPMEAN = \"vepMean\"\n",
    "    VEPMEANNEIGHBOURHOOD = \"vepMeanNeighbourhood\"\n",
    "\n",
    "\n",
    "class OtherFeatures(StrEnum):\n",
    "    GENECOUNT500KB = \"geneCount500kb\"\n",
    "    PROTEINGENECOUNT500KB = \"proteinGeneCount500kb\"\n",
    "    CREDIBLESETCONFIDENCE = \"credibleSetConfidence\"\n",
    "    ISPROTEINCODING = \"isProteinCoding\"\n",
    "\n",
    "\n",
    "class FeatureGroup(Enum):\n",
    "    VEP = VEPFeatures\n",
    "    DISTANCE = DistanceFeatures\n",
    "    EQTL = EQTLFeatures\n",
    "    PQTL = PQTLFeatures\n",
    "    SQTL = SQTLFeatures\n",
    "    OTHER = OtherFeatures\n",
    "\n",
    "\n",
    "class FeatureCombination:\n",
    "    def __init__(self, name: str, *feature_groups: FeatureGroup) -> None:\n",
    "        self.name = name\n",
    "        self.feature_groups = list(feature_groups)\n",
    "\n",
    "    @property\n",
    "    def features(self) -> list[str]:\n",
    "        \"\"\"Return feature names under the initialized groups.\"\"\"\n",
    "        features = []\n",
    "        for g in self.feature_groups:\n",
    "            features.extend([f.value for f in list(g.value)])\n",
    "        return features\n"
   ]
  },
  {
   "cell_type": "code",
   "execution_count": 35,
   "metadata": {},
   "outputs": [
    {
     "data": {
      "text/plain": [
       "{'distance-other': ['distanceSentinelFootprint',\n",
       "  'distanceSentinelFootprintNeighbourhood',\n",
       "  'distanceFootprintMean',\n",
       "  'distanceFootprintMeanNeighbourhood',\n",
       "  'distanceTssMean',\n",
       "  'distanceTssMeanNeighbourhood',\n",
       "  'distanceSentinelTss',\n",
       "  'distanceSentinelTssNeighbourhood',\n",
       "  'geneCount500kb',\n",
       "  'proteinGeneCount500kb',\n",
       "  'credibleSetConfidence',\n",
       "  'isProteinCoding'],\n",
       " 'distance-other-vep': ['distanceSentinelFootprint',\n",
       "  'distanceSentinelFootprintNeighbourhood',\n",
       "  'distanceFootprintMean',\n",
       "  'distanceFootprintMeanNeighbourhood',\n",
       "  'distanceTssMean',\n",
       "  'distanceTssMeanNeighbourhood',\n",
       "  'distanceSentinelTss',\n",
       "  'distanceSentinelTssNeighbourhood',\n",
       "  'geneCount500kb',\n",
       "  'proteinGeneCount500kb',\n",
       "  'credibleSetConfidence',\n",
       "  'isProteinCoding',\n",
       "  'vepMaximum',\n",
       "  'vepMaximumNeighbourhood',\n",
       "  'vepMean',\n",
       "  'vepMeanNeighbourhood'],\n",
       " 'distance-other-eqlt': ['distanceSentinelFootprint',\n",
       "  'distanceSentinelFootprintNeighbourhood',\n",
       "  'distanceFootprintMean',\n",
       "  'distanceFootprintMeanNeighbourhood',\n",
       "  'distanceTssMean',\n",
       "  'distanceTssMeanNeighbourhood',\n",
       "  'distanceSentinelTss',\n",
       "  'distanceSentinelTssNeighbourhood',\n",
       "  'geneCount500kb',\n",
       "  'proteinGeneCount500kb',\n",
       "  'credibleSetConfidence',\n",
       "  'isProteinCoding',\n",
       "  'eQtlColocClppMaximum',\n",
       "  'eQtlColocH4Maximum',\n",
       "  'eQtlColocClppMaximumNeighbourhood',\n",
       "  'eQtlColocH4MaximumNeighbourhood'],\n",
       " 'distance-other-pqtl': ['distanceSentinelFootprint',\n",
       "  'distanceSentinelFootprintNeighbourhood',\n",
       "  'distanceFootprintMean',\n",
       "  'distanceFootprintMeanNeighbourhood',\n",
       "  'distanceTssMean',\n",
       "  'distanceTssMeanNeighbourhood',\n",
       "  'distanceSentinelTss',\n",
       "  'distanceSentinelTssNeighbourhood',\n",
       "  'geneCount500kb',\n",
       "  'proteinGeneCount500kb',\n",
       "  'credibleSetConfidence',\n",
       "  'isProteinCoding',\n",
       "  'pQtlColocClppMaximum',\n",
       "  'pQtlColocH4Maximum',\n",
       "  'pQtlColocClppMaximumNeighbourhood',\n",
       "  'pQtlColocH4MaximumNeighbourhood'],\n",
       " 'distance-other-sqtl': ['distanceSentinelFootprint',\n",
       "  'distanceSentinelFootprintNeighbourhood',\n",
       "  'distanceFootprintMean',\n",
       "  'distanceFootprintMeanNeighbourhood',\n",
       "  'distanceTssMean',\n",
       "  'distanceTssMeanNeighbourhood',\n",
       "  'distanceSentinelTss',\n",
       "  'distanceSentinelTssNeighbourhood',\n",
       "  'geneCount500kb',\n",
       "  'proteinGeneCount500kb',\n",
       "  'credibleSetConfidence',\n",
       "  'isProteinCoding',\n",
       "  'sQtlColocClppMaximum',\n",
       "  'sQtlColocH4Maximum',\n",
       "  'sQtlColocClppMaximumNeighbourhood',\n",
       "  'sQtlColocH4MaximumNeighbourhood']}"
      ]
     },
     "execution_count": 35,
     "metadata": {},
     "output_type": "execute_result"
    }
   ],
   "source": [
    "feature_combinations = [\n",
    "    FeatureCombination(\"distance-other\", FeatureGroup.DISTANCE, FeatureGroup.OTHER),\n",
    "    FeatureCombination(\"distance-other-vep\", FeatureGroup.DISTANCE, FeatureGroup.OTHER, FeatureGroup.VEP),\n",
    "    FeatureCombination(\"distance-other-eqlt\", FeatureGroup.DISTANCE, FeatureGroup.OTHER, FeatureGroup.EQTL),\n",
    "    FeatureCombination(\"distance-other-pqtl\", FeatureGroup.DISTANCE, FeatureGroup.OTHER, FeatureGroup.PQTL),\n",
    "    FeatureCombination(\"distance-other-sqtl\", FeatureGroup.DISTANCE, FeatureGroup.OTHER, FeatureGroup.SQTL),\n",
    "]\n",
    "named_combinations = {c.name: c.features for c in feature_combinations}\n",
    "named_combinations\n"
   ]
  },
  {
   "cell_type": "markdown",
   "metadata": {},
   "source": [
    "### Loading feature matrix "
   ]
  },
  {
   "cell_type": "code",
   "execution_count": 36,
   "metadata": {},
   "outputs": [],
   "source": [
    "df = session.load_data(fm_path, format=\"parquet\")\n",
    "fms = {\n",
    "    name: {\n",
    "        \"features_list\": features,\n",
    "        \"fm\": L2GFeatureMatrix(_df=df, features_list=features),\n",
    "        \"model_path\": f\"../../data/l2g_leave_one_in_tests/models/{name}/classifier.skops\",\n",
    "        \"prediction_path\": f\"../../data/l2g_leave_one_in_tests/predictions/{name}\",\n",
    "    }\n",
    "    for name, features in named_combinations.items()\n",
    "}\n"
   ]
  },
  {
   "cell_type": "code",
   "execution_count": 37,
   "metadata": {},
   "outputs": [
    {
     "name": "stdout",
     "output_type": "stream",
     "text": [
      "distance-other: columns(studyLocusId, geneId, distanceSentinelFootprint, distanceSentinelFootprintNeighbourhood, distanceFootprintMean, distanceFootprintMeanNeighbourhood, distanceTssMean, distanceTssMeanNeighbourhood, distanceSentinelTss, distanceSentinelTssNeighbourhood, geneCount500kb, proteinGeneCount500kb, credibleSetConfidence, isProteinCoding)\n",
      "distance-other-vep: columns(studyLocusId, geneId, distanceSentinelFootprint, distanceSentinelFootprintNeighbourhood, distanceFootprintMean, distanceFootprintMeanNeighbourhood, distanceTssMean, distanceTssMeanNeighbourhood, distanceSentinelTss, distanceSentinelTssNeighbourhood, geneCount500kb, proteinGeneCount500kb, credibleSetConfidence, isProteinCoding, vepMaximum, vepMaximumNeighbourhood, vepMean, vepMeanNeighbourhood)\n",
      "distance-other-eqlt: columns(studyLocusId, geneId, distanceSentinelFootprint, distanceSentinelFootprintNeighbourhood, distanceFootprintMean, distanceFootprintMeanNeighbourhood, distanceTssMean, distanceTssMeanNeighbourhood, distanceSentinelTss, distanceSentinelTssNeighbourhood, geneCount500kb, proteinGeneCount500kb, credibleSetConfidence, isProteinCoding, eQtlColocClppMaximum, eQtlColocH4Maximum, eQtlColocClppMaximumNeighbourhood, eQtlColocH4MaximumNeighbourhood)\n",
      "distance-other-pqtl: columns(studyLocusId, geneId, distanceSentinelFootprint, distanceSentinelFootprintNeighbourhood, distanceFootprintMean, distanceFootprintMeanNeighbourhood, distanceTssMean, distanceTssMeanNeighbourhood, distanceSentinelTss, distanceSentinelTssNeighbourhood, geneCount500kb, proteinGeneCount500kb, credibleSetConfidence, isProteinCoding, pQtlColocClppMaximum, pQtlColocH4Maximum, pQtlColocClppMaximumNeighbourhood, pQtlColocH4MaximumNeighbourhood)\n",
      "distance-other-sqtl: columns(studyLocusId, geneId, distanceSentinelFootprint, distanceSentinelFootprintNeighbourhood, distanceFootprintMean, distanceFootprintMeanNeighbourhood, distanceTssMean, distanceTssMeanNeighbourhood, distanceSentinelTss, distanceSentinelTssNeighbourhood, geneCount500kb, proteinGeneCount500kb, credibleSetConfidence, isProteinCoding, sQtlColocClppMaximum, sQtlColocH4Maximum, sQtlColocClppMaximumNeighbourhood, sQtlColocH4MaximumNeighbourhood)\n"
     ]
    }
   ],
   "source": [
    "## Sanity check to see if correct features are used\n",
    "for name, meta in fms.items():\n",
    "    print(f\"{name}: columns({', '.join(meta['fm']._df.columns)})\")\n"
   ]
  },
  {
   "cell_type": "markdown",
   "metadata": {},
   "source": [
    "## Running training and predictions"
   ]
  },
  {
   "cell_type": "markdown",
   "metadata": {},
   "source": [
    "### Paramter estimation"
   ]
  },
  {
   "cell_type": "markdown",
   "metadata": {},
   "source": [
    "Based on \n",
    "```\n",
    " l2g_training:\n",
    "    params:\n",
    "      step: locus_to_gene\n",
    "      step.session.write_mode: errorIfExists\n",
    "      step.run_mode: train\n",
    "      step.wandb_run_name: '{l2g_training}'\n",
    "      step.cross_validate: false\n",
    "      step.hf_hub_repo_id: opentargets/locus_to_gene\n",
    "      step.hf_model_commit_message: 'chore: update model base model for {l2g_training} run'\n",
    "      +step.session.extended_spark_conf: \"{spark.kryoserializer.buffer.max:500m, spark.sql.autoBroadcastJoinThreshold:'-1'}\"\n",
    "      # INPUTS\n",
    "      step.credible_set_path: '{release_uri}/output/credible_set'\n",
    "      step.feature_matrix_path: '{release_uri}/intermediate/l2g_feature_matrix'\n",
    "      step.gold_standard_curation_path: '{release_uri}/input/l2g/gold_standard.json'\n",
    "      # OUTPUTS\n",
    "      step.model_path: '{release_uri}/etc/model/locus_to_gene_model/classifier.skops'\n",
    "\n",
    "   l2g_prediction:\n",
    "    params:\n",
    "      step: locus_to_gene\n",
    "      step.run_mode: predict\n",
    "      step.session.write_mode: errorIfExists\n",
    "      step.session.output_partitions: 1\n",
    "      step.l2g_threshold: 0.05\n",
    "      step.download_from_hub: true\n",
    "      step.explain_predictions: true\n",
    "      +step.session.extended_spark_conf: \"{spark.rpc.message.maxSize:'1024'}\"\n",
    "      # INPUTS\n",
    "      step.hf_hub_repo_id: opentargets/locus_to_gene\n",
    "      step.feature_matrix_path: '{release_uri}/intermediate/l2g_feature_matrix'\n",
    "      step.credible_set_path: '{release_uri}/output/credible_set'\n",
    "      # OUTPUTS\n",
    "      step.predictions_path: '{release_uri}/output/l2g_prediction'\n",
    "```"
   ]
  },
  {
   "cell_type": "code",
   "execution_count": 38,
   "metadata": {},
   "outputs": [
    {
     "name": "stdout",
     "output_type": "stream",
     "text": [
      "{'credible_set_path': '../../data/credible_set',\n",
      " 'cross_validate': False,\n",
      " 'download_from_hub': False,\n",
      " 'feature_matrix_path': '../../data/l2g_feature_matrix',\n",
      " 'features_list': ['distanceSentinelFootprint',\n",
      "                   'distanceSentinelFootprintNeighbourhood',\n",
      "                   'distanceFootprintMean',\n",
      "                   'distanceFootprintMeanNeighbourhood',\n",
      "                   'distanceTssMean',\n",
      "                   'distanceTssMeanNeighbourhood',\n",
      "                   'distanceSentinelTss',\n",
      "                   'distanceSentinelTssNeighbourhood',\n",
      "                   'geneCount500kb',\n",
      "                   'proteinGeneCount500kb',\n",
      "                   'credibleSetConfidence',\n",
      "                   'isProteinCoding'],\n",
      " 'gold_standard_curation_path': '../../data/gold_standard.json',\n",
      " 'hf_hub_repo_id': None,\n",
      " 'hf_model_commit_message': 'perf: performance test for leave-one-in-group '\n",
      "                            'analysis with distance-other features',\n",
      " 'hyperparameters': {'ccp_alpha': 0,\n",
      "                     'learning_rate': 0.1,\n",
      "                     'max_depth': 3,\n",
      "                     'min_samples_leaf': 1,\n",
      "                     'min_samples_split': 5,\n",
      "                     'n_estimators': 100,\n",
      "                     'subsample': 0.7},\n",
      " 'model_path': '../../data/l2g_leave_one_in_tests/models/distance-other/classifier.skops',\n",
      " 'run_mode': 'train',\n",
      " 'wandb_run_name': 'run_250425_leave-one-in-group_distance-other_train'}\n"
     ]
    }
   ],
   "source": [
    "train_parameters = {\n",
    "    name: {\n",
    "        \"run_mode\": \"train\",\n",
    "        \"wandb_run_name\": f\"run_250425_leave-one-in-group_{name}_train\",\n",
    "        \"cross_validate\": False,\n",
    "        \"hf_hub_repo_id\": None,\n",
    "        \"hf_model_commit_message\": f\"perf: performance test for leave-one-in-group analysis with {name} features\",\n",
    "        \"credible_set_path\": \"../../data/credible_set\",\n",
    "        \"feature_matrix_path\": \"../../data/l2g_feature_matrix\",\n",
    "        \"gold_standard_curation_path\": \"../../data/gold_standard.json\",\n",
    "        \"features_list\": meta[\"features_list\"],\n",
    "        \"model_path\": meta[\"model_path\"],\n",
    "        \"hyperparameters\": {\n",
    "            \"n_estimators\": 100,\n",
    "            \"max_depth\": 3,\n",
    "            \"ccp_alpha\": 0,\n",
    "            \"learning_rate\": 0.1,\n",
    "            \"min_samples_leaf\": 1,\n",
    "            \"min_samples_split\": 5,\n",
    "            \"subsample\": 0.7,\n",
    "        },\n",
    "        \"download_from_hub\": False,\n",
    "    }\n",
    "    for name, meta in fms.items()\n",
    "}\n",
    "pprint(train_parameters[\"distance-other\"])\n"
   ]
  },
  {
   "cell_type": "code",
   "execution_count": 39,
   "metadata": {},
   "outputs": [
    {
     "name": "stdout",
     "output_type": "stream",
     "text": [
      "{'credible_set_path': '../../data/credible_set',\n",
      " 'cross_validate': False,\n",
      " 'download_from_hub': False,\n",
      " 'explain_predictions': False,\n",
      " 'feature_matrix_path': '../../data/l2g_feature_matrix',\n",
      " 'features_list': ['distanceSentinelFootprint',\n",
      "                   'distanceSentinelFootprintNeighbourhood',\n",
      "                   'distanceFootprintMean',\n",
      "                   'distanceFootprintMeanNeighbourhood',\n",
      "                   'distanceTssMean',\n",
      "                   'distanceTssMeanNeighbourhood',\n",
      "                   'distanceSentinelTss',\n",
      "                   'distanceSentinelTssNeighbourhood',\n",
      "                   'geneCount500kb',\n",
      "                   'proteinGeneCount500kb',\n",
      "                   'credibleSetConfidence',\n",
      "                   'isProteinCoding'],\n",
      " 'hyperparameters': {'ccp_alpha': 0,\n",
      "                     'learning_rate': 0.1,\n",
      "                     'max_depth': 3,\n",
      "                     'min_samples_leaf': 1,\n",
      "                     'min_samples_split': 5,\n",
      "                     'n_estimators': 100,\n",
      "                     'subsample': 0.7},\n",
      " 'l2g_threshold': 0.05,\n",
      " 'model_path': '../../data/l2g_leave_one_in_tests/models/distance-other',\n",
      " 'predictions_path': '../../data/l2g_leave_one_in_tests/predictions/distance-other',\n",
      " 'run_mode': 'predict',\n",
      " 'wandb_run_name': 'run_250425_leave-one-in-group_distance-other_pred'}\n"
     ]
    }
   ],
   "source": [
    "pred_parameters = {\n",
    "    name: {\n",
    "        \"run_mode\": \"predict\",\n",
    "        \"l2g_threshold\": 0.05,\n",
    "        \"download_from_hub\": False,\n",
    "        \"explain_predictions\": False,\n",
    "        \"features_list\": meta[\"features_list\"],\n",
    "        \"model_path\": meta[\"model_path\"].removesuffix(\"/classifier.skops\"),\n",
    "        \"feature_matrix_path\": \"../../data/l2g_feature_matrix\",\n",
    "        \"credible_set_path\": \"../../data/credible_set\",\n",
    "        \"predictions_path\": meta[\"prediction_path\"],\n",
    "        \"hyperparameters\": {\n",
    "            \"n_estimators\": 100,\n",
    "            \"max_depth\": 3,\n",
    "            \"ccp_alpha\": 0,\n",
    "            \"learning_rate\": 0.1,\n",
    "            \"min_samples_leaf\": 1,\n",
    "            \"min_samples_split\": 5,\n",
    "            \"subsample\": 0.7,\n",
    "        },\n",
    "        \"cross_validate\": False,\n",
    "        \"wandb_run_name\": f\"run_250425_leave-one-in-group_{name}_pred\",\n",
    "    }\n",
    "    for name, meta in fms.items()\n",
    "}\n",
    "pprint(pred_parameters[\"distance-other\"])\n"
   ]
  },
  {
   "cell_type": "markdown",
   "metadata": {},
   "source": [
    "### L2G steps\n",
    "\n",
    "The test will run both:\n",
    "* training, upload training metrics to W&B\n",
    "* predictions\n",
    "\n",
    "Predictions and models are saved locally\n"
   ]
  },
  {
   "cell_type": "code",
   "execution_count": 41,
   "metadata": {},
   "outputs": [
    {
     "name": "stderr",
     "output_type": "stream",
     "text": [
      "\u001b[34m\u001b[1mwandb\u001b[0m: \u001b[33mWARNING\u001b[0m If you're specifying your api key in code, ensure this code is not shared publicly.\n",
      "\u001b[34m\u001b[1mwandb\u001b[0m: \u001b[33mWARNING\u001b[0m Consider setting the WANDB_API_KEY environment variable, or running `wandb login` from the command line.\n",
      "\u001b[34m\u001b[1mwandb\u001b[0m: Appending key for api.wandb.ai to your netrc file: /home/mindos/.netrc\n",
      "25/04/25 14:23:53 WARN CacheManager: Asked to cache already cached data.\n"
     ]
    },
    {
     "data": {
      "text/html": [
       "Tracking run with wandb version 0.19.8"
      ],
      "text/plain": [
       "<IPython.core.display.HTML object>"
      ]
     },
     "metadata": {},
     "output_type": "display_data"
    },
    {
     "data": {
      "text/html": [
       "Run data is saved locally in <code>/home/mindos/Projects/OpenTargets/Gentropy-manuscript/chapters/leave_one_group_in_analysis/wandb/run-20250425_142409-rfujxf7i</code>"
      ],
      "text/plain": [
       "<IPython.core.display.HTML object>"
      ]
     },
     "metadata": {},
     "output_type": "display_data"
    },
    {
     "data": {
      "text/html": [
       "Syncing run <strong><a href='https://wandb.ai/open-targets/gentropy-locus-to-gene/runs/rfujxf7i' target=\"_blank\">run_250425_leave-one-in-group_distance-other_train-holdout</a></strong> to <a href='https://wandb.ai/open-targets/gentropy-locus-to-gene' target=\"_blank\">Weights & Biases</a> (<a href='https://wandb.me/developer-guide' target=\"_blank\">docs</a>)<br>"
      ],
      "text/plain": [
       "<IPython.core.display.HTML object>"
      ]
     },
     "metadata": {},
     "output_type": "display_data"
    },
    {
     "data": {
      "text/html": [
       " View project at <a href='https://wandb.ai/open-targets/gentropy-locus-to-gene' target=\"_blank\">https://wandb.ai/open-targets/gentropy-locus-to-gene</a>"
      ],
      "text/plain": [
       "<IPython.core.display.HTML object>"
      ]
     },
     "metadata": {},
     "output_type": "display_data"
    },
    {
     "data": {
      "text/html": [
       " View run at <a href='https://wandb.ai/open-targets/gentropy-locus-to-gene/runs/rfujxf7i' target=\"_blank\">https://wandb.ai/open-targets/gentropy-locus-to-gene/runs/rfujxf7i</a>"
      ],
      "text/plain": [
       "<IPython.core.display.HTML object>"
      ]
     },
     "metadata": {},
     "output_type": "display_data"
    },
    {
     "name": "stderr",
     "output_type": "stream",
     "text": [
      "\u001b[34m\u001b[1mwandb\u001b[0m: \n",
      "\u001b[34m\u001b[1mwandb\u001b[0m: Plotting L2G-classifier.\n",
      "\u001b[34m\u001b[1mwandb\u001b[0m: Logged feature importances.\n",
      "\u001b[34m\u001b[1mwandb\u001b[0m: Logged confusion matrix.\n",
      "\u001b[34m\u001b[1mwandb\u001b[0m: Logged summary metrics.\n",
      "\u001b[34m\u001b[1mwandb\u001b[0m: Logged class proportions.\n",
      "\u001b[34m\u001b[1mwandb\u001b[0m: Logged calibration curve.\n",
      "\u001b[34m\u001b[1mwandb\u001b[0m: Logged roc curve.\n",
      "\u001b[34m\u001b[1mwandb\u001b[0m: Logged precision-recall curve.\n",
      "\u001b[34m\u001b[1mwandb\u001b[0m: Logged Shapley contributions.\n"
     ]
    },
    {
     "data": {
      "text/html": [],
      "text/plain": [
       "<IPython.core.display.HTML object>"
      ]
     },
     "metadata": {},
     "output_type": "display_data"
    },
    {
     "data": {
      "text/html": [
       "<br>    <style><br>        .wandb-row {<br>            display: flex;<br>            flex-direction: row;<br>            flex-wrap: wrap;<br>            justify-content: flex-start;<br>            width: 100%;<br>        }<br>        .wandb-col {<br>            display: flex;<br>            flex-direction: column;<br>            flex-basis: 100%;<br>            flex: 1;<br>            padding: 10px;<br>        }<br>    </style><br><div class=\"wandb-row\"><div class=\"wandb-col\"><h3>Run history:</h3><br/><table class=\"wandb\"><tr><td>accuracy</td><td>▁</td></tr><tr><td>areaUnderROC</td><td>▁</td></tr><tr><td>averagePrecision</td><td>▁</td></tr><tr><td>f1</td><td>▁</td></tr><tr><td>weightedPrecision</td><td>▁</td></tr><tr><td>weightedRecall</td><td>▁</td></tr></table><br/></div><div class=\"wandb-col\"><h3>Run summary:</h3><br/><table class=\"wandb\"><tr><td>accuracy</td><td>0.97616</td></tr><tr><td>areaUnderROC</td><td>0.96168</td></tr><tr><td>averagePrecision</td><td>0.67865</td></tr><tr><td>f1</td><td>0.97495</td></tr><tr><td>weightedPrecision</td><td>0.97517</td></tr><tr><td>weightedRecall</td><td>0.97616</td></tr></table><br/></div></div>"
      ],
      "text/plain": [
       "<IPython.core.display.HTML object>"
      ]
     },
     "metadata": {},
     "output_type": "display_data"
    },
    {
     "data": {
      "text/html": [
       " View run <strong style=\"color:#cdcd00\">run_250425_leave-one-in-group_distance-other_train-holdout</strong> at: <a href='https://wandb.ai/open-targets/gentropy-locus-to-gene/runs/rfujxf7i' target=\"_blank\">https://wandb.ai/open-targets/gentropy-locus-to-gene/runs/rfujxf7i</a><br> View project at: <a href='https://wandb.ai/open-targets/gentropy-locus-to-gene' target=\"_blank\">https://wandb.ai/open-targets/gentropy-locus-to-gene</a><br>Synced 5 W&B file(s), 22 media file(s), 16 artifact file(s) and 0 other file(s)"
      ],
      "text/plain": [
       "<IPython.core.display.HTML object>"
      ]
     },
     "metadata": {},
     "output_type": "display_data"
    },
    {
     "data": {
      "text/html": [
       "Find logs at: <code>./wandb/run-20250425_142409-rfujxf7i/logs</code>"
      ],
      "text/plain": [
       "<IPython.core.display.HTML object>"
      ]
     },
     "metadata": {},
     "output_type": "display_data"
    },
    {
     "name": "stderr",
     "output_type": "stream",
     "text": [
      "ERROR:root:Training data set to none. Error: [Errno 2] No such file or directory: '../../data/l2g_leave_one_in_tests/models/distance-other/training_data.parquet'\n",
      "25/04/25 14:27:18 WARN TaskSetManager: Stage 450 contains a task of very large size (30229 KiB). The maximum recommended task size is 1000 KiB.\n",
      "\u001b[34m\u001b[1mwandb\u001b[0m: \u001b[33mWARNING\u001b[0m If you're specifying your api key in code, ensure this code is not shared publicly.\n",
      "\u001b[34m\u001b[1mwandb\u001b[0m: \u001b[33mWARNING\u001b[0m Consider setting the WANDB_API_KEY environment variable, or running `wandb login` from the command line.\n",
      "\u001b[34m\u001b[1mwandb\u001b[0m: Appending key for api.wandb.ai to your netrc file: /home/mindos/.netrc\n",
      "                                                                                \r"
     ]
    },
    {
     "data": {
      "text/html": [
       "Tracking run with wandb version 0.19.8"
      ],
      "text/plain": [
       "<IPython.core.display.HTML object>"
      ]
     },
     "metadata": {},
     "output_type": "display_data"
    },
    {
     "data": {
      "text/html": [
       "Run data is saved locally in <code>/home/mindos/Projects/OpenTargets/Gentropy-manuscript/chapters/leave_one_group_in_analysis/wandb/run-20250425_142756-zy0hy6t5</code>"
      ],
      "text/plain": [
       "<IPython.core.display.HTML object>"
      ]
     },
     "metadata": {},
     "output_type": "display_data"
    },
    {
     "data": {
      "text/html": [
       "Syncing run <strong><a href='https://wandb.ai/open-targets/gentropy-locus-to-gene/runs/zy0hy6t5' target=\"_blank\">run_250425_leave-one-in-group_distance-other-vep_train-holdout</a></strong> to <a href='https://wandb.ai/open-targets/gentropy-locus-to-gene' target=\"_blank\">Weights & Biases</a> (<a href='https://wandb.me/developer-guide' target=\"_blank\">docs</a>)<br>"
      ],
      "text/plain": [
       "<IPython.core.display.HTML object>"
      ]
     },
     "metadata": {},
     "output_type": "display_data"
    },
    {
     "data": {
      "text/html": [
       " View project at <a href='https://wandb.ai/open-targets/gentropy-locus-to-gene' target=\"_blank\">https://wandb.ai/open-targets/gentropy-locus-to-gene</a>"
      ],
      "text/plain": [
       "<IPython.core.display.HTML object>"
      ]
     },
     "metadata": {},
     "output_type": "display_data"
    },
    {
     "data": {
      "text/html": [
       " View run at <a href='https://wandb.ai/open-targets/gentropy-locus-to-gene/runs/zy0hy6t5' target=\"_blank\">https://wandb.ai/open-targets/gentropy-locus-to-gene/runs/zy0hy6t5</a>"
      ],
      "text/plain": [
       "<IPython.core.display.HTML object>"
      ]
     },
     "metadata": {},
     "output_type": "display_data"
    },
    {
     "name": "stderr",
     "output_type": "stream",
     "text": [
      "\u001b[34m\u001b[1mwandb\u001b[0m: \n",
      "\u001b[34m\u001b[1mwandb\u001b[0m: Plotting L2G-classifier.\n",
      "\u001b[34m\u001b[1mwandb\u001b[0m: Logged feature importances.\n",
      "\u001b[34m\u001b[1mwandb\u001b[0m: Logged confusion matrix.\n",
      "\u001b[34m\u001b[1mwandb\u001b[0m: Logged summary metrics.\n",
      "\u001b[34m\u001b[1mwandb\u001b[0m: Logged class proportions.\n",
      "/home/mindos/Projects/OpenTargets/Gentropy-manuscript/.venv/lib/python3.11/site-packages/sklearn/linear_model/_logistic.py:465: ConvergenceWarning:\n",
      "\n",
      "lbfgs failed to converge (status=1):\n",
      "STOP: TOTAL NO. of ITERATIONS REACHED LIMIT.\n",
      "\n",
      "Increase the number of iterations (max_iter) or scale the data as shown in:\n",
      "    https://scikit-learn.org/stable/modules/preprocessing.html\n",
      "Please also refer to the documentation for alternative solver options:\n",
      "    https://scikit-learn.org/stable/modules/linear_model.html#logistic-regression\n",
      "\n",
      "\u001b[34m\u001b[1mwandb\u001b[0m: Logged calibration curve.\n",
      "\u001b[34m\u001b[1mwandb\u001b[0m: Logged roc curve.\n",
      "\u001b[34m\u001b[1mwandb\u001b[0m: Logged precision-recall curve.\n",
      "\u001b[34m\u001b[1mwandb\u001b[0m: Logged Shapley contributions.\n"
     ]
    },
    {
     "data": {
      "text/html": [],
      "text/plain": [
       "<IPython.core.display.HTML object>"
      ]
     },
     "metadata": {},
     "output_type": "display_data"
    },
    {
     "data": {
      "text/html": [
       "<br>    <style><br>        .wandb-row {<br>            display: flex;<br>            flex-direction: row;<br>            flex-wrap: wrap;<br>            justify-content: flex-start;<br>            width: 100%;<br>        }<br>        .wandb-col {<br>            display: flex;<br>            flex-direction: column;<br>            flex-basis: 100%;<br>            flex: 1;<br>            padding: 10px;<br>        }<br>    </style><br><div class=\"wandb-row\"><div class=\"wandb-col\"><h3>Run history:</h3><br/><table class=\"wandb\"><tr><td>accuracy</td><td>▁</td></tr><tr><td>areaUnderROC</td><td>▁</td></tr><tr><td>averagePrecision</td><td>▁</td></tr><tr><td>f1</td><td>▁</td></tr><tr><td>weightedPrecision</td><td>▁</td></tr><tr><td>weightedRecall</td><td>▁</td></tr></table><br/></div><div class=\"wandb-col\"><h3>Run summary:</h3><br/><table class=\"wandb\"><tr><td>accuracy</td><td>0.97639</td></tr><tr><td>areaUnderROC</td><td>0.9621</td></tr><tr><td>averagePrecision</td><td>0.68145</td></tr><tr><td>f1</td><td>0.97517</td></tr><tr><td>weightedPrecision</td><td>0.97543</td></tr><tr><td>weightedRecall</td><td>0.97639</td></tr></table><br/></div></div>"
      ],
      "text/plain": [
       "<IPython.core.display.HTML object>"
      ]
     },
     "metadata": {},
     "output_type": "display_data"
    },
    {
     "data": {
      "text/html": [
       " View run <strong style=\"color:#cdcd00\">run_250425_leave-one-in-group_distance-other-vep_train-holdout</strong> at: <a href='https://wandb.ai/open-targets/gentropy-locus-to-gene/runs/zy0hy6t5' target=\"_blank\">https://wandb.ai/open-targets/gentropy-locus-to-gene/runs/zy0hy6t5</a><br> View project at: <a href='https://wandb.ai/open-targets/gentropy-locus-to-gene' target=\"_blank\">https://wandb.ai/open-targets/gentropy-locus-to-gene</a><br>Synced 5 W&B file(s), 26 media file(s), 16 artifact file(s) and 0 other file(s)"
      ],
      "text/plain": [
       "<IPython.core.display.HTML object>"
      ]
     },
     "metadata": {},
     "output_type": "display_data"
    },
    {
     "data": {
      "text/html": [
       "Find logs at: <code>./wandb/run-20250425_142756-zy0hy6t5/logs</code>"
      ],
      "text/plain": [
       "<IPython.core.display.HTML object>"
      ]
     },
     "metadata": {},
     "output_type": "display_data"
    },
    {
     "name": "stderr",
     "output_type": "stream",
     "text": [
      "ERROR:root:Training data set to none. Error: [Errno 2] No such file or directory: '../../data/l2g_leave_one_in_tests/models/distance-other-vep/training_data.parquet'\n",
      "25/04/25 14:31:29 WARN TaskSetManager: Stage 597 contains a task of very large size (30229 KiB). The maximum recommended task size is 1000 KiB.\n",
      "\u001b[34m\u001b[1mwandb\u001b[0m: \u001b[33mWARNING\u001b[0m If you're specifying your api key in code, ensure this code is not shared publicly.\n",
      "\u001b[34m\u001b[1mwandb\u001b[0m: \u001b[33mWARNING\u001b[0m Consider setting the WANDB_API_KEY environment variable, or running `wandb login` from the command line.\n",
      "\u001b[34m\u001b[1mwandb\u001b[0m: Appending key for api.wandb.ai to your netrc file: /home/mindos/.netrc\n",
      "                                                                                \r"
     ]
    },
    {
     "data": {
      "text/html": [
       "Tracking run with wandb version 0.19.8"
      ],
      "text/plain": [
       "<IPython.core.display.HTML object>"
      ]
     },
     "metadata": {},
     "output_type": "display_data"
    },
    {
     "data": {
      "text/html": [
       "Run data is saved locally in <code>/home/mindos/Projects/OpenTargets/Gentropy-manuscript/chapters/leave_one_group_in_analysis/wandb/run-20250425_143204-nwhfy26y</code>"
      ],
      "text/plain": [
       "<IPython.core.display.HTML object>"
      ]
     },
     "metadata": {},
     "output_type": "display_data"
    },
    {
     "data": {
      "text/html": [
       "Syncing run <strong><a href='https://wandb.ai/open-targets/gentropy-locus-to-gene/runs/nwhfy26y' target=\"_blank\">run_250425_leave-one-in-group_distance-other-eqlt_train-holdout</a></strong> to <a href='https://wandb.ai/open-targets/gentropy-locus-to-gene' target=\"_blank\">Weights & Biases</a> (<a href='https://wandb.me/developer-guide' target=\"_blank\">docs</a>)<br>"
      ],
      "text/plain": [
       "<IPython.core.display.HTML object>"
      ]
     },
     "metadata": {},
     "output_type": "display_data"
    },
    {
     "data": {
      "text/html": [
       " View project at <a href='https://wandb.ai/open-targets/gentropy-locus-to-gene' target=\"_blank\">https://wandb.ai/open-targets/gentropy-locus-to-gene</a>"
      ],
      "text/plain": [
       "<IPython.core.display.HTML object>"
      ]
     },
     "metadata": {},
     "output_type": "display_data"
    },
    {
     "data": {
      "text/html": [
       " View run at <a href='https://wandb.ai/open-targets/gentropy-locus-to-gene/runs/nwhfy26y' target=\"_blank\">https://wandb.ai/open-targets/gentropy-locus-to-gene/runs/nwhfy26y</a>"
      ],
      "text/plain": [
       "<IPython.core.display.HTML object>"
      ]
     },
     "metadata": {},
     "output_type": "display_data"
    },
    {
     "name": "stderr",
     "output_type": "stream",
     "text": [
      "\u001b[34m\u001b[1mwandb\u001b[0m: \n",
      "\u001b[34m\u001b[1mwandb\u001b[0m: Plotting L2G-classifier.\n",
      "\u001b[34m\u001b[1mwandb\u001b[0m: Logged feature importances.\n",
      "\u001b[34m\u001b[1mwandb\u001b[0m: Logged confusion matrix.\n",
      "\u001b[34m\u001b[1mwandb\u001b[0m: Logged summary metrics.\n",
      "\u001b[34m\u001b[1mwandb\u001b[0m: Logged class proportions.\n",
      "/home/mindos/Projects/OpenTargets/Gentropy-manuscript/.venv/lib/python3.11/site-packages/sklearn/linear_model/_logistic.py:465: ConvergenceWarning:\n",
      "\n",
      "lbfgs failed to converge (status=1):\n",
      "STOP: TOTAL NO. of ITERATIONS REACHED LIMIT.\n",
      "\n",
      "Increase the number of iterations (max_iter) or scale the data as shown in:\n",
      "    https://scikit-learn.org/stable/modules/preprocessing.html\n",
      "Please also refer to the documentation for alternative solver options:\n",
      "    https://scikit-learn.org/stable/modules/linear_model.html#logistic-regression\n",
      "\n",
      "\u001b[34m\u001b[1mwandb\u001b[0m: Logged calibration curve.\n",
      "\u001b[34m\u001b[1mwandb\u001b[0m: Logged roc curve.\n",
      "\u001b[34m\u001b[1mwandb\u001b[0m: Logged precision-recall curve.\n",
      "\u001b[34m\u001b[1mwandb\u001b[0m: Logged Shapley contributions.\n"
     ]
    },
    {
     "data": {
      "text/html": [],
      "text/plain": [
       "<IPython.core.display.HTML object>"
      ]
     },
     "metadata": {},
     "output_type": "display_data"
    },
    {
     "data": {
      "text/html": [
       "<br>    <style><br>        .wandb-row {<br>            display: flex;<br>            flex-direction: row;<br>            flex-wrap: wrap;<br>            justify-content: flex-start;<br>            width: 100%;<br>        }<br>        .wandb-col {<br>            display: flex;<br>            flex-direction: column;<br>            flex-basis: 100%;<br>            flex: 1;<br>            padding: 10px;<br>        }<br>    </style><br><div class=\"wandb-row\"><div class=\"wandb-col\"><h3>Run history:</h3><br/><table class=\"wandb\"><tr><td>accuracy</td><td>▁</td></tr><tr><td>areaUnderROC</td><td>▁</td></tr><tr><td>averagePrecision</td><td>▁</td></tr><tr><td>f1</td><td>▁</td></tr><tr><td>weightedPrecision</td><td>▁</td></tr><tr><td>weightedRecall</td><td>▁</td></tr></table><br/></div><div class=\"wandb-col\"><h3>Run summary:</h3><br/><table class=\"wandb\"><tr><td>accuracy</td><td>0.97721</td></tr><tr><td>areaUnderROC</td><td>0.96311</td></tr><tr><td>averagePrecision</td><td>0.69258</td></tr><tr><td>f1</td><td>0.97613</td></tr><tr><td>weightedPrecision</td><td>0.9763</td></tr><tr><td>weightedRecall</td><td>0.97721</td></tr></table><br/></div></div>"
      ],
      "text/plain": [
       "<IPython.core.display.HTML object>"
      ]
     },
     "metadata": {},
     "output_type": "display_data"
    },
    {
     "data": {
      "text/html": [
       " View run <strong style=\"color:#cdcd00\">run_250425_leave-one-in-group_distance-other-eqlt_train-holdout</strong> at: <a href='https://wandb.ai/open-targets/gentropy-locus-to-gene/runs/nwhfy26y' target=\"_blank\">https://wandb.ai/open-targets/gentropy-locus-to-gene/runs/nwhfy26y</a><br> View project at: <a href='https://wandb.ai/open-targets/gentropy-locus-to-gene' target=\"_blank\">https://wandb.ai/open-targets/gentropy-locus-to-gene</a><br>Synced 5 W&B file(s), 26 media file(s), 16 artifact file(s) and 0 other file(s)"
      ],
      "text/plain": [
       "<IPython.core.display.HTML object>"
      ]
     },
     "metadata": {},
     "output_type": "display_data"
    },
    {
     "data": {
      "text/html": [
       "Find logs at: <code>./wandb/run-20250425_143204-nwhfy26y/logs</code>"
      ],
      "text/plain": [
       "<IPython.core.display.HTML object>"
      ]
     },
     "metadata": {},
     "output_type": "display_data"
    },
    {
     "name": "stderr",
     "output_type": "stream",
     "text": [
      "ERROR:root:Training data set to none. Error: [Errno 2] No such file or directory: '../../data/l2g_leave_one_in_tests/models/distance-other-eqlt/training_data.parquet'\n",
      "25/04/25 14:35:30 WARN TaskSetManager: Stage 744 contains a task of very large size (30229 KiB). The maximum recommended task size is 1000 KiB.\n",
      "\u001b[34m\u001b[1mwandb\u001b[0m: \u001b[33mWARNING\u001b[0m If you're specifying your api key in code, ensure this code is not shared publicly.\n",
      "\u001b[34m\u001b[1mwandb\u001b[0m: \u001b[33mWARNING\u001b[0m Consider setting the WANDB_API_KEY environment variable, or running `wandb login` from the command line.\n",
      "\u001b[34m\u001b[1mwandb\u001b[0m: Appending key for api.wandb.ai to your netrc file: /home/mindos/.netrc\n",
      "                                                                                \r"
     ]
    },
    {
     "data": {
      "text/html": [
       "Tracking run with wandb version 0.19.8"
      ],
      "text/plain": [
       "<IPython.core.display.HTML object>"
      ]
     },
     "metadata": {},
     "output_type": "display_data"
    },
    {
     "data": {
      "text/html": [
       "Run data is saved locally in <code>/home/mindos/Projects/OpenTargets/Gentropy-manuscript/chapters/leave_one_group_in_analysis/wandb/run-20250425_143606-hr22pdk3</code>"
      ],
      "text/plain": [
       "<IPython.core.display.HTML object>"
      ]
     },
     "metadata": {},
     "output_type": "display_data"
    },
    {
     "data": {
      "text/html": [
       "Syncing run <strong><a href='https://wandb.ai/open-targets/gentropy-locus-to-gene/runs/hr22pdk3' target=\"_blank\">run_250425_leave-one-in-group_distance-other-pqtl_train-holdout</a></strong> to <a href='https://wandb.ai/open-targets/gentropy-locus-to-gene' target=\"_blank\">Weights & Biases</a> (<a href='https://wandb.me/developer-guide' target=\"_blank\">docs</a>)<br>"
      ],
      "text/plain": [
       "<IPython.core.display.HTML object>"
      ]
     },
     "metadata": {},
     "output_type": "display_data"
    },
    {
     "data": {
      "text/html": [
       " View project at <a href='https://wandb.ai/open-targets/gentropy-locus-to-gene' target=\"_blank\">https://wandb.ai/open-targets/gentropy-locus-to-gene</a>"
      ],
      "text/plain": [
       "<IPython.core.display.HTML object>"
      ]
     },
     "metadata": {},
     "output_type": "display_data"
    },
    {
     "data": {
      "text/html": [
       " View run at <a href='https://wandb.ai/open-targets/gentropy-locus-to-gene/runs/hr22pdk3' target=\"_blank\">https://wandb.ai/open-targets/gentropy-locus-to-gene/runs/hr22pdk3</a>"
      ],
      "text/plain": [
       "<IPython.core.display.HTML object>"
      ]
     },
     "metadata": {},
     "output_type": "display_data"
    },
    {
     "name": "stderr",
     "output_type": "stream",
     "text": [
      "\u001b[34m\u001b[1mwandb\u001b[0m: \n",
      "\u001b[34m\u001b[1mwandb\u001b[0m: Plotting L2G-classifier.\n",
      "\u001b[34m\u001b[1mwandb\u001b[0m: Logged feature importances.\n",
      "\u001b[34m\u001b[1mwandb\u001b[0m: Logged confusion matrix.\n",
      "\u001b[34m\u001b[1mwandb\u001b[0m: Logged summary metrics.\n",
      "\u001b[34m\u001b[1mwandb\u001b[0m: Logged class proportions.\n",
      "\u001b[34m\u001b[1mwandb\u001b[0m: Logged calibration curve.\n",
      "\u001b[34m\u001b[1mwandb\u001b[0m: Logged roc curve.\n",
      "\u001b[34m\u001b[1mwandb\u001b[0m: Logged precision-recall curve.\n",
      "\u001b[34m\u001b[1mwandb\u001b[0m: Logged Shapley contributions.\n"
     ]
    },
    {
     "data": {
      "text/html": [],
      "text/plain": [
       "<IPython.core.display.HTML object>"
      ]
     },
     "metadata": {},
     "output_type": "display_data"
    },
    {
     "data": {
      "text/html": [
       "<br>    <style><br>        .wandb-row {<br>            display: flex;<br>            flex-direction: row;<br>            flex-wrap: wrap;<br>            justify-content: flex-start;<br>            width: 100%;<br>        }<br>        .wandb-col {<br>            display: flex;<br>            flex-direction: column;<br>            flex-basis: 100%;<br>            flex: 1;<br>            padding: 10px;<br>        }<br>    </style><br><div class=\"wandb-row\"><div class=\"wandb-col\"><h3>Run history:</h3><br/><table class=\"wandb\"><tr><td>accuracy</td><td>▁</td></tr><tr><td>areaUnderROC</td><td>▁</td></tr><tr><td>averagePrecision</td><td>▁</td></tr><tr><td>f1</td><td>▁</td></tr><tr><td>weightedPrecision</td><td>▁</td></tr><tr><td>weightedRecall</td><td>▁</td></tr></table><br/></div><div class=\"wandb-col\"><h3>Run summary:</h3><br/><table class=\"wandb\"><tr><td>accuracy</td><td>0.9778</td></tr><tr><td>areaUnderROC</td><td>0.966</td></tr><tr><td>averagePrecision</td><td>0.69958</td></tr><tr><td>f1</td><td>0.97666</td></tr><tr><td>weightedPrecision</td><td>0.977</td></tr><tr><td>weightedRecall</td><td>0.9778</td></tr></table><br/></div></div>"
      ],
      "text/plain": [
       "<IPython.core.display.HTML object>"
      ]
     },
     "metadata": {},
     "output_type": "display_data"
    },
    {
     "data": {
      "text/html": [
       " View run <strong style=\"color:#cdcd00\">run_250425_leave-one-in-group_distance-other-pqtl_train-holdout</strong> at: <a href='https://wandb.ai/open-targets/gentropy-locus-to-gene/runs/hr22pdk3' target=\"_blank\">https://wandb.ai/open-targets/gentropy-locus-to-gene/runs/hr22pdk3</a><br> View project at: <a href='https://wandb.ai/open-targets/gentropy-locus-to-gene' target=\"_blank\">https://wandb.ai/open-targets/gentropy-locus-to-gene</a><br>Synced 5 W&B file(s), 26 media file(s), 16 artifact file(s) and 0 other file(s)"
      ],
      "text/plain": [
       "<IPython.core.display.HTML object>"
      ]
     },
     "metadata": {},
     "output_type": "display_data"
    },
    {
     "data": {
      "text/html": [
       "Find logs at: <code>./wandb/run-20250425_143606-hr22pdk3/logs</code>"
      ],
      "text/plain": [
       "<IPython.core.display.HTML object>"
      ]
     },
     "metadata": {},
     "output_type": "display_data"
    },
    {
     "name": "stderr",
     "output_type": "stream",
     "text": [
      "ERROR:root:Training data set to none. Error: [Errno 2] No such file or directory: '../../data/l2g_leave_one_in_tests/models/distance-other-pqtl/training_data.parquet'\n",
      "25/04/25 14:39:30 WARN TaskSetManager: Stage 891 contains a task of very large size (30229 KiB). The maximum recommended task size is 1000 KiB.\n",
      "\u001b[34m\u001b[1mwandb\u001b[0m: \u001b[33mWARNING\u001b[0m If you're specifying your api key in code, ensure this code is not shared publicly.\n",
      "\u001b[34m\u001b[1mwandb\u001b[0m: \u001b[33mWARNING\u001b[0m Consider setting the WANDB_API_KEY environment variable, or running `wandb login` from the command line.\n",
      "\u001b[34m\u001b[1mwandb\u001b[0m: Appending key for api.wandb.ai to your netrc file: /home/mindos/.netrc\n",
      "                                                                                \r"
     ]
    },
    {
     "data": {
      "text/html": [
       "Tracking run with wandb version 0.19.8"
      ],
      "text/plain": [
       "<IPython.core.display.HTML object>"
      ]
     },
     "metadata": {},
     "output_type": "display_data"
    },
    {
     "data": {
      "text/html": [
       "Run data is saved locally in <code>/home/mindos/Projects/OpenTargets/Gentropy-manuscript/chapters/leave_one_group_in_analysis/wandb/run-20250425_144006-mfzsp9hr</code>"
      ],
      "text/plain": [
       "<IPython.core.display.HTML object>"
      ]
     },
     "metadata": {},
     "output_type": "display_data"
    },
    {
     "data": {
      "text/html": [
       "Syncing run <strong><a href='https://wandb.ai/open-targets/gentropy-locus-to-gene/runs/mfzsp9hr' target=\"_blank\">run_250425_leave-one-in-group_distance-other-sqtl_train-holdout</a></strong> to <a href='https://wandb.ai/open-targets/gentropy-locus-to-gene' target=\"_blank\">Weights & Biases</a> (<a href='https://wandb.me/developer-guide' target=\"_blank\">docs</a>)<br>"
      ],
      "text/plain": [
       "<IPython.core.display.HTML object>"
      ]
     },
     "metadata": {},
     "output_type": "display_data"
    },
    {
     "data": {
      "text/html": [
       " View project at <a href='https://wandb.ai/open-targets/gentropy-locus-to-gene' target=\"_blank\">https://wandb.ai/open-targets/gentropy-locus-to-gene</a>"
      ],
      "text/plain": [
       "<IPython.core.display.HTML object>"
      ]
     },
     "metadata": {},
     "output_type": "display_data"
    },
    {
     "data": {
      "text/html": [
       " View run at <a href='https://wandb.ai/open-targets/gentropy-locus-to-gene/runs/mfzsp9hr' target=\"_blank\">https://wandb.ai/open-targets/gentropy-locus-to-gene/runs/mfzsp9hr</a>"
      ],
      "text/plain": [
       "<IPython.core.display.HTML object>"
      ]
     },
     "metadata": {},
     "output_type": "display_data"
    },
    {
     "name": "stderr",
     "output_type": "stream",
     "text": [
      "\u001b[34m\u001b[1mwandb\u001b[0m: \n",
      "\u001b[34m\u001b[1mwandb\u001b[0m: Plotting L2G-classifier.\n",
      "\u001b[34m\u001b[1mwandb\u001b[0m: Logged feature importances.\n",
      "\u001b[34m\u001b[1mwandb\u001b[0m: Logged confusion matrix.\n",
      "\u001b[34m\u001b[1mwandb\u001b[0m: Logged summary metrics.\n",
      "\u001b[34m\u001b[1mwandb\u001b[0m: Logged class proportions.\n",
      "/home/mindos/Projects/OpenTargets/Gentropy-manuscript/.venv/lib/python3.11/site-packages/sklearn/linear_model/_logistic.py:465: ConvergenceWarning:\n",
      "\n",
      "lbfgs failed to converge (status=1):\n",
      "STOP: TOTAL NO. of ITERATIONS REACHED LIMIT.\n",
      "\n",
      "Increase the number of iterations (max_iter) or scale the data as shown in:\n",
      "    https://scikit-learn.org/stable/modules/preprocessing.html\n",
      "Please also refer to the documentation for alternative solver options:\n",
      "    https://scikit-learn.org/stable/modules/linear_model.html#logistic-regression\n",
      "\n",
      "\u001b[34m\u001b[1mwandb\u001b[0m: Logged calibration curve.\n",
      "\u001b[34m\u001b[1mwandb\u001b[0m: Logged roc curve.\n",
      "\u001b[34m\u001b[1mwandb\u001b[0m: Logged precision-recall curve.\n",
      "\u001b[34m\u001b[1mwandb\u001b[0m: Logged Shapley contributions.\n"
     ]
    },
    {
     "data": {
      "text/html": [],
      "text/plain": [
       "<IPython.core.display.HTML object>"
      ]
     },
     "metadata": {},
     "output_type": "display_data"
    },
    {
     "data": {
      "text/html": [
       "<br>    <style><br>        .wandb-row {<br>            display: flex;<br>            flex-direction: row;<br>            flex-wrap: wrap;<br>            justify-content: flex-start;<br>            width: 100%;<br>        }<br>        .wandb-col {<br>            display: flex;<br>            flex-direction: column;<br>            flex-basis: 100%;<br>            flex: 1;<br>            padding: 10px;<br>        }<br>    </style><br><div class=\"wandb-row\"><div class=\"wandb-col\"><h3>Run history:</h3><br/><table class=\"wandb\"><tr><td>accuracy</td><td>▁</td></tr><tr><td>areaUnderROC</td><td>▁</td></tr><tr><td>averagePrecision</td><td>▁</td></tr><tr><td>f1</td><td>▁</td></tr><tr><td>weightedPrecision</td><td>▁</td></tr><tr><td>weightedRecall</td><td>▁</td></tr></table><br/></div><div class=\"wandb-col\"><h3>Run summary:</h3><br/><table class=\"wandb\"><tr><td>accuracy</td><td>0.97371</td></tr><tr><td>areaUnderROC</td><td>0.96377</td></tr><tr><td>averagePrecision</td><td>0.64634</td></tr><tr><td>f1</td><td>0.97218</td></tr><tr><td>weightedPrecision</td><td>0.97246</td></tr><tr><td>weightedRecall</td><td>0.97371</td></tr></table><br/></div></div>"
      ],
      "text/plain": [
       "<IPython.core.display.HTML object>"
      ]
     },
     "metadata": {},
     "output_type": "display_data"
    },
    {
     "data": {
      "text/html": [
       " View run <strong style=\"color:#cdcd00\">run_250425_leave-one-in-group_distance-other-sqtl_train-holdout</strong> at: <a href='https://wandb.ai/open-targets/gentropy-locus-to-gene/runs/mfzsp9hr' target=\"_blank\">https://wandb.ai/open-targets/gentropy-locus-to-gene/runs/mfzsp9hr</a><br> View project at: <a href='https://wandb.ai/open-targets/gentropy-locus-to-gene' target=\"_blank\">https://wandb.ai/open-targets/gentropy-locus-to-gene</a><br>Synced 5 W&B file(s), 26 media file(s), 16 artifact file(s) and 0 other file(s)"
      ],
      "text/plain": [
       "<IPython.core.display.HTML object>"
      ]
     },
     "metadata": {},
     "output_type": "display_data"
    },
    {
     "data": {
      "text/html": [
       "Find logs at: <code>./wandb/run-20250425_144006-mfzsp9hr/logs</code>"
      ],
      "text/plain": [
       "<IPython.core.display.HTML object>"
      ]
     },
     "metadata": {},
     "output_type": "display_data"
    },
    {
     "name": "stderr",
     "output_type": "stream",
     "text": [
      "ERROR:root:Training data set to none. Error: [Errno 2] No such file or directory: '../../data/l2g_leave_one_in_tests/models/distance-other-sqtl/training_data.parquet'\n",
      "25/04/25 14:43:32 WARN TaskSetManager: Stage 1038 contains a task of very large size (30229 KiB). The maximum recommended task size is 1000 KiB.\n",
      "                                                                                \r"
     ]
    }
   ],
   "source": [
    "names = train_parameters.keys()\n",
    "for name in names:\n",
    "    LocusToGeneStep(session=session, **train_parameters[name])\n",
    "    LocusToGeneStep(session=session, **pred_parameters[name])\n"
   ]
  },
  {
   "cell_type": "code",
   "execution_count": null,
   "metadata": {},
   "outputs": [],
   "source": [
    "# Upload to gcs\n",
    "!gcloud storage rsync -r ../../data/l2g_leave_one_in_tests gs://genetics-portal-dev-analysis/ss60/gentropy-manuscript/chapters/leave_one_group_in_analysis\n"
   ]
  }
 ],
 "metadata": {
  "kernelspec": {
   "display_name": ".venv",
   "language": "python",
   "name": "python3"
  },
  "language_info": {
   "codemirror_mode": {
    "name": "ipython",
    "version": 3
   },
   "file_extension": ".py",
   "mimetype": "text/x-python",
   "name": "python",
   "nbconvert_exporter": "python",
   "pygments_lexer": "ipython3",
   "version": "3.11.11"
  }
 },
 "nbformat": 4,
 "nbformat_minor": 2
}

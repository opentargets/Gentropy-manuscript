{
 "cells": [
  {
   "cell_type": "code",
   "execution_count": null,
   "id": "7d5b65ae",
   "metadata": {},
   "outputs": [],
   "source": [
    "!gcloud auth login"
   ]
  },
  {
   "cell_type": "code",
   "execution_count": 1,
   "id": "0aa34d6a",
   "metadata": {},
   "outputs": [
    {
     "data": {
      "text/html": [
       "    <style>\n",
       "        .bk-notebook-logo {\n",
       "            display: block;\n",
       "            width: 20px;\n",
       "            height: 20px;\n",
       "            background-image: url(data:image/png;base64,iVBORw0KGgoAAAANSUhEUgAAABQAAAAUCAYAAACNiR0NAAAABHNCSVQICAgIfAhkiAAAAAlwSFlzAAALEgAACxIB0t1+/AAAABx0RVh0U29mdHdhcmUAQWRvYmUgRmlyZXdvcmtzIENTNui8sowAAAOkSURBVDiNjZRtaJVlGMd/1/08zzln5zjP1LWcU9N0NkN8m2CYjpgQYQXqSs0I84OLIC0hkEKoPtiH3gmKoiJDU7QpLgoLjLIQCpEsNJ1vqUOdO7ppbuec5+V+rj4ctwzd8IIbbi6u+8f1539dt3A78eXC7QizUF7gyV1fD1Yqg4JWz84yffhm0qkFqBogB9rM8tZdtwVsPUhWhGcFJngGeWrPzHm5oaMmkfEg1usvLFyc8jLRqDOMru7AyC8saQr7GG7f5fvDeH7Ej8CM66nIF+8yngt6HWaKh7k49Soy9nXurCi1o3qUbS3zWfrYeQDTB/Qj6kX6Ybhw4B+bOYoLKCC9H3Nu/leUTZ1JdRWkkn2ldcCamzrcf47KKXdAJllSlxAOkRgyHsGC/zRday5Qld9DyoM4/q/rUoy/CXh3jzOu3bHUVZeU+DEn8FInkPBFlu3+nW3Nw0mk6vCDiWg8CeJaxEwuHS3+z5RgY+YBR6V1Z1nxSOfoaPa4LASWxxdNp+VWTk7+4vzaou8v8PN+xo+KY2xsw6une2frhw05CTYOmQvsEhjhWjn0bmXPjpE1+kplmmkP3suftwTubK9Vq22qKmrBhpY4jvd5afdRA3wGjFAgcnTK2s4hY0/GPNIb0nErGMCRxWOOX64Z8RAC4oCXdklmEvcL8o0BfkNK4lUg9HTl+oPlQxdNo3Mg4Nv175e/1LDGzZen30MEjRUtmXSfiTVu1kK8W4txyV6BMKlbgk3lMwYCiusNy9fVfvvwMxv8Ynl6vxoByANLTWplvuj/nF9m2+PDtt1eiHPBr1oIfhCChQMBw6Aw0UulqTKZdfVvfG7VcfIqLG9bcldL/+pdWTLxLUy8Qq38heUIjh4XlzZxzQm19lLFlr8vdQ97rjZVOLf8nclzckbcD4wxXMidpX30sFd37Fv/GtwwhzhxGVAprjbg0gCAEeIgwCZyTV2Z1REEW8O4py0wsjeloKoMr6iCY6dP92H6Vw/oTyICIthibxjm/DfN9lVz8IqtqKYLUXfoKVMVQVVJOElGjrnnUt9T9wbgp8AyYKaGlqingHZU/uG2NTZSVqwHQTWkx9hxjkpWDaCg6Ckj5qebgBVbT3V3NNXMSiWSDdGV3hrtzla7J+duwPOToIg42ChPQOQjspnSlp1V+Gjdged7+8UN5CRAV7a5EdFNwCjEaBR27b3W890TE7g24NAP/mMDXRWrGoFPQI9ls/MWO2dWFAar/xcOIImbbpA3zgAAAABJRU5ErkJggg==);\n",
       "        }\n",
       "    </style>\n",
       "    <div>\n",
       "        <a href=\"https://bokeh.org\" target=\"_blank\" class=\"bk-notebook-logo\"></a>\n",
       "        <span id=\"cdc45cb7-3187-4f0c-a41c-619afbd355e3\">Loading BokehJS ...</span>\n",
       "    </div>\n"
      ]
     },
     "metadata": {},
     "output_type": "display_data"
    },
    {
     "data": {
      "application/javascript": "(function(root) {\n  function now() {\n    return new Date();\n  }\n\n  const force = true;\n\n  if (typeof root._bokeh_onload_callbacks === \"undefined\" || force === true) {\n    root._bokeh_onload_callbacks = [];\n    root._bokeh_is_loading = undefined;\n  }\n\nconst JS_MIME_TYPE = 'application/javascript';\n  const HTML_MIME_TYPE = 'text/html';\n  const EXEC_MIME_TYPE = 'application/vnd.bokehjs_exec.v0+json';\n  const CLASS_NAME = 'output_bokeh rendered_html';\n\n  /**\n   * Render data to the DOM node\n   */\n  function render(props, node) {\n    const script = document.createElement(\"script\");\n    node.appendChild(script);\n  }\n\n  /**\n   * Handle when an output is cleared or removed\n   */\n  function handleClearOutput(event, handle) {\n    function drop(id) {\n      const view = Bokeh.index.get_by_id(id)\n      if (view != null) {\n        view.model.document.clear()\n        Bokeh.index.delete(view)\n      }\n    }\n\n    const cell = handle.cell;\n\n    const id = cell.output_area._bokeh_element_id;\n    const server_id = cell.output_area._bokeh_server_id;\n\n    // Clean up Bokeh references\n    if (id != null) {\n      drop(id)\n    }\n\n    if (server_id !== undefined) {\n      // Clean up Bokeh references\n      const cmd_clean = \"from bokeh.io.state import curstate; print(curstate().uuid_to_server['\" + server_id + \"'].get_sessions()[0].document.roots[0]._id)\";\n      cell.notebook.kernel.execute(cmd_clean, {\n        iopub: {\n          output: function(msg) {\n            const id = msg.content.text.trim()\n            drop(id)\n          }\n        }\n      });\n      // Destroy server and session\n      const cmd_destroy = \"import bokeh.io.notebook as ion; ion.destroy_server('\" + server_id + \"')\";\n      cell.notebook.kernel.execute(cmd_destroy);\n    }\n  }\n\n  /**\n   * Handle when a new output is added\n   */\n  function handleAddOutput(event, handle) {\n    const output_area = handle.output_area;\n    const output = handle.output;\n\n    // limit handleAddOutput to display_data with EXEC_MIME_TYPE content only\n    if ((output.output_type != \"display_data\") || (!Object.prototype.hasOwnProperty.call(output.data, EXEC_MIME_TYPE))) {\n      return\n    }\n\n    const toinsert = output_area.element.find(\".\" + CLASS_NAME.split(' ')[0]);\n\n    if (output.metadata[EXEC_MIME_TYPE][\"id\"] !== undefined) {\n      toinsert[toinsert.length - 1].firstChild.textContent = output.data[JS_MIME_TYPE];\n      // store reference to embed id on output_area\n      output_area._bokeh_element_id = output.metadata[EXEC_MIME_TYPE][\"id\"];\n    }\n    if (output.metadata[EXEC_MIME_TYPE][\"server_id\"] !== undefined) {\n      const bk_div = document.createElement(\"div\");\n      bk_div.innerHTML = output.data[HTML_MIME_TYPE];\n      const script_attrs = bk_div.children[0].attributes;\n      for (let i = 0; i < script_attrs.length; i++) {\n        toinsert[toinsert.length - 1].firstChild.setAttribute(script_attrs[i].name, script_attrs[i].value);\n        toinsert[toinsert.length - 1].firstChild.textContent = bk_div.children[0].textContent\n      }\n      // store reference to server id on output_area\n      output_area._bokeh_server_id = output.metadata[EXEC_MIME_TYPE][\"server_id\"];\n    }\n  }\n\n  function register_renderer(events, OutputArea) {\n\n    function append_mime(data, metadata, element) {\n      // create a DOM node to render to\n      const toinsert = this.create_output_subarea(\n        metadata,\n        CLASS_NAME,\n        EXEC_MIME_TYPE\n      );\n      this.keyboard_manager.register_events(toinsert);\n      // Render to node\n      const props = {data: data, metadata: metadata[EXEC_MIME_TYPE]};\n      render(props, toinsert[toinsert.length - 1]);\n      element.append(toinsert);\n      return toinsert\n    }\n\n    /* Handle when an output is cleared or removed */\n    events.on('clear_output.CodeCell', handleClearOutput);\n    events.on('delete.Cell', handleClearOutput);\n\n    /* Handle when a new output is added */\n    events.on('output_added.OutputArea', handleAddOutput);\n\n    /**\n     * Register the mime type and append_mime function with output_area\n     */\n    OutputArea.prototype.register_mime_type(EXEC_MIME_TYPE, append_mime, {\n      /* Is output safe? */\n      safe: true,\n      /* Index of renderer in `output_area.display_order` */\n      index: 0\n    });\n  }\n\n  // register the mime type if in Jupyter Notebook environment and previously unregistered\n  if (root.Jupyter !== undefined) {\n    const events = require('base/js/events');\n    const OutputArea = require('notebook/js/outputarea').OutputArea;\n\n    if (OutputArea.prototype.mime_types().indexOf(EXEC_MIME_TYPE) == -1) {\n      register_renderer(events, OutputArea);\n    }\n  }\n  if (typeof (root._bokeh_timeout) === \"undefined\" || force === true) {\n    root._bokeh_timeout = Date.now() + 5000;\n    root._bokeh_failed_load = false;\n  }\n\n  const NB_LOAD_WARNING = {'data': {'text/html':\n     \"<div style='background-color: #fdd'>\\n\"+\n     \"<p>\\n\"+\n     \"BokehJS does not appear to have successfully loaded. If loading BokehJS from CDN, this \\n\"+\n     \"may be due to a slow or bad network connection. Possible fixes:\\n\"+\n     \"</p>\\n\"+\n     \"<ul>\\n\"+\n     \"<li>re-rerun `output_notebook()` to attempt to load from CDN again, or</li>\\n\"+\n     \"<li>use INLINE resources instead, as so:</li>\\n\"+\n     \"</ul>\\n\"+\n     \"<code>\\n\"+\n     \"from bokeh.resources import INLINE\\n\"+\n     \"output_notebook(resources=INLINE)\\n\"+\n     \"</code>\\n\"+\n     \"</div>\"}};\n\n  function display_loaded() {\n    const el = document.getElementById(\"cdc45cb7-3187-4f0c-a41c-619afbd355e3\");\n    if (el != null) {\n      el.textContent = \"BokehJS is loading...\";\n    }\n    if (root.Bokeh !== undefined) {\n      if (el != null) {\n        el.textContent = \"BokehJS \" + root.Bokeh.version + \" successfully loaded.\";\n      }\n    } else if (Date.now() < root._bokeh_timeout) {\n      setTimeout(display_loaded, 100)\n    }\n  }\n\n  function run_callbacks() {\n    try {\n      root._bokeh_onload_callbacks.forEach(function(callback) {\n        if (callback != null)\n          callback();\n      });\n    } finally {\n      delete root._bokeh_onload_callbacks\n    }\n    console.debug(\"Bokeh: all callbacks have finished\");\n  }\n\n  function load_libs(css_urls, js_urls, callback) {\n    if (css_urls == null) css_urls = [];\n    if (js_urls == null) js_urls = [];\n\n    root._bokeh_onload_callbacks.push(callback);\n    if (root._bokeh_is_loading > 0) {\n      console.debug(\"Bokeh: BokehJS is being loaded, scheduling callback at\", now());\n      return null;\n    }\n    if (js_urls == null || js_urls.length === 0) {\n      run_callbacks();\n      return null;\n    }\n    console.debug(\"Bokeh: BokehJS not loaded, scheduling load and callback at\", now());\n    root._bokeh_is_loading = css_urls.length + js_urls.length;\n\n    function on_load() {\n      root._bokeh_is_loading--;\n      if (root._bokeh_is_loading === 0) {\n        console.debug(\"Bokeh: all BokehJS libraries/stylesheets loaded\");\n        run_callbacks()\n      }\n    }\n\n    function on_error(url) {\n      console.error(\"failed to load \" + url);\n    }\n\n    for (let i = 0; i < css_urls.length; i++) {\n      const url = css_urls[i];\n      const element = document.createElement(\"link\");\n      element.onload = on_load;\n      element.onerror = on_error.bind(null, url);\n      element.rel = \"stylesheet\";\n      element.type = \"text/css\";\n      element.href = url;\n      console.debug(\"Bokeh: injecting link tag for BokehJS stylesheet: \", url);\n      document.body.appendChild(element);\n    }\n\n    for (let i = 0; i < js_urls.length; i++) {\n      const url = js_urls[i];\n      const element = document.createElement('script');\n      element.onload = on_load;\n      element.onerror = on_error.bind(null, url);\n      element.async = false;\n      element.src = url;\n      console.debug(\"Bokeh: injecting script tag for BokehJS library: \", url);\n      document.head.appendChild(element);\n    }\n  };\n\n  function inject_raw_css(css) {\n    const element = document.createElement(\"style\");\n    element.appendChild(document.createTextNode(css));\n    document.body.appendChild(element);\n  }\n\n  const js_urls = [\"https://cdn.bokeh.org/bokeh/release/bokeh-3.3.4.min.js\", \"https://cdn.bokeh.org/bokeh/release/bokeh-gl-3.3.4.min.js\", \"https://cdn.bokeh.org/bokeh/release/bokeh-widgets-3.3.4.min.js\", \"https://cdn.bokeh.org/bokeh/release/bokeh-tables-3.3.4.min.js\", \"https://cdn.bokeh.org/bokeh/release/bokeh-mathjax-3.3.4.min.js\"];\n  const css_urls = [];\n\n  const inline_js = [    function(Bokeh) {\n      Bokeh.set_log_level(\"info\");\n    },\nfunction(Bokeh) {\n    }\n  ];\n\n  function run_inline_js() {\n    if (root.Bokeh !== undefined || force === true) {\n          for (let i = 0; i < inline_js.length; i++) {\n      inline_js[i].call(root, root.Bokeh);\n    }\nif (force === true) {\n        display_loaded();\n      }} else if (Date.now() < root._bokeh_timeout) {\n      setTimeout(run_inline_js, 100);\n    } else if (!root._bokeh_failed_load) {\n      console.log(\"Bokeh: BokehJS failed to load within specified timeout.\");\n      root._bokeh_failed_load = true;\n    } else if (force !== true) {\n      const cell = $(document.getElementById(\"cdc45cb7-3187-4f0c-a41c-619afbd355e3\")).parents('.cell').data().cell;\n      cell.output_area.append_execute_result(NB_LOAD_WARNING)\n    }\n  }\n\n  if (root._bokeh_is_loading === 0) {\n    console.debug(\"Bokeh: BokehJS loaded, going straight to plotting\");\n    run_inline_js();\n  } else {\n    load_libs(css_urls, js_urls, function() {\n      console.debug(\"Bokeh: BokehJS plotting callback run at\", now());\n      run_inline_js();\n    });\n  }\n}(window));",
      "application/vnd.bokehjs_load.v0+json": ""
     },
     "metadata": {},
     "output_type": "display_data"
    },
    {
     "name": "stderr",
     "output_type": "stream",
     "text": [
      "Setting default log level to \"WARN\".\n",
      "To adjust logging level use sc.setLogLevel(newLevel). For SparkR, use setLogLevel(newLevel).\n",
      "25/07/02 18:06:09 WARN NativeCodeLoader: Unable to load native-hadoop library for your platform... using builtin-java classes where applicable\n"
     ]
    }
   ],
   "source": [
    "import os\n",
    "\n",
    "import hail as hl\n",
    "import numpy as np\n",
    "import pyspark.sql.functions as f\n",
    "from pyspark.sql import DataFrame\n",
    "\n",
    "from gentropy.common.session import Session\n",
    "from gentropy.dataset.study_index import StudyIndex\n",
    "from gentropy.dataset.summary_statistics import SummaryStatistics\n",
    "from gentropy.dataset.study_locus import StudyLocus\n",
    "from gentropy.susie_finemapper import SusieFineMapperStep\n",
    "from gentropy.method.drug_enrichment_from_evid import chemblDrugEnrichment\n",
    "\n",
    "\"\"\"Common utilities for the project.\"\"\"\n",
    "\n",
    "import os\n",
    "from pathlib import Path\n",
    "from gentropy.common.session import Session\n",
    "import logging\n",
    "\n",
    "\n",
    "def get_gcs_credentials() -> str:\n",
    "    \"\"\"Get the credentials for google cloud storage.\"\"\"\n",
    "    app_default_credentials = os.path.join(\n",
    "        os.getenv(\"HOME\", \".\"), \".config/gcloud/application_default_credentials.json\"\n",
    "    )\n",
    "\n",
    "    service_account_credentials = os.path.join(\n",
    "        os.getenv(\"HOME\", \".\"), \".config/gcloud/service_account_credentials.json\"\n",
    "    )\n",
    "\n",
    "    if Path(app_default_credentials).exists():\n",
    "        return app_default_credentials\n",
    "    else:\n",
    "        raise FileNotFoundError(\"No GCS credentials found.\")\n",
    "\n",
    "\n",
    "def get_gcs_hadoop_connector_jar() -> str:\n",
    "    \"\"\"Get the google cloud storage hadoop connector for spark.\n",
    "\n",
    "    This function will return the url to download the hadoop jar.\n",
    "    \"\"\"\n",
    "\n",
    "    return (\n",
    "        \"https://storage.googleapis.com/hadoop-lib/gcs/gcs-connector-hadoop3-latest.jar\"\n",
    "    )\n",
    "\n",
    "\n",
    "def gcs_conf(\n",
    "    credentials_path=None, project=\"open-targets-genetics-dev\"\n",
    ") -> dict[str, str]:\n",
    "    \"\"\"Get the spark configuration with hadoop connector for google cloud storage.\"\"\"\n",
    "    credentials_path = credentials_path or get_gcs_credentials()\n",
    "    return {\n",
    "        \"spark.driver.memory\": \"12g\",\n",
    "        \"spark.kryoserializer.buffer.max\": \"500m\",\n",
    "        \"spark.driver.maxResultSize\":\"2g\",\n",
    "        \"spark.hadoop.fs.gs.impl\": \"com.google.cloud.hadoop.fs.gcs.GoogleHadoopFileSystem\",\n",
    "        \"spark.jars\": get_gcs_hadoop_connector_jar(),\n",
    "        \"spark.hadoop.google.cloud.auth.service.account.enable\": \"true\",\n",
    "        \"spark.hadoop.fs.gs.project.id\": project,\n",
    "        \"spark.hadoop.google.cloud.auth.service.account.json.keyfile\": credentials_path,\n",
    "        \"spark.hadoop.fs.gs.requester.pays.mode\": \"AUTO\",\n",
    "    }\n",
    "\n",
    "\n",
    "class GentropySession(Session):\n",
    "    def __init__(self, *args, **kwargs):\n",
    "        if \"extended_spark_conf\" in kwargs:\n",
    "            kwargs[\"extended_spark_conf\"].update(gcs_conf())\n",
    "        else:\n",
    "            kwargs[\"extended_spark_conf\"] = gcs_conf()\n",
    "        super().__init__(*args, **kwargs)\n",
    "\n",
    "    @property\n",
    "    def conf(self):\n",
    "        logging.warning(\n",
    "            \"To change the config restart the session and use the `extended_spark_conf` parameter.\"\n",
    "        )\n",
    "        return self.spark.sparkContext.getConf().getAll()\n",
    "\n",
    "session= GentropySession()\n"
   ]
  },
  {
   "cell_type": "code",
   "execution_count": 2,
   "id": "a2b6d870",
   "metadata": {},
   "outputs": [
    {
     "name": "stderr",
     "output_type": "stream",
     "text": [
      "                                                                                \r"
     ]
    }
   ],
   "source": [
    "path_to_release_folder=\"gs://open-targets-data-releases/25.06/\"\n",
    "\n",
    "\n",
    "si=StudyIndex.from_parquet(session,path_to_release_folder+\"output/study/\")\n",
    "sl=StudyLocus.from_parquet(session,path_to_release_folder+\"output/credible_set/\")"
   ]
  },
  {
   "cell_type": "code",
   "execution_count": 3,
   "id": "49955bcb",
   "metadata": {},
   "outputs": [],
   "source": [
    "# combinig it with l2g predictions\n",
    "l2g=session.spark.read.parquet(\"gs://ot-team/irene/l2g/xgboost/2706/l2g_predictions\").select(\"studyLocusId\",\"geneId\",\"score\")"
   ]
  },
  {
   "cell_type": "code",
   "execution_count": 4,
   "id": "82c110ee",
   "metadata": {},
   "outputs": [
    {
     "name": "stderr",
     "output_type": "stream",
     "text": [
      "25/06/27 14:30:09 WARN SparkStringUtils: Truncated the string representation of a plan since it was too large. This behavior can be adjusted by setting 'spark.sql.debug.maxToStringFields'.\n",
      "                                                                                \r"
     ]
    },
    {
     "data": {
      "text/plain": [
       "10623371"
      ]
     },
     "execution_count": 4,
     "metadata": {},
     "output_type": "execute_result"
    }
   ],
   "source": [
    "fm=session.spark.read.parquet(path_to_release_folder+\"intermediate/l2g_feature_matrix/\")\n",
    "fm=fm.filter(f.col(\"isProteinCoding\")==1).cache()\n",
    "fm.count()"
   ]
  },
  {
   "cell_type": "code",
   "execution_count": 26,
   "id": "8b3dbfcb",
   "metadata": {},
   "outputs": [
    {
     "name": "stderr",
     "output_type": "stream",
     "text": [
      "25/06/27 14:49:20 WARN CacheManager: Asked to cache already cached data.\n"
     ]
    },
    {
     "data": {
      "text/plain": [
       "10623371"
      ]
     },
     "execution_count": 26,
     "metadata": {},
     "output_type": "execute_result"
    }
   ],
   "source": [
    "combined_df = fm.join(l2g.select(\"studyLocusId\", \"geneId\", \"score\"), on=[\"geneId\", \"studyLocusId\"], how=\"left\").fillna(0).cache()\n",
    "combined_df.count()"
   ]
  },
  {
   "cell_type": "code",
   "execution_count": 27,
   "id": "3bac33dc",
   "metadata": {},
   "outputs": [
    {
     "name": "stderr",
     "output_type": "stream",
     "text": [
      "                                                                                \r"
     ]
    },
    {
     "data": {
      "text/plain": [
       "10623371"
      ]
     },
     "execution_count": 27,
     "metadata": {},
     "output_type": "execute_result"
    }
   ],
   "source": [
    "clpp_thr=0.01\n",
    "coloc_thr=0.8\n",
    "\n",
    "combined_df = combined_df.withColumn(\n",
    "    \"eQTL_coloc\",\n",
    "    f.when(\n",
    "    (f.col(\"eQtlColocClppMaximum\")>=clpp_thr) | \n",
    "    (f.col(\"eQtlColocH4Maximum\")>=coloc_thr), 1).otherwise(0)\n",
    ")\n",
    "combined_df = combined_df.withColumn(\n",
    "    \"pQTL_coloc\",\n",
    "    f.when(\n",
    "    (f.col(\"pQtlColocClppMaximum\")>=clpp_thr) | \n",
    "    (f.col(\"pQtlColocH4Maximum\")>=coloc_thr), 1).otherwise(0)\n",
    ")\n",
    "combined_df = combined_df.withColumn(\n",
    "    \"VEP\",\n",
    "    f.when((f.col(\"vepMaximum\")>=0.66), 1).otherwise(0)\n",
    ")\n",
    "#combined_df = combined_df.withColumn(\n",
    "#    \"distance\",\n",
    "#    f.when((f.col(\"distanceSentinelFootprintNeighbourhood\")==1) |\n",
    "#    (f.col(\"distanceSentinelTssNeighbourhood\")==1), 1).otherwise(0)\n",
    "#).cache()\n",
    "\n",
    "combined_df = combined_df.withColumn(\n",
    "    \"distanceTSS\",\n",
    "    f.when(f.col(\"distanceSentinelTssNeighbourhood\")==1, 1).otherwise(0)\n",
    ").cache()\n",
    "\n",
    "\n",
    "\n",
    "combined_df.count()"
   ]
  },
  {
   "cell_type": "code",
   "execution_count": 7,
   "id": "fac5fc31",
   "metadata": {},
   "outputs": [
    {
     "name": "stderr",
     "output_type": "stream",
     "text": [
      "                                                                                \r"
     ]
    },
    {
     "data": {
      "text/plain": [
       "499878"
      ]
     },
     "execution_count": 7,
     "metadata": {},
     "output_type": "execute_result"
    }
   ],
   "source": [
    "l2g_05=l2g.filter(f.col(\"score\")>=0.5).cache()\n",
    "cs_with_l2g=l2g_05.select(\"studyLocusId\").distinct()\n",
    "cs_with_l2g.count()"
   ]
  },
  {
   "cell_type": "code",
   "execution_count": 16,
   "id": "a6d6230d",
   "metadata": {},
   "outputs": [
    {
     "data": {
      "text/plain": [
       "524241"
      ]
     },
     "execution_count": 16,
     "metadata": {},
     "output_type": "execute_result"
    }
   ],
   "source": [
    "l2g_05.count()"
   ]
  },
  {
   "cell_type": "code",
   "execution_count": 8,
   "id": "2f119af9",
   "metadata": {},
   "outputs": [
    {
     "name": "stderr",
     "output_type": "stream",
     "text": [
      "                                                                                \r"
     ]
    },
    {
     "data": {
      "text/plain": [
       "4679891"
      ]
     },
     "execution_count": 8,
     "metadata": {},
     "output_type": "execute_result"
    }
   ],
   "source": [
    "l2g_no_05=l2g.join(cs_with_l2g, on=\"studyLocusId\", how=\"left_anti\").cache()\n",
    "l2g_no_05.count()"
   ]
  },
  {
   "cell_type": "code",
   "execution_count": 9,
   "id": "c4e51b19",
   "metadata": {},
   "outputs": [
    {
     "name": "stderr",
     "output_type": "stream",
     "text": [
      "                                                                                \r"
     ]
    },
    {
     "data": {
      "text/plain": [
       "274431"
      ]
     },
     "execution_count": 9,
     "metadata": {},
     "output_type": "execute_result"
    }
   ],
   "source": [
    "l2g_no_05.select(\"studyLocusId\").distinct().count()"
   ]
  },
  {
   "cell_type": "code",
   "execution_count": 10,
   "id": "a69ce0ca",
   "metadata": {},
   "outputs": [
    {
     "name": "stderr",
     "output_type": "stream",
     "text": [
      "                                                                                \r"
     ]
    },
    {
     "data": {
      "text/plain": [
       "274431"
      ]
     },
     "execution_count": 10,
     "metadata": {},
     "output_type": "execute_result"
    }
   ],
   "source": [
    "from pyspark.sql import Window\n",
    "\n",
    "# Define a window specification partitioned by studyLocusId and ordered by score descending\n",
    "window_spec = Window.partitionBy(\"studyLocusId\").orderBy(f.desc(\"score\"))\n",
    "\n",
    "# Add a row_number column to rank rows within each studyLocusId partition\n",
    "l2g_no_05_ranked = l2g_no_05.withColumn(\"row_number\", f.row_number().over(window_spec))\n",
    "\n",
    "# Filter rows where row_number is 1 (i.e., the max score for each studyLocusId)\n",
    "l2g_no_05_max = l2g_no_05_ranked.filter(f.col(\"row_number\") == 1).drop(\"row_number\")\n",
    "\n",
    "# Show the result\n",
    "l2g_no_05_max.count()"
   ]
  },
  {
   "cell_type": "code",
   "execution_count": 11,
   "id": "f9a18b20",
   "metadata": {},
   "outputs": [
    {
     "name": "stderr",
     "output_type": "stream",
     "text": [
      "                                                                                \r"
     ]
    },
    {
     "data": {
      "text/plain": [
       "274431"
      ]
     },
     "execution_count": 11,
     "metadata": {},
     "output_type": "execute_result"
    }
   ],
   "source": [
    "l2g_no_05_max.select(\"studyLocusId\").distinct().count()"
   ]
  },
  {
   "cell_type": "code",
   "execution_count": 13,
   "id": "4e77f0c1",
   "metadata": {},
   "outputs": [
    {
     "name": "stdout",
     "output_type": "stream",
     "text": [
      "+--------------------+---------------+----------+\n",
      "|        studyLocusId|         geneId|     score|\n",
      "+--------------------+---------------+----------+\n",
      "|002462a2da2f7c279...|ENSG00000215547|0.47645262|\n",
      "|00a70f45252881a9f...|ENSG00000254636| 0.4249295|\n",
      "|00badf4cd2ff71a2c...|ENSG00000105655|0.20505728|\n",
      "|00bbe340d79fe1aa1...|ENSG00000077549|0.44006506|\n",
      "+--------------------+---------------+----------+\n",
      "only showing top 4 rows\n",
      "\n"
     ]
    }
   ],
   "source": [
    "l2g_no_05_max.show(4)"
   ]
  },
  {
   "cell_type": "code",
   "execution_count": 18,
   "id": "2957446c",
   "metadata": {},
   "outputs": [
    {
     "name": "stderr",
     "output_type": "stream",
     "text": [
      "                                                                                \r"
     ]
    },
    {
     "data": {
      "text/plain": [
       "261020"
      ]
     },
     "execution_count": 18,
     "metadata": {},
     "output_type": "execute_result"
    }
   ],
   "source": [
    "l2g_no_05_max_01=l2g_no_05_max.filter(f.col(\"score\")>=0.1).cache()\n",
    "l2g_no_05_max_01.count()"
   ]
  },
  {
   "cell_type": "code",
   "execution_count": 19,
   "id": "392df77c",
   "metadata": {},
   "outputs": [
    {
     "data": {
      "text/plain": [
       "785261"
      ]
     },
     "execution_count": 19,
     "metadata": {},
     "output_type": "execute_result"
    }
   ],
   "source": [
    "l2g_prioritised=l2g_no_05_max_01.unionByName(l2g_05.select(\"studyLocusId\", \"geneId\", \"score\")).cache()\n",
    "l2g_prioritised.count()"
   ]
  },
  {
   "cell_type": "code",
   "execution_count": 20,
   "id": "b26dab66",
   "metadata": {},
   "outputs": [
    {
     "data": {
      "text/plain": [
       "785261"
      ]
     },
     "execution_count": 20,
     "metadata": {},
     "output_type": "execute_result"
    }
   ],
   "source": [
    "261020+524241"
   ]
  },
  {
   "cell_type": "code",
   "execution_count": 22,
   "id": "a903bfdf",
   "metadata": {},
   "outputs": [
    {
     "name": "stdout",
     "output_type": "stream",
     "text": [
      "+--------------------+---------------+----------+\n",
      "|        studyLocusId|         geneId|     score|\n",
      "+--------------------+---------------+----------+\n",
      "|002462a2da2f7c279...|ENSG00000215547|0.47645262|\n",
      "+--------------------+---------------+----------+\n",
      "only showing top 1 row\n",
      "\n"
     ]
    }
   ],
   "source": [
    "l2g_prioritised.show(1)"
   ]
  },
  {
   "cell_type": "code",
   "execution_count": 31,
   "id": "682307aa",
   "metadata": {},
   "outputs": [
    {
     "name": "stderr",
     "output_type": "stream",
     "text": [
      "                                                                                \r"
     ]
    },
    {
     "data": {
      "text/plain": [
       "785261"
      ]
     },
     "execution_count": 31,
     "metadata": {},
     "output_type": "execute_result"
    }
   ],
   "source": [
    "final=combined_df.select(\n",
    "    \"studyLocusId\",\n",
    "    \"geneId\",\n",
    "    \"score\",\n",
    "    \"eQTL_coloc\",\n",
    "    \"pQTL_coloc\",\n",
    "    \"VEP\",\n",
    "    \"distanceTSS\"\n",
    ").join(\n",
    "    l2g_prioritised.drop(\"score\"),\n",
    "    on=[\"studyLocusId\", \"geneId\"],\n",
    "    how=\"inner\"\n",
    ").cache()\n",
    "final.count()"
   ]
  },
  {
   "cell_type": "code",
   "execution_count": 32,
   "id": "043980ff",
   "metadata": {},
   "outputs": [
    {
     "name": "stdout",
     "output_type": "stream",
     "text": [
      "+--------------------+---------------+----------+----------+----------+---+-----------+\n",
      "|        studyLocusId|         geneId|     score|eQTL_coloc|pQTL_coloc|VEP|distanceTSS|\n",
      "+--------------------+---------------+----------+----------+----------+---+-----------+\n",
      "|2ef4eb65d7f430a75...|ENSG00000000971| 0.7004741|         0|         0|  0|          1|\n",
      "|469a4c2b6f1247cbe...|ENSG00000000971|0.76636124|         1|         0|  1|          1|\n",
      "+--------------------+---------------+----------+----------+----------+---+-----------+\n",
      "only showing top 2 rows\n",
      "\n"
     ]
    }
   ],
   "source": [
    "final.show(2)"
   ]
  },
  {
   "cell_type": "code",
   "execution_count": 34,
   "id": "6413cca0",
   "metadata": {},
   "outputs": [
    {
     "name": "stderr",
     "output_type": "stream",
     "text": [
      "                                                                                \r"
     ]
    },
    {
     "data": {
      "text/plain": [
       "760898"
      ]
     },
     "execution_count": 34,
     "metadata": {},
     "output_type": "execute_result"
    }
   ],
   "source": [
    "final.select(\"studyLocusId\").distinct().count()"
   ]
  },
  {
   "cell_type": "code",
   "execution_count": 33,
   "id": "751cfa9f",
   "metadata": {},
   "outputs": [
    {
     "name": "stderr",
     "output_type": "stream",
     "text": [
      "                                                                                \r"
     ]
    }
   ],
   "source": [
    "final.write.mode(\"overwrite\").parquet(\"gs://genetics-portal-dev-analysis/yt4/20250403_for_gentropy_paper/list_of_prioritised_genes_per_CS.parquet\")"
   ]
  },
  {
   "cell_type": "code",
   "execution_count": null,
   "id": "e96eff1b",
   "metadata": {},
   "outputs": [],
   "source": []
  },
  {
   "cell_type": "code",
   "execution_count": null,
   "id": "a774b0d2",
   "metadata": {},
   "outputs": [],
   "source": []
  },
  {
   "cell_type": "code",
   "execution_count": 3,
   "id": "b6ad8778",
   "metadata": {},
   "outputs": [],
   "source": [
    "final=session.spark.read.parquet(\"gs://genetics-portal-dev-analysis/yt4/20250403_for_gentropy_paper/list_of_prioritised_genes_per_CS.parquet\")"
   ]
  },
  {
   "cell_type": "code",
   "execution_count": 6,
   "id": "a85e9269",
   "metadata": {},
   "outputs": [
    {
     "name": "stderr",
     "output_type": "stream",
     "text": [
      "                                                                                \r"
     ]
    }
   ],
   "source": [
    "final_pd=final.toPandas()"
   ]
  },
  {
   "cell_type": "code",
   "execution_count": 9,
   "id": "4d1cedb0",
   "metadata": {},
   "outputs": [
    {
     "data": {
      "text/plain": [
       "<Figure size 800x800 with 0 Axes>"
      ]
     },
     "metadata": {},
     "output_type": "display_data"
    },
    {
     "data": {
      "image/png": "[encoded data removed]",
      "text/plain": [
       "<Figure size 700x700 with 1 Axes>"
      ]
     },
     "metadata": {},
     "output_type": "display_data"
    }
   ],
   "source": [
    "eQTL = set(final_pd.index[final_pd[\"eQTL_coloc\"] == 1])\n",
    "pQTL = set(final_pd.index[final_pd[\"pQTL_coloc\"] == 1])\n",
    "VEP = set(final_pd.index[final_pd[\"VEP\"] == 1])\n",
    "TSS = set(final_pd.index[final_pd[\"distanceTSS\"] == 1])\n",
    "\n",
    "\n",
    "\n",
    "\n",
    "from venny4py.venny4py import *\n",
    "\n",
    "#dict of sets\n",
    "sets = {\n",
    "    'eQTL': eQTL,\n",
    "    'pQTL': pQTL,\n",
    "    'VEP': VEP,\n",
    "    'TSS': TSS\n",
    "}\n",
    "\n",
    "\n",
    "\n",
    "# For 4 sets, use venn4 from matplotlib-venn (install with pip if needed)\n",
    "plt.figure(figsize=(8,8))\n",
    "venny4py(sets=sets)\n",
    "plt.title(\"Venn Diagram of Overlaps\")\n",
    "plt.show()"
   ]
  },
  {
   "cell_type": "code",
   "execution_count": null,
   "id": "5a18cad6",
   "metadata": {},
   "outputs": [],
   "source": []
  },
  {
   "cell_type": "code",
   "execution_count": 4,
   "id": "1ef89788",
   "metadata": {},
   "outputs": [
    {
     "name": "stderr",
     "output_type": "stream",
     "text": [
      "                                                                                \r"
     ]
    },
    {
     "data": {
      "text/plain": [
       "80"
      ]
     },
     "execution_count": 4,
     "metadata": {},
     "output_type": "execute_result"
    }
   ],
   "source": [
    "to_exclude=si.df.filter(f.col(\"pubmedId\").isin([40164604,40229599,40069456])).select(\"studyId\")\n",
    "to_exclude.count()"
   ]
  },
  {
   "cell_type": "code",
   "execution_count": 5,
   "id": "32dd8291",
   "metadata": {},
   "outputs": [
    {
     "name": "stderr",
     "output_type": "stream",
     "text": [
      "                                                                                \r"
     ]
    },
    {
     "data": {
      "text/plain": [
       "10735"
      ]
     },
     "execution_count": 5,
     "metadata": {},
     "output_type": "execute_result"
    }
   ],
   "source": [
    "studyLocusId_to_exclude=sl.df.join(to_exclude,on=\"studyId\",how=\"inner\").select(\"studyLocusId\").distinct().cache()\n",
    "studyLocusId_to_exclude.count()"
   ]
  },
  {
   "cell_type": "code",
   "execution_count": 6,
   "id": "df140263",
   "metadata": {},
   "outputs": [
    {
     "name": "stderr",
     "output_type": "stream",
     "text": [
      "                                                                                \r"
     ]
    }
   ],
   "source": [
    "studyLocusId_to_exclude.write.parquet(\"gs://genetics-portal-dev-analysis/yt4/20250403_for_gentropy_paper/studyLocusId_to_exclude.parquet\")"
   ]
  },
  {
   "cell_type": "code",
   "execution_count": null,
   "id": "e9213f0d",
   "metadata": {},
   "outputs": [],
   "source": []
  }
 ],
 "metadata": {
  "kernelspec": {
   "display_name": ".venv",
   "language": "python",
   "name": "python3"
  },
  "language_info": {
   "codemirror_mode": {
    "name": "ipython",
    "version": 3
   },
   "file_extension": ".py",
   "mimetype": "text/x-python",
   "name": "python",
   "nbconvert_exporter": "python",
   "pygments_lexer": "ipython3",
   "version": "3.11.11"
  }
 },
 "nbformat": 4,
 "nbformat_minor": 5
}

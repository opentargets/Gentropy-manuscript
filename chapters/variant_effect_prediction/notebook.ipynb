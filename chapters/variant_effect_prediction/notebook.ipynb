{
 "cells": [
  {
   "cell_type": "markdown",
   "metadata": {},
   "source": [
    "# Variant effect prediction analysis\n"
   ]
  },
  {
   "cell_type": "code",
   "execution_count": 13,
   "metadata": {},
   "outputs": [],
   "source": [
    "import polars as pl\n",
    "from scipy.stats import chi2\n"
   ]
  },
  {
   "cell_type": "code",
   "execution_count": null,
   "metadata": {},
   "outputs": [],
   "source": [
    "lead_variant_maf_dataset = pl.read_parquet(\"../../lead_variant_maf.parquet\")\n"
   ]
  },
  {
   "cell_type": "code",
   "execution_count": null,
   "metadata": {},
   "outputs": [
    {
     "data": {
      "text/plain": [
       "(2622098, 17)"
      ]
     },
     "execution_count": 3,
     "metadata": {},
     "output_type": "execute_result"
    }
   ],
   "source": [
    "lead_variant_maf_dataset.shape\n"
   ]
  },
  {
   "cell_type": "code",
   "execution_count": null,
   "metadata": {},
   "outputs": [
    {
     "data": {
      "text/html": [
       "<div><style>\n",
       ".dataframe > thead > tr,\n",
       ".dataframe > tbody > tr {\n",
       "  text-align: right;\n",
       "  white-space: pre-wrap;\n",
       "}\n",
       "</style>\n",
       "<small>shape: (5, 17)</small><table border=\"1\" class=\"dataframe\"><thead><tr><th>studyId</th><th>studyLocusId</th><th>variantId</th><th>beta</th><th>zScore</th><th>pValueMantissa</th><th>pValueExponent</th><th>standardError</th><th>finemappingMethod</th><th>studyType</th><th>credibleSetSize</th><th>nCases</th><th>nControls</th><th>nSamples</th><th>majorPopulation</th><th>majorPopulationMAF</th><th>majorPopulationAlleleFrequency</th></tr><tr><td>str</td><td>str</td><td>str</td><td>f64</td><td>f64</td><td>f32</td><td>i32</td><td>f64</td><td>str</td><td>str</td><td>i64</td><td>i32</td><td>i32</td><td>i32</td><td>struct[2]</td><td>f64</td><td>list[struct[2]]</td></tr></thead><tbody><tr><td>&quot;gtex_leafcutter_nerve_tibial_1…</td><td>&quot;c67d0c268923d0eb68ee2cab99f602…</td><td>&quot;13_23633308_G_C&quot;</td><td>-0.395991</td><td>null</td><td>3.371</td><td>-9</td><td>0.0658143</td><td>&quot;SuSie&quot;</td><td>&quot;sqtl&quot;</td><td>43</td><td>null</td><td>null</td><td>532</td><td>{&quot;nfe&quot;,0.0}</td><td>0.277434</td><td>[{&quot;nfe_adj&quot;,0.277434}]</td></tr><tr><td>&quot;twinsuk_exon_skin_ensg00000289…</td><td>&quot;2d630434f5d1a103382ac557c2d5d5…</td><td>&quot;13_23633813_C_T&quot;</td><td>1.71288</td><td>null</td><td>1.332</td><td>-12</td><td>0.232885</td><td>&quot;SuSie&quot;</td><td>&quot;eqtl&quot;</td><td>4</td><td>null</td><td>null</td><td>370</td><td>{&quot;nfe&quot;,0.0}</td><td>0.022223</td><td>[{&quot;nfe_adj&quot;,0.022223}]</td></tr><tr><td>&quot;gtex_leafcutter_skin_sun_expos…</td><td>&quot;3353619fc6dd5cafa0226e08a0c3b3…</td><td>&quot;13_23635163_A_T&quot;</td><td>-0.559313</td><td>null</td><td>6.588</td><td>-19</td><td>0.0608432</td><td>&quot;SuSie&quot;</td><td>&quot;sqtl&quot;</td><td>14</td><td>null</td><td>null</td><td>602</td><td>{&quot;nfe&quot;,0.0}</td><td>0.282794</td><td>[{&quot;nfe_adj&quot;,0.282794}]</td></tr><tr><td>&quot;peng_2018_exon_placenta_naive_…</td><td>&quot;5834163a41e2bc3b55605b945048e4…</td><td>&quot;13_23638347_G_A&quot;</td><td>0.619266</td><td>null</td><td>5.508</td><td>-13</td><td>0.0775104</td><td>&quot;SuSie&quot;</td><td>&quot;eqtl&quot;</td><td>9</td><td>null</td><td>null</td><td>149</td><td>{&quot;nfe&quot;,0.0}</td><td>0.320347</td><td>[{&quot;nfe_adj&quot;,0.320347}]</td></tr><tr><td>&quot;peng_2018_ge_placenta_naive_en…</td><td>&quot;dab737df0056b013c999db7b392ab3…</td><td>&quot;13_23640464_G_A&quot;</td><td>0.630709</td><td>null</td><td>4.972</td><td>-14</td><td>0.0748735</td><td>&quot;SuSie&quot;</td><td>&quot;eqtl&quot;</td><td>8</td><td>null</td><td>null</td><td>149</td><td>{&quot;nfe&quot;,0.0}</td><td>0.319922</td><td>[{&quot;nfe_adj&quot;,0.319922}]</td></tr></tbody></table></div>"
      ],
      "text/plain": [
       "shape: (5, 17)\n",
       "┌───────────┬───────────┬───────────┬───────────┬───┬──────────┬───────────┬───────────┬───────────┐\n",
       "│ studyId   ┆ studyLocu ┆ variantId ┆ beta      ┆ … ┆ nSamples ┆ majorPopu ┆ majorPopu ┆ majorPopu │\n",
       "│ ---       ┆ sId       ┆ ---       ┆ ---       ┆   ┆ ---      ┆ lation    ┆ lationMAF ┆ lationAll │\n",
       "│ str       ┆ ---       ┆ str       ┆ f64       ┆   ┆ i32      ┆ ---       ┆ ---       ┆ eleFreque │\n",
       "│           ┆ str       ┆           ┆           ┆   ┆          ┆ struct[2] ┆ f64       ┆ ncy       │\n",
       "│           ┆           ┆           ┆           ┆   ┆          ┆           ┆           ┆ ---       │\n",
       "│           ┆           ┆           ┆           ┆   ┆          ┆           ┆           ┆ list[stru │\n",
       "│           ┆           ┆           ┆           ┆   ┆          ┆           ┆           ┆ ct[2]]    │\n",
       "╞═══════════╪═══════════╪═══════════╪═══════════╪═══╪══════════╪═══════════╪═══════════╪═══════════╡\n",
       "│ gtex_leaf ┆ c67d0c268 ┆ 13_236333 ┆ -0.395991 ┆ … ┆ 532      ┆ {\"nfe\",0. ┆ 0.277434  ┆ [{\"nfe_ad │\n",
       "│ cutter_ne ┆ 923d0eb68 ┆ 08_G_C    ┆           ┆   ┆          ┆ 0}        ┆           ┆ j\",0.2774 │\n",
       "│ rve_tibia ┆ ee2cab99f ┆           ┆           ┆   ┆          ┆           ┆           ┆ 34}]      │\n",
       "│ l_1…      ┆ 602…      ┆           ┆           ┆   ┆          ┆           ┆           ┆           │\n",
       "│ twinsuk_e ┆ 2d630434f ┆ 13_236338 ┆ 1.71288   ┆ … ┆ 370      ┆ {\"nfe\",0. ┆ 0.022223  ┆ [{\"nfe_ad │\n",
       "│ xon_skin_ ┆ 5d1a10338 ┆ 13_C_T    ┆           ┆   ┆          ┆ 0}        ┆           ┆ j\",0.0222 │\n",
       "│ ensg00000 ┆ 2ac557c2d ┆           ┆           ┆   ┆          ┆           ┆           ┆ 23}]      │\n",
       "│ 289…      ┆ 5d5…      ┆           ┆           ┆   ┆          ┆           ┆           ┆           │\n",
       "│ gtex_leaf ┆ 3353619fc ┆ 13_236351 ┆ -0.559313 ┆ … ┆ 602      ┆ {\"nfe\",0. ┆ 0.282794  ┆ [{\"nfe_ad │\n",
       "│ cutter_sk ┆ 6dd5cafa0 ┆ 63_A_T    ┆           ┆   ┆          ┆ 0}        ┆           ┆ j\",0.2827 │\n",
       "│ in_sun_ex ┆ 226e08a0c ┆           ┆           ┆   ┆          ┆           ┆           ┆ 94}]      │\n",
       "│ pos…      ┆ 3b3…      ┆           ┆           ┆   ┆          ┆           ┆           ┆           │\n",
       "│ peng_2018 ┆ 5834163a4 ┆ 13_236383 ┆ 0.619266  ┆ … ┆ 149      ┆ {\"nfe\",0. ┆ 0.320347  ┆ [{\"nfe_ad │\n",
       "│ _exon_pla ┆ 1e2bc3b55 ┆ 47_G_A    ┆           ┆   ┆          ┆ 0}        ┆           ┆ j\",0.3203 │\n",
       "│ centa_nai ┆ 605b94504 ┆           ┆           ┆   ┆          ┆           ┆           ┆ 47}]      │\n",
       "│ ve_…      ┆ 8e4…      ┆           ┆           ┆   ┆          ┆           ┆           ┆           │\n",
       "│ peng_2018 ┆ dab737df0 ┆ 13_236404 ┆ 0.630709  ┆ … ┆ 149      ┆ {\"nfe\",0. ┆ 0.319922  ┆ [{\"nfe_ad │\n",
       "│ _ge_place ┆ 056b013c9 ┆ 64_G_A    ┆           ┆   ┆          ┆ 0}        ┆           ┆ j\",0.3199 │\n",
       "│ nta_naive ┆ 99db7b392 ┆           ┆           ┆   ┆          ┆           ┆           ┆ 22}]      │\n",
       "│ _en…      ┆ ab3…      ┆           ┆           ┆   ┆          ┆           ┆           ┆           │\n",
       "└───────────┴───────────┴───────────┴───────────┴───┴──────────┴───────────┴───────────┴───────────┘"
      ]
     },
     "execution_count": 4,
     "metadata": {},
     "output_type": "execute_result"
    }
   ],
   "source": [
    "lead_variant_maf_dataset.head()\n"
   ]
  },
  {
   "cell_type": "code",
   "execution_count": 20,
   "metadata": {},
   "outputs": [],
   "source": [
    "df = lead_variant_maf_dataset.select(\n",
    "    (pl.col(\"pValueMantissa\") * 10).pow(pl.col(\"pValueExponent\")).alias(\"pValue\"),\n",
    "    (pl.col(\"pValueMantissa\") * 10)\n",
    "    .pow(pl.col(\"pValueExponent\").map_elements(lambda x: chi2.cdf(x, 1), pl.Float64()))\n",
    "    .alias(\"cdf\"),\n",
    "    pl.col(\"variantId\"),\n",
    "    pl.col(\"nSamples\"),\n",
    "    pl.col(\"studyType\"),\n",
    ").select(\n",
    "    \"variantId\",\n",
    "    \"studyType\",\n",
    "    \"cdf\",\n",
    "    \"pValue\",\n",
    "    (pl.col(\"cdf\") / pl.col(\"nSamples\")).alias(\"varianceExplained\"),\n",
    ")\n"
   ]
  },
  {
   "cell_type": "code",
   "execution_count": null,
   "metadata": {},
   "outputs": [
    {
     "data": {
      "text/html": [
       "<div><style>\n",
       ".dataframe > thead > tr,\n",
       ".dataframe > tbody > tr {\n",
       "  text-align: right;\n",
       "  white-space: pre-wrap;\n",
       "}\n",
       "</style>\n",
       "<small>shape: (5, 2)</small><table border=\"1\" class=\"dataframe\"><thead><tr><th>pValue</th><th>cdf</th></tr><tr><td>f32</td><td>f32</td></tr></thead><tbody><tr><td>1.7790e-14</td><td>1.0</td></tr><tr><td>3.2059e-14</td><td>1.0</td></tr><tr><td>2.7777e-35</td><td>1.0</td></tr><tr><td>2.3285e-23</td><td>1.0</td></tr><tr><td>1.7724e-24</td><td>1.0</td></tr></tbody></table></div>"
      ],
      "text/plain": [
       "shape: (5, 2)\n",
       "┌────────────┬─────┐\n",
       "│ pValue     ┆ cdf │\n",
       "│ ---        ┆ --- │\n",
       "│ f32        ┆ f32 │\n",
       "╞════════════╪═════╡\n",
       "│ 1.7790e-14 ┆ 1.0 │\n",
       "│ 3.2059e-14 ┆ 1.0 │\n",
       "│ 2.7777e-35 ┆ 1.0 │\n",
       "│ 2.3285e-23 ┆ 1.0 │\n",
       "│ 1.7724e-24 ┆ 1.0 │\n",
       "└────────────┴─────┘"
      ]
     },
     "execution_count": 18,
     "metadata": {},
     "output_type": "execute_result"
    }
   ],
   "source": [
    "df\n"
   ]
  }
 ],
 "metadata": {
  "kernelspec": {
   "display_name": ".venv",
   "language": "python",
   "name": "python3"
  },
  "language_info": {
   "codemirror_mode": {
    "name": "ipython",
    "version": 3
   },
   "file_extension": ".py",
   "mimetype": "text/x-python",
   "name": "python",
   "nbconvert_exporter": "python",
   "pygments_lexer": "ipython3",
   "version": "3.11.11"
  }
 },
 "nbformat": 4,
 "nbformat_minor": 2
}

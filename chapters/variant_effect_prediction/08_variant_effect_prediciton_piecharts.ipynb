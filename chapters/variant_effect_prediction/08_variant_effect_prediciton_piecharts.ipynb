{
 "cells": [
  {
   "cell_type": "markdown",
   "metadata": {},
   "source": [
    "# Variant effects\n"
   ]
  },
  {
   "cell_type": "markdown",
   "metadata": {},
   "source": [
    "The goal of this analysis it to understand the distributions of variant effects based on lead variants with \\_Posterior Probability >= 0.9 (variants that we are ~90% certain that are true causal variants for each phenotype)\n",
    "\n",
    "1. Calculate the number of lead variants with PIP >= 0.9 -> prepare the dataset\n",
    "2. Make a barplot of the counts of lead variants with PIP >= 0.9 based on the studyType and finemapping method\n",
    "3. Create a piechart for each studyType that has the number of variants based on the VEP score classes (%, n)\n",
    "4. Create a piechart for each MAF threshold (rare, low freq, common) that has the number of variants based on the VEP score classes (%, n)\n",
    "5. Create a piechart for each (abs(estimated beta) >= 0.5) group(s) that has the number of variants based on the VEP score classes (%, n)\n",
    "6. Extract the lead variants that have a high possibility of being within regulatory regions - based on the VEP scoring - classify by regulatory regions using interval datasets\n",
    "7. Create a piechart for each interval datasets\n"
   ]
  },
  {
   "cell_type": "markdown",
   "metadata": {},
   "source": [
    "## Dataset preparation\n"
   ]
  },
  {
   "cell_type": "code",
   "execution_count": 1,
   "metadata": {},
   "outputs": [],
   "source": [
    "import polars as pl\n"
   ]
  },
  {
   "cell_type": "code",
   "execution_count": 2,
   "metadata": {},
   "outputs": [],
   "source": [
    "dataset = pl.read_parquet(\"../../data/rescaled-betas.parquet\")\n",
    "# We are skipping the 1k lead variants that have the MAF of 0.0\n"
   ]
  },
  {
   "cell_type": "code",
   "execution_count": null,
   "metadata": {},
   "outputs": [
    {
     "data": {
      "text/plain": [
       "['variantId',\n",
       " 'studyId',\n",
       " 'studyLocusId',\n",
       " 'beta',\n",
       " 'zScore',\n",
       " 'pValueMantissa',\n",
       " 'pValueExponent',\n",
       " 'standardError',\n",
       " 'finemappingMethod',\n",
       " 'studyType',\n",
       " 'credibleSetSize',\n",
       " 'nSamples',\n",
       " 'nControls',\n",
       " 'nCases',\n",
       " 'majorPopulation',\n",
       " 'allelefrequencies',\n",
       " 'vepEffect',\n",
       " 'majorPopulationAF',\n",
       " 'majorPopulationMAF',\n",
       " 'leadVariantStats',\n",
       " 'rescaledStatistics']"
      ]
     },
     "execution_count": 3,
     "metadata": {},
     "output_type": "execute_result"
    }
   ],
   "source": [
    "dataset.columns\n"
   ]
  },
  {
   "cell_type": "code",
   "execution_count": null,
   "metadata": {},
   "outputs": [],
   "source": []
  },
  {
   "cell_type": "code",
   "execution_count": null,
   "metadata": {},
   "outputs": [],
   "source": []
  }
 ],
 "metadata": {
  "kernelspec": {
   "display_name": ".venv",
   "language": "python",
   "name": "python3"
  },
  "language_info": {
   "codemirror_mode": {
    "name": "ipython",
    "version": 3
   },
   "file_extension": ".py",
   "mimetype": "text/x-python",
   "name": "python",
   "nbconvert_exporter": "python",
   "pygments_lexer": "ipython3",
   "version": "3.11.11"
  }
 },
 "nbformat": 4,
 "nbformat_minor": 2
}

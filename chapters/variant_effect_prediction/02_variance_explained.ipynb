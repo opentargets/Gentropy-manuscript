{
 "cells": [
  {
   "cell_type": "markdown",
   "metadata": {},
   "source": [
    "# Variance Explained\n",
    "\n",
    "The goal of this notebook is to add a variance explained calculated as\n",
    "`chi2.isf(pvalue, df=1)`\n"
   ]
  },
  {
   "cell_type": "code",
   "execution_count": 6,
   "metadata": {},
   "outputs": [],
   "source": [
    "import polars as pl\n",
    "from scipy.stats import chi2\n"
   ]
  },
  {
   "cell_type": "markdown",
   "metadata": {},
   "source": [
    "### Load the dataset from previous notebook\n"
   ]
  },
  {
   "cell_type": "code",
   "execution_count": 7,
   "metadata": {},
   "outputs": [
    {
     "name": "stdout",
     "output_type": "stream",
     "text": [
      "(2622098, 19)\n",
      "['variantId', 'studyId', 'studyLocusId', 'beta', 'zScore', 'pValueMantissa', 'pValueExponent', 'standardError', 'finemappingMethod', 'studyType', 'credibleSetSize', 'nSamples', 'nControls', 'nCases', 'majorPopulation', 'allelefrequencies', 'vepEffect', 'majorPopulationAF', 'majorPopulationMAF']\n"
     ]
    }
   ],
   "source": [
    "lead_variant_maf_dataset = pl.read_parquet(\"../../data/lead-maf-vep/*.parquet\")\n",
    "print(lead_variant_maf_dataset.shape)\n",
    "print(lead_variant_maf_dataset.columns)\n"
   ]
  },
  {
   "cell_type": "markdown",
   "metadata": {},
   "source": [
    "### Calculate variance explained\n",
    "\n",
    "The variance explained follows the simplified formula\n",
    "\n",
    "${variance\\;explained}=\\chi^2 / n $\n",
    "\n",
    "* The $\\chi^2$ is calculated as **Inverse survival function** by using `scipy.stats.isf` function from lead variant $pValue$ (depicted as `pValueMantissa` and `pValueExponent`). \n",
    "* The $n$ parameter is the number of samples derived from GWAS study description.\n",
    "\n",
    "* In case where the `pValueExponent < 300` to avoid floating point errors we estimate $\\chi^2$ statistic with $-log_{10}(pValue)$\n",
    "* The $variance\\;explained$ can be only calculated where the $n > 0$"
   ]
  },
  {
   "cell_type": "code",
   "execution_count": 9,
   "metadata": {},
   "outputs": [],
   "source": [
    "def variance_explained(p_value_mantissa: pl.Expr, p_value_exponent: pl.Expr, n_samples: pl.Expr) -> pl.Expr:\n",
    "    \"\"\"Estimate the variance explained by the lead variant in a dataset.\n",
    "\n",
    "    # NOTE! Calculate variance explained requires removal of the studies that have nSamples = 0\n",
    "    \"\"\"\n",
    "    p_value = (p_value_mantissa.cast(pl.Float64()) * pl.lit(10).pow(p_value_exponent.cast(pl.Float64()))).alias(\n",
    "        \"pValue\"\n",
    "    )\n",
    "    neglog_pval = -1 * p_value_mantissa.log10() + p_value_exponent\n",
    "    neglog_approximation_intercept = -5.367\n",
    "    neglog_approximation_coeff = 4.596\n",
    "    chi2_stat = (\n",
    "        pl.when(p_value_exponent < -300)\n",
    "        .then(neglog_pval * neglog_approximation_coeff + neglog_approximation_intercept)\n",
    "        .otherwise(p_value.map_elements(lambda x: chi2.isf(x, df=1), pl.Float64()))\n",
    "    ).alias(\"chi2Stat\")\n",
    "    variance_exp = (chi2_stat / n_samples).alias(\"varianceExplained\")\n",
    "\n",
    "    return pl.struct(chi2_stat, p_value, variance_exp).alias(\"leadVariantStats\")\n"
   ]
  },
  {
   "cell_type": "code",
   "execution_count": 10,
   "metadata": {},
   "outputs": [],
   "source": [
    "df = lead_variant_maf_dataset.filter(pl.col(\"nSamples\").is_not_null() | pl.col(\"nSamples\") > 0).select(\n",
    "    \"*\",\n",
    "    variance_explained(\n",
    "        pl.col(\"pValueMantissa\"),\n",
    "        pl.col(\"pValueExponent\"),\n",
    "        pl.col(\"nSamples\"),\n",
    "    ),\n",
    ")\n"
   ]
  },
  {
   "cell_type": "code",
   "execution_count": 11,
   "metadata": {},
   "outputs": [],
   "source": [
    "df.write_parquet(\"../../data/variance-explained.parquet\")\n"
   ]
  },
  {
   "cell_type": "code",
   "execution_count": 12,
   "metadata": {},
   "outputs": [
    {
     "data": {
      "text/plain": [
       "1050"
      ]
     },
     "execution_count": 12,
     "metadata": {},
     "output_type": "execute_result"
    }
   ],
   "source": [
    "lead_variant_maf_dataset.shape[0] - df.shape[0]\n"
   ]
  },
  {
   "cell_type": "markdown",
   "metadata": {},
   "source": [
    "Exactly 1050 samples have no `nSamples` disallowing us to calculate the varianceExplained\n"
   ]
  },
  {
   "cell_type": "markdown",
   "metadata": {},
   "source": [
    "## Rescale marginal effect size\n"
   ]
  },
  {
   "cell_type": "markdown",
   "metadata": {},
   "source": [
    "Rescaling of marginal effect size to the original value from the standardised marginal effect size is done via two formulas depending on trait being **quantitative** or **binary**\n",
    "\n",
    "\n",
    "Estimation of the trait type is done on the basis of availability of reported `nCases` and `nControls` fields in the study description. \n",
    "* In case both fields are non empty and non zero we assume *binary trait*\n",
    "* In case cases are zero or are not reported we assume *quantitative trait*\n",
    "\n",
    "In both cases we estimate the marginal effect size $estimated\\;\\beta$ with following formula\n",
    "$$estimated\\;\\beta = zscore \\cdot se$$\n",
    "\n",
    "Where \n",
    "* $zscore = \\frac{\\beta}{|{\\beta}|} \\cdot \\sqrt{\\chi^2}$\n",
    "* $se$ depends on the trait type\n",
    "* $\\beta$ - *standardised beta reported from in the summary statistics* \n",
    "\n",
    "In case when $\\beta$ was not reported we assumed the $\\frac{\\beta}{|{\\beta}|}$ to be equal to 1\n",
    "\n",
    "#### Binary trait marginal effect size estimation\n",
    "\n",
    "$$se = \\frac{1}{\\sqrt{(varG \\cdot prev \\cdot (1 - prev))}}$$\n",
    "* $varG = 2 \\cdot f \\cdot (1 - f)$\n",
    "* $f$ - *Minor Allele Frequency of lead variant*\n",
    "* $prev = \\frac{nCases}{nCases + nControls}$\n",
    "\n",
    "#### Quantative trait marginal effect size estimation\n",
    "\n",
    "$$se = \\frac{1}{\\sqrt{varG}}$$\n",
    "* $varG = 2 \\cdot f \\cdot (1 - f)$\n",
    "* $f$ - *Minor Allele Frequency of lead variant*\n",
    "\n",
    "\n",
    "The $\\chi^2$ was esteimated as described in `variance Explained` calculation."
   ]
  },
  {
   "cell_type": "code",
   "execution_count": 13,
   "metadata": {},
   "outputs": [],
   "source": [
    "def rescale_beta(\n",
    "    beta: pl.Expr,\n",
    "    n_cases: pl.Expr,\n",
    "    n_controls: pl.Expr,\n",
    "    n_samples: pl.Expr,\n",
    "    p_value_mantissa: pl.Expr,\n",
    "    p_value_exponent: pl.Expr,\n",
    "    maf: pl.Expr,\n",
    ") -> pl.Expr:\n",
    "    \"\"\"Rescale beta to be between 0 and 1.\"\"\"\n",
    "    neglog_approximation_intercept = -5.367\n",
    "    neglog_approximation_coeff = 4.596\n",
    "    trait_class = (\n",
    "        pl.when(n_cases.is_null())\n",
    "        .then(pl.lit(\"quantitative\"))\n",
    "        .when((n_cases == 0) | (n_controls == 0))\n",
    "        .then(pl.lit(\"quantitative\"))\n",
    "        .otherwise(pl.lit(\"binary\"))\n",
    "    )\n",
    "    p_value = (p_value_mantissa.cast(pl.Float64()) * pl.lit(10).pow(p_value_exponent.cast(pl.Float64()))).alias(\n",
    "        \"pValue\"\n",
    "    )\n",
    "    neglog_pval = -1 * p_value_mantissa.log10() + p_value_exponent\n",
    "    n_samples = pl.when(trait_class == \"quantitative\").then(n_samples).otherwise(n_cases + n_controls)\n",
    "    # Calculate the chi2 value - the calculation has to be approximated to the -neglog pval in case when exponent is very low\n",
    "    # otherwise the chi2 will be infinity.\n",
    "    chi2_stat = (\n",
    "        pl.when(p_value_exponent < -300)\n",
    "        .then(neglog_pval * neglog_approximation_coeff + neglog_approximation_intercept)\n",
    "        .otherwise(p_value.map_elements(lambda x: chi2.isf(x, df=1), pl.Float64()))\n",
    "    )\n",
    "    # In case beta is positive or not reported we use 1 as a sign\n",
    "    effect_direction = pl.when(beta < 0).then(pl.lit(-1)).otherwise(pl.lit(1))\n",
    "    z_score = effect_direction * chi2_stat.sqrt()\n",
    "    var_g = 2 * maf * (1 - maf)\n",
    "    prev = n_cases / (n_cases + n_controls)\n",
    "    se = (\n",
    "        pl.when(trait_class == \"quantitative\")\n",
    "        .then((1 / (var_g * n_samples)).sqrt())\n",
    "        .otherwise((1 / (var_g * n_samples * prev * (1 - prev))).sqrt())\n",
    "    )\n",
    "    new_beta = z_score * se\n",
    "\n",
    "    return pl.struct(\n",
    "        new_beta.alias(\"estimatedBeta\"),\n",
    "        trait_class.alias(\"traitClass\"),\n",
    "        chi2_stat.alias(\"chi2Stat\"),\n",
    "        se.alias(\"estimatedSE\"),\n",
    "        var_g.alias(\"varG\"),\n",
    "        prev.alias(\"prev\"),\n",
    "        n_samples.alias(\"nSamples\"),\n",
    "    ).alias(\"rescaledStatistics\")\n"
   ]
  },
  {
   "cell_type": "code",
   "execution_count": 14,
   "metadata": {},
   "outputs": [],
   "source": [
    "df2 = df.select(\n",
    "    \"*\",\n",
    "    rescale_beta(\n",
    "        pl.col(\"beta\"),\n",
    "        pl.col(\"nCases\"),\n",
    "        pl.col(\"nControls\"),\n",
    "        pl.col(\"nSamples\"),\n",
    "        pl.col(\"pValueMantissa\"),\n",
    "        pl.col(\"pValueExponent\"),\n",
    "        pl.col(\"majorPopulationMAF\"),\n",
    "    ),\n",
    ")\n"
   ]
  },
  {
   "cell_type": "code",
   "execution_count": 15,
   "metadata": {},
   "outputs": [
    {
     "data": {
      "text/plain": [
       "3778"
      ]
     },
     "execution_count": 15,
     "metadata": {},
     "output_type": "execute_result"
    }
   ],
   "source": [
    "df3 = df2.filter(pl.col(\"majorPopulationMAF\") == 0.0).filter(\n",
    "    pl.col(\"rescaledStatistics\").struct.field(\"estimatedBeta\").is_infinite()\n",
    ")\n",
    "df3.shape[0]\n"
   ]
  },
  {
   "cell_type": "markdown",
   "metadata": {},
   "source": [
    "We have 3778 lead variants that have major population MAF = 0.0\n"
   ]
  },
  {
   "cell_type": "code",
   "execution_count": 16,
   "metadata": {},
   "outputs": [],
   "source": [
    "# Write the dataset\n",
    "df2.write_parquet(\"../../data/rescaled-betas.parquet\")\n"
   ]
  },
  {
   "cell_type": "markdown",
   "metadata": {},
   "source": [
    "#### Sanity checks"
   ]
  },
  {
   "cell_type": "code",
   "execution_count": 17,
   "metadata": {},
   "outputs": [
    {
     "data": {
      "text/html": [
       "<div><style>\n",
       ".dataframe > thead > tr,\n",
       ".dataframe > tbody > tr {\n",
       "  text-align: right;\n",
       "  white-space: pre-wrap;\n",
       "}\n",
       "</style>\n",
       "<small>shape: (9, 2)</small><table border=\"1\" class=\"dataframe\"><thead><tr><th>statistic</th><th>estimatedBeta</th></tr><tr><td>str</td><td>f64</td></tr></thead><tbody><tr><td>&quot;count&quot;</td><td>69725.0</td></tr><tr><td>&quot;null_count&quot;</td><td>0.0</td></tr><tr><td>&quot;mean&quot;</td><td>0.907295</td></tr><tr><td>&quot;std&quot;</td><td>6.406072</td></tr><tr><td>&quot;min&quot;</td><td>0.010357</td></tr><tr><td>&quot;25%&quot;</td><td>0.048874</td></tr><tr><td>&quot;50%&quot;</td><td>0.085318</td></tr><tr><td>&quot;75%&quot;</td><td>0.189065</td></tr><tr><td>&quot;max&quot;</td><td>820.178296</td></tr></tbody></table></div>"
      ],
      "text/plain": [
       "shape: (9, 2)\n",
       "┌────────────┬───────────────┐\n",
       "│ statistic  ┆ estimatedBeta │\n",
       "│ ---        ┆ ---           │\n",
       "│ str        ┆ f64           │\n",
       "╞════════════╪═══════════════╡\n",
       "│ count      ┆ 69725.0       │\n",
       "│ null_count ┆ 0.0           │\n",
       "│ mean       ┆ 0.907295      │\n",
       "│ std        ┆ 6.406072      │\n",
       "│ min        ┆ 0.010357      │\n",
       "│ 25%        ┆ 0.048874      │\n",
       "│ 50%        ┆ 0.085318      │\n",
       "│ 75%        ┆ 0.189065      │\n",
       "│ max        ┆ 820.178296    │\n",
       "└────────────┴───────────────┘"
      ]
     },
     "execution_count": 17,
     "metadata": {},
     "output_type": "execute_result"
    }
   ],
   "source": [
    "# binary estimatedBeta distribtution\n",
    "df2.select(pl.col(\"rescaledStatistics\").struct.unnest()).filter(pl.col(\"traitClass\") == \"binary\").filter(\n",
    "    pl.col(\"estimatedBeta\").is_finite()\n",
    ").select(pl.col(\"estimatedBeta\").abs()).describe()\n"
   ]
  },
  {
   "cell_type": "code",
   "execution_count": 18,
   "metadata": {},
   "outputs": [
    {
     "data": {
      "text/html": [
       "<div><style>\n",
       ".dataframe > thead > tr,\n",
       ".dataframe > tbody > tr {\n",
       "  text-align: right;\n",
       "  white-space: pre-wrap;\n",
       "}\n",
       "</style>\n",
       "<small>shape: (9, 2)</small><table border=\"1\" class=\"dataframe\"><thead><tr><th>statistic</th><th>estimatedBeta</th></tr><tr><td>str</td><td>f64</td></tr></thead><tbody><tr><td>&quot;count&quot;</td><td>2.53998e6</td></tr><tr><td>&quot;null_count&quot;</td><td>0.0</td></tr><tr><td>&quot;mean&quot;</td><td>1.066917</td></tr><tr><td>&quot;std&quot;</td><td>2.991953</td></tr><tr><td>&quot;min&quot;</td><td>0.003516</td></tr><tr><td>&quot;25%&quot;</td><td>0.413165</td></tr><tr><td>&quot;50%&quot;</td><td>0.693346</td></tr><tr><td>&quot;75%&quot;</td><td>1.06016</td></tr><tr><td>&quot;max&quot;</td><td>576.10404</td></tr></tbody></table></div>"
      ],
      "text/plain": [
       "shape: (9, 2)\n",
       "┌────────────┬───────────────┐\n",
       "│ statistic  ┆ estimatedBeta │\n",
       "│ ---        ┆ ---           │\n",
       "│ str        ┆ f64           │\n",
       "╞════════════╪═══════════════╡\n",
       "│ count      ┆ 2.53998e6     │\n",
       "│ null_count ┆ 0.0           │\n",
       "│ mean       ┆ 1.066917      │\n",
       "│ std        ┆ 2.991953      │\n",
       "│ min        ┆ 0.003516      │\n",
       "│ 25%        ┆ 0.413165      │\n",
       "│ 50%        ┆ 0.693346      │\n",
       "│ 75%        ┆ 1.06016       │\n",
       "│ max        ┆ 576.10404     │\n",
       "└────────────┴───────────────┘"
      ]
     },
     "execution_count": 18,
     "metadata": {},
     "output_type": "execute_result"
    }
   ],
   "source": [
    "# quantitative estimatedBeta distribution\n",
    "df2.select(pl.col(\"rescaledStatistics\").struct.unnest()).filter(pl.col(\"traitClass\") == \"quantitative\").filter(\n",
    "    pl.col(\"estimatedBeta\").is_finite()\n",
    ").select(pl.col(\"estimatedBeta\").abs()).describe()\n"
   ]
  },
  {
   "cell_type": "code",
   "execution_count": null,
   "metadata": {},
   "outputs": [
    {
     "data": {
      "text/html": [
       "<div><style>\n",
       ".dataframe > thead > tr,\n",
       ".dataframe > tbody > tr {\n",
       "  text-align: right;\n",
       "  white-space: pre-wrap;\n",
       "}\n",
       "</style>\n",
       "<small>shape: (2_621_048, 7)</small><table border=\"1\" class=\"dataframe\"><thead><tr><th>estimatedBeta</th><th>traitClass</th><th>chi2Stat</th><th>estimatedSE</th><th>varG</th><th>prev</th><th>nSamples</th></tr><tr><td>f64</td><td>str</td><td>f64</td><td>f64</td><td>f64</td><td>f64</td><td>i32</td></tr></thead><tbody><tr><td>0.364678</td><td>&quot;quantitative&quot;</td><td>31.912211</td><td>0.064555</td><td>0.413011</td><td>null</td><td>581</td></tr><tr><td>0.372868</td><td>&quot;quantitative&quot;</td><td>30.548044</td><td>0.067463</td><td>0.413011</td><td>null</td><td>532</td></tr><tr><td>-1.364617</td><td>&quot;quantitative&quot;</td><td>26.680755</td><td>0.264187</td><td>0.075014</td><td>null</td><td>191</td></tr><tr><td>0.503056</td><td>&quot;quantitative&quot;</td><td>27.462141</td><td>0.095995</td><td>0.478053</td><td>null</td><td>227</td></tr><tr><td>-0.515738</td><td>&quot;quantitative&quot;</td><td>20.263376</td><td>0.114571</td><td>0.461711</td><td>null</td><td>165</td></tr><tr><td>&hellip;</td><td>&hellip;</td><td>&hellip;</td><td>&hellip;</td><td>&hellip;</td><td>&hellip;</td><td>&hellip;</td></tr><tr><td>0.724962</td><td>&quot;quantitative&quot;</td><td>77.700681</td><td>0.082244</td><td>0.320695</td><td>null</td><td>461</td></tr><tr><td>-0.088602</td><td>&quot;binary&quot;</td><td>34.951044</td><td>0.014987</td><td>0.389375</td><td>0.030189</td><td>390539</td></tr><tr><td>0.079953</td><td>&quot;binary&quot;</td><td>49.220051</td><td>0.011396</td><td>0.427172</td><td>0.115048</td><td>177039</td></tr><tr><td>0.056312</td><td>&quot;binary&quot;</td><td>73.512517</td><td>0.006568</td><td>0.398685</td><td>0.457826</td><td>234253</td></tr><tr><td>0.482507</td><td>&quot;quantitative&quot;</td><td>64.52263</td><td>0.060069</td><td>0.477011</td><td>null</td><td>581</td></tr></tbody></table></div>"
      ],
      "text/plain": [
       "shape: (2_621_048, 7)\n",
       "┌───────────────┬──────────────┬───────────┬─────────────┬──────────┬──────────┬──────────┐\n",
       "│ estimatedBeta ┆ traitClass   ┆ chi2Stat  ┆ estimatedSE ┆ varG     ┆ prev     ┆ nSamples │\n",
       "│ ---           ┆ ---          ┆ ---       ┆ ---         ┆ ---      ┆ ---      ┆ ---      │\n",
       "│ f64           ┆ str          ┆ f64       ┆ f64         ┆ f64      ┆ f64      ┆ i32      │\n",
       "╞═══════════════╪══════════════╪═══════════╪═════════════╪══════════╪══════════╪══════════╡\n",
       "│ 0.364678      ┆ quantitative ┆ 31.912211 ┆ 0.064555    ┆ 0.413011 ┆ null     ┆ 581      │\n",
       "│ 0.372868      ┆ quantitative ┆ 30.548044 ┆ 0.067463    ┆ 0.413011 ┆ null     ┆ 532      │\n",
       "│ -1.364617     ┆ quantitative ┆ 26.680755 ┆ 0.264187    ┆ 0.075014 ┆ null     ┆ 191      │\n",
       "│ 0.503056      ┆ quantitative ┆ 27.462141 ┆ 0.095995    ┆ 0.478053 ┆ null     ┆ 227      │\n",
       "│ -0.515738     ┆ quantitative ┆ 20.263376 ┆ 0.114571    ┆ 0.461711 ┆ null     ┆ 165      │\n",
       "│ …             ┆ …            ┆ …         ┆ …           ┆ …        ┆ …        ┆ …        │\n",
       "│ 0.724962      ┆ quantitative ┆ 77.700681 ┆ 0.082244    ┆ 0.320695 ┆ null     ┆ 461      │\n",
       "│ -0.088602     ┆ binary       ┆ 34.951044 ┆ 0.014987    ┆ 0.389375 ┆ 0.030189 ┆ 390539   │\n",
       "│ 0.079953      ┆ binary       ┆ 49.220051 ┆ 0.011396    ┆ 0.427172 ┆ 0.115048 ┆ 177039   │\n",
       "│ 0.056312      ┆ binary       ┆ 73.512517 ┆ 0.006568    ┆ 0.398685 ┆ 0.457826 ┆ 234253   │\n",
       "│ 0.482507      ┆ quantitative ┆ 64.52263  ┆ 0.060069    ┆ 0.477011 ┆ null     ┆ 581      │\n",
       "└───────────────┴──────────────┴───────────┴─────────────┴──────────┴──────────┴──────────┘"
      ]
     },
     "execution_count": 19,
     "metadata": {},
     "output_type": "execute_result"
    }
   ],
   "source": [
    "df2.select(pl.col(\"rescaledStatistics\").struct.unnest())\n"
   ]
  }
 ],
 "metadata": {
  "kernelspec": {
   "display_name": ".venv",
   "language": "python",
   "name": "python3"
  },
  "language_info": {
   "codemirror_mode": {
    "name": "ipython",
    "version": 3
   },
   "file_extension": ".py",
   "mimetype": "text/x-python",
   "name": "python",
   "nbconvert_exporter": "python",
   "pygments_lexer": "ipython3",
   "version": "3.11.11"
  }
 },
 "nbformat": 4,
 "nbformat_minor": 2
}

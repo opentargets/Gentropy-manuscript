{
 "cells": [
  {
   "cell_type": "markdown",
   "metadata": {},
   "source": [
    "# Variance Explained\n",
    "\n",
    "The goal of this notebook is to add a variance explained calculated as\n",
    "`chi2.ppf(pvalue, df=1)`\n"
   ]
  },
  {
   "cell_type": "code",
   "execution_count": 2,
   "metadata": {},
   "outputs": [],
   "source": [
    "import polars as pl\n",
    "from scipy.stats import chi2\n",
    "import seaborn as sns\n"
   ]
  },
  {
   "cell_type": "markdown",
   "metadata": {},
   "source": [
    "### Load the dataset from previous notebook\n"
   ]
  },
  {
   "cell_type": "code",
   "execution_count": 3,
   "metadata": {},
   "outputs": [],
   "source": [
    "lead_variant_maf_dataset = pl.read_parquet(\"lead-maf-vep/*.parquet\")\n"
   ]
  },
  {
   "cell_type": "code",
   "execution_count": 4,
   "metadata": {},
   "outputs": [
    {
     "data": {
      "text/plain": [
       "(2622098, 19)"
      ]
     },
     "execution_count": 4,
     "metadata": {},
     "output_type": "execute_result"
    }
   ],
   "source": [
    "lead_variant_maf_dataset.shape\n"
   ]
  },
  {
   "cell_type": "code",
   "execution_count": 5,
   "metadata": {},
   "outputs": [
    {
     "data": {
      "text/html": [
       "<div><style>\n",
       ".dataframe > thead > tr,\n",
       ".dataframe > tbody > tr {\n",
       "  text-align: right;\n",
       "  white-space: pre-wrap;\n",
       "}\n",
       "</style>\n",
       "<small>shape: (5, 19)</small><table border=\"1\" class=\"dataframe\"><thead><tr><th>variantId</th><th>studyId</th><th>studyLocusId</th><th>beta</th><th>zScore</th><th>pValueMantissa</th><th>pValueExponent</th><th>standardError</th><th>finemappingMethod</th><th>studyType</th><th>credibleSetSize</th><th>nSamples</th><th>nControls</th><th>nCases</th><th>majorPopulation</th><th>allelefrequencies</th><th>vepEffect</th><th>majorPopulationAF</th><th>majorPopulationMAF</th></tr><tr><td>str</td><td>str</td><td>str</td><td>f64</td><td>f64</td><td>f32</td><td>i32</td><td>f64</td><td>str</td><td>str</td><td>i32</td><td>i32</td><td>i32</td><td>i32</td><td>struct[2]</td><td>list[struct[2]]</td><td>struct[3]</td><td>list[struct[2]]</td><td>f64</td></tr></thead><tbody><tr><td>&quot;10_100011477_C_G&quot;</td><td>&quot;gtex_exon_adipose_subcutaneous…</td><td>&quot;89d0eb8376a8551e0595f02a2ba424…</td><td>0.335197</td><td>null</td><td>1.613</td><td>-8</td><td>0.058476</td><td>&quot;SuSie&quot;</td><td>&quot;eqtl&quot;</td><td>14</td><td>581</td><td>null</td><td>null</td><td>{&quot;nfe&quot;,0.0}</td><td>[{&quot;sas_adj&quot;,0.140307}, {&quot;remaining_adj&quot;,0.236942}, … {&quot;afr_adj&quot;,0.156099}]</td><td>{&quot;upstream_gene_variant&quot;,0.0,null}</td><td>[{&quot;nfe_adj&quot;,0.291447}]</td><td>0.291447</td></tr><tr><td>&quot;10_100011477_C_G&quot;</td><td>&quot;gtex_exon_nerve_tibial_ensg000…</td><td>&quot;cbae94dbdf2ce21c8aaae9d88d1f1e…</td><td>0.222984</td><td>null</td><td>3.257</td><td>-8</td><td>0.0397304</td><td>&quot;SuSie&quot;</td><td>&quot;eqtl&quot;</td><td>66</td><td>532</td><td>null</td><td>null</td><td>{&quot;nfe&quot;,0.0}</td><td>[{&quot;sas_adj&quot;,0.140307}, {&quot;remaining_adj&quot;,0.236942}, … {&quot;afr_adj&quot;,0.156099}]</td><td>{&quot;upstream_gene_variant&quot;,0.0,null}</td><td>[{&quot;nfe_adj&quot;,0.291447}]</td><td>0.291447</td></tr><tr><td>&quot;10_100019534_G_GAA&quot;</td><td>&quot;blueprint_exon_monocyte_ensg00…</td><td>&quot;b14db85f5fe52358fa03809bdb0db2…</td><td>-1.11197</td><td>null</td><td>2.4</td><td>-7</td><td>0.206856</td><td>&quot;SuSie&quot;</td><td>&quot;eqtl&quot;</td><td>1</td><td>191</td><td>null</td><td>null</td><td>{&quot;nfe&quot;,0.0}</td><td>[{&quot;sas_adj&quot;,0.071227}, {&quot;remaining_adj&quot;,0.075368}, … {&quot;afr_adj&quot;,0.189559}]</td><td>{&quot;upstream_gene_variant&quot;,0.0,null}</td><td>[{&quot;nfe_adj&quot;,0.03903}]</td><td>0.03903</td></tr><tr><td>&quot;10_100063173_T_G&quot;</td><td>&quot;gtex_exon_spleen_ensg000000954…</td><td>&quot;7f24212f9828dd4d13b848e3fbac0d…</td><td>0.412732</td><td>null</td><td>1.602</td><td>-7</td><td>0.0761278</td><td>&quot;SuSie&quot;</td><td>&quot;eqtl&quot;</td><td>43</td><td>227</td><td>null</td><td>null</td><td>{&quot;nfe&quot;,0.0}</td><td>[{&quot;sas_adj&quot;,0.14102}, {&quot;remaining_adj&quot;,0.340133}, … {&quot;afr_adj&quot;,0.189902}]</td><td>{&quot;intron_variant&quot;,0.1,null}</td><td>[{&quot;nfe_adj&quot;,0.395246}]</td><td>0.395246</td></tr><tr><td>&quot;10_100111179_C_T&quot;</td><td>&quot;gtex_exon_brain_hippocampus_en…</td><td>&quot;8dc7e55aa3a2982bf689175d673d78…</td><td>-0.311703</td><td>null</td><td>6.748</td><td>-6</td><td>0.0668019</td><td>&quot;SuSie&quot;</td><td>&quot;eqtl&quot;</td><td>88</td><td>165</td><td>null</td><td>null</td><td>{&quot;nfe&quot;,0.0}</td><td>[{&quot;sas_adj&quot;,0.149263}, {&quot;remaining_adj&quot;,0.340364}, … {&quot;afr_adj&quot;,0.28714}]</td><td>{&quot;intron_variant&quot;,0.1,null}</td><td>[{&quot;nfe_adj&quot;,0.361636}]</td><td>0.361636</td></tr></tbody></table></div>"
      ],
      "text/plain": [
       "shape: (5, 19)\n",
       "┌───────────┬───────────┬───────────┬───────────┬───┬───────────┬───────────┬───────────┬──────────┐\n",
       "│ variantId ┆ studyId   ┆ studyLocu ┆ beta      ┆ … ┆ allelefre ┆ vepEffect ┆ majorPopu ┆ majorPop │\n",
       "│ ---       ┆ ---       ┆ sId       ┆ ---       ┆   ┆ quencies  ┆ ---       ┆ lationAF  ┆ ulationM │\n",
       "│ str       ┆ str       ┆ ---       ┆ f64       ┆   ┆ ---       ┆ struct[3] ┆ ---       ┆ AF       │\n",
       "│           ┆           ┆ str       ┆           ┆   ┆ list[stru ┆           ┆ list[stru ┆ ---      │\n",
       "│           ┆           ┆           ┆           ┆   ┆ ct[2]]    ┆           ┆ ct[2]]    ┆ f64      │\n",
       "╞═══════════╪═══════════╪═══════════╪═══════════╪═══╪═══════════╪═══════════╪═══════════╪══════════╡\n",
       "│ 10_100011 ┆ gtex_exon ┆ 89d0eb837 ┆ 0.335197  ┆ … ┆ [{\"sas_ad ┆ {\"upstrea ┆ [{\"nfe_ad ┆ 0.291447 │\n",
       "│ 477_C_G   ┆ _adipose_ ┆ 6a8551e05 ┆           ┆   ┆ j\",0.1403 ┆ m_gene_va ┆ j\",0.2914 ┆          │\n",
       "│           ┆ subcutane ┆ 95f02a2ba ┆           ┆   ┆ 07},      ┆ riant\",0. ┆ 47}]      ┆          │\n",
       "│           ┆ ous…      ┆ 424…      ┆           ┆   ┆ {\"remai…  ┆ 0,n…      ┆           ┆          │\n",
       "│ 10_100011 ┆ gtex_exon ┆ cbae94dbd ┆ 0.222984  ┆ … ┆ [{\"sas_ad ┆ {\"upstrea ┆ [{\"nfe_ad ┆ 0.291447 │\n",
       "│ 477_C_G   ┆ _nerve_ti ┆ f2ce21c8a ┆           ┆   ┆ j\",0.1403 ┆ m_gene_va ┆ j\",0.2914 ┆          │\n",
       "│           ┆ bial_ensg ┆ aae9d88d1 ┆           ┆   ┆ 07},      ┆ riant\",0. ┆ 47}]      ┆          │\n",
       "│           ┆ 000…      ┆ f1e…      ┆           ┆   ┆ {\"remai…  ┆ 0,n…      ┆           ┆          │\n",
       "│ 10_100019 ┆ blueprint ┆ b14db85f5 ┆ -1.11197  ┆ … ┆ [{\"sas_ad ┆ {\"upstrea ┆ [{\"nfe_ad ┆ 0.03903  │\n",
       "│ 534_G_GAA ┆ _exon_mon ┆ fe52358fa ┆           ┆   ┆ j\",0.0712 ┆ m_gene_va ┆ j\",0.0390 ┆          │\n",
       "│           ┆ ocyte_ens ┆ 03809bdb0 ┆           ┆   ┆ 27},      ┆ riant\",0. ┆ 3}]       ┆          │\n",
       "│           ┆ g00…      ┆ db2…      ┆           ┆   ┆ {\"remai…  ┆ 0,n…      ┆           ┆          │\n",
       "│ 10_100063 ┆ gtex_exon ┆ 7f24212f9 ┆ 0.412732  ┆ … ┆ [{\"sas_ad ┆ {\"intron_ ┆ [{\"nfe_ad ┆ 0.395246 │\n",
       "│ 173_T_G   ┆ _spleen_e ┆ 828dd4d13 ┆           ┆   ┆ j\",0.1410 ┆ variant\", ┆ j\",0.3952 ┆          │\n",
       "│           ┆ nsg000000 ┆ b848e3fba ┆           ┆   ┆ 2},       ┆ 0.1,null} ┆ 46}]      ┆          │\n",
       "│           ┆ 954…      ┆ c0d…      ┆           ┆   ┆ {\"remain… ┆           ┆           ┆          │\n",
       "│ 10_100111 ┆ gtex_exon ┆ 8dc7e55aa ┆ -0.311703 ┆ … ┆ [{\"sas_ad ┆ {\"intron_ ┆ [{\"nfe_ad ┆ 0.361636 │\n",
       "│ 179_C_T   ┆ _brain_hi ┆ 3a2982bf6 ┆           ┆   ┆ j\",0.1492 ┆ variant\", ┆ j\",0.3616 ┆          │\n",
       "│           ┆ ppocampus ┆ 89175d673 ┆           ┆   ┆ 63},      ┆ 0.1,null} ┆ 36}]      ┆          │\n",
       "│           ┆ _en…      ┆ d78…      ┆           ┆   ┆ {\"remai…  ┆           ┆           ┆          │\n",
       "└───────────┴───────────┴───────────┴───────────┴───┴───────────┴───────────┴───────────┴──────────┘"
      ]
     },
     "execution_count": 5,
     "metadata": {},
     "output_type": "execute_result"
    }
   ],
   "source": [
    "lead_variant_maf_dataset.head()\n"
   ]
  },
  {
   "cell_type": "markdown",
   "metadata": {},
   "source": [
    "### Calculate variance explained\n"
   ]
  },
  {
   "cell_type": "code",
   "execution_count": 6,
   "metadata": {},
   "outputs": [],
   "source": [
    "def variance_explained(p_value_mantissa: pl.Expr, p_value_exponent: pl.Expr, n_samples: pl.Expr) -> pl.Expr:\n",
    "    \"\"\"Estimate the variance explained by the lead variant in a dataset.\n",
    "\n",
    "    # NOTE! Calculate variance explained requires removal of the studies that have nSamples = 0\n",
    "    \"\"\"\n",
    "    p_value = (p_value_mantissa.cast(pl.Float64()) * pl.lit(10).pow(p_value_exponent.cast(pl.Float64()))).alias(\n",
    "        \"pValue\"\n",
    "    )\n",
    "    neglog_pval = -1 * p_value_mantissa.log10() + p_value_exponent\n",
    "    neglog_approximation_intercept = -5.367\n",
    "    neglog_approximation_coeff = 4.596\n",
    "    chi2_stat = (\n",
    "        pl.when(p_value_exponent < -300)\n",
    "        .then(neglog_pval * neglog_approximation_coeff + neglog_approximation_intercept)\n",
    "        .otherwise(p_value.map_elements(lambda x: chi2.isf(x, df=1), pl.Float64()))\n",
    "    ).alias(\"chi2Stat\")\n",
    "    variance_exp = (chi2_stat / n_samples).alias(\"varianceExplained\")\n",
    "\n",
    "    return pl.struct(chi2_stat, p_value, variance_exp).alias(\"leadVariantStats\")\n"
   ]
  },
  {
   "cell_type": "code",
   "execution_count": null,
   "metadata": {},
   "outputs": [],
   "source": [
    "df = lead_variant_maf_dataset.filter(pl.col(\"nSamples\").is_not_null() | pl.col(\"nSamples\") > 0).select(\n",
    "    \"*\",\n",
    "    variance_explained(\n",
    "        pl.col(\"pValueMantissa\"),\n",
    "        pl.col(\"pValueExponent\"),\n",
    "        pl.col(\"nSamples\"),\n",
    "    ),\n",
    ")\n",
    "df.write_parquet(\"lead-maf-vep-ve.parquet\")\n"
   ]
  },
  {
   "cell_type": "code",
   "execution_count": null,
   "metadata": {},
   "outputs": [
    {
     "data": {
      "text/plain": [
       "1050"
      ]
     },
     "execution_count": 90,
     "metadata": {},
     "output_type": "execute_result"
    }
   ],
   "source": [
    "lead_variant_maf_dataset.shape[0] - df.shape[0]\n"
   ]
  },
  {
   "cell_type": "markdown",
   "metadata": {},
   "source": [
    "Exactly 1050 samples have no `nSamples` disallowing us to calculate the varianceExplained\n"
   ]
  },
  {
   "cell_type": "markdown",
   "metadata": {},
   "source": [
    "## Rescale marginal effect size\n"
   ]
  },
  {
   "cell_type": "markdown",
   "metadata": {},
   "source": [
    "For very small p-values it is "
   ]
  },
  {
   "cell_type": "code",
   "execution_count": null,
   "metadata": {},
   "outputs": [],
   "source": [
    "exponents = list(range(len(10, 300, step=10)))\n",
    "import math\n",
    "\n",
    "\n",
    "def neglog_pval(pval: float) -> float:\n",
    "    return -1 * math.log(pval)\n",
    "\n",
    "\n",
    "# def estimate_chi2_from_neglog10_pval(neg)\n",
    "# est_chi2_from_high_neg_log10_pval=function(neg_log10_pval)\n",
    "#   chi2=neg_log10_pval*4.596-5.367\n",
    "#   chi2\n",
    "\n",
    "p_vals = [math.pow(10, -1 * e) for e in exponents]\n",
    "chi2_stats = [chi2.isf(pval) for pval in p_vals]\n",
    "sns.scatterplot(\n",
    "    chi2_stats,\n",
    ")\n"
   ]
  },
  {
   "cell_type": "code",
   "execution_count": 7,
   "metadata": {},
   "outputs": [],
   "source": [
    "def rescale_beta(\n",
    "    beta: pl.Expr,\n",
    "    n_cases: pl.Expr,\n",
    "    n_controls: pl.Expr,\n",
    "    n_samples: pl.Expr,\n",
    "    p_value_mantissa: pl.Expr,\n",
    "    p_value_exponent: pl.Expr,\n",
    "    maf: pl.Expr,\n",
    ") -> pl.Expr:\n",
    "    \"\"\"Rescale beta to be between 0 and 1.\"\"\"\n",
    "    neglog_approximation_intercept = -5.367\n",
    "    neglog_approximation_coeff = 4.596\n",
    "    trait_class = (\n",
    "        pl.when(n_cases.is_null())\n",
    "        .then(pl.lit(\"quantitative\"))\n",
    "        .when((n_cases == 0) | (n_controls == 0))\n",
    "        .then(pl.lit(\"quantitative\"))\n",
    "        .otherwise(pl.lit(\"binary\"))\n",
    "    )\n",
    "    p_value = (p_value_mantissa.cast(pl.Float64()) * pl.lit(10).pow(p_value_exponent.cast(pl.Float64()))).alias(\n",
    "        \"pValue\"\n",
    "    )\n",
    "    neglog_pval = -1 * p_value_mantissa.log10() + p_value_exponent\n",
    "    n_samples = pl.when(trait_class == \"quantitative\").then(n_samples).otherwise(n_cases + n_controls)\n",
    "    # Calculate the chi2 value - the calculation has to be approximated to the -neglog pval in case when exponent is very low\n",
    "    # otherwise the chi2 will be infinity. The approximate model metrics are based on the following assumptions.\n",
    "    chi2_stat = (\n",
    "        pl.when(p_value_exponent < -300)\n",
    "        .then(neglog_pval * neglog_approximation_coeff + neglog_approximation_intercept)\n",
    "        .otherwise(p_value.map_elements(lambda x: chi2.isf(x, df=1), pl.Float64()))\n",
    "    )\n",
    "    # In case beta is positive or not reported we use 1 as a sign\n",
    "    effect_direction = pl.when(beta < 0).then(pl.lit(-1)).otherwise(pl.lit(1))\n",
    "    z_score = effect_direction * chi2_stat.sqrt()\n",
    "    var_g = 2 * maf * (1 - maf)\n",
    "    prev = n_cases / (n_cases + n_controls)\n",
    "    se = (\n",
    "        pl.when(trait_class == \"quantitative\")\n",
    "        .then((1 / var_g * n_samples).sqrt())\n",
    "        .otherwise(1 / (var_g * n_samples * prev * (1 - prev)).sqrt())\n",
    "    )\n",
    "    new_beta = z_score * se\n",
    "\n",
    "    return pl.struct(\n",
    "        new_beta.alias(\"estimatedBeta\"),\n",
    "        trait_class.alias(\"traitClass\"),\n",
    "        chi2_stat.alias(\"chi2Stat\"),\n",
    "        se.alias(\"estimatedSE\"),\n",
    "        var_g.alias(\"varG\"),\n",
    "        prev.alias(\"prev\"),\n",
    "        n_samples.alias(\"nSamples\"),\n",
    "    ).alias(\"rescaledStatistics\")\n"
   ]
  },
  {
   "cell_type": "code",
   "execution_count": 8,
   "metadata": {},
   "outputs": [],
   "source": [
    "df2 = df.select(\n",
    "    \"*\",\n",
    "    rescale_beta(\n",
    "        pl.col(\"beta\"),\n",
    "        pl.col(\"nCases\"),\n",
    "        pl.col(\"nControls\"),\n",
    "        pl.col(\"nSamples\"),\n",
    "        pl.col(\"pValueMantissa\"),\n",
    "        pl.col(\"pValueExponent\"),\n",
    "        pl.col(\"majorPopulationMAF\"),\n",
    "    ),\n",
    ")\n"
   ]
  },
  {
   "cell_type": "code",
   "execution_count": 9,
   "metadata": {},
   "outputs": [
    {
     "data": {
      "text/plain": [
       "2621048"
      ]
     },
     "execution_count": 9,
     "metadata": {},
     "output_type": "execute_result"
    }
   ],
   "source": [
    "df3 = df2.filter(pl.col(\"majorPopulationMAF\") > 0.0).filter(\n",
    "    pl.col(\"rescaledStatistics\").struct.field(\"estimatedBeta\").is_infinite()\n",
    ")\n",
    "df2.shape[0] - df3.shape[0]\n"
   ]
  },
  {
   "cell_type": "code",
   "execution_count": null,
   "metadata": {},
   "outputs": [],
   "source": [
    "# Write the dataset\n",
    "df2.write_parquet(\"lead-maf-vep-rescaled-beta-ve.parquet\")\n"
   ]
  },
  {
   "cell_type": "code",
   "execution_count": 14,
   "metadata": {},
   "outputs": [
    {
     "data": {
      "text/plain": [
       "<Axes: xlabel='majorPopulationMAF', ylabel='estimatedBeta'>"
      ]
     },
     "execution_count": 14,
     "metadata": {},
     "output_type": "execute_result"
    },
    {
     "data": {
      "image/png": "[encoded data removed]",
      "text/plain": [
       "<Figure size 640x480 with 1 Axes>"
      ]
     },
     "metadata": {},
     "output_type": "display_data"
    }
   ],
   "source": [
    "# plot est beta vs maf\n",
    "\n",
    "import seaborn as sns\n",
    "\n",
    "df2 = pl.read_parquet(\"lead-maf-vep-rescaled-beta-ve.parquet\")\n",
    "\n",
    "data = df2.select(\n",
    "    pl.col(\"majorPopulationMAF\"), pl.col(\"rescaledStatistics\").struct.field(\"estimatedBeta\").abs(), pl.col(\"studyType\")\n",
    ").filter(pl.col(\"estimatedBeta\") < 5)\n",
    "sns.scatterplot(data, x=\"majorPopulationMAF\", y=\"estimatedBeta\", alpha=0.01)\n"
   ]
  },
  {
   "cell_type": "code",
   "execution_count": null,
   "metadata": {},
   "outputs": [
    {
     "data": {
      "text/html": [
       "<div><style>\n",
       ".dataframe > thead > tr,\n",
       ".dataframe > tbody > tr {\n",
       "  text-align: right;\n",
       "  white-space: pre-wrap;\n",
       "}\n",
       "</style>\n",
       "<small>shape: (5, 21)</small><table border=\"1\" class=\"dataframe\"><thead><tr><th>variantId</th><th>studyId</th><th>studyLocusId</th><th>beta</th><th>zScore</th><th>pValueMantissa</th><th>pValueExponent</th><th>standardError</th><th>finemappingMethod</th><th>studyType</th><th>credibleSetSize</th><th>nSamples</th><th>nControls</th><th>nCases</th><th>majorPopulation</th><th>allelefrequencies</th><th>vepEffect</th><th>majorPopulationAF</th><th>majorPopulationMAF</th><th>leadVariantStats</th><th>rescaledStatistics</th></tr><tr><td>str</td><td>str</td><td>str</td><td>f64</td><td>f64</td><td>f32</td><td>i32</td><td>f64</td><td>str</td><td>str</td><td>i32</td><td>i32</td><td>i32</td><td>i32</td><td>struct[2]</td><td>list[struct[2]]</td><td>struct[3]</td><td>list[struct[2]]</td><td>f64</td><td>struct[3]</td><td>struct[7]</td></tr></thead><tbody><tr><td>&quot;10_100011477_C_G&quot;</td><td>&quot;gtex_exon_adipose_subcutaneous…</td><td>&quot;89d0eb8376a8551e0595f02a2ba424…</td><td>0.335197</td><td>null</td><td>1.613</td><td>-8</td><td>0.058476</td><td>&quot;SuSie&quot;</td><td>&quot;eqtl&quot;</td><td>14</td><td>581</td><td>null</td><td>null</td><td>{&quot;nfe&quot;,0.0}</td><td>[{&quot;sas_adj&quot;,0.140307}, {&quot;remaining_adj&quot;,0.236942}, … {&quot;afr_adj&quot;,0.156099}]</td><td>{&quot;upstream_gene_variant&quot;,0.0,null}</td><td>[{&quot;nfe_adj&quot;,0.291447}]</td><td>0.291447</td><td>{31.912211,1.6130e-8,0.054926}</td><td>{211.877795,&quot;quantitative&quot;,31.912211,37.50654,0.413011,null,581}</td></tr><tr><td>&quot;10_100011477_C_G&quot;</td><td>&quot;gtex_exon_nerve_tibial_ensg000…</td><td>&quot;cbae94dbdf2ce21c8aaae9d88d1f1e…</td><td>0.222984</td><td>null</td><td>3.257</td><td>-8</td><td>0.0397304</td><td>&quot;SuSie&quot;</td><td>&quot;eqtl&quot;</td><td>66</td><td>532</td><td>null</td><td>null</td><td>{&quot;nfe&quot;,0.0}</td><td>[{&quot;sas_adj&quot;,0.140307}, {&quot;remaining_adj&quot;,0.236942}, … {&quot;afr_adj&quot;,0.156099}]</td><td>{&quot;upstream_gene_variant&quot;,0.0,null}</td><td>[{&quot;nfe_adj&quot;,0.291447}]</td><td>0.291447</td><td>{30.548044,3.2570e-8,0.057421}</td><td>{198.365645,&quot;quantitative&quot;,30.548044,35.890107,0.413011,null,532}</td></tr><tr><td>&quot;10_100019534_G_GAA&quot;</td><td>&quot;blueprint_exon_monocyte_ensg00…</td><td>&quot;b14db85f5fe52358fa03809bdb0db2…</td><td>-1.11197</td><td>null</td><td>2.4</td><td>-7</td><td>0.206856</td><td>&quot;SuSie&quot;</td><td>&quot;eqtl&quot;</td><td>1</td><td>191</td><td>null</td><td>null</td><td>{&quot;nfe&quot;,0.0}</td><td>[{&quot;sas_adj&quot;,0.071227}, {&quot;remaining_adj&quot;,0.075368}, … {&quot;afr_adj&quot;,0.189559}]</td><td>{&quot;upstream_gene_variant&quot;,0.0,null}</td><td>[{&quot;nfe_adj&quot;,0.03903}]</td><td>0.03903</td><td>{26.680755,2.4000e-7,0.13969}</td><td>{-260.641789,&quot;quantitative&quot;,26.680755,50.459737,0.075014,null,191}</td></tr><tr><td>&quot;10_100063173_T_G&quot;</td><td>&quot;gtex_exon_spleen_ensg000000954…</td><td>&quot;7f24212f9828dd4d13b848e3fbac0d…</td><td>0.412732</td><td>null</td><td>1.602</td><td>-7</td><td>0.0761278</td><td>&quot;SuSie&quot;</td><td>&quot;eqtl&quot;</td><td>43</td><td>227</td><td>null</td><td>null</td><td>{&quot;nfe&quot;,0.0}</td><td>[{&quot;sas_adj&quot;,0.14102}, {&quot;remaining_adj&quot;,0.340133}, … {&quot;afr_adj&quot;,0.189902}]</td><td>{&quot;intron_variant&quot;,0.1,null}</td><td>[{&quot;nfe_adj&quot;,0.395246}]</td><td>0.395246</td><td>{27.462141,1.6020e-7,0.120979}</td><td>{114.193674,&quot;quantitative&quot;,27.462141,21.790884,0.478053,null,227}</td></tr><tr><td>&quot;10_100111179_C_T&quot;</td><td>&quot;gtex_exon_brain_hippocampus_en…</td><td>&quot;8dc7e55aa3a2982bf689175d673d78…</td><td>-0.311703</td><td>null</td><td>6.748</td><td>-6</td><td>0.0668019</td><td>&quot;SuSie&quot;</td><td>&quot;eqtl&quot;</td><td>88</td><td>165</td><td>null</td><td>null</td><td>{&quot;nfe&quot;,0.0}</td><td>[{&quot;sas_adj&quot;,0.149263}, {&quot;remaining_adj&quot;,0.340364}, … {&quot;afr_adj&quot;,0.28714}]</td><td>{&quot;intron_variant&quot;,0.1,null}</td><td>[{&quot;nfe_adj&quot;,0.361636}]</td><td>0.361636</td><td>{20.263376,0.000007,0.122808}</td><td>{-85.09672,&quot;quantitative&quot;,20.263376,18.904139,0.461711,null,165}</td></tr></tbody></table></div>"
      ],
      "text/plain": [
       "shape: (5, 21)\n",
       "┌───────────┬───────────┬───────────┬───────────┬───┬───────────┬───────────┬───────────┬──────────┐\n",
       "│ variantId ┆ studyId   ┆ studyLocu ┆ beta      ┆ … ┆ majorPopu ┆ majorPopu ┆ leadVaria ┆ rescaled │\n",
       "│ ---       ┆ ---       ┆ sId       ┆ ---       ┆   ┆ lationAF  ┆ lationMAF ┆ ntStats   ┆ Statisti │\n",
       "│ str       ┆ str       ┆ ---       ┆ f64       ┆   ┆ ---       ┆ ---       ┆ ---       ┆ cs       │\n",
       "│           ┆           ┆ str       ┆           ┆   ┆ list[stru ┆ f64       ┆ struct[3] ┆ ---      │\n",
       "│           ┆           ┆           ┆           ┆   ┆ ct[2]]    ┆           ┆           ┆ struct[7 │\n",
       "│           ┆           ┆           ┆           ┆   ┆           ┆           ┆           ┆ ]        │\n",
       "╞═══════════╪═══════════╪═══════════╪═══════════╪═══╪═══════════╪═══════════╪═══════════╪══════════╡\n",
       "│ 10_100011 ┆ gtex_exon ┆ 89d0eb837 ┆ 0.335197  ┆ … ┆ [{\"nfe_ad ┆ 0.291447  ┆ {31.91221 ┆ {211.877 │\n",
       "│ 477_C_G   ┆ _adipose_ ┆ 6a8551e05 ┆           ┆   ┆ j\",0.2914 ┆           ┆ 1,1.6130e ┆ 795,\"qua │\n",
       "│           ┆ subcutane ┆ 95f02a2ba ┆           ┆   ┆ 47}]      ┆           ┆ -8,0.0549 ┆ ntitativ │\n",
       "│           ┆ ous…      ┆ 424…      ┆           ┆   ┆           ┆           ┆ 26}       ┆ e\",31.…  │\n",
       "│ 10_100011 ┆ gtex_exon ┆ cbae94dbd ┆ 0.222984  ┆ … ┆ [{\"nfe_ad ┆ 0.291447  ┆ {30.54804 ┆ {198.365 │\n",
       "│ 477_C_G   ┆ _nerve_ti ┆ f2ce21c8a ┆           ┆   ┆ j\",0.2914 ┆           ┆ 4,3.2570e ┆ 645,\"qua │\n",
       "│           ┆ bial_ensg ┆ aae9d88d1 ┆           ┆   ┆ 47}]      ┆           ┆ -8,0.0574 ┆ ntitativ │\n",
       "│           ┆ 000…      ┆ f1e…      ┆           ┆   ┆           ┆           ┆ 21}       ┆ e\",30.…  │\n",
       "│ 10_100019 ┆ blueprint ┆ b14db85f5 ┆ -1.11197  ┆ … ┆ [{\"nfe_ad ┆ 0.03903   ┆ {26.68075 ┆ {-260.64 │\n",
       "│ 534_G_GAA ┆ _exon_mon ┆ fe52358fa ┆           ┆   ┆ j\",0.0390 ┆           ┆ 5,2.4000e ┆ 1789,\"qu │\n",
       "│           ┆ ocyte_ens ┆ 03809bdb0 ┆           ┆   ┆ 3}]       ┆           ┆ -7,0.1396 ┆ antitati │\n",
       "│           ┆ g00…      ┆ db2…      ┆           ┆   ┆           ┆           ┆ 9}        ┆ ve\",26…  │\n",
       "│ 10_100063 ┆ gtex_exon ┆ 7f24212f9 ┆ 0.412732  ┆ … ┆ [{\"nfe_ad ┆ 0.395246  ┆ {27.46214 ┆ {114.193 │\n",
       "│ 173_T_G   ┆ _spleen_e ┆ 828dd4d13 ┆           ┆   ┆ j\",0.3952 ┆           ┆ 1,1.6020e ┆ 674,\"qua │\n",
       "│           ┆ nsg000000 ┆ b848e3fba ┆           ┆   ┆ 46}]      ┆           ┆ -7,0.1209 ┆ ntitativ │\n",
       "│           ┆ 954…      ┆ c0d…      ┆           ┆   ┆           ┆           ┆ 79}       ┆ e\",27.…  │\n",
       "│ 10_100111 ┆ gtex_exon ┆ 8dc7e55aa ┆ -0.311703 ┆ … ┆ [{\"nfe_ad ┆ 0.361636  ┆ {20.26337 ┆ {-85.096 │\n",
       "│ 179_C_T   ┆ _brain_hi ┆ 3a2982bf6 ┆           ┆   ┆ j\",0.3616 ┆           ┆ 6,0.00000 ┆ 72,\"quan │\n",
       "│           ┆ ppocampus ┆ 89175d673 ┆           ┆   ┆ 36}]      ┆           ┆ 7,0.12280 ┆ titative │\n",
       "│           ┆ _en…      ┆ d78…      ┆           ┆   ┆           ┆           ┆ 8}        ┆ \",20.2…  │\n",
       "└───────────┴───────────┴───────────┴───────────┴───┴───────────┴───────────┴───────────┴──────────┘"
      ]
     },
     "execution_count": 15,
     "metadata": {},
     "output_type": "execute_result"
    }
   ],
   "source": [
    "df2.head()\n"
   ]
  },
  {
   "cell_type": "markdown",
   "metadata": {},
   "source": [
    "# How many rare variants come from GWAS only vs "
   ]
  },
  {
   "cell_type": "code",
   "execution_count": null,
   "metadata": {},
   "outputs": [
    {
     "name": "stdout",
     "output_type": "stream",
     "text": [
      "all 120617\n",
      "gwas 40186\n"
     ]
    }
   ],
   "source": [
    "n_rare_var_all = (\n",
    "    lead_variant_maf_dataset.filter(pl.col(\"majorPopulationMAF\").is_not_null())\n",
    "    .filter(pl.col(\"majorPopulationMAF\") != 0.0)\n",
    "    .filter(pl.col(\"majorPopulationMAF\") < 0.01)\n",
    "    .shape[0]\n",
    ")\n",
    "n_all = (\n",
    "    lead_variant_maf_dataset.filter(pl.col(\"majorPopulationMAF\").is_not_null())\n",
    "    .filter(pl.col(\"majorPopulationMAF\") != 0.0)\n",
    "    .shape[0]\n",
    ")\n",
    "n_rare_var_gwas = (\n",
    "    lead_variant_maf_dataset.filter(pl.col(\"studyType\") == \"gwas\")\n",
    "    .filter(pl.col(\"majorPopulationMAF\").is_not_null())\n",
    "    .filter(pl.col(\"majorPopulationMAF\") != 0.0)\n",
    "    .filter(pl.col(\"majorPopulationMAF\") < 0.01)\n",
    "    .shape[0]\n",
    ")\n",
    "\n",
    "n_all_gwas = (\n",
    "    lead_variant_maf_dataset.filter(pl.col(\"studyType\") == \"gwas\")\n",
    "    .filter(pl.col(\"majorPopulationMAF\").is_not_null())\n",
    "    .filter(pl.col(\"majorPopulationMAF\") != 0.0)\n",
    "    .shape[0]\n",
    ")\n",
    "\n",
    "print(f\"all {n_rare_var_all}\")\n",
    "print(f\"gwas {n_rare_var_gwas}\")\n",
    "\n",
    "\n",
    "print(f\"\")\n"
   ]
  },
  {
   "cell_type": "code",
   "execution_count": null,
   "metadata": {},
   "outputs": [
    {
     "name": "stdout",
     "output_type": "stream",
     "text": [
      "       GWASCs\n",
      "group        \n",
      "0       44714\n",
      "1      532757\n"
     ]
    },
    {
     "data": {
      "text/html": [
       "<div>\n",
       "<style scoped>\n",
       "    .dataframe tbody tr th:only-of-type {\n",
       "        vertical-align: middle;\n",
       "    }\n",
       "\n",
       "    .dataframe tbody tr th {\n",
       "        vertical-align: top;\n",
       "    }\n",
       "\n",
       "    .dataframe thead th {\n",
       "        text-align: right;\n",
       "    }\n",
       "</style>\n",
       "<table border=\"1\" class=\"dataframe\">\n",
       "  <thead>\n",
       "    <tr style=\"text-align: right;\">\n",
       "      <th></th>\n",
       "      <th>AllCs</th>\n",
       "      <th>GWASCs</th>\n",
       "    </tr>\n",
       "    <tr>\n",
       "      <th>group</th>\n",
       "      <th></th>\n",
       "      <th></th>\n",
       "    </tr>\n",
       "  </thead>\n",
       "  <tbody>\n",
       "    <tr>\n",
       "      <th>0</th>\n",
       "      <td>126063</td>\n",
       "      <td>44714</td>\n",
       "    </tr>\n",
       "    <tr>\n",
       "      <th>1</th>\n",
       "      <td>2496035</td>\n",
       "      <td>532757</td>\n",
       "    </tr>\n",
       "  </tbody>\n",
       "</table>\n",
       "</div>"
      ],
      "text/plain": [
       "         AllCs  GWASCs\n",
       "group                 \n",
       "0       126063   44714\n",
       "1      2496035  532757"
      ]
     },
     "execution_count": 48,
     "metadata": {},
     "output_type": "execute_result"
    }
   ],
   "source": [
    "_all = (\n",
    "    lead_variant_maf_dataset.select(\n",
    "        pl.when((pl.col(\"majorPopulationMAF\").is_not_null()) & (pl.col(\"majorPopulationMAF\") > 0.01))\n",
    "        .then(1)\n",
    "        .otherwise(0)\n",
    "        .alias(\"rareAllCs\")\n",
    "    )\n",
    "    .group_by(\"rareAllCs\")\n",
    "    .len()\n",
    "    .to_pandas()\n",
    "    .rename(columns={\"len\": \"AllCs\", \"rareAllCs\": \"group\"})\n",
    "    .set_index(\"group\")\n",
    ")\n",
    "_gwas = (\n",
    "    lead_variant_maf_dataset.filter(pl.col(\"studyType\") == \"gwas\")\n",
    "    .select(\n",
    "        pl.when((pl.col(\"majorPopulationMAF\").is_not_null()) & (pl.col(\"majorPopulationMAF\") > 0.01))\n",
    "        .then(1)\n",
    "        .otherwise(0)\n",
    "        .alias(\"rareGWASCs\")\n",
    "    )\n",
    "    .group_by(\"rareGWASCs\")\n",
    "    .len()\n",
    "    .to_pandas()\n",
    "    .rename(columns={\"len\": \"GWASCs\", \"rareGWASCs\": \"group\"})\n",
    "    .set_index(\"group\")\n",
    ")\n",
    "\n",
    "\n",
    "print(_gwas)\n",
    "_all.join(_gwas)\n"
   ]
  },
  {
   "cell_type": "code",
   "execution_count": null,
   "metadata": {},
   "outputs": [
    {
     "name": "stdout",
     "output_type": "stream",
     "text": [
      "0.6017591305270131 ConfidenceInterval(low=0.5950592515706303, high=0.6085421666812814)\n"
     ]
    }
   ],
   "source": [
    "from scipy.stats.contingency import odds_ratio\n",
    "\n",
    "res = odds_ratio(_all.join(_gwas))\n",
    "print(res.statistic, res.confidence_interval(0.95))\n"
   ]
  },
  {
   "cell_type": "markdown",
   "metadata": {},
   "source": [
    "1. GWAS releated creadible sets devide by quatatave and binary \n",
    "\n",
    "When rescaled abs(beta) > 3 (exclude from analysis)\n",
    "\n",
    "2 plots\n",
    "* abs(beta) / mean allele freq\n",
    "* novel vs known\n",
    "\n",
    "\n",
    "2 plots\n",
    "* square beta vs maf(1-maf)\n",
    "\n",
    "\n",
    "2. for binary traits (GWAS only) how many have rescaled beta > 1 > 2 > 3 >\n",
    "3. for binary traits (exclude abs(beta) > 3), use non abs beta, swap the beta sign in case the AF > 0.5 -> histogram\n",
    "\n",
    "4. send the file\n"
   ]
  },
  {
   "cell_type": "markdown",
   "metadata": {},
   "source": [
    "pleiotropicity on variant level!\n"
   ]
  },
  {
   "cell_type": "code",
   "execution_count": null,
   "metadata": {},
   "outputs": [],
   "source": []
  },
  {
   "cell_type": "code",
   "execution_count": null,
   "metadata": {},
   "outputs": [],
   "source": []
  },
  {
   "cell_type": "code",
   "execution_count": null,
   "metadata": {},
   "outputs": [],
   "source": []
  },
  {
   "cell_type": "code",
   "execution_count": null,
   "metadata": {},
   "outputs": [],
   "source": []
  },
  {
   "cell_type": "code",
   "execution_count": null,
   "metadata": {},
   "outputs": [],
   "source": []
  },
  {
   "cell_type": "code",
   "execution_count": null,
   "metadata": {},
   "outputs": [],
   "source": []
  },
  {
   "cell_type": "code",
   "execution_count": null,
   "metadata": {},
   "outputs": [],
   "source": []
  },
  {
   "cell_type": "code",
   "execution_count": null,
   "metadata": {},
   "outputs": [],
   "source": []
  },
  {
   "cell_type": "code",
   "execution_count": null,
   "metadata": {},
   "outputs": [],
   "source": []
  },
  {
   "cell_type": "code",
   "execution_count": null,
   "metadata": {},
   "outputs": [],
   "source": []
  },
  {
   "cell_type": "code",
   "execution_count": null,
   "metadata": {},
   "outputs": [],
   "source": []
  },
  {
   "cell_type": "code",
   "execution_count": null,
   "metadata": {},
   "outputs": [],
   "source": []
  },
  {
   "cell_type": "code",
   "execution_count": null,
   "metadata": {},
   "outputs": [],
   "source": []
  },
  {
   "cell_type": "code",
   "execution_count": null,
   "metadata": {},
   "outputs": [],
   "source": []
  },
  {
   "cell_type": "code",
   "execution_count": null,
   "metadata": {},
   "outputs": [],
   "source": []
  },
  {
   "cell_type": "code",
   "execution_count": null,
   "metadata": {},
   "outputs": [],
   "source": []
  },
  {
   "cell_type": "code",
   "execution_count": null,
   "metadata": {},
   "outputs": [],
   "source": []
  },
  {
   "cell_type": "code",
   "execution_count": null,
   "metadata": {},
   "outputs": [],
   "source": []
  },
  {
   "cell_type": "code",
   "execution_count": null,
   "metadata": {},
   "outputs": [],
   "source": []
  },
  {
   "cell_type": "code",
   "execution_count": null,
   "metadata": {},
   "outputs": [],
   "source": []
  },
  {
   "cell_type": "code",
   "execution_count": null,
   "metadata": {},
   "outputs": [],
   "source": []
  },
  {
   "cell_type": "code",
   "execution_count": null,
   "metadata": {},
   "outputs": [],
   "source": []
  },
  {
   "cell_type": "code",
   "execution_count": null,
   "metadata": {},
   "outputs": [],
   "source": []
  },
  {
   "cell_type": "code",
   "execution_count": null,
   "metadata": {},
   "outputs": [],
   "source": []
  },
  {
   "cell_type": "code",
   "execution_count": null,
   "metadata": {},
   "outputs": [],
   "source": []
  },
  {
   "cell_type": "code",
   "execution_count": null,
   "metadata": {},
   "outputs": [],
   "source": []
  },
  {
   "cell_type": "code",
   "execution_count": null,
   "metadata": {},
   "outputs": [],
   "source": []
  },
  {
   "cell_type": "code",
   "execution_count": null,
   "metadata": {},
   "outputs": [],
   "source": []
  },
  {
   "cell_type": "code",
   "execution_count": null,
   "metadata": {},
   "outputs": [],
   "source": []
  },
  {
   "cell_type": "code",
   "execution_count": null,
   "metadata": {},
   "outputs": [],
   "source": []
  },
  {
   "cell_type": "code",
   "execution_count": null,
   "metadata": {},
   "outputs": [],
   "source": []
  },
  {
   "cell_type": "code",
   "execution_count": null,
   "metadata": {},
   "outputs": [],
   "source": []
  },
  {
   "cell_type": "code",
   "execution_count": null,
   "metadata": {},
   "outputs": [],
   "source": []
  },
  {
   "cell_type": "code",
   "execution_count": null,
   "metadata": {},
   "outputs": [],
   "source": []
  },
  {
   "cell_type": "code",
   "execution_count": null,
   "metadata": {},
   "outputs": [],
   "source": []
  }
 ],
 "metadata": {
  "kernelspec": {
   "display_name": ".venv",
   "language": "python",
   "name": "python3"
  },
  "language_info": {
   "codemirror_mode": {
    "name": "ipython",
    "version": 3
   },
   "file_extension": ".py",
   "mimetype": "text/x-python",
   "name": "python",
   "nbconvert_exporter": "python",
   "pygments_lexer": "ipython3",
   "version": "3.11.11"
  }
 },
 "nbformat": 4,
 "nbformat_minor": 2
}

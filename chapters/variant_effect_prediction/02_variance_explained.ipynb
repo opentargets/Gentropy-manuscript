{
 "cells": [
  {
   "cell_type": "markdown",
   "metadata": {},
   "source": [
    "# Variance Explained\n",
    "\n",
    "The goal of this notebook is to add a variance explained calculated as\n",
    "`chi2.cdf(pvalue, df=1)`\n"
   ]
  },
  {
   "cell_type": "code",
   "execution_count": null,
   "metadata": {},
   "outputs": [],
   "source": [
    "import polars as pl\n",
    "from scipy.stats import chi2\n"
   ]
  },
  {
   "cell_type": "markdown",
   "metadata": {},
   "source": [
    "### Load the dataset from previous notebook"
   ]
  },
  {
   "cell_type": "code",
   "execution_count": 4,
   "metadata": {},
   "outputs": [],
   "source": [
    "lead_variant_maf_dataset = pl.read_parquet(\"lead-maf-vep/*.parquet\")\n"
   ]
  },
  {
   "cell_type": "code",
   "execution_count": 5,
   "metadata": {},
   "outputs": [
    {
     "data": {
      "text/plain": [
       "(2622098, 19)"
      ]
     },
     "execution_count": 5,
     "metadata": {},
     "output_type": "execute_result"
    }
   ],
   "source": [
    "lead_variant_maf_dataset.shape\n"
   ]
  },
  {
   "cell_type": "code",
   "execution_count": 4,
   "metadata": {},
   "outputs": [
    {
     "data": {
      "text/html": [
       "<div><style>\n",
       ".dataframe > thead > tr,\n",
       ".dataframe > tbody > tr {\n",
       "  text-align: right;\n",
       "  white-space: pre-wrap;\n",
       "}\n",
       "</style>\n",
       "<small>shape: (5, 18)</small><table border=\"1\" class=\"dataframe\"><thead><tr><th>studyId</th><th>studyLocusId</th><th>variantId</th><th>beta</th><th>zScore</th><th>pValueMantissa</th><th>pValueExponent</th><th>standardError</th><th>finemappingMethod</th><th>studyType</th><th>credibleSetSize</th><th>nCases</th><th>nControls</th><th>nSamples</th><th>majorPopulation</th><th>majorPopulationMAF</th><th>majorPopulationAlleleFrequency</th><th>vepEffect</th></tr><tr><td>str</td><td>str</td><td>str</td><td>f64</td><td>f64</td><td>f32</td><td>i32</td><td>f64</td><td>str</td><td>str</td><td>i64</td><td>i32</td><td>i32</td><td>i32</td><td>struct[2]</td><td>f64</td><td>list[struct[2]]</td><td>struct[3]</td></tr></thead><tbody><tr><td>&quot;gtex_txrev_prostate_ensg000001…</td><td>&quot;9cf8bb4583ab369310742a50dee370…</td><td>&quot;13_45342674_C_T&quot;</td><td>-1.21864</td><td>null</td><td>4.021</td><td>-7</td><td>0.232593</td><td>&quot;SuSie&quot;</td><td>&quot;tuqtl&quot;</td><td>30</td><td>null</td><td>null</td><td>218</td><td>{&quot;nfe&quot;,0.0}</td><td>0.000559</td><td>[{&quot;nfe_adj&quot;,0.000559}]</td><td>{&quot;intron_variant&quot;,0.1,null}</td></tr><tr><td>&quot;schmiedel_2018_tx_th2_memory_e…</td><td>&quot;998d6b254b25f87d2b500e587ad60b…</td><td>&quot;13_45342825_C_T&quot;</td><td>1.6927</td><td>null</td><td>4.536</td><td>-11</td><td>0.219494</td><td>&quot;SuSie&quot;</td><td>&quot;eqtl&quot;</td><td>31</td><td>null</td><td>null</td><td>89</td><td>{&quot;nfe&quot;,0.0}</td><td>0.112651</td><td>[{&quot;nfe_adj&quot;,0.112651}]</td><td>{&quot;intron_variant&quot;,0.1,null}</td></tr><tr><td>&quot;gtex_txrev_uterus_ensg00000170…</td><td>&quot;4666d5e4fb13431c5937e45720730e…</td><td>&quot;13_45343039_A_T&quot;</td><td>0.935377</td><td>null</td><td>1.71</td><td>-7</td><td>0.167887</td><td>&quot;SuSie&quot;</td><td>&quot;tuqtl&quot;</td><td>22</td><td>null</td><td>null</td><td>129</td><td>{&quot;nfe&quot;,0.0}</td><td>0.112192</td><td>[{&quot;nfe_adj&quot;,0.112192}]</td><td>{&quot;intron_variant&quot;,0.1,null}</td></tr><tr><td>&quot;gtex_txrev_muscle_ensg00000170…</td><td>&quot;26633dba587823b0add355f3e67881…</td><td>&quot;13_45343765_C_T&quot;</td><td>0.521832</td><td>null</td><td>2.387</td><td>-4</td><td>0.141282</td><td>&quot;SuSie&quot;</td><td>&quot;tuqtl&quot;</td><td>8</td><td>null</td><td>null</td><td>702</td><td>{&quot;nfe&quot;,0.0}</td><td>0.020081</td><td>[{&quot;nfe_adj&quot;,0.020081}]</td><td>{&quot;intron_variant&quot;,0.1,null}</td></tr><tr><td>&quot;phlips_exon_ipsc_ensg000001709…</td><td>&quot;bece5b71efb8e16685c1318cac9864…</td><td>&quot;13_45344247_T_TTTTTA&quot;</td><td>-0.67395</td><td>null</td><td>8.559</td><td>-6</td><td>0.139961</td><td>&quot;SuSie&quot;</td><td>&quot;eqtl&quot;</td><td>1</td><td>null</td><td>null</td><td>83</td><td>{&quot;nfe&quot;,0.0}</td><td>0.369299</td><td>[{&quot;nfe_adj&quot;,0.630701}]</td><td>{&quot;intron_variant&quot;,0.1,null}</td></tr></tbody></table></div>"
      ],
      "text/plain": [
       "shape: (5, 18)\n",
       "┌───────────┬───────────┬───────────┬──────────┬───┬───────────┬───────────┬───────────┬───────────┐\n",
       "│ studyId   ┆ studyLocu ┆ variantId ┆ beta     ┆ … ┆ majorPopu ┆ majorPopu ┆ majorPopu ┆ vepEffect │\n",
       "│ ---       ┆ sId       ┆ ---       ┆ ---      ┆   ┆ lation    ┆ lationMAF ┆ lationAll ┆ ---       │\n",
       "│ str       ┆ ---       ┆ str       ┆ f64      ┆   ┆ ---       ┆ ---       ┆ eleFreque ┆ struct[3] │\n",
       "│           ┆ str       ┆           ┆          ┆   ┆ struct[2] ┆ f64       ┆ ncy       ┆           │\n",
       "│           ┆           ┆           ┆          ┆   ┆           ┆           ┆ ---       ┆           │\n",
       "│           ┆           ┆           ┆          ┆   ┆           ┆           ┆ list[stru ┆           │\n",
       "│           ┆           ┆           ┆          ┆   ┆           ┆           ┆ ct[2]]    ┆           │\n",
       "╞═══════════╪═══════════╪═══════════╪══════════╪═══╪═══════════╪═══════════╪═══════════╪═══════════╡\n",
       "│ gtex_txre ┆ 9cf8bb458 ┆ 13_453426 ┆ -1.21864 ┆ … ┆ {\"nfe\",0. ┆ 0.000559  ┆ [{\"nfe_ad ┆ {\"intron_ │\n",
       "│ v_prostat ┆ 3ab369310 ┆ 74_C_T    ┆          ┆   ┆ 0}        ┆           ┆ j\",0.0005 ┆ variant\", │\n",
       "│ e_ensg000 ┆ 742a50dee ┆           ┆          ┆   ┆           ┆           ┆ 59}]      ┆ 0.1,null} │\n",
       "│ 001…      ┆ 370…      ┆           ┆          ┆   ┆           ┆           ┆           ┆           │\n",
       "│ schmiedel ┆ 998d6b254 ┆ 13_453428 ┆ 1.6927   ┆ … ┆ {\"nfe\",0. ┆ 0.112651  ┆ [{\"nfe_ad ┆ {\"intron_ │\n",
       "│ _2018_tx_ ┆ b25f87d2b ┆ 25_C_T    ┆          ┆   ┆ 0}        ┆           ┆ j\",0.1126 ┆ variant\", │\n",
       "│ th2_memor ┆ 500e587ad ┆           ┆          ┆   ┆           ┆           ┆ 51}]      ┆ 0.1,null} │\n",
       "│ y_e…      ┆ 60b…      ┆           ┆          ┆   ┆           ┆           ┆           ┆           │\n",
       "│ gtex_txre ┆ 4666d5e4f ┆ 13_453430 ┆ 0.935377 ┆ … ┆ {\"nfe\",0. ┆ 0.112192  ┆ [{\"nfe_ad ┆ {\"intron_ │\n",
       "│ v_uterus_ ┆ b13431c59 ┆ 39_A_T    ┆          ┆   ┆ 0}        ┆           ┆ j\",0.1121 ┆ variant\", │\n",
       "│ ensg00000 ┆ 37e457207 ┆           ┆          ┆   ┆           ┆           ┆ 92}]      ┆ 0.1,null} │\n",
       "│ 170…      ┆ 30e…      ┆           ┆          ┆   ┆           ┆           ┆           ┆           │\n",
       "│ gtex_txre ┆ 26633dba5 ┆ 13_453437 ┆ 0.521832 ┆ … ┆ {\"nfe\",0. ┆ 0.020081  ┆ [{\"nfe_ad ┆ {\"intron_ │\n",
       "│ v_muscle_ ┆ 87823b0ad ┆ 65_C_T    ┆          ┆   ┆ 0}        ┆           ┆ j\",0.0200 ┆ variant\", │\n",
       "│ ensg00000 ┆ d355f3e67 ┆           ┆          ┆   ┆           ┆           ┆ 81}]      ┆ 0.1,null} │\n",
       "│ 170…      ┆ 881…      ┆           ┆          ┆   ┆           ┆           ┆           ┆           │\n",
       "│ phlips_ex ┆ bece5b71e ┆ 13_453442 ┆ -0.67395 ┆ … ┆ {\"nfe\",0. ┆ 0.369299  ┆ [{\"nfe_ad ┆ {\"intron_ │\n",
       "│ on_ipsc_e ┆ fb8e16685 ┆ 47_T_TTTT ┆          ┆   ┆ 0}        ┆           ┆ j\",0.6307 ┆ variant\", │\n",
       "│ nsg000001 ┆ c1318cac9 ┆ TA        ┆          ┆   ┆           ┆           ┆ 01}]      ┆ 0.1,null} │\n",
       "│ 709…      ┆ 864…      ┆           ┆          ┆   ┆           ┆           ┆           ┆           │\n",
       "└───────────┴───────────┴───────────┴──────────┴───┴───────────┴───────────┴───────────┴───────────┘"
      ]
     },
     "execution_count": 4,
     "metadata": {},
     "output_type": "execute_result"
    }
   ],
   "source": [
    "lead_variant_maf_dataset.head()\n"
   ]
  },
  {
   "cell_type": "code",
   "execution_count": 6,
   "metadata": {},
   "outputs": [],
   "source": [
    "# NOTE! Calculate variance explained requires removal of the studies that have nSamples = 0\n",
    "df = (\n",
    "    lead_variant_maf_dataset.filter(pl.col(\"nSamples\").is_not_null())\n",
    "    .select(\n",
    "        \"*\",\n",
    "        (pl.col(\"pValueMantissa\") * 10).pow(pl.col(\"pValueExponent\")).alias(\"pValue\"),\n",
    "        (pl.col(\"pValueMantissa\") * 10)\n",
    "        .pow(pl.col(\"pValueExponent\").map_elements(lambda x: chi2.cdf(x, 1), pl.Float64()))\n",
    "        .alias(\"cdf\"),\n",
    "    )\n",
    "    .select(\n",
    "        \"*\",\n",
    "        (pl.col(\"cdf\") / pl.col(\"nSamples\")).alias(\"varianceExplained\"),\n",
    "    )\n",
    ")\n"
   ]
  },
  {
   "cell_type": "code",
   "execution_count": null,
   "metadata": {},
   "outputs": [],
   "source": [
    "df.write_parquet(\"lead-maf-vep-ve.parquet\")\n"
   ]
  },
  {
   "cell_type": "code",
   "execution_count": null,
   "metadata": {},
   "outputs": [
    {
     "data": {
      "text/plain": [
       "-1050"
      ]
     },
     "execution_count": 9,
     "metadata": {},
     "output_type": "execute_result"
    }
   ],
   "source": [
    "df.shape[0] - lead_variant_maf_dataset.shape[0]\n"
   ]
  },
  {
   "cell_type": "markdown",
   "metadata": {},
   "source": [
    "Exactly 1050 samples have no `nSamples` disallowing us to calculate the varianceExplained"
   ]
  }
 ],
 "metadata": {
  "kernelspec": {
   "display_name": ".venv",
   "language": "python",
   "name": "python3"
  },
  "language_info": {
   "codemirror_mode": {
    "name": "ipython",
    "version": 3
   },
   "file_extension": ".py",
   "mimetype": "text/x-python",
   "name": "python",
   "nbconvert_exporter": "python",
   "pygments_lexer": "ipython3",
   "version": "3.11.11"
  }
 },
 "nbformat": 4,
 "nbformat_minor": 2
}

{
 "cells": [
  {
   "cell_type": "markdown",
   "metadata": {},
   "source": [
    "# Variance Explained\n",
    "\n",
    "The goal of this notebook is to add a variance explained calculated as\n",
    "`chi2.isf(pvalue, df=1)`\n"
   ]
  },
  {
   "cell_type": "code",
   "execution_count": null,
   "metadata": {},
   "outputs": [],
   "source": [
    "import polars as pl\n",
    "from scipy.stats import chi2\n"
   ]
  },
  {
   "cell_type": "markdown",
   "metadata": {},
   "source": [
    "### Load the dataset from previous notebook\n"
   ]
  },
  {
   "cell_type": "code",
   "execution_count": 5,
   "metadata": {},
   "outputs": [
    {
     "name": "stdout",
     "output_type": "stream",
     "text": [
      "(2622098, 19)\n",
      "['variantId', 'studyId', 'studyLocusId', 'beta', 'zScore', 'pValueMantissa', 'pValueExponent', 'standardError', 'finemappingMethod', 'studyType', 'credibleSetSize', 'nSamples', 'nControls', 'nCases', 'majorPopulation', 'allelefrequencies', 'vepEffect', 'majorPopulationAF', 'majorPopulationMAF']\n"
     ]
    }
   ],
   "source": [
    "lead_variant_maf_dataset = pl.read_parquet(\"lead-maf-vep/*.parquet\")\n",
    "print(lead_variant_maf_dataset.shape)\n",
    "print(lead_variant_maf_dataset.columns)\n"
   ]
  },
  {
   "cell_type": "markdown",
   "metadata": {},
   "source": [
    "### Calculate variance explained\n"
   ]
  },
  {
   "cell_type": "code",
   "execution_count": 29,
   "metadata": {},
   "outputs": [],
   "source": [
    "def variance_explained(p_value_mantissa: pl.Expr, p_value_exponent: pl.Expr, n_samples: pl.Expr) -> pl.Expr:\n",
    "    \"\"\"Estimate the variance explained by the lead variant in a dataset.\n",
    "\n",
    "    # NOTE! Calculate variance explained requires removal of the studies that have nSamples = 0\n",
    "    \"\"\"\n",
    "    p_value = (p_value_mantissa.cast(pl.Float64()) * pl.lit(10).pow(p_value_exponent.cast(pl.Float64()))).alias(\n",
    "        \"pValue\"\n",
    "    )\n",
    "    neglog_pval = -1 * p_value_mantissa.log10() + p_value_exponent\n",
    "    neglog_approximation_intercept = -5.367\n",
    "    neglog_approximation_coeff = 4.596\n",
    "    chi2_stat = (\n",
    "        pl.when(p_value_exponent < -300)\n",
    "        .then(neglog_pval * neglog_approximation_coeff + neglog_approximation_intercept)\n",
    "        .otherwise(p_value.map_elements(lambda x: chi2.isf(x, df=1), pl.Float64()))\n",
    "    ).alias(\"chi2Stat\")\n",
    "    variance_exp = (chi2_stat / n_samples).alias(\"varianceExplained\")\n",
    "\n",
    "    return pl.struct(chi2_stat, p_value, variance_exp).alias(\"leadVariantStats\")\n"
   ]
  },
  {
   "cell_type": "code",
   "execution_count": null,
   "metadata": {},
   "outputs": [],
   "source": [
    "df = lead_variant_maf_dataset.filter(pl.col(\"nSamples\").is_not_null() | pl.col(\"nSamples\") > 0).select(\n",
    "    \"*\",\n",
    "    variance_explained(\n",
    "        pl.col(\"pValueMantissa\"),\n",
    "        pl.col(\"pValueExponent\"),\n",
    "        pl.col(\"nSamples\"),\n",
    "    ),\n",
    ")\n"
   ]
  },
  {
   "cell_type": "code",
   "execution_count": 32,
   "metadata": {},
   "outputs": [],
   "source": [
    "df.write_parquet(\"variance-explained.parquet\")\n"
   ]
  },
  {
   "cell_type": "code",
   "execution_count": 33,
   "metadata": {},
   "outputs": [
    {
     "data": {
      "text/plain": [
       "1050"
      ]
     },
     "execution_count": 33,
     "metadata": {},
     "output_type": "execute_result"
    }
   ],
   "source": [
    "lead_variant_maf_dataset.shape[0] - df.shape[0]\n"
   ]
  },
  {
   "cell_type": "markdown",
   "metadata": {},
   "source": [
    "Exactly 1050 samples have no `nSamples` disallowing us to calculate the varianceExplained\n"
   ]
  },
  {
   "cell_type": "markdown",
   "metadata": {},
   "source": [
    "## Rescale marginal effect size\n"
   ]
  },
  {
   "cell_type": "markdown",
   "metadata": {},
   "source": [
    "For very small p-values it is\n"
   ]
  },
  {
   "cell_type": "code",
   "execution_count": null,
   "metadata": {},
   "outputs": [],
   "source": [
    "def rescale_beta(\n",
    "    beta: pl.Expr,\n",
    "    n_cases: pl.Expr,\n",
    "    n_controls: pl.Expr,\n",
    "    n_samples: pl.Expr,\n",
    "    p_value_mantissa: pl.Expr,\n",
    "    p_value_exponent: pl.Expr,\n",
    "    maf: pl.Expr,\n",
    ") -> pl.Expr:\n",
    "    \"\"\"Rescale beta to be between 0 and 1.\"\"\"\n",
    "    neglog_approximation_intercept = -5.367\n",
    "    neglog_approximation_coeff = 4.596\n",
    "    trait_class = (\n",
    "        pl.when(n_cases.is_null())\n",
    "        .then(pl.lit(\"quantitative\"))\n",
    "        .when((n_cases == 0) | (n_controls == 0))\n",
    "        .then(pl.lit(\"quantitative\"))\n",
    "        .otherwise(pl.lit(\"binary\"))\n",
    "    )\n",
    "    p_value = (p_value_mantissa.cast(pl.Float64()) * pl.lit(10).pow(p_value_exponent.cast(pl.Float64()))).alias(\n",
    "        \"pValue\"\n",
    "    )\n",
    "    neglog_pval = -1 * p_value_mantissa.log10() + p_value_exponent\n",
    "    n_samples = pl.when(trait_class == \"quantitative\").then(n_samples).otherwise(n_cases + n_controls)\n",
    "    # Calculate the chi2 value - the calculation has to be approximated to the -neglog pval in case when exponent is very low\n",
    "    # otherwise the chi2 will be infinity.\n",
    "    chi2_stat = (\n",
    "        pl.when(p_value_exponent < -300)\n",
    "        .then(neglog_pval * neglog_approximation_coeff + neglog_approximation_intercept)\n",
    "        .otherwise(p_value.map_elements(lambda x: chi2.isf(x, df=1), pl.Float64()))\n",
    "    )\n",
    "    # In case beta is positive or not reported we use 1 as a sign\n",
    "    effect_direction = pl.when(beta < 0).then(pl.lit(-1)).otherwise(pl.lit(1))\n",
    "    z_score = effect_direction * chi2_stat.sqrt()\n",
    "    var_g = 2 * maf * (1 - maf)\n",
    "    prev = n_cases / (n_cases + n_controls)\n",
    "    se = (\n",
    "        pl.when(trait_class == \"quantitative\")\n",
    "        .then((1 / (var_g * n_samples)).sqrt())\n",
    "        .otherwise((1 / (var_g * n_samples * prev * (1 - prev))).sqrt())\n",
    "    )\n",
    "    new_beta = z_score * se\n",
    "\n",
    "    return pl.struct(\n",
    "        new_beta.alias(\"estimatedBeta\"),\n",
    "        trait_class.alias(\"traitClass\"),\n",
    "        chi2_stat.alias(\"chi2Stat\"),\n",
    "        se.alias(\"estimatedSE\"),\n",
    "        var_g.alias(\"varG\"),\n",
    "        prev.alias(\"prev\"),\n",
    "        n_samples.alias(\"nSamples\"),\n",
    "    ).alias(\"rescaledStatistics\")\n"
   ]
  },
  {
   "cell_type": "code",
   "execution_count": 45,
   "metadata": {},
   "outputs": [],
   "source": [
    "df2 = df.select(\n",
    "    \"*\",\n",
    "    rescale_beta(\n",
    "        pl.col(\"beta\"),\n",
    "        pl.col(\"nCases\"),\n",
    "        pl.col(\"nControls\"),\n",
    "        pl.col(\"nSamples\"),\n",
    "        pl.col(\"pValueMantissa\"),\n",
    "        pl.col(\"pValueExponent\"),\n",
    "        pl.col(\"majorPopulationMAF\"),\n",
    "    ),\n",
    ")\n"
   ]
  },
  {
   "cell_type": "code",
   "execution_count": 40,
   "metadata": {},
   "outputs": [
    {
     "data": {
      "text/plain": [
       "3778"
      ]
     },
     "execution_count": 40,
     "metadata": {},
     "output_type": "execute_result"
    }
   ],
   "source": [
    "df3 = df2.filter(pl.col(\"majorPopulationMAF\") == 0.0).filter(\n",
    "    pl.col(\"rescaledStatistics\").struct.field(\"estimatedBeta\").is_infinite()\n",
    ")\n",
    "df3.shape[0]\n"
   ]
  },
  {
   "cell_type": "markdown",
   "metadata": {},
   "source": [
    "We have 3778 lead variants that have major population MAF = 0.0\n"
   ]
  },
  {
   "cell_type": "code",
   "execution_count": null,
   "metadata": {},
   "outputs": [],
   "source": [
    "# Write the dataset\n",
    "df2.write_parquet(\"rescaled-betas.parquet\")\n"
   ]
  },
  {
   "cell_type": "code",
   "execution_count": null,
   "metadata": {},
   "outputs": [
    {
     "data": {
      "text/html": [
       "<div><style>\n",
       ".dataframe > thead > tr,\n",
       ".dataframe > tbody > tr {\n",
       "  text-align: right;\n",
       "  white-space: pre-wrap;\n",
       "}\n",
       "</style>\n",
       "<small>shape: (9, 2)</small><table border=\"1\" class=\"dataframe\"><thead><tr><th>statistic</th><th>estimatedBeta</th></tr><tr><td>str</td><td>f64</td></tr></thead><tbody><tr><td>&quot;count&quot;</td><td>69725.0</td></tr><tr><td>&quot;null_count&quot;</td><td>0.0</td></tr><tr><td>&quot;mean&quot;</td><td>0.907295</td></tr><tr><td>&quot;std&quot;</td><td>6.406072</td></tr><tr><td>&quot;min&quot;</td><td>0.010357</td></tr><tr><td>&quot;25%&quot;</td><td>0.048874</td></tr><tr><td>&quot;50%&quot;</td><td>0.085318</td></tr><tr><td>&quot;75%&quot;</td><td>0.189065</td></tr><tr><td>&quot;max&quot;</td><td>820.178296</td></tr></tbody></table></div>"
      ],
      "text/plain": [
       "shape: (9, 2)\n",
       "┌────────────┬───────────────┐\n",
       "│ statistic  ┆ estimatedBeta │\n",
       "│ ---        ┆ ---           │\n",
       "│ str        ┆ f64           │\n",
       "╞════════════╪═══════════════╡\n",
       "│ count      ┆ 69725.0       │\n",
       "│ null_count ┆ 0.0           │\n",
       "│ mean       ┆ 0.907295      │\n",
       "│ std        ┆ 6.406072      │\n",
       "│ min        ┆ 0.010357      │\n",
       "│ 25%        ┆ 0.048874      │\n",
       "│ 50%        ┆ 0.085318      │\n",
       "│ 75%        ┆ 0.189065      │\n",
       "│ max        ┆ 820.178296    │\n",
       "└────────────┴───────────────┘"
      ]
     },
     "execution_count": 63,
     "metadata": {},
     "output_type": "execute_result"
    }
   ],
   "source": [
    "df2.select(pl.col(\"rescaledStatistics\").struct.unnest()).filter(pl.col(\"traitClass\") == \"binary\").filter(\n",
    "    pl.col(\"estimatedBeta\").is_finite()\n",
    ").select(pl.col(\"estimatedBeta\").abs()).describe()\n"
   ]
  },
  {
   "cell_type": "code",
   "execution_count": 62,
   "metadata": {},
   "outputs": [
    {
     "data": {
      "text/html": [
       "<div><style>\n",
       ".dataframe > thead > tr,\n",
       ".dataframe > tbody > tr {\n",
       "  text-align: right;\n",
       "  white-space: pre-wrap;\n",
       "}\n",
       "</style>\n",
       "<small>shape: (9, 2)</small><table border=\"1\" class=\"dataframe\"><thead><tr><th>statistic</th><th>estimatedBeta</th></tr><tr><td>str</td><td>f64</td></tr></thead><tbody><tr><td>&quot;count&quot;</td><td>2.53998e6</td></tr><tr><td>&quot;null_count&quot;</td><td>0.0</td></tr><tr><td>&quot;mean&quot;</td><td>1.066917</td></tr><tr><td>&quot;std&quot;</td><td>2.991953</td></tr><tr><td>&quot;min&quot;</td><td>0.003516</td></tr><tr><td>&quot;25%&quot;</td><td>0.413165</td></tr><tr><td>&quot;50%&quot;</td><td>0.693346</td></tr><tr><td>&quot;75%&quot;</td><td>1.06016</td></tr><tr><td>&quot;max&quot;</td><td>576.10404</td></tr></tbody></table></div>"
      ],
      "text/plain": [
       "shape: (9, 2)\n",
       "┌────────────┬───────────────┐\n",
       "│ statistic  ┆ estimatedBeta │\n",
       "│ ---        ┆ ---           │\n",
       "│ str        ┆ f64           │\n",
       "╞════════════╪═══════════════╡\n",
       "│ count      ┆ 2.53998e6     │\n",
       "│ null_count ┆ 0.0           │\n",
       "│ mean       ┆ 1.066917      │\n",
       "│ std        ┆ 2.991953      │\n",
       "│ min        ┆ 0.003516      │\n",
       "│ 25%        ┆ 0.413165      │\n",
       "│ 50%        ┆ 0.693346      │\n",
       "│ 75%        ┆ 1.06016       │\n",
       "│ max        ┆ 576.10404     │\n",
       "└────────────┴───────────────┘"
      ]
     },
     "execution_count": 62,
     "metadata": {},
     "output_type": "execute_result"
    }
   ],
   "source": [
    "df2.select(pl.col(\"rescaledStatistics\").struct.unnest()).filter(pl.col(\"traitClass\") == \"quantitative\").filter(\n",
    "    pl.col(\"estimatedBeta\").is_finite()\n",
    ").select(pl.col(\"estimatedBeta\").abs()).describe()\n"
   ]
  },
  {
   "cell_type": "markdown",
   "metadata": {},
   "source": [
    "1. GWAS releated creadible sets devide by quatatave and binary\n",
    "\n",
    "When rescaled abs(beta) > 3 (exclude from analysis)\n",
    "\n",
    "2 plots\n",
    "\n",
    "- abs(beta) / mean allele freq\n",
    "- novel vs known\n",
    "\n",
    "2 plots\n",
    "\n",
    "- square beta vs maf(1-maf)\n",
    "\n",
    "2. for binary traits (GWAS only) how many have rescaled beta > 1 > 2 > 3 >\n",
    "3. for binary traits (exclude abs(beta) > 3), use non abs beta, swap the beta sign in case the AF > 0.5 -> histogram\n",
    "\n",
    "4. send the file\n"
   ]
  },
  {
   "cell_type": "markdown",
   "metadata": {},
   "source": [
    "pleiotropicity on variant level!\n"
   ]
  }
 ],
 "metadata": {
  "kernelspec": {
   "display_name": ".venv",
   "language": "python",
   "name": "python3"
  },
  "language_info": {
   "codemirror_mode": {
    "name": "ipython",
    "version": 3
   },
   "file_extension": ".py",
   "mimetype": "text/x-python",
   "name": "python",
   "nbconvert_exporter": "python",
   "pygments_lexer": "ipython3",
   "version": "3.11.11"
  }
 },
 "nbformat": 4,
 "nbformat_minor": 2
}

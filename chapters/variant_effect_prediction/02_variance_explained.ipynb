{
 "cells": [
  {
   "cell_type": "markdown",
   "metadata": {},
   "source": [
    "# Variance Explained\n",
    "\n",
    "The goal of this notebook is to add a variance explained calculated as\n",
    "`chi2.ppf(pvalue, df=1)`\n"
   ]
  },
  {
   "cell_type": "code",
   "execution_count": 25,
   "metadata": {},
   "outputs": [],
   "source": [
    "import polars as pl\n",
    "from scipy.stats import chi2\n",
    "import seaborn as sns\n"
   ]
  },
  {
   "cell_type": "markdown",
   "metadata": {},
   "source": [
    "### Load the dataset from previous notebook\n"
   ]
  },
  {
   "cell_type": "code",
   "execution_count": 26,
   "metadata": {},
   "outputs": [],
   "source": [
    "lead_variant_maf_dataset = pl.read_parquet(\"lead-maf-vep/*.parquet\")\n"
   ]
  },
  {
   "cell_type": "code",
   "execution_count": 27,
   "metadata": {},
   "outputs": [
    {
     "data": {
      "text/plain": [
       "(2622098, 19)"
      ]
     },
     "execution_count": 27,
     "metadata": {},
     "output_type": "execute_result"
    }
   ],
   "source": [
    "lead_variant_maf_dataset.shape\n"
   ]
  },
  {
   "cell_type": "code",
   "execution_count": 28,
   "metadata": {},
   "outputs": [
    {
     "data": {
      "text/html": [
       "<div><style>\n",
       ".dataframe > thead > tr,\n",
       ".dataframe > tbody > tr {\n",
       "  text-align: right;\n",
       "  white-space: pre-wrap;\n",
       "}\n",
       "</style>\n",
       "<small>shape: (5, 19)</small><table border=\"1\" class=\"dataframe\"><thead><tr><th>variantId</th><th>studyId</th><th>studyLocusId</th><th>beta</th><th>zScore</th><th>pValueMantissa</th><th>pValueExponent</th><th>standardError</th><th>finemappingMethod</th><th>studyType</th><th>credibleSetSize</th><th>nSamples</th><th>nControls</th><th>nCases</th><th>majorPopulation</th><th>allelefrequencies</th><th>vepEffect</th><th>majorPopulationAF</th><th>majorPopulationMAF</th></tr><tr><td>str</td><td>str</td><td>str</td><td>f64</td><td>f64</td><td>f32</td><td>i32</td><td>f64</td><td>str</td><td>str</td><td>i32</td><td>i32</td><td>i32</td><td>i32</td><td>struct[2]</td><td>list[struct[2]]</td><td>struct[3]</td><td>list[struct[2]]</td><td>f64</td></tr></thead><tbody><tr><td>&quot;10_100011477_C_G&quot;</td><td>&quot;gtex_exon_adipose_subcutaneous…</td><td>&quot;89d0eb8376a8551e0595f02a2ba424…</td><td>0.335197</td><td>null</td><td>1.613</td><td>-8</td><td>0.058476</td><td>&quot;SuSie&quot;</td><td>&quot;eqtl&quot;</td><td>14</td><td>581</td><td>null</td><td>null</td><td>{&quot;nfe&quot;,0.0}</td><td>[{&quot;sas_adj&quot;,0.140307}, {&quot;remaining_adj&quot;,0.236942}, … {&quot;afr_adj&quot;,0.156099}]</td><td>{&quot;upstream_gene_variant&quot;,0.0,null}</td><td>[{&quot;nfe_adj&quot;,0.291447}]</td><td>0.291447</td></tr><tr><td>&quot;10_100011477_C_G&quot;</td><td>&quot;gtex_exon_nerve_tibial_ensg000…</td><td>&quot;cbae94dbdf2ce21c8aaae9d88d1f1e…</td><td>0.222984</td><td>null</td><td>3.257</td><td>-8</td><td>0.0397304</td><td>&quot;SuSie&quot;</td><td>&quot;eqtl&quot;</td><td>66</td><td>532</td><td>null</td><td>null</td><td>{&quot;nfe&quot;,0.0}</td><td>[{&quot;sas_adj&quot;,0.140307}, {&quot;remaining_adj&quot;,0.236942}, … {&quot;afr_adj&quot;,0.156099}]</td><td>{&quot;upstream_gene_variant&quot;,0.0,null}</td><td>[{&quot;nfe_adj&quot;,0.291447}]</td><td>0.291447</td></tr><tr><td>&quot;10_100019534_G_GAA&quot;</td><td>&quot;blueprint_exon_monocyte_ensg00…</td><td>&quot;b14db85f5fe52358fa03809bdb0db2…</td><td>-1.11197</td><td>null</td><td>2.4</td><td>-7</td><td>0.206856</td><td>&quot;SuSie&quot;</td><td>&quot;eqtl&quot;</td><td>1</td><td>191</td><td>null</td><td>null</td><td>{&quot;nfe&quot;,0.0}</td><td>[{&quot;sas_adj&quot;,0.071227}, {&quot;remaining_adj&quot;,0.075368}, … {&quot;afr_adj&quot;,0.189559}]</td><td>{&quot;upstream_gene_variant&quot;,0.0,null}</td><td>[{&quot;nfe_adj&quot;,0.03903}]</td><td>0.03903</td></tr><tr><td>&quot;10_100063173_T_G&quot;</td><td>&quot;gtex_exon_spleen_ensg000000954…</td><td>&quot;7f24212f9828dd4d13b848e3fbac0d…</td><td>0.412732</td><td>null</td><td>1.602</td><td>-7</td><td>0.0761278</td><td>&quot;SuSie&quot;</td><td>&quot;eqtl&quot;</td><td>43</td><td>227</td><td>null</td><td>null</td><td>{&quot;nfe&quot;,0.0}</td><td>[{&quot;sas_adj&quot;,0.14102}, {&quot;remaining_adj&quot;,0.340133}, … {&quot;afr_adj&quot;,0.189902}]</td><td>{&quot;intron_variant&quot;,0.1,null}</td><td>[{&quot;nfe_adj&quot;,0.395246}]</td><td>0.395246</td></tr><tr><td>&quot;10_100111179_C_T&quot;</td><td>&quot;gtex_exon_brain_hippocampus_en…</td><td>&quot;8dc7e55aa3a2982bf689175d673d78…</td><td>-0.311703</td><td>null</td><td>6.748</td><td>-6</td><td>0.0668019</td><td>&quot;SuSie&quot;</td><td>&quot;eqtl&quot;</td><td>88</td><td>165</td><td>null</td><td>null</td><td>{&quot;nfe&quot;,0.0}</td><td>[{&quot;sas_adj&quot;,0.149263}, {&quot;remaining_adj&quot;,0.340364}, … {&quot;afr_adj&quot;,0.28714}]</td><td>{&quot;intron_variant&quot;,0.1,null}</td><td>[{&quot;nfe_adj&quot;,0.361636}]</td><td>0.361636</td></tr></tbody></table></div>"
      ],
      "text/plain": [
       "shape: (5, 19)\n",
       "┌───────────┬───────────┬───────────┬───────────┬───┬───────────┬───────────┬───────────┬──────────┐\n",
       "│ variantId ┆ studyId   ┆ studyLocu ┆ beta      ┆ … ┆ allelefre ┆ vepEffect ┆ majorPopu ┆ majorPop │\n",
       "│ ---       ┆ ---       ┆ sId       ┆ ---       ┆   ┆ quencies  ┆ ---       ┆ lationAF  ┆ ulationM │\n",
       "│ str       ┆ str       ┆ ---       ┆ f64       ┆   ┆ ---       ┆ struct[3] ┆ ---       ┆ AF       │\n",
       "│           ┆           ┆ str       ┆           ┆   ┆ list[stru ┆           ┆ list[stru ┆ ---      │\n",
       "│           ┆           ┆           ┆           ┆   ┆ ct[2]]    ┆           ┆ ct[2]]    ┆ f64      │\n",
       "╞═══════════╪═══════════╪═══════════╪═══════════╪═══╪═══════════╪═══════════╪═══════════╪══════════╡\n",
       "│ 10_100011 ┆ gtex_exon ┆ 89d0eb837 ┆ 0.335197  ┆ … ┆ [{\"sas_ad ┆ {\"upstrea ┆ [{\"nfe_ad ┆ 0.291447 │\n",
       "│ 477_C_G   ┆ _adipose_ ┆ 6a8551e05 ┆           ┆   ┆ j\",0.1403 ┆ m_gene_va ┆ j\",0.2914 ┆          │\n",
       "│           ┆ subcutane ┆ 95f02a2ba ┆           ┆   ┆ 07},      ┆ riant\",0. ┆ 47}]      ┆          │\n",
       "│           ┆ ous…      ┆ 424…      ┆           ┆   ┆ {\"remai…  ┆ 0,n…      ┆           ┆          │\n",
       "│ 10_100011 ┆ gtex_exon ┆ cbae94dbd ┆ 0.222984  ┆ … ┆ [{\"sas_ad ┆ {\"upstrea ┆ [{\"nfe_ad ┆ 0.291447 │\n",
       "│ 477_C_G   ┆ _nerve_ti ┆ f2ce21c8a ┆           ┆   ┆ j\",0.1403 ┆ m_gene_va ┆ j\",0.2914 ┆          │\n",
       "│           ┆ bial_ensg ┆ aae9d88d1 ┆           ┆   ┆ 07},      ┆ riant\",0. ┆ 47}]      ┆          │\n",
       "│           ┆ 000…      ┆ f1e…      ┆           ┆   ┆ {\"remai…  ┆ 0,n…      ┆           ┆          │\n",
       "│ 10_100019 ┆ blueprint ┆ b14db85f5 ┆ -1.11197  ┆ … ┆ [{\"sas_ad ┆ {\"upstrea ┆ [{\"nfe_ad ┆ 0.03903  │\n",
       "│ 534_G_GAA ┆ _exon_mon ┆ fe52358fa ┆           ┆   ┆ j\",0.0712 ┆ m_gene_va ┆ j\",0.0390 ┆          │\n",
       "│           ┆ ocyte_ens ┆ 03809bdb0 ┆           ┆   ┆ 27},      ┆ riant\",0. ┆ 3}]       ┆          │\n",
       "│           ┆ g00…      ┆ db2…      ┆           ┆   ┆ {\"remai…  ┆ 0,n…      ┆           ┆          │\n",
       "│ 10_100063 ┆ gtex_exon ┆ 7f24212f9 ┆ 0.412732  ┆ … ┆ [{\"sas_ad ┆ {\"intron_ ┆ [{\"nfe_ad ┆ 0.395246 │\n",
       "│ 173_T_G   ┆ _spleen_e ┆ 828dd4d13 ┆           ┆   ┆ j\",0.1410 ┆ variant\", ┆ j\",0.3952 ┆          │\n",
       "│           ┆ nsg000000 ┆ b848e3fba ┆           ┆   ┆ 2},       ┆ 0.1,null} ┆ 46}]      ┆          │\n",
       "│           ┆ 954…      ┆ c0d…      ┆           ┆   ┆ {\"remain… ┆           ┆           ┆          │\n",
       "│ 10_100111 ┆ gtex_exon ┆ 8dc7e55aa ┆ -0.311703 ┆ … ┆ [{\"sas_ad ┆ {\"intron_ ┆ [{\"nfe_ad ┆ 0.361636 │\n",
       "│ 179_C_T   ┆ _brain_hi ┆ 3a2982bf6 ┆           ┆   ┆ j\",0.1492 ┆ variant\", ┆ j\",0.3616 ┆          │\n",
       "│           ┆ ppocampus ┆ 89175d673 ┆           ┆   ┆ 63},      ┆ 0.1,null} ┆ 36}]      ┆          │\n",
       "│           ┆ _en…      ┆ d78…      ┆           ┆   ┆ {\"remai…  ┆           ┆           ┆          │\n",
       "└───────────┴───────────┴───────────┴───────────┴───┴───────────┴───────────┴───────────┴──────────┘"
      ]
     },
     "execution_count": 28,
     "metadata": {},
     "output_type": "execute_result"
    }
   ],
   "source": [
    "lead_variant_maf_dataset.head()\n"
   ]
  },
  {
   "cell_type": "markdown",
   "metadata": {},
   "source": [
    "### Calculate variance explained\n"
   ]
  },
  {
   "cell_type": "code",
   "execution_count": 29,
   "metadata": {},
   "outputs": [],
   "source": [
    "def variance_explained(p_value_mantissa: pl.Expr, p_value_exponent: pl.Expr, n_samples: pl.Expr) -> pl.Expr:\n",
    "    \"\"\"Estimate the variance explained by the lead variant in a dataset.\n",
    "\n",
    "    # NOTE! Calculate variance explained requires removal of the studies that have nSamples = 0\n",
    "    \"\"\"\n",
    "    p_value = (p_value_mantissa.cast(pl.Float64()) * pl.lit(10).pow(p_value_exponent.cast(pl.Float64()))).alias(\n",
    "        \"pValue\"\n",
    "    )\n",
    "    neglog_pval = -1 * p_value_mantissa.log10() + p_value_exponent\n",
    "    neglog_approximation_intercept = -5.367\n",
    "    neglog_approximation_coeff = 4.596\n",
    "    chi2_stat = (\n",
    "        pl.when(p_value_exponent < -300)\n",
    "        .then(neglog_pval * neglog_approximation_coeff + neglog_approximation_intercept)\n",
    "        .otherwise(p_value.map_elements(lambda x: chi2.isf(x, df=1), pl.Float64()))\n",
    "    ).alias(\"chi2Stat\")\n",
    "    variance_exp = (chi2_stat / n_samples).alias(\"varianceExplained\")\n",
    "\n",
    "    return pl.struct(chi2_stat, p_value, variance_exp).alias(\"leadVariantStats\")\n"
   ]
  },
  {
   "cell_type": "code",
   "execution_count": null,
   "metadata": {},
   "outputs": [],
   "source": [
    "df = lead_variant_maf_dataset.filter(pl.col(\"nSamples\").is_not_null() | pl.col(\"nSamples\") > 0).select(\n",
    "    \"*\",\n",
    "    variance_explained(\n",
    "        pl.col(\"pValueMantissa\"),\n",
    "        pl.col(\"pValueExponent\"),\n",
    "        pl.col(\"nSamples\"),\n",
    "    ),\n",
    ")\n"
   ]
  },
  {
   "cell_type": "code",
   "execution_count": 32,
   "metadata": {},
   "outputs": [],
   "source": [
    "df.write_parquet(\"variance-explained.parquet\")\n"
   ]
  },
  {
   "cell_type": "code",
   "execution_count": 33,
   "metadata": {},
   "outputs": [
    {
     "data": {
      "text/plain": [
       "1050"
      ]
     },
     "execution_count": 33,
     "metadata": {},
     "output_type": "execute_result"
    }
   ],
   "source": [
    "lead_variant_maf_dataset.shape[0] - df.shape[0]\n"
   ]
  },
  {
   "cell_type": "markdown",
   "metadata": {},
   "source": [
    "Exactly 1050 samples have no `nSamples` disallowing us to calculate the varianceExplained\n"
   ]
  },
  {
   "cell_type": "markdown",
   "metadata": {},
   "source": [
    "## Rescale marginal effect size\n"
   ]
  },
  {
   "cell_type": "markdown",
   "metadata": {},
   "source": [
    "For very small p-values it is\n"
   ]
  },
  {
   "cell_type": "code",
   "execution_count": 34,
   "metadata": {},
   "outputs": [
    {
     "ename": "TypeError",
     "evalue": "len() takes no keyword arguments",
     "output_type": "error",
     "traceback": [
      "\u001b[31m---------------------------------------------------------------------------\u001b[39m",
      "\u001b[31mTypeError\u001b[39m                                 Traceback (most recent call last)",
      "\u001b[36mCell\u001b[39m\u001b[36m \u001b[39m\u001b[32mIn[34]\u001b[39m\u001b[32m, line 1\u001b[39m\n\u001b[32m----> \u001b[39m\u001b[32m1\u001b[39m exponents = \u001b[38;5;28mlist\u001b[39m(\u001b[38;5;28mrange\u001b[39m(\u001b[38;5;28;43mlen\u001b[39;49m\u001b[43m(\u001b[49m\u001b[32;43m10\u001b[39;49m\u001b[43m,\u001b[49m\u001b[43m \u001b[49m\u001b[32;43m300\u001b[39;49m\u001b[43m,\u001b[49m\u001b[43m \u001b[49m\u001b[43mstep\u001b[49m\u001b[43m=\u001b[49m\u001b[32;43m10\u001b[39;49m\u001b[43m)\u001b[49m))\n\u001b[32m      2\u001b[39m \u001b[38;5;28;01mimport\u001b[39;00m\u001b[38;5;250m \u001b[39m\u001b[34;01mmath\u001b[39;00m\n\u001b[32m      5\u001b[39m \u001b[38;5;28;01mdef\u001b[39;00m\u001b[38;5;250m \u001b[39m\u001b[34mneglog_pval\u001b[39m(pval: \u001b[38;5;28mfloat\u001b[39m) -> \u001b[38;5;28mfloat\u001b[39m:\n",
      "\u001b[31mTypeError\u001b[39m: len() takes no keyword arguments"
     ]
    }
   ],
   "source": [
    "exponents = list(range(len(10, 300, step=10)))\n",
    "import math\n",
    "\n",
    "\n",
    "def neglog_pval(pval: float) -> float:\n",
    "    return -1 * math.log(pval)\n",
    "\n",
    "\n",
    "# def estimate_chi2_from_neglog10_pval(neg)\n",
    "# est_chi2_from_high_neg_log10_pval=function(neg_log10_pval)\n",
    "#   chi2=neg_log10_pval*4.596-5.367\n",
    "#   chi2\n",
    "\n",
    "p_vals = [math.pow(10, -1 * e) for e in exponents]\n",
    "chi2_stats = [chi2.isf(pval) for pval in p_vals]\n",
    "sns.scatterplot(\n",
    "    chi2_stats,\n",
    ")\n"
   ]
  },
  {
   "cell_type": "code",
   "execution_count": 44,
   "metadata": {},
   "outputs": [],
   "source": [
    "def rescale_beta(\n",
    "    beta: pl.Expr,\n",
    "    n_cases: pl.Expr,\n",
    "    n_controls: pl.Expr,\n",
    "    n_samples: pl.Expr,\n",
    "    p_value_mantissa: pl.Expr,\n",
    "    p_value_exponent: pl.Expr,\n",
    "    maf: pl.Expr,\n",
    ") -> pl.Expr:\n",
    "    \"\"\"Rescale beta to be between 0 and 1.\"\"\"\n",
    "    neglog_approximation_intercept = -5.367\n",
    "    neglog_approximation_coeff = 4.596\n",
    "    trait_class = (\n",
    "        pl.when(n_cases.is_null())\n",
    "        .then(pl.lit(\"quantitative\"))\n",
    "        .when((n_cases == 0) | (n_controls == 0))\n",
    "        .then(pl.lit(\"quantitative\"))\n",
    "        .otherwise(pl.lit(\"binary\"))\n",
    "    )\n",
    "    p_value = (p_value_mantissa.cast(pl.Float64()) * pl.lit(10).pow(p_value_exponent.cast(pl.Float64()))).alias(\n",
    "        \"pValue\"\n",
    "    )\n",
    "    neglog_pval = -1 * p_value_mantissa.log10() + p_value_exponent\n",
    "    n_samples = pl.when(trait_class == \"quantitative\").then(n_samples).otherwise(n_cases + n_controls)\n",
    "    # Calculate the chi2 value - the calculation has to be approximated to the -neglog pval in case when exponent is very low\n",
    "    # otherwise the chi2 will be infinity. The approximate model metrics are based on the following assumptions.\n",
    "    chi2_stat = (\n",
    "        pl.when(p_value_exponent < -300)\n",
    "        .then(neglog_pval * neglog_approximation_coeff + neglog_approximation_intercept)\n",
    "        .otherwise(p_value.map_elements(lambda x: chi2.isf(x, df=1), pl.Float64()))\n",
    "    )\n",
    "    # In case beta is positive or not reported we use 1 as a sign\n",
    "    effect_direction = pl.when(beta < 0).then(pl.lit(-1)).otherwise(pl.lit(1))\n",
    "    z_score = effect_direction * chi2_stat.sqrt()\n",
    "    var_g = 2 * maf * (1 - maf)\n",
    "    prev = n_cases / (n_cases + n_controls)\n",
    "    se = (\n",
    "        pl.when(trait_class == \"quantitative\")\n",
    "        .then((1 / (var_g * n_samples)).sqrt())\n",
    "        .otherwise((1 / (var_g * n_samples * prev * (1 - prev))).sqrt())\n",
    "    )\n",
    "    new_beta = z_score * se\n",
    "\n",
    "    return pl.struct(\n",
    "        new_beta.alias(\"estimatedBeta\"),\n",
    "        trait_class.alias(\"traitClass\"),\n",
    "        chi2_stat.alias(\"chi2Stat\"),\n",
    "        se.alias(\"estimatedSE\"),\n",
    "        var_g.alias(\"varG\"),\n",
    "        prev.alias(\"prev\"),\n",
    "        n_samples.alias(\"nSamples\"),\n",
    "    ).alias(\"rescaledStatistics\")\n"
   ]
  },
  {
   "cell_type": "code",
   "execution_count": 45,
   "metadata": {},
   "outputs": [],
   "source": [
    "df2 = df.select(\n",
    "    \"*\",\n",
    "    rescale_beta(\n",
    "        pl.col(\"beta\"),\n",
    "        pl.col(\"nCases\"),\n",
    "        pl.col(\"nControls\"),\n",
    "        pl.col(\"nSamples\"),\n",
    "        pl.col(\"pValueMantissa\"),\n",
    "        pl.col(\"pValueExponent\"),\n",
    "        pl.col(\"majorPopulationMAF\"),\n",
    "    ),\n",
    ")\n"
   ]
  },
  {
   "cell_type": "code",
   "execution_count": 40,
   "metadata": {},
   "outputs": [
    {
     "data": {
      "text/plain": [
       "3778"
      ]
     },
     "execution_count": 40,
     "metadata": {},
     "output_type": "execute_result"
    }
   ],
   "source": [
    "df3 = df2.filter(pl.col(\"majorPopulationMAF\") == 0.0).filter(\n",
    "    pl.col(\"rescaledStatistics\").struct.field(\"estimatedBeta\").is_infinite()\n",
    ")\n",
    "df3.shape[0]\n"
   ]
  },
  {
   "cell_type": "markdown",
   "metadata": {},
   "source": [
    "We have 3778 lead variants that have major population MAF = 0.0\n"
   ]
  },
  {
   "cell_type": "code",
   "execution_count": null,
   "metadata": {},
   "outputs": [],
   "source": [
    "# Write the dataset\n",
    "df2.write_parquet(\"rescaled-betas.parquet\")\n"
   ]
  },
  {
   "cell_type": "code",
   "execution_count": null,
   "metadata": {},
   "outputs": [
    {
     "data": {
      "text/html": [
       "<div><style>\n",
       ".dataframe > thead > tr,\n",
       ".dataframe > tbody > tr {\n",
       "  text-align: right;\n",
       "  white-space: pre-wrap;\n",
       "}\n",
       "</style>\n",
       "<small>shape: (9, 2)</small><table border=\"1\" class=\"dataframe\"><thead><tr><th>statistic</th><th>estimatedBeta</th></tr><tr><td>str</td><td>f64</td></tr></thead><tbody><tr><td>&quot;count&quot;</td><td>69725.0</td></tr><tr><td>&quot;null_count&quot;</td><td>0.0</td></tr><tr><td>&quot;mean&quot;</td><td>0.907295</td></tr><tr><td>&quot;std&quot;</td><td>6.406072</td></tr><tr><td>&quot;min&quot;</td><td>0.010357</td></tr><tr><td>&quot;25%&quot;</td><td>0.048874</td></tr><tr><td>&quot;50%&quot;</td><td>0.085318</td></tr><tr><td>&quot;75%&quot;</td><td>0.189065</td></tr><tr><td>&quot;max&quot;</td><td>820.178296</td></tr></tbody></table></div>"
      ],
      "text/plain": [
       "shape: (9, 2)\n",
       "┌────────────┬───────────────┐\n",
       "│ statistic  ┆ estimatedBeta │\n",
       "│ ---        ┆ ---           │\n",
       "│ str        ┆ f64           │\n",
       "╞════════════╪═══════════════╡\n",
       "│ count      ┆ 69725.0       │\n",
       "│ null_count ┆ 0.0           │\n",
       "│ mean       ┆ 0.907295      │\n",
       "│ std        ┆ 6.406072      │\n",
       "│ min        ┆ 0.010357      │\n",
       "│ 25%        ┆ 0.048874      │\n",
       "│ 50%        ┆ 0.085318      │\n",
       "│ 75%        ┆ 0.189065      │\n",
       "│ max        ┆ 820.178296    │\n",
       "└────────────┴───────────────┘"
      ]
     },
     "execution_count": 63,
     "metadata": {},
     "output_type": "execute_result"
    }
   ],
   "source": [
    "df2.select(pl.col(\"rescaledStatistics\").struct.unnest()).filter(pl.col(\"traitClass\") == \"binary\").filter(\n",
    "    pl.col(\"estimatedBeta\").is_finite()\n",
    ").select(pl.col(\"estimatedBeta\").abs()).describe()\n"
   ]
  },
  {
   "cell_type": "code",
   "execution_count": 62,
   "metadata": {},
   "outputs": [
    {
     "data": {
      "text/html": [
       "<div><style>\n",
       ".dataframe > thead > tr,\n",
       ".dataframe > tbody > tr {\n",
       "  text-align: right;\n",
       "  white-space: pre-wrap;\n",
       "}\n",
       "</style>\n",
       "<small>shape: (9, 2)</small><table border=\"1\" class=\"dataframe\"><thead><tr><th>statistic</th><th>estimatedBeta</th></tr><tr><td>str</td><td>f64</td></tr></thead><tbody><tr><td>&quot;count&quot;</td><td>2.53998e6</td></tr><tr><td>&quot;null_count&quot;</td><td>0.0</td></tr><tr><td>&quot;mean&quot;</td><td>1.066917</td></tr><tr><td>&quot;std&quot;</td><td>2.991953</td></tr><tr><td>&quot;min&quot;</td><td>0.003516</td></tr><tr><td>&quot;25%&quot;</td><td>0.413165</td></tr><tr><td>&quot;50%&quot;</td><td>0.693346</td></tr><tr><td>&quot;75%&quot;</td><td>1.06016</td></tr><tr><td>&quot;max&quot;</td><td>576.10404</td></tr></tbody></table></div>"
      ],
      "text/plain": [
       "shape: (9, 2)\n",
       "┌────────────┬───────────────┐\n",
       "│ statistic  ┆ estimatedBeta │\n",
       "│ ---        ┆ ---           │\n",
       "│ str        ┆ f64           │\n",
       "╞════════════╪═══════════════╡\n",
       "│ count      ┆ 2.53998e6     │\n",
       "│ null_count ┆ 0.0           │\n",
       "│ mean       ┆ 1.066917      │\n",
       "│ std        ┆ 2.991953      │\n",
       "│ min        ┆ 0.003516      │\n",
       "│ 25%        ┆ 0.413165      │\n",
       "│ 50%        ┆ 0.693346      │\n",
       "│ 75%        ┆ 1.06016       │\n",
       "│ max        ┆ 576.10404     │\n",
       "└────────────┴───────────────┘"
      ]
     },
     "execution_count": 62,
     "metadata": {},
     "output_type": "execute_result"
    }
   ],
   "source": [
    "df2.select(pl.col(\"rescaledStatistics\").struct.unnest()).filter(pl.col(\"traitClass\") == \"quantitative\").filter(\n",
    "    pl.col(\"estimatedBeta\").is_finite()\n",
    ").select(pl.col(\"estimatedBeta\").abs()).describe()\n"
   ]
  },
  {
   "cell_type": "markdown",
   "metadata": {},
   "source": [
    "1. GWAS releated creadible sets devide by quatatave and binary\n",
    "\n",
    "When rescaled abs(beta) > 3 (exclude from analysis)\n",
    "\n",
    "2 plots\n",
    "\n",
    "- abs(beta) / mean allele freq\n",
    "- novel vs known\n",
    "\n",
    "2 plots\n",
    "\n",
    "- square beta vs maf(1-maf)\n",
    "\n",
    "2. for binary traits (GWAS only) how many have rescaled beta > 1 > 2 > 3 >\n",
    "3. for binary traits (exclude abs(beta) > 3), use non abs beta, swap the beta sign in case the AF > 0.5 -> histogram\n",
    "\n",
    "4. send the file\n"
   ]
  },
  {
   "cell_type": "markdown",
   "metadata": {},
   "source": [
    "pleiotropicity on variant level!\n"
   ]
  }
 ],
 "metadata": {
  "kernelspec": {
   "display_name": ".venv",
   "language": "python",
   "name": "python3"
  },
  "language_info": {
   "codemirror_mode": {
    "name": "ipython",
    "version": 3
   },
   "file_extension": ".py",
   "mimetype": "text/x-python",
   "name": "python",
   "nbconvert_exporter": "python",
   "pygments_lexer": "ipython3",
   "version": "3.11.11"
  }
 },
 "nbformat": 4,
 "nbformat_minor": 2
}

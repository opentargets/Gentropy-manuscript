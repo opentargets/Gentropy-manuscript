{
 "cells": [
  {
   "cell_type": "markdown",
   "metadata": {},
   "source": [
    "# Estimate the known vs novel credbile sets"
   ]
  },
  {
   "cell_type": "markdown",
   "metadata": {},
   "source": [
    "### Download the dataset of known vs novel studies"
   ]
  },
  {
   "cell_type": "code",
   "execution_count": 3,
   "metadata": {},
   "outputs": [
    {
     "name": "stdout",
     "output_type": "stream",
     "text": [
      "Copying gs://genetics-portal-dev-analysis/yt4/20250403_for_gentropy_paper/known_studyLocusIds/_SUCCESS to file://../../data/known_studyLocusIds/_SUCCESS\n",
      "Copying gs://genetics-portal-dev-analysis/yt4/20250403_for_gentropy_paper/known_studyLocusIds/part-00000-2f0f4342-2a7e-4b1e-b6e0-8883049cb9a4-c000.snappy.parquet to file://../../data/known_studyLocusIds/part-00000-2f0f4342-2a7e-4b1e-b6e0-8883049cb9a4-c000.snappy.parquet\n",
      "Copying gs://genetics-portal-dev-analysis/yt4/20250403_for_gentropy_paper/known_studyLocusIds/part-00001-2f0f4342-2a7e-4b1e-b6e0-8883049cb9a4-c000.snappy.parquet to file://../../data/known_studyLocusIds/part-00001-2f0f4342-2a7e-4b1e-b6e0-8883049cb9a4-c000.snappy.parquet\n",
      "Copying gs://genetics-portal-dev-analysis/yt4/20250403_for_gentropy_paper/known_studyLocusIds/part-00002-2f0f4342-2a7e-4b1e-b6e0-8883049cb9a4-c000.snappy.parquet to file://../../data/known_studyLocusIds/part-00002-2f0f4342-2a7e-4b1e-b6e0-8883049cb9a4-c000.snappy.parquet\n",
      "Copying gs://genetics-portal-dev-analysis/yt4/20250403_for_gentropy_paper/known_studyLocusIds/part-00003-2f0f4342-2a7e-4b1e-b6e0-8883049cb9a4-c000.snappy.parquet to file://../../data/known_studyLocusIds/part-00003-2f0f4342-2a7e-4b1e-b6e0-8883049cb9a4-c000.snappy.parquet\n",
      "Copying gs://genetics-portal-dev-analysis/yt4/20250403_for_gentropy_paper/known_studyLocusIds/part-00004-2f0f4342-2a7e-4b1e-b6e0-8883049cb9a4-c000.snappy.parquet to file://../../data/known_studyLocusIds/part-00004-2f0f4342-2a7e-4b1e-b6e0-8883049cb9a4-c000.snappy.parquet\n",
      "Copying gs://genetics-portal-dev-analysis/yt4/20250403_for_gentropy_paper/known_studyLocusIds/part-00005-2f0f4342-2a7e-4b1e-b6e0-8883049cb9a4-c000.snappy.parquet to file://../../data/known_studyLocusIds/part-00005-2f0f4342-2a7e-4b1e-b6e0-8883049cb9a4-c000.snappy.parquet\n",
      "Copying gs://genetics-portal-dev-analysis/yt4/20250403_for_gentropy_paper/known_studyLocusIds/part-00006-2f0f4342-2a7e-4b1e-b6e0-8883049cb9a4-c000.snappy.parquet to file://../../data/known_studyLocusIds/part-00006-2f0f4342-2a7e-4b1e-b6e0-8883049cb9a4-c000.snappy.parquet\n",
      "Copying gs://genetics-portal-dev-analysis/yt4/20250403_for_gentropy_paper/known_studyLocusIds/part-00007-2f0f4342-2a7e-4b1e-b6e0-8883049cb9a4-c000.snappy.parquet to file://../../data/known_studyLocusIds/part-00007-2f0f4342-2a7e-4b1e-b6e0-8883049cb9a4-c000.snappy.parquet\n",
      "  Completed files 9/9 | 9.5MiB/9.5MiB                                          \n",
      "\n",
      "Average throughput: 8.5MiB/s\n"
     ]
    }
   ],
   "source": [
    "!gcloud storage cp -r gs://genetics-portal-dev-analysis/yt4/20250403_for_gentropy_paper/known_studyLocusIds ../../data/.\n"
   ]
  },
  {
   "cell_type": "code",
   "execution_count": 9,
   "metadata": {},
   "outputs": [],
   "source": [
    "from gentropy.common.session import Session\n",
    "from pyspark.sql import DataFrame\n",
    "from pyspark.sql import functions as f\n"
   ]
  },
  {
   "cell_type": "code",
   "execution_count": 10,
   "metadata": {},
   "outputs": [],
   "source": [
    "session = Session(extended_spark_conf={\"spark.driver.memory\": \"40G\"})\n",
    "variant_index_path = \"../../data/variant\"\n",
    "study_index_path = \"../../data/study\"\n",
    "credible_set_path = \"../../data/credible_set\"\n",
    "known_studies_path = \"../../data/known_studyLocusIds\"\n"
   ]
  },
  {
   "cell_type": "code",
   "execution_count": 11,
   "metadata": {},
   "outputs": [],
   "source": [
    "ks = session.spark.read.parquet(known_studies_path)\n",
    "cs = session.spark.read.parquet(credible_set_path)\n"
   ]
  },
  {
   "cell_type": "code",
   "execution_count": 21,
   "metadata": {},
   "outputs": [],
   "source": [
    "def classify_study_locus(all: DataFrame, known: DataFrame) -> DataFrame:\n",
    "    \"\"\"Classify study locus ids based on known or novel.\"\"\"\n",
    "    assert \"studyLocusId\" in all.columns and \"studyLocusId\" in known.columns\n",
    "    known = known.withColumn(\"studyLocusClass\", f.lit(\"known\")).alias(\"r\")\n",
    "    classified = all.alias(\"l\").join(known, on=\"studyLocusId\", how=\"left\")\n",
    "    return classified.withColumn(\n",
    "        \"studyLocusClass\", f.when(f.col(\"studyLocusClass\") == \"known\", f.lit(\"known\")).otherwise(\"novel\")\n",
    "    )\n"
   ]
  },
  {
   "cell_type": "code",
   "execution_count": null,
   "metadata": {},
   "outputs": [
    {
     "ename": "AnalysisException",
     "evalue": "[MISSING_GROUP_BY] The query does not include a GROUP BY clause. Add GROUP BY or turn it into the window functions using OVER clauses.;\nAggregate [studyLocusClass#1010, count#1068L, round(((cast(count#1068L as double) / cast(sum(count#1068L) as double)) * cast(100 as double)), 2) AS percent#1072]\n+- Aggregate [studyLocusClass#1010], [studyLocusClass#1010, count(studyLocusId#4) AS count#1068L]\n   +- Project [studyLocusId#4, studyId#5, variantId#6, chromosome#7, position#8, region#9, beta#10, zScore#11, pValueMantissa#12, pValueExponent#13, effectAlleleFrequencyFromSource#14, standardError#15, subStudyDescription#16, qualityControls#17, finemappingMethod#18, credibleSetIndex#19, credibleSetlog10BF#20, purityMeanR2#21, purityMinR2#22, locusStart#23, locusEnd#24, sampleSize#25, ldSet#26, locus#27, ... 4 more fields]\n      +- Project [studyLocusId#4, studyId#5, variantId#6, chromosome#7, position#8, region#9, beta#10, zScore#11, pValueMantissa#12, pValueExponent#13, effectAlleleFrequencyFromSource#14, standardError#15, subStudyDescription#16, qualityControls#17, finemappingMethod#18, credibleSetIndex#19, credibleSetlog10BF#20, purityMeanR2#21, purityMinR2#22, locusStart#23, locusEnd#24, sampleSize#25, ldSet#26, locus#27, ... 4 more fields]\n         +- Join LeftOuter, (studyLocusId#4 = studyLocusId#2)\n            :- SubqueryAlias l\n            :  +- Relation [studyLocusId#4,studyId#5,variantId#6,chromosome#7,position#8,region#9,beta#10,zScore#11,pValueMantissa#12,pValueExponent#13,effectAlleleFrequencyFromSource#14,standardError#15,subStudyDescription#16,qualityControls#17,finemappingMethod#18,credibleSetIndex#19,credibleSetlog10BF#20,purityMeanR2#21,purityMinR2#22,locusStart#23,locusEnd#24,sampleSize#25,ldSet#26,locus#27,... 3 more fields] parquet\n            +- SubqueryAlias r\n               +- Project [studyLocusId#2, known AS studyLocusClass#979]\n                  +- Relation [studyLocusId#2] parquet\n",
     "output_type": "error",
     "traceback": [
      "\u001b[31m---------------------------------------------------------------------------\u001b[39m",
      "\u001b[31mAnalysisException\u001b[39m                         Traceback (most recent call last)",
      "\u001b[36mCell\u001b[39m\u001b[36m \u001b[39m\u001b[32mIn[24]\u001b[39m\u001b[32m, line 2\u001b[39m\n\u001b[32m      1\u001b[39m classified_cs = classify_study_locus(cs, ks)\n\u001b[32m----> \u001b[39m\u001b[32m2\u001b[39m \u001b[43mclassified_cs\u001b[49m\u001b[43m.\u001b[49m\u001b[43mgroupBy\u001b[49m\u001b[43m(\u001b[49m\u001b[33;43m\"\u001b[39;49m\u001b[33;43mstudyLocusClass\u001b[39;49m\u001b[33;43m\"\u001b[39;49m\u001b[43m)\u001b[49m\u001b[43m.\u001b[49m\u001b[43magg\u001b[49m\u001b[43m(\u001b[49m\u001b[43mf\u001b[49m\u001b[43m.\u001b[49m\u001b[43mcount\u001b[49m\u001b[43m(\u001b[49m\u001b[33;43m\"\u001b[39;49m\u001b[33;43mstudyLocusId\u001b[39;49m\u001b[33;43m\"\u001b[39;49m\u001b[43m)\u001b[49m\u001b[43m.\u001b[49m\u001b[43malias\u001b[49m\u001b[43m(\u001b[49m\u001b[33;43m\"\u001b[39;49m\u001b[33;43mcount\u001b[39;49m\u001b[33;43m\"\u001b[39;49m\u001b[43m)\u001b[49m\u001b[43m)\u001b[49m\u001b[43m.\u001b[49m\u001b[43mselect\u001b[49m\u001b[43m(\u001b[49m\n\u001b[32m      3\u001b[39m \u001b[43m    \u001b[49m\u001b[43mf\u001b[49m\u001b[43m.\u001b[49m\u001b[43mcol\u001b[49m\u001b[43m(\u001b[49m\u001b[33;43m\"\u001b[39;49m\u001b[33;43mstudyLocusClass\u001b[39;49m\u001b[33;43m\"\u001b[39;49m\u001b[43m)\u001b[49m\u001b[43m,\u001b[49m\n\u001b[32m      4\u001b[39m \u001b[43m    \u001b[49m\u001b[43mf\u001b[49m\u001b[43m.\u001b[49m\u001b[43mcol\u001b[49m\u001b[43m(\u001b[49m\u001b[33;43m\"\u001b[39;49m\u001b[33;43mcount\u001b[39;49m\u001b[33;43m\"\u001b[39;49m\u001b[43m)\u001b[49m\u001b[43m,\u001b[49m\n\u001b[32m      5\u001b[39m \u001b[43m    \u001b[49m\u001b[43mf\u001b[49m\u001b[43m.\u001b[49m\u001b[43mround\u001b[49m\u001b[43m(\u001b[49m\u001b[43m(\u001b[49m\u001b[43mf\u001b[49m\u001b[43m.\u001b[49m\u001b[43mcol\u001b[49m\u001b[43m(\u001b[49m\u001b[33;43m\"\u001b[39;49m\u001b[33;43mcount\u001b[39;49m\u001b[33;43m\"\u001b[39;49m\u001b[43m)\u001b[49m\u001b[43m \u001b[49m\u001b[43m/\u001b[49m\u001b[43m \u001b[49m\u001b[43mf\u001b[49m\u001b[43m.\u001b[49m\u001b[43msum\u001b[49m\u001b[43m(\u001b[49m\u001b[43mf\u001b[49m\u001b[43m.\u001b[49m\u001b[43mcol\u001b[49m\u001b[43m(\u001b[49m\u001b[33;43m\"\u001b[39;49m\u001b[33;43mcount\u001b[39;49m\u001b[33;43m\"\u001b[39;49m\u001b[43m)\u001b[49m\u001b[43m)\u001b[49m\u001b[43m \u001b[49m\u001b[43m*\u001b[49m\u001b[43m \u001b[49m\u001b[43mf\u001b[49m\u001b[43m.\u001b[49m\u001b[43mlit\u001b[49m\u001b[43m(\u001b[49m\u001b[32;43m100\u001b[39;49m\u001b[43m)\u001b[49m\u001b[43m)\u001b[49m\u001b[43m,\u001b[49m\u001b[43m \u001b[49m\u001b[32;43m2\u001b[39;49m\u001b[43m)\u001b[49m\u001b[43m.\u001b[49m\u001b[43malias\u001b[49m\u001b[43m(\u001b[49m\u001b[33;43m\"\u001b[39;49m\u001b[33;43mpercent\u001b[39;49m\u001b[33;43m\"\u001b[39;49m\u001b[43m)\u001b[49m\u001b[43m,\u001b[49m\n\u001b[32m      6\u001b[39m \u001b[43m)\u001b[49m.show()\n",
      "\u001b[36mFile \u001b[39m\u001b[32m~/Projects/OpenTargets/Gentropy-manuscript/.venv/lib/python3.11/site-packages/pyspark/sql/dataframe.py:3229\u001b[39m, in \u001b[36mDataFrame.select\u001b[39m\u001b[34m(self, *cols)\u001b[39m\n\u001b[32m   3184\u001b[39m \u001b[38;5;28;01mdef\u001b[39;00m\u001b[38;5;250m \u001b[39m\u001b[34mselect\u001b[39m(\u001b[38;5;28mself\u001b[39m, *cols: \u001b[33m\"\u001b[39m\u001b[33mColumnOrName\u001b[39m\u001b[33m\"\u001b[39m) -> \u001b[33m\"\u001b[39m\u001b[33mDataFrame\u001b[39m\u001b[33m\"\u001b[39m:  \u001b[38;5;66;03m# type: ignore[misc]\u001b[39;00m\n\u001b[32m   3185\u001b[39m \u001b[38;5;250m    \u001b[39m\u001b[33;03m\"\"\"Projects a set of expressions and returns a new :class:`DataFrame`.\u001b[39;00m\n\u001b[32m   3186\u001b[39m \n\u001b[32m   3187\u001b[39m \u001b[33;03m    .. versionadded:: 1.3.0\u001b[39;00m\n\u001b[32m   (...)\u001b[39m\u001b[32m   3227\u001b[39m \u001b[33;03m    +-----+---+\u001b[39;00m\n\u001b[32m   3228\u001b[39m \u001b[33;03m    \"\"\"\u001b[39;00m\n\u001b[32m-> \u001b[39m\u001b[32m3229\u001b[39m     jdf = \u001b[38;5;28;43mself\u001b[39;49m\u001b[43m.\u001b[49m\u001b[43m_jdf\u001b[49m\u001b[43m.\u001b[49m\u001b[43mselect\u001b[49m\u001b[43m(\u001b[49m\u001b[38;5;28;43mself\u001b[39;49m\u001b[43m.\u001b[49m\u001b[43m_jcols\u001b[49m\u001b[43m(\u001b[49m\u001b[43m*\u001b[49m\u001b[43mcols\u001b[49m\u001b[43m)\u001b[49m\u001b[43m)\u001b[49m\n\u001b[32m   3230\u001b[39m     \u001b[38;5;28;01mreturn\u001b[39;00m DataFrame(jdf, \u001b[38;5;28mself\u001b[39m.sparkSession)\n",
      "\u001b[36mFile \u001b[39m\u001b[32m~/Projects/OpenTargets/Gentropy-manuscript/.venv/lib/python3.11/site-packages/py4j/java_gateway.py:1322\u001b[39m, in \u001b[36mJavaMember.__call__\u001b[39m\u001b[34m(self, *args)\u001b[39m\n\u001b[32m   1316\u001b[39m command = proto.CALL_COMMAND_NAME +\\\n\u001b[32m   1317\u001b[39m     \u001b[38;5;28mself\u001b[39m.command_header +\\\n\u001b[32m   1318\u001b[39m     args_command +\\\n\u001b[32m   1319\u001b[39m     proto.END_COMMAND_PART\n\u001b[32m   1321\u001b[39m answer = \u001b[38;5;28mself\u001b[39m.gateway_client.send_command(command)\n\u001b[32m-> \u001b[39m\u001b[32m1322\u001b[39m return_value = \u001b[43mget_return_value\u001b[49m\u001b[43m(\u001b[49m\n\u001b[32m   1323\u001b[39m \u001b[43m    \u001b[49m\u001b[43manswer\u001b[49m\u001b[43m,\u001b[49m\u001b[43m \u001b[49m\u001b[38;5;28;43mself\u001b[39;49m\u001b[43m.\u001b[49m\u001b[43mgateway_client\u001b[49m\u001b[43m,\u001b[49m\u001b[43m \u001b[49m\u001b[38;5;28;43mself\u001b[39;49m\u001b[43m.\u001b[49m\u001b[43mtarget_id\u001b[49m\u001b[43m,\u001b[49m\u001b[43m \u001b[49m\u001b[38;5;28;43mself\u001b[39;49m\u001b[43m.\u001b[49m\u001b[43mname\u001b[49m\u001b[43m)\u001b[49m\n\u001b[32m   1325\u001b[39m \u001b[38;5;28;01mfor\u001b[39;00m temp_arg \u001b[38;5;129;01min\u001b[39;00m temp_args:\n\u001b[32m   1326\u001b[39m     \u001b[38;5;28;01mif\u001b[39;00m \u001b[38;5;28mhasattr\u001b[39m(temp_arg, \u001b[33m\"\u001b[39m\u001b[33m_detach\u001b[39m\u001b[33m\"\u001b[39m):\n",
      "\u001b[36mFile \u001b[39m\u001b[32m~/Projects/OpenTargets/Gentropy-manuscript/.venv/lib/python3.11/site-packages/pyspark/errors/exceptions/captured.py:185\u001b[39m, in \u001b[36mcapture_sql_exception.<locals>.deco\u001b[39m\u001b[34m(*a, **kw)\u001b[39m\n\u001b[32m    181\u001b[39m converted = convert_exception(e.java_exception)\n\u001b[32m    182\u001b[39m \u001b[38;5;28;01mif\u001b[39;00m \u001b[38;5;129;01mnot\u001b[39;00m \u001b[38;5;28misinstance\u001b[39m(converted, UnknownException):\n\u001b[32m    183\u001b[39m     \u001b[38;5;66;03m# Hide where the exception came from that shows a non-Pythonic\u001b[39;00m\n\u001b[32m    184\u001b[39m     \u001b[38;5;66;03m# JVM exception message.\u001b[39;00m\n\u001b[32m--> \u001b[39m\u001b[32m185\u001b[39m     \u001b[38;5;28;01mraise\u001b[39;00m converted \u001b[38;5;28;01mfrom\u001b[39;00m\u001b[38;5;250m \u001b[39m\u001b[38;5;28;01mNone\u001b[39;00m\n\u001b[32m    186\u001b[39m \u001b[38;5;28;01melse\u001b[39;00m:\n\u001b[32m    187\u001b[39m     \u001b[38;5;28;01mraise\u001b[39;00m\n",
      "\u001b[31mAnalysisException\u001b[39m: [MISSING_GROUP_BY] The query does not include a GROUP BY clause. Add GROUP BY or turn it into the window functions using OVER clauses.;\nAggregate [studyLocusClass#1010, count#1068L, round(((cast(count#1068L as double) / cast(sum(count#1068L) as double)) * cast(100 as double)), 2) AS percent#1072]\n+- Aggregate [studyLocusClass#1010], [studyLocusClass#1010, count(studyLocusId#4) AS count#1068L]\n   +- Project [studyLocusId#4, studyId#5, variantId#6, chromosome#7, position#8, region#9, beta#10, zScore#11, pValueMantissa#12, pValueExponent#13, effectAlleleFrequencyFromSource#14, standardError#15, subStudyDescription#16, qualityControls#17, finemappingMethod#18, credibleSetIndex#19, credibleSetlog10BF#20, purityMeanR2#21, purityMinR2#22, locusStart#23, locusEnd#24, sampleSize#25, ldSet#26, locus#27, ... 4 more fields]\n      +- Project [studyLocusId#4, studyId#5, variantId#6, chromosome#7, position#8, region#9, beta#10, zScore#11, pValueMantissa#12, pValueExponent#13, effectAlleleFrequencyFromSource#14, standardError#15, subStudyDescription#16, qualityControls#17, finemappingMethod#18, credibleSetIndex#19, credibleSetlog10BF#20, purityMeanR2#21, purityMinR2#22, locusStart#23, locusEnd#24, sampleSize#25, ldSet#26, locus#27, ... 4 more fields]\n         +- Join LeftOuter, (studyLocusId#4 = studyLocusId#2)\n            :- SubqueryAlias l\n            :  +- Relation [studyLocusId#4,studyId#5,variantId#6,chromosome#7,position#8,region#9,beta#10,zScore#11,pValueMantissa#12,pValueExponent#13,effectAlleleFrequencyFromSource#14,standardError#15,subStudyDescription#16,qualityControls#17,finemappingMethod#18,credibleSetIndex#19,credibleSetlog10BF#20,purityMeanR2#21,purityMinR2#22,locusStart#23,locusEnd#24,sampleSize#25,ldSet#26,locus#27,... 3 more fields] parquet\n            +- SubqueryAlias r\n               +- Project [studyLocusId#2, known AS studyLocusClass#979]\n                  +- Relation [studyLocusId#2] parquet\n"
     ]
    }
   ],
   "source": [
    "classified_cs = classify_study_locus(cs, ks)\n",
    "classified_cs.groupBy(\"studyLocusClass\").agg(f.count(\"studyLocusId\").alias(\"count\")).select(\n",
    "    f.col(\"studyLocusClass\"),\n",
    "    f.col(\"count\"),\n",
    "    f.round((f.col(\"count\") / classified_cs.count() * f.lit(100)), 2).alias(\"percent\"),\n",
    ").show()\n"
   ]
  }
 ],
 "metadata": {
  "kernelspec": {
   "display_name": ".venv",
   "language": "python",
   "name": "python3"
  },
  "language_info": {
   "codemirror_mode": {
    "name": "ipython",
    "version": 3
   },
   "file_extension": ".py",
   "mimetype": "text/x-python",
   "name": "python",
   "nbconvert_exporter": "python",
   "pygments_lexer": "ipython3",
   "version": "3.11.11"
  }
 },
 "nbformat": 4,
 "nbformat_minor": 2
}

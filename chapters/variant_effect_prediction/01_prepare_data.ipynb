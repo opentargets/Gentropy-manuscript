{
 "cells": [
  {
   "cell_type": "markdown",
   "metadata": {},
   "source": [
    "# Data preparation\n",
    "\n",
    "The aim of this notebook is to collect the information about the credible set lead variants.\n",
    "This includes:\n",
    "* Addition of Major population sample size and size of cases/controls from studyIndex, \n",
    "* Addition of most severe consequences and consequence score derived from VEP annotations from variantIndex\n",
    "* Calculation of MAF (Minor Allele Frequency) for lead variants\n",
    "* Calculation of Variance Explained by lead variant"
   ]
  },
  {
   "cell_type": "markdown",
   "metadata": {
    "vscode": {
     "languageId": "plaintext"
    }
   },
   "source": [
    "### Data extraction and loading\n",
    "\n",
    "Data for this analysis has to be downloaded from 3 datasets available by FTP:\n",
    "* credible_set\n",
    "* variant\n",
    "* study"
   ]
  },
  {
   "cell_type": "code",
   "execution_count": null,
   "metadata": {},
   "outputs": [],
   "source": [
    "!rsync -rpltvz --delete rsync.ebi.ac.uk::pub/databases/opentargets/platform/25.03/output/credible_set .\n",
    "!rsync -rpltvz --delete rsync.ebi.ac.uk::pub/databases/opentargets/platform/25.03/output/study .\n",
    "!rsync -rpltvz --delete rsync.ebi.ac.uk::pub/databases/opentargets/platform/25.03/output/variant .\n"
   ]
  },
  {
   "cell_type": "code",
   "execution_count": null,
   "metadata": {},
   "outputs": [
    {
     "name": "stdout",
     "output_type": "stream",
     "text": [
      "openjdk version \"11.0.13\" 2021-10-19\n",
      "OpenJDK Runtime Environment JBR-11.0.13.7-1751.21-jcef (build 11.0.13+7-b1751.21)\n",
      "OpenJDK 64-Bit Server VM JBR-11.0.13.7-1751.21-jcef (build 11.0.13+7-b1751.21, mixed mode)\n"
     ]
    }
   ],
   "source": [
    "# Ensure proper java version < 11\n",
    "!java -version\n"
   ]
  },
  {
   "cell_type": "markdown",
   "metadata": {},
   "source": [
    "#### Loading the data with gentropy\n"
   ]
  },
  {
   "cell_type": "code",
   "execution_count": null,
   "metadata": {},
   "outputs": [],
   "source": [
    "from gentropy.common.session import Session\n",
    "from gentropy.dataset.study_index import StudyIndex\n",
    "from gentropy.dataset.study_locus import StudyLocus\n",
    "from gentropy.dataset.variant_index import VariantIndex\n",
    "from pyspark.sql import Column\n",
    "from pyspark.sql import functions as f\n"
   ]
  },
  {
   "cell_type": "code",
   "execution_count": null,
   "metadata": {},
   "outputs": [],
   "source": [
    "session = Session(extended_spark_conf={\"spark.driver.memory\": \"40G\"})\n",
    "variant_index_path = \"variant\"\n",
    "study_index_path = \"study\"\n",
    "credible_set_path = \"credible_set\"\n"
   ]
  },
  {
   "cell_type": "code",
   "execution_count": 4,
   "metadata": {},
   "outputs": [
    {
     "data": {
      "text/html": [
       "\n",
       "            <div>\n",
       "                <p><b>SparkSession - in-memory</b></p>\n",
       "                \n",
       "        <div>\n",
       "            <p><b>SparkContext</b></p>\n",
       "\n",
       "            <p><a href=\"http://192.168.0.100:4040\">Spark UI</a></p>\n",
       "\n",
       "            <dl>\n",
       "              <dt>Version</dt>\n",
       "                <dd><code>v3.5.5</code></dd>\n",
       "              <dt>Master</dt>\n",
       "                <dd><code>local[*]</code></dd>\n",
       "              <dt>AppName</dt>\n",
       "                <dd><code>gentropy</code></dd>\n",
       "            </dl>\n",
       "        </div>\n",
       "        \n",
       "            </div>\n",
       "        "
      ],
      "text/plain": [
       "<pyspark.sql.session.SparkSession at 0x7d1b352ca0d0>"
      ]
     },
     "execution_count": 4,
     "metadata": {},
     "output_type": "execute_result"
    }
   ],
   "source": [
    "session.spark\n"
   ]
  },
  {
   "cell_type": "code",
   "execution_count": 6,
   "metadata": {},
   "outputs": [],
   "source": [
    "vi = VariantIndex.from_parquet(session, variant_index_path)\n",
    "si = StudyIndex.from_parquet(session, study_index_path)\n",
    "cs = StudyLocus.from_parquet(session, credible_set_path)\n"
   ]
  },
  {
   "cell_type": "code",
   "execution_count": null,
   "metadata": {},
   "outputs": [
    {
     "name": "stdout",
     "output_type": "stream",
     "text": [
      "+----------------+----------+---------+---------------+---------------+--------------------+-----------------------+----------------------+-----------+-----------------+--------------------+--------------------+--------------------+\n",
      "|       variantId|chromosome| position|referenceAllele|alternateAllele|       variantEffect|mostSevereConsequenceId|transcriptConsequences|      rsIds|           hgvsId|   alleleFrequencies|             dbXrefs|  variantDescription|\n",
      "+----------------+----------+---------+---------------+---------------+--------------------+-----------------------+----------------------+-----------+-----------------+--------------------+--------------------+--------------------+\n",
      "|10_104021953_A_G|        10|104021953|              A|              G|[{VEP, intron_var...|             SO_0001627|  [{[SO_0001632], N...|[rs4918077]|10:g.104021953A>G|[{sas_adj, 0.4902...|[{rs4918077, ense...|Intron variant ov...|\n",
      "+----------------+----------+---------+---------------+---------------+--------------------+-----------------------+----------------------+-----------+-----------------+--------------------+--------------------+--------------------+\n",
      "only showing top 1 row\n",
      "\n"
     ]
    },
    {
     "name": "stderr",
     "output_type": "stream",
     "text": [
      "25/04/07 09:04:17 WARN SparkStringUtils: Truncated the string representation of a plan since it was too large. This behavior can be adjusted by setting 'spark.sql.debug.maxToStringFields'.\n"
     ]
    },
    {
     "name": "stdout",
     "output_type": "stream",
     "text": [
      "+--------------------+-----------+---------+--------------------+------------------------+-------------+------+---------------------+-----------+--------+----------------+----------------------+---------------+------------------+----------------------------------+--------------------+--------------------+------+---------+--------+---------+---------------------+-------------------+------------------+---------------+-------------+--------------------+-----------+---------+---------------+\n",
      "|             studyId|  projectId|studyType|     traitFromSource|traitFromSourceMappedIds|   diseaseIds|geneId|biosampleFromSourceId|biosampleId|pubmedId|publicationTitle|publicationFirstAuthor|publicationDate|publicationJournal|backgroundTraitFromSourceMappedIds|backgroundDiseaseIds|   initialSampleSize|nCases|nControls|nSamples|  cohorts|ldPopulationStructure|   discoverySamples|replicationSamples|qualityControls|analysisFlags|summarystatsLocation|hasSumstats|condition|sumstatQCValues|\n",
      "+--------------------+-----------+---------+--------------------+------------------------+-------------+------+---------------------+-----------+--------+----------------+----------------------+---------------+------------------+----------------------------------+--------------------+--------------------+------+---------+--------+---------+---------------------+-------------------+------------------+---------------+-------------+--------------------+-----------+---------+---------------+\n",
      "|FINNGEN_R12_AUTOI...|FINNGEN_R12|     gwas|Autoimmune hypert...|           [EFO_0004237]|[EFO_0004237]|  NULL|                 NULL|       NULL|    NULL|            NULL|                  NULL|           NULL|              NULL|                              NULL|                  []|500,348 (282,064 ...|  2469|   370637|  373106|[FinnGen]|         [{fin, 1.0}]|[{500348, Finnish}]|              NULL|             []|           []|gs://finngen-publ...|       true|     NULL|           NULL|\n",
      "+--------------------+-----------+---------+--------------------+------------------------+-------------+------+---------------------+-----------+--------+----------------+----------------------+---------------+------------------+----------------------------------+--------------------+--------------------+------+---------+--------+---------+---------------------+-------------------+------------------+---------------+-------------+--------------------+-----------+---------+---------------+\n",
      "only showing top 1 row\n",
      "\n",
      "+--------------------+---------+---------------+----------+--------+------+------------+-------+------+--------------+--------------+-------------------------------+-------------+-------------------+--------------------+-----------------+----------------+------------------+------------+-----------+----------+--------+----------+--------------------+--------------------+--------------------+----------+\n",
      "|        studyLocusId|studyType|      variantId|chromosome|position|region|     studyId|   beta|zScore|pValueMantissa|pValueExponent|effectAlleleFrequencyFromSource|standardError|subStudyDescription|     qualityControls|finemappingMethod|credibleSetIndex|credibleSetlog10BF|purityMeanR2|purityMinR2|locusStart|locusEnd|sampleSize|               ldSet|               locus|          confidence|isTransQtl|\n",
      "+--------------------+---------+---------------+----------+--------+------+------------+-------+------+--------------+--------------+-------------------------------+-------------+-------------------+--------------------+-----------------+----------------+------------------+------------+-----------+----------+--------+----------+--------------------+--------------------+--------------------+----------+\n",
      "|031afcc3416e65bef...|     gwas|17_38467428_G_T|        17|38467428|  NULL|GCST90430047|30.8091|  NULL|         7.545|            -9|                     0.00105712|      5.32895|               NULL|[Variant not foun...|             PICS|            NULL|              NULL|        NULL|       NULL|      NULL|    NULL|      NULL|[{17_38467428_G_T...|[{true, true, NUL...|PICS fine-mapped ...|      NULL|\n",
      "+--------------------+---------+---------------+----------+--------+------+------------+-------+------+--------------+--------------+-------------------------------+-------------+-------------------+--------------------+-----------------+----------------+------------------+------------+-----------+----------+--------+----------+--------------------+--------------------+--------------------+----------+\n",
      "only showing top 1 row\n",
      "\n"
     ]
    }
   ],
   "source": [
    "vi.df.show(n=1)\n",
    "si.df.show(n=1)\n",
    "cs.df.show(n=1)\n"
   ]
  },
  {
   "cell_type": "markdown",
   "metadata": {},
   "source": [
    "#### Build dataset for analysis\n",
    "Code below collects all required fields required to perform analysis on MAF and variant effects"
   ]
  },
  {
   "cell_type": "code",
   "execution_count": null,
   "metadata": {},
   "outputs": [],
   "source": [
    "def major_population_in_study(ld_col: Column, default_major_pop: str = \"nfe\") -> Column:\n",
    "    \"\"\"Extract the major population from the study ld population structure.\n",
    "\n",
    "    Args:\n",
    "        ld_col (Column): ld population structure field  array<struct<ldPopulation: string, relativeSampleSize: double>>\n",
    "        default_major_pop (str, optional): population to use as default, when no population was reported. Defaults to \"nfe\".\n",
    "\n",
    "    Returns:\n",
    "        Column: ld_col struct\n",
    "\n",
    "    \"\"\"\n",
    "\n",
    "    def reduce_pops(pop1: Column, pop2: Column) -> Column:\n",
    "        \"\"\"Reduce two populations based on relative sample size.\n",
    "\n",
    "        This function takes 2 populations and report one of them based on following conditions:\n",
    "        * Use pop with bigger relativeSampleSize\n",
    "        * In case of a tie, the default_major_pop is preferred,\n",
    "        * In case of tie and no default_major_pop in pop1 and pop2, use pop1.\n",
    "        \"\"\"\n",
    "        return (\n",
    "            f.when(\n",
    "                pop1.getField(\"relativeSampleSize\") > pop2.getField(\"relativeSampleSize\"),\n",
    "                pop1,\n",
    "            )\n",
    "            .when(\n",
    "                pop1.getField(\"relativeSampleSize\") < pop2.getField(\"relativeSampleSize\"),\n",
    "                pop2,\n",
    "            )\n",
    "            .when(\n",
    "                (\n",
    "                    (pop1.getField(\"relativeSampleSize\") == pop2.getField(\"relativeSampleSize\"))\n",
    "                    & (pop1.getField(\"ldPopulation\") == f.lit(default_major_pop))\n",
    "                ),\n",
    "                pop1,\n",
    "            )\n",
    "            .when(\n",
    "                (\n",
    "                    (pop1.getField(\"relativeSampleSize\") == pop2.getField(\"relativeSampleSize\"))\n",
    "                    & (pop2.getField(\"ldPopulation\") == f.lit(default_major_pop))\n",
    "                ),\n",
    "                pop2,\n",
    "            )\n",
    "            .otherwise(pop1)\n",
    "        )\n",
    "\n",
    "    fallback = f.struct(f.lit(default_major_pop).alias(\"ldPopulation\"), f.lit(0.0).alias(\"relativeSampleSize\"))\n",
    "\n",
    "    return f.when(\n",
    "        f.size(ld_col) > 0,\n",
    "        f.reduce(\n",
    "            ld_col,\n",
    "            fallback,\n",
    "            reduce_pops,\n",
    "        ),\n",
    "    ).otherwise(fallback)\n",
    "\n",
    "\n",
    "def vep_variant_effect(c: Column) -> Column:\n",
    "    \"\"\"Extract VEP variant effect.\"\"\"\n",
    "\n",
    "    def extract_fields(ve: Column) -> Column:\n",
    "        return f.struct(\n",
    "            ve.getField(\"assessment\").alias(\"assessment\"),\n",
    "            ve.getField(\"normalisedScore\").alias(\"normalisedScore\"),\n",
    "            ve.getField(\"targetId\").alias(\"targetId\"),\n",
    "        )\n",
    "\n",
    "    return f.transform(f.filter(c, lambda ve: ve.getField(\"method\") == f.lit(\"VEP\")), extract_fields).getItem(0)\n",
    "\n",
    "\n",
    "def major_population_allele_freq(major_pop: Column, allele_freq: Column) -> Column:\n",
    "    \"\"\"Extract major population from variant.alleleFrequencies.\"\"\"\n",
    "    return f.filter(\n",
    "        allele_freq,\n",
    "        lambda freq: f.replace(freq.getField(\"populationName\"), f.lit(\"_adj\"), f.lit(\"\"))\n",
    "        == major_pop.getField(\"ldPopulation\"),\n",
    "    )\n",
    "\n",
    "\n",
    "def maf(variant_freq: Column) -> Column:\n",
    "    \"\"\"Calculate Minor Allele Frequency from variant frequency.\"\"\"\n",
    "    return (\n",
    "        f.when(\n",
    "            ((f.size(variant_freq) == 1) & (variant_freq.getItem(0).getField(\"alleleFrequency\") > 0.5)),\n",
    "            f.lit(1.0) - variant_freq.getItem(0).getField(\"alleleFrequency\"),\n",
    "        )\n",
    "        .when(\n",
    "            ((f.size(variant_freq) == 1) & (variant_freq.getItem(0).getField(\"alleleFrequency\") <= 0.5)),\n",
    "            variant_freq.getItem(0).getField(\"alleleFrequency\"),\n",
    "        )\n",
    "        .when(f.size(variant_freq) == 0, f.lit(0.0))\n",
    "    )\n"
   ]
  },
  {
   "cell_type": "code",
   "execution_count": 93,
   "metadata": {},
   "outputs": [],
   "source": [
    "_cs = cs.df.select(\n",
    "    f.col(\"studyId\"),\n",
    "    f.col(\"studyLocusId\"),\n",
    "    f.col(\"variantId\"),\n",
    "    f.col(\"beta\"),\n",
    "    f.col(\"zScore\"),\n",
    "    f.col(\"pValueMantissa\"),\n",
    "    f.col(\"pValueExponent\"),\n",
    "    f.col(\"standardError\"),\n",
    "    f.col(\"finemappingMethod\"),\n",
    "    f.col(\"studyType\"),\n",
    "    f.size(\"locus\").alias(\"credibleSetSize\"),\n",
    ")\n",
    "_si = si.df.select(\n",
    "    f.col(\"studyId\"),\n",
    "    f.col(\"nSamples\"),\n",
    "    f.col(\"nControls\"),\n",
    "    f.col(\"nCases\"),\n",
    "    major_population_in_study(f.col(\"ldPopulationStructure\"), \"nfe\").alias(\"majorPopulation\"),\n",
    ")\n",
    "\n",
    "_vi = vi.df.select(\n",
    "    f.col(\"variantId\"),\n",
    "    f.col(\"allelefrequencies\"),\n",
    "    vep_variant_effect(\"variantEffect\").alias(\"vepEffect\"),\n",
    ")\n"
   ]
  },
  {
   "cell_type": "code",
   "execution_count": null,
   "metadata": {},
   "outputs": [
    {
     "name": "stdout",
     "output_type": "stream",
     "text": [
      "+------------+-------+\n",
      "|ldPopulation|  count|\n",
      "+------------+-------+\n",
      "|         fin|   2303|\n",
      "|         afr|   6707|\n",
      "|         nfe|1940532|\n",
      "|         eas|  11904|\n",
      "|         amr|    923|\n",
      "+------------+-------+\n",
      "\n"
     ]
    }
   ],
   "source": [
    "_si.groupBy(\"majorPopulation.ldPopulation\").count().show()\n"
   ]
  },
  {
   "cell_type": "code",
   "execution_count": null,
   "metadata": {},
   "outputs": [
    {
     "name": "stderr",
     "output_type": "stream",
     "text": [
      "[Stage 88:=================================>                     (16 + 10) / 26]\r"
     ]
    },
    {
     "name": "stdout",
     "output_type": "stream",
     "text": [
      "+-----------------------------------+-------+\n",
      "|assessment                         |count  |\n",
      "+-----------------------------------+-------+\n",
      "|intron_variant                     |3233318|\n",
      "|upstream_gene_variant              |1409198|\n",
      "|missense_variant                   |819351 |\n",
      "|synonymous_variant                 |413178 |\n",
      "|3_prime_UTR_variant                |126781 |\n",
      "|frameshift_variant                 |100888 |\n",
      "|non_coding_transcript_exon_variant |91173  |\n",
      "|splice_region_variant              |74404  |\n",
      "|splice_polypyrimidine_tract_variant|57500  |\n",
      "|stop_gained                        |57247  |\n",
      "|splice_donor_variant               |20958  |\n",
      "|5_prime_UTR_variant                |20775  |\n",
      "|splice_acceptor_variant            |17843  |\n",
      "|splice_donor_region_variant        |15931  |\n",
      "|inframe_deletion                   |14399  |\n",
      "|splice_donor_5th_base_variant      |7486   |\n",
      "|inframe_insertion                  |6072   |\n",
      "|downstream_gene_variant            |2801   |\n",
      "|start_lost                         |2240   |\n",
      "|stop_lost                          |831    |\n",
      "|protein_altering_variant           |667    |\n",
      "|stop_retained_variant              |321    |\n",
      "|intergenic_variant                 |280    |\n",
      "|mature_miRNA_variant               |130    |\n",
      "|transcript_ablation                |81     |\n",
      "|coding_sequence_variant            |28     |\n",
      "|incomplete_terminal_codon_variant  |1      |\n",
      "+-----------------------------------+-------+\n",
      "\n"
     ]
    },
    {
     "name": "stderr",
     "output_type": "stream",
     "text": [
      "                                                                                \r"
     ]
    }
   ],
   "source": [
    "_vi.groupBy(\"vepEffect.assessment\").count().orderBy(f.desc(\"count\")).show(truncate=False, n=300)\n"
   ]
  },
  {
   "cell_type": "code",
   "execution_count": 101,
   "metadata": {},
   "outputs": [],
   "source": [
    "_df = (\n",
    "    _cs.join(_si, how=\"left\", on=\"studyId\")\n",
    "    .join(_vi, how=\"left\", on=\"variantId\")\n",
    "    .select(\n",
    "        \"*\",\n",
    "        major_population_allele_freq(\n",
    "            f.col(\"majorPopulation\"),\n",
    "            f.col(\"alleleFrequencies\"),\n",
    "        ).alias(\"majorPopulationAF\"),\n",
    "    )\n",
    "    .select(\n",
    "        \"*\",\n",
    "        maf(f.col(\"majorPopulationAf\")).alias(\"majorPopulationMAF\"),\n",
    "    )\n",
    ")\n"
   ]
  },
  {
   "cell_type": "code",
   "execution_count": null,
   "metadata": {},
   "outputs": [
    {
     "name": "stderr",
     "output_type": "stream",
     "text": [
      "                                                                                \r"
     ]
    },
    {
     "data": {
      "text/plain": [
       "2622098"
      ]
     },
     "execution_count": 104,
     "metadata": {},
     "output_type": "execute_result"
    }
   ],
   "source": [
    "_df.count()\n"
   ]
  },
  {
   "cell_type": "markdown",
   "metadata": {},
   "source": [
    "Save the dataset for further analysis"
   ]
  },
  {
   "cell_type": "code",
   "execution_count": 106,
   "metadata": {},
   "outputs": [
    {
     "name": "stderr",
     "output_type": "stream",
     "text": [
      "                                                                                \r"
     ]
    }
   ],
   "source": [
    "_df.write.parquet(\"lead-maf-vep\")\n"
   ]
  }
 ],
 "metadata": {
  "kernelspec": {
   "display_name": ".venv",
   "language": "python",
   "name": "python3"
  },
  "language_info": {
   "codemirror_mode": {
    "name": "ipython",
    "version": 3
   },
   "file_extension": ".py",
   "mimetype": "text/x-python",
   "name": "python",
   "nbconvert_exporter": "python",
   "pygments_lexer": "ipython3",
   "version": "3.11.11"
  }
 },
 "nbformat": 4,
 "nbformat_minor": 2
}

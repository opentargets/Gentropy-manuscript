{
 "cells": [
  {
   "cell_type": "markdown",
   "metadata": {},
   "source": [
    "# Variant distribtion per chromosome\n",
    "\n",
    "This notebook aims to understand the distribution of variantIndex and credibleSet dataset variants across chromosomes.\n",
    "VariantIndex contains variants that have well known associations to traits or come from GWAS credible sets"
   ]
  },
  {
   "cell_type": "code",
   "execution_count": 1,
   "metadata": {},
   "outputs": [
    {
     "name": "stdout",
     "output_type": "stream",
     "text": [
      "openjdk version \"11.0.13\" 2021-10-19\n",
      "OpenJDK Runtime Environment JBR-11.0.13.7-1751.21-jcef (build 11.0.13+7-b1751.21)\n",
      "OpenJDK 64-Bit Server VM JBR-11.0.13.7-1751.21-jcef (build 11.0.13+7-b1751.21, mixed mode)\n"
     ]
    }
   ],
   "source": [
    "# Ensure proper java version < 11\n",
    "!java -version\n"
   ]
  },
  {
   "cell_type": "code",
   "execution_count": 35,
   "metadata": {},
   "outputs": [
    {
     "name": "stdout",
     "output_type": "stream",
     "text": [
      "receiving incremental file list\n",
      "\n",
      "sent 29 bytes  received 1.771 bytes  3.600,00 bytes/sec\n",
      "total size is 3.060.963.047  speedup is 1.700.535,03\n",
      "receiving incremental file list\n",
      "\n",
      "sent 29 bytes  received 1.770 bytes  3.598,00 bytes/sec\n",
      "total size is 2.371.305.976  speedup is 1.318.124,50\n"
     ]
    }
   ],
   "source": [
    "!rsync -rpltvz --delete rsync.ebi.ac.uk::pub/databases/opentargets/platform/25.03/output/variant ../../data/.\n",
    "!rsync -rpltvz --delete rsync.ebi.ac.uk::pub/databases/opentargets/platform/25.03/output/credible_set ../../data/.\n"
   ]
  },
  {
   "cell_type": "code",
   "execution_count": null,
   "metadata": {},
   "outputs": [],
   "source": [
    "import seaborn as sns\n",
    "from gentropy.common.session import Session\n",
    "from gentropy.dataset.study_locus import StudyLocus\n",
    "from gentropy.dataset.variant_index import VariantIndex\n",
    "from pyspark.sql import Column\n",
    "from pyspark.sql import functions as f\n"
   ]
  },
  {
   "cell_type": "code",
   "execution_count": 36,
   "metadata": {},
   "outputs": [],
   "source": [
    "session = Session(extended_spark_conf={\"spark.driver.memory\": \"40G\"})\n",
    "variant_index_path = \"../../data/variant\"\n",
    "credible_set_path = \"../../data/credible_set\"\n"
   ]
  },
  {
   "cell_type": "code",
   "execution_count": 5,
   "metadata": {},
   "outputs": [
    {
     "data": {
      "text/html": [
       "\n",
       "            <div>\n",
       "                <p><b>SparkSession - in-memory</b></p>\n",
       "                \n",
       "        <div>\n",
       "            <p><b>SparkContext</b></p>\n",
       "\n",
       "            <p><a href=\"http://192.168.0.100:4041\">Spark UI</a></p>\n",
       "\n",
       "            <dl>\n",
       "              <dt>Version</dt>\n",
       "                <dd><code>v3.5.5</code></dd>\n",
       "              <dt>Master</dt>\n",
       "                <dd><code>local[*]</code></dd>\n",
       "              <dt>AppName</dt>\n",
       "                <dd><code>gentropy</code></dd>\n",
       "            </dl>\n",
       "        </div>\n",
       "        \n",
       "            </div>\n",
       "        "
      ],
      "text/plain": [
       "<pyspark.sql.session.SparkSession at 0x70a9d67dd590>"
      ]
     },
     "execution_count": 5,
     "metadata": {},
     "output_type": "execute_result"
    }
   ],
   "source": [
    "session.spark\n"
   ]
  },
  {
   "cell_type": "code",
   "execution_count": 38,
   "metadata": {},
   "outputs": [],
   "source": [
    "vi = VariantIndex.from_parquet(session, variant_index_path)\n",
    "cs = StudyLocus.from_parquet(session, credible_set_path)\n"
   ]
  },
  {
   "cell_type": "code",
   "execution_count": 26,
   "metadata": {},
   "outputs": [],
   "source": [
    "chromosomes = [str(c) for c in range(1, 23)] + [\"X\", \"Y\", \"MT\"]\n",
    "order = {c: idx for idx, c in enumerate(chromosomes)}\n",
    "\n",
    "\n",
    "def sort_by_chromosome(col: Column) -> Column:\n",
    "    \"\"\"Sort by chromosome.\"\"\"\n",
    "    expr = f.when(f.lit(False), None)\n",
    "    for chromosome_name, chromosome_index in order.items():\n",
    "        expr = expr.when(col == chromosome_name, f.lit(chromosome_index))\n",
    "    return expr.alias(\"chromosomeIndex\")\n"
   ]
  },
  {
   "cell_type": "code",
   "execution_count": null,
   "metadata": {},
   "outputs": [],
   "source": [
    "vi_chromosome_variants = (\n",
    "    vi.df.groupBy(\"chromosome\")\n",
    "    .count()\n",
    "    .withColumn(\"chromosomeIndex\", sort_by_chromosome(f.col(\"chromosome\")))\n",
    "    .orderBy(\"chromosomeIndex\")\n",
    ")\n",
    "cs_chromosome_variants = (\n",
    "    cs.df.groupBy(\"chromosome\").\n",
    "    .count()\n",
    "    .withColumn(\"chromosomeIndex\", sort_by_chromosome(f.col(\"chromosome\")))\n",
    "    .orderBy(\"chromosomeIndex\")\n",
    ")\n"
   ]
  },
  {
   "cell_type": "code",
   "execution_count": null,
   "metadata": {},
   "outputs": [
    {
     "name": "stdout",
     "output_type": "stream",
     "text": [
      "+----------+------+---------------+\n",
      "|chromosome|count |chromosomeIndex|\n",
      "+----------+------+---------------+\n",
      "|1         |555116|0              |\n",
      "|2         |574342|1              |\n",
      "|3         |410428|2              |\n",
      "|4         |334152|3              |\n",
      "|5         |367694|4              |\n",
      "|6         |344861|5              |\n",
      "|7         |361729|6              |\n",
      "|8         |276396|7              |\n",
      "|9         |263790|8              |\n",
      "|10        |287524|9              |\n",
      "|11        |356345|10             |\n",
      "|12        |316971|11             |\n",
      "|13        |163224|12             |\n",
      "|14        |213421|13             |\n",
      "|15        |214971|14             |\n",
      "|16        |262910|15             |\n",
      "|17        |299994|16             |\n",
      "|18        |126803|17             |\n",
      "|19        |261633|18             |\n",
      "|20        |136870|19             |\n",
      "|21        |72164 |20             |\n",
      "|22        |119047|21             |\n",
      "|X         |170748|22             |\n",
      "|Y         |96    |23             |\n",
      "|MT        |2653  |24             |\n",
      "+----------+------+---------------+\n",
      "\n"
     ]
    }
   ],
   "source": [
    "chromosome_variants.show(truncate=False, n=30)\n"
   ]
  },
  {
   "cell_type": "code",
   "execution_count": null,
   "metadata": {},
   "outputs": [],
   "source": [
    "sns.set_style(\"white\")\n",
    "sns.set_context(\"paper\", font_scale=1.0)\n",
    "sns.set_palette(sns.color_palette(\"coolwarm\"))\n"
   ]
  },
  {
   "cell_type": "code",
   "execution_count": null,
   "metadata": {},
   "outputs": [
    {
     "data": {
      "text/plain": [
       "Text(0.5, 1.0, 'Variant counts across chromosomes from VariantIndex')"
      ]
     },
     "execution_count": 34,
     "metadata": {},
     "output_type": "execute_result"
    },
    {
     "data": {
      "image/png": "[encoded data removed]",
      "text/plain": [
       "<Figure size 640x480 with 1 Axes>"
      ]
     },
     "metadata": {},
     "output_type": "display_data"
    }
   ],
   "source": [
    "fig = sns.barplot(chromosome_variants.toPandas(), x=\"chromosome\", y=\"count\")\n",
    "fig.set_title(\"Variant counts across chromosomes from VariantIndex\")\n"
   ]
  },
  {
   "cell_type": "code",
   "execution_count": null,
   "metadata": {},
   "outputs": [],
   "source": []
  }
 ],
 "metadata": {
  "kernelspec": {
   "display_name": ".venv",
   "language": "python",
   "name": "python3"
  },
  "language_info": {
   "codemirror_mode": {
    "name": "ipython",
    "version": 3
   },
   "file_extension": ".py",
   "mimetype": "text/x-python",
   "name": "python",
   "nbconvert_exporter": "python",
   "pygments_lexer": "ipython3",
   "version": "3.11.11"
  }
 },
 "nbformat": 4,
 "nbformat_minor": 2
}

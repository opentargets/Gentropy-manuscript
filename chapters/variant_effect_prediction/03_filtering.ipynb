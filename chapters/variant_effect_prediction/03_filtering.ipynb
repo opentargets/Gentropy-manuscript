{
 "cells": [
  {
   "cell_type": "markdown",
   "metadata": {},
   "source": [
    "# Filter initial dataset for plots\n"
   ]
  },
  {
   "cell_type": "markdown",
   "metadata": {},
   "source": [
    "The dataset containing the information about the $estimated\\;\\beta$ needs to be filtered to obtain only the binary traits that are in one of the follwing therapetic areas\n"
   ]
  },
  {
   "cell_type": "markdown",
   "metadata": {},
   "source": [
    "### Load the datasets\n"
   ]
  },
  {
   "cell_type": "code",
   "execution_count": 6,
   "metadata": {},
   "outputs": [],
   "source": [
    "import polars as pl\n"
   ]
  },
  {
   "cell_type": "code",
   "execution_count": 7,
   "metadata": {},
   "outputs": [],
   "source": [
    "initial_dataset = pl.read_parquet(\"../../data/rescaled-betas.parquet\")\n",
    "therapeutic_areas = pl.read_parquet(\"../../data/therapeutic_areas/*.parquet\")\n",
    "therapeutic_area_classes = [\n",
    "    \"Haematology\",\n",
    "    \"Metabolic\",\n",
    "    \"Congenital\",\n",
    "    \"Signs/symptoms\",\n",
    "    \"Neurology\",\n",
    "    \"Immune\",\n",
    "    \"Psychiatry\",\n",
    "    \"Dermatology\",\n",
    "    \"Ophthalmology\",\n",
    "    \"Cardiovascular\",\n",
    "    \"Respiratory\",\n",
    "    \"Digestive\",\n",
    "    \"Endocrine\",\n",
    "    \"Musculoskeletal\",\n",
    "    \"Infection\",\n",
    "    \"Oncology\",\n",
    "    \"Other\",\n",
    "]\n"
   ]
  },
  {
   "cell_type": "code",
   "execution_count": 8,
   "metadata": {},
   "outputs": [
    {
     "data": {
      "text/plain": [
       "['variantId',\n",
       " 'studyId',\n",
       " 'studyLocusId',\n",
       " 'beta',\n",
       " 'zScore',\n",
       " 'pValueMantissa',\n",
       " 'pValueExponent',\n",
       " 'standardError',\n",
       " 'finemappingMethod',\n",
       " 'studyType',\n",
       " 'credibleSetSize',\n",
       " 'isTransQtl',\n",
       " 'posteriorProbability',\n",
       " 'nSamples',\n",
       " 'nControls',\n",
       " 'nCases',\n",
       " 'geneId',\n",
       " 'traitFromSourceMappedIds',\n",
       " 'majorPopulation',\n",
       " 'allelefrequencies',\n",
       " 'vepEffect',\n",
       " 'majorPopulationAF',\n",
       " 'majorPopulationMAF',\n",
       " 'leadVariantStats',\n",
       " 'rescaledStatistics']"
      ]
     },
     "execution_count": 8,
     "metadata": {},
     "output_type": "execute_result"
    }
   ],
   "source": [
    "initial_dataset.columns\n"
   ]
  },
  {
   "cell_type": "code",
   "execution_count": 10,
   "metadata": {},
   "outputs": [],
   "source": [
    "def therapeutic_area_studies(\n",
    "    df: pl.DataFrame, therapeutic_areas: pl.DataFrame, therapeutic_area_cols: list[str]\n",
    ") -> pl.DataFrame:\n",
    "    \"\"\"Extract therapeutic area studies from the initial dataset.\"\"\"\n",
    "    expr = pl.when(False).then(None)\n",
    "    for area in therapeutic_area_cols:\n",
    "        expr = expr.when(pl.col(area) == 1).then(True)\n",
    "    therapeutic_areas.select(\"studyId\", *therapeutic_area_classes, \"Measurement\")\n",
    "    expr = expr.otherwise(False).alias(\"inTherapeuticArea\")\n",
    "    return (\n",
    "        df.join(therapeutic_areas, on=\"studyId\", how=\"left\")\n",
    "        .select(\n",
    "            \"*\",\n",
    "            expr,\n",
    "            pl.struct(*[pl.col(x) for x in therapeutic_area_cols]).alias(\"therapeuticAreas\"),\n",
    "            pl.sum_horizontal(*therapeutic_area_cols).alias(\"nTherapeuticAreasPerStudy\"),\n",
    "        )\n",
    "        .drop(*therapeutic_area_classes)\n",
    "    )\n",
    "\n",
    "\n",
    "def filter_for_plotting(\n",
    "    df: pl.DataFrame, prev_threshold: float = 0.01, n_samples_threshold: int = 100_000\n",
    ") -> pl.DataFrame:\n",
    "    \"\"\"Filter the dataset for plotting.\"\"\"\n",
    "    prev = pl.col(\"rescaledStatistics\").struct.field(\"prev\")\n",
    "    n_cases = pl.col(\"nCases\")\n",
    "    n_controls = pl.col(\"nControls\")\n",
    "    n_samples = pl.col(\"nSamples\")\n",
    "    est_beta = pl.col(\"rescaledStatistics\").struct.field(\"estimatedBeta\")\n",
    "    return df.filter(\n",
    "        (\n",
    "            (prev.is_not_null())\n",
    "            & (prev.is_not_nan())\n",
    "            & (n_cases < n_controls)\n",
    "            & (est_beta.abs() <= 3)\n",
    "            & (prev >= prev_threshold)\n",
    "            & (n_samples >= n_samples_threshold)\n",
    "        )\n",
    "    )\n"
   ]
  },
  {
   "cell_type": "markdown",
   "metadata": {},
   "source": [
    "### Check how unique the therapeutic area classes are\n"
   ]
  },
  {
   "cell_type": "code",
   "execution_count": 11,
   "metadata": {},
   "outputs": [
    {
     "data": {
      "text/html": [
       "<div><style>\n",
       ".dataframe > thead > tr,\n",
       ".dataframe > tbody > tr {\n",
       "  text-align: right;\n",
       "  white-space: pre-wrap;\n",
       "}\n",
       "</style>\n",
       "<small>shape: (10, 2)</small><table border=\"1\" class=\"dataframe\"><thead><tr><th>nTherapeuticAreasPerStudy</th><th>len</th></tr><tr><td>i32</td><td>u32</td></tr></thead><tbody><tr><td>9</td><td>1</td></tr><tr><td>8</td><td>2</td></tr><tr><td>7</td><td>3</td></tr><tr><td>6</td><td>40</td></tr><tr><td>5</td><td>53</td></tr><tr><td>4</td><td>244</td></tr><tr><td>3</td><td>687</td></tr><tr><td>2</td><td>3369</td></tr><tr><td>1</td><td>10990</td></tr><tr><td>0</td><td>81015</td></tr></tbody></table></div>"
      ],
      "text/plain": [
       "shape: (10, 2)\n",
       "┌───────────────────────────┬───────┐\n",
       "│ nTherapeuticAreasPerStudy ┆ len   │\n",
       "│ ---                       ┆ ---   │\n",
       "│ i32                       ┆ u32   │\n",
       "╞═══════════════════════════╪═══════╡\n",
       "│ 9                         ┆ 1     │\n",
       "│ 8                         ┆ 2     │\n",
       "│ 7                         ┆ 3     │\n",
       "│ 6                         ┆ 40    │\n",
       "│ 5                         ┆ 53    │\n",
       "│ 4                         ┆ 244   │\n",
       "│ 3                         ┆ 687   │\n",
       "│ 2                         ┆ 3369  │\n",
       "│ 1                         ┆ 10990 │\n",
       "│ 0                         ┆ 81015 │\n",
       "└───────────────────────────┴───────┘"
      ]
     },
     "execution_count": 11,
     "metadata": {},
     "output_type": "execute_result"
    }
   ],
   "source": [
    "therapeutic_areas.select(\n",
    "    pl.sum_horizontal(*therapeutic_area_classes).alias(\"nTherapeuticAreasPerStudy\"), pl.col(\"studyId\")\n",
    ").group_by(\"nTherapeuticAreasPerStudy\").len().sort(\"len\")\n"
   ]
  },
  {
   "cell_type": "code",
   "execution_count": 12,
   "metadata": {},
   "outputs": [
    {
     "data": {
      "text/html": [
       "<div><style>\n",
       ".dataframe > thead > tr,\n",
       ".dataframe > tbody > tr {\n",
       "  text-align: right;\n",
       "  white-space: pre-wrap;\n",
       "}\n",
       "</style>\n",
       "<small>shape: (1, 19)</small><table border=\"1\" class=\"dataframe\"><thead><tr><th>Haematology</th><th>Metabolic</th><th>Congenital</th><th>Signs/symptoms</th><th>Neurology</th><th>Immune</th><th>Psychiatry</th><th>Dermatology</th><th>Ophthalmology</th><th>Cardiovascular</th><th>Respiratory</th><th>Digestive</th><th>Endocrine</th><th>Musculoskeletal</th><th>Infection</th><th>Oncology</th><th>Other</th><th>nTherapeuticAreasPerStudy</th><th>studyId</th></tr><tr><td>i32</td><td>i32</td><td>i32</td><td>i32</td><td>i32</td><td>i32</td><td>i32</td><td>i32</td><td>i32</td><td>i32</td><td>i32</td><td>i32</td><td>i32</td><td>i32</td><td>i32</td><td>i32</td><td>i32</td><td>i32</td><td>str</td></tr></thead><tbody><tr><td>0</td><td>1</td><td>1</td><td>0</td><td>1</td><td>1</td><td>0</td><td>1</td><td>1</td><td>0</td><td>0</td><td>1</td><td>1</td><td>1</td><td>0</td><td>0</td><td>0</td><td>9</td><td>&quot;GCST005320&quot;</td></tr></tbody></table></div>"
      ],
      "text/plain": [
       "shape: (1, 19)\n",
       "┌────────────┬───────────┬────────────┬────────────┬───┬──────────┬───────┬────────────┬───────────┐\n",
       "│ Haematolog ┆ Metabolic ┆ Congenital ┆ Signs/symp ┆ … ┆ Oncology ┆ Other ┆ nTherapeut ┆ studyId   │\n",
       "│ y          ┆ ---       ┆ ---        ┆ toms       ┆   ┆ ---      ┆ ---   ┆ icAreasPer ┆ ---       │\n",
       "│ ---        ┆ i32       ┆ i32        ┆ ---        ┆   ┆ i32      ┆ i32   ┆ Study      ┆ str       │\n",
       "│ i32        ┆           ┆            ┆ i32        ┆   ┆          ┆       ┆ ---        ┆           │\n",
       "│            ┆           ┆            ┆            ┆   ┆          ┆       ┆ i32        ┆           │\n",
       "╞════════════╪═══════════╪════════════╪════════════╪═══╪══════════╪═══════╪════════════╪═══════════╡\n",
       "│ 0          ┆ 1         ┆ 1          ┆ 0          ┆ … ┆ 0        ┆ 0     ┆ 9          ┆ GCST00532 │\n",
       "│            ┆           ┆            ┆            ┆   ┆          ┆       ┆            ┆ 0         │\n",
       "└────────────┴───────────┴────────────┴────────────┴───┴──────────┴───────┴────────────┴───────────┘"
      ]
     },
     "execution_count": 12,
     "metadata": {},
     "output_type": "execute_result"
    }
   ],
   "source": [
    "therapeutic_areas.select(\n",
    "    *therapeutic_area_classes,\n",
    "    pl.sum_horizontal(*therapeutic_area_classes).alias(\"nTherapeuticAreasPerStudy\"),\n",
    "    pl.col(\"studyId\"),\n",
    ").filter(pl.col(\"nTherapeuticAreasPerStudy\") == 9)\n"
   ]
  },
  {
   "cell_type": "markdown",
   "metadata": {},
   "source": [
    "### Studies that are treated as quantitative, even though they are binary\n"
   ]
  },
  {
   "cell_type": "code",
   "execution_count": 13,
   "metadata": {},
   "outputs": [
    {
     "data": {
      "text/html": [
       "<div><style>\n",
       ".dataframe > thead > tr,\n",
       ".dataframe > tbody > tr {\n",
       "  text-align: right;\n",
       "  white-space: pre-wrap;\n",
       "}\n",
       "</style>\n",
       "<small>shape: (11, 3)</small><table border=\"1\" class=\"dataframe\"><thead><tr><th>nTherapeuticAreasPerStudy</th><th>traitClass</th><th>len</th></tr><tr><td>i32</td><td>str</td><td>u32</td></tr></thead><tbody><tr><td>0</td><td>&quot;binary&quot;</td><td>11496</td></tr><tr><td>1</td><td>&quot;binary&quot;</td><td>33807</td></tr><tr><td>2</td><td>&quot;binary&quot;</td><td>19305</td></tr><tr><td>3</td><td>&quot;binary&quot;</td><td>4436</td></tr><tr><td>4</td><td>&quot;binary&quot;</td><td>945</td></tr><tr><td>&hellip;</td><td>&hellip;</td><td>&hellip;</td></tr><tr><td>6</td><td>&quot;binary&quot;</td><td>109</td></tr><tr><td>7</td><td>&quot;binary&quot;</td><td>3</td></tr><tr><td>0</td><td>&quot;quantitative&quot;</td><td>2550657</td></tr><tr><td>1</td><td>&quot;quantitative&quot;</td><td>28</td></tr><tr><td>4</td><td>&quot;quantitative&quot;</td><td>3</td></tr></tbody></table></div>"
      ],
      "text/plain": [
       "shape: (11, 3)\n",
       "┌───────────────────────────┬──────────────┬─────────┐\n",
       "│ nTherapeuticAreasPerStudy ┆ traitClass   ┆ len     │\n",
       "│ ---                       ┆ ---          ┆ ---     │\n",
       "│ i32                       ┆ str          ┆ u32     │\n",
       "╞═══════════════════════════╪══════════════╪═════════╡\n",
       "│ 0                         ┆ binary       ┆ 11496   │\n",
       "│ 1                         ┆ binary       ┆ 33807   │\n",
       "│ 2                         ┆ binary       ┆ 19305   │\n",
       "│ 3                         ┆ binary       ┆ 4436    │\n",
       "│ 4                         ┆ binary       ┆ 945     │\n",
       "│ …                         ┆ …            ┆ …       │\n",
       "│ 6                         ┆ binary       ┆ 109     │\n",
       "│ 7                         ┆ binary       ┆ 3       │\n",
       "│ 0                         ┆ quantitative ┆ 2550657 │\n",
       "│ 1                         ┆ quantitative ┆ 28      │\n",
       "│ 4                         ┆ quantitative ┆ 3       │\n",
       "└───────────────────────────┴──────────────┴─────────┘"
      ]
     },
     "execution_count": 13,
     "metadata": {},
     "output_type": "execute_result"
    }
   ],
   "source": [
    "# Create a new dataset with the therapeutic area columns\n",
    "dataset = therapeutic_area_studies(initial_dataset, therapeutic_areas, therapeutic_area_classes)\n",
    "dataset.select(\n",
    "    pl.col(\"rescaledStatistics\").struct.field(\"traitClass\"),\n",
    "    pl.col(\"nTherapeuticAreasPerStudy\"),\n",
    "    pl.col(\"studyId\"),\n",
    ").group_by(\"nTherapeuticAreasPerStudy\", \"traitClass\").len().sort(\"traitClass\", \"nTherapeuticAreasPerStudy\")\n"
   ]
  },
  {
   "cell_type": "code",
   "execution_count": 14,
   "metadata": {},
   "outputs": [
    {
     "data": {
      "text/html": [
       "<div><style>\n",
       ".dataframe > thead > tr,\n",
       ".dataframe > tbody > tr {\n",
       "  text-align: right;\n",
       "  white-space: pre-wrap;\n",
       "}\n",
       "</style>\n",
       "<small>shape: (3, 5)</small><table border=\"1\" class=\"dataframe\"><thead><tr><th>studyId</th><th>nSamples</th><th>nControls</th><th>nCases</th><th>initialSampleSize</th></tr><tr><td>str</td><td>i32</td><td>i32</td><td>i32</td><td>str</td></tr></thead><tbody><tr><td>&quot;GCST001953&quot;</td><td>204498</td><td>65840</td><td>0</td><td>&quot;93,015 European ancestry overweight individuals, 32,858 European ancestry&nbsp;&nbsp;class I obese individuals, 9,889 European ancestry class II obese individuals, 2,896 European ancestry class III obese individuals, up to 65,840 European ancestry controls&quot;</td></tr><tr><td>&quot;GCST004413&quot;</td><td>14933</td><td>12953</td><td>0</td><td>&quot;1,980 European ancestry mothers of spontaneous dizygotic twins, 12,953 European ancestry controls&quot;</td></tr><tr><td>&quot;GCST001637&quot;</td><td>2153</td><td>828</td><td>0</td><td>&quot;1,325 African ancestry, 828 African ancestry controls&quot;</td></tr></tbody></table></div>"
      ],
      "text/plain": [
       "shape: (3, 5)\n",
       "┌────────────┬──────────┬───────────┬────────┬─────────────────────────────────────────────────────┐\n",
       "│ studyId    ┆ nSamples ┆ nControls ┆ nCases ┆ initialSampleSize                                   │\n",
       "│ ---        ┆ ---      ┆ ---       ┆ ---    ┆ ---                                                 │\n",
       "│ str        ┆ i32      ┆ i32       ┆ i32    ┆ str                                                 │\n",
       "╞════════════╪══════════╪═══════════╪════════╪═════════════════════════════════════════════════════╡\n",
       "│ GCST001953 ┆ 204498   ┆ 65840     ┆ 0      ┆ 93,015 European ancestry overweight individuals,    │\n",
       "│            ┆          ┆           ┆        ┆ 32,858 European ancestry  class I obese             │\n",
       "│            ┆          ┆           ┆        ┆ individuals, 9,889 European ancestry class II obese │\n",
       "│            ┆          ┆           ┆        ┆ individuals, 2,896 European ancestry class III      │\n",
       "│            ┆          ┆           ┆        ┆ obese individuals, up to 65,840 European ancestry   │\n",
       "│            ┆          ┆           ┆        ┆ controls                                            │\n",
       "│ GCST004413 ┆ 14933    ┆ 12953     ┆ 0      ┆ 1,980 European ancestry mothers of spontaneous      │\n",
       "│            ┆          ┆           ┆        ┆ dizygotic twins, 12,953 European ancestry controls  │\n",
       "│ GCST001637 ┆ 2153     ┆ 828       ┆ 0      ┆ 1,325 African ancestry, 828 African ancestry        │\n",
       "│            ┆          ┆           ┆        ┆ controls                                            │\n",
       "└────────────┴──────────┴───────────┴────────┴─────────────────────────────────────────────────────┘"
      ]
     },
     "execution_count": 14,
     "metadata": {},
     "output_type": "execute_result"
    }
   ],
   "source": [
    "pl.Config.set_fmt_str_lengths(1000)\n",
    "dataset.filter(pl.col(\"inTherapeuticArea\")).filter(\n",
    "    pl.col(\"rescaledStatistics\").struct.field(\"traitClass\") == \"quantitative\"\n",
    ").unique(\"studyId\").select(\"studyId\", \"nSamples\", \"nControls\", \"nCases\", \"initialSampleSize\")\n"
   ]
  },
  {
   "cell_type": "markdown",
   "metadata": {},
   "source": [
    "### Prepare the dataset for plotting\n"
   ]
  },
  {
   "cell_type": "code",
   "execution_count": 15,
   "metadata": {},
   "outputs": [],
   "source": [
    "plot_ready_dataset = filter_for_plotting(dataset)\n"
   ]
  },
  {
   "cell_type": "code",
   "execution_count": 16,
   "metadata": {},
   "outputs": [
    {
     "data": {
      "text/plain": [
       "49606"
      ]
     },
     "execution_count": 16,
     "metadata": {},
     "output_type": "execute_result"
    }
   ],
   "source": [
    "plot_ready_dataset.shape[0]\n"
   ]
  },
  {
   "cell_type": "markdown",
   "metadata": {},
   "source": [
    "We have ~50k lead variants (creadible sets) that pass the prevelance and beta filtering and are assigned to therapeutic areas\n"
   ]
  },
  {
   "cell_type": "code",
   "execution_count": 17,
   "metadata": {},
   "outputs": [
    {
     "data": {
      "text/plain": [
       "1937"
      ]
     },
     "execution_count": 17,
     "metadata": {},
     "output_type": "execute_result"
    }
   ],
   "source": [
    "plot_ready_dataset.unique(\"studyId\").shape[0]\n"
   ]
  },
  {
   "cell_type": "markdown",
   "metadata": {},
   "source": [
    "This number of variants account for ~2k studies\n"
   ]
  },
  {
   "cell_type": "code",
   "execution_count": 18,
   "metadata": {},
   "outputs": [],
   "source": [
    "plot_ready_dataset.write_parquet(\"../../data/binary-therapeutic-lead-variants.parquet\")\n"
   ]
  }
 ],
 "metadata": {
  "kernelspec": {
   "display_name": ".venv",
   "language": "python",
   "name": "python3"
  },
  "language_info": {
   "codemirror_mode": {
    "name": "ipython",
    "version": 3
   },
   "file_extension": ".py",
   "mimetype": "text/x-python",
   "name": "python",
   "nbconvert_exporter": "python",
   "pygments_lexer": "ipython3",
   "version": "3.11.11"
  }
 },
 "nbformat": 4,
 "nbformat_minor": 2
}

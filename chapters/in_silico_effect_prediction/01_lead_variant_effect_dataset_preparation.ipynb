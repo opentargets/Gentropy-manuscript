{
 "cells": [
  {
   "cell_type": "markdown",
   "metadata": {},
   "source": [
    "# Lead Variant Effect dataset preparation\n",
    "\n",
    "The aim of this notebook is to collect the information about the effect of the credible set lead variants.\n",
    "**This includes**:\n",
    "\n",
    "- Addition of **Major population sample size** and **size of cases/controls** from _studyIndex_,\n",
    "- Addition of **VEP consequence score** derived annotations from _variantIndex_\n",
    "- Addition of **study specific major ancestry variant AF** (allele frequency)<a name=\"out of sample AF\"></a>[<sup>[1]</sup>](#cite_note-1) annotations from _variantIndex_\n",
    "- Calculation of **MAF (Minor Allele Frequency)** based on AF of the **credible set lead variants** derived from _studyLocus_\n",
    "- Calculation of **Variance Explained by lead variant**\n",
    "- Calculation of the **Rescaled estimated effect sizes** based on the trait class (dichotomous or continuous) and the MAF of the lead variant.\n",
    "\n",
    "<a name=\"cite_note-1\"></a>1. [^](#cite_ref-1) AF is derived from GnomAD v4.1 allele frequencies from joint Exome and WGS datasets.\n"
   ]
  },
  {
   "cell_type": "markdown",
   "metadata": {
    "vscode": {
     "languageId": "plaintext"
    }
   },
   "source": [
    "## Data extraction and loading\n",
    "\n",
    "<div class=\"alert alert-block alert-info\"> \n",
    "    <b style=\"font-size: 1.2em\">Downloading datasets</b><br><br>\n",
    "    <b>The analysis can be performed on the:</b>\n",
    "    <ul>\n",
    "        <li>2025.03 release (rsync from EBI FTP server)</li>\n",
    "        <li>2025.06 release (rsync from google cloud storage)</li>\n",
    "    </ul>\n",
    "    <I>This code chunk should be run only once to download the relevant datasets.</I>\n",
    "</div>\n",
    "\n",
    "Data for this analysis has to be downloaded from 3 datasets:\n",
    "\n",
    "- credible_set\n",
    "- variant\n",
    "- study\n"
   ]
  },
  {
   "cell_type": "code",
   "execution_count": 1,
   "metadata": {},
   "outputs": [
    {
     "name": "stdout",
     "output_type": "stream",
     "text": [
      "openjdk version \"11.0.26\" 2025-01-21\n",
      "OpenJDK Runtime Environment Temurin-11.0.26+4 (build 11.0.26+4)\n",
      "OpenJDK 64-Bit Server VM Temurin-11.0.26+4 (build 11.0.26+4, mixed mode)\n"
     ]
    }
   ],
   "source": [
    "# Ensure proper java version < 11\n",
    "!java -version\n"
   ]
  },
  {
   "cell_type": "code",
   "execution_count": null,
   "metadata": {},
   "outputs": [],
   "source": [
    "# Download the release data from the Open Targets Platform 25.03 release\n",
    "# !rsync -rpltvz --delete rsync.ebi.ac.uk::pub/databases/opentargets/platform/25.03/output/credible_set ../../data/.\n",
    "# !rsync -rpltvz --delete rsync.ebi.ac.uk::pub/databases/opentargets/platform/25.03/output/study ../../data/.\n",
    "# !rsync -rpltvz --delete rsync.ebi.ac.uk::pub/databases/opentargets/platform/25.03/output/variant ../../data/.\n",
    "\n",
    "# Download the release data from the Open Targets Platform 25.06 release\n",
    "!gcloud storage rsync --recursive --delete-unmatched-destination-objects gs://open-targets-pipeline-runs/szsz/25.06-testrun-4/output/credible_set ../../data/credible_set\n",
    "!gcloud storage rsync --recursive --delete-unmatched-destination-objects gs://open-targets-pipeline-runs/szsz/25.06-testrun-4/output/study ../../data/study\n",
    "!gcloud storage rsync --recursive --delete-unmatched-destination-objects gs://open-targets-pipeline-runs/szsz/25.06-testrun-4/output/variant ../../data/variant\n"
   ]
  },
  {
   "cell_type": "markdown",
   "metadata": {},
   "source": [
    "## Session setup\n",
    "\n",
    "- Create the sparkSession\n",
    "- Set all input/output paths\n"
   ]
  },
  {
   "cell_type": "code",
   "execution_count": 3,
   "metadata": {},
   "outputs": [
    {
     "data": {
      "text/html": [
       "    <style>\n",
       "        .bk-notebook-logo {\n",
       "            display: block;\n",
       "            width: 20px;\n",
       "            height: 20px;\n",
       "            background-image: url(data:image/png;base64,iVBORw0KGgoAAAANSUhEUgAAABQAAAAUCAYAAACNiR0NAAAABHNCSVQICAgIfAhkiAAAAAlwSFlzAAALEgAACxIB0t1+/AAAABx0RVh0U29mdHdhcmUAQWRvYmUgRmlyZXdvcmtzIENTNui8sowAAAOkSURBVDiNjZRtaJVlGMd/1/08zzln5zjP1LWcU9N0NkN8m2CYjpgQYQXqSs0I84OLIC0hkEKoPtiH3gmKoiJDU7QpLgoLjLIQCpEsNJ1vqUOdO7ppbuec5+V+rj4ctwzd8IIbbi6u+8f1539dt3A78eXC7QizUF7gyV1fD1Yqg4JWz84yffhm0qkFqBogB9rM8tZdtwVsPUhWhGcFJngGeWrPzHm5oaMmkfEg1usvLFyc8jLRqDOMru7AyC8saQr7GG7f5fvDeH7Ej8CM66nIF+8yngt6HWaKh7k49Soy9nXurCi1o3qUbS3zWfrYeQDTB/Qj6kX6Ybhw4B+bOYoLKCC9H3Nu/leUTZ1JdRWkkn2ldcCamzrcf47KKXdAJllSlxAOkRgyHsGC/zRday5Qld9DyoM4/q/rUoy/CXh3jzOu3bHUVZeU+DEn8FInkPBFlu3+nW3Nw0mk6vCDiWg8CeJaxEwuHS3+z5RgY+YBR6V1Z1nxSOfoaPa4LASWxxdNp+VWTk7+4vzaou8v8PN+xo+KY2xsw6une2frhw05CTYOmQvsEhjhWjn0bmXPjpE1+kplmmkP3suftwTubK9Vq22qKmrBhpY4jvd5afdRA3wGjFAgcnTK2s4hY0/GPNIb0nErGMCRxWOOX64Z8RAC4oCXdklmEvcL8o0BfkNK4lUg9HTl+oPlQxdNo3Mg4Nv175e/1LDGzZen30MEjRUtmXSfiTVu1kK8W4txyV6BMKlbgk3lMwYCiusNy9fVfvvwMxv8Ynl6vxoByANLTWplvuj/nF9m2+PDtt1eiHPBr1oIfhCChQMBw6Aw0UulqTKZdfVvfG7VcfIqLG9bcldL/+pdWTLxLUy8Qq38heUIjh4XlzZxzQm19lLFlr8vdQ97rjZVOLf8nclzckbcD4wxXMidpX30sFd37Fv/GtwwhzhxGVAprjbg0gCAEeIgwCZyTV2Z1REEW8O4py0wsjeloKoMr6iCY6dP92H6Vw/oTyICIthibxjm/DfN9lVz8IqtqKYLUXfoKVMVQVVJOElGjrnnUt9T9wbgp8AyYKaGlqingHZU/uG2NTZSVqwHQTWkx9hxjkpWDaCg6Ckj5qebgBVbT3V3NNXMSiWSDdGV3hrtzla7J+duwPOToIg42ChPQOQjspnSlp1V+Gjdged7+8UN5CRAV7a5EdFNwCjEaBR27b3W890TE7g24NAP/mMDXRWrGoFPQI9ls/MWO2dWFAar/xcOIImbbpA3zgAAAABJRU5ErkJggg==);\n",
       "        }\n",
       "    </style>\n",
       "    <div>\n",
       "        <a href=\"https://bokeh.org\" target=\"_blank\" class=\"bk-notebook-logo\"></a>\n",
       "        <span id=\"db1337fa-4351-4075-9e48-62e87956d8d4\">Loading BokehJS ...</span>\n",
       "    </div>\n"
      ]
     },
     "metadata": {},
     "output_type": "display_data"
    },
    {
     "data": {
      "application/javascript": "'use strict';\n(function(root) {\n  function now() {\n    return new Date();\n  }\n\n  const force = true;\n\n  if (typeof root._bokeh_onload_callbacks === \"undefined\" || force === true) {\n    root._bokeh_onload_callbacks = [];\n    root._bokeh_is_loading = undefined;\n  }\n\nconst JS_MIME_TYPE = 'application/javascript';\n  const HTML_MIME_TYPE = 'text/html';\n  const EXEC_MIME_TYPE = 'application/vnd.bokehjs_exec.v0+json';\n  const CLASS_NAME = 'output_bokeh rendered_html';\n\n  /**\n   * Render data to the DOM node\n   */\n  function render(props, node) {\n    const script = document.createElement(\"script\");\n    node.appendChild(script);\n  }\n\n  /**\n   * Handle when an output is cleared or removed\n   */\n  function handleClearOutput(event, handle) {\n    function drop(id) {\n      const view = Bokeh.index.get_by_id(id)\n      if (view != null) {\n        view.model.document.clear()\n        Bokeh.index.delete(view)\n      }\n    }\n\n    const cell = handle.cell;\n\n    const id = cell.output_area._bokeh_element_id;\n    const server_id = cell.output_area._bokeh_server_id;\n\n    // Clean up Bokeh references\n    if (id != null) {\n      drop(id)\n    }\n\n    if (server_id !== undefined) {\n      // Clean up Bokeh references\n      const cmd_clean = \"from bokeh.io.state import curstate; print(curstate().uuid_to_server['\" + server_id + \"'].get_sessions()[0].document.roots[0]._id)\";\n      cell.notebook.kernel.execute(cmd_clean, {\n        iopub: {\n          output: function(msg) {\n            const id = msg.content.text.trim()\n            drop(id)\n          }\n        }\n      });\n      // Destroy server and session\n      const cmd_destroy = \"import bokeh.io.notebook as ion; ion.destroy_server('\" + server_id + \"')\";\n      cell.notebook.kernel.execute(cmd_destroy);\n    }\n  }\n\n  /**\n   * Handle when a new output is added\n   */\n  function handleAddOutput(event, handle) {\n    const output_area = handle.output_area;\n    const output = handle.output;\n\n    // limit handleAddOutput to display_data with EXEC_MIME_TYPE content only\n    if ((output.output_type != \"display_data\") || (!Object.prototype.hasOwnProperty.call(output.data, EXEC_MIME_TYPE))) {\n      return\n    }\n\n    const toinsert = output_area.element.find(\".\" + CLASS_NAME.split(' ')[0]);\n\n    if (output.metadata[EXEC_MIME_TYPE][\"id\"] !== undefined) {\n      toinsert[toinsert.length - 1].firstChild.textContent = output.data[JS_MIME_TYPE];\n      // store reference to embed id on output_area\n      output_area._bokeh_element_id = output.metadata[EXEC_MIME_TYPE][\"id\"];\n    }\n    if (output.metadata[EXEC_MIME_TYPE][\"server_id\"] !== undefined) {\n      const bk_div = document.createElement(\"div\");\n      bk_div.innerHTML = output.data[HTML_MIME_TYPE];\n      const script_attrs = bk_div.children[0].attributes;\n      for (let i = 0; i < script_attrs.length; i++) {\n        toinsert[toinsert.length - 1].firstChild.setAttribute(script_attrs[i].name, script_attrs[i].value);\n        toinsert[toinsert.length - 1].firstChild.textContent = bk_div.children[0].textContent\n      }\n      // store reference to server id on output_area\n      output_area._bokeh_server_id = output.metadata[EXEC_MIME_TYPE][\"server_id\"];\n    }\n  }\n\n  function register_renderer(events, OutputArea) {\n\n    function append_mime(data, metadata, element) {\n      // create a DOM node to render to\n      const toinsert = this.create_output_subarea(\n        metadata,\n        CLASS_NAME,\n        EXEC_MIME_TYPE\n      );\n      this.keyboard_manager.register_events(toinsert);\n      // Render to node\n      const props = {data: data, metadata: metadata[EXEC_MIME_TYPE]};\n      render(props, toinsert[toinsert.length - 1]);\n      element.append(toinsert);\n      return toinsert\n    }\n\n    /* Handle when an output is cleared or removed */\n    events.on('clear_output.CodeCell', handleClearOutput);\n    events.on('delete.Cell', handleClearOutput);\n\n    /* Handle when a new output is added */\n    events.on('output_added.OutputArea', handleAddOutput);\n\n    /**\n     * Register the mime type and append_mime function with output_area\n     */\n    OutputArea.prototype.register_mime_type(EXEC_MIME_TYPE, append_mime, {\n      /* Is output safe? */\n      safe: true,\n      /* Index of renderer in `output_area.display_order` */\n      index: 0\n    });\n  }\n\n  // register the mime type if in Jupyter Notebook environment and previously unregistered\n  if (root.Jupyter !== undefined) {\n    const events = require('base/js/events');\n    const OutputArea = require('notebook/js/outputarea').OutputArea;\n\n    if (OutputArea.prototype.mime_types().indexOf(EXEC_MIME_TYPE) == -1) {\n      register_renderer(events, OutputArea);\n    }\n  }\n  if (typeof (root._bokeh_timeout) === \"undefined\" || force === true) {\n    root._bokeh_timeout = Date.now() + 5000;\n    root._bokeh_failed_load = false;\n  }\n\n  const NB_LOAD_WARNING = {'data': {'text/html':\n     \"<div style='background-color: #fdd'>\\n\"+\n     \"<p>\\n\"+\n     \"BokehJS does not appear to have successfully loaded. If loading BokehJS from CDN, this \\n\"+\n     \"may be due to a slow or bad network connection. Possible fixes:\\n\"+\n     \"</p>\\n\"+\n     \"<ul>\\n\"+\n     \"<li>re-rerun `output_notebook()` to attempt to load from CDN again, or</li>\\n\"+\n     \"<li>use INLINE resources instead, as so:</li>\\n\"+\n     \"</ul>\\n\"+\n     \"<code>\\n\"+\n     \"from bokeh.resources import INLINE\\n\"+\n     \"output_notebook(resources=INLINE)\\n\"+\n     \"</code>\\n\"+\n     \"</div>\"}};\n\n  function display_loaded(error = null) {\n    const el = document.getElementById(\"db1337fa-4351-4075-9e48-62e87956d8d4\");\n    if (el != null) {\n      const html = (() => {\n        if (typeof root.Bokeh === \"undefined\") {\n          if (error == null) {\n            return \"BokehJS is loading ...\";\n          } else {\n            return \"BokehJS failed to load.\";\n          }\n        } else {\n          const prefix = `BokehJS ${root.Bokeh.version}`;\n          if (error == null) {\n            return `${prefix} successfully loaded.`;\n          } else {\n            return `${prefix} <b>encountered errors</b> while loading and may not function as expected.`;\n          }\n        }\n      })();\n      el.innerHTML = html;\n\n      if (error != null) {\n        const wrapper = document.createElement(\"div\");\n        wrapper.style.overflow = \"auto\";\n        wrapper.style.height = \"5em\";\n        wrapper.style.resize = \"vertical\";\n        const content = document.createElement(\"div\");\n        content.style.fontFamily = \"monospace\";\n        content.style.whiteSpace = \"pre-wrap\";\n        content.style.backgroundColor = \"rgb(255, 221, 221)\";\n        content.textContent = error.stack ?? error.toString();\n        wrapper.append(content);\n        el.append(wrapper);\n      }\n    } else if (Date.now() < root._bokeh_timeout) {\n      setTimeout(() => display_loaded(error), 100);\n    }\n  }\n\n  function run_callbacks() {\n    try {\n      root._bokeh_onload_callbacks.forEach(function(callback) {\n        if (callback != null)\n          callback();\n      });\n    } finally {\n      delete root._bokeh_onload_callbacks\n    }\n    console.debug(\"Bokeh: all callbacks have finished\");\n  }\n\n  function load_libs(css_urls, js_urls, callback) {\n    if (css_urls == null) css_urls = [];\n    if (js_urls == null) js_urls = [];\n\n    root._bokeh_onload_callbacks.push(callback);\n    if (root._bokeh_is_loading > 0) {\n      console.debug(\"Bokeh: BokehJS is being loaded, scheduling callback at\", now());\n      return null;\n    }\n    if (js_urls == null || js_urls.length === 0) {\n      run_callbacks();\n      return null;\n    }\n    console.debug(\"Bokeh: BokehJS not loaded, scheduling load and callback at\", now());\n    root._bokeh_is_loading = css_urls.length + js_urls.length;\n\n    function on_load() {\n      root._bokeh_is_loading--;\n      if (root._bokeh_is_loading === 0) {\n        console.debug(\"Bokeh: all BokehJS libraries/stylesheets loaded\");\n        run_callbacks()\n      }\n    }\n\n    function on_error(url) {\n      console.error(\"failed to load \" + url);\n    }\n\n    for (let i = 0; i < css_urls.length; i++) {\n      const url = css_urls[i];\n      const element = document.createElement(\"link\");\n      element.onload = on_load;\n      element.onerror = on_error.bind(null, url);\n      element.rel = \"stylesheet\";\n      element.type = \"text/css\";\n      element.href = url;\n      console.debug(\"Bokeh: injecting link tag for BokehJS stylesheet: \", url);\n      document.body.appendChild(element);\n    }\n\n    for (let i = 0; i < js_urls.length; i++) {\n      const url = js_urls[i];\n      const element = document.createElement('script');\n      element.onload = on_load;\n      element.onerror = on_error.bind(null, url);\n      element.async = false;\n      element.src = url;\n      console.debug(\"Bokeh: injecting script tag for BokehJS library: \", url);\n      document.head.appendChild(element);\n    }\n  };\n\n  function inject_raw_css(css) {\n    const element = document.createElement(\"style\");\n    element.appendChild(document.createTextNode(css));\n    document.body.appendChild(element);\n  }\n\n  const js_urls = [\"https://cdn.bokeh.org/bokeh/release/bokeh-3.4.3.min.js\", \"https://cdn.bokeh.org/bokeh/release/bokeh-gl-3.4.3.min.js\", \"https://cdn.bokeh.org/bokeh/release/bokeh-widgets-3.4.3.min.js\", \"https://cdn.bokeh.org/bokeh/release/bokeh-tables-3.4.3.min.js\", \"https://cdn.bokeh.org/bokeh/release/bokeh-mathjax-3.4.3.min.js\"];\n  const css_urls = [];\n\n  const inline_js = [    function(Bokeh) {\n      Bokeh.set_log_level(\"info\");\n    },\nfunction(Bokeh) {\n    }\n  ];\n\n  function run_inline_js() {\n    if (root.Bokeh !== undefined || force === true) {\n      try {\n            for (let i = 0; i < inline_js.length; i++) {\n      inline_js[i].call(root, root.Bokeh);\n    }\n\n      } catch (error) {display_loaded(error);throw error;\n      }if (force === true) {\n        display_loaded();\n      }} else if (Date.now() < root._bokeh_timeout) {\n      setTimeout(run_inline_js, 100);\n    } else if (!root._bokeh_failed_load) {\n      console.log(\"Bokeh: BokehJS failed to load within specified timeout.\");\n      root._bokeh_failed_load = true;\n    } else if (force !== true) {\n      const cell = $(document.getElementById(\"db1337fa-4351-4075-9e48-62e87956d8d4\")).parents('.cell').data().cell;\n      cell.output_area.append_execute_result(NB_LOAD_WARNING)\n    }\n  }\n\n  if (root._bokeh_is_loading === 0) {\n    console.debug(\"Bokeh: BokehJS loaded, going straight to plotting\");\n    run_inline_js();\n  } else {\n    load_libs(css_urls, js_urls, function() {\n      console.debug(\"Bokeh: BokehJS plotting callback run at\", now());\n      run_inline_js();\n    });\n  }\n}(window));",
      "application/vnd.bokehjs_load.v0+json": ""
     },
     "metadata": {},
     "output_type": "display_data"
    }
   ],
   "source": [
    "from gentropy.common.session import Session\n",
    "from gentropy.dataset.study_index import StudyIndex\n",
    "from gentropy.dataset.study_locus import StudyLocus\n",
    "from gentropy.dataset.variant_index import VariantIndex\n",
    "from pyspark.sql import functions as f\n"
   ]
  },
  {
   "cell_type": "code",
   "execution_count": 4,
   "metadata": {},
   "outputs": [
    {
     "name": "stderr",
     "output_type": "stream",
     "text": [
      "Setting default log level to \"WARN\".\n",
      "To adjust logging level use sc.setLogLevel(newLevel). For SparkR, use setLogLevel(newLevel).\n",
      "25/06/18 22:15:28 WARN NativeCodeLoader: Unable to load native-hadoop library for your platform... using builtin-java classes where applicable\n"
     ]
    }
   ],
   "source": [
    "session = Session(extended_spark_conf={\"spark.driver.memory\": \"40G\"})\n",
    "variant_index_path = \"../../data/variant\"\n",
    "study_index_path = \"../../data/study\"\n",
    "credible_set_path = \"../../data/credible_set\"\n",
    "output_dataset_path = \"../../data/lead-maf-vep\"\n"
   ]
  },
  {
   "cell_type": "code",
   "execution_count": 5,
   "metadata": {},
   "outputs": [
    {
     "data": {
      "text/html": [
       "\n",
       "            <div>\n",
       "                <p><b>SparkSession - in-memory</b></p>\n",
       "                \n",
       "        <div>\n",
       "            <p><b>SparkContext</b></p>\n",
       "\n",
       "            <p><a href=\"http://192.168.0.236:4040\">Spark UI</a></p>\n",
       "\n",
       "            <dl>\n",
       "              <dt>Version</dt>\n",
       "                <dd><code>v3.5.5</code></dd>\n",
       "              <dt>Master</dt>\n",
       "                <dd><code>local[*]</code></dd>\n",
       "              <dt>AppName</dt>\n",
       "                <dd><code>gentropy</code></dd>\n",
       "            </dl>\n",
       "        </div>\n",
       "        \n",
       "            </div>\n",
       "        "
      ],
      "text/plain": [
       "<pyspark.sql.session.SparkSession at 0x30387ff90>"
      ]
     },
     "execution_count": 5,
     "metadata": {},
     "output_type": "execute_result"
    }
   ],
   "source": [
    "session.spark\n"
   ]
  },
  {
   "cell_type": "markdown",
   "metadata": {},
   "source": [
    "## Building temporary dataset\n",
    "\n",
    "The temporary dataset needs to be build from the _studyIndex_, _studyLocus_ and _variantIndex_ datasets.\n"
   ]
  },
  {
   "cell_type": "code",
   "execution_count": 6,
   "metadata": {},
   "outputs": [
    {
     "name": "stderr",
     "output_type": "stream",
     "text": [
      "                                                                                \r"
     ]
    },
    {
     "name": "stdout",
     "output_type": "stream",
     "text": [
      "+---------------+----------------------------------------------------------+--------------------------------+---------------------+------------------+--------------+--------------+-------------+-----------------+---------+---------------+----------+--------+---------+------+---------------+------------------------+---------------------+------------------------------------------------------------+------------------------+---------------------------------------------------------------------------------------------------------------------------------------------------------------------------------------------------------------------------------------------------------------------------------------------------------------------------------------------+-----------------------------------------------------------------------------------------------------------------------------+\n",
      "|variantId      |studyId                                                   |studyLocusId                    |beta                 |zScore            |pValueMantissa|pValueExponent|standardError|finemappingMethod|studyType|credibleSetSize|isTransQtl|nSamples|nControls|nCases|geneId         |traitFromSourceMappedIds|ldPopulationStructure|traitFromSource                                             |traitFromSourceMappedIds|allelefrequencies                                                                                                                                                                                                                                                                                                                            |variantEffect                                                                                                                |\n",
      "+---------------+----------------------------------------------------------+--------------------------------+---------------------+------------------+--------------+--------------+-------------+-----------------+---------+---------------+----------+--------+---------+------+---------------+------------------------+---------------------+------------------------------------------------------------+------------------------+---------------------------------------------------------------------------------------------------------------------------------------------------------------------------------------------------------------------------------------------------------------------------------------------------------------------------------------------+-----------------------------------------------------------------------------------------------------------------------------+\n",
      "|2_77742537_A_T |GCST90105038                                              |d33d5b28c8d14e1ab04d4c122e355ce4|NULL                 |NULL              |1.0           |-12           |NULL         |PICS             |gwas     |27             |NULL      |3037499 |0        |0     |NULL           |[EFO_0011015]           |[{nfe, 1.0}]         |Educational attainment                                      |[EFO_0011015]           |[{sas_adj, 0.02466832504145937}, {remaining_adj, 0.017975402081362345}, {nfe_adj, 0.016889607526091432}, {mid_adj, 0.003401360544217687}, {fin_adj, 0.029217719132893498}, {eas_adj, 0.003089996137504828}, {asj_adj, 0.0014400921658986176}, {amr_adj, 0.0814151190164792}, {ami_adj, 0.047149122807017545}, {afr_adj, 0.00526948989412897}]|[{VEP, intron_variant, 0.1, NULL, NULL, 0.10000000149011612}, {GERP, NULL, -2.49, NULL, ENSG00000229494, 0.0424999992052714}]|\n",
      "|17_17436203_C_G|GCST90014006                                              |eac7a8086989c3b73da047fac671903e|-0.010424135383216394|-5.793110795798486|6.909449      |-9            |NULL         |SuSiE-inf        |gwas     |5              |NULL      |389889  |0        |0     |NULL           |[EFO_0004541]           |[{nfe, 1.0}]         |Glycated haemoglobin HbA1c levels (UKB data field 30750)    |[EFO_0004541]           |[{sas_adj, 0.6904761904761905}, {remaining_adj, 0.5944919278252612}, {nfe_adj, 0.5725218981331288}, {mid_adj, 0.6054421768707483}, {fin_adj, 0.5321626264554304}, {eas_adj, 0.4536410664544369}, {asj_adj, 0.5132794457274826}, {amr_adj, 0.5664785404908781}, {ami_adj, 0.6039823008849557}, {afr_adj, 0.8293136781053649}]                 |[{VEP, upstream_gene_variant, 0.0, NULL, NULL, 0.0}, {GERP, NULL, -0.931, NULL, ENSG00000295736, 0.17241666714350382}]       |\n",
      "|17_17436203_C_G|GCST90475332                                              |97114c0904b60a513dbb3ab41ce9e2f0|-0.02678             |NULL              |8.157         |-24           |0.002661     |PICS             |gwas     |5              |NULL      |419946  |0        |0     |NULL           |[EFO_0004468]           |[{nfe, 1.0}]         |Glucose (fasting status unknown, mean, inv-norm transformed)|[EFO_0004468]           |[{sas_adj, 0.6904761904761905}, {remaining_adj, 0.5944919278252612}, {nfe_adj, 0.5725218981331288}, {mid_adj, 0.6054421768707483}, {fin_adj, 0.5321626264554304}, {eas_adj, 0.4536410664544369}, {asj_adj, 0.5132794457274826}, {amr_adj, 0.5664785404908781}, {ami_adj, 0.6039823008849557}, {afr_adj, 0.8293136781053649}]                 |[{VEP, upstream_gene_variant, 0.0, NULL, NULL, 0.0}, {GERP, NULL, -0.931, NULL, ENSG00000295736, 0.17241666714350382}]       |\n",
      "|19_11578074_A_T|gtex_exon_prostate_ensg00000102575_13_19_11578076_11578136|c46a831f68436b9f0e868bc2d903580f|0.954802             |NULL              |8.333         |-12           |0.131609     |SuSie            |eqtl     |3              |false     |218     |NULL     |NULL  |ENSG00000102575|NULL                    |NULL                 |ENSG00000102575.13_19_11578076_11578136                     |NULL                    |[{sas_adj, 0.08946726311508743}, {remaining_adj, 0.10489833641404805}, {nfe_adj, 0.11685344827586207}, {mid_adj, 0.1360544217687075}, {fin_adj, 0.13890457368718237}, {eas_adj, 0.08336549594751061}, {asj_adj, 0.09655172413793103}, {amr_adj, 0.07444770782786361}, {ami_adj, 0.15528634361233482}, {afr_adj, 0.028020045294656196}]       |[{VEP, upstream_gene_variant, 0.0, NULL, NULL, 0.0}, {GERP, NULL, 0.126, NULL, ENSG00000274713, 0.2815000005066395}]         |\n",
      "|1_84062_T_G    |GCST90002350                                              |442edae1c936ca79eb37a9a61ec6eeaf|0.170914             |NULL              |3.47          |-9            |0.028909     |PICS             |gwas     |1              |NULL      |13476   |0        |0     |NULL           |[EFO_0004833]           |[{afr, 1.0}]         |Neutrophil count                                            |[EFO_0004833]           |[]                                                                                                                                                                                                                                                                                                                                           |[{VEP, upstream_gene_variant, 0.0, NULL, NULL, 0.0}]                                                                         |\n",
      "+---------------+----------------------------------------------------------+--------------------------------+---------------------+------------------+--------------+--------------+-------------+-----------------+---------+---------------+----------+--------+---------+------+---------------+------------------------+---------------------+------------------------------------------------------------+------------------------+---------------------------------------------------------------------------------------------------------------------------------------------------------------------------------------------------------------------------------------------------------------------------------------------------------------------------------------------+-----------------------------------------------------------------------------------------------------------------------------+\n",
      "only showing top 5 rows\n",
      "\n"
     ]
    }
   ],
   "source": [
    "vi = VariantIndex.from_parquet(session, variant_index_path)\n",
    "si = StudyIndex.from_parquet(session, study_index_path)\n",
    "cs = StudyLocus.from_parquet(session, credible_set_path)\n",
    "\n",
    "\n",
    "_cs = cs.df.select(\n",
    "    f.col(\"studyId\"),\n",
    "    f.col(\"studyLocusId\"),\n",
    "    f.col(\"variantId\"),\n",
    "    f.col(\"beta\"),\n",
    "    f.col(\"zScore\"),\n",
    "    f.col(\"pValueMantissa\"),\n",
    "    f.col(\"pValueExponent\"),\n",
    "    f.col(\"standardError\"),\n",
    "    f.col(\"finemappingMethod\"),\n",
    "    f.col(\"studyType\"),\n",
    "    f.size(\"locus\").alias(\"credibleSetSize\"),\n",
    "    f.col(\"isTransQtl\"),\n",
    ")\n",
    "_si = si.df.select(\n",
    "    f.col(\"studyId\"),\n",
    "    f.col(\"nSamples\"),\n",
    "    f.col(\"nControls\"),\n",
    "    f.col(\"nCases\"),\n",
    "    f.col(\"geneId\"),  # for molqtl traits\n",
    "    f.col(\"traitFromSourceMappedIds\"),\n",
    "    f.col(\"ldPopulationStructure\"),\n",
    "    f.col(\"traitFromSource\"),\n",
    "    f.col(\"traitFromSourceMappedIds\"),\n",
    ")\n",
    "\n",
    "_vi = vi.df.select(\n",
    "    f.col(\"variantId\"),\n",
    "    f.col(\"allelefrequencies\"),\n",
    "    f.col(\"variantEffect\"),\n",
    ")\n",
    "\n",
    "dataset = _cs.join(_si, how=\"left\", on=\"studyId\").join(_vi, how=\"left\", on=\"variantId\")\n",
    "\n",
    "dataset.show(5, truncate=False)\n"
   ]
  },
  {
   "cell_type": "markdown",
   "metadata": {},
   "source": [
    "## MAF Calculation\n",
    "\n",
    "To add the MAF (Minor Allele Frequency) to the dataset we need to extract the major ancestry from _studyIndex_ and use it to extract the relevant allele frequency from the _variantIndex_ dataset.\n",
    "\n",
    "The MAF is calculated as follows:\n",
    "\n",
    "<ol>\n",
    "    <li>Extract the major ancestry from the <code>studyIndex</code> dataset.</li>\n",
    "    <ol>\n",
    "        <li>In case there are multiple ancestries that match the <code>relativeSampleSize</code>, and one of them is <code>NFE</code>, use <code>NFE</code> as the major ancestry.</li>\n",
    "        <li>In case there are multiple ancestries that match the <code>relativeSampleSize</code> and none of them is <code>NFE</code>, use the first ancestry in the list as the major ancestry.</li>\n",
    "        <li>If there is no ancestry in the list, use <code>NFE</code> as the major ancestry, assign the <code>relativeSampleSize</code> to 0.0</li>\n",
    "    </ol>\n",
    "    <li>Extract the allele frequency for the major ancestry from the <code>variantIndex</code> dataset.</li>\n",
    "</ol>\n"
   ]
  },
  {
   "cell_type": "code",
   "execution_count": 7,
   "metadata": {},
   "outputs": [
    {
     "name": "stderr",
     "output_type": "stream",
     "text": [
      "                                                                                \r"
     ]
    },
    {
     "name": "stdout",
     "output_type": "stream",
     "text": [
      "+---------------+----------------------------------------------------------+--------------------------------+---------------------+------------------+--------------+--------------+-------------+-----------------+---------+---------------+----------+--------+---------+------+---------------+------------------------+---------------------+------------------------------------------------------------+------------------------+---------------------------------------------------------------------------------------------------------------------------------------------------------------------------------------------------------------------------------------------------------------------------------------------------------------------------------------------+-----------------------------------------------------------------------------------------------------------------------------+-----------------+----------------------------------+-------------------------------+\n",
      "|variantId      |studyId                                                   |studyLocusId                    |beta                 |zScore            |pValueMantissa|pValueExponent|standardError|finemappingMethod|studyType|credibleSetSize|isTransQtl|nSamples|nControls|nCases|geneId         |traitFromSourceMappedIds|ldPopulationStructure|traitFromSource                                             |traitFromSourceMappedIds|allelefrequencies                                                                                                                                                                                                                                                                                                                            |variantEffect                                                                                                                |majorLdPopulation|majorLdPopulationMaf              |majorLdPopulationAf            |\n",
      "+---------------+----------------------------------------------------------+--------------------------------+---------------------+------------------+--------------+--------------+-------------+-----------------+---------+---------------+----------+--------+---------+------+---------------+------------------------+---------------------+------------------------------------------------------------+------------------------+---------------------------------------------------------------------------------------------------------------------------------------------------------------------------------------------------------------------------------------------------------------------------------------------------------------------------------------------+-----------------------------------------------------------------------------------------------------------------------------+-----------------+----------------------------------+-------------------------------+\n",
      "|2_77742537_A_T |GCST90105038                                              |d33d5b28c8d14e1ab04d4c122e355ce4|NULL                 |NULL              |1.0           |-12           |NULL         |PICS             |gwas     |27             |NULL      |3037499 |0        |0     |NULL           |[EFO_0011015]           |[{nfe, 1.0}]         |Educational attainment                                      |[EFO_0011015]           |[{sas_adj, 0.02466832504145937}, {remaining_adj, 0.017975402081362345}, {nfe_adj, 0.016889607526091432}, {mid_adj, 0.003401360544217687}, {fin_adj, 0.029217719132893498}, {eas_adj, 0.003089996137504828}, {asj_adj, 0.0014400921658986176}, {amr_adj, 0.0814151190164792}, {ami_adj, 0.047149122807017545}, {afr_adj, 0.00526948989412897}]|[{VEP, intron_variant, 0.1, NULL, NULL, 0.10000000149011612}, {GERP, NULL, -2.49, NULL, ENSG00000229494, 0.0424999992052714}]|{nfe, 1.0}       |{0.016889607526091432, notFlipped}|{nfe_adj, 0.016889607526091432}|\n",
      "|17_17436203_C_G|GCST90014006                                              |eac7a8086989c3b73da047fac671903e|-0.010424135383216394|-5.793110795798486|6.909449      |-9            |NULL         |SuSiE-inf        |gwas     |5              |NULL      |389889  |0        |0     |NULL           |[EFO_0004541]           |[{nfe, 1.0}]         |Glycated haemoglobin HbA1c levels (UKB data field 30750)    |[EFO_0004541]           |[{sas_adj, 0.6904761904761905}, {remaining_adj, 0.5944919278252612}, {nfe_adj, 0.5725218981331288}, {mid_adj, 0.6054421768707483}, {fin_adj, 0.5321626264554304}, {eas_adj, 0.4536410664544369}, {asj_adj, 0.5132794457274826}, {amr_adj, 0.5664785404908781}, {ami_adj, 0.6039823008849557}, {afr_adj, 0.8293136781053649}]                 |[{VEP, upstream_gene_variant, 0.0, NULL, NULL, 0.0}, {GERP, NULL, -0.931, NULL, ENSG00000295736, 0.17241666714350382}]       |{nfe, 1.0}       |{0.4274781018668712, flipped}     |{nfe_adj, 0.5725218981331288}  |\n",
      "|17_17436203_C_G|GCST90475332                                              |97114c0904b60a513dbb3ab41ce9e2f0|-0.02678             |NULL              |8.157         |-24           |0.002661     |PICS             |gwas     |5              |NULL      |419946  |0        |0     |NULL           |[EFO_0004468]           |[{nfe, 1.0}]         |Glucose (fasting status unknown, mean, inv-norm transformed)|[EFO_0004468]           |[{sas_adj, 0.6904761904761905}, {remaining_adj, 0.5944919278252612}, {nfe_adj, 0.5725218981331288}, {mid_adj, 0.6054421768707483}, {fin_adj, 0.5321626264554304}, {eas_adj, 0.4536410664544369}, {asj_adj, 0.5132794457274826}, {amr_adj, 0.5664785404908781}, {ami_adj, 0.6039823008849557}, {afr_adj, 0.8293136781053649}]                 |[{VEP, upstream_gene_variant, 0.0, NULL, NULL, 0.0}, {GERP, NULL, -0.931, NULL, ENSG00000295736, 0.17241666714350382}]       |{nfe, 1.0}       |{0.4274781018668712, flipped}     |{nfe_adj, 0.5725218981331288}  |\n",
      "|19_11578074_A_T|gtex_exon_prostate_ensg00000102575_13_19_11578076_11578136|c46a831f68436b9f0e868bc2d903580f|0.954802             |NULL              |8.333         |-12           |0.131609     |SuSie            |eqtl     |3              |false     |218     |NULL     |NULL  |ENSG00000102575|NULL                    |NULL                 |ENSG00000102575.13_19_11578076_11578136                     |NULL                    |[{sas_adj, 0.08946726311508743}, {remaining_adj, 0.10489833641404805}, {nfe_adj, 0.11685344827586207}, {mid_adj, 0.1360544217687075}, {fin_adj, 0.13890457368718237}, {eas_adj, 0.08336549594751061}, {asj_adj, 0.09655172413793103}, {amr_adj, 0.07444770782786361}, {ami_adj, 0.15528634361233482}, {afr_adj, 0.028020045294656196}]       |[{VEP, upstream_gene_variant, 0.0, NULL, NULL, 0.0}, {GERP, NULL, 0.126, NULL, ENSG00000274713, 0.2815000005066395}]         |{nfe, 0.0}       |{0.11685344827586207, notFlipped} |{nfe_adj, 0.11685344827586207} |\n",
      "|1_84062_T_G    |GCST90002350                                              |442edae1c936ca79eb37a9a61ec6eeaf|0.170914             |NULL              |3.47          |-9            |0.028909     |PICS             |gwas     |1              |NULL      |13476   |0        |0     |NULL           |[EFO_0004833]           |[{afr, 1.0}]         |Neutrophil count                                            |[EFO_0004833]           |[]                                                                                                                                                                                                                                                                                                                                           |[{VEP, upstream_gene_variant, 0.0, NULL, NULL, 0.0}]                                                                         |{afr, 1.0}       |NULL                              |NULL                           |\n",
      "+---------------+----------------------------------------------------------+--------------------------------+---------------------+------------------+--------------+--------------+-------------+-----------------+---------+---------------+----------+--------+---------+------+---------------+------------------------+---------------------+------------------------------------------------------------+------------------------+---------------------------------------------------------------------------------------------------------------------------------------------------------------------------------------------------------------------------------------------------------------------------------------------------------------------------------------------+-----------------------------------------------------------------------------------------------------------------------------+-----------------+----------------------------------+-------------------------------+\n",
      "only showing top 5 rows\n",
      "\n"
     ]
    }
   ],
   "source": [
    "from manuscript_methods.ld_populations import LDPopulationName, LDPopulationStructure\n",
    "from manuscript_methods.maf import AlleleFrequencies\n",
    "\n",
    "ld_pop = LDPopulationStructure(f.col(\"ldPopulationStructure\"))\n",
    "major_ld_pop = ld_pop.major_population(default_major_pop=LDPopulationName.NFE)\n",
    "major_ld_maf = AlleleFrequencies(f.col(\"alleleFrequencies\")).ld_population_maf(major_ld_pop.ld_population)\n",
    "major_ld_af = AlleleFrequencies(f.col(\"alleleFrequencies\")).ld_population_af(major_ld_pop.ld_population)\n",
    "\n",
    "dataset = dataset.withColumns(\n",
    "    {\n",
    "        \"majorLdPopulation\": major_ld_pop.col,\n",
    "        \"majorLdPopulationMaf\": major_ld_maf.col,\n",
    "        \"majorLdPopulationAf\": major_ld_af.col,\n",
    "    }\n",
    ")\n",
    "\n",
    "dataset.show(5, truncate=False)\n"
   ]
  },
  {
   "cell_type": "markdown",
   "metadata": {},
   "source": [
    "## Phenotypic variance explained by lead variant (Approximation)\n",
    "\n",
    "The code below is used to calculate the PVE (Phenotypic Variance Explained) by the lead variant in the credible set.\n",
    "\n",
    "The variance explained follows the simplified formula\n",
    "\n",
    "${variance\\;explained}=\\chi^2 / n $\n",
    "\n",
    "- The $\\chi^2$ is calculated as **Inverse survival function** by using `scipy.stats.isf` function from lead variant $pValue$ (depicted as `pValueMantissa` and `pValueExponent`).\n",
    "- The $n$ parameter is the number of samples derived from GWAS study description.\n",
    "\n",
    "- In case where the `pValueExponent < 300` to avoid floating point errors we estimate $\\chi^2$ statistic with $-log_{10}(pValue)$\n",
    "- The $variance\\;explained$ can be only calculated where the $n > 0$\n"
   ]
  },
  {
   "cell_type": "code",
   "execution_count": 8,
   "metadata": {},
   "outputs": [
    {
     "name": "stderr",
     "output_type": "stream",
     "text": [
      "/Users/ss60/Projects/Gentropy-manuscript/.venv/lib/python3.11/site-packages/pyspark/sql/pandas/functions.py:407: UserWarning:\n",
      "\n",
      "In Python 3.6+ and Spark 3.0+, it is preferred to specify type hints for pandas UDF instead of specifying pandas UDF type which will be deprecated in the future releases. See SPARK-28264 for more details.\n",
      "\n",
      "25/06/18 22:16:09 WARN SparkStringUtils: Truncated the string representation of a plan since it was too large. This behavior can be adjusted by setting 'spark.sql.debug.maxToStringFields'.\n",
      "[Stage 51:==============>                                           (1 + 3) / 4]\r"
     ]
    },
    {
     "name": "stdout",
     "output_type": "stream",
     "text": [
      "+---------------+----------------------------------------------------------+--------------------------------+---------------------+------------------+--------------+--------------+-------------+-----------------+---------+---------------+----------+--------+---------+------+---------------+------------------------+---------------------+------------------------------------------------------------+------------------------+---------------------------------------------------------------------------------------------------------------------------------------------------------------------------------------------------------------------------------------------------------------------------------------------------------------------------------------------+-----------------------------------------------------------------------------------------------------------------------------+-----------------+----------------------------------+-------------------------------+-------------------------------------------------------+\n",
      "|variantId      |studyId                                                   |studyLocusId                    |beta                 |zScore            |pValueMantissa|pValueExponent|standardError|finemappingMethod|studyType|credibleSetSize|isTransQtl|nSamples|nControls|nCases|geneId         |traitFromSourceMappedIds|ldPopulationStructure|traitFromSource                                             |traitFromSourceMappedIds|allelefrequencies                                                                                                                                                                                                                                                                                                                            |variantEffect                                                                                                                |majorLdPopulation|majorLdPopulationMaf              |majorLdPopulationAf            |variantStatistics                                      |\n",
      "+---------------+----------------------------------------------------------+--------------------------------+---------------------+------------------+--------------+--------------+-------------+-----------------+---------+---------------+----------+--------+---------+------+---------------+------------------------+---------------------+------------------------------------------------------------+------------------------+---------------------------------------------------------------------------------------------------------------------------------------------------------------------------------------------------------------------------------------------------------------------------------------------------------------------------------------------+-----------------------------------------------------------------------------------------------------------------------------+-----------------+----------------------------------+-------------------------------+-------------------------------------------------------+\n",
      "|2_77742537_A_T |GCST90105038                                              |d33d5b28c8d14e1ab04d4c122e355ce4|NULL                 |NULL              |1.0           |-12           |NULL         |PICS             |gwas     |27             |NULL      |3037499 |0        |0     |NULL           |[EFO_0011015]           |[{nfe, 1.0}]         |Educational attainment                                      |[EFO_0011015]           |[{sas_adj, 0.02466832504145937}, {remaining_adj, 0.017975402081362345}, {nfe_adj, 0.016889607526091432}, {mid_adj, 0.003401360544217687}, {fin_adj, 0.029217719132893498}, {eas_adj, 0.003089996137504828}, {asj_adj, 0.0014400921658986176}, {amr_adj, 0.0814151190164792}, {ami_adj, 0.047149122807017545}, {afr_adj, 0.00526948989412897}]|[{VEP, intron_variant, 0.1, NULL, NULL, 0.10000000149011612}, {GERP, NULL, -2.49, NULL, ENSG00000229494, 0.0424999992052714}]|{nfe, 1.0}       |{0.016889607526091432, notFlipped}|{nfe_adj, 0.016889607526091432}|{50.844127911818155, 1.0, -12, 1.6738813053705747E-5}  |\n",
      "|17_17436203_C_G|GCST90014006                                              |eac7a8086989c3b73da047fac671903e|-0.010424135383216394|-5.793110795798486|6.909449      |-9            |NULL         |SuSiE-inf        |gwas     |5              |NULL      |389889  |0        |0     |NULL           |[EFO_0004541]           |[{nfe, 1.0}]         |Glycated haemoglobin HbA1c levels (UKB data field 30750)    |[EFO_0004541]           |[{sas_adj, 0.6904761904761905}, {remaining_adj, 0.5944919278252612}, {nfe_adj, 0.5725218981331288}, {mid_adj, 0.6054421768707483}, {fin_adj, 0.5321626264554304}, {eas_adj, 0.4536410664544369}, {asj_adj, 0.5132794457274826}, {amr_adj, 0.5664785404908781}, {ami_adj, 0.6039823008849557}, {afr_adj, 0.8293136781053649}]                 |[{VEP, upstream_gene_variant, 0.0, NULL, NULL, 0.0}, {GERP, NULL, -0.931, NULL, ENSG00000295736, 0.17241666714350382}]       |{nfe, 1.0}       |{0.4274781018668712, flipped}     |{nfe_adj, 0.5725218981331288}  |{33.56013271946196, 6.909449, -9, 8.607612094586398E-5}|\n",
      "|17_17436203_C_G|GCST90475332                                              |97114c0904b60a513dbb3ab41ce9e2f0|-0.02678             |NULL              |8.157         |-24           |0.002661     |PICS             |gwas     |5              |NULL      |419946  |0        |0     |NULL           |[EFO_0004468]           |[{nfe, 1.0}]         |Glucose (fasting status unknown, mean, inv-norm transformed)|[EFO_0004468]           |[{sas_adj, 0.6904761904761905}, {remaining_adj, 0.5944919278252612}, {nfe_adj, 0.5725218981331288}, {mid_adj, 0.6054421768707483}, {fin_adj, 0.5321626264554304}, {eas_adj, 0.4536410664544369}, {asj_adj, 0.5132794457274826}, {amr_adj, 0.5664785404908781}, {ami_adj, 0.6039823008849557}, {afr_adj, 0.8293136781053649}]                 |[{VEP, upstream_gene_variant, 0.0, NULL, NULL, 0.0}, {GERP, NULL, -0.931, NULL, ENSG00000295736, 0.17241666714350382}]       |{nfe, 1.0}       |{0.4274781018668712, flipped}     |{nfe_adj, 0.5725218981331288}  |{101.23798510220487, 8.157, -24, 2.410738168769434E-4} |\n",
      "|19_11578074_A_T|gtex_exon_prostate_ensg00000102575_13_19_11578076_11578136|c46a831f68436b9f0e868bc2d903580f|0.954802             |NULL              |8.333         |-12           |0.131609     |SuSie            |eqtl     |3              |false     |218     |NULL     |NULL  |ENSG00000102575|NULL                    |NULL                 |ENSG00000102575.13_19_11578076_11578136                     |NULL                    |[{sas_adj, 0.08946726311508743}, {remaining_adj, 0.10489833641404805}, {nfe_adj, 0.11685344827586207}, {mid_adj, 0.1360544217687075}, {fin_adj, 0.13890457368718237}, {eas_adj, 0.08336549594751061}, {asj_adj, 0.09655172413793103}, {amr_adj, 0.07444770782786361}, {ami_adj, 0.15528634361233482}, {afr_adj, 0.028020045294656196}]       |[{VEP, upstream_gene_variant, 0.0, NULL, NULL, 0.0}, {GERP, NULL, 0.126, NULL, ENSG00000274713, 0.2815000005066395}]         |{nfe, 0.0}       |{0.11685344827586207, notFlipped} |{nfe_adj, 0.11685344827586207} |{46.68581527980401, 8.333, -12, 0.21415511596240372}   |\n",
      "|1_84062_T_G    |GCST90002350                                              |442edae1c936ca79eb37a9a61ec6eeaf|0.170914             |NULL              |3.47          |-9            |0.028909     |PICS             |gwas     |1              |NULL      |13476   |0        |0     |NULL           |[EFO_0004833]           |[{afr, 1.0}]         |Neutrophil count                                            |[EFO_0004833]           |[]                                                                                                                                                                                                                                                                                                                                           |[{VEP, upstream_gene_variant, 0.0, NULL, NULL, 0.0}]                                                                         |{afr, 1.0}       |NULL                              |NULL                           |{34.90045368486512, 3.47, -9, 0.0025898229211090175}   |\n",
      "+---------------+----------------------------------------------------------+--------------------------------+---------------------+------------------+--------------+--------------+-------------+-----------------+---------+---------------+----------+--------+---------+------+---------------+------------------------+---------------------+------------------------------------------------------------+------------------------+---------------------------------------------------------------------------------------------------------------------------------------------------------------------------------------------------------------------------------------------------------------------------------------------------------------------------------------------+-----------------------------------------------------------------------------------------------------------------------------+-----------------+----------------------------------+-------------------------------+-------------------------------------------------------+\n",
      "only showing top 5 rows\n",
      "\n"
     ]
    },
    {
     "name": "stderr",
     "output_type": "stream",
     "text": [
      "                                                                                \r"
     ]
    }
   ],
   "source": [
    "from manuscript_methods.variant_statistics import PValueComponents, VariantStatistics\n",
    "\n",
    "pval_components = PValueComponents(p_value_mantissa=f.col(\"pValueMantissa\"), p_value_exponent=f.col(\"pValueExponent\"))\n",
    "n_samples = f.col(\"nSamples\")\n",
    "variant_stats = VariantStatistics.compute(pval_components, n_samples)\n",
    "\n",
    "dataset = dataset.withColumns(\n",
    "    {\n",
    "        \"variantStatistics\": variant_stats.col,\n",
    "    }\n",
    ")\n",
    "\n",
    "dataset.show(5, truncate=False)\n"
   ]
  },
  {
   "cell_type": "markdown",
   "metadata": {},
   "source": [
    "## Cohort statistics\n",
    "\n",
    "The code below is used to combine and classify the cohort statistics from the _studyIndex_ dataset.\n",
    "\n",
    "This includes:\n",
    "\n",
    "- n_cases\n",
    "- n_controls\n",
    "- n_samples\n",
    "- study_type\n",
    "- trait\n",
    "- trait_class - either binary, continuous or unknown\n",
    "- trait_ids\n"
   ]
  },
  {
   "cell_type": "code",
   "execution_count": 9,
   "metadata": {},
   "outputs": [
    {
     "name": "stderr",
     "output_type": "stream",
     "text": [
      "[Stage 67:===========================================>              (3 + 1) / 4]\r"
     ]
    },
    {
     "name": "stdout",
     "output_type": "stream",
     "text": [
      "+---------------+----------------------------------------------------------+--------------------------------+---------------------+------------------+--------------+--------------+-------------+-----------------+---------+---------------+----------+--------+---------+------+---------------+------------------------+---------------------+------------------------------------------------------------+------------------------+---------------------------------------------------------------------------------------------------------------------------------------------------------------------------------------------------------------------------------------------------------------------------------------------------------------------------------------------+-----------------------------------------------------------------------------------------------------------------------------+-----------------+----------------------------------+-------------------------------+-------------------------------------------------------+---------------------------------------------------------------------------------------------------------------+\n",
      "|variantId      |studyId                                                   |studyLocusId                    |beta                 |zScore            |pValueMantissa|pValueExponent|standardError|finemappingMethod|studyType|credibleSetSize|isTransQtl|nSamples|nControls|nCases|geneId         |traitFromSourceMappedIds|ldPopulationStructure|traitFromSource                                             |traitFromSourceMappedIds|allelefrequencies                                                                                                                                                                                                                                                                                                                            |variantEffect                                                                                                                |majorLdPopulation|majorLdPopulationMaf              |majorLdPopulationAf            |variantStatistics                                      |studyStatistics                                                                                                |\n",
      "+---------------+----------------------------------------------------------+--------------------------------+---------------------+------------------+--------------+--------------+-------------+-----------------+---------+---------------+----------+--------+---------+------+---------------+------------------------+---------------------+------------------------------------------------------------+------------------------+---------------------------------------------------------------------------------------------------------------------------------------------------------------------------------------------------------------------------------------------------------------------------------------------------------------------------------------------+-----------------------------------------------------------------------------------------------------------------------------+-----------------+----------------------------------+-------------------------------+-------------------------------------------------------+---------------------------------------------------------------------------------------------------------------+\n",
      "|2_77742537_A_T |GCST90105038                                              |d33d5b28c8d14e1ab04d4c122e355ce4|NULL                 |NULL              |1.0           |-12           |NULL         |PICS             |gwas     |27             |NULL      |3037499 |0        |0     |NULL           |[EFO_0011015]           |[{nfe, 1.0}]         |Educational attainment                                      |[EFO_0011015]           |[{sas_adj, 0.02466832504145937}, {remaining_adj, 0.017975402081362345}, {nfe_adj, 0.016889607526091432}, {mid_adj, 0.003401360544217687}, {fin_adj, 0.029217719132893498}, {eas_adj, 0.003089996137504828}, {asj_adj, 0.0014400921658986176}, {amr_adj, 0.0814151190164792}, {ami_adj, 0.047149122807017545}, {afr_adj, 0.00526948989412897}]|[{VEP, intron_variant, 0.1, NULL, NULL, 0.10000000149011612}, {GERP, NULL, -2.49, NULL, ENSG00000229494, 0.0424999992052714}]|{nfe, 1.0}       |{0.016889607526091432, notFlipped}|{nfe_adj, 0.016889607526091432}|{50.844127911818155, 1.0, -12, 1.6738813053705747E-5}  |{0, 0, 3037499, Educational attainment, gwas, quantitative, [EFO_0011015]}                                     |\n",
      "|17_17436203_C_G|GCST90014006                                              |eac7a8086989c3b73da047fac671903e|-0.010424135383216394|-5.793110795798486|6.909449      |-9            |NULL         |SuSiE-inf        |gwas     |5              |NULL      |389889  |0        |0     |NULL           |[EFO_0004541]           |[{nfe, 1.0}]         |Glycated haemoglobin HbA1c levels (UKB data field 30750)    |[EFO_0004541]           |[{sas_adj, 0.6904761904761905}, {remaining_adj, 0.5944919278252612}, {nfe_adj, 0.5725218981331288}, {mid_adj, 0.6054421768707483}, {fin_adj, 0.5321626264554304}, {eas_adj, 0.4536410664544369}, {asj_adj, 0.5132794457274826}, {amr_adj, 0.5664785404908781}, {ami_adj, 0.6039823008849557}, {afr_adj, 0.8293136781053649}]                 |[{VEP, upstream_gene_variant, 0.0, NULL, NULL, 0.0}, {GERP, NULL, -0.931, NULL, ENSG00000295736, 0.17241666714350382}]       |{nfe, 1.0}       |{0.4274781018668712, flipped}     |{nfe_adj, 0.5725218981331288}  |{33.56013271946196, 6.909449, -9, 8.607612094586398E-5}|{0, 0, 389889, Glycated haemoglobin HbA1c levels (UKB data field 30750), gwas, quantitative, [EFO_0004541]}    |\n",
      "|17_17436203_C_G|GCST90475332                                              |97114c0904b60a513dbb3ab41ce9e2f0|-0.02678             |NULL              |8.157         |-24           |0.002661     |PICS             |gwas     |5              |NULL      |419946  |0        |0     |NULL           |[EFO_0004468]           |[{nfe, 1.0}]         |Glucose (fasting status unknown, mean, inv-norm transformed)|[EFO_0004468]           |[{sas_adj, 0.6904761904761905}, {remaining_adj, 0.5944919278252612}, {nfe_adj, 0.5725218981331288}, {mid_adj, 0.6054421768707483}, {fin_adj, 0.5321626264554304}, {eas_adj, 0.4536410664544369}, {asj_adj, 0.5132794457274826}, {amr_adj, 0.5664785404908781}, {ami_adj, 0.6039823008849557}, {afr_adj, 0.8293136781053649}]                 |[{VEP, upstream_gene_variant, 0.0, NULL, NULL, 0.0}, {GERP, NULL, -0.931, NULL, ENSG00000295736, 0.17241666714350382}]       |{nfe, 1.0}       |{0.4274781018668712, flipped}     |{nfe_adj, 0.5725218981331288}  |{101.23798510220487, 8.157, -24, 2.410738168769434E-4} |{0, 0, 419946, Glucose (fasting status unknown, mean, inv-norm transformed), gwas, quantitative, [EFO_0004468]}|\n",
      "|19_11578074_A_T|gtex_exon_prostate_ensg00000102575_13_19_11578076_11578136|c46a831f68436b9f0e868bc2d903580f|0.954802             |NULL              |8.333         |-12           |0.131609     |SuSie            |eqtl     |3              |false     |218     |NULL     |NULL  |ENSG00000102575|NULL                    |NULL                 |ENSG00000102575.13_19_11578076_11578136                     |NULL                    |[{sas_adj, 0.08946726311508743}, {remaining_adj, 0.10489833641404805}, {nfe_adj, 0.11685344827586207}, {mid_adj, 0.1360544217687075}, {fin_adj, 0.13890457368718237}, {eas_adj, 0.08336549594751061}, {asj_adj, 0.09655172413793103}, {amr_adj, 0.07444770782786361}, {ami_adj, 0.15528634361233482}, {afr_adj, 0.028020045294656196}]       |[{VEP, upstream_gene_variant, 0.0, NULL, NULL, 0.0}, {GERP, NULL, 0.126, NULL, ENSG00000274713, 0.2815000005066395}]         |{nfe, 0.0}       |{0.11685344827586207, notFlipped} |{nfe_adj, 0.11685344827586207} |{46.68581527980401, 8.333, -12, 0.21415511596240372}   |{NULL, NULL, 218, ENSG00000102575.13_19_11578076_11578136, eqtl, quantitative, NULL}                           |\n",
      "|1_84062_T_G    |GCST90002350                                              |442edae1c936ca79eb37a9a61ec6eeaf|0.170914             |NULL              |3.47          |-9            |0.028909     |PICS             |gwas     |1              |NULL      |13476   |0        |0     |NULL           |[EFO_0004833]           |[{afr, 1.0}]         |Neutrophil count                                            |[EFO_0004833]           |[]                                                                                                                                                                                                                                                                                                                                           |[{VEP, upstream_gene_variant, 0.0, NULL, NULL, 0.0}]                                                                         |{afr, 1.0}       |NULL                              |NULL                           |{34.90045368486512, 3.47, -9, 0.0025898229211090175}   |{0, 0, 13476, Neutrophil count, gwas, quantitative, [EFO_0004833]}                                             |\n",
      "+---------------+----------------------------------------------------------+--------------------------------+---------------------+------------------+--------------+--------------+-------------+-----------------+---------+---------------+----------+--------+---------+------+---------------+------------------------+---------------------+------------------------------------------------------------+------------------------+---------------------------------------------------------------------------------------------------------------------------------------------------------------------------------------------------------------------------------------------------------------------------------------------------------------------------------------------+-----------------------------------------------------------------------------------------------------------------------------+-----------------+----------------------------------+-------------------------------+-------------------------------------------------------+---------------------------------------------------------------------------------------------------------------+\n",
      "only showing top 5 rows\n",
      "\n"
     ]
    },
    {
     "name": "stderr",
     "output_type": "stream",
     "text": [
      "                                                                                \r"
     ]
    }
   ],
   "source": [
    "from manuscript_methods.study_statistics import StudyStatistics\n",
    "\n",
    "cohort_stat = StudyStatistics.compute(\n",
    "    n_samples=f.col(\"nSamples\"),\n",
    "    n_cases=f.col(\"nCases\"),\n",
    "    n_controls=f.col(\"nControls\"),\n",
    "    trait=f.col(\"traitFromSource\"),\n",
    "    study_type=f.col(\"studyType\"),\n",
    "    is_trans_pqtl=f.col(\"isTransQtl\"),\n",
    "    trait_ids=f.col(\"traitFromSourceMappedIds\"),\n",
    ")\n",
    "\n",
    "dataset = dataset.withColumns({\"studyStatistics\": cohort_stat.col})\n",
    "dataset.show(5, truncate=False)\n"
   ]
  },
  {
   "cell_type": "markdown",
   "metadata": {},
   "source": [
    "## Rescaling of the marginal effect size\n",
    "\n",
    "Rescaling of marginal effect size to the original value from the standardised marginal effect size is done via two formulas depending on trait being **quantitative** or **binary**\n",
    "\n",
    "Estimation of the trait type is done on the basis of availability of reported `nCases` and `nControls` fields in the study description.\n",
    "\n",
    "- In case both fields are non empty and non zero we assume _binary trait_\n",
    "- In case cases are zero or are not reported we assume _quantitative trait_\n",
    "\n",
    "In both cases we estimate the marginal effect size $estimated\\;\\beta$ with following formula\n",
    "$$estimated\\;\\beta = zscore \\cdot se$$\n",
    "\n",
    "Where\n",
    "\n",
    "- $zscore = \\frac{\\beta}{|{\\beta}|} \\cdot \\sqrt{\\chi^2}$\n",
    "- $se$ depends on the trait type\n",
    "- $\\beta$ - _standardised beta reported from in the summary statistics_\n",
    "\n",
    "In case when $\\beta$ was not reported we assumed the $\\frac{\\beta}{|{\\beta}|}$ to be equal to 1\n",
    "\n",
    "#### Binary trait marginal effect size estimation\n",
    "\n",
    "$$se = \\frac{1}{\\sqrt{(varG \\cdot prev \\cdot (1 - prev))}}$$\n",
    "\n",
    "- $varG = 2 \\cdot f \\cdot (1 - f)$ - _component of genetic variance_ - the original is $var_{G} = 2\\beta^2f(1 - f)$\n",
    "- $f$ - _Minor Allele Frequency of lead variant_\n",
    "- $prev = \\frac{nCases}{nSamples}$ - _Trait prevelance_\n",
    "\n",
    "#### Quantative trait marginal effect size estimation\n",
    "\n",
    "$$se = \\frac{1}{\\sqrt{varG}}$$\n",
    "\n",
    "- $varG = 2 \\cdot f \\cdot (1 - f)$\n",
    "- $f$ - _Minor Allele Frequency of lead variant_\n",
    "\n",
    "The $\\chi^2$ was esteimated as described in `variance Explained` calculation.\n"
   ]
  },
  {
   "cell_type": "code",
   "execution_count": 10,
   "metadata": {},
   "outputs": [
    {
     "name": "stderr",
     "output_type": "stream",
     "text": [
      "[Stage 78:>                                                         (0 + 1) / 1]\r"
     ]
    },
    {
     "name": "stdout",
     "output_type": "stream",
     "text": [
      "+------------------+---------------------------------------------------------------------+--------------------------------+---------+------+--------------+--------------+-------------+-----------------+---------+---------------+----------+--------+---------+------+---------------+------------------------+---------------------+------------------------------------------------+------------------------+----------------------------------------------------------------------------------------------------------------------------------------------------------------------------------------------------------------------------------------------------------------------------------------------------------------------------------------+-------------------------------------------------------------------------------------------------------------------------------+-----------------+----------------------------------+-------------------------------+-----------------------------------------------------+--------------------------------------------------------------------------------------------------+----------------------------------------------------------------------------------------------------------------------------+\n",
      "|variantId         |studyId                                                              |studyLocusId                    |beta     |zScore|pValueMantissa|pValueExponent|standardError|finemappingMethod|studyType|credibleSetSize|isTransQtl|nSamples|nControls|nCases|geneId         |traitFromSourceMappedIds|ldPopulationStructure|traitFromSource                                 |traitFromSourceMappedIds|allelefrequencies                                                                                                                                                                                                                                                                                                                       |variantEffect                                                                                                                  |majorLdPopulation|majorLdPopulationMaf              |majorLdPopulationAf            |variantStatistics                                    |studyStatistics                                                                                   |rescaledStatistics                                                                                                          |\n",
      "+------------------+---------------------------------------------------------------------+--------------------------------+---------+------+--------------+--------------+-------------+-----------------+---------+---------------+----------+--------+---------+------+---------------+------------------------+---------------------+------------------------------------------------+------------------------+----------------------------------------------------------------------------------------------------------------------------------------------------------------------------------------------------------------------------------------------------------------------------------------------------------------------------------------+-------------------------------------------------------------------------------------------------------------------------------+-----------------+----------------------------------+-------------------------------+-----------------------------------------------------+--------------------------------------------------------------------------------------------------+----------------------------------------------------------------------------------------------------------------------------+\n",
      "|10_100019534_G_GAA|blueprint_exon_monocyte_ensg00000196072_12_10_100280934_100281053    |b14db85f5fe52358fa03809bdb0db29e|-1.11197 |NULL  |2.4           |-7            |0.206856     |SuSie            |eqtl     |1              |false     |191     |NULL     |NULL  |ENSG00000196072|NULL                    |NULL                 |ENSG00000196072.12_10_100280934_100281053       |NULL                    |[{sas_adj, 0.07122668174109667}, {remaining_adj, 0.07536764705882353}, {nfe_adj, 0.03903047000557578}, {mid_adj, 0.10245901639344263}, {fin_adj, 0.11753330468414268}, {eas_adj, 0.3169621466219454}, {asj_adj, 0.05746408494690818}, {amr_adj, 0.07578397212543554}, {ami_adj, 0.11363636363636363}, {afr_adj, 0.18955904713634059}]   |[{VEP, upstream_gene_variant, 0.0, NULL, NULL, 0.0}, {GERP, NULL, -0.771, NULL, ENSG00000289301, 0.18575000762939453}]         |{nfe, 0.0}       |{0.03903047000557578, notFlipped} |{nfe_adj, 0.03903047000557578} |{26.680755387780533, 2.4, -7, 0.13968981878419126}   |{NULL, NULL, 191, ENSG00000196072.12_10_100280934_100281053, eqtl, quantitative, NULL}            |{-, -5.165341749369594, 0.07501418483343926, NULL, 0.2641871070847862, -1.3646166938702218, -1.3646166938702218}            |\n",
      "|10_100033665_G_A  |GCST90454202                                                         |f0c6fddebd70e32ea17ca9c023d7029f|38.3679  |NULL  |6.05          |-10           |6.19444      |PICS             |gwas     |1              |NULL      |295291  |291883   |3408  |NULL           |[EFO_0001061]           |[{nfe, 1.0}]         |ICD10 C53: Malignant neoplasm of cervix uteri   |[EFO_0001061]           |[{sas_adj, 0.0014516798009124845}, {remaining_adj, 0.0}, {nfe_adj, 1.470112610625974E-5}, {mid_adj, 0.0}, {fin_adj, 0.0}, {eas_adj, 7.72499034376207E-4}, {asj_adj, 0.0}, {amr_adj, 0.0}, {ami_adj, 0.0}, {afr_adj, 0.0}]                                                                                                               |[{VEP, upstream_gene_variant, 0.0, NULL, NULL, 0.0}, {GERP, NULL, 0.043, NULL, ENSG00000310301, 0.26075000036507845}]          |{nfe, 1.0}       |{1.470112610625974E-5, notFlipped}|{nfe_adj, 1.470112610625974E-5}|{38.30523901652862, 6.05, -10, 1.2972030646558349E-4}|{3408, 291883, 295291, ICD10 C53: Malignant neoplasm of cervix uteri, gwas, binary, [EFO_0001061]}|{+, 6.189122637056776, 2.9401819966301894E-5, 0.011541157705449879, 3.177487162245169, 19.66585772480887, 19.66585772480887}|\n",
      "|10_100111179_C_T  |gtex_exon_brain_hippocampus_ensg00000055950_17_10_100987514_100987515|8dc7e55aa3a2982bf689175d673d78cf|-0.311703|NULL  |6.748         |-6            |0.0668019    |SuSie            |eqtl     |88             |false     |165     |NULL     |NULL  |ENSG00000055950|NULL                    |NULL                 |ENSG00000055950.17_10_100987514_100987515       |NULL                    |[{sas_adj, 0.14926315789473685}, {remaining_adj, 0.34036433365292423}, {nfe_adj, 0.36163614884819845}, {mid_adj, 0.3184931506849315}, {fin_adj, 0.27782048817989624}, {eas_adj, 0.06675911251980983}, {asj_adj, 0.2930635838150289}, {amr_adj, 0.3554939981532779}, {ami_adj, 0.34251101321585903}, {afr_adj, 0.28714028339095293}]     |[{VEP, intron_variant, 0.1, NULL, NULL, 0.10000000149011612}, {GERP, NULL, -0.753, NULL, ENSG00000212325, 0.18724999825159708}]|{nfe, 0.0}       |{0.36163614884819845, notFlipped} |{nfe_adj, 0.36163614884819845} |{20.26337646859083, 6.748, -6, 0.12280834223388383}  |{NULL, NULL, 165, ENSG00000055950.17_10_100987514_100987515, eqtl, quantitative, NULL}            |{-, -4.501486028923208, 0.46171088938888416, NULL, 0.11457054240882805, -0.5157376959794934, -0.5157376959794934}           |\n",
      "|10_100165971_C_T  |gtex_txrev_breast_ensg00000107815_grp_1_upstream_enst00000476766     |a8740dcc113c994917b2b1be958176b7|-1.20689 |NULL  |6.432         |-8            |0.218797     |SuSie            |tuqtl    |3              |false     |394     |NULL     |NULL  |ENSG00000107815|NULL                    |NULL                 |ENSG00000107815.grp_1.upstream.ENST00000476766  |NULL                    |[{sas_adj, 0.007045171985080812}, {remaining_adj, 0.006622516556291391}, {nfe_adj, 0.023627488458258593}, {mid_adj, 0.0}, {fin_adj, 0.006321947537271183}, {eas_adj, 0.0}, {asj_adj, 0.020161290322580645}, {amr_adj, 0.008302824267782427}, {ami_adj, 0.0010964912280701754}, {afr_adj, 0.004188128821065807}]                         |[{VEP, intron_variant, 0.1, NULL, NULL, 0.10000000149011612}, {GERP, NULL, -1.02, NULL, ENSG00000227351, 0.16500000158945718}] |{nfe, 0.0}       |{0.023627488458258593, notFlipped}|{nfe_adj, 0.023627488458258593}|{29.228681939403877, 6.432, -8, 0.074184471927421}   |{NULL, NULL, 394, ENSG00000107815.grp_1.upstream.ENST00000476766, tuqtl, quantitative, NULL}      |{-, -5.406355698564781, 0.0461384604948269, NULL, 0.23454184622979107, -1.2680166469163354, -1.2680166469163354}            |\n",
      "|10_100234724_T_C  |gtex_txrev_vagina_ensg00000196072_grp_1_downstream_enst00000370372   |125e33bc6e10a4b586c8048d54952a8b|1.05413  |NULL  |5.994         |-12           |0.138758     |SuSie            |tuqtl    |46             |false     |141     |NULL     |NULL  |ENSG00000196072|NULL                    |NULL                 |ENSG00000196072.grp_1.downstream.ENST00000370372|NULL                    |[{sas_adj, 0.06477649006622517}, {remaining_adj, 0.07393364928909953}, {nfe_adj, 0.04715344350996883}, {mid_adj, 0.03741496598639456}, {fin_adj, 0.05560791705937795}, {eas_adj, 0.05613425925925926}, {asj_adj, 0.056228373702422146}, {amr_adj, 0.052686625702706234}, {ami_adj, 0.07582417582417582}, {afr_adj, 0.13915888749879704}]|[{VEP, intron_variant, 0.1, NULL, NULL, 0.10000000149011612}, {GERP, NULL, -2.23, NULL, ENSG00000310301, 0.06416666507720947}] |{nfe, 0.0}       |{0.04715344350996883, notFlipped} |{nfe_adj, 0.04715344350996883} |{47.33153845706211, 5.994, -12, 0.3356846699082419}  |{NULL, NULL, 141, ENSG00000196072.grp_1.downstream.ENST00000370372, tuqtl, quantitative, NULL}    |{+, 6.879792035887576, 0.089859992550242, NULL, 0.280935909406388, 1.9327806321289018, 1.9327806321289018}                  |\n",
      "+------------------+---------------------------------------------------------------------+--------------------------------+---------+------+--------------+--------------+-------------+-----------------+---------+---------------+----------+--------+---------+------+---------------+------------------------+---------------------+------------------------------------------------+------------------------+----------------------------------------------------------------------------------------------------------------------------------------------------------------------------------------------------------------------------------------------------------------------------------------------------------------------------------------+-------------------------------------------------------------------------------------------------------------------------------+-----------------+----------------------------------+-------------------------------+-----------------------------------------------------+--------------------------------------------------------------------------------------------------+----------------------------------------------------------------------------------------------------------------------------+\n",
      "only showing top 5 rows\n",
      "\n"
     ]
    },
    {
     "name": "stderr",
     "output_type": "stream",
     "text": [
      "                                                                                \r"
     ]
    }
   ],
   "source": [
    "from manuscript_methods.maf import MinorAlleleFrequency\n",
    "from manuscript_methods.rescaled_beta import RescaledStatistics\n",
    "\n",
    "rescaled_stats = RescaledStatistics.compute(\n",
    "    beta=f.col(\"beta\"),\n",
    "    chi2_stat=VariantStatistics(f.col(\"variantStatistics\")).chi2_stat,\n",
    "    trait_class=StudyStatistics(f.col(\"studyStatistics\")).trait_class,\n",
    "    maf=MinorAlleleFrequency(f.col(\"majorLdPopulationMaf\")).value,\n",
    "    n_cases=StudyStatistics(f.col(\"studyStatistics\")).n_cases,\n",
    "    n_samples=StudyStatistics(f.col(\"studyStatistics\")).n_samples,\n",
    ")\n",
    "\n",
    "dataset = dataset.withColumns({\"rescaledStatistics\": rescaled_stats.col})\n",
    "\n",
    "dataset.show(5, truncate=False)\n"
   ]
  },
  {
   "cell_type": "markdown",
   "metadata": {},
   "source": [
    "## Final dataset contract\n",
    "\n",
    "```\n",
    "root\n",
    " |-- variantId: string (nullable = true)\n",
    " |-- studyLocusId: string (nullable = true)\n",
    " |-- studyId: string (nullable = true)\n",
    " |-- geneId: string (nullable = true)\n",
    " |-- originalBeta: double (nullable = true)\n",
    " |-- originalStandardError: double (nullable = true)\n",
    " |-- finemappingMethod: string (nullable = true)\n",
    " |-- credibleSetSize: integer (nullable = false)\n",
    " |-- isTransQtl: boolean (nullable = true)\n",
    " |-- variantEffect: array (nullable = true)\n",
    " |    |-- element: struct (containsNull = true)\n",
    " |    |    |-- method: string (nullable = true)\n",
    " |    |    |-- assessment: string (nullable = true)\n",
    " |    |    |-- score: float (nullable = true)\n",
    " |    |    |-- assessmentFlag: string (nullable = true)\n",
    " |    |    |-- targetId: string (nullable = true)\n",
    " |    |    |-- normalisedScore: double (nullable = true)\n",
    " |-- majorLdPopulation: struct (nullable = true)\n",
    " |    |-- ldPopulation: string (nullable = false)\n",
    " |    |-- relativeSampleSize: double (nullable = false)\n",
    " |-- majorLdPopulationMaf: struct (nullable = true)\n",
    " |    |-- value: double (nullable = true)\n",
    " |    |-- type: string (nullable = false)\n",
    " |-- majorLdPopulationAf: struct (nullable = true)\n",
    " |    |-- populationName: string (nullable = true)\n",
    " |    |-- alleleFrequency: double (nullable = true)\n",
    " |-- variantStatistics: struct (nullable = false)\n",
    " |    |-- chi2Stat: double (nullable = true)\n",
    " |    |-- pValueMantissa: float (nullable = true)\n",
    " |    |-- pValueExponent: integer (nullable = true)\n",
    " |    |-- ApproximatedVarianceExplained: double (nullable = true)\n",
    " |-- studyStatistics: struct (nullable = false)\n",
    " |    |-- nCases: integer (nullable = true)\n",
    " |    |-- nControls: integer (nullable = true)\n",
    " |    |-- nSamples: integer (nullable = true)\n",
    " |    |-- trait: string (nullable = true)\n",
    " |    |-- studyType: string (nullable = true)\n",
    " |    |-- traitClass: string (nullable = true)\n",
    " |    |-- traitFromSourceMappedIds: array (nullable = true)\n",
    " |    |    |-- element: string (containsNull = true)\n",
    " |-- rescaledStatistics: struct (nullable = false)\n",
    " |    |-- directionOfEffect: string (nullable = false)\n",
    " |    |-- zScore: double (nullable = true)\n",
    " |    |-- varG: double (nullable = true)\n",
    " |    |-- prevalence: double (nullable = true)\n",
    " |    |-- estimatedSE: double (nullable = true)\n",
    " |    |-- estimatedBeta: double (nullable = true)\n",
    " |    |-- majorAlleleEstimatedBeta: double (nullable = true)\n",
    "```\n"
   ]
  },
  {
   "cell_type": "code",
   "execution_count": 11,
   "metadata": {},
   "outputs": [],
   "source": [
    "dataset = dataset.select(\n",
    "    f.col(\"variantId\"),\n",
    "    f.col(\"studyLocusId\"),\n",
    "    f.col(\"studyId\"),\n",
    "    f.col(\"geneId\"),\n",
    "    f.col(\"beta\").alias(\"originalBeta\"),\n",
    "    f.col(\"standardError\").alias(\"originalStandardError\"),\n",
    "    f.col(\"finemappingMethod\"),\n",
    "    f.col(\"credibleSetSize\"),\n",
    "    f.col(\"isTransQtl\"),\n",
    "    f.col(\"variantEffect\"),\n",
    "    f.col(\"majorLdPopulation\"),\n",
    "    f.col(\"majorLdPopulationMaf\"),\n",
    "    f.col(\"majorLdPopulationAf\"),\n",
    "    f.col(\"variantStatistics\"),\n",
    "    f.col(\"studyStatistics\"),\n",
    "    f.col(\"rescaledStatistics\"),\n",
    ")\n"
   ]
  },
  {
   "cell_type": "markdown",
   "metadata": {},
   "source": [
    "### Save the dataset to parquet\n"
   ]
  },
  {
   "cell_type": "code",
   "execution_count": 12,
   "metadata": {},
   "outputs": [
    {
     "name": "stderr",
     "output_type": "stream",
     "text": [
      "                                                                                \r"
     ]
    }
   ],
   "source": [
    "dataset.repartition(50).write.mode(\"overwrite\").parquet(output_dataset_path)\n"
   ]
  },
  {
   "cell_type": "markdown",
   "metadata": {},
   "source": [
    "### Show the dataset schema\n"
   ]
  },
  {
   "cell_type": "code",
   "execution_count": 13,
   "metadata": {},
   "outputs": [
    {
     "name": "stdout",
     "output_type": "stream",
     "text": [
      "root\n",
      " |-- variantId: string (nullable = true)\n",
      " |-- studyLocusId: string (nullable = true)\n",
      " |-- studyId: string (nullable = true)\n",
      " |-- geneId: string (nullable = true)\n",
      " |-- originalBeta: double (nullable = true)\n",
      " |-- originalStandardError: double (nullable = true)\n",
      " |-- finemappingMethod: string (nullable = true)\n",
      " |-- credibleSetSize: integer (nullable = false)\n",
      " |-- isTransQtl: boolean (nullable = true)\n",
      " |-- variantEffect: array (nullable = true)\n",
      " |    |-- element: struct (containsNull = true)\n",
      " |    |    |-- method: string (nullable = true)\n",
      " |    |    |-- assessment: string (nullable = true)\n",
      " |    |    |-- score: float (nullable = true)\n",
      " |    |    |-- assessmentFlag: string (nullable = true)\n",
      " |    |    |-- targetId: string (nullable = true)\n",
      " |    |    |-- normalisedScore: double (nullable = true)\n",
      " |-- majorLdPopulation: struct (nullable = true)\n",
      " |    |-- ldPopulation: string (nullable = false)\n",
      " |    |-- relativeSampleSize: double (nullable = false)\n",
      " |-- majorLdPopulationMaf: struct (nullable = true)\n",
      " |    |-- value: double (nullable = true)\n",
      " |    |-- type: string (nullable = false)\n",
      " |-- majorLdPopulationAf: struct (nullable = true)\n",
      " |    |-- populationName: string (nullable = true)\n",
      " |    |-- alleleFrequency: double (nullable = true)\n",
      " |-- variantStatistics: struct (nullable = false)\n",
      " |    |-- chi2Stat: double (nullable = true)\n",
      " |    |-- pValueMantissa: float (nullable = true)\n",
      " |    |-- pValueExponent: integer (nullable = true)\n",
      " |    |-- ApproximatedVarianceExplained: double (nullable = true)\n",
      " |-- studyStatistics: struct (nullable = false)\n",
      " |    |-- nCases: integer (nullable = true)\n",
      " |    |-- nControls: integer (nullable = true)\n",
      " |    |-- nSamples: integer (nullable = true)\n",
      " |    |-- trait: string (nullable = true)\n",
      " |    |-- studyType: string (nullable = true)\n",
      " |    |-- traitClass: string (nullable = true)\n",
      " |    |-- traitFromSourceMappedIds: array (nullable = true)\n",
      " |    |    |-- element: string (containsNull = true)\n",
      " |-- rescaledStatistics: struct (nullable = false)\n",
      " |    |-- directionOfEffect: string (nullable = false)\n",
      " |    |-- zScore: double (nullable = true)\n",
      " |    |-- varG: double (nullable = true)\n",
      " |    |-- prevalence: double (nullable = true)\n",
      " |    |-- estimatedSE: double (nullable = true)\n",
      " |    |-- estimatedBeta: double (nullable = true)\n",
      " |    |-- majorAlleleEstimatedBeta: double (nullable = true)\n",
      "\n"
     ]
    }
   ],
   "source": [
    "dataset.printSchema()\n"
   ]
  },
  {
   "cell_type": "markdown",
   "metadata": {},
   "source": [
    "### Show the final dataset\n"
   ]
  },
  {
   "cell_type": "code",
   "execution_count": 14,
   "metadata": {},
   "outputs": [
    {
     "name": "stderr",
     "output_type": "stream",
     "text": [
      "[Stage 106:>                                                        (0 + 1) / 1]\r"
     ]
    },
    {
     "name": "stdout",
     "output_type": "stream",
     "text": [
      "+------------------+--------------------------------+---------------------------------------------------------------------+---------------+------------+---------------------+-----------------+---------------+----------+-------------------------------------------------------------------------------------------------------------------------------+-----------------+----------------------------------+-------------------------------+-----------------------------------------------------+--------------------------------------------------------------------------------------------------+----------------------------------------------------------------------------------------------------------------------------+\n",
      "|variantId         |studyLocusId                    |studyId                                                              |geneId         |originalBeta|originalStandardError|finemappingMethod|credibleSetSize|isTransQtl|variantEffect                                                                                                                  |majorLdPopulation|majorLdPopulationMaf              |majorLdPopulationAf            |variantStatistics                                    |studyStatistics                                                                                   |rescaledStatistics                                                                                                          |\n",
      "+------------------+--------------------------------+---------------------------------------------------------------------+---------------+------------+---------------------+-----------------+---------------+----------+-------------------------------------------------------------------------------------------------------------------------------+-----------------+----------------------------------+-------------------------------+-----------------------------------------------------+--------------------------------------------------------------------------------------------------+----------------------------------------------------------------------------------------------------------------------------+\n",
      "|10_100019534_G_GAA|b14db85f5fe52358fa03809bdb0db29e|blueprint_exon_monocyte_ensg00000196072_12_10_100280934_100281053    |ENSG00000196072|-1.11197    |0.206856             |SuSie            |1              |false     |[{VEP, upstream_gene_variant, 0.0, NULL, NULL, 0.0}, {GERP, NULL, -0.771, NULL, ENSG00000289301, 0.18575000762939453}]         |{nfe, 0.0}       |{0.03903047000557578, notFlipped} |{nfe_adj, 0.03903047000557578} |{26.680755387780533, 2.4, -7, 0.13968981878419126}   |{NULL, NULL, 191, ENSG00000196072.12_10_100280934_100281053, eqtl, quantitative, NULL}            |{-, -5.165341749369594, 0.07501418483343926, NULL, 0.2641871070847862, -1.3646166938702218, -1.3646166938702218}            |\n",
      "|10_100033665_G_A  |f0c6fddebd70e32ea17ca9c023d7029f|GCST90454202                                                         |NULL           |38.3679     |6.19444              |PICS             |1              |NULL      |[{VEP, upstream_gene_variant, 0.0, NULL, NULL, 0.0}, {GERP, NULL, 0.043, NULL, ENSG00000310301, 0.26075000036507845}]          |{nfe, 1.0}       |{1.470112610625974E-5, notFlipped}|{nfe_adj, 1.470112610625974E-5}|{38.30523901652862, 6.05, -10, 1.2972030646558349E-4}|{3408, 291883, 295291, ICD10 C53: Malignant neoplasm of cervix uteri, gwas, binary, [EFO_0001061]}|{+, 6.189122637056776, 2.9401819966301894E-5, 0.011541157705449879, 3.177487162245169, 19.66585772480887, 19.66585772480887}|\n",
      "|10_100111179_C_T  |8dc7e55aa3a2982bf689175d673d78cf|gtex_exon_brain_hippocampus_ensg00000055950_17_10_100987514_100987515|ENSG00000055950|-0.311703   |0.0668019            |SuSie            |88             |false     |[{VEP, intron_variant, 0.1, NULL, NULL, 0.10000000149011612}, {GERP, NULL, -0.753, NULL, ENSG00000212325, 0.18724999825159708}]|{nfe, 0.0}       |{0.36163614884819845, notFlipped} |{nfe_adj, 0.36163614884819845} |{20.26337646859083, 6.748, -6, 0.12280834223388383}  |{NULL, NULL, 165, ENSG00000055950.17_10_100987514_100987515, eqtl, quantitative, NULL}            |{-, -4.501486028923208, 0.46171088938888416, NULL, 0.11457054240882805, -0.5157376959794934, -0.5157376959794934}           |\n",
      "|10_100165971_C_T  |a8740dcc113c994917b2b1be958176b7|gtex_txrev_breast_ensg00000107815_grp_1_upstream_enst00000476766     |ENSG00000107815|-1.20689    |0.218797             |SuSie            |3              |false     |[{VEP, intron_variant, 0.1, NULL, NULL, 0.10000000149011612}, {GERP, NULL, -1.02, NULL, ENSG00000227351, 0.16500000158945718}] |{nfe, 0.0}       |{0.023627488458258593, notFlipped}|{nfe_adj, 0.023627488458258593}|{29.228681939403877, 6.432, -8, 0.074184471927421}   |{NULL, NULL, 394, ENSG00000107815.grp_1.upstream.ENST00000476766, tuqtl, quantitative, NULL}      |{-, -5.406355698564781, 0.0461384604948269, NULL, 0.23454184622979107, -1.2680166469163354, -1.2680166469163354}            |\n",
      "|10_100234724_T_C  |125e33bc6e10a4b586c8048d54952a8b|gtex_txrev_vagina_ensg00000196072_grp_1_downstream_enst00000370372   |ENSG00000196072|1.05413     |0.138758             |SuSie            |46             |false     |[{VEP, intron_variant, 0.1, NULL, NULL, 0.10000000149011612}, {GERP, NULL, -2.23, NULL, ENSG00000310301, 0.06416666507720947}] |{nfe, 0.0}       |{0.04715344350996883, notFlipped} |{nfe_adj, 0.04715344350996883} |{47.33153845706211, 5.994, -12, 0.3356846699082419}  |{NULL, NULL, 141, ENSG00000196072.grp_1.downstream.ENST00000370372, tuqtl, quantitative, NULL}    |{+, 6.879792035887576, 0.089859992550242, NULL, 0.280935909406388, 1.9327806321289018, 1.9327806321289018}                  |\n",
      "+------------------+--------------------------------+---------------------------------------------------------------------+---------------+------------+---------------------+-----------------+---------------+----------+-------------------------------------------------------------------------------------------------------------------------------+-----------------+----------------------------------+-------------------------------+-----------------------------------------------------+--------------------------------------------------------------------------------------------------+----------------------------------------------------------------------------------------------------------------------------+\n",
      "only showing top 5 rows\n",
      "\n"
     ]
    },
    {
     "name": "stderr",
     "output_type": "stream",
     "text": [
      "                                                                                \r"
     ]
    }
   ],
   "source": [
    "dataset.show(5, truncate=False)\n"
   ]
  },
  {
   "cell_type": "markdown",
   "metadata": {},
   "source": [
    "### Describe the dataset\n"
   ]
  },
  {
   "cell_type": "code",
   "execution_count": 15,
   "metadata": {},
   "outputs": [
    {
     "name": "stderr",
     "output_type": "stream",
     "text": [
      "[Stage 112:==================================================>      (8 + 1) / 9]\r"
     ]
    },
    {
     "name": "stdout",
     "output_type": "stream",
     "text": [
      "+-------+----------------+--------------------------------+--------------------------------------------------------------------------------+---------------+------------------+---------------------+-----------------+------------------+\n",
      "|summary|variantId       |studyLocusId                    |studyId                                                                         |geneId         |originalBeta      |originalStandardError|finemappingMethod|credibleSetSize   |\n",
      "+-------+----------------+--------------------------------+--------------------------------------------------------------------------------+---------------+------------------+---------------------+-----------------+------------------+\n",
      "|count  |2833758         |2833758                         |2833758                                                                         |2044305        |2781497           |2254038              |2833758          |2833758           |\n",
      "|mean   |NULL            |Infinity                        |NULL                                                                            |NULL           |0.5148029026333575|0.1758551955289636   |NULL             |24.635404293521184|\n",
      "|stddev |NULL            |NaN                             |NULL                                                                            |NULL           |100.13940693900258|11.756765655146888   |NULL             |87.11131863249877 |\n",
      "|min    |10_100000235_C_T|0000075e718162e97fa85756e055e8cd|FINNGEN_R12_AB1_BACTINF_NOS                                                     |ENSG00000000003|-15750.792        |-0.10714286140033177 |PICS             |1                 |\n",
      "|max    |Y_20577481_C_T  |fffffef27b8b270d58113c7f971fc907|young_2019_txrev_microglia_naive_ensg00000273136_grp_2_contained_enst00000652763|ENSG00000289643|78729.0           |9457.2               |SuSie            |10248             |\n",
      "+-------+----------------+--------------------------------+--------------------------------------------------------------------------------+---------------+------------------+---------------------+-----------------+------------------+\n",
      "\n"
     ]
    },
    {
     "name": "stderr",
     "output_type": "stream",
     "text": [
      "                                                                                \r"
     ]
    }
   ],
   "source": [
    "dataset.describe().show(truncate=False)\n"
   ]
  }
 ],
 "metadata": {
  "kernelspec": {
   "display_name": "gentropy-manuscript",
   "language": "python",
   "name": "python3"
  },
  "language_info": {
   "codemirror_mode": {
    "name": "ipython",
    "version": 3
   },
   "file_extension": ".py",
   "mimetype": "text/x-python",
   "name": "python",
   "nbconvert_exporter": "python",
   "pygments_lexer": "ipython3",
   "version": "3.11.11"
  }
 },
 "nbformat": 4,
 "nbformat_minor": 2
}

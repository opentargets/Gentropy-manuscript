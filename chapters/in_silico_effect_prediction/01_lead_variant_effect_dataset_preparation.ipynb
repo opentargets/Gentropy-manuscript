{
 "cells": [
  {
   "cell_type": "markdown",
   "metadata": {},
   "source": [
    "# Lead Variant Effect dataset preparation\n",
    "\n",
    "The aim of this notebook is to collect the information about the effect of the credible set lead variants.\n",
    "**This includes**:\n",
    "\n",
    "- Addition of **Major population sample size** and **size of cases/controls** from _studyIndex_,\n",
    "- Addition of **VEP consequence score** derived annotations from _variantIndex_\n",
    "- Addition of **study specific major ancestry variant AF** (allele frequency)<a name=\"out of sample AF\"></a>[<sup>[1]</sup>](#cite_note-1) annotations from _variantIndex_\n",
    "- Calculation of **MAF (Minor Allele Frequency)** based on AF of the **credible set lead variants** derived from _studyLocus_\n",
    "- Calculation of **Variance Explained by lead variant**\n",
    "- Calculation of the **Rescaled estimated effect sizes** based on the trait class (dichotomous or continuous) and the MAF of the lead variant.\n",
    "\n",
    "<a name=\"cite_note-1\"></a>1. [^](#cite_ref-1) AF is derived from GnomAD v4.1 allele frequencies from joint Exome and WGS datasets.\n"
   ]
  },
  {
   "cell_type": "markdown",
   "metadata": {
    "vscode": {
     "languageId": "plaintext"
    }
   },
   "source": [
    "## Data extraction and loading\n",
    "\n",
    "<div class=\"alert alert-block alert-info\"> \n",
    "    <b style=\"font-size: 1.2em\">Downloading datasets</b><br><br>\n",
    "    <b>The analysis can be performed on the:</b>\n",
    "    <ul>\n",
    "        <li>2025.03 release (rsync from EBI FTP server)</li>\n",
    "        <li>2025.06 release (rsync from google cloud storage)</li>\n",
    "    </ul>\n",
    "    <I>This code chunk should be run only once to download the relevant datasets.</I>\n",
    "</div>\n",
    "\n",
    "Data for this analysis has to be downloaded from 3 datasets:\n",
    "\n",
    "- credible_set\n",
    "- variant\n",
    "- study\n"
   ]
  },
  {
   "cell_type": "code",
   "execution_count": 1,
   "metadata": {},
   "outputs": [
    {
     "name": "stdout",
     "output_type": "stream",
     "text": [
      "openjdk version \"11.0.13\" 2021-10-19\n",
      "OpenJDK Runtime Environment JBR-11.0.13.7-1751.21-jcef (build 11.0.13+7-b1751.21)\n",
      "OpenJDK 64-Bit Server VM JBR-11.0.13.7-1751.21-jcef (build 11.0.13+7-b1751.21, mixed mode)\n"
     ]
    }
   ],
   "source": [
    "# Ensure proper java version < 11\n",
    "!java -version\n"
   ]
  },
  {
   "cell_type": "code",
   "execution_count": 2,
   "metadata": {},
   "outputs": [],
   "source": [
    "# Download the release data from the Open Targets Platform 25.03 release\n",
    "# !rsync -rpltvz --delete rsync.ebi.ac.uk::pub/databases/opentargets/platform/25.03/output/credible_set ../../data/.\n",
    "# !rsync -rpltvz --delete rsync.ebi.ac.uk::pub/databases/opentargets/platform/25.03/output/study ../../data/.\n",
    "# !rsync -rpltvz --delete rsync.ebi.ac.uk::pub/databases/opentargets/platform/25.03/output/variant ../../data/.\n",
    "\n",
    "# Download the release data from the Open Targets Platform 25.06 release\n",
    "# !rsync -rpltvz --delete rsync.ebi.ac.uk::pub/databases/opentargets/platform/25.06/output/credible_set ../../data/.\n",
    "# !rsync -rpltvz --delete rsync.ebi.ac.uk::pub/databases/opentargets/platform/25.06/output/study ../../data/.\n",
    "# !rsync -rpltvz --delete rsync.ebi.ac.uk::pub/databases/opentargets/platform/25.06/output/variant ../../data/.\n"
   ]
  },
  {
   "cell_type": "markdown",
   "metadata": {},
   "source": [
    "## Session setup\n",
    "\n",
    "- Create the sparkSession\n",
    "- Set all input/output paths\n"
   ]
  },
  {
   "cell_type": "code",
   "execution_count": 3,
   "metadata": {},
   "outputs": [
    {
     "data": {
      "text/html": [
       "    <style>\n",
       "        .bk-notebook-logo {\n",
       "            display: block;\n",
       "            width: 20px;\n",
       "            height: 20px;\n",
       "            background-image: url(data:image/png;base64,iVBORw0KGgoAAAANSUhEUgAAABQAAAAUCAYAAACNiR0NAAAABHNCSVQICAgIfAhkiAAAAAlwSFlzAAALEgAACxIB0t1+/AAAABx0RVh0U29mdHdhcmUAQWRvYmUgRmlyZXdvcmtzIENTNui8sowAAAOkSURBVDiNjZRtaJVlGMd/1/08zzln5zjP1LWcU9N0NkN8m2CYjpgQYQXqSs0I84OLIC0hkEKoPtiH3gmKoiJDU7QpLgoLjLIQCpEsNJ1vqUOdO7ppbuec5+V+rj4ctwzd8IIbbi6u+8f1539dt3A78eXC7QizUF7gyV1fD1Yqg4JWz84yffhm0qkFqBogB9rM8tZdtwVsPUhWhGcFJngGeWrPzHm5oaMmkfEg1usvLFyc8jLRqDOMru7AyC8saQr7GG7f5fvDeH7Ej8CM66nIF+8yngt6HWaKh7k49Soy9nXurCi1o3qUbS3zWfrYeQDTB/Qj6kX6Ybhw4B+bOYoLKCC9H3Nu/leUTZ1JdRWkkn2ldcCamzrcf47KKXdAJllSlxAOkRgyHsGC/zRday5Qld9DyoM4/q/rUoy/CXh3jzOu3bHUVZeU+DEn8FInkPBFlu3+nW3Nw0mk6vCDiWg8CeJaxEwuHS3+z5RgY+YBR6V1Z1nxSOfoaPa4LASWxxdNp+VWTk7+4vzaou8v8PN+xo+KY2xsw6une2frhw05CTYOmQvsEhjhWjn0bmXPjpE1+kplmmkP3suftwTubK9Vq22qKmrBhpY4jvd5afdRA3wGjFAgcnTK2s4hY0/GPNIb0nErGMCRxWOOX64Z8RAC4oCXdklmEvcL8o0BfkNK4lUg9HTl+oPlQxdNo3Mg4Nv175e/1LDGzZen30MEjRUtmXSfiTVu1kK8W4txyV6BMKlbgk3lMwYCiusNy9fVfvvwMxv8Ynl6vxoByANLTWplvuj/nF9m2+PDtt1eiHPBr1oIfhCChQMBw6Aw0UulqTKZdfVvfG7VcfIqLG9bcldL/+pdWTLxLUy8Qq38heUIjh4XlzZxzQm19lLFlr8vdQ97rjZVOLf8nclzckbcD4wxXMidpX30sFd37Fv/GtwwhzhxGVAprjbg0gCAEeIgwCZyTV2Z1REEW8O4py0wsjeloKoMr6iCY6dP92H6Vw/oTyICIthibxjm/DfN9lVz8IqtqKYLUXfoKVMVQVVJOElGjrnnUt9T9wbgp8AyYKaGlqingHZU/uG2NTZSVqwHQTWkx9hxjkpWDaCg6Ckj5qebgBVbT3V3NNXMSiWSDdGV3hrtzla7J+duwPOToIg42ChPQOQjspnSlp1V+Gjdged7+8UN5CRAV7a5EdFNwCjEaBR27b3W890TE7g24NAP/mMDXRWrGoFPQI9ls/MWO2dWFAar/xcOIImbbpA3zgAAAABJRU5ErkJggg==);\n",
       "        }\n",
       "    </style>\n",
       "    <div>\n",
       "        <a href=\"https://bokeh.org\" target=\"_blank\" class=\"bk-notebook-logo\"></a>\n",
       "        <span id=\"e744e10d-9a96-42bd-822a-642149e50848\">Loading BokehJS ...</span>\n",
       "    </div>\n"
      ]
     },
     "metadata": {},
     "output_type": "display_data"
    },
    {
     "data": {
      "application/javascript": "'use strict';\n(function(root) {\n  function now() {\n    return new Date();\n  }\n\n  const force = true;\n\n  if (typeof root._bokeh_onload_callbacks === \"undefined\" || force === true) {\n    root._bokeh_onload_callbacks = [];\n    root._bokeh_is_loading = undefined;\n  }\n\nconst JS_MIME_TYPE = 'application/javascript';\n  const HTML_MIME_TYPE = 'text/html';\n  const EXEC_MIME_TYPE = 'application/vnd.bokehjs_exec.v0+json';\n  const CLASS_NAME = 'output_bokeh rendered_html';\n\n  /**\n   * Render data to the DOM node\n   */\n  function render(props, node) {\n    const script = document.createElement(\"script\");\n    node.appendChild(script);\n  }\n\n  /**\n   * Handle when an output is cleared or removed\n   */\n  function handleClearOutput(event, handle) {\n    function drop(id) {\n      const view = Bokeh.index.get_by_id(id)\n      if (view != null) {\n        view.model.document.clear()\n        Bokeh.index.delete(view)\n      }\n    }\n\n    const cell = handle.cell;\n\n    const id = cell.output_area._bokeh_element_id;\n    const server_id = cell.output_area._bokeh_server_id;\n\n    // Clean up Bokeh references\n    if (id != null) {\n      drop(id)\n    }\n\n    if (server_id !== undefined) {\n      // Clean up Bokeh references\n      const cmd_clean = \"from bokeh.io.state import curstate; print(curstate().uuid_to_server['\" + server_id + \"'].get_sessions()[0].document.roots[0]._id)\";\n      cell.notebook.kernel.execute(cmd_clean, {\n        iopub: {\n          output: function(msg) {\n            const id = msg.content.text.trim()\n            drop(id)\n          }\n        }\n      });\n      // Destroy server and session\n      const cmd_destroy = \"import bokeh.io.notebook as ion; ion.destroy_server('\" + server_id + \"')\";\n      cell.notebook.kernel.execute(cmd_destroy);\n    }\n  }\n\n  /**\n   * Handle when a new output is added\n   */\n  function handleAddOutput(event, handle) {\n    const output_area = handle.output_area;\n    const output = handle.output;\n\n    // limit handleAddOutput to display_data with EXEC_MIME_TYPE content only\n    if ((output.output_type != \"display_data\") || (!Object.prototype.hasOwnProperty.call(output.data, EXEC_MIME_TYPE))) {\n      return\n    }\n\n    const toinsert = output_area.element.find(\".\" + CLASS_NAME.split(' ')[0]);\n\n    if (output.metadata[EXEC_MIME_TYPE][\"id\"] !== undefined) {\n      toinsert[toinsert.length - 1].firstChild.textContent = output.data[JS_MIME_TYPE];\n      // store reference to embed id on output_area\n      output_area._bokeh_element_id = output.metadata[EXEC_MIME_TYPE][\"id\"];\n    }\n    if (output.metadata[EXEC_MIME_TYPE][\"server_id\"] !== undefined) {\n      const bk_div = document.createElement(\"div\");\n      bk_div.innerHTML = output.data[HTML_MIME_TYPE];\n      const script_attrs = bk_div.children[0].attributes;\n      for (let i = 0; i < script_attrs.length; i++) {\n        toinsert[toinsert.length - 1].firstChild.setAttribute(script_attrs[i].name, script_attrs[i].value);\n        toinsert[toinsert.length - 1].firstChild.textContent = bk_div.children[0].textContent\n      }\n      // store reference to server id on output_area\n      output_area._bokeh_server_id = output.metadata[EXEC_MIME_TYPE][\"server_id\"];\n    }\n  }\n\n  function register_renderer(events, OutputArea) {\n\n    function append_mime(data, metadata, element) {\n      // create a DOM node to render to\n      const toinsert = this.create_output_subarea(\n        metadata,\n        CLASS_NAME,\n        EXEC_MIME_TYPE\n      );\n      this.keyboard_manager.register_events(toinsert);\n      // Render to node\n      const props = {data: data, metadata: metadata[EXEC_MIME_TYPE]};\n      render(props, toinsert[toinsert.length - 1]);\n      element.append(toinsert);\n      return toinsert\n    }\n\n    /* Handle when an output is cleared or removed */\n    events.on('clear_output.CodeCell', handleClearOutput);\n    events.on('delete.Cell', handleClearOutput);\n\n    /* Handle when a new output is added */\n    events.on('output_added.OutputArea', handleAddOutput);\n\n    /**\n     * Register the mime type and append_mime function with output_area\n     */\n    OutputArea.prototype.register_mime_type(EXEC_MIME_TYPE, append_mime, {\n      /* Is output safe? */\n      safe: true,\n      /* Index of renderer in `output_area.display_order` */\n      index: 0\n    });\n  }\n\n  // register the mime type if in Jupyter Notebook environment and previously unregistered\n  if (root.Jupyter !== undefined) {\n    const events = require('base/js/events');\n    const OutputArea = require('notebook/js/outputarea').OutputArea;\n\n    if (OutputArea.prototype.mime_types().indexOf(EXEC_MIME_TYPE) == -1) {\n      register_renderer(events, OutputArea);\n    }\n  }\n  if (typeof (root._bokeh_timeout) === \"undefined\" || force === true) {\n    root._bokeh_timeout = Date.now() + 5000;\n    root._bokeh_failed_load = false;\n  }\n\n  const NB_LOAD_WARNING = {'data': {'text/html':\n     \"<div style='background-color: #fdd'>\\n\"+\n     \"<p>\\n\"+\n     \"BokehJS does not appear to have successfully loaded. If loading BokehJS from CDN, this \\n\"+\n     \"may be due to a slow or bad network connection. Possible fixes:\\n\"+\n     \"</p>\\n\"+\n     \"<ul>\\n\"+\n     \"<li>re-rerun `output_notebook()` to attempt to load from CDN again, or</li>\\n\"+\n     \"<li>use INLINE resources instead, as so:</li>\\n\"+\n     \"</ul>\\n\"+\n     \"<code>\\n\"+\n     \"from bokeh.resources import INLINE\\n\"+\n     \"output_notebook(resources=INLINE)\\n\"+\n     \"</code>\\n\"+\n     \"</div>\"}};\n\n  function display_loaded(error = null) {\n    const el = document.getElementById(\"e744e10d-9a96-42bd-822a-642149e50848\");\n    if (el != null) {\n      const html = (() => {\n        if (typeof root.Bokeh === \"undefined\") {\n          if (error == null) {\n            return \"BokehJS is loading ...\";\n          } else {\n            return \"BokehJS failed to load.\";\n          }\n        } else {\n          const prefix = `BokehJS ${root.Bokeh.version}`;\n          if (error == null) {\n            return `${prefix} successfully loaded.`;\n          } else {\n            return `${prefix} <b>encountered errors</b> while loading and may not function as expected.`;\n          }\n        }\n      })();\n      el.innerHTML = html;\n\n      if (error != null) {\n        const wrapper = document.createElement(\"div\");\n        wrapper.style.overflow = \"auto\";\n        wrapper.style.height = \"5em\";\n        wrapper.style.resize = \"vertical\";\n        const content = document.createElement(\"div\");\n        content.style.fontFamily = \"monospace\";\n        content.style.whiteSpace = \"pre-wrap\";\n        content.style.backgroundColor = \"rgb(255, 221, 221)\";\n        content.textContent = error.stack ?? error.toString();\n        wrapper.append(content);\n        el.append(wrapper);\n      }\n    } else if (Date.now() < root._bokeh_timeout) {\n      setTimeout(() => display_loaded(error), 100);\n    }\n  }\n\n  function run_callbacks() {\n    try {\n      root._bokeh_onload_callbacks.forEach(function(callback) {\n        if (callback != null)\n          callback();\n      });\n    } finally {\n      delete root._bokeh_onload_callbacks\n    }\n    console.debug(\"Bokeh: all callbacks have finished\");\n  }\n\n  function load_libs(css_urls, js_urls, callback) {\n    if (css_urls == null) css_urls = [];\n    if (js_urls == null) js_urls = [];\n\n    root._bokeh_onload_callbacks.push(callback);\n    if (root._bokeh_is_loading > 0) {\n      console.debug(\"Bokeh: BokehJS is being loaded, scheduling callback at\", now());\n      return null;\n    }\n    if (js_urls == null || js_urls.length === 0) {\n      run_callbacks();\n      return null;\n    }\n    console.debug(\"Bokeh: BokehJS not loaded, scheduling load and callback at\", now());\n    root._bokeh_is_loading = css_urls.length + js_urls.length;\n\n    function on_load() {\n      root._bokeh_is_loading--;\n      if (root._bokeh_is_loading === 0) {\n        console.debug(\"Bokeh: all BokehJS libraries/stylesheets loaded\");\n        run_callbacks()\n      }\n    }\n\n    function on_error(url) {\n      console.error(\"failed to load \" + url);\n    }\n\n    for (let i = 0; i < css_urls.length; i++) {\n      const url = css_urls[i];\n      const element = document.createElement(\"link\");\n      element.onload = on_load;\n      element.onerror = on_error.bind(null, url);\n      element.rel = \"stylesheet\";\n      element.type = \"text/css\";\n      element.href = url;\n      console.debug(\"Bokeh: injecting link tag for BokehJS stylesheet: \", url);\n      document.body.appendChild(element);\n    }\n\n    for (let i = 0; i < js_urls.length; i++) {\n      const url = js_urls[i];\n      const element = document.createElement('script');\n      element.onload = on_load;\n      element.onerror = on_error.bind(null, url);\n      element.async = false;\n      element.src = url;\n      console.debug(\"Bokeh: injecting script tag for BokehJS library: \", url);\n      document.head.appendChild(element);\n    }\n  };\n\n  function inject_raw_css(css) {\n    const element = document.createElement(\"style\");\n    element.appendChild(document.createTextNode(css));\n    document.body.appendChild(element);\n  }\n\n  const js_urls = [\"https://cdn.bokeh.org/bokeh/release/bokeh-3.4.3.min.js\", \"https://cdn.bokeh.org/bokeh/release/bokeh-gl-3.4.3.min.js\", \"https://cdn.bokeh.org/bokeh/release/bokeh-widgets-3.4.3.min.js\", \"https://cdn.bokeh.org/bokeh/release/bokeh-tables-3.4.3.min.js\", \"https://cdn.bokeh.org/bokeh/release/bokeh-mathjax-3.4.3.min.js\"];\n  const css_urls = [];\n\n  const inline_js = [    function(Bokeh) {\n      Bokeh.set_log_level(\"info\");\n    },\nfunction(Bokeh) {\n    }\n  ];\n\n  function run_inline_js() {\n    if (root.Bokeh !== undefined || force === true) {\n      try {\n            for (let i = 0; i < inline_js.length; i++) {\n      inline_js[i].call(root, root.Bokeh);\n    }\n\n      } catch (error) {display_loaded(error);throw error;\n      }if (force === true) {\n        display_loaded();\n      }} else if (Date.now() < root._bokeh_timeout) {\n      setTimeout(run_inline_js, 100);\n    } else if (!root._bokeh_failed_load) {\n      console.log(\"Bokeh: BokehJS failed to load within specified timeout.\");\n      root._bokeh_failed_load = true;\n    } else if (force !== true) {\n      const cell = $(document.getElementById(\"e744e10d-9a96-42bd-822a-642149e50848\")).parents('.cell').data().cell;\n      cell.output_area.append_execute_result(NB_LOAD_WARNING)\n    }\n  }\n\n  if (root._bokeh_is_loading === 0) {\n    console.debug(\"Bokeh: BokehJS loaded, going straight to plotting\");\n    run_inline_js();\n  } else {\n    load_libs(css_urls, js_urls, function() {\n      console.debug(\"Bokeh: BokehJS plotting callback run at\", now());\n      run_inline_js();\n    });\n  }\n}(window));",
      "application/vnd.bokehjs_load.v0+json": ""
     },
     "metadata": {},
     "output_type": "display_data"
    }
   ],
   "source": [
    "from gentropy.common.session import Session\n",
    "from gentropy.dataset.study_index import StudyIndex\n",
    "from gentropy.dataset.study_locus import StudyLocus\n",
    "from gentropy.dataset.variant_index import VariantIndex\n",
    "from pyspark.sql import functions as f\n"
   ]
  },
  {
   "cell_type": "code",
   "execution_count": 4,
   "metadata": {},
   "outputs": [
    {
     "name": "stderr",
     "output_type": "stream",
     "text": [
      "25/06/23 12:41:15 WARN Utils: Your hostname, mindos resolves to a loopback address: 127.0.1.1; using 192.168.0.100 instead (on interface eno1)\n",
      "25/06/23 12:41:15 WARN Utils: Set SPARK_LOCAL_IP if you need to bind to another address\n",
      "Setting default log level to \"WARN\".\n",
      "To adjust logging level use sc.setLogLevel(newLevel). For SparkR, use setLogLevel(newLevel).\n",
      "25/06/23 12:41:16 WARN NativeCodeLoader: Unable to load native-hadoop library for your platform... using builtin-java classes where applicable\n",
      "25/06/23 12:41:16 WARN Utils: Service 'SparkUI' could not bind on port 4040. Attempting port 4041.\n",
      "25/06/23 12:41:16 WARN Utils: Service 'SparkUI' could not bind on port 4041. Attempting port 4042.\n",
      "25/06/23 12:41:16 WARN Utils: Service 'SparkUI' could not bind on port 4042. Attempting port 4043.\n",
      "25/06/23 12:41:16 WARN Utils: Service 'SparkUI' could not bind on port 4043. Attempting port 4044.\n",
      "25/06/23 12:41:16 WARN Utils: Service 'SparkUI' could not bind on port 4044. Attempting port 4045.\n"
     ]
    }
   ],
   "source": [
    "session = Session(extended_spark_conf={\"spark.driver.memory\": \"40G\"})\n",
    "variant_index_path = \"../../data/variant\"\n",
    "study_index_path = \"../../data/study\"\n",
    "credible_set_path = \"../../data/credible_set\"\n",
    "output_dataset_path = \"../../data/lead-maf-vep\"\n"
   ]
  },
  {
   "cell_type": "code",
   "execution_count": 5,
   "metadata": {},
   "outputs": [
    {
     "data": {
      "text/html": [
       "\n",
       "            <div>\n",
       "                <p><b>SparkSession - in-memory</b></p>\n",
       "                \n",
       "        <div>\n",
       "            <p><b>SparkContext</b></p>\n",
       "\n",
       "            <p><a href=\"http://192.168.0.100:4045\">Spark UI</a></p>\n",
       "\n",
       "            <dl>\n",
       "              <dt>Version</dt>\n",
       "                <dd><code>v3.5.5</code></dd>\n",
       "              <dt>Master</dt>\n",
       "                <dd><code>local[*]</code></dd>\n",
       "              <dt>AppName</dt>\n",
       "                <dd><code>gentropy</code></dd>\n",
       "            </dl>\n",
       "        </div>\n",
       "        \n",
       "            </div>\n",
       "        "
      ],
      "text/plain": [
       "<pyspark.sql.session.SparkSession at 0x76f0ad9dc0d0>"
      ]
     },
     "execution_count": 5,
     "metadata": {},
     "output_type": "execute_result"
    }
   ],
   "source": [
    "session.spark\n"
   ]
  },
  {
   "cell_type": "markdown",
   "metadata": {},
   "source": [
    "## Building temporary dataset\n",
    "\n",
    "The temporary dataset needs to be build from the _studyIndex_, _studyLocus_ and _variantIndex_ datasets.\n"
   ]
  },
  {
   "cell_type": "code",
   "execution_count": 6,
   "metadata": {},
   "outputs": [
    {
     "name": "stderr",
     "output_type": "stream",
     "text": [
      "                                                                                \r"
     ]
    },
    {
     "name": "stdout",
     "output_type": "stream",
     "text": [
      "+---------------+-------------------------------+--------------------------------+---------------------+------------------+--------------+--------------+-------------+-----------------+---------+---------------+--------------------------------------------------------------------------------------------------------------------------------------------------------------------------------------------------------------------------------------------------------------------------------------------------------------------------------------------------------------------------------------------------------------------------------------------------------------------------------------------------------------------------------------------------------------------------------------------------------------------------------------------------------------------------------------------------------------------------------------------------------------------------------------------------------------------------------------------------------------------------------------------------------------------------------------------------------------------------------------------------------------------------------------------------------------------------------------------------------------------------------------------------------------------------------------------------------------------------------------------------------------------------------------------------------------------------------------------------------------------------------------------------------------------------------------------------------------------------------------------------------------------------------------------------------------------------------------------------------------------------------------------------------------------------------------------------------------------------------------------------------------------------------------------------------------------------------------------------------------------------------------------------------------------------------------------------------------------------------------------------------------------------------------------------------------------------------------------------------------------------------------------------------------------------------------------------------------------------------------------------------------------------------------------------------------------------------------------------------------------------------------------------------------------------------------------------------------------------------------------------------------------------------------------------------------------------------------------------------------------------------------------------------------------------------------------------------------------------------------------------------------------------------------------------------------------------------------------------------------------------------------------------------------------------------------------------------------------------------------------------------------------------------------------------------------------------------------------------------------------------------------------------------------------------------------------------------------------------------------------------------------------------------------------------+----------+--------+---------+------+---------------+------------------------+---------------------+------------------------------------------------------------+------------------------+---------------------------------------------------------------------------------------------------------------------------------------------------------------------------------------------------------------------------------------------------------------------------------------------------------------------------------------------+-------------------------------------------------------------------------------------------------------------------------------+-----------------------------------------------------------------------------------------------------------------------------------------------------------------------------------------------------------------------------------------------------------------------------------------------------------------------------------------------------------------------------------------------------------------------------------------------------------------------------------------------------------------------------------------------------------------------------------------------------------------------------------------------------------------------------------------------------------------------------------------------------------------------------------------------------------------------------------------------------------------------------------------------------------------------------------------------------------------------------------------------------------------------------------------------------------------------------------------------------------------------------------------------------------------------------------------------------------------------------------------------------------------------------------------------------------------------------------------------------------------------------------------------------------------------------------------------------------------------------------------------------------------------------------------------------------------------------------------------------------------------------------------------------------------------------------------------------------------------------------------------------------------------------------------------------------------------------------------------------------------------------------------------------------------------------------------------------------------------------------------------------------------------------------------------------------------------------------------------------------------------------------------------------------------------------------------------------------------------------------------------------------------------------------------------------------------------------------------------------------------------------------------------------------------------------------------------------------------------------------------------------------------------------------------------------------------------------------------------------------------------------------------------------------------------------------------------------------------------------------------------------------------------------------------------------------------------------------------------------------------------------------------------------------------------------------------------------------------------------------------------------------------------------------------------------------------------------------------------------------------------------------------------------------------------------------------------------------------------------------------------------------------------------------------------------------------------------------------------------------------------------------------------------------------------------------------------------------------------------------------------------------------------------------------------------------------------------------------------------------------------------------------------------------------------------------------------------------------------------------------------------------------------------------------------------------------------------------------------------------------------------------------------------------------------------------------------------------------------------------------------------------------------------------------------------------------------------------------------------------------------------------------------------------------------------------------------------------------------------------------------------------------------------------------------------------------------------------------------------------------------------------------------------------------------------------------------------------------------------------------------------------------------------------------------------------------------------------------------------------------------------------------------------------------------------------------------------------------------------------------------------------------------------------------------------------------------------------------------------------------------------------------------------------------------------------------------------------------------------------------------------------------------------------------------------------------------------------------------------------------------------------------------------------------------------------------------------------------------------------------------------------------------------------------------------------------------------------------------------------------------------------------------------------------------------------------------------------------------------------------------------------------------------------------------------------------------------------------------------------------------------------------------------------------------------------------------------------------------------------------------------------------------------------------------------------------------------------------------------------------------------------------------------------------------------------------------------------------------------------------------------------------------------------------------------------------------------------------------------------------------------------------------------------------------------------------------------------------------------------------------------------------------------------------------------------------------------------------------------------------------------------------------------------------------------------------------------------------------------------------------------------------------------------------------------------------------------------------------------------------------------------------------------------------------------------------------------------------------------------------------------------------------------------------------------------------------------------------------------------------------------------------------------------------------------------------------------------------------------------------------------------------------------------------------------------------------------------------------------------------------------------------------------------------------------------------------------------------------------------------------------------------------------------------------------------------------------------------------------------------------------------------------------------------------------------------------------------------------------------------------------------------------------------------------------------------------------------------------------------------------------------------------------------------------------------------------------------------------------------------------------------------------------------------------------------------------------------------------------------------------------------------------------------------------------------------------------------------------------------------------------------------------------------------------------------------------------------------------------------------------------------------------------------------------------------------------------------------------------------------------------------------------------------------------------------------------------------------------------------------------------------------------------------------------------------------------------------------------------------------------------------------------------------------------------------------------------------------------------------------------------------------------------------------------------------------------------------------------------------------------------------------------------------------------------------------------------------------------------------------------------------------------------------------------------------------------------------------------------------------------------------------------------------------------------------------------------------------------------------------------------------------------------------------------------------------------------------------------------------------------------------------------------------------------------------------------------------------+\n",
      "|variantId      |studyId                        |studyLocusId                    |beta                 |zScore            |pValueMantissa|pValueExponent|standardError|finemappingMethod|studyType|credibleSetSize|locus                                                                                                                                                                                                                                                                                                                                                                                                                                                                                                                                                                                                                                                                                                                                                                                                                                                                                                                                                                                                                                                                                                                                                                                                                                                                                                                                                                                                                                                                                                                                                                                                                                                                                                                                                                                                                                                                                                                                                                                                                                                                                                                                                                                                                                                                                                                                                                                                                                                                                                                                                                                                                                                                                                                                                                                                                                                                                                                                                                                                                                                                                                                                                                                                                                                                                             |isTransQtl|nSamples|nControls|nCases|geneId         |traitFromSourceMappedIds|ldPopulationStructure|traitFromSource                                             |traitFromSourceMappedIds|allelefrequencies                                                                                                                                                                                                                                                                                                                            |variantEffect                                                                                                                  |transcriptConsequences                                                                                                                                                                                                                                                                                                                                                                                                                                                                                                                                                                                                                                                                                                                                                                                                                                                                                                                                                                                                                                                                                                                                                                                                                                                                                                                                                                                                                                                                                                                                                                                                                                                                                                                                                                                                                                                                                                                                                                                                                                                                                                                                                                                                                                                                                                                                                                                                                                                                                                                                                                                                                                                                                                                                                                                                                                                                                                                                                                                                                                                                                                                                                                                                                                                                                                                                                                                                                                                                                                                                                                                                                                                                                                                                                                                                                                                                                                                                                                                                                                                                                                                                                                                                                                                                                                                                                                                                                                                                                                                                                                                                                                                                                                                                                                                                                                                                                                                                                                                                                                                                                                                                                                                                                                                                                                                                                                                                                                                                                                                                                                                                                                                                                                                                                                                                                                                                                                                                                                                                                                                                                                                                                                                                                                                                                                                                                                                                                                                                                                                                                                                                                                                                                                                                                                                                                                                                                                                                                                                                                                                                                                                                                                                                                                                                                                                                                                                                                                                                                                                                                                                                                                                                                                                                                                                                                                                                                                                                                                                                                                                                                                                                                                                                                                                                                                                                                                                                                                                                                                                                                                                                                                                                                                                                                                                                                                                                                                                                                                                                                                                                                                                                                                                                                                                                                                                   |\n",
      "+---------------+-------------------------------+--------------------------------+---------------------+------------------+--------------+--------------+-------------+-----------------+---------+---------------+--------------------------------------------------------------------------------------------------------------------------------------------------------------------------------------------------------------------------------------------------------------------------------------------------------------------------------------------------------------------------------------------------------------------------------------------------------------------------------------------------------------------------------------------------------------------------------------------------------------------------------------------------------------------------------------------------------------------------------------------------------------------------------------------------------------------------------------------------------------------------------------------------------------------------------------------------------------------------------------------------------------------------------------------------------------------------------------------------------------------------------------------------------------------------------------------------------------------------------------------------------------------------------------------------------------------------------------------------------------------------------------------------------------------------------------------------------------------------------------------------------------------------------------------------------------------------------------------------------------------------------------------------------------------------------------------------------------------------------------------------------------------------------------------------------------------------------------------------------------------------------------------------------------------------------------------------------------------------------------------------------------------------------------------------------------------------------------------------------------------------------------------------------------------------------------------------------------------------------------------------------------------------------------------------------------------------------------------------------------------------------------------------------------------------------------------------------------------------------------------------------------------------------------------------------------------------------------------------------------------------------------------------------------------------------------------------------------------------------------------------------------------------------------------------------------------------------------------------------------------------------------------------------------------------------------------------------------------------------------------------------------------------------------------------------------------------------------------------------------------------------------------------------------------------------------------------------------------------------------------------------------------------------------------------+----------+--------+---------+------+---------------+------------------------+---------------------+------------------------------------------------------------+------------------------+---------------------------------------------------------------------------------------------------------------------------------------------------------------------------------------------------------------------------------------------------------------------------------------------------------------------------------------------+-------------------------------------------------------------------------------------------------------------------------------+-----------------------------------------------------------------------------------------------------------------------------------------------------------------------------------------------------------------------------------------------------------------------------------------------------------------------------------------------------------------------------------------------------------------------------------------------------------------------------------------------------------------------------------------------------------------------------------------------------------------------------------------------------------------------------------------------------------------------------------------------------------------------------------------------------------------------------------------------------------------------------------------------------------------------------------------------------------------------------------------------------------------------------------------------------------------------------------------------------------------------------------------------------------------------------------------------------------------------------------------------------------------------------------------------------------------------------------------------------------------------------------------------------------------------------------------------------------------------------------------------------------------------------------------------------------------------------------------------------------------------------------------------------------------------------------------------------------------------------------------------------------------------------------------------------------------------------------------------------------------------------------------------------------------------------------------------------------------------------------------------------------------------------------------------------------------------------------------------------------------------------------------------------------------------------------------------------------------------------------------------------------------------------------------------------------------------------------------------------------------------------------------------------------------------------------------------------------------------------------------------------------------------------------------------------------------------------------------------------------------------------------------------------------------------------------------------------------------------------------------------------------------------------------------------------------------------------------------------------------------------------------------------------------------------------------------------------------------------------------------------------------------------------------------------------------------------------------------------------------------------------------------------------------------------------------------------------------------------------------------------------------------------------------------------------------------------------------------------------------------------------------------------------------------------------------------------------------------------------------------------------------------------------------------------------------------------------------------------------------------------------------------------------------------------------------------------------------------------------------------------------------------------------------------------------------------------------------------------------------------------------------------------------------------------------------------------------------------------------------------------------------------------------------------------------------------------------------------------------------------------------------------------------------------------------------------------------------------------------------------------------------------------------------------------------------------------------------------------------------------------------------------------------------------------------------------------------------------------------------------------------------------------------------------------------------------------------------------------------------------------------------------------------------------------------------------------------------------------------------------------------------------------------------------------------------------------------------------------------------------------------------------------------------------------------------------------------------------------------------------------------------------------------------------------------------------------------------------------------------------------------------------------------------------------------------------------------------------------------------------------------------------------------------------------------------------------------------------------------------------------------------------------------------------------------------------------------------------------------------------------------------------------------------------------------------------------------------------------------------------------------------------------------------------------------------------------------------------------------------------------------------------------------------------------------------------------------------------------------------------------------------------------------------------------------------------------------------------------------------------------------------------------------------------------------------------------------------------------------------------------------------------------------------------------------------------------------------------------------------------------------------------------------------------------------------------------------------------------------------------------------------------------------------------------------------------------------------------------------------------------------------------------------------------------------------------------------------------------------------------------------------------------------------------------------------------------------------------------------------------------------------------------------------------------------------------------------------------------------------------------------------------------------------------------------------------------------------------------------------------------------------------------------------------------------------------------------------------------------------------------------------------------------------------------------------------------------------------------------------------------------------------------------------------------------------------------------------------------------------------------------------------------------------------------------------------------------------------------------------------------------------------------------------------------------------------------------------------------------------------------------------------------------------------------------------------------------------------------------------------------------------------------------------------------------------------------------------------------------------------------------------------------------------------------------------------------------------------------------------------------------------------------------------------------------------------------------------------------------------------------------------------------------------------------------------------------------------------------------------------------------------------------------------------------------------------------------------------------------------------------------------------------------------------------------------------------------------------------------------------------------------------------------------------------------------------------------------------------------------------------------------------------------------------------------------------------------------------------------------------------------------------------------------------------------------------------------------------------------------------------------------------------------------------------------------------------------------------------------------------------------------------------------------------------------------------------------------------------------------------------------------------------------------------------------------------------------------------------------------------------------------------------------------------------------------------------------------------+\n",
      "|2_77742537_A_T |GCST90105038                   |d33d5b28c8d14e1ab04d4c122e355ce4|NULL                 |NULL              |1.0           |-12           |NULL         |PICS             |gwas     |27             |[{true, true, NULL, 0.8890875456014443, 2_77742537_A_T, 1.0, -12, NULL, 0.9977000638225533, 1.0}, {true, true, NULL, 0.005889715691462644, 2_77828688_GTT_G, NULL, NULL, NULL, 0.03326153426247288, 0.665570188045918}, {true, true, NULL, 0.0028790774768017546, 2_77718791_A_C, NULL, NULL, NULL, 0.029705874030813737, 0.6253159000838835}, {true, true, NULL, 0.0027992171144575447, 2_77734598_T_C, NULL, NULL, NULL, 0.029589766932412772, 0.6237908575658291}, {true, true, NULL, 0.0025981965921476374, 2_77713486_C_G, NULL, NULL, NULL, 0.02928940687237138, 0.6197706406989835}, {true, true, NULL, 0.002543912373913929, 2_77728587_C_T, NULL, NULL, NULL, 0.029206166923663377, 0.6186368123350373}, {true, true, NULL, 0.0025427479385348815, 2_77748001_C_T, NULL, NULL, NULL, 0.029204370897419937, 0.6186122520892028}, {true, true, NULL, 0.0023870823598936453, 2_77743721_T_C, NULL, NULL, NULL, 0.02896012393983096, 0.6152336673657021}, {true, true, NULL, 0.0022367707922134046, 2_77731206_C_T, NULL, NULL, NULL, 0.028715889096024513, 0.6117765176768671}, {true, true, NULL, 0.0022347122564573456, 2_77724106_G_C, NULL, NULL, NULL, 0.028712482781551016, 0.6117277286191876}, {true, true, NULL, 0.002234543581131924, 2_77751312_C_A, NULL, NULL, NULL, 0.028712203593541034, 0.6117237290667097}, {true, true, NULL, 0.0022343735066244173, 2_77723668_A_G, NULL, NULL, NULL, 0.02871192207790746, 0.6117196960607658}, {true, true, NULL, 0.002225659524836252, 2_77762338_A_G, NULL, NULL, NULL, 0.028697482478225834, 0.6115126871490103}, {true, true, NULL, 0.0021688707739891976, 2_77727444_T_C, NULL, NULL, NULL, 0.02860260865251864, 0.6101453617374099}, {true, true, NULL, 0.002168020332678473, 2_77738925_T_C, NULL, NULL, NULL, 0.028601177530429938, 0.6101246400960871}, {true, true, NULL, 0.0021648435820904935, 2_77731451_T_G, NULL, NULL, NULL, 0.028595828956881852, 0.6100471710368636}, {true, true, NULL, 0.0021550500814400183, 2_77765153_G_T, NULL, NULL, NULL, 0.028579312715243572, 0.6098076947444665}, {true, true, NULL, 0.0021547168292208587, 2_77762439_C_T, NULL, NULL, NULL, 0.02857874997453912, 0.609799528547516}, {true, true, NULL, 0.002154391413075682, 2_77762940_C_T, NULL, NULL, NULL, 0.028578200419741694, 0.609791553266447}, {true, true, NULL, 0.00209959733004216, 2_77727897_G_A, NULL, NULL, NULL, 0.028485002976341777, 0.6084328520473172}, {true, true, NULL, 0.0020969747926024374, 2_77736917_T_C, NULL, NULL, NULL, 0.02848050885564153, 0.60836702026532}, {true, true, NULL, 0.002094671689390187, 2_77753083_G_T, NULL, NULL, NULL, 0.028476559568356152, 0.6083091455039876}, {true, true, NULL, 0.002082483523248444, 2_77719130_ACGAT_A, NULL, NULL, NULL, 0.028455619557576296, 0.6080019058083644}, {true, true, NULL, 0.001971713279985976, 2_77733934_G_A, NULL, NULL, NULL, 0.028262107513399054, 0.6051323961663782}, {true, true, NULL, 0.0019707970007378246, 2_77754013_T_G, NULL, NULL, NULL, 0.02826048191584785, 0.605108056761722}, {true, true, NULL, 0.0019695660833224846, 2_77725997_G_T, NULL, NULL, NULL, 0.02825829744652545, 0.6050753433836936}, {true, true, NULL, 0.001969251728418109, 2_77724927_T_C, NULL, NULL, NULL, 0.028257739449090723, 0.6050669859862958}]|NULL      |3037499 |0        |0     |NULL           |[EFO_0011015]           |[{nfe, 1.0}]         |Educational attainment                                      |[EFO_0011015]           |[{sas_adj, 0.02466832504145937}, {remaining_adj, 0.017975402081362345}, {nfe_adj, 0.016889607526091432}, {mid_adj, 0.003401360544217687}, {fin_adj, 0.029217719132893498}, {eas_adj, 0.003089996137504828}, {asj_adj, 0.0014400921658986176}, {amr_adj, 0.0814151190164792}, {ami_adj, 0.047149122807017545}, {afr_adj, 0.00526948989412897}]|[{VEP, intron_variant, 0.1, NULL, NULL, 0.10000000149011612}, {GERP, NULL, -2.49, NULL, ENSG00000229494, 0.0424999992052714}]  |[{[SO_0001632], NULL, [], true, NULL, 68745, -70322, NULL, NULL, ENSG00000230968, MODIFIER, NULL, NULL, NULL, 0.0, 4, NULL, lncRNA, ENST00000438443}, {[SO_0001631], NULL, [Q86VH4], true, NULL, 220161, 220161, P4, NM_001134745.3, ENSG00000176204, MODIFIER, NULL, NULL, NULL, 0.0, 6, LRRTM4, protein_coding, ENST00000409884}, {[SO_0001631], NULL, [], true, NULL, 415434, 415434, NULL, NULL, ENSG00000286932, MODIFIER, NULL, NULL, NULL, 0.0, 8, NULL, lncRNA, ENST00000653521}, {[SO_0001631], NULL, [], true, NULL, 346192, 346192, NULL, NULL, ENSG00000229494, MODIFIER, NULL, NULL, NULL, 0.0, 7, NULL, lncRNA, ENST00000665618}, {[SO_0001631], NULL, [], true, NULL, 173333, 173333, NULL, NULL, ENSG00000233605, MODIFIER, NULL, NULL, NULL, 0.0, 5, LINC01851, lncRNA, ENST00000661594}, {[SO_0001631], NULL, [], true, NULL, 50284, 50284, NULL, NULL, ENSG00000237077, MODIFIER, NULL, NULL, NULL, 0.0, 3, RPL38P2, transcribed_processed_pseudogene, ENST00000447303}, {[SO_0001631], NULL, [], true, NULL, 45845, 45845, NULL, NULL, ENSG00000293093, MODIFIER, NULL, NULL, NULL, 0.0, 2, NULL, lncRNA, ENST00000422418}, {[SO_0001627, SO_0001619], NULL, [], true, NULL, 0, -547932, NULL, NULL, ENSG00000227088, MODIFIER, NULL, NULL, NULL, 0.1, 1, NULL, lncRNA, ENST00000667782}]                                                                                                                                                                                                                                                                                                                                                                                                                                                                                                                                                                                                                                                                                                                                                                                                                                                                                                                                                                                                                                                                                                                                                                                                                                                                                                                                                                                                                                                                                                                                                                                                                                                                                                                                                                                                                                                                                                                                                                                                                                                                                                                                                                                                                                                                                                                                                                                                                                                                                                                                                                                                                                                                                                                                                                                                                                                                                                                                                                                                                                                                                                                                                                                                                                                                                                                                                                                                                                                                                                                                                                                                                                                                                                                                                                                                                                                                                                                                                                                                                                                                                                                                                                                                                                                                                                                                                                                                                                                                                                                                                                                                                                                                                                                                                                                                                                                                                                                                                                                                                                                                                                                                                                                                                                                                                                                                                                                                                                                                                                                                                                                                                                                                                                                                                                                                                                                                                                                                                                                                                                                                                                                                                                                                                                                                                                                                                                                                                                                                                                                                                                                                                                                                                                                                                                                                                                                                                                                                                                                                                                                                                                                                                                                                                                                                                                                                                                                                                                                                                                                                                                                                                                                                                                                                                                                                                                                                                                                                                                                                                            |\n",
      "|8_12953425_A_G |gtex_tx_thyroid_enst00000525249|63d1df966c6a3227b7aaab7046426a67|0.355683             |NULL              |1.973         |-9            |0.0583014    |SuSie            |eqtl     |8              |[{true, true, 15.8478618812506, 0.4030465170234884, 8_12953425_A_G, 1.973, -9, 0.355683, 0.0583014, NULL}, {true, true, 15.4441804178329, 0.2691784100167488, 8_12954572_T_A, 2.711, -9, 0.352122, 0.0582369, NULL}, {true, true, 14.3063901371958, 0.08628076999612762, 8_12949453_T_C, 8.627, -9, 0.342344, 0.0585728, NULL}, {true, true, 14.3063901371958, 0.08628076999612762, 8_12949552_T_C, 8.627, -9, 0.342344, 0.0585728, NULL}, {true, true, 13.4033546922994, 0.03497530807542511, 8_12946176_C_G, 4.263, -8, 0.3012, 0.0542064, NULL}, {true, true, 13.2897977095504, 0.031221164395747264, 8_12946558_T_G, 6.002, -8, 0.29498, 0.0536992, NULL}, {true, true, 13.2821089253625, 0.030982046532208957, 8_12946409_C_T, 7.476, -8, 0.294379, 0.0539927, NULL}, {true, true, 11.9321377794389, 0.00803502396412614, 8_12941365_G_C, 1.867, -7, 0.298721, 0.0565923, NULL}]                                                                                                                                                                                                                                                                                                                                                                                                                                                                                                                                                                                                                                                                                                                                                                                                                                                                                                                                                                                                                                                                                                                                                                                                                                                                                                                                                                                                                                                                                                                                                                                                                                                                                                                                                                                                                                                                                                                                                                                                                                                                                                                                                                                                                                                                                                                                                                                                             |false     |574     |NULL     |NULL  |ENSG00000250305|NULL                    |NULL                 |ENST00000525249                                             |NULL                    |[{sas_adj, 0.43085548172757476}, {remaining_adj, 0.35802469135802467}, {nfe_adj, 0.4487081283327932}, {mid_adj, 0.48639455782312924}, {fin_adj, 0.38361742424242423}, {eas_adj, 0.06371406371406371}, {asj_adj, 0.501155401502022}, {amr_adj, 0.28790259230164966}, {ami_adj, 0.6128318584070797}, {afr_adj, 0.15006277767046552}]           |[{VEP, intron_variant, 0.1, NULL, NULL, 0.10000000149011612}, {GERP, NULL, -0.436, NULL, ENSG00000253257, 0.21366667747497559}]|[{[SO_0001632], NULL, [Q96QB1], true, NULL, 129936, -561426, NULL, NM_182643.3, ENSG00000164741, MODIFIER, NULL, NULL, NULL, 0.0, 8, DLC1, protein_coding, ENST00000276297}, {[SO_0001632], NULL, [], true, NULL, 399976, -400105, NULL, NULL, ENSG00000253257, MODIFIER, NULL, NULL, NULL, 0.0, 35, MTND4P7, processed_pseudogene, ENST00000523876}, {[SO_0001632], NULL, [], true, NULL, 386510, -591070, NULL, NULL, ENSG00000227888, MODIFIER, NULL, NULL, NULL, 0.0, 34, FAM66A, lncRNA, ENST00000744306}, {[SO_0001632], NULL, [], true, NULL, 372362, -373138, NULL, NULL, ENSG00000255122, MODIFIER, NULL, NULL, NULL, 0.0, 31, NULL, transcribed_processed_pseudogene, ENST00000533893}, {[SO_0001632], NULL, [], true, NULL, 314823, -314997, NULL, NULL, ENSG00000255253, MODIFIER, NULL, NULL, NULL, 0.0, 26, NULL, processed_pseudogene, ENST00000528506}, {[SO_0001632], NULL, [], true, NULL, 234235, -234293, NULL, NULL, ENSG00000264512, MODIFIER, NULL, NULL, NULL, 0.0, 17, MIR5692A2, miRNA, ENST00000582551}, {[SO_0001632], NULL, [], true, NULL, 226126, -226188, NULL, NULL, ENSG00000283523, MODIFIER, NULL, NULL, NULL, 0.0, 16, MIR3926-2, miRNA, ENST00000636821}, {[SO_0001632], NULL, [], true, NULL, 196741, -197577, NULL, NULL, ENSG00000304794, MODIFIER, NULL, NULL, NULL, 0.0, 12, NULL, lncRNA, ENST00000806311}, {[SO_0001632], NULL, [], true, NULL, 134145, -159185, NULL, NULL, ENSG00000255494, MODIFIER, NULL, NULL, NULL, 0.0, 9, LINC00681, lncRNA, ENST00000795276}, {[SO_0001632], NULL, [], true, NULL, 113728, -123072, NULL, NULL, ENSG00000300589, MODIFIER, NULL, NULL, NULL, 0.0, 7, NULL, lncRNA, ENST00000772828}, {[SO_0001632], NULL, [], true, NULL, 90103, -95541, NULL, NULL, ENSG00000309077, MODIFIER, NULL, NULL, NULL, 0.0, 4, NULL, lncRNA, ENST00000838270}, {[SO_0001631], NULL, [Q17RB8], true, NULL, 197899, 197899, P1, NM_152271.5, ENSG00000154359, MODIFIER, NULL, NULL, NULL, 0.0, 13, LONRF1, protein_coding, ENST00000398246}, {[SO_0001631], NULL, [], true, NULL, 442147, 442147, NULL, NULL, ENSG00000255549, MODIFIER, NULL, NULL, NULL, 0.0, 36, ENPP7P6, transcribed_unprocessed_pseudogene, ENST00000529817}, {[SO_0001631], NULL, [], true, NULL, 385149, 385149, NULL, NULL, ENSG00000253932, MODIFIER, NULL, NULL, NULL, 0.0, 33, NULL, lncRNA, ENST00000523495}, {[SO_0001631], NULL, [], true, NULL, 382295, 382295, NULL, NULL, ENSG00000242607, MODIFIER, NULL, NULL, NULL, 0.0, 32, RPS3AP34, processed_pseudogene, ENST00000483613}, {[SO_0001631], NULL, [], true, NULL, 352049, 352049, NULL, NULL, ENSG00000284746, MODIFIER, NULL, NULL, NULL, 0.0, 30, NULL, transcribed_unprocessed_pseudogene, ENST00000641210}, {[SO_0001631], NULL, [], true, NULL, 345916, 345916, NULL, NULL, ENSG00000284663, MODIFIER, NULL, NULL, NULL, 0.0, 29, NULL, transcribed_unprocessed_pseudogene, ENST00000641239}, {[SO_0001631], NULL, [], true, NULL, 345766, 345766, NULL, NULL, ENSG00000283674, MODIFIER, NULL, NULL, NULL, 0.0, 28, NULL, lncRNA, ENST00000745374}, {[SO_0001631], NULL, [], true, NULL, 324169, 324169, NULL, NULL, ENSG00000244289, MODIFIER, NULL, NULL, NULL, 0.0, 27, RPS3AP35, processed_pseudogene, ENST00000478386}, {[SO_0001631], NULL, [], true, NULL, 306085, 306085, NULL, NULL, ENSG00000297146, MODIFIER, NULL, NULL, NULL, 0.0, 25, NULL, lncRNA, ENST00000745833}, {[SO_0001631], NULL, [], true, NULL, 294077, 294077, NULL, NULL, ENSG00000284724, MODIFIER, NULL, NULL, NULL, 0.0, 24, NULL, transcribed_unprocessed_pseudogene, ENST00000641814}, {[SO_0001631], NULL, [], true, NULL, 287930, 287930, NULL, NULL, ENSG00000284613, MODIFIER, NULL, NULL, NULL, 0.0, 23, NULL, transcribed_unprocessed_pseudogene, ENST00000641602}, {[SO_0001631], NULL, [], true, NULL, 277038, 277038, NULL, NULL, ENSG00000254581, MODIFIER, NULL, NULL, NULL, 0.0, 22, VPS51P19, processed_pseudogene, ENST00000526613}, {[SO_0001631], NULL, [], true, NULL, 268272, 268272, NULL, NULL, ENSG00000177400, MODIFIER, NULL, NULL, NULL, 0.0, 21, OR7E8P, unprocessed_pseudogene, ENST00000532847}, {[SO_0001631], NULL, [], true, NULL, 256152, 256152, NULL, NULL, ENSG00000254917, MODIFIER, NULL, NULL, NULL, 0.0, 20, OR7E15P, transcribed_unprocessed_pseudogene, ENST00000533484}, {[SO_0001631], NULL, [], true, NULL, 249369, 249369, NULL, NULL, ENSG00000254724, MODIFIER, NULL, NULL, NULL, 0.0, 19, OR7E10P, unprocessed_pseudogene, ENST00000526420}, {[SO_0001631], NULL, [], true, NULL, 244970, 244970, NULL, NULL, ENSG00000301987, MODIFIER, NULL, NULL, NULL, 0.0, 18, NULL, lncRNA, ENST00000783213}, {[SO_0001631], NULL, [], true, NULL, 226121, 226121, NULL, NULL, ENSG00000266206, MODIFIER, NULL, NULL, NULL, 0.0, 15, MIR3926-1, miRNA, ENST00000578598}, {[SO_0001631], NULL, [], true, NULL, 206753, 206753, NULL, NULL, ENSG00000200630, MODIFIER, NULL, NULL, NULL, 0.0, 14, Y_RNA, misc_RNA, ENST00000363760}, {[SO_0001631], NULL, [], true, NULL, 193964, 193964, NULL, NULL, ENSG00000287134, MODIFIER, NULL, NULL, NULL, 0.0, 11, NULL, lncRNA, ENST00000662638}, {[SO_0001631], NULL, [], true, NULL, 141947, 141947, NULL, NULL, ENSG00000254813, MODIFIER, NULL, NULL, NULL, 0.0, 10, LINC03019, lncRNA, ENST00000534827}, {[SO_0001631], NULL, [], true, NULL, 96034, 96034, NULL, NULL, ENSG00000303772, MODIFIER, NULL, NULL, NULL, 0.0, 6, NULL, lncRNA, ENST00000797137}, {[SO_0001631], NULL, [], true, NULL, 90925, 90925, NULL, NULL, ENSG00000206996, MODIFIER, NULL, NULL, NULL, 0.0, 5, RNU6-842P, snRNA, ENST00000384269}, {[SO_0001631], NULL, [], true, NULL, 20896, 20896, NULL, NULL, ENSG00000309058, MODIFIER, NULL, NULL, NULL, 0.0, 3, NULL, lncRNA, ENST00000838107}, {[SO_0001631], NULL, [], true, NULL, 4962, 4962, NULL, NULL, ENSG00000251468, MODIFIER, NULL, NULL, NULL, 0.0, 2, NULL, unprocessed_pseudogene, ENST00000506173}, {[SO_0001627], NULL, [Q9P272], true, NULL, 0, -7752, P1, NM_020844.3, ENSG00000250305, MODIFIER, NULL, NULL, NULL, 0.1, 1, TRMT9B, protein_coding, ENST00000524591}]                                                                                                                                                                                                                                                                                                                                                                                                                                                                                                                                                                                                                                                                                                                                                                                                                                                                                                                                                                                                                                                                                                                                                                                                                                                                                                                                                                                                                                                                                                                                                                                                                                                                                                                                                                                                                                                                                                                                                                                                                                                                                                                                                                                                                                                                                                                                                                                                                                                                                                                                                                                                                                                                                                                                                                                                                                                                                                                                                                                                                                                                                                                                                                                                                                             |\n",
      "|1_84062_T_G    |GCST90002350                   |442edae1c936ca79eb37a9a61ec6eeaf|0.170914             |NULL              |3.47          |-9            |0.028909     |PICS             |gwas     |1              |[{true, true, NULL, 1.0, 1_84062_T_G, 3.47, -9, 0.170914, 0.9977000638225533, 1.0}]                                                                                                                                                                                                                                                                                                                                                                                                                                                                                                                                                                                                                                                                                                                                                                                                                                                                                                                                                                                                                                                                                                                                                                                                                                                                                                                                                                                                                                                                                                                                                                                                                                                                                                                                                                                                                                                                                                                                                                                                                                                                                                                                                                                                                                                                                                                                                                                                                                                                                                                                                                                                                                                                                                                                                                                                                                                                                                                                                                                                                                                                                                                                                                                                               |NULL      |13476   |0        |0     |NULL           |[EFO_0004833]           |[{afr, 1.0}]         |Neutrophil count                                            |[EFO_0004833]           |[]                                                                                                                                                                                                                                                                                                                                           |[{VEP, upstream_gene_variant, 0.0, NULL, NULL, 0.0}]                                                                           |[{[SO_0001632], NULL, [Q6IEY1, A0A126GV92], true, NULL, 366678, -367616, P1, NM_001005221.2, ENSG00000284733, MODIFIER, NULL, NULL, NULL, 0.0, 39, OR4F29, protein_coding, ENST00000426406}, {[SO_0001632], NULL, [A0A2U3U0J3], true, NULL, 12477, -18643, P1, NM_001005484.2, ENSG00000186092, MODIFIER, NULL, NULL, NULL, 0.0, 3, OR4F5, protein_coding, ENST00000641515}, {[SO_0001632], NULL, [], true, NULL, 432314, -432417, NULL, NULL, ENSG00000278757, MODIFIER, NULL, NULL, NULL, 0.0, 43, U6, snRNA, ENST00000614007}, {[SO_0001632], NULL, [], true, NULL, 407163, -409179, NULL, NULL, ENSG00000250575, MODIFIER, NULL, NULL, NULL, 0.0, 42, NULL, unprocessed_pseudogene, ENST00000514436}, {[SO_0001632], NULL, [], true, NULL, 400964, -401146, NULL, NULL, ENSG00000237094, MODIFIER, NULL, NULL, NULL, 0.0, 40, NULL, transcribed_unprocessed_pseudogene, ENST00000445840}, {[SO_0001632], NULL, [], true, NULL, 289120, -401146, NULL, NULL, ENSG00000290385, MODIFIER, NULL, NULL, NULL, 0.0, 37, NULL, lncRNA, ENST00000455207}, {[SO_0001632], NULL, [], true, NULL, 263920, -264304, NULL, NULL, ENSG00000236679, MODIFIER, NULL, NULL, NULL, 0.0, 35, RPL23AP24, transcribed_processed_pseudogene, ENST00000458203}, {[SO_0001632], NULL, [], true, NULL, 174506, -174962, NULL, NULL, ENSG00000228463, MODIFIER, NULL, NULL, NULL, 0.0, 32, NULL, transcribed_processed_pseudogene, ENST00000450734}, {[SO_0001632], NULL, [], true, NULL, 174082, -275619, NULL, NULL, ENSG00000292994, MODIFIER, NULL, NULL, NULL, 0.0, 31, NULL, lncRNA, ENST00000441866}, {[SO_0001632], NULL, [], true, NULL, 103829, -103896, NULL, NULL, ENSG00000273874, MODIFIER, NULL, NULL, NULL, 0.0, 28, MIR6859-2, miRNA, ENST00000612080}, {[SO_0001632], NULL, [], true, NULL, 101155, -111349, NULL, NULL, ENSG00000279457, MODIFIER, NULL, NULL, NULL, 0.0, 27, WASH9P, transcribed_unprocessed_pseudogene, ENST00000623083}, {[SO_0001632], NULL, [], true, NULL, 98084, -115810, NULL, NULL, ENSG00000310527, MODIFIER, NULL, NULL, NULL, 0.0, 25, WASH9P, lncRNA, ENST00000831131}, {[SO_0001632], NULL, [], true, NULL, 73722, -73825, NULL, NULL, ENSG00000222623, MODIFIER, NULL, NULL, NULL, 0.0, 22, RNU6-1100P, snRNA, ENST00000410691}, {[SO_0001632], NULL, [], true, NULL, 70392, -72052, NULL, NULL, ENSG00000223972, MODIFIER, NULL, NULL, NULL, 0.0, 21, DDX11L1, transcribed_unprocessed_pseudogene, ENST00000450305}, {[SO_0001632], NULL, [], true, NULL, 59168, -69658, NULL, NULL, ENSG00000290825, MODIFIER, NULL, NULL, NULL, 0.0, 18, DDX11L16, lncRNA, ENST00000832823}, {[SO_0001632], NULL, [], true, NULL, 55728, -56277, NULL, NULL, ENSG00000239906, MODIFIER, NULL, NULL, NULL, 0.0, 17, NULL, lncRNA, ENST00000493797}, {[SO_0001632], NULL, [], true, NULL, 53620, -53903, NULL, NULL, ENSG00000269981, MODIFIER, NULL, NULL, NULL, 0.0, 15, NULL, transcribed_processed_pseudogene, ENST00000595919}, {[SO_0001632], NULL, [], true, NULL, 53559, -53696, NULL, NULL, ENSG00000284332, MODIFIER, NULL, NULL, NULL, 0.0, 14, MIR1302-2, miRNA, ENST00000607096}, {[SO_0001632], NULL, [], true, NULL, 52953, -55085, NULL, NULL, ENSG00000243485, MODIFIER, NULL, NULL, NULL, 0.0, 13, MIR1302-2HG, lncRNA, ENST00000834618}, {[SO_0001632], NULL, [], true, NULL, 51079, -51833, NULL, NULL, ENSG00000268903, MODIFIER, NULL, NULL, NULL, 0.0, 12, NULL, transcribed_processed_pseudogene, ENST00000494149}, {[SO_0001632], NULL, [], true, NULL, 50852, -52184, NULL, NULL, ENSG00000308579, MODIFIER, NULL, NULL, NULL, 0.0, 11, NULL, lncRNA, ENST00000835176}, {[SO_0001632], NULL, [], true, NULL, 43284, -47536, NULL, NULL, ENSG00000308361, MODIFIER, NULL, NULL, NULL, 0.0, 8, NULL, lncRNA, ENST00000833573}, {[SO_0001632], NULL, [], true, NULL, 30750, -31589, NULL, NULL, ENSG00000268020, MODIFIER, NULL, NULL, NULL, 0.0, 7, OR4G4P, transcribed_unprocessed_pseudogene, ENST00000606857}, {[SO_0001632], NULL, [], true, NULL, 20536, -32171, NULL, NULL, ENSG00000290826, MODIFIER, NULL, NULL, NULL, 0.0, 6, NULL, lncRNA, ENST00000832531}, {[SO_0001632], NULL, [], true, NULL, 20175, -21113, NULL, NULL, ENSG00000240361, MODIFIER, NULL, NULL, NULL, 0.0, 5, OR4G11P, transcribed_unprocessed_pseudogene, ENST00000492842}, {[SO_0001632], NULL, [], true, NULL, 7115, -97145, NULL, NULL, ENSG00000241860, MODIFIER, NULL, NULL, NULL, 0.0, 2, NULL, lncRNA, ENST00000831081}, {[SO_0001632], NULL, [], true, NULL, 5489, -7043, NULL, NULL, ENSG00000239945, MODIFIER, NULL, NULL, NULL, 0.0, 1, NULL, lncRNA, ENST00000495576}, {[SO_0001631], NULL, [], true, NULL, 403039, 403039, NULL, NULL, ENSG00000233653, MODIFIER, NULL, NULL, NULL, 0.0, 41, CICP7, transcribed_processed_pseudogene, ENST00000432723}, {[SO_0001631], NULL, [], true, NULL, 355808, 355808, NULL, NULL, ENSG00000269732, MODIFIER, NULL, NULL, NULL, 0.0, 38, WBP1LP7, processed_pseudogene, ENST00000437905}, {[SO_0001631], NULL, [], true, NULL, 272081, 272081, NULL, NULL, ENSG00000236601, MODIFIER, NULL, NULL, NULL, 0.0, 36, NULL, lncRNA, ENST00000797151}, {[SO_0001631], NULL, [], true, NULL, 189160, 189160, NULL, NULL, ENSG00000286448, MODIFIER, NULL, NULL, NULL, 0.0, 34, NULL, lncRNA, ENST00000784892}, {[SO_0001631], NULL, [], true, NULL, 174634, 174634, NULL, NULL, ENSG00000306775, MODIFIER, NULL, NULL, NULL, 0.0, 33, NULL, lncRNA, ENST00000820923}, {[SO_0001631], NULL, [], true, NULL, 115886, 115886, NULL, NULL, ENSG00000308544, MODIFIER, NULL, NULL, NULL, 0.0, 30, NULL, lncRNA, ENST00000834919}, {[SO_0001631], NULL, [], true, NULL, 115046, 115046, NULL, NULL, ENSG00000308625, MODIFIER, NULL, NULL, NULL, 0.0, 29, NULL, lncRNA, ENST00000835446}, {[SO_0001631], NULL, [], true, NULL, 98634, 98634, NULL, NULL, ENSG00000279928, MODIFIER, NULL, NULL, NULL, 0.0, 26, DDX11L17, transcribed_unprocessed_pseudogene, ENST00000624431}, {[SO_0001631], NULL, [], true, NULL, 96869, 96869, NULL, NULL, ENSG00000308415, MODIFIER, NULL, NULL, NULL, 0.0, 24, DDX11L2, lncRNA, ENST00000833856}, {[SO_0001631], NULL, [], true, NULL, 76384, 76384, NULL, NULL, ENSG00000241599, MODIFIER, NULL, NULL, NULL, 0.0, 23, NULL, lncRNA, ENST00000496488}, {[SO_0001631], NULL, [], true, NULL, 66626, 66626, NULL, NULL, ENSG00000278267, MODIFIER, NULL, NULL, NULL, 0.0, 20, MIR6859-1, miRNA, ENST00000619216}, {[SO_0001631], NULL, [], true, NULL, 59176, 59176, NULL, NULL, ENSG00000227232, MODIFIER, NULL, NULL, NULL, 0.0, 19, WASH7P, transcribed_unprocessed_pseudogene, ENST00000488147}, {[SO_0001631], NULL, [], true, NULL, 54305, 54305, NULL, NULL, ENSG00000310526, MODIFIER, NULL, NULL, NULL, 0.0, 16, WASH7P, lncRNA, ENST00000831140}, {[SO_0001631], NULL, [], true, NULL, 46963, 46963, NULL, NULL, ENSG00000233750, MODIFIER, NULL, NULL, NULL, 0.0, 10, CICP27, processed_pseudogene, ENST00000442987}, {[SO_0001631], NULL, [], true, NULL, 46467, 46467, NULL, NULL, ENSG00000237613, MODIFIER, NULL, NULL, NULL, 0.0, 9, FAM138A, lncRNA, ENST00000834250}, {[SO_0001631], NULL, [], true, NULL, 12576, 12576, NULL, NULL, ENSG00000308314, MODIFIER, NULL, NULL, NULL, 0.0, 4, NULL, lncRNA, ENST00000833190}]                                                                                                                                                                                                                                                                                                                                                                                                                                                                                                                                                                                                                                                                                                                                                                                                                                                                                                                                                                                                                                                                                                                                                                                                                                                                                                                                                                                                                                                                                                                                                                                                                                                                                                                                                                                                                                                                                                                                                                                                                                                                                                 |\n",
      "|17_17436203_C_G|GCST90014006                   |eac7a8086989c3b73da047fac671903e|-0.010424135383216394|-5.793110795798486|6.909449      |-9            |NULL         |SuSiE-inf        |gwas     |5              |[{true, true, 19.793567901698346, 0.23881091674241586, 17_17436203_C_G, NULL, NULL, -0.010424135383216394, NULL, NULL}, {true, true, 19.786686112941936, 0.23717311243602882, 17_17437198_T_C, NULL, NULL, -0.010422481538796272, NULL, NULL}, {true, true, 19.65244181636768, 0.20737857966224937, 17_17440808_T_C, NULL, NULL, -0.010390167042321263, NULL, NULL}, {true, true, 19.42574613049158, 0.16531459984840297, 17_17434525_G_C, NULL, NULL, -0.010335368830364108, NULL, NULL}, {true, true, 19.333582159075355, 0.1507595755287868, 17_17434247_T_A, NULL, NULL, -0.010313007163070417, NULL, NULL}]                                                                                                                                                                                                                                                                                                                                                                                                                                                                                                                                                                                                                                                                                                                                                                                                                                                                                                                                                                                                                                                                                                                                                                                                                                                                                                                                                                                                                                                                                                                                                                                                                                                                                                                                                                                                                                                                                                                                                                                                                                                                                                                                                                                                                                                                                                                                                                                                                                                                                                                                                                                                                                                                                  |NULL      |389889  |0        |0     |NULL           |[EFO_0004541]           |[{nfe, 1.0}]         |Glycated haemoglobin HbA1c levels (UKB data field 30750)    |[EFO_0004541]           |[{sas_adj, 0.6904761904761905}, {remaining_adj, 0.5944919278252612}, {nfe_adj, 0.5725218981331288}, {mid_adj, 0.6054421768707483}, {fin_adj, 0.5321626264554304}, {eas_adj, 0.4536410664544369}, {asj_adj, 0.5132794457274826}, {amr_adj, 0.5664785404908781}, {ami_adj, 0.6039823008849557}, {afr_adj, 0.8293136781053649}]                 |[{VEP, upstream_gene_variant, 0.0, NULL, NULL, 0.0}, {GERP, NULL, -0.931, NULL, ENSG00000295736, 0.17241666714350382}]         |[{[SO_0001632], NULL, [Q9Y272], true, NULL, 58234, -60192, P1, NM_016084.5, ENSG00000108551, MODIFIER, NULL, NULL, NULL, 0.0, 10, RASD1, protein_coding, ENST00000225688}, {[SO_0001632], NULL, [Q9UBM1], true, NULL, 69360, -155505, NULL, NM_148172.3, ENSG00000133027, MODIFIER, NULL, NULL, NULL, 0.0, 12, PEMT, protein_coding, ENST00000255389}, {[SO_0001632], NULL, [Q9NPB1], true, NULL, 88540, -132830, P1, NM_020201.4, ENSG00000205309, MODIFIER, NULL, NULL, NULL, 0.0, 16, NT5M, protein_coding, ENST00000389022}, {[SO_0001632], NULL, [Q6ZVM7], true, NULL, 407308, -536197, P1, NM_001082968.2, ENSG00000175662, MODIFIER, NULL, NULL, NULL, 0.0, 51, TOM1L2, protein_coding, ENST00000379504}, {[SO_0001632], NULL, [P36956], true, NULL, 375131, -400783, P4, NM_004176.5, ENSG00000072310, MODIFIER, NULL, NULL, NULL, 0.0, 44, SREBF1, protein_coding, ENST00000261646}, {[SO_0001632], NULL, [A0A494BZV2], true, NULL, 243560, -393746, A2, NM_001364716.4, ENSG00000133030, MODIFIER, NULL, NULL, NULL, 0.0, 31, MPRIP, protein_coding, ENST00000651222}, {[SO_0001632], NULL, [], true, NULL, 489033, -542548, NULL, NULL, ENSG00000307457, MODIFIER, NULL, NULL, NULL, 0.0, 57, NULL, lncRNA, ENST00000826416}, {[SO_0001632], NULL, [], true, NULL, 422621, -447750, NULL, NULL, ENSG00000230969, MODIFIER, NULL, NULL, NULL, 0.0, 54, LINC02090, lncRNA, ENST00000841732}, {[SO_0001632], NULL, [], true, NULL, 399920, -407833, NULL, NULL, ENSG00000287114, MODIFIER, NULL, NULL, NULL, 0.0, 48, NULL, lncRNA, ENST00000731890}, {[SO_0001632], NULL, [], true, NULL, 377633, -377728, NULL, NULL, ENSG00000207839, MODIFIER, NULL, NULL, NULL, 0.0, 46, MIR33B, miRNA, ENST00000385104}, {[SO_0001632], NULL, [], true, NULL, 377277, -377342, NULL, NULL, ENSG00000274111, MODIFIER, NULL, NULL, NULL, 0.0, 45, MIR6777, miRNA, ENST00000613934}, {[SO_0001632], NULL, [], true, NULL, 340483, -343326, NULL, NULL, ENSG00000226746, MODIFIER, NULL, NULL, NULL, 0.0, 41, SMCR5, lncRNA, ENST00000543475}, {[SO_0001632], NULL, [], true, NULL, 339340, -347336, NULL, NULL, ENSG00000299826, MODIFIER, NULL, NULL, NULL, 0.0, 40, NULL, lncRNA, ENST00000766680}, {[SO_0001632], NULL, [], true, NULL, 322759, -338481, NULL, NULL, ENSG00000237328, MODIFIER, NULL, NULL, NULL, 0.0, 39, RAI1-AS1, lncRNA, ENST00000798447}, {[SO_0001632], NULL, [], true, NULL, 266014, -266120, NULL, NULL, ENSG00000206859, MODIFIER, NULL, NULL, NULL, 0.0, 37, RNU6-767P, snRNA, ENST00000384132}, {[SO_0001632], NULL, [], true, NULL, 257454, -257789, NULL, NULL, ENSG00000243370, MODIFIER, NULL, NULL, NULL, 0.0, 36, RN7SL775P, misc_RNA, ENST00000498361}, {[SO_0001632], NULL, [], true, NULL, 252946, -254699, NULL, NULL, ENSG00000278864, MODIFIER, NULL, NULL, NULL, 0.0, 35, NULL, TEC, ENST00000624039}, {[SO_0001632], NULL, [], true, NULL, 237823, -241485, NULL, NULL, ENSG00000223979, MODIFIER, NULL, NULL, NULL, 0.0, 28, SMCR2, lncRNA, ENST00000456090}, {[SO_0001632], NULL, [], true, NULL, 195982, -196558, NULL, NULL, ENSG00000306341, MODIFIER, NULL, NULL, NULL, 0.0, 24, NULL, lncRNA, ENST00000817030}, {[SO_0001632], NULL, [], true, NULL, 193317, -194193, NULL, NULL, ENSG00000226359, MODIFIER, NULL, NULL, NULL, 0.0, 23, ACTG1P24, processed_pseudogene, ENST00000423783}, {[SO_0001632], NULL, [], true, NULL, 187030, -198533, NULL, NULL, ENSG00000294588, MODIFIER, NULL, NULL, NULL, 0.0, 22, NULL, lncRNA, ENST00000724562}, {[SO_0001632], NULL, [], true, NULL, 107955, -132148, NULL, NULL, ENSG00000306320, MODIFIER, NULL, NULL, NULL, 0.0, 17, NULL, lncRNA, ENST00000816970}, {[SO_0001632], NULL, [], true, NULL, 83495, -83795, NULL, NULL, ENSG00000295736, MODIFIER, NULL, NULL, NULL, 0.0, 15, NULL, lncRNA, ENST00000732269}, {[SO_0001632], NULL, [], true, NULL, 71643, -72328, NULL, NULL, ENSG00000302651, MODIFIER, NULL, NULL, NULL, 0.0, 14, NULL, lncRNA, ENST00000788546}, {[SO_0001632], NULL, [], true, NULL, 43584, -44391, NULL, NULL, ENSG00000290056, MODIFIER, NULL, NULL, NULL, 0.0, 8, NULL, lncRNA, ENST00000702706}, {[SO_0001632], NULL, [], true, NULL, 13073, -15571, NULL, NULL, ENSG00000306254, MODIFIER, NULL, NULL, NULL, 0.0, 3, NULL, lncRNA, ENST00000816476}, {[SO_0001632], NULL, [], true, NULL, 12499, -13522, NULL, NULL, ENSG00000227158, MODIFIER, NULL, NULL, NULL, 0.0, 2, NULL, transcribed_processed_pseudogene, ENST00000381380}, {[SO_0001632], NULL, [], true, NULL, 7129, -9926, NULL, NULL, ENSG00000297887, MODIFIER, NULL, NULL, NULL, 0.0, 1, NULL, lncRNA, ENST00000751551}, {[SO_0001631], NULL, [Q9UNS2], true, NULL, 154957, 154957, P1, NM_003653.4, ENSG00000141030, MODIFIER, NULL, NULL, NULL, 0.0, 19, COPS3, protein_coding, ENST00000268717}, {[SO_0001631], NULL, [Q9NWA0], true, NULL, 40797, 40797, P1, NM_018019.3, ENSG00000141026, MODIFIER, NULL, NULL, NULL, 0.0, 7, MED9, protein_coding, ENST00000268711}, {[SO_0001631], NULL, [Q8NFG4], true, NULL, 199035, 199035, P1, NM_144997.7, ENSG00000154803, MODIFIER, NULL, NULL, NULL, 0.0, 25, FLCN, protein_coding, ENST00000285071}, {[SO_0001631], NULL, [Q8N2A8], true, NULL, 229870, 229870, P1, NM_178836.4, ENSG00000179598, MODIFIER, NULL, NULL, NULL, 0.0, 27, PLD6, protein_coding, ENST00000321560}, {[SO_0001631], NULL, [Q7Z5J4], true, NULL, 245255, 245255, P1, NM_030665.4, ENSG00000108557, MODIFIER, NULL, NULL, NULL, 0.0, 32, RAI1, protein_coding, ENST00000353383}, {[SO_0001631], NULL, [O14836, Q4ACX1], true, NULL, 464085, 464085, P2, NM_012452.3, ENSG00000240505, MODIFIER, NULL, NULL, NULL, 0.0, 56, TNFRSF13B, protein_coding, ENST00000261652}, {[SO_0001631], NULL, [], true, NULL, 454850, 454850, NULL, NULL, ENSG00000230709, MODIFIER, NULL, NULL, NULL, 0.0, 55, NULL, lncRNA, ENST00000428142}, {[SO_0001631], NULL, [], true, NULL, 422024, 422024, NULL, NULL, ENSG00000197815, MODIFIER, NULL, NULL, NULL, 0.0, 53, NULL, lncRNA, ENST00000354746}, {[SO_0001631], NULL, [], true, NULL, 421151, 421151, NULL, NULL, ENSG00000260328, MODIFIER, NULL, NULL, NULL, 0.0, 52, NULL, lncRNA, ENST00000562897}, {[SO_0001631], NULL, [], true, NULL, 406340, 406340, NULL, NULL, ENSG00000301763, MODIFIER, NULL, NULL, NULL, 0.0, 50, NULL, lncRNA, ENST00000781607}, {[SO_0001631], NULL, [], true, NULL, 404086, 404086, NULL, NULL, ENSG00000303242, MODIFIER, NULL, NULL, NULL, 0.0, 49, NULL, lncRNA, ENST00000793152}, {[SO_0001631], NULL, [], true, NULL, 393898, 393898, NULL, NULL, ENSG00000287910, MODIFIER, NULL, NULL, NULL, 0.0, 47, NULL, lncRNA, ENST00000731777}, {[SO_0001631], NULL, [], true, NULL, 358451, 358451, NULL, NULL, ENSG00000225442, MODIFIER, NULL, NULL, NULL, 0.0, 43, MPRIP-AS1, lncRNA, ENST00000428367}, {[SO_0001631], NULL, [], true, NULL, 341578, 341578, NULL, NULL, ENSG00000264167, MODIFIER, NULL, NULL, NULL, 0.0, 42, NULL, lncRNA, ENST00000583598}, {[SO_0001631], NULL, [], true, NULL, 316178, 316178, NULL, NULL, ENSG00000294595, MODIFIER, NULL, NULL, NULL, 0.0, 38, NULL, lncRNA, ENST00000724591}, {[SO_0001631], NULL, [], true, NULL, 250649, 250649, NULL, NULL, ENSG00000263624, MODIFIER, NULL, NULL, NULL, 0.0, 34, NULL, lncRNA, ENST00000584203}, {[SO_0001631], NULL, [], true, NULL, 249881, 249881, NULL, NULL, ENSG00000294573, MODIFIER, NULL, NULL, NULL, 0.0, 33, NULL, lncRNA, ENST00000724466}, {[SO_0001631], NULL, [], true, NULL, 240008, 240008, NULL, NULL, ENSG00000274836, MODIFIER, NULL, NULL, NULL, 0.0, 30, NULL, misc_RNA, ENST00000619783}, {[SO_0001631], NULL, [], true, NULL, 239163, 239163, NULL, NULL, ENSG00000273948, MODIFIER, NULL, NULL, NULL, 0.0, 29, NULL, misc_RNA, ENST00000621493}, {[SO_0001631], NULL, [], true, NULL, 200085, 200085, NULL, NULL, ENSG00000266498, MODIFIER, NULL, NULL, NULL, 0.0, 26, NULL, lncRNA, ENST00000584952}, {[SO_0001631], NULL, [], true, NULL, 179840, 179840, NULL, NULL, ENSG00000279200, MODIFIER, NULL, NULL, NULL, 0.0, 21, NULL, TEC, ENST00000623335}, {[SO_0001631], NULL, [], true, NULL, 155297, 155297, NULL, NULL, ENSG00000264666, MODIFIER, NULL, NULL, NULL, 0.0, 20, NULL, lncRNA, ENST00000816800}, {[SO_0001631], NULL, [], true, NULL, 142428, 142428, NULL, NULL, ENSG00000206730, MODIFIER, NULL, NULL, NULL, 0.0, 18, RNU6-468P, snRNA, ENST00000384003}, {[SO_0001631], NULL, [], true, NULL, 71148, 71148, NULL, NULL, ENSG00000265511, MODIFIER, NULL, NULL, NULL, 0.0, 13, NULL, lncRNA, ENST00000582325}, {[SO_0001631], NULL, [], true, NULL, 67802, 67802, NULL, NULL, ENSG00000286430, MODIFIER, NULL, NULL, NULL, 0.0, 11, NULL, lncRNA, ENST00000671231}, {[SO_0001631], NULL, [], true, NULL, 52191, 52191, NULL, NULL, ENSG00000215030, MODIFIER, NULL, NULL, NULL, 0.0, 9, RPL13P12, processed_pseudogene, ENST00000392730}, {[SO_0001631], NULL, [], true, NULL, 27794, 27794, NULL, NULL, ENSG00000300301, MODIFIER, NULL, NULL, NULL, 0.0, 6, NULL, lncRNA, ENST00000770697}, {[SO_0001631], NULL, [], true, NULL, 24241, 24241, NULL, NULL, ENSG00000201741, MODIFIER, NULL, NULL, NULL, 0.0, 5, Y_RNA, misc_RNA, ENST00000364871}, {[SO_0001631], NULL, [], true, NULL, 20224, 20224, NULL, NULL, ENSG00000230865, MODIFIER, NULL, NULL, NULL, 0.0, 4, TSEN15P1, processed_pseudogene, ENST00000423257}]|\n",
      "|17_17436203_C_G|GCST90475332                   |97114c0904b60a513dbb3ab41ce9e2f0|-0.02678             |NULL              |8.157         |-24           |0.002661     |PICS             |gwas     |5              |[{true, true, NULL, 0.40003994363342443, 17_17436203_C_G, 8.157, -24, -0.02678, 0.9977000638225533, 1.0}, {true, true, NULL, 0.16747990912353736, 17_17434525_G_C, NULL, NULL, NULL, 0.2336684933356886, 0.9778830851769571}, {true, true, NULL, 0.14901159601155917, 17_17437198_T_C, NULL, NULL, NULL, 0.20291807394619105, 0.9732445601475296}, {true, true, NULL, 0.14476581687232573, 17_17434247_T_A, NULL, NULL, NULL, 0.19621303336136153, 0.9720689654524282}, {true, true, NULL, 0.12992307544717013, 17_17440808_T_C, NULL, NULL, NULL, 0.1737682759846085, 0.9675857609385662}]                                                                                                                                                                                                                                                                                                                                                                                                                                                                                                                                                                                                                                                                                                                                                                                                                                                                                                                                                                                                                                                                                                                                                                                                                                                                                                                                                                                                                                                                                                                                                                                                                                                                                                                                                                                                                                                                                                                                                                                                                                                                                                                                                                                                                                                                                                                                                                                                                                                                                                                                                                                                                                                                                                       |NULL      |419946  |0        |0     |NULL           |[EFO_0004468]           |[{nfe, 1.0}]         |Glucose (fasting status unknown, mean, inv-norm transformed)|[EFO_0004468]           |[{sas_adj, 0.6904761904761905}, {remaining_adj, 0.5944919278252612}, {nfe_adj, 0.5725218981331288}, {mid_adj, 0.6054421768707483}, {fin_adj, 0.5321626264554304}, {eas_adj, 0.4536410664544369}, {asj_adj, 0.5132794457274826}, {amr_adj, 0.5664785404908781}, {ami_adj, 0.6039823008849557}, {afr_adj, 0.8293136781053649}]                 |[{VEP, upstream_gene_variant, 0.0, NULL, NULL, 0.0}, {GERP, NULL, -0.931, NULL, ENSG00000295736, 0.17241666714350382}]         |[{[SO_0001632], NULL, [Q9Y272], true, NULL, 58234, -60192, P1, NM_016084.5, ENSG00000108551, MODIFIER, NULL, NULL, NULL, 0.0, 10, RASD1, protein_coding, ENST00000225688}, {[SO_0001632], NULL, [Q9UBM1], true, NULL, 69360, -155505, NULL, NM_148172.3, ENSG00000133027, MODIFIER, NULL, NULL, NULL, 0.0, 12, PEMT, protein_coding, ENST00000255389}, {[SO_0001632], NULL, [Q9NPB1], true, NULL, 88540, -132830, P1, NM_020201.4, ENSG00000205309, MODIFIER, NULL, NULL, NULL, 0.0, 16, NT5M, protein_coding, ENST00000389022}, {[SO_0001632], NULL, [Q6ZVM7], true, NULL, 407308, -536197, P1, NM_001082968.2, ENSG00000175662, MODIFIER, NULL, NULL, NULL, 0.0, 51, TOM1L2, protein_coding, ENST00000379504}, {[SO_0001632], NULL, [P36956], true, NULL, 375131, -400783, P4, NM_004176.5, ENSG00000072310, MODIFIER, NULL, NULL, NULL, 0.0, 44, SREBF1, protein_coding, ENST00000261646}, {[SO_0001632], NULL, [A0A494BZV2], true, NULL, 243560, -393746, A2, NM_001364716.4, ENSG00000133030, MODIFIER, NULL, NULL, NULL, 0.0, 31, MPRIP, protein_coding, ENST00000651222}, {[SO_0001632], NULL, [], true, NULL, 489033, -542548, NULL, NULL, ENSG00000307457, MODIFIER, NULL, NULL, NULL, 0.0, 57, NULL, lncRNA, ENST00000826416}, {[SO_0001632], NULL, [], true, NULL, 422621, -447750, NULL, NULL, ENSG00000230969, MODIFIER, NULL, NULL, NULL, 0.0, 54, LINC02090, lncRNA, ENST00000841732}, {[SO_0001632], NULL, [], true, NULL, 399920, -407833, NULL, NULL, ENSG00000287114, MODIFIER, NULL, NULL, NULL, 0.0, 48, NULL, lncRNA, ENST00000731890}, {[SO_0001632], NULL, [], true, NULL, 377633, -377728, NULL, NULL, ENSG00000207839, MODIFIER, NULL, NULL, NULL, 0.0, 46, MIR33B, miRNA, ENST00000385104}, {[SO_0001632], NULL, [], true, NULL, 377277, -377342, NULL, NULL, ENSG00000274111, MODIFIER, NULL, NULL, NULL, 0.0, 45, MIR6777, miRNA, ENST00000613934}, {[SO_0001632], NULL, [], true, NULL, 340483, -343326, NULL, NULL, ENSG00000226746, MODIFIER, NULL, NULL, NULL, 0.0, 41, SMCR5, lncRNA, ENST00000543475}, {[SO_0001632], NULL, [], true, NULL, 339340, -347336, NULL, NULL, ENSG00000299826, MODIFIER, NULL, NULL, NULL, 0.0, 40, NULL, lncRNA, ENST00000766680}, {[SO_0001632], NULL, [], true, NULL, 322759, -338481, NULL, NULL, ENSG00000237328, MODIFIER, NULL, NULL, NULL, 0.0, 39, RAI1-AS1, lncRNA, ENST00000798447}, {[SO_0001632], NULL, [], true, NULL, 266014, -266120, NULL, NULL, ENSG00000206859, MODIFIER, NULL, NULL, NULL, 0.0, 37, RNU6-767P, snRNA, ENST00000384132}, {[SO_0001632], NULL, [], true, NULL, 257454, -257789, NULL, NULL, ENSG00000243370, MODIFIER, NULL, NULL, NULL, 0.0, 36, RN7SL775P, misc_RNA, ENST00000498361}, {[SO_0001632], NULL, [], true, NULL, 252946, -254699, NULL, NULL, ENSG00000278864, MODIFIER, NULL, NULL, NULL, 0.0, 35, NULL, TEC, ENST00000624039}, {[SO_0001632], NULL, [], true, NULL, 237823, -241485, NULL, NULL, ENSG00000223979, MODIFIER, NULL, NULL, NULL, 0.0, 28, SMCR2, lncRNA, ENST00000456090}, {[SO_0001632], NULL, [], true, NULL, 195982, -196558, NULL, NULL, ENSG00000306341, MODIFIER, NULL, NULL, NULL, 0.0, 24, NULL, lncRNA, ENST00000817030}, {[SO_0001632], NULL, [], true, NULL, 193317, -194193, NULL, NULL, ENSG00000226359, MODIFIER, NULL, NULL, NULL, 0.0, 23, ACTG1P24, processed_pseudogene, ENST00000423783}, {[SO_0001632], NULL, [], true, NULL, 187030, -198533, NULL, NULL, ENSG00000294588, MODIFIER, NULL, NULL, NULL, 0.0, 22, NULL, lncRNA, ENST00000724562}, {[SO_0001632], NULL, [], true, NULL, 107955, -132148, NULL, NULL, ENSG00000306320, MODIFIER, NULL, NULL, NULL, 0.0, 17, NULL, lncRNA, ENST00000816970}, {[SO_0001632], NULL, [], true, NULL, 83495, -83795, NULL, NULL, ENSG00000295736, MODIFIER, NULL, NULL, NULL, 0.0, 15, NULL, lncRNA, ENST00000732269}, {[SO_0001632], NULL, [], true, NULL, 71643, -72328, NULL, NULL, ENSG00000302651, MODIFIER, NULL, NULL, NULL, 0.0, 14, NULL, lncRNA, ENST00000788546}, {[SO_0001632], NULL, [], true, NULL, 43584, -44391, NULL, NULL, ENSG00000290056, MODIFIER, NULL, NULL, NULL, 0.0, 8, NULL, lncRNA, ENST00000702706}, {[SO_0001632], NULL, [], true, NULL, 13073, -15571, NULL, NULL, ENSG00000306254, MODIFIER, NULL, NULL, NULL, 0.0, 3, NULL, lncRNA, ENST00000816476}, {[SO_0001632], NULL, [], true, NULL, 12499, -13522, NULL, NULL, ENSG00000227158, MODIFIER, NULL, NULL, NULL, 0.0, 2, NULL, transcribed_processed_pseudogene, ENST00000381380}, {[SO_0001632], NULL, [], true, NULL, 7129, -9926, NULL, NULL, ENSG00000297887, MODIFIER, NULL, NULL, NULL, 0.0, 1, NULL, lncRNA, ENST00000751551}, {[SO_0001631], NULL, [Q9UNS2], true, NULL, 154957, 154957, P1, NM_003653.4, ENSG00000141030, MODIFIER, NULL, NULL, NULL, 0.0, 19, COPS3, protein_coding, ENST00000268717}, {[SO_0001631], NULL, [Q9NWA0], true, NULL, 40797, 40797, P1, NM_018019.3, ENSG00000141026, MODIFIER, NULL, NULL, NULL, 0.0, 7, MED9, protein_coding, ENST00000268711}, {[SO_0001631], NULL, [Q8NFG4], true, NULL, 199035, 199035, P1, NM_144997.7, ENSG00000154803, MODIFIER, NULL, NULL, NULL, 0.0, 25, FLCN, protein_coding, ENST00000285071}, {[SO_0001631], NULL, [Q8N2A8], true, NULL, 229870, 229870, P1, NM_178836.4, ENSG00000179598, MODIFIER, NULL, NULL, NULL, 0.0, 27, PLD6, protein_coding, ENST00000321560}, {[SO_0001631], NULL, [Q7Z5J4], true, NULL, 245255, 245255, P1, NM_030665.4, ENSG00000108557, MODIFIER, NULL, NULL, NULL, 0.0, 32, RAI1, protein_coding, ENST00000353383}, {[SO_0001631], NULL, [O14836, Q4ACX1], true, NULL, 464085, 464085, P2, NM_012452.3, ENSG00000240505, MODIFIER, NULL, NULL, NULL, 0.0, 56, TNFRSF13B, protein_coding, ENST00000261652}, {[SO_0001631], NULL, [], true, NULL, 454850, 454850, NULL, NULL, ENSG00000230709, MODIFIER, NULL, NULL, NULL, 0.0, 55, NULL, lncRNA, ENST00000428142}, {[SO_0001631], NULL, [], true, NULL, 422024, 422024, NULL, NULL, ENSG00000197815, MODIFIER, NULL, NULL, NULL, 0.0, 53, NULL, lncRNA, ENST00000354746}, {[SO_0001631], NULL, [], true, NULL, 421151, 421151, NULL, NULL, ENSG00000260328, MODIFIER, NULL, NULL, NULL, 0.0, 52, NULL, lncRNA, ENST00000562897}, {[SO_0001631], NULL, [], true, NULL, 406340, 406340, NULL, NULL, ENSG00000301763, MODIFIER, NULL, NULL, NULL, 0.0, 50, NULL, lncRNA, ENST00000781607}, {[SO_0001631], NULL, [], true, NULL, 404086, 404086, NULL, NULL, ENSG00000303242, MODIFIER, NULL, NULL, NULL, 0.0, 49, NULL, lncRNA, ENST00000793152}, {[SO_0001631], NULL, [], true, NULL, 393898, 393898, NULL, NULL, ENSG00000287910, MODIFIER, NULL, NULL, NULL, 0.0, 47, NULL, lncRNA, ENST00000731777}, {[SO_0001631], NULL, [], true, NULL, 358451, 358451, NULL, NULL, ENSG00000225442, MODIFIER, NULL, NULL, NULL, 0.0, 43, MPRIP-AS1, lncRNA, ENST00000428367}, {[SO_0001631], NULL, [], true, NULL, 341578, 341578, NULL, NULL, ENSG00000264167, MODIFIER, NULL, NULL, NULL, 0.0, 42, NULL, lncRNA, ENST00000583598}, {[SO_0001631], NULL, [], true, NULL, 316178, 316178, NULL, NULL, ENSG00000294595, MODIFIER, NULL, NULL, NULL, 0.0, 38, NULL, lncRNA, ENST00000724591}, {[SO_0001631], NULL, [], true, NULL, 250649, 250649, NULL, NULL, ENSG00000263624, MODIFIER, NULL, NULL, NULL, 0.0, 34, NULL, lncRNA, ENST00000584203}, {[SO_0001631], NULL, [], true, NULL, 249881, 249881, NULL, NULL, ENSG00000294573, MODIFIER, NULL, NULL, NULL, 0.0, 33, NULL, lncRNA, ENST00000724466}, {[SO_0001631], NULL, [], true, NULL, 240008, 240008, NULL, NULL, ENSG00000274836, MODIFIER, NULL, NULL, NULL, 0.0, 30, NULL, misc_RNA, ENST00000619783}, {[SO_0001631], NULL, [], true, NULL, 239163, 239163, NULL, NULL, ENSG00000273948, MODIFIER, NULL, NULL, NULL, 0.0, 29, NULL, misc_RNA, ENST00000621493}, {[SO_0001631], NULL, [], true, NULL, 200085, 200085, NULL, NULL, ENSG00000266498, MODIFIER, NULL, NULL, NULL, 0.0, 26, NULL, lncRNA, ENST00000584952}, {[SO_0001631], NULL, [], true, NULL, 179840, 179840, NULL, NULL, ENSG00000279200, MODIFIER, NULL, NULL, NULL, 0.0, 21, NULL, TEC, ENST00000623335}, {[SO_0001631], NULL, [], true, NULL, 155297, 155297, NULL, NULL, ENSG00000264666, MODIFIER, NULL, NULL, NULL, 0.0, 20, NULL, lncRNA, ENST00000816800}, {[SO_0001631], NULL, [], true, NULL, 142428, 142428, NULL, NULL, ENSG00000206730, MODIFIER, NULL, NULL, NULL, 0.0, 18, RNU6-468P, snRNA, ENST00000384003}, {[SO_0001631], NULL, [], true, NULL, 71148, 71148, NULL, NULL, ENSG00000265511, MODIFIER, NULL, NULL, NULL, 0.0, 13, NULL, lncRNA, ENST00000582325}, {[SO_0001631], NULL, [], true, NULL, 67802, 67802, NULL, NULL, ENSG00000286430, MODIFIER, NULL, NULL, NULL, 0.0, 11, NULL, lncRNA, ENST00000671231}, {[SO_0001631], NULL, [], true, NULL, 52191, 52191, NULL, NULL, ENSG00000215030, MODIFIER, NULL, NULL, NULL, 0.0, 9, RPL13P12, processed_pseudogene, ENST00000392730}, {[SO_0001631], NULL, [], true, NULL, 27794, 27794, NULL, NULL, ENSG00000300301, MODIFIER, NULL, NULL, NULL, 0.0, 6, NULL, lncRNA, ENST00000770697}, {[SO_0001631], NULL, [], true, NULL, 24241, 24241, NULL, NULL, ENSG00000201741, MODIFIER, NULL, NULL, NULL, 0.0, 5, Y_RNA, misc_RNA, ENST00000364871}, {[SO_0001631], NULL, [], true, NULL, 20224, 20224, NULL, NULL, ENSG00000230865, MODIFIER, NULL, NULL, NULL, 0.0, 4, TSEN15P1, processed_pseudogene, ENST00000423257}]|\n",
      "+---------------+-------------------------------+--------------------------------+---------------------+------------------+--------------+--------------+-------------+-----------------+---------+---------------+--------------------------------------------------------------------------------------------------------------------------------------------------------------------------------------------------------------------------------------------------------------------------------------------------------------------------------------------------------------------------------------------------------------------------------------------------------------------------------------------------------------------------------------------------------------------------------------------------------------------------------------------------------------------------------------------------------------------------------------------------------------------------------------------------------------------------------------------------------------------------------------------------------------------------------------------------------------------------------------------------------------------------------------------------------------------------------------------------------------------------------------------------------------------------------------------------------------------------------------------------------------------------------------------------------------------------------------------------------------------------------------------------------------------------------------------------------------------------------------------------------------------------------------------------------------------------------------------------------------------------------------------------------------------------------------------------------------------------------------------------------------------------------------------------------------------------------------------------------------------------------------------------------------------------------------------------------------------------------------------------------------------------------------------------------------------------------------------------------------------------------------------------------------------------------------------------------------------------------------------------------------------------------------------------------------------------------------------------------------------------------------------------------------------------------------------------------------------------------------------------------------------------------------------------------------------------------------------------------------------------------------------------------------------------------------------------------------------------------------------------------------------------------------------------------------------------------------------------------------------------------------------------------------------------------------------------------------------------------------------------------------------------------------------------------------------------------------------------------------------------------------------------------------------------------------------------------------------------------------------------------------------------------------------------+----------+--------+---------+------+---------------+------------------------+---------------------+------------------------------------------------------------+------------------------+---------------------------------------------------------------------------------------------------------------------------------------------------------------------------------------------------------------------------------------------------------------------------------------------------------------------------------------------+-------------------------------------------------------------------------------------------------------------------------------+-----------------------------------------------------------------------------------------------------------------------------------------------------------------------------------------------------------------------------------------------------------------------------------------------------------------------------------------------------------------------------------------------------------------------------------------------------------------------------------------------------------------------------------------------------------------------------------------------------------------------------------------------------------------------------------------------------------------------------------------------------------------------------------------------------------------------------------------------------------------------------------------------------------------------------------------------------------------------------------------------------------------------------------------------------------------------------------------------------------------------------------------------------------------------------------------------------------------------------------------------------------------------------------------------------------------------------------------------------------------------------------------------------------------------------------------------------------------------------------------------------------------------------------------------------------------------------------------------------------------------------------------------------------------------------------------------------------------------------------------------------------------------------------------------------------------------------------------------------------------------------------------------------------------------------------------------------------------------------------------------------------------------------------------------------------------------------------------------------------------------------------------------------------------------------------------------------------------------------------------------------------------------------------------------------------------------------------------------------------------------------------------------------------------------------------------------------------------------------------------------------------------------------------------------------------------------------------------------------------------------------------------------------------------------------------------------------------------------------------------------------------------------------------------------------------------------------------------------------------------------------------------------------------------------------------------------------------------------------------------------------------------------------------------------------------------------------------------------------------------------------------------------------------------------------------------------------------------------------------------------------------------------------------------------------------------------------------------------------------------------------------------------------------------------------------------------------------------------------------------------------------------------------------------------------------------------------------------------------------------------------------------------------------------------------------------------------------------------------------------------------------------------------------------------------------------------------------------------------------------------------------------------------------------------------------------------------------------------------------------------------------------------------------------------------------------------------------------------------------------------------------------------------------------------------------------------------------------------------------------------------------------------------------------------------------------------------------------------------------------------------------------------------------------------------------------------------------------------------------------------------------------------------------------------------------------------------------------------------------------------------------------------------------------------------------------------------------------------------------------------------------------------------------------------------------------------------------------------------------------------------------------------------------------------------------------------------------------------------------------------------------------------------------------------------------------------------------------------------------------------------------------------------------------------------------------------------------------------------------------------------------------------------------------------------------------------------------------------------------------------------------------------------------------------------------------------------------------------------------------------------------------------------------------------------------------------------------------------------------------------------------------------------------------------------------------------------------------------------------------------------------------------------------------------------------------------------------------------------------------------------------------------------------------------------------------------------------------------------------------------------------------------------------------------------------------------------------------------------------------------------------------------------------------------------------------------------------------------------------------------------------------------------------------------------------------------------------------------------------------------------------------------------------------------------------------------------------------------------------------------------------------------------------------------------------------------------------------------------------------------------------------------------------------------------------------------------------------------------------------------------------------------------------------------------------------------------------------------------------------------------------------------------------------------------------------------------------------------------------------------------------------------------------------------------------------------------------------------------------------------------------------------------------------------------------------------------------------------------------------------------------------------------------------------------------------------------------------------------------------------------------------------------------------------------------------------------------------------------------------------------------------------------------------------------------------------------------------------------------------------------------------------------------------------------------------------------------------------------------------------------------------------------------------------------------------------------------------------------------------------------------------------------------------------------------------------------------------------------------------------------------------------------------------------------------------------------------------------------------------------------------------------------------------------------------------------------------------------------------------------------------------------------------------------------------------------------------------------------------------------------------------------------------------------------------------------------------------------------------------------------------------------------------------------------------------------------------------------------------------------------------------------------------------------------------------------------------------------------------------------------------------------------------------------------------------------------------------------------------------------------------------------------------------------------------------------------------------------------------------------------------------------------------------------------------------------------------------------------------------------------------------------------------------------------------------------------------------------------------------------------------------------------------------------------------------------------------------+\n",
      "only showing top 5 rows\n",
      "\n",
      "root\n",
      " |-- variantId: string (nullable = true)\n",
      " |-- studyId: string (nullable = true)\n",
      " |-- studyLocusId: string (nullable = true)\n",
      " |-- beta: double (nullable = true)\n",
      " |-- zScore: double (nullable = true)\n",
      " |-- pValueMantissa: float (nullable = true)\n",
      " |-- pValueExponent: integer (nullable = true)\n",
      " |-- standardError: double (nullable = true)\n",
      " |-- finemappingMethod: string (nullable = true)\n",
      " |-- studyType: string (nullable = true)\n",
      " |-- credibleSetSize: integer (nullable = false)\n",
      " |-- locus: array (nullable = true)\n",
      " |    |-- element: struct (containsNull = true)\n",
      " |    |    |-- is95CredibleSet: boolean (nullable = true)\n",
      " |    |    |-- is99CredibleSet: boolean (nullable = true)\n",
      " |    |    |-- logBF: double (nullable = true)\n",
      " |    |    |-- posteriorProbability: double (nullable = true)\n",
      " |    |    |-- variantId: string (nullable = true)\n",
      " |    |    |-- pValueMantissa: float (nullable = true)\n",
      " |    |    |-- pValueExponent: integer (nullable = true)\n",
      " |    |    |-- beta: double (nullable = true)\n",
      " |    |    |-- standardError: double (nullable = true)\n",
      " |    |    |-- r2Overall: double (nullable = true)\n",
      " |-- isTransQtl: boolean (nullable = true)\n",
      " |-- nSamples: integer (nullable = true)\n",
      " |-- nControls: integer (nullable = true)\n",
      " |-- nCases: integer (nullable = true)\n",
      " |-- geneId: string (nullable = true)\n",
      " |-- traitFromSourceMappedIds: array (nullable = true)\n",
      " |    |-- element: string (containsNull = true)\n",
      " |-- ldPopulationStructure: array (nullable = true)\n",
      " |    |-- element: struct (containsNull = true)\n",
      " |    |    |-- ldPopulation: string (nullable = true)\n",
      " |    |    |-- relativeSampleSize: double (nullable = true)\n",
      " |-- traitFromSource: string (nullable = true)\n",
      " |-- traitFromSourceMappedIds: array (nullable = true)\n",
      " |    |-- element: string (containsNull = true)\n",
      " |-- allelefrequencies: array (nullable = true)\n",
      " |    |-- element: struct (containsNull = true)\n",
      " |    |    |-- populationName: string (nullable = true)\n",
      " |    |    |-- alleleFrequency: double (nullable = true)\n",
      " |-- variantEffect: array (nullable = true)\n",
      " |    |-- element: struct (containsNull = true)\n",
      " |    |    |-- method: string (nullable = true)\n",
      " |    |    |-- assessment: string (nullable = true)\n",
      " |    |    |-- score: float (nullable = true)\n",
      " |    |    |-- assessmentFlag: string (nullable = true)\n",
      " |    |    |-- targetId: string (nullable = true)\n",
      " |    |    |-- normalisedScore: double (nullable = true)\n",
      " |-- transcriptConsequences: array (nullable = true)\n",
      " |    |-- element: struct (containsNull = true)\n",
      " |    |    |-- variantFunctionalConsequenceIds: array (nullable = true)\n",
      " |    |    |    |-- element: string (containsNull = true)\n",
      " |    |    |-- aminoAcidChange: string (nullable = true)\n",
      " |    |    |-- uniprotAccessions: array (nullable = true)\n",
      " |    |    |    |-- element: string (containsNull = true)\n",
      " |    |    |-- isEnsemblCanonical: boolean (nullable = true)\n",
      " |    |    |-- codons: string (nullable = true)\n",
      " |    |    |-- distanceFromFootprint: long (nullable = true)\n",
      " |    |    |-- distanceFromTss: long (nullable = true)\n",
      " |    |    |-- appris: string (nullable = true)\n",
      " |    |    |-- maneSelect: string (nullable = true)\n",
      " |    |    |-- targetId: string (nullable = true)\n",
      " |    |    |-- impact: string (nullable = true)\n",
      " |    |    |-- lofteePrediction: string (nullable = true)\n",
      " |    |    |-- siftPrediction: float (nullable = true)\n",
      " |    |    |-- polyphenPrediction: float (nullable = true)\n",
      " |    |    |-- consequenceScore: float (nullable = true)\n",
      " |    |    |-- transcriptIndex: integer (nullable = true)\n",
      " |    |    |-- approvedSymbol: string (nullable = true)\n",
      " |    |    |-- biotype: string (nullable = true)\n",
      " |    |    |-- transcriptId: string (nullable = true)\n",
      "\n"
     ]
    }
   ],
   "source": [
    "vi = VariantIndex.from_parquet(session, variant_index_path)\n",
    "si = StudyIndex.from_parquet(session, study_index_path)\n",
    "cs = StudyLocus.from_parquet(session, credible_set_path)\n",
    "\n",
    "\n",
    "_cs = cs.df.select(\n",
    "    f.col(\"studyId\"),\n",
    "    f.col(\"studyLocusId\"),\n",
    "    f.col(\"variantId\"),\n",
    "    f.col(\"beta\"),\n",
    "    f.col(\"zScore\"),\n",
    "    f.col(\"pValueMantissa\"),\n",
    "    f.col(\"pValueExponent\"),\n",
    "    f.col(\"standardError\"),\n",
    "    f.col(\"finemappingMethod\"),\n",
    "    f.col(\"studyType\"),\n",
    "    f.size(\"locus\").alias(\"credibleSetSize\"),\n",
    "    f.col(\"locus\"),\n",
    "    f.col(\"isTransQtl\"),\n",
    ")\n",
    "_si = si.df.select(\n",
    "    f.col(\"studyId\"),\n",
    "    f.col(\"nSamples\"),\n",
    "    f.col(\"nControls\"),\n",
    "    f.col(\"nCases\"),\n",
    "    f.col(\"geneId\"),  # for molqtl traits\n",
    "    f.col(\"traitFromSourceMappedIds\"),\n",
    "    f.col(\"ldPopulationStructure\"),\n",
    "    f.col(\"traitFromSource\"),\n",
    "    f.col(\"traitFromSourceMappedIds\"),\n",
    ")\n",
    "\n",
    "_vi = vi.df.select(\n",
    "    f.col(\"variantId\"), f.col(\"allelefrequencies\"), f.col(\"variantEffect\"), f.col(\"transcriptConsequences\")\n",
    ")\n",
    "\n",
    "dataset = _cs.join(_si, how=\"left\", on=\"studyId\").join(_vi, how=\"left\", on=\"variantId\")\n",
    "\n",
    "dataset.show(5, truncate=False)\n",
    "dataset.printSchema()\n"
   ]
  },
  {
   "cell_type": "markdown",
   "metadata": {},
   "source": [
    "## MAF Calculation\n",
    "\n",
    "To add the MAF (Minor Allele Frequency) to the dataset we need to extract the major ancestry from _studyIndex_ and use it to extract the relevant allele frequency from the _variantIndex_ dataset.\n",
    "\n",
    "The MAF is calculated as follows:\n",
    "\n",
    "<ol>\n",
    "    <li>Extract the major ancestry from the <code>studyIndex</code> dataset.</li>\n",
    "    <ol>\n",
    "        <li>In case there are multiple ancestries that match the <code>relativeSampleSize</code>, and one of them is <code>NFE</code>, use <code>NFE</code> as the major ancestry.</li>\n",
    "        <li>In case there are multiple ancestries that match the <code>relativeSampleSize</code> and none of them is <code>NFE</code>, use the first ancestry in the list as the major ancestry.</li>\n",
    "        <li>If there is no ancestry in the list, use <code>NFE</code> as the major ancestry, assign the <code>relativeSampleSize</code> to 0.0</li>\n",
    "    </ol>\n",
    "    <li>Extract the allele frequency for the major ancestry from the <code>variantIndex</code> dataset.</li>\n",
    "</ol>\n"
   ]
  },
  {
   "cell_type": "code",
   "execution_count": 7,
   "metadata": {},
   "outputs": [
    {
     "name": "stderr",
     "output_type": "stream",
     "text": [
      "                                                                                \r"
     ]
    },
    {
     "name": "stdout",
     "output_type": "stream",
     "text": [
      "+-----------------+----------------------------------+-------------------------------+\n",
      "|majorLdPopulation|majorLdPopulationMaf              |majorLdPopulationAf            |\n",
      "+-----------------+----------------------------------+-------------------------------+\n",
      "|{nfe, 1.0}       |{0.016889607526091432, notFlipped}|{nfe_adj, 0.016889607526091432}|\n",
      "|{nfe, 0.0}       |{0.4487081283327932, notFlipped}  |{nfe_adj, 0.4487081283327932}  |\n",
      "|{nfe, 0.0}       |{0.2906750992793058, flipped}     |{nfe_adj, 0.7093249007206942}  |\n",
      "|{nfe, 1.0}       |{0.32507018380210817, notFlipped} |{nfe_adj, 0.32507018380210817} |\n",
      "|{nfe, 1.0}       |{0.32507018380210817, notFlipped} |{nfe_adj, 0.32507018380210817} |\n",
      "+-----------------+----------------------------------+-------------------------------+\n",
      "only showing top 5 rows\n",
      "\n",
      "root\n",
      " |-- majorLdPopulation: struct (nullable = true)\n",
      " |    |-- ldPopulation: string (nullable = false)\n",
      " |    |-- relativeSampleSize: double (nullable = false)\n",
      " |-- majorLdPopulationMaf: struct (nullable = true)\n",
      " |    |-- value: double (nullable = true)\n",
      " |    |-- type: string (nullable = false)\n",
      " |-- majorLdPopulationAf: struct (nullable = true)\n",
      " |    |-- populationName: string (nullable = true)\n",
      " |    |-- alleleFrequency: double (nullable = true)\n",
      "\n"
     ]
    }
   ],
   "source": [
    "from manuscript_methods.ld_populations import LDPopulationName, LDPopulationStructure\n",
    "from manuscript_methods.maf import AlleleFrequencies\n",
    "\n",
    "ld_pop = LDPopulationStructure(f.col(\"ldPopulationStructure\"))\n",
    "major_ld_pop = ld_pop.major_population(default_major_pop=LDPopulationName.NFE)\n",
    "major_ld_maf = AlleleFrequencies(f.col(\"alleleFrequencies\")).ld_population_maf(major_ld_pop.ld_population)\n",
    "major_ld_af = AlleleFrequencies(f.col(\"alleleFrequencies\")).ld_population_af(major_ld_pop.ld_population)\n",
    "\n",
    "dataset = dataset.withColumns(\n",
    "    {\n",
    "        \"majorLdPopulation\": major_ld_pop.col,\n",
    "        \"majorLdPopulationMaf\": major_ld_maf.col,\n",
    "        \"majorLdPopulationAf\": major_ld_af.col,\n",
    "    }\n",
    ")\n",
    "\n",
    "\n",
    "dataset.select(\"majorLdPopulation\", \"majorLdPopulationMaf\", \"majorLdPopulationAf\").show(5, truncate=False)\n",
    "dataset.select(\"majorLdPopulation\", \"majorLdPopulationMaf\", \"majorLdPopulationAf\").printSchema()\n"
   ]
  },
  {
   "cell_type": "markdown",
   "metadata": {},
   "source": [
    "## Phenotypic variance explained by lead variant (Approximation)\n",
    "\n",
    "The code below is used to calculate the PVE (Phenotypic Variance Explained) by the lead variant in the credible set.\n",
    "\n",
    "The variance explained follows the simplified formula\n",
    "\n",
    "${variance\\;explained}=\\chi^2 / n $\n",
    "\n",
    "- The $\\chi^2$ is calculated as **Inverse survival function** by using `scipy.stats.isf` function from lead variant $pValue$ (depicted as `pValueMantissa` and `pValueExponent`).\n",
    "- The $n$ parameter is the number of samples derived from GWAS study description.\n",
    "\n",
    "- In case where the `pValueExponent < 300` to avoid floating point errors we estimate $\\chi^2$ statistic with $-log_{10}(pValue)$\n",
    "- The $variance\\;explained$ can be only calculated where the $n > 0$\n"
   ]
  },
  {
   "cell_type": "code",
   "execution_count": 8,
   "metadata": {},
   "outputs": [
    {
     "name": "stderr",
     "output_type": "stream",
     "text": [
      "/home/mindos/Projects/OpenTargets/Gentropy-manuscript/.venv/lib/python3.11/site-packages/pyspark/sql/pandas/functions.py:407: UserWarning: In Python 3.6+ and Spark 3.0+, it is preferred to specify type hints for pandas UDF instead of specifying pandas UDF type which will be deprecated in the future releases. See SPARK-28264 for more details.\n",
      "[Stage 48:===========================================>              (3 + 1) / 4]\r"
     ]
    },
    {
     "name": "stdout",
     "output_type": "stream",
     "text": [
      "+--------------------------------------------------------+\n",
      "|variantStatistics                                       |\n",
      "+--------------------------------------------------------+\n",
      "|{50.844127911818155, 1.0, -12, 1.6738813053705747E-5}   |\n",
      "|{36.00017305956795, 1.973, -9, 0.06271807153234835}     |\n",
      "|{37.5342889430328, 8.982, -10, 0.07055317470494887}     |\n",
      "|{32.70463990170132, 1.0728083, -8, 8.287166571652616E-5}|\n",
      "|{34.90715636972957, 3.458075, -9, 8.60447645955975E-5}  |\n",
      "+--------------------------------------------------------+\n",
      "only showing top 5 rows\n",
      "\n",
      "root\n",
      " |-- variantStatistics: struct (nullable = false)\n",
      " |    |-- chi2Stat: double (nullable = true)\n",
      " |    |-- pValueMantissa: float (nullable = true)\n",
      " |    |-- pValueExponent: integer (nullable = true)\n",
      " |    |-- ApproximatedVarianceExplained: double (nullable = true)\n",
      "\n"
     ]
    },
    {
     "name": "stderr",
     "output_type": "stream",
     "text": [
      "                                                                                \r"
     ]
    }
   ],
   "source": [
    "from manuscript_methods.variant_statistics import PValueComponents, VariantStatistics\n",
    "\n",
    "pval_components = PValueComponents(p_value_mantissa=f.col(\"pValueMantissa\"), p_value_exponent=f.col(\"pValueExponent\"))\n",
    "n_samples = f.col(\"nSamples\")\n",
    "variant_stats = VariantStatistics.compute(pval_components, n_samples)\n",
    "\n",
    "dataset = dataset.withColumns(\n",
    "    {\n",
    "        \"variantStatistics\": variant_stats.col,\n",
    "    }\n",
    ")\n",
    "dataset.select(\"variantStatistics\").show(5, truncate=False)\n",
    "dataset.select(\"variantStatistics\").printSchema()\n"
   ]
  },
  {
   "cell_type": "markdown",
   "metadata": {},
   "source": [
    "## Study statistics\n",
    "\n",
    "The code below is used to combine and classify the cohort statistics from the _studyIndex_ dataset.\n",
    "\n",
    "This includes:\n",
    "\n",
    "- n_cases\n",
    "- n_controls\n",
    "- n_samples\n",
    "- study_type\n",
    "- trait\n",
    "- trait_ids\n",
    "- gene_id\n"
   ]
  },
  {
   "cell_type": "code",
   "execution_count": 9,
   "metadata": {},
   "outputs": [
    {
     "name": "stderr",
     "output_type": "stream",
     "text": [
      "                                                                                \r"
     ]
    },
    {
     "name": "stdout",
     "output_type": "stream",
     "text": [
      "+-------------------------------------------------------------------------------+\n",
      "|studyStatistics                                                                |\n",
      "+-------------------------------------------------------------------------------+\n",
      "|{0, 0, 3037499, Educational attainment, gwas, quantitative, NULL}              |\n",
      "|{NULL, NULL, 574, ENST00000525249, eqtl, quantitative, ENSG00000250305}        |\n",
      "|{0, 0, 357580, Glucose levels (UKB data field 30740), gwas, quantitative, NULL}|\n",
      "|{0, 0, 394642, Glucose levels (UKB data field 30740), gwas, quantitative, NULL}|\n",
      "|{0, 0, 405686, Random glucose levels, gwas, quantitative, NULL}                |\n",
      "+-------------------------------------------------------------------------------+\n",
      "only showing top 5 rows\n",
      "\n",
      "root\n",
      " |-- studyStatistics: struct (nullable = false)\n",
      " |    |-- nCases: integer (nullable = true)\n",
      " |    |-- nControls: integer (nullable = true)\n",
      " |    |-- nSamples: integer (nullable = true)\n",
      " |    |-- trait: string (nullable = true)\n",
      " |    |-- studyType: string (nullable = true)\n",
      " |    |-- traitClass: string (nullable = false)\n",
      " |    |-- molecularTrait: string (nullable = true)\n",
      "\n"
     ]
    }
   ],
   "source": [
    "from manuscript_methods.study_statistics import StudyStatistics\n",
    "\n",
    "cohort_stat = StudyStatistics.compute(\n",
    "    n_samples=f.col(\"nSamples\"),\n",
    "    n_cases=f.col(\"nCases\"),\n",
    "    n_controls=f.col(\"nControls\"),\n",
    "    trait=f.col(\"traitFromSource\"),\n",
    "    study_type=f.col(\"studyType\"),\n",
    "    is_trans_pqtl=f.col(\"isTransQtl\"),\n",
    "    gene_id=f.col(\"geneId\"),\n",
    ")\n",
    "\n",
    "dataset = dataset.withColumns({\"studyStatistics\": cohort_stat.col})\n",
    "dataset.select(\"studyStatistics\").show(5, truncate=False)\n",
    "dataset.select(\"studyStatistics\").printSchema()\n"
   ]
  },
  {
   "cell_type": "markdown",
   "metadata": {},
   "source": [
    "## Rescaling of the marginal effect size\n",
    "\n",
    "Rescaling of marginal effect size to the original value from the standardised marginal effect size is done via two formulas depending on trait being **quantitative** or **binary**\n",
    "\n",
    "Estimation of the trait type is done on the basis of availability of reported `nCases` and `nControls` fields in the study description.\n",
    "\n",
    "- In case both fields are non empty and non zero we assume _binary trait_\n",
    "- In case cases are zero or are not reported we assume _quantitative trait_\n",
    "\n",
    "In both cases we estimate the marginal effect size $estimated\\;\\beta$ with following formula\n",
    "$$estimated\\;\\beta = zscore \\cdot se$$\n",
    "\n",
    "Where\n",
    "\n",
    "- $zscore = \\frac{\\beta}{|{\\beta}|} \\cdot \\sqrt{\\chi^2}$\n",
    "- $se$ depends on the trait type\n",
    "- $\\beta$ - _standardised beta reported from in the summary statistics_\n",
    "\n",
    "In case when $\\beta$ was not reported we assumed the $\\frac{\\beta}{|{\\beta}|}$ to be equal to 1\n",
    "\n",
    "#### Binary trait marginal effect size estimation\n",
    "\n",
    "$$se = \\frac{1}{\\sqrt{(varG \\cdot prev \\cdot (1 - prev))}}$$\n",
    "\n",
    "- $varG = 2 \\cdot f \\cdot (1 - f)$ - _component of genetic variance_ - the original is $var_{G} = 2\\beta^2f(1 - f)$\n",
    "- $f$ - _Minor Allele Frequency of lead variant_\n",
    "- $prev = \\frac{nCases}{nSamples}$ - _Trait prevelance_\n",
    "\n",
    "#### Quantative trait marginal effect size estimation\n",
    "\n",
    "$$se = \\frac{1}{\\sqrt{varG}}$$\n",
    "\n",
    "- $varG = 2 \\cdot f \\cdot (1 - f)$\n",
    "- $f$ - _Minor Allele Frequency of lead variant_\n",
    "\n",
    "The $\\chi^2$ was esteimated as described in `variance Explained` calculation.\n"
   ]
  },
  {
   "cell_type": "code",
   "execution_count": 10,
   "metadata": {},
   "outputs": [],
   "source": [
    "from manuscript_methods.maf import MinorAlleleFrequency\n",
    "from manuscript_methods.rescaled_beta import RescaledStatistics\n",
    "\n",
    "rescaled_stats = RescaledStatistics.compute(\n",
    "    beta=f.col(\"beta\"),\n",
    "    chi2_stat=VariantStatistics(f.col(\"variantStatistics\")).chi2_stat,\n",
    "    trait_class=StudyStatistics(f.col(\"studyStatistics\")).trait_class,\n",
    "    maf=MinorAlleleFrequency(f.col(\"majorLdPopulationMaf\")).value,\n",
    "    n_cases=StudyStatistics(f.col(\"studyStatistics\")).n_cases,\n",
    "    n_samples=StudyStatistics(f.col(\"studyStatistics\")).n_samples,\n",
    ")\n",
    "\n",
    "dataset = dataset.withColumns({\"rescaledStatistics\": rescaled_stats.col})\n",
    "\n",
    "# dataset.select(\"rescaledStatistics\").show(5, truncate=False)\n"
   ]
  },
  {
   "cell_type": "markdown",
   "metadata": {},
   "source": [
    "## VEP consequence extraction\n",
    "\n",
    "To extract the VEP annotations from the _variantIndex_ dataset we need to:\n",
    "\n",
    "- for GWAS lead variants extract the VEP annotation with most severe consequence\n",
    "- for QTL lead variants extract the VEP annotation that is linked to the `geneId` defined in the _studyIndex_ dataset in case\n",
    "  the `geneId` is found in transcript annotations (**in-gene effect**), otherwise use the most severe consequence annotation `(**out-gene effect**).\n"
   ]
  },
  {
   "cell_type": "code",
   "execution_count": 11,
   "metadata": {},
   "outputs": [
    {
     "name": "stderr",
     "output_type": "stream",
     "text": [
      "[Stage 67:======================================================> (27 + 1) / 28]\r"
     ]
    },
    {
     "name": "stdout",
     "output_type": "stream",
     "text": [
      "+---------------------------------------------------------------------------------------------------------------------------------------------------------------------------------------------------+\n",
      "|leadVariantConsequence                                                                                                                                                                             |\n",
      "+---------------------------------------------------------------------------------------------------------------------------------------------------------------------------------------------------+\n",
      "|{in-gene-effect, {[SO_0001632], NULL, [Q6QNY1, F1T0F0], true, NULL, 38569, -51956, P1, NM_173809.5, ENSG00000196072, MODIFIER, NULL, NULL, NULL, 0.0, 7, BLOC1S2, protein_coding, ENST00000370372}}|\n",
      "|{in-gene-effect, {[SO_0001632], NULL, [Q6QNY1, F1T0F0], true, NULL, 38569, -51956, P1, NM_173809.5, ENSG00000196072, MODIFIER, NULL, NULL, NULL, 0.0, 7, BLOC1S2, protein_coding, ENST00000370372}}|\n",
      "|{in-gene-effect, {[SO_0001632], NULL, [Q6QNY1, F1T0F0], true, NULL, 21787, -35174, P1, NM_173809.5, ENSG00000196072, MODIFIER, NULL, NULL, NULL, 0.0, 6, BLOC1S2, protein_coding, ENST00000370372}}|\n",
      "|{in-gene-effect, {[SO_0001632], NULL, [Q6QNY1, F1T0F0], true, NULL, 21787, -35174, P1, NM_173809.5, ENSG00000196072, MODIFIER, NULL, NULL, NULL, 0.0, 6, BLOC1S2, protein_coding, ENST00000370372}}|\n",
      "|{in-gene-effect, {[SO_0001632], NULL, [Q6QNY1, F1T0F0], true, NULL, 21787, -35174, P1, NM_173809.5, ENSG00000196072, MODIFIER, NULL, NULL, NULL, 0.0, 6, BLOC1S2, protein_coding, ENST00000370372}}|\n",
      "+---------------------------------------------------------------------------------------------------------------------------------------------------------------------------------------------------+\n",
      "only showing top 5 rows\n",
      "\n",
      "root\n",
      " |-- leadVariantConsequence: struct (nullable = false)\n",
      " |    |-- type: string (nullable = false)\n",
      " |    |-- transcriptConsequence: struct (nullable = true)\n",
      " |    |    |-- variantFunctionalConsequenceIds: array (nullable = true)\n",
      " |    |    |    |-- element: string (containsNull = true)\n",
      " |    |    |-- aminoAcidChange: string (nullable = true)\n",
      " |    |    |-- uniprotAccessions: array (nullable = true)\n",
      " |    |    |    |-- element: string (containsNull = true)\n",
      " |    |    |-- isEnsemblCanonical: boolean (nullable = true)\n",
      " |    |    |-- codons: string (nullable = true)\n",
      " |    |    |-- distanceFromFootprint: long (nullable = true)\n",
      " |    |    |-- distanceFromTss: long (nullable = true)\n",
      " |    |    |-- appris: string (nullable = true)\n",
      " |    |    |-- maneSelect: string (nullable = true)\n",
      " |    |    |-- targetId: string (nullable = true)\n",
      " |    |    |-- impact: string (nullable = true)\n",
      " |    |    |-- lofteePrediction: string (nullable = true)\n",
      " |    |    |-- siftPrediction: float (nullable = true)\n",
      " |    |    |-- polyphenPrediction: float (nullable = true)\n",
      " |    |    |-- consequenceScore: float (nullable = true)\n",
      " |    |    |-- transcriptIndex: integer (nullable = true)\n",
      " |    |    |-- approvedSymbol: string (nullable = true)\n",
      " |    |    |-- biotype: string (nullable = true)\n",
      " |    |    |-- transcriptId: string (nullable = true)\n",
      "\n"
     ]
    },
    {
     "name": "stderr",
     "output_type": "stream",
     "text": [
      "                                                                                \r"
     ]
    }
   ],
   "source": [
    "from manuscript_methods.study_statistics import StudyStatistics\n",
    "from manuscript_methods.tc import LeadVariantConsequences, TranscriptConsequences\n",
    "\n",
    "tc = TranscriptConsequences(f.col(\"transcriptConsequences\"))\n",
    "sstats = StudyStatistics(f.col(\"studyStatistics\"))\n",
    "lc = LeadVariantConsequences.compute(tc, sstats)\n",
    "\n",
    "\n",
    "dataset = dataset.withColumn(lc.name, lc.col)\n",
    "dataset.select(lc.name).show(5, truncate=False)\n",
    "dataset.select(lc.name).printSchema()\n"
   ]
  },
  {
   "cell_type": "markdown",
   "metadata": {},
   "source": [
    "## Posterior Probability of the lead variant\n",
    "\n",
    "The PIP (Posterior Inclusion Probability) of the lead variant is derived from the _credible_set_ locus object. The locus object needs to be filtered to only include the lead variant and then the PIP can be extracted.\n"
   ]
  },
  {
   "cell_type": "code",
   "execution_count": 12,
   "metadata": {},
   "outputs": [
    {
     "name": "stderr",
     "output_type": "stream",
     "text": [
      "[Stage 78:=============================>                         (14 + 12) / 26]\r"
     ]
    },
    {
     "name": "stdout",
     "output_type": "stream",
     "text": [
      "+---------------+-------------------+\n",
      "|variantId      |pip                |\n",
      "+---------------+-------------------+\n",
      "|2_77742537_A_T |0.8890875456014443 |\n",
      "|8_12953425_A_G |0.4030465170234884 |\n",
      "|9_35063727_A_G |0.07973650519241357|\n",
      "|10_93629326_A_G|0.09649171692358438|\n",
      "|10_93629326_A_G|0.08936639097922486|\n",
      "+---------------+-------------------+\n",
      "only showing top 5 rows\n",
      "\n",
      "root\n",
      " |-- variantId: string (nullable = true)\n",
      " |-- pip: double (nullable = true)\n",
      "\n"
     ]
    },
    {
     "name": "stderr",
     "output_type": "stream",
     "text": [
      "                                                                                \r"
     ]
    }
   ],
   "source": [
    "from manuscript_methods.pip import extract_pip_from_locus\n",
    "\n",
    "dataset = dataset.withColumn(\"pip\", extract_pip_from_locus(f.col(\"variantId\"), f.col(\"locus\")))\n",
    "dataset.select(\"variantId\", \"pip\").show(5, truncate=False)\n",
    "dataset.select(\"variantId\", \"pip\").printSchema()\n"
   ]
  },
  {
   "cell_type": "markdown",
   "metadata": {},
   "source": [
    "## Final dataset contract\n",
    "\n"
   ]
  },
  {
   "cell_type": "code",
   "execution_count": 13,
   "metadata": {},
   "outputs": [],
   "source": [
    "dataset = dataset.select(\n",
    "    f.col(\"variantId\"),\n",
    "    f.col(\"studyLocusId\"),\n",
    "    f.col(\"studyId\"),\n",
    "    f.col(\"geneId\"),\n",
    "    f.col(\"beta\").alias(\"originalBeta\"),\n",
    "    f.col(\"standardError\").alias(\"originalStandardError\"),\n",
    "    f.col(\"pip\"),\n",
    "    f.col(\"finemappingMethod\"),\n",
    "    f.col(\"credibleSetSize\"),\n",
    "    f.col(\"isTransQtl\"),\n",
    "    f.col(\"variantEffect\"),\n",
    "    f.col(\"majorLdPopulation\"),\n",
    "    f.col(\"majorLdPopulationMaf\"),\n",
    "    f.col(\"majorLdPopulationAf\"),\n",
    "    f.col(\"variantStatistics\"),\n",
    "    f.col(\"studyStatistics\"),\n",
    "    f.col(\"rescaledStatistics\"),\n",
    "    f.col(\"leadVariantConsequence\"),\n",
    "    f.col(\"traitFromSourceMappedIds\"),\n",
    ")\n"
   ]
  },
  {
   "cell_type": "markdown",
   "metadata": {},
   "source": [
    "### Save the dataset to parquet\n"
   ]
  },
  {
   "cell_type": "code",
   "execution_count": 14,
   "metadata": {},
   "outputs": [
    {
     "name": "stderr",
     "output_type": "stream",
     "text": [
      "                                                                                \r"
     ]
    }
   ],
   "source": [
    "dataset.repartition(50).write.mode(\"overwrite\").parquet(output_dataset_path)\n"
   ]
  },
  {
   "cell_type": "markdown",
   "metadata": {},
   "source": [
    "### Show the dataset schema\n"
   ]
  },
  {
   "cell_type": "code",
   "execution_count": 15,
   "metadata": {},
   "outputs": [
    {
     "name": "stdout",
     "output_type": "stream",
     "text": [
      "root\n",
      " |-- variantId: string (nullable = true)\n",
      " |-- studyLocusId: string (nullable = true)\n",
      " |-- studyId: string (nullable = true)\n",
      " |-- geneId: string (nullable = true)\n",
      " |-- originalBeta: double (nullable = true)\n",
      " |-- originalStandardError: double (nullable = true)\n",
      " |-- pip: double (nullable = true)\n",
      " |-- finemappingMethod: string (nullable = true)\n",
      " |-- credibleSetSize: integer (nullable = false)\n",
      " |-- isTransQtl: boolean (nullable = true)\n",
      " |-- variantEffect: array (nullable = true)\n",
      " |    |-- element: struct (containsNull = true)\n",
      " |    |    |-- method: string (nullable = true)\n",
      " |    |    |-- assessment: string (nullable = true)\n",
      " |    |    |-- score: float (nullable = true)\n",
      " |    |    |-- assessmentFlag: string (nullable = true)\n",
      " |    |    |-- targetId: string (nullable = true)\n",
      " |    |    |-- normalisedScore: double (nullable = true)\n",
      " |-- majorLdPopulation: struct (nullable = true)\n",
      " |    |-- ldPopulation: string (nullable = false)\n",
      " |    |-- relativeSampleSize: double (nullable = false)\n",
      " |-- majorLdPopulationMaf: struct (nullable = true)\n",
      " |    |-- value: double (nullable = true)\n",
      " |    |-- type: string (nullable = false)\n",
      " |-- majorLdPopulationAf: struct (nullable = true)\n",
      " |    |-- populationName: string (nullable = true)\n",
      " |    |-- alleleFrequency: double (nullable = true)\n",
      " |-- variantStatistics: struct (nullable = false)\n",
      " |    |-- chi2Stat: double (nullable = true)\n",
      " |    |-- pValueMantissa: float (nullable = true)\n",
      " |    |-- pValueExponent: integer (nullable = true)\n",
      " |    |-- ApproximatedVarianceExplained: double (nullable = true)\n",
      " |-- studyStatistics: struct (nullable = false)\n",
      " |    |-- nCases: integer (nullable = true)\n",
      " |    |-- nControls: integer (nullable = true)\n",
      " |    |-- nSamples: integer (nullable = true)\n",
      " |    |-- trait: string (nullable = true)\n",
      " |    |-- studyType: string (nullable = true)\n",
      " |    |-- traitClass: string (nullable = false)\n",
      " |    |-- molecularTrait: string (nullable = true)\n",
      " |-- rescaledStatistics: struct (nullable = false)\n",
      " |    |-- directionOfEffect: string (nullable = false)\n",
      " |    |-- zScore: double (nullable = true)\n",
      " |    |-- varG: double (nullable = true)\n",
      " |    |-- prevalence: double (nullable = true)\n",
      " |    |-- estimatedSE: double (nullable = true)\n",
      " |    |-- estimatedBeta: double (nullable = true)\n",
      " |    |-- majorAlleleEstimatedBeta: double (nullable = true)\n",
      " |-- leadVariantConsequence: struct (nullable = false)\n",
      " |    |-- type: string (nullable = false)\n",
      " |    |-- transcriptConsequence: struct (nullable = true)\n",
      " |    |    |-- variantFunctionalConsequenceIds: array (nullable = true)\n",
      " |    |    |    |-- element: string (containsNull = true)\n",
      " |    |    |-- aminoAcidChange: string (nullable = true)\n",
      " |    |    |-- uniprotAccessions: array (nullable = true)\n",
      " |    |    |    |-- element: string (containsNull = true)\n",
      " |    |    |-- isEnsemblCanonical: boolean (nullable = true)\n",
      " |    |    |-- codons: string (nullable = true)\n",
      " |    |    |-- distanceFromFootprint: long (nullable = true)\n",
      " |    |    |-- distanceFromTss: long (nullable = true)\n",
      " |    |    |-- appris: string (nullable = true)\n",
      " |    |    |-- maneSelect: string (nullable = true)\n",
      " |    |    |-- targetId: string (nullable = true)\n",
      " |    |    |-- impact: string (nullable = true)\n",
      " |    |    |-- lofteePrediction: string (nullable = true)\n",
      " |    |    |-- siftPrediction: float (nullable = true)\n",
      " |    |    |-- polyphenPrediction: float (nullable = true)\n",
      " |    |    |-- consequenceScore: float (nullable = true)\n",
      " |    |    |-- transcriptIndex: integer (nullable = true)\n",
      " |    |    |-- approvedSymbol: string (nullable = true)\n",
      " |    |    |-- biotype: string (nullable = true)\n",
      " |    |    |-- transcriptId: string (nullable = true)\n",
      " |-- traitFromSourceMappedIds: array (nullable = true)\n",
      " |    |-- element: string (containsNull = true)\n",
      "\n"
     ]
    }
   ],
   "source": [
    "dataset.printSchema()\n"
   ]
  },
  {
   "cell_type": "markdown",
   "metadata": {},
   "source": [
    "### Show the final dataset\n"
   ]
  },
  {
   "cell_type": "code",
   "execution_count": 16,
   "metadata": {},
   "outputs": [
    {
     "name": "stderr",
     "output_type": "stream",
     "text": [
      "[Stage 112:>                                                        (0 + 1) / 1]\r"
     ]
    },
    {
     "name": "stdout",
     "output_type": "stream",
     "text": [
      "+-----------------+--------------------------------+--------------------------------------------------------------------------------------+---------------+------------+---------------------+--------------------+-----------------+---------------+----------+------------------------------------------------------------------------------------------------------------------------------+-----------------+---------------------------------+------------------------------+----------------------------------------------------+---------------------------------------------------------------------------------------------------------+-----------------------------------------------------------------------------------------------------------------+---------------------------------------------------------------------------------------------------------------------------------------------------------------------------------------------------+------------------------+\n",
      "|variantId        |studyLocusId                    |studyId                                                                               |geneId         |originalBeta|originalStandardError|pip                 |finemappingMethod|credibleSetSize|isTransQtl|variantEffect                                                                                                                 |majorLdPopulation|majorLdPopulationMaf             |majorLdPopulationAf           |variantStatistics                                   |studyStatistics                                                                                          |rescaledStatistics                                                                                               |leadVariantConsequence                                                                                                                                                                             |traitFromSourceMappedIds|\n",
      "+-----------------+--------------------------------+--------------------------------------------------------------------------------------+---------------+------------+---------------------+--------------------+-----------------+---------------+----------+------------------------------------------------------------------------------------------------------------------------------+-----------------+---------------------------------+------------------------------+----------------------------------------------------+---------------------------------------------------------------------------------------------------------+-----------------------------------------------------------------------------------------------------------------+---------------------------------------------------------------------------------------------------------------------------------------------------------------------------------------------------+------------------------+\n",
      "|10_100234724_T_C |125e33bc6e10a4b586c8048d54952a8b|gtex_txrev_vagina_ensg00000196072_grp_1_downstream_enst00000370372                    |ENSG00000196072|1.05413     |0.138758             |0.020652174130435054|SuSie            |46             |false     |[{VEP, intron_variant, 0.1, NULL, NULL, 0.10000000149011612}, {GERP, NULL, -2.23, NULL, ENSG00000310301, 0.06416666507720947}]|{nfe, 0.0}       |{0.04715344350996883, notFlipped}|{nfe_adj, 0.04715344350996883}|{47.33153845706211, 5.994, -12, 0.3356846699082419} |{NULL, NULL, 141, ENSG00000196072.grp_1.downstream.ENST00000370372, tuqtl, quantitative, ENSG00000196072}|{+, 6.879792035887576, 0.089859992550242, NULL, 0.280935909406388, 1.9327806321289018, 1.9327806321289018}       |{in-gene-effect, {[SO_0001632], NULL, [Q6QNY1, F1T0F0], true, NULL, 38569, -51956, P1, NM_173809.5, ENSG00000196072, MODIFIER, NULL, NULL, NULL, 0.0, 7, BLOC1S2, protein_coding, ENST00000370372}}|NULL                    |\n",
      "|10_100234724_T_C |14cbe815b31d9d3ced2726d6d1076be2|gtex_txrev_brain_nucleus_accumbens_ensg00000196072_grp_1_downstream_enst00000370372   |ENSG00000196072|1.46576     |0.115322             |0.022619047857142874|SuSie            |42             |false     |[{VEP, intron_variant, 0.1, NULL, NULL, 0.10000000149011612}, {GERP, NULL, -2.23, NULL, ENSG00000310301, 0.06416666507720947}]|{nfe, 0.0}       |{0.04715344350996883, notFlipped}|{nfe_adj, 0.04715344350996883}|{116.14314047345636, 4.422, -27, 0.5749660419478038}|{NULL, NULL, 202, ENSG00000196072.grp_1.downstream.ENST00000370372, tuqtl, quantitative, ENSG00000196072}|{+, 10.776972695217166, 0.089859992550242, NULL, 0.23471515191056996, 2.5295187832939616, 2.5295187832939616}    |{in-gene-effect, {[SO_0001632], NULL, [Q6QNY1, F1T0F0], true, NULL, 38569, -51956, P1, NM_173809.5, ENSG00000196072, MODIFIER, NULL, NULL, NULL, 0.0, 7, BLOC1S2, protein_coding, ENST00000370372}}|NULL                    |\n",
      "|10_100251505_CT_C|0f851582ac406327f5a35c536da3bc8f|twinsuk_ge_fat_ensg00000196072                                                        |ENSG00000196072|-0.792706   |0.132                |0.07493108482057234 |SuSie            |78             |false     |[{VEP, intron_variant, 0.1, NULL, NULL, 0.10000000149011612}, {GERP, NULL, 0.114, NULL, ENSG00000303041, 0.27850000001490116}]|{nfe, 0.0}       |{0.02269866247049567, notFlipped}|{nfe_adj, 0.02269866247049567}|{34.349578853558974, 4.605, -9, 0.09015637494372435}|{NULL, NULL, 381, ENSG00000196072, eqtl, quantitative, ENSG00000196072}                                  |{-, -5.860851376170443, 0.044366866385092366, NULL, 0.2432249564422525, -1.4255053206835715, -1.4255053206835715}|{in-gene-effect, {[SO_0001632], NULL, [Q6QNY1, F1T0F0], true, NULL, 21787, -35174, P1, NM_173809.5, ENSG00000196072, MODIFIER, NULL, NULL, NULL, 0.0, 6, BLOC1S2, protein_coding, ENST00000370372}}|NULL                    |\n",
      "|10_100251505_CT_C|b35950cc48f3d35fa7c3001285faea29|schmiedel_2018_exon_cd4_t-cell_anti-cd3-cd28_ensg00000196072_12_10_100273293_100273955|ENSG00000196072|1.79241     |0.194195             |0.03686474270601904 |SuSie            |75             |false     |[{VEP, intron_variant, 0.1, NULL, NULL, 0.10000000149011612}, {GERP, NULL, 0.114, NULL, ENSG00000303041, 0.27850000001490116}]|{nfe, 0.0}       |{0.02269866247049567, notFlipped}|{nfe_adj, 0.02269866247049567}|{56.330108186500404, 6.127, -14, 0.632922563893263} |{NULL, NULL, 89, ENSG00000196072.12_10_100273293_100273955, eqtl, quantitative, ENSG00000196072}         |{+, 7.5053386456908395, 0.044366866385092366, NULL, 0.503240538966129, 3.7769906651807745, 3.7769906651807745}   |{in-gene-effect, {[SO_0001632], NULL, [Q6QNY1, F1T0F0], true, NULL, 21787, -35174, P1, NM_173809.5, ENSG00000196072, MODIFIER, NULL, NULL, NULL, 0.0, 6, BLOC1S2, protein_coding, ENST00000370372}}|NULL                    |\n",
      "|10_100251505_CT_C|0c7ac6153c746a190055fa50d046f108|nedelec_2016_tx_macrophage_salmonella_enst00000370372                                 |ENSG00000196072|0.758824    |0.125332             |0.14946352533197788 |SuSie            |54             |false     |[{VEP, intron_variant, 0.1, NULL, NULL, 0.10000000149011612}, {GERP, NULL, 0.114, NULL, ENSG00000303041, 0.27850000001490116}]|{nfe, 0.0}       |{0.02269866247049567, notFlipped}|{nfe_adj, 0.02269866247049567}|{32.73349514394093, 1.057, -8, 0.1960089529577301}  |{NULL, NULL, 167, ENST00000370372, eqtl, quantitative, ENSG00000196072}                                  |{+, 5.721319353430721, 0.044366866385092366, NULL, 0.36737735796476745, 2.10188318813607, 2.10188318813607}      |{in-gene-effect, {[SO_0001632], NULL, [Q6QNY1, F1T0F0], true, NULL, 21787, -35174, P1, NM_173809.5, ENSG00000196072, MODIFIER, NULL, NULL, NULL, 0.0, 6, BLOC1S2, protein_coding, ENST00000370372}}|NULL                    |\n",
      "+-----------------+--------------------------------+--------------------------------------------------------------------------------------+---------------+------------+---------------------+--------------------+-----------------+---------------+----------+------------------------------------------------------------------------------------------------------------------------------+-----------------+---------------------------------+------------------------------+----------------------------------------------------+---------------------------------------------------------------------------------------------------------+-----------------------------------------------------------------------------------------------------------------+---------------------------------------------------------------------------------------------------------------------------------------------------------------------------------------------------+------------------------+\n",
      "only showing top 5 rows\n",
      "\n"
     ]
    },
    {
     "name": "stderr",
     "output_type": "stream",
     "text": [
      "                                                                                \r"
     ]
    }
   ],
   "source": [
    "dataset.show(5, truncate=False)\n"
   ]
  },
  {
   "cell_type": "markdown",
   "metadata": {},
   "source": [
    "### Describe the dataset\n"
   ]
  },
  {
   "cell_type": "code",
   "execution_count": 17,
   "metadata": {},
   "outputs": [
    {
     "name": "stderr",
     "output_type": "stream",
     "text": [
      "25/06/23 12:48:09 WARN SparkStringUtils: Truncated the string representation of a plan since it was too large. This behavior can be adjusted by setting 'spark.sql.debug.maxToStringFields'.\n",
      "[Stage 118:=====================================================> (50 + 1) / 51]\r"
     ]
    },
    {
     "name": "stdout",
     "output_type": "stream",
     "text": [
      "+-------+----------------+--------------------------------+--------------------------------------------------------------------------------+---------------+------------------+---------------------+--------------------+-----------------+------------------+\n",
      "|summary|variantId       |studyLocusId                    |studyId                                                                         |geneId         |originalBeta      |originalStandardError|pip                 |finemappingMethod|credibleSetSize   |\n",
      "+-------+----------------+--------------------------------+--------------------------------------------------------------------------------+---------------+------------------+---------------------+--------------------+-----------------+------------------+\n",
      "|count  |2833758         |2833758                         |2833758                                                                         |2044305        |2781497           |2254038              |2833758             |2833758          |2833758           |\n",
      "|mean   |NULL            |Infinity                        |NULL                                                                            |NULL           |0.5148029026333601|0.17585519552896237  |0.4526514229796381  |NULL             |24.635404293521184|\n",
      "|stddev |NULL            |NaN                             |NULL                                                                            |NULL           |100.13940693900201|11.756765655146857   |0.35032918337775265 |NULL             |87.11131863249878 |\n",
      "|min    |10_100000235_C_T|0000075e718162e97fa85756e055e8cd|FINNGEN_R12_AB1_BACTINF_NOS                                                     |ENSG00000000003|-15750.792        |-0.10714286140033177 |5.112761254008608E-4|PICS             |1                 |\n",
      "|max    |Y_20577481_C_T  |fffffef27b8b270d58113c7f971fc907|young_2019_txrev_microglia_naive_ensg00000273136_grp_2_contained_enst00000652763|ENSG00000289643|78729.0           |9457.2               |1.0                 |SuSie            |10248             |\n",
      "+-------+----------------+--------------------------------+--------------------------------------------------------------------------------+---------------+------------------+---------------------+--------------------+-----------------+------------------+\n",
      "\n"
     ]
    },
    {
     "name": "stderr",
     "output_type": "stream",
     "text": [
      "                                                                                \r"
     ]
    }
   ],
   "source": [
    "dataset.describe().show(truncate=False)\n"
   ]
  },
  {
   "cell_type": "code",
   "execution_count": 18,
   "metadata": {},
   "outputs": [],
   "source": [
    "import json\n",
    "\n",
    "with open(\"../../src/manuscript_methods/schemas/lead_variant_effect.json\", \"w\") as fp:\n",
    "    json.dump(\n",
    "        json.loads(dataset.schema.json()),\n",
    "        fp,\n",
    "        indent=2,\n",
    "    )\n"
   ]
  }
 ],
 "metadata": {
  "kernelspec": {
   "display_name": ".venv",
   "language": "python",
   "name": "python3"
  },
  "language_info": {
   "codemirror_mode": {
    "name": "ipython",
    "version": 3
   },
   "file_extension": ".py",
   "mimetype": "text/x-python",
   "name": "python",
   "nbconvert_exporter": "python",
   "pygments_lexer": "ipython3",
   "version": "3.11.11"
  }
 },
 "nbformat": 4,
 "nbformat_minor": 2
}

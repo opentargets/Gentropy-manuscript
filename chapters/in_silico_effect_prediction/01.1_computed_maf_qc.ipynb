{
 "cells": [
  {
   "cell_type": "markdown",
   "id": "02990652",
   "metadata": {},
   "source": [
    "# Computed MAF qc\n",
    "\n",
    "The goal of the analysis is to see how many lead variants from credible sets had correctly calculated MAF.\n",
    "\n",
    "<div class=\"alert alert-block alert-info\"> \n",
    "<b> Reasons of MAF computation failure </b>\n",
    "    <ul>\n",
    "        <li><I>majorPopulationMAF == 0.0</I>  - Searched variant was found in gnomAD, but it was not reported for the searched study major population</li>\n",
    "        <li><I>majorPopulationMAF is Null</I> -  Searched variant was not found in gnomAD, so AF was not reported for any population</li>\n",
    "    </ul>\n",
    "\n",
    " </div>\n"
   ]
  },
  {
   "cell_type": "markdown",
   "id": "bd01c2ae",
   "metadata": {},
   "source": [
    "## Data Loading\n",
    "\n",
    "The data required for the analysis is loaded from the `computed maf` dataset.\n"
   ]
  },
  {
   "cell_type": "code",
   "execution_count": null,
   "id": "e32fb573",
   "metadata": {},
   "outputs": [],
   "source": [
    "from gentropy.common.session import Session\n",
    "\n",
    "from manuscript_methods.datasets import LeadVariantEffect\n"
   ]
  },
  {
   "cell_type": "code",
   "execution_count": null,
   "id": "b3a3b15f",
   "metadata": {},
   "outputs": [
    {
     "name": "stderr",
     "output_type": "stream",
     "text": [
      "Setting default log level to \"WARN\".\n",
      "To adjust logging level use sc.setLogLevel(newLevel). For SparkR, use setLogLevel(newLevel).\n",
      "25/06/18 22:34:26 WARN NativeCodeLoader: Unable to load native-hadoop library for your platform... using builtin-java classes where applicable\n",
      "25/06/18 22:34:27 WARN Utils: Service 'SparkUI' could not bind on port 4040. Attempting port 4041.\n",
      "25/06/18 22:34:27 WARN Utils: Service 'SparkUI' could not bind on port 4041. Attempting port 4042.\n"
     ]
    }
   ],
   "source": [
    "session = Session(extended_spark_conf={\"spark.driver.memory\": \"40G\"})\n",
    "lead_maf_dataset_path = \"../../data/lead-maf-vep\"\n"
   ]
  },
  {
   "cell_type": "code",
   "execution_count": 3,
   "id": "03428083",
   "metadata": {},
   "outputs": [
    {
     "data": {
      "text/html": [
       "\n",
       "            <div>\n",
       "                <p><b>SparkSession - in-memory</b></p>\n",
       "                \n",
       "        <div>\n",
       "            <p><b>SparkContext</b></p>\n",
       "\n",
       "            <p><a href=\"http://mib117351s.internal.sanger.ac.uk:4041\">Spark UI</a></p>\n",
       "\n",
       "            <dl>\n",
       "              <dt>Version</dt>\n",
       "                <dd><code>v3.5.5</code></dd>\n",
       "              <dt>Master</dt>\n",
       "                <dd><code>local[*]</code></dd>\n",
       "              <dt>AppName</dt>\n",
       "                <dd><code>gentropy</code></dd>\n",
       "            </dl>\n",
       "        </div>\n",
       "        \n",
       "            </div>\n",
       "        "
      ],
      "text/plain": [
       "<pyspark.sql.session.SparkSession at 0x305356890>"
      ]
     },
     "execution_count": 3,
     "metadata": {},
     "output_type": "execute_result"
    }
   ],
   "source": [
    "session.spark\n"
   ]
  },
  {
   "cell_type": "code",
   "execution_count": 5,
   "id": "fff62ed0",
   "metadata": {},
   "outputs": [],
   "source": [
    "dataset_maf = LeadVariantEffect.from_parquet(session, lead_maf_dataset_path)\n"
   ]
  },
  {
   "cell_type": "markdown",
   "id": "802f66ca",
   "metadata": {},
   "source": [
    "## MAF QC\n",
    "\n",
    "Ensure that both datasets contain the same amount of rows\n"
   ]
  },
  {
   "cell_type": "code",
   "execution_count": 8,
   "id": "0ebec8df",
   "metadata": {},
   "outputs": [
    {
     "name": "stderr",
     "output_type": "stream",
     "text": [
      "                                                                                \r"
     ]
    },
    {
     "name": "stdout",
     "output_type": "stream",
     "text": [
      "+-------------------------------------+-------+-----+\n",
      "|mafDiscrepancy                       |count  |%    |\n",
      "+-------------------------------------+-------+-----+\n",
      "|NULL                                 |2821580|99.57|\n",
      "|MAJOR_ANCESTRY_MISSING_FROM_GNOMAD_AF|9434   |0.33 |\n",
      "|VARIANT_MISSING_FROM_GNOMAD_AF       |2744   |0.10 |\n",
      "+-------------------------------------+-------+-----+\n",
      "\n"
     ]
    }
   ],
   "source": [
    "from manuscript_methods import group_statistics\n",
    "from manuscript_methods.maf import maf_discrepancies\n",
    "\n",
    "data = dataset_maf.df.select(maf_discrepancies(f.col(\"majorLdPopulationMAF.value\")))\n",
    "\n",
    "group_statistics(data, f.col(\"mafDiscrepancy\")).show(truncate=False)\n"
   ]
  }
 ],
 "metadata": {
  "kernelspec": {
   "display_name": "gentropy-manuscript",
   "language": "python",
   "name": "python3"
  },
  "language_info": {
   "codemirror_mode": {
    "name": "ipython",
    "version": 3
   },
   "file_extension": ".py",
   "mimetype": "text/x-python",
   "name": "python",
   "nbconvert_exporter": "python",
   "pygments_lexer": "ipython3",
   "version": "3.11.11"
  }
 },
 "nbformat": 4,
 "nbformat_minor": 5
}

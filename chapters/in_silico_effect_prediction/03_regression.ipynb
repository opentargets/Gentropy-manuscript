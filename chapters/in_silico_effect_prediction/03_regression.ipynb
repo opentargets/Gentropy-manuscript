{
 "cells": [
  {
   "cell_type": "markdown",
   "id": "5ba33122",
   "metadata": {},
   "source": [
    "# Regression analysis\n",
    "\n",
    "This notebook demnstrates the regression analysis on\n",
    "\n",
    "- credibleSetSize\n",
    "- MAF\n",
    "- beta\n",
    "\n",
    "The analysis is performed using random effect model and fixed effect model.\n",
    "\n",
    "Since this is a meta analysis betwen the different datasets, we need to be sure that we do not invalidate the independence assumption of the regression model, hence we use the `studyType` as a random effect covariate.\n"
   ]
  },
  {
   "cell_type": "markdown",
   "id": "053067e2",
   "metadata": {
    "vscode": {
     "languageId": "plaintext"
    }
   },
   "source": [
    "## Data Loading\n",
    "\n",
    "The goal of this notebook is to check the distribution of study types in the dataset.\n"
   ]
  },
  {
   "cell_type": "code",
   "execution_count": 1,
   "id": "179f986f",
   "metadata": {},
   "outputs": [
    {
     "data": {
      "text/html": [
       "    <style>\n",
       "        .bk-notebook-logo {\n",
       "            display: block;\n",
       "            width: 20px;\n",
       "            height: 20px;\n",
       "            background-image: url(data:image/png;base64,iVBORw0KGgoAAAANSUhEUgAAABQAAAAUCAYAAACNiR0NAAAABHNCSVQICAgIfAhkiAAAAAlwSFlzAAALEgAACxIB0t1+/AAAABx0RVh0U29mdHdhcmUAQWRvYmUgRmlyZXdvcmtzIENTNui8sowAAAOkSURBVDiNjZRtaJVlGMd/1/08zzln5zjP1LWcU9N0NkN8m2CYjpgQYQXqSs0I84OLIC0hkEKoPtiH3gmKoiJDU7QpLgoLjLIQCpEsNJ1vqUOdO7ppbuec5+V+rj4ctwzd8IIbbi6u+8f1539dt3A78eXC7QizUF7gyV1fD1Yqg4JWz84yffhm0qkFqBogB9rM8tZdtwVsPUhWhGcFJngGeWrPzHm5oaMmkfEg1usvLFyc8jLRqDOMru7AyC8saQr7GG7f5fvDeH7Ej8CM66nIF+8yngt6HWaKh7k49Soy9nXurCi1o3qUbS3zWfrYeQDTB/Qj6kX6Ybhw4B+bOYoLKCC9H3Nu/leUTZ1JdRWkkn2ldcCamzrcf47KKXdAJllSlxAOkRgyHsGC/zRday5Qld9DyoM4/q/rUoy/CXh3jzOu3bHUVZeU+DEn8FInkPBFlu3+nW3Nw0mk6vCDiWg8CeJaxEwuHS3+z5RgY+YBR6V1Z1nxSOfoaPa4LASWxxdNp+VWTk7+4vzaou8v8PN+xo+KY2xsw6une2frhw05CTYOmQvsEhjhWjn0bmXPjpE1+kplmmkP3suftwTubK9Vq22qKmrBhpY4jvd5afdRA3wGjFAgcnTK2s4hY0/GPNIb0nErGMCRxWOOX64Z8RAC4oCXdklmEvcL8o0BfkNK4lUg9HTl+oPlQxdNo3Mg4Nv175e/1LDGzZen30MEjRUtmXSfiTVu1kK8W4txyV6BMKlbgk3lMwYCiusNy9fVfvvwMxv8Ynl6vxoByANLTWplvuj/nF9m2+PDtt1eiHPBr1oIfhCChQMBw6Aw0UulqTKZdfVvfG7VcfIqLG9bcldL/+pdWTLxLUy8Qq38heUIjh4XlzZxzQm19lLFlr8vdQ97rjZVOLf8nclzckbcD4wxXMidpX30sFd37Fv/GtwwhzhxGVAprjbg0gCAEeIgwCZyTV2Z1REEW8O4py0wsjeloKoMr6iCY6dP92H6Vw/oTyICIthibxjm/DfN9lVz8IqtqKYLUXfoKVMVQVVJOElGjrnnUt9T9wbgp8AyYKaGlqingHZU/uG2NTZSVqwHQTWkx9hxjkpWDaCg6Ckj5qebgBVbT3V3NNXMSiWSDdGV3hrtzla7J+duwPOToIg42ChPQOQjspnSlp1V+Gjdged7+8UN5CRAV7a5EdFNwCjEaBR27b3W890TE7g24NAP/mMDXRWrGoFPQI9ls/MWO2dWFAar/xcOIImbbpA3zgAAAABJRU5ErkJggg==);\n",
       "        }\n",
       "    </style>\n",
       "    <div>\n",
       "        <a href=\"https://bokeh.org\" target=\"_blank\" class=\"bk-notebook-logo\"></a>\n",
       "        <span id=\"a06a230d-da63-4a52-9142-28e966a1859a\">Loading BokehJS ...</span>\n",
       "    </div>\n"
      ]
     },
     "metadata": {},
     "output_type": "display_data"
    },
    {
     "data": {
      "application/javascript": "'use strict';\n(function(root) {\n  function now() {\n    return new Date();\n  }\n\n  const force = true;\n\n  if (typeof root._bokeh_onload_callbacks === \"undefined\" || force === true) {\n    root._bokeh_onload_callbacks = [];\n    root._bokeh_is_loading = undefined;\n  }\n\nconst JS_MIME_TYPE = 'application/javascript';\n  const HTML_MIME_TYPE = 'text/html';\n  const EXEC_MIME_TYPE = 'application/vnd.bokehjs_exec.v0+json';\n  const CLASS_NAME = 'output_bokeh rendered_html';\n\n  /**\n   * Render data to the DOM node\n   */\n  function render(props, node) {\n    const script = document.createElement(\"script\");\n    node.appendChild(script);\n  }\n\n  /**\n   * Handle when an output is cleared or removed\n   */\n  function handleClearOutput(event, handle) {\n    function drop(id) {\n      const view = Bokeh.index.get_by_id(id)\n      if (view != null) {\n        view.model.document.clear()\n        Bokeh.index.delete(view)\n      }\n    }\n\n    const cell = handle.cell;\n\n    const id = cell.output_area._bokeh_element_id;\n    const server_id = cell.output_area._bokeh_server_id;\n\n    // Clean up Bokeh references\n    if (id != null) {\n      drop(id)\n    }\n\n    if (server_id !== undefined) {\n      // Clean up Bokeh references\n      const cmd_clean = \"from bokeh.io.state import curstate; print(curstate().uuid_to_server['\" + server_id + \"'].get_sessions()[0].document.roots[0]._id)\";\n      cell.notebook.kernel.execute(cmd_clean, {\n        iopub: {\n          output: function(msg) {\n            const id = msg.content.text.trim()\n            drop(id)\n          }\n        }\n      });\n      // Destroy server and session\n      const cmd_destroy = \"import bokeh.io.notebook as ion; ion.destroy_server('\" + server_id + \"')\";\n      cell.notebook.kernel.execute(cmd_destroy);\n    }\n  }\n\n  /**\n   * Handle when a new output is added\n   */\n  function handleAddOutput(event, handle) {\n    const output_area = handle.output_area;\n    const output = handle.output;\n\n    // limit handleAddOutput to display_data with EXEC_MIME_TYPE content only\n    if ((output.output_type != \"display_data\") || (!Object.prototype.hasOwnProperty.call(output.data, EXEC_MIME_TYPE))) {\n      return\n    }\n\n    const toinsert = output_area.element.find(\".\" + CLASS_NAME.split(' ')[0]);\n\n    if (output.metadata[EXEC_MIME_TYPE][\"id\"] !== undefined) {\n      toinsert[toinsert.length - 1].firstChild.textContent = output.data[JS_MIME_TYPE];\n      // store reference to embed id on output_area\n      output_area._bokeh_element_id = output.metadata[EXEC_MIME_TYPE][\"id\"];\n    }\n    if (output.metadata[EXEC_MIME_TYPE][\"server_id\"] !== undefined) {\n      const bk_div = document.createElement(\"div\");\n      bk_div.innerHTML = output.data[HTML_MIME_TYPE];\n      const script_attrs = bk_div.children[0].attributes;\n      for (let i = 0; i < script_attrs.length; i++) {\n        toinsert[toinsert.length - 1].firstChild.setAttribute(script_attrs[i].name, script_attrs[i].value);\n        toinsert[toinsert.length - 1].firstChild.textContent = bk_div.children[0].textContent\n      }\n      // store reference to server id on output_area\n      output_area._bokeh_server_id = output.metadata[EXEC_MIME_TYPE][\"server_id\"];\n    }\n  }\n\n  function register_renderer(events, OutputArea) {\n\n    function append_mime(data, metadata, element) {\n      // create a DOM node to render to\n      const toinsert = this.create_output_subarea(\n        metadata,\n        CLASS_NAME,\n        EXEC_MIME_TYPE\n      );\n      this.keyboard_manager.register_events(toinsert);\n      // Render to node\n      const props = {data: data, metadata: metadata[EXEC_MIME_TYPE]};\n      render(props, toinsert[toinsert.length - 1]);\n      element.append(toinsert);\n      return toinsert\n    }\n\n    /* Handle when an output is cleared or removed */\n    events.on('clear_output.CodeCell', handleClearOutput);\n    events.on('delete.Cell', handleClearOutput);\n\n    /* Handle when a new output is added */\n    events.on('output_added.OutputArea', handleAddOutput);\n\n    /**\n     * Register the mime type and append_mime function with output_area\n     */\n    OutputArea.prototype.register_mime_type(EXEC_MIME_TYPE, append_mime, {\n      /* Is output safe? */\n      safe: true,\n      /* Index of renderer in `output_area.display_order` */\n      index: 0\n    });\n  }\n\n  // register the mime type if in Jupyter Notebook environment and previously unregistered\n  if (root.Jupyter !== undefined) {\n    const events = require('base/js/events');\n    const OutputArea = require('notebook/js/outputarea').OutputArea;\n\n    if (OutputArea.prototype.mime_types().indexOf(EXEC_MIME_TYPE) == -1) {\n      register_renderer(events, OutputArea);\n    }\n  }\n  if (typeof (root._bokeh_timeout) === \"undefined\" || force === true) {\n    root._bokeh_timeout = Date.now() + 5000;\n    root._bokeh_failed_load = false;\n  }\n\n  const NB_LOAD_WARNING = {'data': {'text/html':\n     \"<div style='background-color: #fdd'>\\n\"+\n     \"<p>\\n\"+\n     \"BokehJS does not appear to have successfully loaded. If loading BokehJS from CDN, this \\n\"+\n     \"may be due to a slow or bad network connection. Possible fixes:\\n\"+\n     \"</p>\\n\"+\n     \"<ul>\\n\"+\n     \"<li>re-rerun `output_notebook()` to attempt to load from CDN again, or</li>\\n\"+\n     \"<li>use INLINE resources instead, as so:</li>\\n\"+\n     \"</ul>\\n\"+\n     \"<code>\\n\"+\n     \"from bokeh.resources import INLINE\\n\"+\n     \"output_notebook(resources=INLINE)\\n\"+\n     \"</code>\\n\"+\n     \"</div>\"}};\n\n  function display_loaded(error = null) {\n    const el = document.getElementById(\"a06a230d-da63-4a52-9142-28e966a1859a\");\n    if (el != null) {\n      const html = (() => {\n        if (typeof root.Bokeh === \"undefined\") {\n          if (error == null) {\n            return \"BokehJS is loading ...\";\n          } else {\n            return \"BokehJS failed to load.\";\n          }\n        } else {\n          const prefix = `BokehJS ${root.Bokeh.version}`;\n          if (error == null) {\n            return `${prefix} successfully loaded.`;\n          } else {\n            return `${prefix} <b>encountered errors</b> while loading and may not function as expected.`;\n          }\n        }\n      })();\n      el.innerHTML = html;\n\n      if (error != null) {\n        const wrapper = document.createElement(\"div\");\n        wrapper.style.overflow = \"auto\";\n        wrapper.style.height = \"5em\";\n        wrapper.style.resize = \"vertical\";\n        const content = document.createElement(\"div\");\n        content.style.fontFamily = \"monospace\";\n        content.style.whiteSpace = \"pre-wrap\";\n        content.style.backgroundColor = \"rgb(255, 221, 221)\";\n        content.textContent = error.stack ?? error.toString();\n        wrapper.append(content);\n        el.append(wrapper);\n      }\n    } else if (Date.now() < root._bokeh_timeout) {\n      setTimeout(() => display_loaded(error), 100);\n    }\n  }\n\n  function run_callbacks() {\n    try {\n      root._bokeh_onload_callbacks.forEach(function(callback) {\n        if (callback != null)\n          callback();\n      });\n    } finally {\n      delete root._bokeh_onload_callbacks\n    }\n    console.debug(\"Bokeh: all callbacks have finished\");\n  }\n\n  function load_libs(css_urls, js_urls, callback) {\n    if (css_urls == null) css_urls = [];\n    if (js_urls == null) js_urls = [];\n\n    root._bokeh_onload_callbacks.push(callback);\n    if (root._bokeh_is_loading > 0) {\n      console.debug(\"Bokeh: BokehJS is being loaded, scheduling callback at\", now());\n      return null;\n    }\n    if (js_urls == null || js_urls.length === 0) {\n      run_callbacks();\n      return null;\n    }\n    console.debug(\"Bokeh: BokehJS not loaded, scheduling load and callback at\", now());\n    root._bokeh_is_loading = css_urls.length + js_urls.length;\n\n    function on_load() {\n      root._bokeh_is_loading--;\n      if (root._bokeh_is_loading === 0) {\n        console.debug(\"Bokeh: all BokehJS libraries/stylesheets loaded\");\n        run_callbacks()\n      }\n    }\n\n    function on_error(url) {\n      console.error(\"failed to load \" + url);\n    }\n\n    for (let i = 0; i < css_urls.length; i++) {\n      const url = css_urls[i];\n      const element = document.createElement(\"link\");\n      element.onload = on_load;\n      element.onerror = on_error.bind(null, url);\n      element.rel = \"stylesheet\";\n      element.type = \"text/css\";\n      element.href = url;\n      console.debug(\"Bokeh: injecting link tag for BokehJS stylesheet: \", url);\n      document.body.appendChild(element);\n    }\n\n    for (let i = 0; i < js_urls.length; i++) {\n      const url = js_urls[i];\n      const element = document.createElement('script');\n      element.onload = on_load;\n      element.onerror = on_error.bind(null, url);\n      element.async = false;\n      element.src = url;\n      console.debug(\"Bokeh: injecting script tag for BokehJS library: \", url);\n      document.head.appendChild(element);\n    }\n  };\n\n  function inject_raw_css(css) {\n    const element = document.createElement(\"style\");\n    element.appendChild(document.createTextNode(css));\n    document.body.appendChild(element);\n  }\n\n  const js_urls = [\"https://cdn.bokeh.org/bokeh/release/bokeh-3.4.3.min.js\", \"https://cdn.bokeh.org/bokeh/release/bokeh-gl-3.4.3.min.js\", \"https://cdn.bokeh.org/bokeh/release/bokeh-widgets-3.4.3.min.js\", \"https://cdn.bokeh.org/bokeh/release/bokeh-tables-3.4.3.min.js\", \"https://cdn.bokeh.org/bokeh/release/bokeh-mathjax-3.4.3.min.js\"];\n  const css_urls = [];\n\n  const inline_js = [    function(Bokeh) {\n      Bokeh.set_log_level(\"info\");\n    },\nfunction(Bokeh) {\n    }\n  ];\n\n  function run_inline_js() {\n    if (root.Bokeh !== undefined || force === true) {\n      try {\n            for (let i = 0; i < inline_js.length; i++) {\n      inline_js[i].call(root, root.Bokeh);\n    }\n\n      } catch (error) {display_loaded(error);throw error;\n      }if (force === true) {\n        display_loaded();\n      }} else if (Date.now() < root._bokeh_timeout) {\n      setTimeout(run_inline_js, 100);\n    } else if (!root._bokeh_failed_load) {\n      console.log(\"Bokeh: BokehJS failed to load within specified timeout.\");\n      root._bokeh_failed_load = true;\n    } else if (force !== true) {\n      const cell = $(document.getElementById(\"a06a230d-da63-4a52-9142-28e966a1859a\")).parents('.cell').data().cell;\n      cell.output_area.append_execute_result(NB_LOAD_WARNING)\n    }\n  }\n\n  if (root._bokeh_is_loading === 0) {\n    console.debug(\"Bokeh: BokehJS loaded, going straight to plotting\");\n    run_inline_js();\n  } else {\n    load_libs(css_urls, js_urls, function() {\n      console.debug(\"Bokeh: BokehJS plotting callback run at\", now());\n      run_inline_js();\n    });\n  }\n}(window));",
      "application/vnd.bokehjs_load.v0+json": ""
     },
     "metadata": {},
     "output_type": "display_data"
    }
   ],
   "source": [
    "from gentropy.common.session import Session\n",
    "from plotnine import (\n",
    "    aes,\n",
    "    after_stat,\n",
    "    element_blank,\n",
    "    element_line,\n",
    "    element_rect,\n",
    "    element_text,\n",
    "    facet_grid,\n",
    "    geom_density,\n",
    "    geom_histogram,\n",
    "    ggplot,\n",
    "    labs,\n",
    "    scale_x_continuous,\n",
    "    theme,\n",
    ")\n",
    "from pyspark.sql import functions as f\n",
    "\n",
    "from manuscript_methods.datasets import LeadVariantEffect\n"
   ]
  },
  {
   "cell_type": "code",
   "execution_count": 2,
   "id": "a75f94ad",
   "metadata": {},
   "outputs": [
    {
     "name": "stderr",
     "output_type": "stream",
     "text": [
      "Setting default log level to \"WARN\".\n",
      "To adjust logging level use sc.setLogLevel(newLevel). For SparkR, use setLogLevel(newLevel).\n",
      "25/06/30 11:45:16 WARN NativeCodeLoader: Unable to load native-hadoop library for your platform... using builtin-java classes where applicable\n"
     ]
    }
   ],
   "source": [
    "session = Session(extended_spark_conf={\"spark.driver.memory\": \"40G\"})\n",
    "lead_maf_dataset_path = \"../../data/lead-maf-vep\"\n"
   ]
  },
  {
   "cell_type": "code",
   "execution_count": 3,
   "id": "c81b9f43",
   "metadata": {},
   "outputs": [
    {
     "data": {
      "text/html": [
       "\n",
       "            <div>\n",
       "                <p><b>SparkSession - in-memory</b></p>\n",
       "                \n",
       "        <div>\n",
       "            <p><b>SparkContext</b></p>\n",
       "\n",
       "            <p><a href=\"http://mib117351s.internal.sanger.ac.uk:4040\">Spark UI</a></p>\n",
       "\n",
       "            <dl>\n",
       "              <dt>Version</dt>\n",
       "                <dd><code>v3.5.5</code></dd>\n",
       "              <dt>Master</dt>\n",
       "                <dd><code>local[*]</code></dd>\n",
       "              <dt>AppName</dt>\n",
       "                <dd><code>gentropy</code></dd>\n",
       "            </dl>\n",
       "        </div>\n",
       "        \n",
       "            </div>\n",
       "        "
      ],
      "text/plain": [
       "<pyspark.sql.session.SparkSession at 0x30e336090>"
      ]
     },
     "execution_count": 3,
     "metadata": {},
     "output_type": "execute_result"
    }
   ],
   "source": [
    "session.spark\n"
   ]
  },
  {
   "cell_type": "code",
   "execution_count": 4,
   "id": "059b94d6",
   "metadata": {},
   "outputs": [],
   "source": [
    "dataset_maf = LeadVariantEffect.from_parquet(session, lead_maf_dataset_path)\n",
    "dataset = dataset_maf.df.select(\n",
    "    \"rescaledStatistics.estimatedBeta\",\n",
    "    \"studyStatistics.studyType\",\n",
    "    f.col(\"majorLdPopulationMaf\").getField(\"value\").alias(\"MAF\"),\n",
    "    \"locusStatistics.locusSize\",\n",
    ")\n"
   ]
  },
  {
   "cell_type": "markdown",
   "id": "cf41a98e",
   "metadata": {},
   "source": [
    "## Plot the distributions of all variables across study types\n"
   ]
  },
  {
   "cell_type": "code",
   "execution_count": 5,
   "id": "e754f498",
   "metadata": {},
   "outputs": [
    {
     "name": "stderr",
     "output_type": "stream",
     "text": [
      "                                                                                \r"
     ]
    },
    {
     "data": {
      "text/html": [
       "<div>\n",
       "<style scoped>\n",
       "    .dataframe tbody tr th:only-of-type {\n",
       "        vertical-align: middle;\n",
       "    }\n",
       "\n",
       "    .dataframe tbody tr th {\n",
       "        vertical-align: top;\n",
       "    }\n",
       "\n",
       "    .dataframe thead th {\n",
       "        text-align: right;\n",
       "    }\n",
       "</style>\n",
       "<table border=\"1\" class=\"dataframe\">\n",
       "  <thead>\n",
       "    <tr style=\"text-align: right;\">\n",
       "      <th></th>\n",
       "      <th>estimatedBeta</th>\n",
       "      <th>studyType</th>\n",
       "      <th>MAF</th>\n",
       "      <th>locusSize</th>\n",
       "    </tr>\n",
       "  </thead>\n",
       "  <tbody>\n",
       "    <tr>\n",
       "      <th>0</th>\n",
       "      <td>8.114996</td>\n",
       "      <td>gwas</td>\n",
       "      <td>0.000456</td>\n",
       "      <td>1</td>\n",
       "    </tr>\n",
       "    <tr>\n",
       "      <th>1</th>\n",
       "      <td>-1.309428</td>\n",
       "      <td>eqtl</td>\n",
       "      <td>0.230956</td>\n",
       "      <td>4</td>\n",
       "    </tr>\n",
       "    <tr>\n",
       "      <th>2</th>\n",
       "      <td>0.446965</td>\n",
       "      <td>sqtl</td>\n",
       "      <td>0.243415</td>\n",
       "      <td>29</td>\n",
       "    </tr>\n",
       "    <tr>\n",
       "      <th>3</th>\n",
       "      <td>-0.651588</td>\n",
       "      <td>tuqtl</td>\n",
       "      <td>0.203497</td>\n",
       "      <td>2</td>\n",
       "    </tr>\n",
       "    <tr>\n",
       "      <th>4</th>\n",
       "      <td>-0.472081</td>\n",
       "      <td>eqtl</td>\n",
       "      <td>0.425893</td>\n",
       "      <td>5</td>\n",
       "    </tr>\n",
       "    <tr>\n",
       "      <th>...</th>\n",
       "      <td>...</td>\n",
       "      <td>...</td>\n",
       "      <td>...</td>\n",
       "      <td>...</td>\n",
       "    </tr>\n",
       "    <tr>\n",
       "      <th>2833753</th>\n",
       "      <td>-0.785515</td>\n",
       "      <td>eqtl</td>\n",
       "      <td>0.288496</td>\n",
       "      <td>2</td>\n",
       "    </tr>\n",
       "    <tr>\n",
       "      <th>2833754</th>\n",
       "      <td>-0.116795</td>\n",
       "      <td>gwas</td>\n",
       "      <td>0.084892</td>\n",
       "      <td>11</td>\n",
       "    </tr>\n",
       "    <tr>\n",
       "      <th>2833755</th>\n",
       "      <td>1.444743</td>\n",
       "      <td>eqtl</td>\n",
       "      <td>0.015777</td>\n",
       "      <td>7</td>\n",
       "    </tr>\n",
       "    <tr>\n",
       "      <th>2833756</th>\n",
       "      <td>0.823227</td>\n",
       "      <td>tuqtl</td>\n",
       "      <td>0.326421</td>\n",
       "      <td>12</td>\n",
       "    </tr>\n",
       "    <tr>\n",
       "      <th>2833757</th>\n",
       "      <td>2.407195</td>\n",
       "      <td>eqtl</td>\n",
       "      <td>0.017315</td>\n",
       "      <td>1</td>\n",
       "    </tr>\n",
       "  </tbody>\n",
       "</table>\n",
       "<p>2833758 rows × 4 columns</p>\n",
       "</div>"
      ],
      "text/plain": [
       "         estimatedBeta studyType       MAF  locusSize\n",
       "0             8.114996      gwas  0.000456          1\n",
       "1            -1.309428      eqtl  0.230956          4\n",
       "2             0.446965      sqtl  0.243415         29\n",
       "3            -0.651588     tuqtl  0.203497          2\n",
       "4            -0.472081      eqtl  0.425893          5\n",
       "...                ...       ...       ...        ...\n",
       "2833753      -0.785515      eqtl  0.288496          2\n",
       "2833754      -0.116795      gwas  0.084892         11\n",
       "2833755       1.444743      eqtl  0.015777          7\n",
       "2833756       0.823227     tuqtl  0.326421         12\n",
       "2833757       2.407195      eqtl  0.017315          1\n",
       "\n",
       "[2833758 rows x 4 columns]"
      ]
     },
     "execution_count": 5,
     "metadata": {},
     "output_type": "execute_result"
    }
   ],
   "source": [
    "data = dataset.toPandas()\n",
    "data\n"
   ]
  },
  {
   "cell_type": "code",
   "execution_count": null,
   "id": "1d5d5d36",
   "metadata": {},
   "outputs": [
    {
     "name": "stderr",
     "output_type": "stream",
     "text": [
      "/Users/ss60/Projects/Gentropy-manuscript/.venv/lib/python3.11/site-packages/plotnine/layer.py:284: PlotnineWarning: stat_bin : Removed 2744 rows containing non-finite values.\n",
      "/Users/ss60/Projects/Gentropy-manuscript/.venv/lib/python3.11/site-packages/plotnine/layer.py:284: PlotnineWarning: stat_density : Removed 2744 rows containing non-finite values.\n"
     ]
    }
   ],
   "source": [
    "REM = 10\n",
    "\n",
    "plot = (\n",
    "    ggplot(data, aes(x=\"MAF\", y=after_stat(\"density\")))\n",
    "    + geom_histogram(bins=10, fill=\"blue\", color=\"black\", alpha=0.7)\n",
    "    + facet_grid(cols=\"studyType\")\n",
    "    + theme(\n",
    "        figure_size=(10, 4.5),  # ~85mm wide\n",
    "        axis_title=element_text(size=REM * 1, family=\"sans-serif\"),\n",
    "        axis_text=element_text(size=REM * 0.8, family=\"sans-serif\"),\n",
    "        axis_text_x=element_text(rotation=45, hjust=1),\n",
    "        axis_ticks=element_line(color=\"black\"),\n",
    "        axis_line=element_line(color=\"black\"),\n",
    "        panel_background=element_rect(fill=\"white\"),\n",
    "        panel_border=element_rect(color=\"black\", fill=None),\n",
    "        panel_grid=element_blank(),\n",
    "        plot_margin=0.1,\n",
    "    )\n",
    "    + labs(x=\"Major LD Population MAF\", y=\"Density\")\n",
    "    + geom_density()\n",
    "    + scale_x_continuous(\n",
    "        limits=(0, 0.5),\n",
    "        breaks=[0, 0.5],\n",
    "        labels=[\"0\", \"0.5\"],\n",
    "    )\n",
    ")\n",
    "plot\n"
   ]
  },
  {
   "cell_type": "code",
   "execution_count": 7,
   "id": "86122672",
   "metadata": {},
   "outputs": [
    {
     "name": "stderr",
     "output_type": "stream",
     "text": [
      "/home/mindos/Projects/OpenTargets/Gentropy-manuscript/.venv/lib/python3.11/site-packages/plotnine/layer.py:284: PlotnineWarning: stat_bin : Removed 2811 rows containing non-finite values.\n",
      "/home/mindos/Projects/OpenTargets/Gentropy-manuscript/.venv/lib/python3.11/site-packages/plotnine/layer.py:284: PlotnineWarning: stat_density : Removed 2811 rows containing non-finite values.\n",
      "/home/mindos/Projects/OpenTargets/Gentropy-manuscript/.venv/lib/python3.11/site-packages/plotnine/layer.py:364: PlotnineWarning: geom_histogram : Removed 14 rows containing missing values.\n"
     ]
    },
    {
     "data": {
      "image/png": "[encoded data removed]"
     },
     "metadata": {
      "image/png": {
       "height": 450,
       "width": 1000
      }
     },
     "output_type": "display_data"
    }
   ],
   "source": [
    "plot = (\n",
    "    ggplot(data, aes(x=\"locusSize\", y=after_stat(\"density\")))\n",
    "    + geom_histogram(bins=50, fill=\"blue\", color=\"black\", alpha=0.7)\n",
    "    + facet_grid(cols=\"studyType\")\n",
    "    + theme(\n",
    "        figure_size=(10, 4.5),  # ~85mm wide\n",
    "        axis_title=element_text(size=REM * 1, family=\"sans-serif\"),\n",
    "        axis_text=element_text(size=REM * 0.8, family=\"sans-serif\"),\n",
    "        axis_text_x=element_text(rotation=45, hjust=1),\n",
    "        axis_ticks=element_line(color=\"black\"),\n",
    "        axis_line=element_line(color=\"black\"),\n",
    "        panel_background=element_rect(fill=\"white\"),\n",
    "        panel_border=element_rect(color=\"black\", fill=None),\n",
    "        panel_grid=element_blank(),\n",
    "        plot_margin=0.1,\n",
    "    )\n",
    "    + labs(x=r\"$N_{variants}$\", y=\"density\")\n",
    "    + geom_density()\n",
    "    + scale_x_continuous(\n",
    "        limits=(0, 1000),\n",
    "        breaks=[0, 500, 1000],\n",
    "        labels=[\"0\", \"500\", \"1000\"],\n",
    "    )\n",
    ")\n",
    "plot\n"
   ]
  },
  {
   "cell_type": "code",
   "execution_count": 8,
   "id": "38be901e",
   "metadata": {},
   "outputs": [
    {
     "name": "stderr",
     "output_type": "stream",
     "text": [
      "/home/mindos/Projects/OpenTargets/Gentropy-manuscript/.venv/lib/python3.11/site-packages/plotnine/layer.py:284: PlotnineWarning: stat_bin : Removed 113746 rows containing non-finite values.\n",
      "/home/mindos/Projects/OpenTargets/Gentropy-manuscript/.venv/lib/python3.11/site-packages/plotnine/layer.py:364: PlotnineWarning: geom_histogram : Removed 14 rows containing missing values.\n"
     ]
    },
    {
     "data": {
      "image/png": "[encoded data removed]"
     },
     "metadata": {
      "image/png": {
       "height": 450,
       "width": 1000
      }
     },
     "output_type": "display_data"
    }
   ],
   "source": [
    "data[\"absEstimatedBeta\"] = data[\"estimatedBeta\"].abs()\n",
    "plot = (\n",
    "    ggplot(data, aes(x=\"absEstimatedBeta\", y=after_stat(\"density\")))\n",
    "    + geom_histogram(bins=50, fill=\"blue\", color=\"black\", alpha=0.7)\n",
    "    + facet_grid(cols=\"studyType\")\n",
    "    + theme(\n",
    "        figure_size=(10, 4.5),  # ~85mm wide\n",
    "        axis_title=element_text(size=REM * 1, family=\"sans-serif\"),\n",
    "        axis_text=element_text(size=REM * 0.8, family=\"sans-serif\"),\n",
    "        axis_text_x=element_text(rotation=45, hjust=1),\n",
    "        axis_ticks=element_line(color=\"black\"),\n",
    "        axis_line=element_line(color=\"black\"),\n",
    "        panel_background=element_rect(fill=\"white\"),\n",
    "        panel_border=element_rect(color=\"black\", fill=None),\n",
    "        panel_grid=element_blank(),\n",
    "        plot_margin=0.1,\n",
    "    )\n",
    "    + labs(x=r\"$|\\hat{\\beta}_{\\mathrm{rescaled}}|$\", y=\"Density\")\n",
    "    + scale_x_continuous(limits=(0, 3), breaks=[0, 3], labels=[\"0\", \"3\"])\n",
    "    # + scale_y_continuous(limits=(0, 1000), breaks=[0, 500, 1000], labels=[\"0\", \"500\", \"1000\"])\n",
    ")\n",
    "plot\n"
   ]
  },
  {
   "cell_type": "markdown",
   "id": "c247f61a",
   "metadata": {},
   "source": [
    "## credible set size vs MAF\n",
    "\n",
    "Regression according to the model:\n"
   ]
  },
  {
   "cell_type": "code",
   "execution_count": 19,
   "id": "3fa56dc1",
   "metadata": {},
   "outputs": [],
   "source": [
    "data = data.dropna(subset=[\"MAF\", \"locusSize\", \"absEstimatedBeta\"]).reset_index(drop=True)\n"
   ]
  },
  {
   "cell_type": "code",
   "execution_count": null,
   "id": "a40dfdbf",
   "metadata": {},
   "outputs": [
    {
     "data": {
      "text/html": [
       "<div>\n",
       "<style scoped>\n",
       "    .dataframe tbody tr th:only-of-type {\n",
       "        vertical-align: middle;\n",
       "    }\n",
       "\n",
       "    .dataframe tbody tr th {\n",
       "        vertical-align: top;\n",
       "    }\n",
       "\n",
       "    .dataframe thead th {\n",
       "        text-align: right;\n",
       "    }\n",
       "</style>\n",
       "<table border=\"1\" class=\"dataframe\">\n",
       "  <thead>\n",
       "    <tr style=\"text-align: right;\">\n",
       "      <th></th>\n",
       "      <th>estimatedBeta</th>\n",
       "      <th>studyType</th>\n",
       "      <th>MAF</th>\n",
       "      <th>locusSize</th>\n",
       "      <th>absEstimatedBeta</th>\n",
       "    </tr>\n",
       "  </thead>\n",
       "  <tbody>\n",
       "    <tr>\n",
       "      <th>0</th>\n",
       "      <td>-0.039763</td>\n",
       "      <td>gwas</td>\n",
       "      <td>0.476350</td>\n",
       "      <td>1</td>\n",
       "      <td>0.039763</td>\n",
       "    </tr>\n",
       "    <tr>\n",
       "      <th>1</th>\n",
       "      <td>0.543786</td>\n",
       "      <td>eqtl</td>\n",
       "      <td>0.293208</td>\n",
       "      <td>2</td>\n",
       "      <td>0.543786</td>\n",
       "    </tr>\n",
       "    <tr>\n",
       "      <th>2</th>\n",
       "      <td>-0.557317</td>\n",
       "      <td>tuqtl</td>\n",
       "      <td>0.217797</td>\n",
       "      <td>85</td>\n",
       "      <td>0.557317</td>\n",
       "    </tr>\n",
       "    <tr>\n",
       "      <th>3</th>\n",
       "      <td>0.094370</td>\n",
       "      <td>gwas</td>\n",
       "      <td>0.022931</td>\n",
       "      <td>20</td>\n",
       "      <td>0.094370</td>\n",
       "    </tr>\n",
       "    <tr>\n",
       "      <th>4</th>\n",
       "      <td>0.616734</td>\n",
       "      <td>eqtl</td>\n",
       "      <td>0.338524</td>\n",
       "      <td>8</td>\n",
       "      <td>0.616734</td>\n",
       "    </tr>\n",
       "    <tr>\n",
       "      <th>...</th>\n",
       "      <td>...</td>\n",
       "      <td>...</td>\n",
       "      <td>...</td>\n",
       "      <td>...</td>\n",
       "      <td>...</td>\n",
       "    </tr>\n",
       "    <tr>\n",
       "      <th>2820463</th>\n",
       "      <td>-0.026049</td>\n",
       "      <td>gwas</td>\n",
       "      <td>0.135948</td>\n",
       "      <td>5</td>\n",
       "      <td>0.026049</td>\n",
       "    </tr>\n",
       "    <tr>\n",
       "      <th>2820464</th>\n",
       "      <td>-0.041746</td>\n",
       "      <td>gwas</td>\n",
       "      <td>0.293796</td>\n",
       "      <td>1</td>\n",
       "      <td>0.041746</td>\n",
       "    </tr>\n",
       "    <tr>\n",
       "      <th>2820465</th>\n",
       "      <td>-0.917600</td>\n",
       "      <td>eqtl</td>\n",
       "      <td>0.478708</td>\n",
       "      <td>57</td>\n",
       "      <td>0.917600</td>\n",
       "    </tr>\n",
       "    <tr>\n",
       "      <th>2820466</th>\n",
       "      <td>-0.722102</td>\n",
       "      <td>eqtl</td>\n",
       "      <td>0.258842</td>\n",
       "      <td>2</td>\n",
       "      <td>0.722102</td>\n",
       "    </tr>\n",
       "    <tr>\n",
       "      <th>2820467</th>\n",
       "      <td>-0.611639</td>\n",
       "      <td>eqtl</td>\n",
       "      <td>0.470508</td>\n",
       "      <td>10</td>\n",
       "      <td>0.611639</td>\n",
       "    </tr>\n",
       "  </tbody>\n",
       "</table>\n",
       "<p>2820468 rows × 5 columns</p>\n",
       "</div>"
      ],
      "text/plain": [
       "         estimatedBeta studyType       MAF  locusSize  absEstimatedBeta\n",
       "0            -0.039763      gwas  0.476350          1          0.039763\n",
       "1             0.543786      eqtl  0.293208          2          0.543786\n",
       "2            -0.557317     tuqtl  0.217797         85          0.557317\n",
       "3             0.094370      gwas  0.022931         20          0.094370\n",
       "4             0.616734      eqtl  0.338524          8          0.616734\n",
       "...                ...       ...       ...        ...               ...\n",
       "2820463      -0.026049      gwas  0.135948          5          0.026049\n",
       "2820464      -0.041746      gwas  0.293796          1          0.041746\n",
       "2820465      -0.917600      eqtl  0.478708         57          0.917600\n",
       "2820466      -0.722102      eqtl  0.258842          2          0.722102\n",
       "2820467      -0.611639      eqtl  0.470508         10          0.611639\n",
       "\n",
       "[2820468 rows x 5 columns]"
      ]
     },
     "execution_count": 20,
     "metadata": {},
     "output_type": "execute_result"
    }
   ],
   "source": [
    "data\n"
   ]
  },
  {
   "cell_type": "code",
   "execution_count": 16,
   "id": "385c0389",
   "metadata": {},
   "outputs": [
    {
     "name": "stderr",
     "output_type": "stream",
     "text": [
      "/home/mindos/Projects/OpenTargets/Gentropy-manuscript/.venv/lib/python3.11/site-packages/statsmodels/regression/mixed_linear_model.py:2261: ConvergenceWarning: The Hessian matrix at the estimated parameter values is not positive definite.\n"
     ]
    },
    {
     "name": "stdout",
     "output_type": "stream",
     "text": [
      "            Mixed Linear Model Regression Results\n",
      "=============================================================\n",
      "Model:            MixedLM  Dependent Variable: locusSize     \n",
      "No. Observations: 2831014  Method:             REML          \n",
      "No. Groups:       7        Scale:              7518.7107     \n",
      "Min. group size:  16050    Log-Likelihood:     -16650683.4355\n",
      "Max. group size:  1349161  Converged:          Yes           \n",
      "Mean group size:  404430.6                                   \n",
      "--------------------------------------------------------------\n",
      "             Coef.    Std.Err.    z     P>|z|   [0.025  0.975]\n",
      "--------------------------------------------------------------\n",
      "Intercept     21.391    32.774   0.653  0.514  -42.844  85.627\n",
      "MAF           18.420     0.339  54.359  0.000   17.756  19.084\n",
      "Group Var   7518.711                                          \n",
      "=============================================================\n",
      "\n"
     ]
    }
   ],
   "source": [
    "from statsmodels.formula.api import mixedlm\n",
    "\n",
    "model = mixedlm(\"locusSize ~ MAF\", data, groups=data[\"studyType\"])\n",
    "result = model.fit()\n",
    "print(result.summary())\n"
   ]
  },
  {
   "cell_type": "code",
   "execution_count": 21,
   "id": "c65acb6c",
   "metadata": {},
   "outputs": [
    {
     "name": "stderr",
     "output_type": "stream",
     "text": [
      "/home/mindos/Projects/OpenTargets/Gentropy-manuscript/.venv/lib/python3.11/site-packages/statsmodels/regression/mixed_linear_model.py:2261: ConvergenceWarning: The Hessian matrix at the estimated parameter values is not positive definite.\n"
     ]
    },
    {
     "name": "stdout",
     "output_type": "stream",
     "text": [
      "             Mixed Linear Model Regression Results\n",
      "===============================================================\n",
      "Model:            MixedLM  Dependent Variable: absEstimatedBeta\n",
      "No. Observations: 2820468  Method:             REML            \n",
      "No. Groups:       7        Scale:              10.0393         \n",
      "Min. group size:  15933    Log-Likelihood:     -7254829.1057   \n",
      "Max. group size:  1348868  Converged:          Yes             \n",
      "Mean group size:  402924.0                                     \n",
      "----------------------------------------------------------------\n",
      "               Coef.   Std.Err.     z      P>|z|  [0.025  0.975]\n",
      "----------------------------------------------------------------\n",
      "Intercept       2.113     1.198     1.765  0.078  -0.234   4.460\n",
      "MAF            -5.332     0.012  -429.025  0.000  -5.356  -5.307\n",
      "Group Var      10.039                                           \n",
      "===============================================================\n",
      "\n"
     ]
    }
   ],
   "source": [
    "model = mixedlm(\"absEstimatedBeta ~ MAF\", data, groups=data[\"studyType\"])\n",
    "result = model.fit()\n",
    "print(result.summary())\n"
   ]
  },
  {
   "cell_type": "code",
   "execution_count": 22,
   "id": "e715fd6a",
   "metadata": {},
   "outputs": [
    {
     "name": "stderr",
     "output_type": "stream",
     "text": [
      "/home/mindos/Projects/OpenTargets/Gentropy-manuscript/.venv/lib/python3.11/site-packages/statsmodels/regression/mixed_linear_model.py:2261: ConvergenceWarning: The Hessian matrix at the estimated parameter values is not positive definite.\n"
     ]
    },
    {
     "name": "stdout",
     "output_type": "stream",
     "text": [
      "             Mixed Linear Model Regression Results\n",
      "===============================================================\n",
      "Model:              MixedLM  Dependent Variable: locusSize     \n",
      "No. Observations:   2820468  Method:             REML          \n",
      "No. Groups:         7        Scale:              7537.2143     \n",
      "Min. group size:    15933    Log-Likelihood:     -16592126.3897\n",
      "Max. group size:    1348868  Converged:          Yes           \n",
      "Mean group size:    402924.0                                   \n",
      "---------------------------------------------------------------\n",
      "                  Coef.   Std.Err.    z    P>|z|  [0.025 0.975]\n",
      "---------------------------------------------------------------\n",
      "Intercept          26.238   32.814   0.800 0.424 -38.077 90.552\n",
      "absEstimatedBeta   -0.704    0.016 -44.541 0.000  -0.735 -0.673\n",
      "Group Var        7537.214                                      \n",
      "===============================================================\n",
      "\n"
     ]
    }
   ],
   "source": [
    "model = mixedlm(\"locusSize ~ absEstimatedBeta\", data, groups=data[\"studyType\"])\n",
    "result = model.fit()\n",
    "print(result.summary())\n"
   ]
  }
 ],
 "metadata": {
  "kernelspec": {
   "display_name": "gentropy-manuscript",
   "language": "python",
   "name": "python3"
  },
  "language_info": {
   "codemirror_mode": {
    "name": "ipython",
    "version": 3
   },
   "file_extension": ".py",
   "mimetype": "text/x-python",
   "name": "python",
   "nbconvert_exporter": "python",
   "pygments_lexer": "ipython3",
   "version": "3.11.11"
  }
 },
 "nbformat": 4,
 "nbformat_minor": 5
}

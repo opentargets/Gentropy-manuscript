{
 "cells": [
  {
   "cell_type": "markdown",
   "id": "a9785145",
   "metadata": {},
   "source": [
    "# Study type distribution quality control\n",
    "\n",
    "The goal of this notebook is to check the distribution of study types in the dataset.\n"
   ]
  },
  {
   "cell_type": "markdown",
   "id": "b36a8e38",
   "metadata": {},
   "source": [
    "## Data Loading\n",
    "\n",
    "The data required for this analysis is loaded from the `computed maf` dataset.\n"
   ]
  },
  {
   "cell_type": "code",
   "execution_count": null,
   "id": "90e142fa",
   "metadata": {},
   "outputs": [],
   "source": [
    "from gentropy.common.session import Session\n",
    "from pyspark.sql import functions as f\n",
    "\n",
    "from manuscript_methods import group_statistics, plot_group_statistics\n",
    "from manuscript_methods.datasets import LeadVariantEffect\n",
    "import plotnine as p9\n"
   ]
  },
  {
   "cell_type": "code",
   "execution_count": 2,
   "id": "a125b97f",
   "metadata": {},
   "outputs": [
    {
     "name": "stderr",
     "output_type": "stream",
     "text": [
      "Setting default log level to \"WARN\".\n",
      "To adjust logging level use sc.setLogLevel(newLevel). For SparkR, use setLogLevel(newLevel).\n",
      "25/07/03 14:12:46 WARN NativeCodeLoader: Unable to load native-hadoop library for your platform... using builtin-java classes where applicable\n",
      "25/07/03 14:12:46 WARN Utils: Service 'SparkUI' could not bind on port 4040. Attempting port 4041.\n",
      "25/07/03 14:12:46 WARN Utils: Service 'SparkUI' could not bind on port 4041. Attempting port 4042.\n",
      "25/07/03 14:12:46 WARN Utils: Service 'SparkUI' could not bind on port 4042. Attempting port 4043.\n",
      "25/07/03 14:12:46 WARN Utils: Service 'SparkUI' could not bind on port 4043. Attempting port 4044.\n",
      "25/07/03 14:12:46 WARN Utils: Service 'SparkUI' could not bind on port 4044. Attempting port 4045.\n",
      "25/07/03 14:12:46 WARN Utils: Service 'SparkUI' could not bind on port 4045. Attempting port 4046.\n",
      "25/07/03 14:12:46 WARN Utils: Service 'SparkUI' could not bind on port 4046. Attempting port 4047.\n",
      "25/07/03 14:12:46 WARN Utils: Service 'SparkUI' could not bind on port 4047. Attempting port 4048.\n"
     ]
    }
   ],
   "source": [
    "session = Session(extended_spark_conf={\"spark.driver.memory\": \"40G\"})\n",
    "lead_maf_dataset_path = \"../../data/lead_variant_effect\"\n"
   ]
  },
  {
   "cell_type": "code",
   "execution_count": 3,
   "id": "fefeeccc",
   "metadata": {},
   "outputs": [
    {
     "data": {
      "text/html": [
       "\n",
       "            <div>\n",
       "                <p><b>SparkSession - in-memory</b></p>\n",
       "                \n",
       "        <div>\n",
       "            <p><b>SparkContext</b></p>\n",
       "\n",
       "            <p><a href=\"http://mib117351s.internal.sanger.ac.uk:4048\">Spark UI</a></p>\n",
       "\n",
       "            <dl>\n",
       "              <dt>Version</dt>\n",
       "                <dd><code>v3.5.5</code></dd>\n",
       "              <dt>Master</dt>\n",
       "                <dd><code>local[*]</code></dd>\n",
       "              <dt>AppName</dt>\n",
       "                <dd><code>gentropy</code></dd>\n",
       "            </dl>\n",
       "        </div>\n",
       "        \n",
       "            </div>\n",
       "        "
      ],
      "text/plain": [
       "<pyspark.sql.session.SparkSession at 0x30c9560d0>"
      ]
     },
     "execution_count": 3,
     "metadata": {},
     "output_type": "execute_result"
    }
   ],
   "source": [
    "session.spark\n"
   ]
  },
  {
   "cell_type": "code",
   "execution_count": 4,
   "id": "23526dcf",
   "metadata": {},
   "outputs": [],
   "source": [
    "dataset_maf = LeadVariantEffect.from_parquet(session, lead_maf_dataset_path)\n",
    "dataset = dataset_maf.df.select(\n",
    "    \"studyLocusId\",\n",
    "    \"studyStatistics.studyType\",\n",
    ")\n"
   ]
  },
  {
   "cell_type": "code",
   "execution_count": 5,
   "id": "3dfa9081",
   "metadata": {},
   "outputs": [
    {
     "name": "stderr",
     "output_type": "stream",
     "text": [
      "                                                                                \r"
     ]
    },
    {
     "name": "stdout",
     "output_type": "stream",
     "text": [
      "+-------+--------------------+---------+\n",
      "|summary|        studyLocusId|studyType|\n",
      "+-------+--------------------+---------+\n",
      "|  count|             2833758|  2833758|\n",
      "|   mean|            Infinity|     NULL|\n",
      "| stddev|                 NaN|     NULL|\n",
      "|    min|0000075e718162e97...| cis-pqtl|\n",
      "|    max|fffffef27b8b270d5...|    tuqtl|\n",
      "+-------+--------------------+---------+\n",
      "\n"
     ]
    }
   ],
   "source": [
    "dataset.describe().show()\n"
   ]
  },
  {
   "cell_type": "markdown",
   "id": "67abb543",
   "metadata": {},
   "source": [
    "## Plot the distribution of study types\n"
   ]
  },
  {
   "cell_type": "code",
   "execution_count": null,
   "id": "dc173911",
   "metadata": {},
   "outputs": [
    {
     "name": "stdout",
     "output_type": "stream",
     "text": [
      "+----------+-------+-----+------------------+\n",
      "| studyType|  count|    %|        percentage|\n",
      "+----------+-------+-----+------------------+\n",
      "|      eqtl|1349478|47.62| 47.62149767199599|\n",
      "|      gwas| 789453|27.86|27.858871505611983|\n",
      "|     tuqtl| 384852|13.58|13.580976216035385|\n",
      "|      sqtl| 223500| 7.89|  7.88705316403165|\n",
      "|    sceqtl|  52744| 1.86|1.8612739690545204|\n",
      "|trans-pqtl|  17678| 0.62|0.6238359097707002|\n",
      "|  cis-pqtl|  16053| 0.57|0.5664915634997767|\n",
      "+----------+-------+-----+------------------+\n",
      "\n"
     ]
    },
    {
     "name": "stderr",
     "output_type": "stream",
     "text": [
      "/Users/ss60/Projects/Gentropy-manuscript/.venv/lib/python3.11/site-packages/plotnine/ggplot.py:587: PlotnineWarning: Saving 2.5 x 3.3333333333333335 in image.\n",
      "/Users/ss60/Projects/Gentropy-manuscript/.venv/lib/python3.11/site-packages/plotnine/ggplot.py:588: PlotnineWarning: Filename: plots/01.4_study_type_distribution.jpg\n"
     ]
    },
    {
     "data": {
      "image/png": "[encoded data removed]",
      "text/plain": [
       "<Figure size 250x333.333 with 1 Axes>"
      ]
     },
     "metadata": {
      "image/png": {
       "height": 333,
       "width": 250
      }
     },
     "output_type": "display_data"
    },
    {
     "data": {
      "text/plain": [
       "<Figure Size: (250 x 333)>"
      ]
     },
     "execution_count": 17,
     "metadata": {},
     "output_type": "execute_result"
    },
    {
     "ename": "",
     "evalue": "",
     "output_type": "error",
     "traceback": [
      "\u001b[1;31mThe Kernel crashed while executing code in the current cell or a previous cell. \n",
      "\u001b[1;31mPlease review the code in the cell(s) to identify a possible cause of the failure. \n",
      "\u001b[1;31mClick <a href='https://aka.ms/vscodeJupyterKernelCrash'>here</a> for more info. \n",
      "\u001b[1;31mView Jupyter <a href='command:jupyter.viewOutput'>log</a> for further details."
     ]
    }
   ],
   "source": [
    "grouped_data = group_statistics(\n",
    "    dataset_maf.df.select(\n",
    "        \"studyLocusId\",\n",
    "        \"variantId\",\n",
    "        \"locusStatistics.locusSize\",\n",
    "        \"studyStatistics.studyType\",\n",
    "    ),\n",
    "    f.col(\"studyType\"),\n",
    ").orderBy(f.desc(\"count\"))\n",
    "grouped_data.show()\n",
    "\n",
    "plot = (\n",
    "    plot_group_statistics(grouped_data, \"studyType\", \"count\", \"%\", \"study type\")\n",
    "    + p9.theme(legend_position=\"none\")\n",
    "    + p9.geom_text(\n",
    "        p9.aes(x=\"studyType\", y=\"count\", label=\"%\"),\n",
    "        ha=\"center\",\n",
    "        size=10,\n",
    "        va=\"bottom\",\n",
    "        color=\"black\",\n",
    "        fontweight=\"bold\",\n",
    "        format_string=\"{}%\",\n",
    "    )\n",
    ")\n",
    "plot.save(\"plots/01.4_study_type_distribution.jpg\", dpi=300, bbox_inches=\"tight\")\n",
    "plot\n"
   ]
  }
 ],
 "metadata": {
  "kernelspec": {
   "display_name": "gentropy-manuscript",
   "language": "python",
   "name": "python3"
  },
  "language_info": {
   "codemirror_mode": {
    "name": "ipython",
    "version": 3
   },
   "file_extension": ".py",
   "mimetype": "text/x-python",
   "name": "python",
   "nbconvert_exporter": "python",
   "pygments_lexer": "ipython3",
   "version": "3.11.11"
  }
 },
 "nbformat": 4,
 "nbformat_minor": 5
}

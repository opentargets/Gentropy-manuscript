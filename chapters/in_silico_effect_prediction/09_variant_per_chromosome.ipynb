{
 "cells": [
  {
   "cell_type": "markdown",
   "metadata": {},
   "source": [
    "# Variant distribtion per chromosome\n",
    "\n",
    "This notebook aims to understand the distribution of variantIndex and credibleSet dataset variants across chromosomes.\n",
    "VariantIndex contains variants that have well known associations to traits or come from GWAS credible sets"
   ]
  },
  {
   "cell_type": "markdown",
   "metadata": {},
   "source": [
    "## Setup"
   ]
  },
  {
   "cell_type": "code",
   "execution_count": 2,
   "metadata": {},
   "outputs": [
    {
     "name": "stdout",
     "output_type": "stream",
     "text": [
      "openjdk version \"11.0.13\" 2021-10-19\n",
      "OpenJDK Runtime Environment JBR-11.0.13.7-1751.21-jcef (build 11.0.13+7-b1751.21)\n",
      "OpenJDK 64-Bit Server VM JBR-11.0.13.7-1751.21-jcef (build 11.0.13+7-b1751.21, mixed mode)\n"
     ]
    }
   ],
   "source": [
    "# Ensure proper java version < 11\n",
    "!java -version\n"
   ]
  },
  {
   "cell_type": "code",
   "execution_count": 35,
   "metadata": {},
   "outputs": [
    {
     "name": "stdout",
     "output_type": "stream",
     "text": [
      "receiving incremental file list\n",
      "\n",
      "sent 29 bytes  received 1.771 bytes  3.600,00 bytes/sec\n",
      "total size is 3.060.963.047  speedup is 1.700.535,03\n",
      "receiving incremental file list\n",
      "\n",
      "sent 29 bytes  received 1.770 bytes  3.598,00 bytes/sec\n",
      "total size is 2.371.305.976  speedup is 1.318.124,50\n"
     ]
    }
   ],
   "source": [
    "!rsync -rpltvz --delete rsync.ebi.ac.uk::pub/databases/opentargets/platform/25.03/output/variant ../../data/.\n",
    "!rsync -rpltvz --delete rsync.ebi.ac.uk::pub/databases/opentargets/platform/25.03/output/credible_set ../../data/.\n"
   ]
  },
  {
   "cell_type": "code",
   "execution_count": 59,
   "metadata": {},
   "outputs": [],
   "source": [
    "from __future__ import annotations\n",
    "\n",
    "import re\n",
    "from enum import StrEnum\n",
    "\n",
    "import requests\n",
    "import seaborn as sns\n",
    "from gentropy.common.session import Session\n",
    "from gentropy.dataset.study_locus import StudyLocus\n",
    "from gentropy.dataset.variant_index import VariantIndex\n",
    "from matplotlib import pyplot as plt\n",
    "from pyspark.sql import Column\n",
    "from pyspark.sql import functions as f\n"
   ]
  },
  {
   "cell_type": "code",
   "execution_count": 41,
   "metadata": {},
   "outputs": [
    {
     "name": "stderr",
     "output_type": "stream",
     "text": [
      "25/04/25 11:25:41 WARN Utils: Your hostname, mindos resolves to a loopback address: 127.0.1.1; using 192.168.0.100 instead (on interface eno1)\n",
      "25/04/25 11:25:41 WARN Utils: Set SPARK_LOCAL_IP if you need to bind to another address\n",
      "Setting default log level to \"WARN\".\n",
      "To adjust logging level use sc.setLogLevel(newLevel). For SparkR, use setLogLevel(newLevel).\n",
      "25/04/25 11:25:41 WARN NativeCodeLoader: Unable to load native-hadoop library for your platform... using builtin-java classes where applicable\n"
     ]
    }
   ],
   "source": [
    "session = Session(extended_spark_conf={\"spark.driver.memory\": \"40G\"})\n",
    "variant_index_path = \"../../data/variant\"\n",
    "credible_set_path = \"../../data/credible_set\"\n"
   ]
  },
  {
   "cell_type": "code",
   "execution_count": 42,
   "metadata": {},
   "outputs": [
    {
     "data": {
      "text/html": [
       "\n",
       "            <div>\n",
       "                <p><b>SparkSession - in-memory</b></p>\n",
       "                \n",
       "        <div>\n",
       "            <p><b>SparkContext</b></p>\n",
       "\n",
       "            <p><a href=\"http://192.168.0.100:4040\">Spark UI</a></p>\n",
       "\n",
       "            <dl>\n",
       "              <dt>Version</dt>\n",
       "                <dd><code>v3.5.5</code></dd>\n",
       "              <dt>Master</dt>\n",
       "                <dd><code>local[*]</code></dd>\n",
       "              <dt>AppName</dt>\n",
       "                <dd><code>gentropy</code></dd>\n",
       "            </dl>\n",
       "        </div>\n",
       "        \n",
       "            </div>\n",
       "        "
      ],
      "text/plain": [
       "<pyspark.sql.session.SparkSession at 0x7cfa4e9b9ed0>"
      ]
     },
     "execution_count": 42,
     "metadata": {},
     "output_type": "execute_result"
    }
   ],
   "source": [
    "session.spark\n"
   ]
  },
  {
   "cell_type": "code",
   "execution_count": 60,
   "metadata": {},
   "outputs": [],
   "source": [
    "sns.set_style(\"white\")\n",
    "sns.set_context(\"paper\", font_scale=0.0)\n",
    "sns.set_palette(sns.color_palette(\"coolwarm\"))\n"
   ]
  },
  {
   "cell_type": "code",
   "execution_count": 61,
   "metadata": {},
   "outputs": [],
   "source": [
    "### Extract chromosome lenghts\n",
    "\n",
    "\n",
    "class Chromosome:\n",
    "    __match_args__ = (\"name\", \"length\", \"order\")\n",
    "\n",
    "    arbitrary_order = {str(name): idx for name, idx in zip(list(range(1, 23)) + [\"X\", \"Y\", \"MT\"], list(range(1, 26)))}\n",
    "\n",
    "    class ChromosomeNotationType(StrEnum):\n",
    "        \"\"\"Chromosome notation type.\"\"\"\n",
    "\n",
    "        ENSEMBL = r\"^(\\d{1}|[12]{1}\\d{1}|[XY]{1}|MT{1})$\"\n",
    "        UCSC = r\"^(chr(\\d{1}|[12]{1}\\d{1}|[XYM]{1}))$\"\n",
    "\n",
    "    def __init__(self, name: str, length: int):\n",
    "        self.length = length\n",
    "\n",
    "        for not_type in self.ChromosomeNotationType:\n",
    "            pattern = re.compile(not_type.value)\n",
    "            _match = pattern.match(name)\n",
    "            match _match:\n",
    "                case re.Match():\n",
    "                    match not_type:\n",
    "                        case self.ChromosomeNotationType.UCSC:\n",
    "                            self.name = self.ucsc_to_ensemb(name)\n",
    "                        case self.ChromosomeNotationType.ENSEMBL:\n",
    "                            self.name = name\n",
    "                    self.order = self.arbitrary_order.get(self.name)\n",
    "                    break\n",
    "                case _:\n",
    "                    self.name = None\n",
    "                    self.order = None\n",
    "        if not self.name:\n",
    "            raise ValueError(f\"Encountered non-canonical chromosome name {name}\")\n",
    "\n",
    "    @staticmethod\n",
    "    def ucsc_to_ensemb(name: str) -> str:\n",
    "        \"\"\"Convert ucsc name to ensembl for canonical chromosomes.\"\"\"\n",
    "        return name.lower().removeprefix(\"chr\").replace(\"m\", \"mt\").upper()\n",
    "\n",
    "    def __eq__(self, other: Chromosome) -> bool:\n",
    "        return self.order == other.order\n",
    "\n",
    "    def __lt__(self, other: Chromosome) -> bool:\n",
    "        return self.order < other.order\n",
    "\n",
    "    def __gt__(self, other: Chromosome) -> bool:\n",
    "        return self.order > other.order\n",
    "\n",
    "    def __repr__(self) -> str:\n",
    "        return f\"Chromosome(name={self.name}, length={self.length})\"\n",
    "\n",
    "\n",
    "chromosomes = [str(c) for c in range(1, 23)] + [\"X\", \"Y\", \"MT\"]\n",
    "order = {c: idx for idx, c in enumerate(chromosomes)}\n",
    "\n",
    "\n",
    "def sort_by_chromosome(col: Column) -> Column:\n",
    "    \"\"\"Sort by chromosome.\"\"\"\n",
    "    expr = f.when(f.lit(False), None)\n",
    "    for chromosome_name, chromosome_index in order.items():\n",
    "        expr = expr.when(col == chromosome_name, f.lit(chromosome_index))\n",
    "    return expr.alias(\"chromosomeIndex\")\n"
   ]
  },
  {
   "cell_type": "markdown",
   "metadata": {},
   "source": [
    "## Data loading"
   ]
  },
  {
   "cell_type": "code",
   "execution_count": 43,
   "metadata": {},
   "outputs": [],
   "source": [
    "vi = VariantIndex.from_parquet(session, variant_index_path)\n",
    "cs = StudyLocus.from_parquet(session, credible_set_path)\n"
   ]
  },
  {
   "cell_type": "markdown",
   "metadata": {},
   "source": [
    "### Extracting chromosome lengths"
   ]
  },
  {
   "cell_type": "code",
   "execution_count": null,
   "metadata": {},
   "outputs": [],
   "source": [
    "species = \"homo_sapiens\"  # Change to desired species\n",
    "url = f\"https://rest.ensembl.org/info/assembly/{species}?content-type=application/json\"\n",
    "\n",
    "response = requests.get(url, headers={\"Content-Type\": \"application/json\"})\n",
    "data = response.json()\n",
    "\n",
    "chromosomes = [str(i) for i in range(1, 23)] + [\"X\", \"Y\", \"MT\"]\n",
    "chr_lenghts: list[Chromosome] = []\n",
    "for chrom in data[\"top_level_region\"]:\n",
    "    if chrom[\"coord_system\"] == \"chromosome\":\n",
    "        if chrom[\"name\"] in chromosomes:\n",
    "            c = Chromosome(chrom[\"name\"], chrom[\"length\"])\n",
    "            chr_lenghts.append(c)\n",
    "\n",
    "chromosome_lenghts = session.spark.createDataFrame([(c.name, c.length) for c in chr_lenghts], [\"chromosome\", \"len\"])\n"
   ]
  },
  {
   "cell_type": "markdown",
   "metadata": {},
   "source": [
    "### Calculating variant counts\n",
    "\n",
    "* count - total number of unique variants in chromosome\n",
    "* % - percent of entire chromosome length captured by variant count (can be imprecise due to the fact that multiple variants can capture the same position)"
   ]
  },
  {
   "cell_type": "code",
   "execution_count": 70,
   "metadata": {},
   "outputs": [],
   "source": [
    "vi_chromosome_variants = (\n",
    "    vi.df.groupBy(\"chromosome\")\n",
    "    .count()\n",
    "    .withColumn(\"chromosomeIndex\", sort_by_chromosome(f.col(\"chromosome\")))\n",
    "    .join(chromosome_lenghts, on=\"chromosome\")\n",
    "    .withColumn(\"%\", f.col(\"count\") / f.col(\"len\") * f.lit(100))\n",
    "    .orderBy(\"chromosomeIndex\")\n",
    ")\n",
    "cs_chromosome_variants = (\n",
    "    cs.df.select(\"variantId\", \"chromosome\")\n",
    "    .distinct()\n",
    "    .groupBy(\"chromosome\")\n",
    "    .count()\n",
    "    .withColumn(\"chromosomeIndex\", sort_by_chromosome(f.col(\"chromosome\")))\n",
    "    .join(chromosome_lenghts, on=\"chromosome\")\n",
    "    .withColumn(\"%\", f.col(\"count\") / f.col(\"len\") * f.lit(100))\n",
    "    .orderBy(\"chromosomeIndex\")\n",
    ")\n"
   ]
  },
  {
   "cell_type": "code",
   "execution_count": 71,
   "metadata": {},
   "outputs": [
    {
     "name": "stdout",
     "output_type": "stream",
     "text": [
      "+----------+------+---------------+---------+---------------------+\n",
      "|chromosome|count |chromosomeIndex|len      |%                    |\n",
      "+----------+------+---------------+---------+---------------------+\n",
      "|1         |555116|0              |248956422|0.22297717630276678  |\n",
      "|2         |574342|1              |242193529|0.23714176112442706  |\n",
      "|3         |410428|2              |198295559|0.20697790816384345  |\n",
      "|4         |334152|3              |190214555|0.1756710994066674   |\n",
      "|5         |367694|4              |181538259|0.20254353105810052  |\n",
      "|6         |344861|5              |170805979|0.20190218282698405  |\n",
      "|7         |361729|6              |159345973|0.22700856079996448  |\n",
      "|8         |276396|7              |145138636|0.19043585334507346  |\n",
      "|9         |263790|8              |138394717|0.19060698682594943  |\n",
      "|10        |287524|9              |133797422|0.21489502241679964  |\n",
      "|11        |356345|10             |135086622|0.2637899998713418   |\n",
      "|12        |316971|11             |133275309|0.2378317502156382   |\n",
      "|13        |163224|12             |114364328|0.14272282525019514  |\n",
      "|14        |213421|13             |107043718|0.19937741699143896  |\n",
      "|15        |214971|14             |101991189|0.2107740895147325   |\n",
      "|16        |262910|15             |90338345 |0.29102813428782653  |\n",
      "|17        |299994|16             |83257441 |0.3603209471691545   |\n",
      "|18        |126803|17             |80373285 |0.1577675965340971   |\n",
      "|19        |261633|18             |58617616 |0.44633852048844835  |\n",
      "|20        |136870|19             |64444167 |0.21238539711437343  |\n",
      "|21        |72164 |20             |46709983 |0.15449374066353225  |\n",
      "|22        |119047|21             |50818468 |0.23425932477933023  |\n",
      "|X         |170748|22             |156040895|0.10942516062856472  |\n",
      "|Y         |96    |23             |57227415 |1.6775176722555089E-4|\n",
      "|MT        |2653  |24             |16569    |16.01182931981411    |\n",
      "+----------+------+---------------+---------+---------------------+\n",
      "\n"
     ]
    }
   ],
   "source": [
    "vi_chromosome_variants.show(truncate=False, n=30)\n"
   ]
  },
  {
   "cell_type": "code",
   "execution_count": 69,
   "metadata": {},
   "outputs": [
    {
     "name": "stderr",
     "output_type": "stream",
     "text": [
      "[Stage 31:=================================================>      (14 + 2) / 16]\r"
     ]
    },
    {
     "name": "stdout",
     "output_type": "stream",
     "text": [
      "+----------+-----+---------------+---------+--------------------+\n",
      "|chromosome|count|chromosomeIndex|len      |%                   |\n",
      "+----------+-----+---------------+---------+--------------------+\n",
      "|1         |84058|0              |248956422|0.03376414206338489 |\n",
      "|2         |71176|1              |242193529|0.029388068415320875|\n",
      "|3         |53814|2              |198295559|0.027138277968191914|\n",
      "|4         |42214|3              |190214555|0.022192833771316818|\n",
      "|5         |46432|4              |181538259|0.025576977688212817|\n",
      "|6         |42653|5              |170805979|0.024971608283103488|\n",
      "|7         |50003|6              |159345973|0.03138014664481041 |\n",
      "|8         |37283|7              |145138636|0.02568785337075925 |\n",
      "|9         |34893|8              |138394717|0.025212667619386075|\n",
      "|10        |41318|9              |133797422|0.03088101353701718 |\n",
      "|11        |49618|10             |135086622|0.03673050614886202 |\n",
      "|12        |47081|11             |133275309|0.03532612331065764 |\n",
      "|13        |19348|12             |114364328|0.016917862709777826|\n",
      "|14        |29651|13             |107043718|0.027699897344746562|\n",
      "|15        |32722|14             |101991189|0.03208316357602224 |\n",
      "|16        |38908|15             |90338345 |0.04306919724951791 |\n",
      "|17        |47937|16             |83257441 |0.0575768356848729  |\n",
      "|18        |17010|17             |80373285 |0.021163748626175972|\n",
      "|19        |49319|18             |58617616 |0.08413682330581305 |\n",
      "|20        |22625|19             |64444167 |0.035107909766294285|\n",
      "|21        |11856|20             |46709983 |0.025382154388709582|\n",
      "|22        |21377|21             |50818468 |0.04206541606094855 |\n",
      "|X         |12533|22             |156040895|0.00803186882515638 |\n",
      "|Y         |2    |23             |57227415 |3.494828483865644E-6|\n",
      "+----------+-----+---------------+---------+--------------------+\n",
      "\n"
     ]
    },
    {
     "name": "stderr",
     "output_type": "stream",
     "text": [
      "                                                                                \r"
     ]
    }
   ],
   "source": [
    "cs_chromosome_variants.show(truncate=False, n=30)\n"
   ]
  },
  {
   "cell_type": "code",
   "execution_count": 49,
   "metadata": {},
   "outputs": [
    {
     "name": "stderr",
     "output_type": "stream",
     "text": [
      "                                                                                \r"
     ]
    },
    {
     "data": {
      "text/plain": [
       "<matplotlib.legend.Legend at 0x7cfad557e590>"
      ]
     },
     "execution_count": 49,
     "metadata": {},
     "output_type": "execute_result"
    },
    {
     "data": {
      "image/png": "[encoded data removed]",
      "text/plain": [
       "<Figure size 1200x300 with 1 Axes>"
      ]
     },
     "metadata": {},
     "output_type": "display_data"
    }
   ],
   "source": [
    "palette = [\"#3A0CA3\", \"#4361EE\", \"#4CC9F0\"]\n",
    "\n",
    "dataset = (\n",
    "    vi_chromosome_variants.select(\"chromosome\", f.col(\"count\").alias(\"viCount\"), \"chromosomeIndex\")\n",
    "    .join(\n",
    "        cs_chromosome_variants.select(\"chromosome\", f.col(\"count\").alias(\"csCount\")),\n",
    "        how=\"left\",\n",
    "        on=\"chromosome\",\n",
    "    )\n",
    "    .fillna(0)\n",
    "    .toPandas()\n",
    "    .melt(\n",
    "        id_vars=[\"chromosome\", \"chromosomeIndex\"],\n",
    "        value_vars=[\"viCount\", \"csCount\"],\n",
    "        var_name=\"source\",\n",
    "        value_name=\"count\",\n",
    "    )\n",
    "    .sort_values(by=[\"chromosomeIndex\", \"source\"])\n",
    ")\n",
    "fig = plt.figure(figsize=(12, 3))\n",
    "ax = plt.subplot(1, 1, 1)\n",
    "bar1 = sns.barplot(dataset, x=\"chromosome\", y=\"count\", hue=\"source\", ax=ax)\n",
    "bar1.set_title(\"Variant counts across chromosomes from VariantIndex\")\n",
    "\n",
    "\n",
    "bar1.set_yscale(\"log\")\n",
    "handles, labels = bar1.get_legend_handles_labels()\n",
    "for container in ax.containers:\n",
    "    ax.bar_label(container, fmt=lambda x: f\"{x:.0e}\", fontsize=\"x-small\")\n",
    "\n",
    "bar1.legend(handles, [\"credible sets\", \"variant index\"])\n"
   ]
  }
 ],
 "metadata": {
  "kernelspec": {
   "display_name": ".venv",
   "language": "python",
   "name": "python3"
  },
  "language_info": {
   "codemirror_mode": {
    "name": "ipython",
    "version": 3
   },
   "file_extension": ".py",
   "mimetype": "text/x-python",
   "name": "python",
   "nbconvert_exporter": "python",
   "pygments_lexer": "ipython3",
   "version": "3.11.11"
  }
 },
 "nbformat": 4,
 "nbformat_minor": 2
}

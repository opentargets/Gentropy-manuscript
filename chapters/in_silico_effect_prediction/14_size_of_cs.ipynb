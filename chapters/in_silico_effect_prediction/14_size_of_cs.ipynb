{
 "cells": [
  {
   "cell_type": "markdown",
   "metadata": {},
   "source": [
    "# Size of credible sets\n",
    "\n",
    "This notebook was used to calculate the mean size of credible sets\n"
   ]
  },
  {
   "cell_type": "code",
   "execution_count": null,
   "metadata": {},
   "outputs": [],
   "source": [
    "cs_path = \"../../data/credible_set\"\n"
   ]
  },
  {
   "cell_type": "code",
   "execution_count": null,
   "metadata": {},
   "outputs": [],
   "source": [
    "import polars as pl\n",
    "import seaborn as sns\n",
    "\n",
    "sns.set_style(\"ticks\")\n",
    "sns.set_context(\"paper\", font_scale=1.0)\n",
    "sns.set_palette(sns.color_palette(\"rocket\"))\n"
   ]
  },
  {
   "cell_type": "code",
   "execution_count": 26,
   "metadata": {},
   "outputs": [],
   "source": [
    "cs = pl.read_parquet(f\"{cs_path}/*.parquet\")\n"
   ]
  },
  {
   "cell_type": "code",
   "execution_count": null,
   "metadata": {},
   "outputs": [],
   "source": [
    "def cs_size(locus: pl.Expr) -> pl.Expr:\n",
    "    \"\"\"Count the number of unique variants in the credible set locus.\"\"\"\n",
    "    return locus.list.len().alias(\"credibleSetSize\")\n",
    "\n",
    "\n",
    "class DataSourceClass:\n",
    "    def __init__(self, name: str, condition: pl.Expr):\n",
    "        self.name = name\n",
    "        self.condition = condition\n",
    "\n",
    "    def __repr__(self) -> str:\n",
    "        \"\"\"Show string representation of the DataSourceClass.\"\"\"\n",
    "        return f\"DataSourceClass(name={self.name}, condition={self.condition})\"\n",
    "\n",
    "\n",
    "def classify_by_datasource(datasources: list[DataSourceClass]) -> pl.Expr:\n",
    "    \"\"\"Classify the data source based on study type and name.\"\"\"\n",
    "    e = pl.when(False).then(None)\n",
    "    for ds in datasources:\n",
    "        e = e.when(ds.condition).then(pl.lit(ds.name))\n",
    "    return e.alias(\"dataSource\")\n"
   ]
  },
  {
   "cell_type": "code",
   "execution_count": null,
   "metadata": {},
   "outputs": [],
   "source": [
    "datasources = [\n",
    "    DataSourceClass(\"GWAS Catalog\", pl.col(\"studyId\").str.starts_with(pl.lit(\"GCST\"))),\n",
    "    DataSourceClass(\"FINNGEN\", pl.col(\"studyId\").str.contains(pl.lit(\"FINNGEN\"))),\n",
    "    DataSourceClass(\"UKB_PPP_EUR\", pl.col(\"studyId\").str.starts_with(pl.lit(\"UKB_PPP_EUR\"))),\n",
    "    DataSourceClass(\n",
    "        \"eQTL Catalogue\", ((~pl.col(\"studyId\").str.contains(pl.lit(\"UKBB\"))) & (pl.col(\"studyType\") != pl.lit(\"gwas\")))\n",
    "    ),\n",
    "]\n",
    "data = cs.select(cs_size(pl.col(\"locus\")), classify_by_datasource(datasources)).select(\"credibleSetSize\", \"dataSource\")\n",
    "\n",
    "# Add violin plot for all data sources\n",
    "sns.set_palette(sns.color_palette(\"rocket\"))\n",
    "sns.set_style(\"whitegrid\")\n",
    "sns.set_context(\"paper\", font_scale=1.0)\n",
    "# Create a violin plot\n",
    "p = sns.FacetGrid(data, col=\"dataSource\", col_wrap=3, sharey=False)\n",
    "p.map_dataframe(sns.violinplot, y=\"credibleSetSize\", x=\"dataSource\", log_scale=True)\n",
    "# Add mean and median lines for each group\n",
    "p.map(sns.lineplot, x=\"dataSource\", y=\"credibleSetSize\", estimator=\"mean\", color=\"black\", label=\"Mean\")\n"
   ]
  }
 ],
 "metadata": {
  "kernelspec": {
   "display_name": ".venv",
   "language": "python",
   "name": "python3"
  },
  "language_info": {
   "codemirror_mode": {
    "name": "ipython",
    "version": 3
   },
   "file_extension": ".py",
   "mimetype": "text/x-python",
   "name": "python",
   "nbconvert_exporter": "python",
   "pygments_lexer": "ipython3",
   "version": "3.11.11"
  }
 },
 "nbformat": 4,
 "nbformat_minor": 2
}

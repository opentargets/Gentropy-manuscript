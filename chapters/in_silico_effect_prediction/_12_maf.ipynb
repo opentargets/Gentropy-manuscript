{
 "cells": [
  {
   "cell_type": "code",
   "execution_count": null,
   "metadata": {},
   "outputs": [],
   "source": [
    "import polars as pl\n"
   ]
  },
  {
   "cell_type": "code",
   "execution_count": null,
   "metadata": {},
   "outputs": [],
   "source": [
    "dataset = pl.read_parquet(\"../../data/rescaled-betas.parquet\")\n"
   ]
  },
  {
   "cell_type": "code",
   "execution_count": null,
   "metadata": {},
   "outputs": [
    {
     "data": {
      "text/plain": [
       "['variantId',\n",
       " 'studyId',\n",
       " 'studyLocusId',\n",
       " 'beta',\n",
       " 'zScore',\n",
       " 'pValueMantissa',\n",
       " 'pValueExponent',\n",
       " 'standardError',\n",
       " 'finemappingMethod',\n",
       " 'studyType',\n",
       " 'credibleSetSize',\n",
       " 'isTransQtl',\n",
       " 'posteriorProbability',\n",
       " 'nSamples',\n",
       " 'nControls',\n",
       " 'nCases',\n",
       " 'geneId',\n",
       " 'traitFromSourceMappedIds',\n",
       " 'majorPopulation',\n",
       " 'allelefrequencies',\n",
       " 'vepEffect',\n",
       " 'majorPopulationAF',\n",
       " 'majorPopulationMAF',\n",
       " 'leadVariantStats',\n",
       " 'rescaledStatistics']"
      ]
     },
     "execution_count": 5,
     "metadata": {},
     "output_type": "execute_result"
    }
   ],
   "source": [
    "dataset.columns\n"
   ]
  },
  {
   "cell_type": "code",
   "execution_count": null,
   "metadata": {},
   "outputs": [],
   "source": [
    "lead_with_maf = (\n",
    "    dataset.select(\"majorPopulationMAF\")\n",
    "    .filter(pl.col(\"majorPopulationMAF\").is_not_null())\n",
    "    .filter(pl.col(\"majorPopulationMAF\").is_not_null())\n",
    ")\n"
   ]
  },
  {
   "cell_type": "code",
   "execution_count": null,
   "metadata": {},
   "outputs": [],
   "source": [
    "cs = pl.read_parquet(\"../../data/credible_set/*.parquet\")\n"
   ]
  },
  {
   "cell_type": "code",
   "execution_count": null,
   "metadata": {},
   "outputs": [],
   "source": [
    "# % of variants in the credible set that we could calculate MAF for\n",
    "leads_with_without_maf = round((cs.shape[0] - lead_with_maf.shape[0]) / cs.shape[0] * 100, 2)\n",
    "# % of variants in the credible set that we could calculate MAF for\n",
    "leads_with_maf = round(lead_with_maf.shape[0] / cs.shape[0] * 100, 2)\n"
   ]
  },
  {
   "cell_type": "code",
   "execution_count": null,
   "metadata": {},
   "outputs": [
    {
     "name": "stdout",
     "output_type": "stream",
     "text": [
      "Of the 2622098 variants in the credible set, 2619406 have MAF calculated. This is 99.9% of the variants in the credible set.\n"
     ]
    }
   ],
   "source": [
    "print(\n",
    "    f\"Of the {cs.shape[0]} variants in the credible set, {lead_with_maf.shape[0]} have MAF calculated. \"\n",
    "    f\"This is {leads_with_maf}% of the variants in the credible set.\"\n",
    ")\n"
   ]
  },
  {
   "cell_type": "code",
   "execution_count": null,
   "metadata": {},
   "outputs": [
    {
     "data": {
      "text/plain": [
       "124413"
      ]
     },
     "execution_count": 27,
     "metadata": {},
     "output_type": "execute_result"
    }
   ],
   "source": [
    "lead_with_maf.filter(pl.col(\"majorPopulationMAF\") < 0.01).shape[0]\n"
   ]
  },
  {
   "cell_type": "code",
   "execution_count": null,
   "metadata": {},
   "outputs": [],
   "source": [
    "print(\n",
    "    f\"Of the {lead_with_maf.shape[0]} leads with , {lead_with_maf.shape[0]} have MAF calculated. \"\n",
    "    f\"This is {leads_with_maf}% of the variants in the credible set.\"\n",
    ")\n"
   ]
  },
  {
   "cell_type": "code",
   "execution_count": null,
   "metadata": {},
   "outputs": [],
   "source": []
  }
 ],
 "metadata": {
  "kernelspec": {
   "display_name": ".venv",
   "language": "python",
   "name": "python3"
  },
  "language_info": {
   "codemirror_mode": {
    "name": "ipython",
    "version": 3
   },
   "file_extension": ".py",
   "mimetype": "text/x-python",
   "name": "python",
   "nbconvert_exporter": "python",
   "pygments_lexer": "ipython3",
   "version": "3.11.11"
  }
 },
 "nbformat": 4,
 "nbformat_minor": 2
}

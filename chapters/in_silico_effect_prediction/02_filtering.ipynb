{
 "cells": [
  {
   "cell_type": "markdown",
   "metadata": {},
   "source": [
    "# Filter initial dataset for plots\n"
   ]
  },
  {
   "cell_type": "markdown",
   "metadata": {},
   "source": [
    "The `LeadVariantEffect` dataset has to be filtered for downstream analysis.\n",
    "\n",
    "For the downstream analysis of MAF, rescaled effect size and variant effects we need to filter the `LeadVariantEffect` dataset to:\n",
    "\n",
    "1. Limit the dataset to `gwas, cis-pqtl and eqlt` datasets.\n",
    "2. Split the GWAS studies into two types:\n",
    "   - measurements (continuous traits)\n",
    "   - diseases (binary traits bound to therapeutic areas)\n",
    "3. Apply the `replicated` mask to the GWAS-measurements, GWAS-diseases and molecular QTL datasets.\n",
    "4. Apply the `qualified` mask to the GWAS-measurements, GWAS-diseases.\n",
    "5. Apply Posterior Inclusion Probability (PIP) filter to all lead variants, keeping only those with PIP >= 0.1.\n",
    "\n",
    "After the filtering applied check how many variants are left in the dataset and compute statistics on rescaled effect size & MAF.\n",
    "\n",
    "5. Ensure there is no lead variants with MAF >= 0.05 and is not empty\n",
    "6. Ensure there is no lead variants with absolute value of rescaled effect size <= 3 and is not empty\n",
    "\n",
    "The resulting dataset should be split into two datasets:\n",
    "\n",
    "- lead variant effects with MAF >= 0.01 (qualified_lead_variant_effect_maf_filtered)\n",
    "- lead variant effects with all variants (qualified_lead_variant_effect)\n"
   ]
  },
  {
   "cell_type": "markdown",
   "metadata": {},
   "source": [
    "## Data Loading\n",
    "\n",
    "The data required for the analysis is loaded from the\n",
    "\n",
    "- `lead variant effect` dataset\n",
    "- `qualified gwas measurements` dataset\n",
    "- `qualified gwas diseases` dataset\n",
    "- `replicated molecular qtls` dataset\n",
    "- `replicated gwas` dataset\n"
   ]
  },
  {
   "cell_type": "markdown",
   "metadata": {},
   "source": [
    "### Data downloading\n"
   ]
  },
  {
   "cell_type": "code",
   "execution_count": 34,
   "metadata": {},
   "outputs": [],
   "source": [
    "gwas_therapeutic_areas_path = \"../../data/gwas_therapeutic_areas\"\n",
    "qualifying_gwas_disease_studies_path = \"../../data/qualifying_disease_studies\"\n",
    "qualifying_gwas_measurements_studies_path = \"../../data/qualifying_measurements_studies\"\n",
    "qualifying_gwas_disease_credible_set_path = \"../../data/qualifying_disease_credible_sets\"\n",
    "qualifying_gwas_measurements_credible_set_path = \"../../data/qualifying_measurement_credible_sets\"\n",
    "lead_variant_effect_dataset_path = \"../../data/lead_variant_effect\"\n",
    "qualified_lead_variant_effect_path = \"../../data/qualified_lead_variant_effect\"\n",
    "qualified_lead_variant_effect_maf_filtered_path = \"../../data/qualified_lead_variant_effect_maf_filtered\"\n",
    "replicated_molqtls_path = \"../../data/replicated_molqtl_credible_sets\"\n",
    "replicated_gwas_path = \"../../data/replicated_gwas_credible_sets\"\n",
    "replicated_credible_sets_path = \"../../data/replicated_credible_sets\"\n"
   ]
  },
  {
   "cell_type": "code",
   "execution_count": 35,
   "metadata": {},
   "outputs": [
    {
     "name": "stdout",
     "output_type": "stream",
     "text": [
      "At file://../../data/gwas_therapeutic_areas/**, worker process 3482 thread 8797626112 listed 3...\n",
      "At gs://genetics-portal-dev-analysis/dc16/output/gentropy_paper/gwas_therapeutic_areas/**, worker process 3482 thread 8797626112 listed 3...\n",
      "  Completed files 0 | 0B                                                       \n",
      "\n",
      "\n",
      "Updates are available for some Google Cloud CLI components.  To install them,\n",
      "please run:\n",
      "  $ gcloud components update\n",
      "\n",
      "At file://../../data/qualifying_disease_studies/**, worker process 3589 thread 8797626112 listed 3...\n",
      "At gs://genetics-portal-dev-analysis/dc16/output/gentropy_paper/qualifying_studies/**, worker process 3589 thread 8797626112 listed 3...\n",
      "  Completed files 0 | 0B                                                       \n",
      "At file://../../data/qualifying_measurements_studies/**, worker process 3684 thread 8797626112 listed 3...\n",
      "At gs://genetics-portal-dev-analysis/dc16/output/gentropy_paper/qualifying_measurements/**, worker process 3684 thread 8797626112 listed 3...\n",
      "  Completed files 0 | 0B                                                       \n",
      "At file://../../data/qualifying_disease_credible_sets/**, worker process 3777 thread 8797626112 listed 10...\n",
      "At gs://genetics-portal-dev-analysis/dc16/output/gentropy_paper/qualifying_credible_sets/**, worker process 3777 thread 8797626112 listed 10...\n",
      "  Completed files 0 | 0B                                                       \n",
      "At file://../../data/qualifying_measurement_credible_sets/**, worker process 3873 thread 8797626112 listed 10...\n",
      "At gs://genetics-portal-dev-analysis/dc16/output/gentropy_paper/qualifying_measurement_credible_sets/**, worker process 3873 thread 8797626112 listed 10...\n",
      "  Completed files 0 | 0B                                                       \n",
      "At file://../../data/replicated_molqtl_credible_sets/**, worker process 3966 thread 8797626112 listed 201...\n",
      "At gs://genetics-portal-dev-analysis/yt4/20250403_for_gentropy_paper/list_of_molqtls_replicated_CSs.parquet/**, worker process 3966 thread 8797626112 listed 201...\n",
      "  Completed files 0 | 0B                                                       \n",
      "At file://../../data/replicated_gwas_credible_sets/**, worker process 4072 thread 8797626112 listed 9...\n",
      "At gs://genetics-portal-dev-analysis/yt4/20250403_for_gentropy_paper/list_of_gwas_replicated_CSs.parquet/**, worker process 4072 thread 8797626112 listed 9...\n",
      "  Completed files 0 | 0B                                                       \n"
     ]
    }
   ],
   "source": [
    "!gcloud storage rsync -r --delete-unmatched-destination-objects  gs://genetics-portal-dev-analysis/dc16/output/gentropy_paper/gwas_therapeutic_areas $gwas_therapeutic_areas_path\n",
    "!gcloud storage rsync -r --delete-unmatched-destination-objects gs://genetics-portal-dev-analysis/dc16/output/gentropy_paper/qualifying_studies $qualifying_gwas_disease_studies_path\n",
    "!gcloud storage rsync -r --delete-unmatched-destination-objects  gs://genetics-portal-dev-analysis/dc16/output/gentropy_paper/qualifying_measurements $qualifying_gwas_measurements_studies_path\n",
    "!gcloud storage rsync -r --delete-unmatched-destination-objects  gs://genetics-portal-dev-analysis/dc16/output/gentropy_paper/qualifying_credible_sets $qualifying_gwas_disease_credible_set_path\n",
    "!gcloud storage rsync -r --delete-unmatched-destination-objects  gs://genetics-portal-dev-analysis/dc16/output/gentropy_paper/qualifying_measurement_credible_sets $qualifying_gwas_measurements_credible_set_path\n",
    "!gcloud storage rsync -r --delete-unmatched-destination-objects gs://genetics-portal-dev-analysis/yt4/20250403_for_gentropy_paper/list_of_molqtls_replicated_CSs.parquet $replicated_molqtls_path\n",
    "!gcloud storage rsync -r --delete-unmatched-destination-objects gs://genetics-portal-dev-analysis/yt4/20250403_for_gentropy_paper/list_of_gwas_replicated_CSs.parquet $replicated_gwas_path\n"
   ]
  },
  {
   "cell_type": "markdown",
   "metadata": {},
   "source": [
    "### Data reading\n"
   ]
  },
  {
   "cell_type": "code",
   "execution_count": 36,
   "metadata": {},
   "outputs": [],
   "source": [
    "from gentropy.common.session import Session\n",
    "from gentropy.dataset.study_locus import StudyLocus\n",
    "from pyspark.sql import functions as f\n",
    "\n",
    "from manuscript_methods.datasets import LeadVariantEffect\n",
    "from manuscript_methods.locus_statistics import LocusStatistics\n",
    "from manuscript_methods.rescaled_beta import RescaledStatistics\n",
    "from manuscript_methods.study_statistics import StudyStatistics, StudyType\n"
   ]
  },
  {
   "cell_type": "code",
   "execution_count": 37,
   "metadata": {},
   "outputs": [],
   "source": [
    "session = Session(extended_spark_conf={\"spark.driver.memory\": \"40G\"})\n",
    "full_lve = LeadVariantEffect.from_parquet(session=session, path=lead_variant_effect_dataset_path)\n",
    "qualified_gwas_measurements_lve = LeadVariantEffect.from_parquet(\n",
    "    session=session, path=qualifying_gwas_measurements_credible_set_path\n",
    ")\n",
    "qualified_gwas_disease_lve = LeadVariantEffect.from_parquet(\n",
    "    session=session, path=qualifying_gwas_disease_credible_set_path\n",
    ")\n",
    "replicated_molqtls = session.spark.read.parquet(replicated_molqtls_path)\n",
    "replicated_gwas = session.spark.read.parquet(replicated_gwas_path)\n"
   ]
  },
  {
   "cell_type": "markdown",
   "metadata": {},
   "source": [
    "## Analysis steps\n",
    "\n",
    "1. Filter full lve dataset to keep only cis-pqtl and eqtl datasets.\n",
    "2. Union with the qualified gwas measurements and diseases datasets lve datasets\n",
    "3. Apply filtering based on the replicated gwas and molqtls datasets\n",
    "4. Remove lead variants with MAF == 0.0 and empty MAF and absolute value of rescaled effect size <= 3\n",
    "5. Filter by PIP >= 0.1\n",
    "6. Save the filtered dataset to parquet\n",
    "7. MAF filter >= 0.01\n",
    "8. Save the filtered datasets\n"
   ]
  },
  {
   "cell_type": "code",
   "execution_count": 38,
   "metadata": {},
   "outputs": [
    {
     "name": "stdout",
     "output_type": "stream",
     "text": [
      "Before filtering qtls: 2,833,758\n",
      "After filtering qtls: 1,365,531\n"
     ]
    }
   ],
   "source": [
    "print(f\"Before filtering qtls: {full_lve.df.count():,}\")\n",
    "molqtl_lve = LeadVariantEffect(\n",
    "    full_lve.df.filter(StudyStatistics().study_type.isin(StudyType.CIS_PQTL, StudyType.EQTL))\n",
    ")\n",
    "print(f\"After filtering qtls: {molqtl_lve.df.count():,}\")\n"
   ]
  },
  {
   "cell_type": "code",
   "execution_count": 39,
   "metadata": {},
   "outputs": [
    {
     "name": "stdout",
     "output_type": "stream",
     "text": [
      "Before union - measurements: 472,873\n",
      "Before union - disease: 72,444\n",
      "Before union - molqtl: 1,365,531\n",
      "After union: 1,910,848\n"
     ]
    }
   ],
   "source": [
    "print(f\"Before union - measurements: {qualified_gwas_measurements_lve.df.count():,}\")\n",
    "print(f\"Before union - disease: {qualified_gwas_disease_lve.df.count():,}\")\n",
    "print(f\"Before union - molqtl: {molqtl_lve.df.count():,}\")\n",
    "\n",
    "study_stats = StudyStatistics()\n",
    "\n",
    "# Adjust the study types\n",
    "qualified_gwas_measurements_lve = LeadVariantEffect(\n",
    "    qualified_gwas_measurements_lve.df.withColumn(\n",
    "        study_stats.name, study_stats.transform_study_type(StudyType.GWAS_MEASUREMENT).col\n",
    "    )\n",
    ")\n",
    "qualified_gwas_disease_lve = LeadVariantEffect(\n",
    "    qualified_gwas_disease_lve.df.withColumn(\n",
    "        study_stats.name, study_stats.transform_study_type(StudyType.GWAS_DISEASE).col\n",
    "    )\n",
    ")\n",
    "\n",
    "\n",
    "qualified_lve = LeadVariantEffect(\n",
    "    molqtl_lve.df.unionByName(qualified_gwas_measurements_lve.df).unionByName(qualified_gwas_disease_lve.df)\n",
    ")\n",
    "print(f\"After union: {qualified_lve.df.count():,}\")\n"
   ]
  },
  {
   "cell_type": "code",
   "execution_count": 40,
   "metadata": {},
   "outputs": [
    {
     "name": "stdout",
     "output_type": "stream",
     "text": [
      "Before filtering replicated credible sets: 1,910,848\n",
      "Before filtering replicated GWAS: 263,705\n",
      "Before filtering replicated molQTLs: 1,461,445\n"
     ]
    },
    {
     "name": "stderr",
     "output_type": "stream",
     "text": [
      "                                                                                \r"
     ]
    },
    {
     "name": "stdout",
     "output_type": "stream",
     "text": [
      "Replicated credible sets count: 1,725,150\n"
     ]
    },
    {
     "name": "stderr",
     "output_type": "stream",
     "text": [
      "                                                                                \r"
     ]
    },
    {
     "name": "stdout",
     "output_type": "stream",
     "text": [
      "StudyLocus dimension: 1725150, unique studyLocusId: 1725150\n",
      "Initial rows: 1910848\n",
      "Filtered 774663 rows based on the StudyLocus.\n",
      "Remaining rows: 1136185\n",
      "After filtering replicated credible sets: 1,136,185\n"
     ]
    }
   ],
   "source": [
    "# Filter based on replicated credible sets\n",
    "print(f\"Before filtering replicated credible sets: {qualified_lve.df.count():,}\")\n",
    "print(f\"Before filtering replicated GWAS: {replicated_gwas.count():,}\")\n",
    "print(f\"Before filtering replicated molQTLs: {replicated_molqtls.count():,}\")\n",
    "replicated_cs_df = (\n",
    "    replicated_gwas.unionByName(replicated_molqtls).write.mode(\"overwrite\").parquet(replicated_credible_sets_path)\n",
    ")\n",
    "replicated_cs = StudyLocus.from_parquet(session=session, path=replicated_credible_sets_path)\n",
    "cs_count = replicated_cs.df.count()\n",
    "print(f\"Replicated credible sets count: {cs_count:,}\")\n",
    "replicated_qualified_lve = qualified_lve.filter_by_study_locus_id(replicated_cs)\n",
    "print(f\"After filtering replicated credible sets: {replicated_qualified_lve.df.count():,}\")\n"
   ]
  },
  {
   "cell_type": "code",
   "execution_count": 41,
   "metadata": {},
   "outputs": [
    {
     "name": "stdout",
     "output_type": "stream",
     "text": [
      "Before filtering maf and beta outliers: 1,136,185\n"
     ]
    },
    {
     "name": "stderr",
     "output_type": "stream",
     "text": [
      "[Stage 305:================>                                       (8 + 8) / 27]\r"
     ]
    },
    {
     "name": "stdout",
     "output_type": "stream",
     "text": [
      "After filtering maf and beta outliers: 1,116,215\n"
     ]
    },
    {
     "name": "stderr",
     "output_type": "stream",
     "text": [
      "                                                                                \r"
     ]
    }
   ],
   "source": [
    "# Removal of beta outliers and MAF == 0, null\n",
    "print(f\"Before filtering maf and beta outliers: {replicated_qualified_lve.df.count():,}\")\n",
    "lve_maf = replicated_qualified_lve.maf_filter(threshold=None).effect_size_filter()\n",
    "print(f\"After filtering maf and beta outliers: {lve_maf.df.count():,}\")\n"
   ]
  },
  {
   "cell_type": "code",
   "execution_count": 42,
   "metadata": {},
   "outputs": [
    {
     "name": "stderr",
     "output_type": "stream",
     "text": [
      "                                                                                \r"
     ]
    },
    {
     "name": "stdout",
     "output_type": "stream",
     "text": [
      "Before filtering PIP outliers: 1,116,215\n",
      "After filtering PIP outliers: 949,753\n"
     ]
    },
    {
     "name": "stderr",
     "output_type": "stream",
     "text": [
      "                                                                                \r"
     ]
    }
   ],
   "source": [
    "# Remove variants with low PIP\n",
    "pip_threshold = 0.1\n",
    "locus_stats = LocusStatistics()\n",
    "print(f\"Before filtering PIP outliers: {lve_maf.df.count():,}\")\n",
    "lve = lve_maf.filter(locus_stats.col.getField(\"leadVariantPIP\") >= pip_threshold)\n",
    "print(f\"After filtering PIP outliers: {lve.df.count():,}\")\n"
   ]
  },
  {
   "cell_type": "code",
   "execution_count": 43,
   "metadata": {},
   "outputs": [
    {
     "name": "stderr",
     "output_type": "stream",
     "text": [
      "                                                                                \r"
     ]
    }
   ],
   "source": [
    "lve.df.write.mode(\"overwrite\").parquet(qualified_lead_variant_effect_path)\n"
   ]
  },
  {
   "cell_type": "code",
   "execution_count": 44,
   "metadata": {},
   "outputs": [
    {
     "name": "stderr",
     "output_type": "stream",
     "text": [
      "                                                                                \r"
     ]
    },
    {
     "name": "stdout",
     "output_type": "stream",
     "text": [
      "Before MAF filtering: 949,753\n",
      "After MAF filtering: 937,597\n"
     ]
    }
   ],
   "source": [
    "# Apply MAF filter to 0.01\n",
    "print(f\"Before MAF filtering: {lve.df.count():,}\")\n",
    "lve_maf_filtered = lve.maf_filter()\n",
    "print(f\"After MAF filtering: {lve_maf_filtered.df.count():,}\")\n"
   ]
  },
  {
   "cell_type": "code",
   "execution_count": 45,
   "metadata": {},
   "outputs": [
    {
     "name": "stderr",
     "output_type": "stream",
     "text": [
      "                                                                                \r"
     ]
    }
   ],
   "source": [
    "lve_maf_filtered.df.write.mode(\"overwrite\").parquet(qualified_lead_variant_effect_maf_filtered_path)\n"
   ]
  },
  {
   "cell_type": "markdown",
   "metadata": {},
   "source": [
    "## Sanity check\n"
   ]
  },
  {
   "cell_type": "code",
   "execution_count": 46,
   "metadata": {},
   "outputs": [
    {
     "name": "stderr",
     "output_type": "stream",
     "text": [
      "[Stage 329:========>                                               (4 + 8) / 27]\r"
     ]
    },
    {
     "name": "stdout",
     "output_type": "stream",
     "text": [
      "+-------+-------------------+-------------------+\n",
      "|summary|      estimatedBeta|                MAF|\n",
      "+-------+-------------------+-------------------+\n",
      "|  count|             949753|             949753|\n",
      "|   mean|0.04908040009332393| 0.2596172211727276|\n",
      "| stddev|  0.922123726627298|  0.143303106502015|\n",
      "|    min|-2.9997936995577867|7.62779092394584E-6|\n",
      "|    max|  2.999975493530603|                0.5|\n",
      "+-------+-------------------+-------------------+\n",
      "\n"
     ]
    },
    {
     "name": "stderr",
     "output_type": "stream",
     "text": [
      "                                                                                \r"
     ]
    }
   ],
   "source": [
    "lve.df.select(RescaledStatistics().estimated_beta, f.col(\"majorLdPopulationMaf.value\").alias(\"MAF\")).describe().show()\n"
   ]
  },
  {
   "cell_type": "code",
   "execution_count": 47,
   "metadata": {},
   "outputs": [
    {
     "name": "stderr",
     "output_type": "stream",
     "text": [
      "[Stage 337:================>                                       (8 + 8) / 27]\r"
     ]
    },
    {
     "name": "stdout",
     "output_type": "stream",
     "text": [
      "+----------------+------+-----+-------------------+\n",
      "|       studyType| count|    %|         percentage|\n",
      "+----------------+------+-----+-------------------+\n",
      "|            eqtl|778127|81.93|  81.92940690895423|\n",
      "|gwas-measurement|148004|15.58| 15.583420110281304|\n",
      "|    gwas-disease| 21615| 2.28|  2.275854880163579|\n",
      "|        cis-pqtl|  2007| 0.21|0.21131810060089307|\n",
      "+----------------+------+-----+-------------------+\n",
      "\n"
     ]
    },
    {
     "name": "stderr",
     "output_type": "stream",
     "text": [
      "                                                                                \r"
     ]
    }
   ],
   "source": [
    "# Check the number of studyTypes after all filtering\n",
    "from manuscript_methods import group_statistics\n",
    "\n",
    "group_statistics(lve.df.select(\"studyStatistics.studyType\"), [f.col(\"studyType\")]).show()\n"
   ]
  }
 ],
 "metadata": {
  "kernelspec": {
   "display_name": "gentropy-manuscript",
   "language": "python",
   "name": "python3"
  },
  "language_info": {
   "codemirror_mode": {
    "name": "ipython",
    "version": 3
   },
   "file_extension": ".py",
   "mimetype": "text/x-python",
   "name": "python",
   "nbconvert_exporter": "python",
   "pygments_lexer": "ipython3",
   "version": "3.11.11"
  }
 },
 "nbformat": 4,
 "nbformat_minor": 2
}

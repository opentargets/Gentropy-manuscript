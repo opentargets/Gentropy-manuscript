{
 "cells": [
  {
   "cell_type": "markdown",
   "metadata": {},
   "source": [
    "# Data preparation\n",
    "\n",
    "The aim of this notebook is to collect the information about the credible set lead variants.\n",
    "This includes:\n",
    "\n",
    "- Addition of Major population sample size and size of cases/controls from studyIndex,\n",
    "- Addition of most severe consequences and consequence score derived from VEP annotations from variantIndex\n",
    "- Calculation of MAF (Minor Allele Frequency) for lead variants\n",
    "- Calculation of Variance Explained by lead variant\n"
   ]
  },
  {
   "cell_type": "markdown",
   "metadata": {
    "vscode": {
     "languageId": "plaintext"
    }
   },
   "source": [
    "## Data extraction and loading\n",
    "\n",
    "Data for this analysis has to be downloaded from 3 datasets available by FTP:\n",
    "\n",
    "- credible_set\n",
    "- variant\n",
    "- study\n"
   ]
  },
  {
   "cell_type": "code",
   "execution_count": 1,
   "metadata": {},
   "outputs": [
    {
     "name": "stdout",
     "output_type": "stream",
     "text": [
      "openjdk version \"11.0.26\" 2025-01-21\n",
      "OpenJDK Runtime Environment Temurin-11.0.26+4 (build 11.0.26+4)\n",
      "OpenJDK 64-Bit Server VM Temurin-11.0.26+4 (build 11.0.26+4, mixed mode)\n"
     ]
    }
   ],
   "source": [
    "# Ensure proper java version < 11\n",
    "!java -version\n"
   ]
  },
  {
   "cell_type": "code",
   "execution_count": 2,
   "metadata": {},
   "outputs": [
    {
     "name": "stdout",
     "output_type": "stream",
     "text": [
      "receiving incremental file list\n",
      "credible_set/\n",
      "credible_set/_SUCCESS\n",
      "credible_set/part-00000-38026948-016a-4eae-8a31-1e6699a8333a-c000.snappy.parquet\n",
      "credible_set/part-00001-38026948-016a-4eae-8a31-1e6699a8333a-c000.snappy.parquet\n",
      "credible_set/part-00002-38026948-016a-4eae-8a31-1e6699a8333a-c000.snappy.parquet\n",
      "credible_set/part-00003-38026948-016a-4eae-8a31-1e6699a8333a-c000.snappy.parquet\n",
      "credible_set/part-00004-38026948-016a-4eae-8a31-1e6699a8333a-c000.snappy.parquet\n",
      "credible_set/part-00005-38026948-016a-4eae-8a31-1e6699a8333a-c000.snappy.parquet\n",
      "credible_set/part-00006-38026948-016a-4eae-8a31-1e6699a8333a-c000.snappy.parquet\n",
      "credible_set/part-00007-38026948-016a-4eae-8a31-1e6699a8333a-c000.snappy.parquet\n",
      "credible_set/part-00008-38026948-016a-4eae-8a31-1e6699a8333a-c000.snappy.parquet\n",
      "credible_set/part-00009-38026948-016a-4eae-8a31-1e6699a8333a-c000.snappy.parquet\n",
      "credible_set/part-00010-38026948-016a-4eae-8a31-1e6699a8333a-c000.snappy.parquet\n",
      "credible_set/part-00011-38026948-016a-4eae-8a31-1e6699a8333a-c000.snappy.parquet\n",
      "credible_set/part-00012-38026948-016a-4eae-8a31-1e6699a8333a-c000.snappy.parquet\n",
      "credible_set/part-00013-38026948-016a-4eae-8a31-1e6699a8333a-c000.snappy.parquet\n",
      "credible_set/part-00014-38026948-016a-4eae-8a31-1e6699a8333a-c000.snappy.parquet\n",
      "credible_set/part-00015-38026948-016a-4eae-8a31-1e6699a8333a-c000.snappy.parquet\n",
      "credible_set/part-00016-38026948-016a-4eae-8a31-1e6699a8333a-c000.snappy.parquet\n",
      "credible_set/part-00017-38026948-016a-4eae-8a31-1e6699a8333a-c000.snappy.parquet\n",
      "credible_set/part-00018-38026948-016a-4eae-8a31-1e6699a8333a-c000.snappy.parquet\n",
      "credible_set/part-00019-38026948-016a-4eae-8a31-1e6699a8333a-c000.snappy.parquet\n",
      "credible_set/part-00020-38026948-016a-4eae-8a31-1e6699a8333a-c000.snappy.parquet\n",
      "credible_set/part-00021-38026948-016a-4eae-8a31-1e6699a8333a-c000.snappy.parquet\n",
      "credible_set/part-00022-38026948-016a-4eae-8a31-1e6699a8333a-c000.snappy.parquet\n",
      "credible_set/part-00023-38026948-016a-4eae-8a31-1e6699a8333a-c000.snappy.parquet\n",
      "credible_set/part-00024-38026948-016a-4eae-8a31-1e6699a8333a-c000.snappy.parquet\n",
      "\n",
      "sent 526 bytes  received 1.809.299.316 bytes  12.266.439,61 bytes/sec\n",
      "total size is 2.371.305.976  speedup is 1,31\n",
      "receiving incremental file list\n",
      "study/\n",
      "study/_SUCCESS\n",
      "study/part-00000-31b5ecb5-a8de-41f1-9548-ed32e0deb0ff-c000.snappy.parquet\n",
      "\n",
      "sent 70 bytes  received 74.391.894 bytes  13.525.811,64 bytes/sec\n",
      "total size is 92.431.236  speedup is 1,24\n",
      "receiving incremental file list\n",
      "variant/\n",
      "variant/_SUCCESS\n",
      "variant/part-00000-0f45d468-9e7e-4ffd-bee5-c02e08d0fd43-c000.snappy.parquet\n",
      "variant/part-00001-0f45d468-9e7e-4ffd-bee5-c02e08d0fd43-c000.snappy.parquet\n",
      "variant/part-00002-0f45d468-9e7e-4ffd-bee5-c02e08d0fd43-c000.snappy.parquet\n",
      "variant/part-00003-0f45d468-9e7e-4ffd-bee5-c02e08d0fd43-c000.snappy.parquet\n",
      "variant/part-00004-0f45d468-9e7e-4ffd-bee5-c02e08d0fd43-c000.snappy.parquet\n",
      "variant/part-00005-0f45d468-9e7e-4ffd-bee5-c02e08d0fd43-c000.snappy.parquet\n",
      "variant/part-00006-0f45d468-9e7e-4ffd-bee5-c02e08d0fd43-c000.snappy.parquet\n",
      "variant/part-00007-0f45d468-9e7e-4ffd-bee5-c02e08d0fd43-c000.snappy.parquet\n",
      "variant/part-00008-0f45d468-9e7e-4ffd-bee5-c02e08d0fd43-c000.snappy.parquet\n",
      "variant/part-00009-0f45d468-9e7e-4ffd-bee5-c02e08d0fd43-c000.snappy.parquet\n",
      "variant/part-00010-0f45d468-9e7e-4ffd-bee5-c02e08d0fd43-c000.snappy.parquet\n",
      "variant/part-00011-0f45d468-9e7e-4ffd-bee5-c02e08d0fd43-c000.snappy.parquet\n",
      "variant/part-00012-0f45d468-9e7e-4ffd-bee5-c02e08d0fd43-c000.snappy.parquet\n",
      "variant/part-00013-0f45d468-9e7e-4ffd-bee5-c02e08d0fd43-c000.snappy.parquet\n",
      "variant/part-00014-0f45d468-9e7e-4ffd-bee5-c02e08d0fd43-c000.snappy.parquet\n",
      "variant/part-00015-0f45d468-9e7e-4ffd-bee5-c02e08d0fd43-c000.snappy.parquet\n",
      "variant/part-00016-0f45d468-9e7e-4ffd-bee5-c02e08d0fd43-c000.snappy.parquet\n",
      "variant/part-00017-0f45d468-9e7e-4ffd-bee5-c02e08d0fd43-c000.snappy.parquet\n",
      "variant/part-00018-0f45d468-9e7e-4ffd-bee5-c02e08d0fd43-c000.snappy.parquet\n",
      "variant/part-00019-0f45d468-9e7e-4ffd-bee5-c02e08d0fd43-c000.snappy.parquet\n",
      "variant/part-00020-0f45d468-9e7e-4ffd-bee5-c02e08d0fd43-c000.snappy.parquet\n",
      "variant/part-00021-0f45d468-9e7e-4ffd-bee5-c02e08d0fd43-c000.snappy.parquet\n",
      "variant/part-00022-0f45d468-9e7e-4ffd-bee5-c02e08d0fd43-c000.snappy.parquet\n",
      "variant/part-00023-0f45d468-9e7e-4ffd-bee5-c02e08d0fd43-c000.snappy.parquet\n",
      "variant/part-00024-0f45d468-9e7e-4ffd-bee5-c02e08d0fd43-c000.snappy.parquet\n",
      "\n",
      "sent 526 bytes  received 2.183.681.741 bytes  16.862.411,33 bytes/sec\n",
      "total size is 3.060.963.047  speedup is 1,40\n"
     ]
    }
   ],
   "source": [
    "!rsync -rpltvz --delete rsync.ebi.ac.uk::pub/databases/opentargets/platform/25.03/output/credible_set ../../data/.\n",
    "!rsync -rpltvz --delete rsync.ebi.ac.uk::pub/databases/opentargets/platform/25.03/output/study ../../data/.\n",
    "!rsync -rpltvz --delete rsync.ebi.ac.uk::pub/databases/opentargets/platform/25.03/output/variant ../../data/.\n"
   ]
  },
  {
   "cell_type": "markdown",
   "metadata": {},
   "source": [
    "#### Loading the data with gentropy\n"
   ]
  },
  {
   "cell_type": "code",
   "execution_count": 26,
   "metadata": {},
   "outputs": [],
   "source": [
    "from gentropy.common.session import Session\n",
    "from gentropy.dataset.study_index import StudyIndex\n",
    "from gentropy.dataset.study_locus import StudyLocus\n",
    "from gentropy.dataset.variant_index import VariantIndex\n",
    "from pyspark.sql import Column, Window\n",
    "from pyspark.sql import functions as f\n"
   ]
  },
  {
   "cell_type": "code",
   "execution_count": 2,
   "metadata": {},
   "outputs": [
    {
     "name": "stderr",
     "output_type": "stream",
     "text": [
      "Setting default log level to \"WARN\".\n",
      "To adjust logging level use sc.setLogLevel(newLevel). For SparkR, use setLogLevel(newLevel).\n",
      "25/04/30 10:27:57 WARN NativeCodeLoader: Unable to load native-hadoop library for your platform... using builtin-java classes where applicable\n"
     ]
    }
   ],
   "source": [
    "session = Session(extended_spark_conf={\"spark.driver.memory\": \"40G\"})\n",
    "variant_index_path = \"../../data/variant\"\n",
    "study_index_path = \"../../data/study\"\n",
    "credible_set_path = \"../../data/credible_set\"\n"
   ]
  },
  {
   "cell_type": "code",
   "execution_count": 3,
   "metadata": {},
   "outputs": [
    {
     "data": {
      "text/html": [
       "\n",
       "            <div>\n",
       "                <p><b>SparkSession - in-memory</b></p>\n",
       "                \n",
       "        <div>\n",
       "            <p><b>SparkContext</b></p>\n",
       "\n",
       "            <p><a href=\"http://mib117351s.internal.sanger.ac.uk:4040\">Spark UI</a></p>\n",
       "\n",
       "            <dl>\n",
       "              <dt>Version</dt>\n",
       "                <dd><code>v3.5.5</code></dd>\n",
       "              <dt>Master</dt>\n",
       "                <dd><code>local[*]</code></dd>\n",
       "              <dt>AppName</dt>\n",
       "                <dd><code>gentropy</code></dd>\n",
       "            </dl>\n",
       "        </div>\n",
       "        \n",
       "            </div>\n",
       "        "
      ],
      "text/plain": [
       "<pyspark.sql.session.SparkSession at 0x17b7fc090>"
      ]
     },
     "execution_count": 3,
     "metadata": {},
     "output_type": "execute_result"
    }
   ],
   "source": [
    "session.spark\n"
   ]
  },
  {
   "cell_type": "code",
   "execution_count": 4,
   "metadata": {},
   "outputs": [],
   "source": [
    "vi = VariantIndex.from_parquet(session, variant_index_path)\n",
    "si = StudyIndex.from_parquet(session, study_index_path)\n",
    "cs = StudyLocus.from_parquet(session, credible_set_path)\n"
   ]
  },
  {
   "cell_type": "code",
   "execution_count": 5,
   "metadata": {},
   "outputs": [
    {
     "name": "stdout",
     "output_type": "stream",
     "text": [
      "+--------------+----------+--------+---------------+---------------+--------------------+-----------------------+----------------------+-------------+---------------+--------------------+--------------------+--------------------+\n",
      "|     variantId|chromosome|position|referenceAllele|alternateAllele|       variantEffect|mostSevereConsequenceId|transcriptConsequences|        rsIds|         hgvsId|   alleleFrequencies|             dbXrefs|  variantDescription|\n",
      "+--------------+----------+--------+---------------+---------------+--------------------+-----------------------+----------------------+-------------+---------------+--------------------+--------------------+--------------------+\n",
      "|17_4901571_G_A|        17| 4901571|              G|              A|[{VEP, synonymous...|             SO_0001819|  [{[SO_0001819], N...|[rs137952354]|17:g.4901571G>A|[{sas_adj, 1.0978...|[{rs137952354, en...|Synonymous varian...|\n",
      "+--------------+----------+--------+---------------+---------------+--------------------+-----------------------+----------------------+-------------+---------------+--------------------+--------------------+--------------------+\n",
      "only showing top 1 row\n",
      "\n"
     ]
    },
    {
     "name": "stderr",
     "output_type": "stream",
     "text": [
      "25/04/30 10:28:04 WARN SparkStringUtils: Truncated the string representation of a plan since it was too large. This behavior can be adjusted by setting 'spark.sql.debug.maxToStringFields'.\n"
     ]
    },
    {
     "name": "stdout",
     "output_type": "stream",
     "text": [
      "+--------------------+-----------+---------+--------------------+------------------------+-------------+------+---------------------+-----------+--------+----------------+----------------------+---------------+------------------+----------------------------------+--------------------+--------------------+------+---------+--------+---------+---------------------+-------------------+------------------+---------------+-------------+--------------------+-----------+---------+---------------+\n",
      "|             studyId|  projectId|studyType|     traitFromSource|traitFromSourceMappedIds|   diseaseIds|geneId|biosampleFromSourceId|biosampleId|pubmedId|publicationTitle|publicationFirstAuthor|publicationDate|publicationJournal|backgroundTraitFromSourceMappedIds|backgroundDiseaseIds|   initialSampleSize|nCases|nControls|nSamples|  cohorts|ldPopulationStructure|   discoverySamples|replicationSamples|qualityControls|analysisFlags|summarystatsLocation|hasSumstats|condition|sumstatQCValues|\n",
      "+--------------------+-----------+---------+--------------------+------------------------+-------------+------+---------------------+-----------+--------+----------------+----------------------+---------------+------------------+----------------------------------+--------------------+--------------------+------+---------+--------+---------+---------------------+-------------------+------------------+---------------+-------------+--------------------+-----------+---------+---------------+\n",
      "|FINNGEN_R12_AUTOI...|FINNGEN_R12|     gwas|Autoimmune hypert...|           [EFO_0004237]|[EFO_0004237]|  NULL|                 NULL|       NULL|    NULL|            NULL|                  NULL|           NULL|              NULL|                              NULL|                  []|500,348 (282,064 ...|  2469|   370637|  373106|[FinnGen]|         [{fin, 1.0}]|[{500348, Finnish}]|              NULL|             []|           []|gs://finngen-publ...|       true|     NULL|           NULL|\n",
      "+--------------------+-----------+---------+--------------------+------------------------+-------------+------+---------------------+-----------+--------+----------------+----------------------+---------------+------------------+----------------------------------+--------------------+--------------------+------+---------+--------+---------+---------------------+-------------------+------------------+---------------+-------------+--------------------+-----------+---------+---------------+\n",
      "only showing top 1 row\n",
      "\n",
      "+--------------------+---------+---------------+----------+--------+------+------------+-------+------+--------------+--------------+-------------------------------+-------------+-------------------+--------------------+-----------------+----------------+------------------+------------+-----------+----------+--------+----------+--------------------+--------------------+--------------------+----------+\n",
      "|        studyLocusId|studyType|      variantId|chromosome|position|region|     studyId|   beta|zScore|pValueMantissa|pValueExponent|effectAlleleFrequencyFromSource|standardError|subStudyDescription|     qualityControls|finemappingMethod|credibleSetIndex|credibleSetlog10BF|purityMeanR2|purityMinR2|locusStart|locusEnd|sampleSize|               ldSet|               locus|          confidence|isTransQtl|\n",
      "+--------------------+---------+---------------+----------+--------+------+------------+-------+------+--------------+--------------+-------------------------------+-------------+-------------------+--------------------+-----------------+----------------+------------------+------------+-----------+----------+--------+----------+--------------------+--------------------+--------------------+----------+\n",
      "|031afcc3416e65bef...|     gwas|17_38467428_G_T|        17|38467428|  NULL|GCST90430047|30.8091|  NULL|         7.545|            -9|                     0.00105712|      5.32895|               NULL|[Variant not foun...|             PICS|            NULL|              NULL|        NULL|       NULL|      NULL|    NULL|      NULL|[{17_38467428_G_T...|[{true, true, NUL...|PICS fine-mapped ...|      NULL|\n",
      "+--------------------+---------+---------------+----------+--------+------+------------+-------+------+--------------+--------------+-------------------------------+-------------+-------------------+--------------------+-----------------+----------------+------------------+------------+-----------+----------+--------+----------+--------------------+--------------------+--------------------+----------+\n",
      "only showing top 1 row\n",
      "\n"
     ]
    }
   ],
   "source": [
    "vi.df.show(n=1)\n",
    "si.df.show(n=1)\n",
    "cs.df.show(n=1)\n"
   ]
  },
  {
   "cell_type": "markdown",
   "metadata": {},
   "source": [
    "## MAF dataset\n",
    "\n",
    "The dataset below contains lead variants from credible sets contains:\n",
    "\n",
    "- maf\n",
    "- major population used to calculate maf\n",
    "- trait infromation derived from `traitFromSourceMappedIds` or `geneId` fields depending on the studyType found from study index\n",
    "- allelic frequencies derived from variant index (gnomAD) for major population found in `ldPopulationStructure` in study index\n",
    "- vep score\n",
    "- information about the cases and controls counts from study index\n",
    "- variant association statistics from study locus\n",
    "- study type\n",
    "\n",
    "Code below collects all required fields required to perform analysis on MAF and variant effects\n"
   ]
  },
  {
   "cell_type": "markdown",
   "metadata": {},
   "source": [
    "### Methods\n"
   ]
  },
  {
   "cell_type": "code",
   "execution_count": 7,
   "metadata": {},
   "outputs": [],
   "source": [
    "def major_population_in_study(ld_col: Column, default_major_pop: str = \"nfe\") -> Column:\n",
    "    \"\"\"Extract the major population from the study ld population structure.\n",
    "\n",
    "    Args:\n",
    "        ld_col (Column): ld population structure field  array<struct<ldPopulation: string, relativeSampleSize: double>>\n",
    "        default_major_pop (str, optional): population to use as default, when no population was reported. Defaults to \"nfe\".\n",
    "\n",
    "    Returns:\n",
    "        Column: ld_col struct\n",
    "\n",
    "    \"\"\"\n",
    "\n",
    "    def reduce_pops(pop1: Column, pop2: Column) -> Column:\n",
    "        \"\"\"Reduce two populations based on relative sample size.\n",
    "\n",
    "        This function takes 2 populations and report one of them based on following conditions:\n",
    "        * Use pop with bigger relativeSampleSize\n",
    "        * In case of a tie, the default_major_pop is preferred,\n",
    "        * In case of tie and no default_major_pop in pop1 and pop2, use pop1.\n",
    "        \"\"\"\n",
    "        return (\n",
    "            f.when(pop1.getField(\"relativeSampleSize\") > pop2.getField(\"relativeSampleSize\"), pop1)\n",
    "            .when(pop1.getField(\"relativeSampleSize\") < pop2.getField(\"relativeSampleSize\"), pop2)\n",
    "            .when(\n",
    "                (\n",
    "                    (pop1.getField(\"relativeSampleSize\") == pop2.getField(\"relativeSampleSize\"))\n",
    "                    & (pop1.getField(\"ldPopulation\") == f.lit(default_major_pop))\n",
    "                ),\n",
    "                pop1,\n",
    "            )\n",
    "            .when(\n",
    "                (\n",
    "                    (pop1.getField(\"relativeSampleSize\") == pop2.getField(\"relativeSampleSize\"))\n",
    "                    & (pop2.getField(\"ldPopulation\") == f.lit(default_major_pop))\n",
    "                ),\n",
    "                pop2,\n",
    "            )\n",
    "            .otherwise(pop1)\n",
    "        )\n",
    "\n",
    "    fallback = f.struct(f.lit(default_major_pop).alias(\"ldPopulation\"), f.lit(0.0).alias(\"relativeSampleSize\"))\n",
    "\n",
    "    return f.when(\n",
    "        f.size(ld_col) > 0,\n",
    "        f.reduce(\n",
    "            ld_col,\n",
    "            fallback,\n",
    "            reduce_pops,\n",
    "        ),\n",
    "    ).otherwise(fallback)\n",
    "\n",
    "\n",
    "def vep_variant_effect(c: Column) -> Column:\n",
    "    \"\"\"Extract VEP variant effect.\"\"\"\n",
    "\n",
    "    def extract_fields(ve: Column) -> Column:\n",
    "        return f.struct(\n",
    "            ve.getField(\"assessment\").alias(\"assessment\"),\n",
    "            ve.getField(\"normalisedScore\").alias(\"normalisedScore\"),\n",
    "            ve.getField(\"targetId\").alias(\"targetId\"),\n",
    "        )\n",
    "\n",
    "    return f.transform(f.filter(c, lambda ve: ve.getField(\"method\") == f.lit(\"VEP\")), extract_fields).getItem(0)\n",
    "\n",
    "\n",
    "def major_population_allele_freq(major_pop: Column, allele_freq: Column) -> Column:\n",
    "    \"\"\"Extract major population from variant.alleleFrequencies.\"\"\"\n",
    "    return f.filter(\n",
    "        allele_freq,\n",
    "        lambda freq: f.replace(freq.getField(\"populationName\"), f.lit(\"_adj\"), f.lit(\"\"))\n",
    "        == major_pop.getField(\"ldPopulation\"),\n",
    "    )\n",
    "\n",
    "\n",
    "def maf(variant_freq: Column) -> Column:\n",
    "    \"\"\"Calculate Minor Allele Frequency from variant frequency.\"\"\"\n",
    "    return (\n",
    "        f.when(\n",
    "            ((f.size(variant_freq) == 1) & (variant_freq.getItem(0).getField(\"alleleFrequency\") > 0.5)),\n",
    "            f.lit(1.0) - variant_freq.getItem(0).getField(\"alleleFrequency\"),\n",
    "        )\n",
    "        .when(\n",
    "            ((f.size(variant_freq) == 1) & (variant_freq.getItem(0).getField(\"alleleFrequency\") <= 0.5)),\n",
    "            variant_freq.getItem(0).getField(\"alleleFrequency\"),\n",
    "        )\n",
    "        .otherwise(None)\n",
    "    )\n",
    "\n",
    "\n",
    "def extract_pip_from_locus(variant_col: Column, locus: Column) -> Column:\n",
    "    \"\"\"Extract Posterior propability from variant from locus.\n",
    "\n",
    "    In the case the lead variant is not present in the locus, None is returned.\n",
    "    \"\"\"\n",
    "    lead_variant_stats = f.filter(locus, lambda v: v.getField(\"variantId\") == variant_col)\n",
    "    return (\n",
    "        f.when(\n",
    "            f.size(lead_variant_stats) == 1,\n",
    "            lead_variant_stats.getItem(0).getField(\"posteriorProbability\"),\n",
    "        )\n",
    "        .otherwise(None)\n",
    "        .alias(\"posteriorProbability\")\n",
    "    )\n",
    "\n",
    "\n",
    "def create_maf_dataset(si: StudyIndex, cs: StudyLocus, vi: VariantIndex):\n",
    "    \"\"\"Create MAF dataset from StudyIndex, StudyLocus and VariantIndex.\n",
    "\n",
    "    Args:\n",
    "        si (StudyIndex): StudyIndex object\n",
    "        cs (StudyLocus): StudyLocus object\n",
    "        vi (VariantIndex): VariantIndex object\n",
    "\n",
    "    Returns:\n",
    "        DataFrame: MAF dataset\n",
    "\n",
    "    \"\"\"\n",
    "    _cs = cs.df.select(\n",
    "        f.col(\"studyId\"),\n",
    "        f.col(\"studyLocusId\"),\n",
    "        f.col(\"variantId\"),\n",
    "        f.col(\"beta\"),\n",
    "        f.col(\"zScore\"),\n",
    "        f.col(\"pValueMantissa\"),\n",
    "        f.col(\"pValueExponent\"),\n",
    "        f.col(\"standardError\"),\n",
    "        f.col(\"finemappingMethod\"),\n",
    "        f.col(\"studyType\"),\n",
    "        f.size(\"locus\").alias(\"credibleSetSize\"),\n",
    "        f.col(\"isTransQtl\"),\n",
    "        extract_pip_from_locus(f.col(\"variantId\"), f.col(\"locus\")),\n",
    "    )\n",
    "    _si = si.df.select(\n",
    "        f.col(\"studyId\"),\n",
    "        f.col(\"nSamples\"),\n",
    "        f.col(\"nControls\"),\n",
    "        f.col(\"nCases\"),\n",
    "        f.col(\"geneId\"),  # for molqtl traits\n",
    "        f.col(\"traitFromSourceMappedIds\"),\n",
    "        major_population_in_study(f.col(\"ldPopulationStructure\"), \"nfe\").alias(\"majorPopulation\"),\n",
    "    )\n",
    "\n",
    "    _vi = vi.df.select(\n",
    "        f.col(\"variantId\"),\n",
    "        f.col(\"allelefrequencies\"),\n",
    "        vep_variant_effect(\"variantEffect\").alias(\"vepEffect\"),\n",
    "    )\n",
    "\n",
    "    return (\n",
    "        _cs.join(_si, how=\"left\", on=\"studyId\")\n",
    "        .join(_vi, how=\"left\", on=\"variantId\")\n",
    "        .select(\n",
    "            \"*\",\n",
    "            major_population_allele_freq(\n",
    "                f.col(\"majorPopulation\"),\n",
    "                f.col(\"alleleFrequencies\"),\n",
    "            ).alias(\"majorPopulationAF\"),\n",
    "        )\n",
    "        .select(\n",
    "            \"*\",\n",
    "            maf(f.col(\"majorPopulationAf\")).alias(\"majorPopulationMAF\"),\n",
    "        )\n",
    "    )\n"
   ]
  },
  {
   "cell_type": "markdown",
   "metadata": {},
   "source": [
    "MAF dataset consists of specific fields from credible sets, study index and variant index\n"
   ]
  },
  {
   "cell_type": "code",
   "execution_count": 8,
   "metadata": {},
   "outputs": [],
   "source": [
    "dataset_maf = create_maf_dataset(si, cs, vi)\n"
   ]
  },
  {
   "cell_type": "markdown",
   "metadata": {},
   "source": [
    "Total number of lead variants is 2622098\n"
   ]
  },
  {
   "cell_type": "markdown",
   "metadata": {},
   "source": [
    "Save the dataset for further analysis\n"
   ]
  },
  {
   "cell_type": "code",
   "execution_count": 10,
   "metadata": {},
   "outputs": [
    {
     "name": "stderr",
     "output_type": "stream",
     "text": [
      "                                                                                \r"
     ]
    }
   ],
   "source": [
    "dataset_maf.write.mode(\"overwrite\").parquet(\"../../data/lead-maf-vep\")\n"
   ]
  },
  {
   "cell_type": "markdown",
   "metadata": {},
   "source": [
    "### Systematic finemapping\n",
    "\n",
    "The goal is to see how many lead variants from credible sets had correctly calculated MAF\n",
    "\n",
    "There would be cases where:\n",
    "\n",
    "1. majorPopulationMAF == 0.0 in case the gnomAD allelic frequencies for population matching majorPopulation defined in study did not capture the variant\n",
    "2. majorPopulationMAF not inferred correctly when variant was not found in gnomAD, so allelic frequencies could not be\n"
   ]
  },
  {
   "cell_type": "code",
   "execution_count": 7,
   "metadata": {},
   "outputs": [],
   "source": [
    "dataset_maf = session.spark.read.parquet(\"../../data/lead-maf-vep\")\n"
   ]
  },
  {
   "cell_type": "markdown",
   "metadata": {},
   "source": [
    "Count how many lead variants have maf calculated\n"
   ]
  },
  {
   "cell_type": "code",
   "execution_count": 6,
   "metadata": {},
   "outputs": [],
   "source": [
    "cs = StudyLocus.from_parquet(session, credible_set_path).df\n"
   ]
  },
  {
   "cell_type": "code",
   "execution_count": 8,
   "metadata": {},
   "outputs": [
    {
     "data": {
      "text/plain": [
       "True"
      ]
     },
     "execution_count": 8,
     "metadata": {},
     "output_type": "execute_result"
    }
   ],
   "source": [
    "cs.count() == dataset_maf.count()\n"
   ]
  },
  {
   "cell_type": "code",
   "execution_count": null,
   "metadata": {},
   "outputs": [
    {
     "name": "stdout",
     "output_type": "stream",
     "text": [
      "Counts are equal\n",
      "Estimating the MAF distribution\n"
     ]
    },
    {
     "name": "stderr",
     "output_type": "stream",
     "text": [
      "25/04/30 11:00:22 WARN WindowExec: No Partition Defined for Window operation! Moving all data to a single partition, this can cause serious performance degradation.\n",
      "25/04/30 11:00:22 WARN WindowExec: No Partition Defined for Window operation! Moving all data to a single partition, this can cause serious performance degradation.\n",
      "25/04/30 11:00:22 WARN WindowExec: No Partition Defined for Window operation! Moving all data to a single partition, this can cause serious performance degradation.\n",
      "25/04/30 11:00:23 WARN WindowExec: No Partition Defined for Window operation! Moving all data to a single partition, this can cause serious performance degradation.\n",
      "25/04/30 11:00:23 WARN WindowExec: No Partition Defined for Window operation! Moving all data to a single partition, this can cause serious performance degradation.\n"
     ]
    },
    {
     "name": "stdout",
     "output_type": "stream",
     "text": [
      "+--------------------------------+-------+----------------------------------------------------------------+-------+-----+\n",
      "|majorPopulationMAFInterenceGroup|count  |majorPopulationMAFList                                          |total  |%    |\n",
      "+--------------------------------+-------+----------------------------------------------------------------+-------+-----+\n",
      "|able to infer MAF               |2616656|[10_100009635_T_G, 10_100043680_A_T, 10_100055122_T_C]          |2622098|99.79|\n",
      "|MAF eq 0.0                      |3800   |[10_10495814_C_T, 10_122254422_C_T, 10_129680683_G_A]           |2622098|0.14 |\n",
      "|Unable to infer MAF             |1642   |[10_12914618_G_A, 10_62759811_GAACTTCTCATAA_G, 11_114030799_G_A]|2622098|0.06 |\n",
      "+--------------------------------+-------+----------------------------------------------------------------+-------+-----+\n",
      "\n"
     ]
    },
    {
     "name": "stderr",
     "output_type": "stream",
     "text": [
      "25/04/30 11:00:24 WARN WindowExec: No Partition Defined for Window operation! Moving all data to a single partition, this can cause serious performance degradation.\n",
      "25/04/30 11:00:24 WARN WindowExec: No Partition Defined for Window operation! Moving all data to a single partition, this can cause serious performance degradation.\n",
      "                                                                                \r"
     ]
    }
   ],
   "source": [
    "if cs.count() == dataset_maf.count():\n",
    "    w = Window().partitionBy()\n",
    "    print(\"Counts are equal\")\n",
    "    print(\"Estimating the MAF distribution\")\n",
    "    dataset_maf.select(\n",
    "        f.col(\"majorPopulationMAF\"),\n",
    "        f.col(\"variantId\"),\n",
    "        f.when(f.col(\"majorPopulationMAF\").isNull(), f.lit(\"Unable to infer MAF\"))\n",
    "        .when(f.col(\"majorPopulationMAF\") == 0.0, f.lit(\"MAF eq 0.0\"))\n",
    "        .otherwise(\"able to infer MAF\")\n",
    "        .alias(\"majorPopulationMAFInterenceGroup\"),\n",
    "    ).groupBy(\"majorPopulationMAFInterenceGroup\").agg(\n",
    "        f.count(\"*\").alias(\"count\"),\n",
    "        f.collect_list(\"variantId\").alias(\"majorPopulationMAFList\"),\n",
    "    ).withColumn(\"total\", f.sum(f.col(\"count\")).over(w)).withColumn(\n",
    "        \"%\", f.round(f.col(\"count\") / f.col(\"total\") * 100, 2)\n",
    "    ).withColumn(\"majorPopulationMAFList\", f.slice(f.col(\"majorPopulationMAFList\"), 1, 3)).show(truncate=False)\n",
    "else:\n",
    "    print(\"Counts are not equal\")\n"
   ]
  },
  {
   "cell_type": "code",
   "execution_count": null,
   "metadata": {},
   "outputs": [
    {
     "name": "stderr",
     "output_type": "stream",
     "text": [
      "[Stage 256:>                                                        (0 + 1) / 1]\r"
     ]
    },
    {
     "name": "stdout",
     "output_type": "stream",
     "text": [
      "+---------------+----------+--------+---------------+---------------+-------------------------------------------------------------------------------------------------------------------------------+-----------------------+-------------------------------------------------------------------------------------------------------------------------------------------------------------------------------------------------------------------------------------------------------------------------------------------------------------------------------------------------------------------------------------------------------------------------------------------------------------------------------------------------------------------------------------------------------------------------------------------------------------------------------------------------------------------------------------------------------------------------------------------------------------------------------------------------------------------------------------------------------------------------------------------------------------------------------------------------------------------------------------------------------------------------------------------------------------------------------------------------------------------------------------------------------------------------------------------------------------------------------------------------------------------------------------------------------------------------------------------------------------------------------------------------------------------------------------------------------------------------------------------------------------------------------------------------------------------------------------------------------------------------------------------------------------------------------------------------------------------------------------------------------------------------------------------------------------------------------------------------------------------------------------------------------------------------------------------------------------------------------------------------------------------------------------------------------------------------------------------------------------------------------------------------------------------------------------------------------------------------------------------------------------------------------------------------------------------------------------------------------------------------------------------------------------------------------------------------------------------------------------------------------------------------------------------------------------------------------------------------------------------------------------------------------------------------------------------------------------------------------------------------------------------------------------------------------------------------------------------------------------------------------------------------------------------------------------------------------------------------------------------------------------------------------------------------------------------------------------------------------------------------------------------------------------------------------------------------------------------------------------------------------------------------------------------------------------------------------------------------------------------------------------------------------------------------------------------------------------------------------------------------------------------------------------------------------------------------------------------------------------------------------------------------------------------------------------------------------------------------------------------------------------------------------------------------------------------------------------------------------------------------------------------------------------------------------------------------------------------------------------------------------------------------------------------------------------------------------------------------------------------------------------------------------------------------------------------------------------------------------------------------------------------------------------------------------------------------------------------------------------------------------------------------------------------------------------------------------------------------------------------------------------------------------------------------------------------------------------------------------------------------------------------------------------------------------------------------------------------------------------------------------------------------------------------------------------------------------------------------------+--------------+----------------+-----------------+-----------------------------------+--------------------------------------+\n",
      "|variantId      |chromosome|position|referenceAllele|alternateAllele|variantEffect                                                                                                                  |mostSevereConsequenceId|transcriptConsequences                                                                                                                                                                                                                                                                                                                                                                                                                                                                                                                                                                                                                                                                                                                                                                                                                                                                                                                                                                                                                                                                                                                                                                                                                                                                                                                                                                                                                                                                                                                                                                                                                                                                                                                                                                                                                                                                                                                                                                                                                                                                                                                                                                                                                                                                                                                                                                                                                                                                                                                                                                                                                                                                                                                                                                                                                                                                                                                                                                                                                                                                                                                                                                                                                                                                                                                                                                                                                                                                                                                                                                                                                                                                                                                                                                                                                                                                                                                                                                                                                                                                                                                                                                                                                                                                                                                                                                                                                                                                                                                                                                                                                                                                                                                                                                                                                                 |rsIds         |hgvsId          |alleleFrequencies|dbXrefs                            |variantDescription                    |\n",
      "+---------------+----------+--------+---------------+---------------+-------------------------------------------------------------------------------------------------------------------------------+-----------------------+-------------------------------------------------------------------------------------------------------------------------------------------------------------------------------------------------------------------------------------------------------------------------------------------------------------------------------------------------------------------------------------------------------------------------------------------------------------------------------------------------------------------------------------------------------------------------------------------------------------------------------------------------------------------------------------------------------------------------------------------------------------------------------------------------------------------------------------------------------------------------------------------------------------------------------------------------------------------------------------------------------------------------------------------------------------------------------------------------------------------------------------------------------------------------------------------------------------------------------------------------------------------------------------------------------------------------------------------------------------------------------------------------------------------------------------------------------------------------------------------------------------------------------------------------------------------------------------------------------------------------------------------------------------------------------------------------------------------------------------------------------------------------------------------------------------------------------------------------------------------------------------------------------------------------------------------------------------------------------------------------------------------------------------------------------------------------------------------------------------------------------------------------------------------------------------------------------------------------------------------------------------------------------------------------------------------------------------------------------------------------------------------------------------------------------------------------------------------------------------------------------------------------------------------------------------------------------------------------------------------------------------------------------------------------------------------------------------------------------------------------------------------------------------------------------------------------------------------------------------------------------------------------------------------------------------------------------------------------------------------------------------------------------------------------------------------------------------------------------------------------------------------------------------------------------------------------------------------------------------------------------------------------------------------------------------------------------------------------------------------------------------------------------------------------------------------------------------------------------------------------------------------------------------------------------------------------------------------------------------------------------------------------------------------------------------------------------------------------------------------------------------------------------------------------------------------------------------------------------------------------------------------------------------------------------------------------------------------------------------------------------------------------------------------------------------------------------------------------------------------------------------------------------------------------------------------------------------------------------------------------------------------------------------------------------------------------------------------------------------------------------------------------------------------------------------------------------------------------------------------------------------------------------------------------------------------------------------------------------------------------------------------------------------------------------------------------------------------------------------------------------------------------------------------------------------------------------------------------------+--------------+----------------+-----------------+-----------------------------------+--------------------------------------+\n",
      "|10_12914618_G_A|10        |12914618|G              |A              |[{VEP, intron_variant, 0.1, NULL, NULL, 0.10000000149011612}, {GERP, NULL, -1.19, NULL, ENSG00000272055, -0.39666668574015296}]|SO_0001627             |[{[SO_0001632], NULL, [Q8WVF2, A0A067XJX6], true, NULL, 307148, 319756, P1, NM_145314.3, ENSG00000165623, MODIFIER, NULL, NULL, NULL, 0.0, 17, UCMA, protein_coding, ENST00000378681}, {[SO_0001632], NULL, [Q8IU85], true, NULL, 79073, 565071, P1, NM_153498.4, ENSG00000183049, MODIFIER, NULL, NULL, NULL, 0.0, 4, CAMK1D, protein_coding, ENST00000619168}, {[SO_0001632], NULL, [P49903], true, NULL, 402810, 433675, P1, NM_012247.5, ENSG00000086475, MODIFIER, NULL, NULL, NULL, 0.0, 25, SEPHS1, protein_coding, ENST00000327347}, {[SO_0001632], NULL, [O14832], true, NULL, 363181, 385446, P1, NM_006214.4, ENSG00000107537, MODIFIER, NULL, NULL, NULL, 0.0, 21, PHYH, protein_coding, ENST00000263038}, {[SO_0001632], NULL, [], true, NULL, 498618, 498690, NULL, NULL, ENSG00000252438, MODIFIER, NULL, NULL, NULL, 0.0, 29, NULL, snoRNA, ENST00000516629}, {[SO_0001632], NULL, [], true, NULL, 457987, 458135, NULL, NULL, ENSG00000252118, MODIFIER, NULL, NULL, NULL, 0.0, 27, RNU6ATAC39P, snRNA, ENST00000516309}, {[SO_0001632], NULL, [], true, NULL, 393527, 393829, NULL, NULL, ENSG00000226209, MODIFIER, NULL, NULL, NULL, 0.0, 24, RBISP1, processed_pseudogene, ENST00000429930}, {[SO_0001632], NULL, [], true, NULL, 347267, 351467, NULL, NULL, ENSG00000285994, MODIFIER, NULL, NULL, NULL, 0.0, 20, NULL, lncRNA, ENST00000648650}, {[SO_0001632], NULL, [], true, NULL, 335795, 335865, NULL, NULL, ENSG00000263584, MODIFIER, NULL, NULL, NULL, 0.0, 18, MIR4480, miRNA, ENST00000582492}, {[SO_0001632], NULL, [], true, NULL, 244859, 245159, NULL, NULL, ENSG00000237540, MODIFIER, NULL, NULL, NULL, 0.0, 13, RPL36AP36, processed_pseudogene, ENST00000418616}, {[SO_0001632], NULL, [], true, NULL, 242066, 243518, NULL, NULL, ENSG00000203414, MODIFIER, NULL, NULL, NULL, 0.0, 12, BTBD7P1, processed_pseudogene, ENST00000447253}, {[SO_0001632], NULL, [], true, NULL, 227567, 228359, NULL, NULL, ENSG00000228330, MODIFIER, NULL, NULL, NULL, 0.0, 11, NULL, processed_pseudogene, ENST00000442900}, {[SO_0001632], NULL, [], true, NULL, 224578, 224915, NULL, NULL, ENSG00000234175, MODIFIER, NULL, NULL, NULL, 0.0, 10, NULL, processed_pseudogene, ENST00000442321}, {[SO_0001632], NULL, [], true, NULL, 189956, 190175, NULL, NULL, ENSG00000235763, MODIFIER, NULL, NULL, NULL, 0.0, 9, SNRPGP5, processed_pseudogene, ENST00000456003}, {[SO_0001632], NULL, [], true, NULL, 185237, 185350, NULL, NULL, ENSG00000289266, MODIFIER, NULL, NULL, NULL, 0.0, 6, NULL, lncRNA, ENST00000690058}, {[SO_0001632], NULL, [], true, NULL, 143284, 144058, NULL, NULL, ENSG00000225251, MODIFIER, NULL, NULL, NULL, 0.0, 5, RPL5P25, processed_pseudogene, ENST00000441148}, {[SO_0001632], NULL, [], true, NULL, 10061, 10167, NULL, NULL, ENSG00000212499, MODIFIER, NULL, NULL, NULL, 0.0, 3, RNA5SP300, rRNA_pseudogene, ENST00000391197}, {[SO_0001631], NULL, [Q96CV9], true, NULL, 185545, 185545, P3, NM_001008212.2, ENSG00000123240, MODIFIER, NULL, NULL, NULL, 0.0, 7, OPTN, protein_coding, ENST00000378747}, {[SO_0001631], NULL, [Q7L590], true, NULL, 246940, 246940, P4, NM_018518.5, ENSG00000065328, MODIFIER, NULL, NULL, NULL, 0.0, 14, MCM10, protein_coding, ENST00000378714}, {[SO_0001631], NULL, [], true, NULL, 476729, 476729, NULL, NULL, ENSG00000286514, MODIFIER, NULL, NULL, NULL, 0.0, 28, NULL, lncRNA, ENST00000809005}, {[SO_0001631], NULL, [], true, NULL, 433646, 433646, NULL, NULL, ENSG00000289585, MODIFIER, NULL, NULL, NULL, 0.0, 26, NULL, lncRNA, ENST00000690746}, {[SO_0001631], NULL, [], true, NULL, 387562, 387562, NULL, NULL, ENSG00000306852, MODIFIER, NULL, NULL, NULL, 0.0, 23, NULL, lncRNA, ENST00000821570}, {[SO_0001631], NULL, [], true, NULL, 385571, 385571, NULL, NULL, ENSG00000308565, MODIFIER, NULL, NULL, NULL, 0.0, 22, NULL, lncRNA, ENST00000835081}, {[SO_0001631], NULL, [], true, NULL, 345922, 345922, NULL, NULL, ENSG00000297589, MODIFIER, NULL, NULL, NULL, 0.0, 19, NULL, lncRNA, ENST00000749097}, {[SO_0001631], NULL, [], true, NULL, 302651, 302651, NULL, NULL, ENSG00000272055, MODIFIER, NULL, NULL, NULL, 0.0, 16, RNU6-6P, snRNA, ENST00000606623}, {[SO_0001631], NULL, [], true, NULL, 261421, 261421, NULL, NULL, ENSG00000283699, MODIFIER, NULL, NULL, NULL, 0.0, 15, MIR4481, miRNA, ENST00000637781}, {[SO_0001631], NULL, [], true, NULL, 189265, 189265, NULL, NULL, ENSG00000221331, MODIFIER, NULL, NULL, NULL, 0.0, 8, MIR548Q, miRNA, ENST00000408404}, {[SO_0001627, SO_0001619], NULL, [], true, NULL, 0, 37159, NULL, NULL, ENSG00000285520, MODIFIER, NULL, NULL, NULL, 0.1, 2, NULL, lncRNA, ENST00000649832}, {[SO_0001627], NULL, [Q9BQI4], true, NULL, 0, 87095, P1, NM_031455.4, ENSG00000151468, MODIFIER, NULL, NULL, NULL, 0.1, 1, CCDC3, protein_coding, ENST00000378825}]|[rs1453597728]|10:g.12914618G>A|[]               |[{rs1453597728, ensembl_variation}]|Intron variant overlapping with CCDC3.|\n",
      "+---------------+----------+--------+---------------+---------------+-------------------------------------------------------------------------------------------------------------------------------+-----------------------+-------------------------------------------------------------------------------------------------------------------------------------------------------------------------------------------------------------------------------------------------------------------------------------------------------------------------------------------------------------------------------------------------------------------------------------------------------------------------------------------------------------------------------------------------------------------------------------------------------------------------------------------------------------------------------------------------------------------------------------------------------------------------------------------------------------------------------------------------------------------------------------------------------------------------------------------------------------------------------------------------------------------------------------------------------------------------------------------------------------------------------------------------------------------------------------------------------------------------------------------------------------------------------------------------------------------------------------------------------------------------------------------------------------------------------------------------------------------------------------------------------------------------------------------------------------------------------------------------------------------------------------------------------------------------------------------------------------------------------------------------------------------------------------------------------------------------------------------------------------------------------------------------------------------------------------------------------------------------------------------------------------------------------------------------------------------------------------------------------------------------------------------------------------------------------------------------------------------------------------------------------------------------------------------------------------------------------------------------------------------------------------------------------------------------------------------------------------------------------------------------------------------------------------------------------------------------------------------------------------------------------------------------------------------------------------------------------------------------------------------------------------------------------------------------------------------------------------------------------------------------------------------------------------------------------------------------------------------------------------------------------------------------------------------------------------------------------------------------------------------------------------------------------------------------------------------------------------------------------------------------------------------------------------------------------------------------------------------------------------------------------------------------------------------------------------------------------------------------------------------------------------------------------------------------------------------------------------------------------------------------------------------------------------------------------------------------------------------------------------------------------------------------------------------------------------------------------------------------------------------------------------------------------------------------------------------------------------------------------------------------------------------------------------------------------------------------------------------------------------------------------------------------------------------------------------------------------------------------------------------------------------------------------------------------------------------------------------------------------------------------------------------------------------------------------------------------------------------------------------------------------------------------------------------------------------------------------------------------------------------------------------------------------------------------------------------------------------------------------------------------------------------------------------------------------------------------------------------------------+--------------+----------------+-----------------+-----------------------------------+--------------------------------------+\n",
      "\n"
     ]
    },
    {
     "name": "stderr",
     "output_type": "stream",
     "text": [
      "                                                                                \r"
     ]
    }
   ],
   "source": [
    "vi.df.filter(f.col(\"variantId\") == \"10_12914618_G_A\").show(truncate=False)\n"
   ]
  }
 ],
 "metadata": {
  "kernelspec": {
   "display_name": ".venv",
   "language": "python",
   "name": "python3"
  },
  "language_info": {
   "codemirror_mode": {
    "name": "ipython",
    "version": 3
   },
   "file_extension": ".py",
   "mimetype": "text/x-python",
   "name": "python",
   "nbconvert_exporter": "python",
   "pygments_lexer": "ipython3",
   "version": "3.11.11"
  }
 },
 "nbformat": 4,
 "nbformat_minor": 2
}

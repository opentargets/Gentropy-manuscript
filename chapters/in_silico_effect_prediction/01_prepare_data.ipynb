{
 "cells": [
  {
   "cell_type": "markdown",
   "metadata": {},
   "source": [
    "# Data preparation\n",
    "\n",
    "The aim of this notebook is to collect the information about the credible set lead variants.\n",
    "This includes:\n",
    "\n",
    "- Addition of Major population sample size and size of cases/controls from studyIndex,\n",
    "- Addition of consequence score derived from VEP annotations from variantIndex\n",
    "- Calculation of MAF (Minor Allele Frequency) for lead variants based on the gnomAD v4.2 allele frequency data for a given population given by the major ancestry.\n",
    "- Calculation of Variance Explained by lead variant\n"
   ]
  },
  {
   "cell_type": "markdown",
   "metadata": {
    "vscode": {
     "languageId": "plaintext"
    }
   },
   "source": [
    "## Data extraction and loading\n",
    "\n",
    "Data for this analysis has to be downloaded from 3 datasets available by FTP:\n",
    "\n",
    "- credible_set\n",
    "- variant\n",
    "- study\n"
   ]
  },
  {
   "cell_type": "code",
   "execution_count": 1,
   "metadata": {},
   "outputs": [
    {
     "name": "stdout",
     "output_type": "stream",
     "text": []
    }
   ],
   "source": [
    "# Ensure proper java version < 11\n",
    "!java -version\n"
   ]
  },
  {
   "cell_type": "code",
   "execution_count": 2,
   "metadata": {},
   "outputs": [
    {
     "name": "stdout",
     "output_type": "stream",
     "text": []
    }
   ],
   "source": [
    "!rsync -rpltvz --delete rsync.ebi.ac.uk::pub/databases/opentargets/platform/25.03/output/credible_set ../../data/.\n",
    "!rsync -rpltvz --delete rsync.ebi.ac.uk::pub/databases/opentargets/platform/25.03/output/study ../../data/.\n",
    "!rsync -rpltvz --delete rsync.ebi.ac.uk::pub/databases/opentargets/platform/25.03/output/variant ../../data/.\n"
   ]
  },
  {
   "cell_type": "markdown",
   "metadata": {},
   "source": [
    "#### Loading the data with gentropy\n"
   ]
  },
  {
   "cell_type": "code",
   "execution_count": 6,
   "metadata": {},
   "outputs": [],
   "source": [
    "from gentropy.common.session import Session\n",
    "from gentropy.dataset.study_index import StudyIndex\n",
    "from gentropy.dataset.study_locus import StudyLocus\n",
    "from gentropy.dataset.variant_index import VariantIndex\n"
   ]
  },
  {
   "cell_type": "code",
   "execution_count": 7,
   "metadata": {},
   "outputs": [
    {
     "name": "stderr",
     "output_type": "stream",
     "text": [
      "Setting default log level to \"WARN\".\n",
      "To adjust logging level use sc.setLogLevel(newLevel). For SparkR, use setLogLevel(newLevel).\n",
      "25/06/04 13:08:00 WARN NativeCodeLoader: Unable to load native-hadoop library for your platform... using builtin-java classes where applicable\n"
     ]
    }
   ],
   "source": [
    "session = Session(extended_spark_conf={\"spark.driver.memory\": \"40G\"})\n",
    "variant_index_path = \"../../data/variant\"\n",
    "study_index_path = \"../../data/study\"\n",
    "credible_set_path = \"../../data/credible_set\"\n"
   ]
  },
  {
   "cell_type": "code",
   "execution_count": null,
   "metadata": {},
   "outputs": [
    {
     "data": {
      "text/html": [
       "\n",
       "            <div>\n",
       "                <p><b>SparkSession - in-memory</b></p>\n",
       "                \n",
       "        <div>\n",
       "            <p><b>SparkContext</b></p>\n",
       "\n",
       "            <p><a href=\"http://mib117351s.internal.sanger.ac.uk:4040\">Spark UI</a></p>\n",
       "\n",
       "            <dl>\n",
       "              <dt>Version</dt>\n",
       "                <dd><code>v3.5.5</code></dd>\n",
       "              <dt>Master</dt>\n",
       "                <dd><code>local[*]</code></dd>\n",
       "              <dt>AppName</dt>\n",
       "                <dd><code>gentropy</code></dd>\n",
       "            </dl>\n",
       "        </div>\n",
       "        \n",
       "            </div>\n",
       "        "
      ],
      "text/plain": [
       "<pyspark.sql.session.SparkSession at 0x175bb0d10>"
      ]
     },
     "execution_count": 8,
     "metadata": {},
     "output_type": "execute_result"
    }
   ],
   "source": [
    "session.spark\n"
   ]
  },
  {
   "cell_type": "code",
   "execution_count": 11,
   "metadata": {},
   "outputs": [],
   "source": [
    "vi = VariantIndex.from_parquet(session, variant_index_path)\n",
    "si = StudyIndex.from_parquet(session, study_index_path)\n",
    "cs = StudyLocus.from_parquet(session, credible_set_path)\n"
   ]
  },
  {
   "cell_type": "code",
   "execution_count": 11,
   "metadata": {},
   "outputs": [
    {
     "name": "stdout",
     "output_type": "stream",
     "text": [
      "+---------------+----------+--------+---------------+---------------+--------------------+-----------------------+----------------------+------------+----------------+--------------------+--------------------+--------------------+\n",
      "|      variantId|chromosome|position|referenceAllele|alternateAllele|       variantEffect|mostSevereConsequenceId|transcriptConsequences|       rsIds|          hgvsId|   alleleFrequencies|             dbXrefs|  variantDescription|\n",
      "+---------------+----------+--------+---------------+---------------+--------------------+-----------------------+----------------------+------------+----------------+--------------------+--------------------+--------------------+\n",
      "|11_69447201_C_A|        11|69447201|              C|              A|[{VEP, upstream_g...|             SO_0001631|  [{[SO_0001632], N...|[rs58111031]|11:g.69447201C>A|[{sas_adj, 8.2850...|[{rs58111031, ens...|Upstream gene var...|\n",
      "+---------------+----------+--------+---------------+---------------+--------------------+-----------------------+----------------------+------------+----------------+--------------------+--------------------+--------------------+\n",
      "only showing top 1 row\n",
      "\n",
      "+--------------------+-----------+---------+--------------------+------------------------+-------------+------+---------------------+-----------+--------+----------------+----------------------+---------------+------------------+----------------------------------+--------------------+--------------------+------+---------+--------+---------+---------------------+-------------------+------------------+---------------+-------------+--------------------+-----------+---------+---------------+\n",
      "|             studyId|  projectId|studyType|     traitFromSource|traitFromSourceMappedIds|   diseaseIds|geneId|biosampleFromSourceId|biosampleId|pubmedId|publicationTitle|publicationFirstAuthor|publicationDate|publicationJournal|backgroundTraitFromSourceMappedIds|backgroundDiseaseIds|   initialSampleSize|nCases|nControls|nSamples|  cohorts|ldPopulationStructure|   discoverySamples|replicationSamples|qualityControls|analysisFlags|summarystatsLocation|hasSumstats|condition|sumstatQCValues|\n",
      "+--------------------+-----------+---------+--------------------+------------------------+-------------+------+---------------------+-----------+--------+----------------+----------------------+---------------+------------------+----------------------------------+--------------------+--------------------+------+---------+--------+---------+---------------------+-------------------+------------------+---------------+-------------+--------------------+-----------+---------+---------------+\n",
      "|FINNGEN_R12_AUTOI...|FINNGEN_R12|     gwas|Autoimmune hypert...|           [EFO_0004237]|[EFO_0004237]|  NULL|                 NULL|       NULL|    NULL|            NULL|                  NULL|           NULL|              NULL|                              NULL|                  []|500,348 (282,064 ...|  2469|   370637|  373106|[FinnGen]|         [{fin, 1.0}]|[{500348, Finnish}]|              NULL|             []|           []|gs://finngen-publ...|       true|     NULL|           NULL|\n",
      "+--------------------+-----------+---------+--------------------+------------------------+-------------+------+---------------------+-----------+--------+----------------+----------------------+---------------+------------------+----------------------------------+--------------------+--------------------+------+---------+--------+---------+---------------------+-------------------+------------------+---------------+-------------+--------------------+-----------+---------+---------------+\n",
      "only showing top 1 row\n",
      "\n",
      "+--------------------+---------+-----------------+----------+--------+--------------------+--------------------+---------+------+--------------+--------------+-------------------------------+-------------+-------------------+---------------+-----------------+----------------+------------------+------------+-----------+----------+--------+----------+-----+--------------------+--------------------+----------+\n",
      "|        studyLocusId|studyType|        variantId|chromosome|position|              region|             studyId|     beta|zScore|pValueMantissa|pValueExponent|effectAlleleFrequencyFromSource|standardError|subStudyDescription|qualityControls|finemappingMethod|credibleSetIndex|credibleSetlog10BF|purityMeanR2|purityMinR2|locusStart|locusEnd|sampleSize|ldSet|               locus|          confidence|isTransQtl|\n",
      "+--------------------+---------+-----------------+----------+--------+--------------------+--------------------+---------+------+--------------+--------------+-------------------------------+-------------+-------------------+---------------+-----------------+----------------+------------------+------------+-----------+----------+--------+----------+-----+--------------------+--------------------+----------+\n",
      "|4b1afe2e9d73515c1...|     eqtl|17_31335853_A_ATT|        17|31335853|chr17:30321884-32...|fairfax_2014_micr...|-0.825485|  NULL|         6.358|           -42|                           NULL|    0.0496005|               NULL|             []|            SuSie|               1|  62.4758186340332|        NULL|       NULL|      NULL|    NULL|      NULL| NULL|[{true, true, 141...|SuSiE fine-mapped...|     false|\n",
      "+--------------------+---------+-----------------+----------+--------+--------------------+--------------------+---------+------+--------------+--------------+-------------------------------+-------------+-------------------+---------------+-----------------+----------------+------------------+------------+-----------+----------+--------+----------+-----+--------------------+--------------------+----------+\n",
      "only showing top 1 row\n",
      "\n"
     ]
    }
   ],
   "source": [
    "vi.df.show(n=1)\n",
    "si.df.show(n=1)\n",
    "cs.df.show(n=1)\n"
   ]
  },
  {
   "cell_type": "markdown",
   "metadata": {},
   "source": [
    "## MAF dataset\n",
    "\n",
    "The dataset below contains lead variants from credible sets contains:\n",
    "\n",
    "- maf\n",
    "- major population used to calculate maf\n",
    "- trait infromation derived from `traitFromSourceMappedIds` or `geneId` fields depending on the studyType found from study index\n",
    "- allelic frequencies derived from variant index (gnomAD) for major population found in `ldPopulationStructure` in study index\n",
    "- vep score\n",
    "- information about the cases and controls counts from study index\n",
    "- variant association statistics from study locus\n",
    "- study type\n",
    "\n",
    "Code below collects all required fields required to perform analysis on MAF and variant effects\n"
   ]
  },
  {
   "cell_type": "markdown",
   "metadata": {},
   "source": [
    "### Building dataset\n"
   ]
  },
  {
   "cell_type": "code",
   "execution_count": 9,
   "metadata": {},
   "outputs": [],
   "source": [
    "from manuscript_methods.datasets.maf_dataset import create_maf_dataset\n"
   ]
  },
  {
   "cell_type": "markdown",
   "metadata": {},
   "source": [
    "MAF dataset consists of specific fields from credible sets, study index and variant index\n"
   ]
  },
  {
   "cell_type": "code",
   "execution_count": 12,
   "metadata": {},
   "outputs": [],
   "source": [
    "dataset_maf = create_maf_dataset(si, cs, vi)\n"
   ]
  },
  {
   "cell_type": "markdown",
   "metadata": {},
   "source": [
    "Save the dataset for further analysis\n"
   ]
  },
  {
   "cell_type": "code",
   "execution_count": 8,
   "metadata": {},
   "outputs": [
    {
     "name": "stderr",
     "output_type": "stream",
     "text": [
      "                                                                                \r"
     ]
    }
   ],
   "source": [
    "dataset_maf.write.mode(\"overwrite\").parquet(\"../../data/lead-maf-vep\")\n"
   ]
  }
 ],
 "metadata": {
  "kernelspec": {
   "display_name": ".venv",
   "language": "python",
   "name": "python3"
  },
  "language_info": {
   "codemirror_mode": {
    "name": "ipython",
    "version": 3
   },
   "file_extension": ".py",
   "mimetype": "text/x-python",
   "name": "python",
   "nbconvert_exporter": "python",
   "pygments_lexer": "ipython3",
   "version": "3.11.11"
  }
 },
 "nbformat": 4,
 "nbformat_minor": 2
}

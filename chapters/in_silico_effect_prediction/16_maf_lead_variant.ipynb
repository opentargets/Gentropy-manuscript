{
 "cells": [
  {
   "cell_type": "markdown",
   "id": "add3c66a",
   "metadata": {},
   "source": [
    "# MAF vs lead variant VEP score\n",
    "\n",
    "This notebook compares the MAF (Minor Allele Frequency) of credible set lead variants with their VEP (Variant Effect Predictor) scores"
   ]
  },
  {
   "cell_type": "code",
   "execution_count": 1,
   "id": "da3d9a83",
   "metadata": {},
   "outputs": [
    {
     "data": {
      "text/plain": [
       "polars.config.Config"
      ]
     },
     "execution_count": 1,
     "metadata": {},
     "output_type": "execute_result"
    }
   ],
   "source": [
    "from __future__ import annotations\n",
    "\n",
    "import random\n",
    "from collections.abc import Callable\n",
    "\n",
    "import polars as pl\n",
    "import seaborn as sns\n",
    "\n",
    "random.seed(42)\n",
    "sns.set_style(\"white\")\n",
    "sns.set_context(\"paper\", font_scale=1.0)\n",
    "sns.set_palette(sns.color_palette(\"coolwarm\"))\n",
    "pl.Config.set_tbl_rows(100)\n"
   ]
  },
  {
   "cell_type": "markdown",
   "id": "f87f33bb",
   "metadata": {
    "vscode": {
     "languageId": "plaintext"
    }
   },
   "source": [
    "## Methods"
   ]
  },
  {
   "cell_type": "code",
   "execution_count": 10,
   "id": "e80a013b",
   "metadata": {},
   "outputs": [],
   "source": [
    "def classify_by_pip_threshold(pip: pl.Expr, threshold: float = 0.9) -> pl.Expr:\n",
    "    \"\"\"Classify dataset by posteriorProbability threshold.\"\"\"\n",
    "    return pl.when(pip >= threshold).then(True).otherwise(False).alias(f\"is{threshold * 100:.0f}pip\")\n",
    "\n",
    "\n",
    "class VepScoringGroup:\n",
    "    def __init__(self, score: str, label: str):\n",
    "        assert isinstance(score, (int, float)), \"Score must be a number\"\n",
    "        assert isinstance(label, str), \"Label must be a string\"\n",
    "        self.score = score\n",
    "        self.label = label\n",
    "\n",
    "    def __gt__(self, other: VepScoringGroup) -> bool:\n",
    "        return self.score > other.score\n",
    "\n",
    "    def __lt__(self, other: VepScoringGroup) -> bool:\n",
    "        return self.score < other.score\n",
    "\n",
    "    def __eq__(self, other: VepScoringGroup) -> bool:\n",
    "        return self.score == other.score\n",
    "\n",
    "\n",
    "def classify_by_vep_score(effect: pl.Expr, scores: list[VepScoringGroup] | None = None) -> pl.Expr:\n",
    "    \"\"\"Classify the vep score by given scores.\"\"\"\n",
    "    if not scores:\n",
    "        scores = [\n",
    "            VepScoringGroup(score=0.0, label=\"very low\"),\n",
    "            VepScoringGroup(score=0.1, label=\"low\"),\n",
    "            VepScoringGroup(score=0.33, label=\"medium\"),\n",
    "            VepScoringGroup(score=0.66, label=\"high\"),\n",
    "            VepScoringGroup(score=1.0, label=\"very high\"),\n",
    "        ]\n",
    "    expr = pl.when(False).then(None)\n",
    "    groups = sorted(scores, reverse=True)\n",
    "    for group in groups:\n",
    "        expr = expr.when(effect.struct.field(\"normalisedScore\") >= group.score).then(pl.lit(group.label))\n",
    "    expr = expr.otherwise(pl.lit(None)).alias(\"vepScoreClass\")\n",
    "    return expr\n",
    "\n",
    "\n",
    "class VariantFrequencyGroup:\n",
    "    def __init__(self, condition: Callable[[pl.Expr], pl.Expr], label: str) -> None:\n",
    "        self.label = label\n",
    "        self.condition = condition\n",
    "\n",
    "\n",
    "def classify_by_altering(vep_score: pl.Expr) -> pl.Expr:\n",
    "    \"\"\"Classify variants based on altering status.\"\"\"\n",
    "    expr = pl.when(vep_score.struct.field(\"normalisedScore\") >= 0.66).then(pl.lit(\"protein_altering\"))\n",
    "    expr = expr.otherwise(pl.lit(\"non-protein_altering\"))\n",
    "    return expr.alias(\"alteringStatus\")\n",
    "\n",
    "\n",
    "def classify_by_maf(maf: pl.Expr, frequency_groups: list[VariantFrequencyGroup] | None = None) -> pl.Expr:\n",
    "    \"\"\"Classify variants based on the maf thresholds.\"\"\"\n",
    "    if not frequency_groups:\n",
    "        frequency_groups = [\n",
    "            VariantFrequencyGroup(\n",
    "                lambda maf: (maf >= 0.01), \"common\"\n",
    "            ),  # in case of adding lowFrequency change the threshold\n",
    "            # VariantFrequencyGroup(lambda maf: ((maf <= 0.05) & (maf >= 0.01)), \"lowFrequency\"),\n",
    "            VariantFrequencyGroup(lambda maf: (maf < 0.01), \"rare\"),\n",
    "        ]\n",
    "\n",
    "    maf = pl.col(\"majorPopulationMAF\")\n",
    "    expr = pl.when(False).then(None)\n",
    "    for group in frequency_groups:\n",
    "        expr = expr.when(group.condition(maf)).then(pl.lit(group.label))\n",
    "    return expr.alias(\"MAFClass\")\n",
    "\n",
    "\n",
    "def classify_by_est_beta(est_beta: pl.Expr, beta_threshold: float | None = None) -> pl.Expr:\n",
    "    \"\"\"Classify the estimated beta by given threshold.\"\"\"\n",
    "    if not beta_threshold:\n",
    "        beta_threshold = 0.5\n",
    "    expr = (\n",
    "        pl.when(est_beta.abs() >= beta_threshold)\n",
    "        .then(pl.lit(f\">={beta_threshold:.1f}\"))\n",
    "        .otherwise(pl.lit(f\"<{beta_threshold:.1f}\"))\n",
    "    )\n",
    "    return expr.alias(\"estBetaClass\")\n",
    "\n",
    "\n",
    "def adjust_study_type(study_type: pl.Expr) -> pl.Expr:\n",
    "    \"\"\"Adjust study type based on qtl distance type.\"\"\"\n",
    "    qtl_distance_type = (\n",
    "        pl.when(pl.col(\"isTransQtl\"))\n",
    "        .then(pl.lit(\"trans\"))\n",
    "        .when(~pl.col(\"isTransQtl\"))\n",
    "        .then(pl.lit(\"cis\"))\n",
    "        .otherwise(pl.lit(None))\n",
    "    )\n",
    "    adjusted_study_type = (\n",
    "        pl.when(study_type == \"pqtl\")\n",
    "        .then(pl.concat_str(qtl_distance_type, study_type, separator=\"-\"))\n",
    "        .otherwise(study_type)\n",
    "        .alias(\"studyType\")\n",
    "    )\n",
    "    return adjusted_study_type\n",
    "\n",
    "\n",
    "def prepare_dataset(df: pl.DataFrame) -> pl.DataFrame:\n",
    "    \"\"\"Prefilter based on (7) criteria before the main analysis.\"\"\"\n",
    "    initial_n = df.shape[0]\n",
    "    study_type = pl.col(\"studyType\")\n",
    "\n",
    "    var_id = pl.col(\"variantId\")\n",
    "    trait_id = (\n",
    "        pl.when(study_type == \"gwas\")\n",
    "        .then(pl.col(\"traitFromSourceMappedIds\").list.sort().list.join(separator=\";\"))\n",
    "        .otherwise(pl.col(\"geneId\"))\n",
    "        .alias(\"traitId\")\n",
    "    )\n",
    "    credible_set_id = pl.concat_str(var_id, trait_id, separator=\":\").alias(\"credibleSetId\")\n",
    "    credible_set_id_count = pl.len().over(credible_set_id).alias(\"credibleSetIdCount\")\n",
    "    df = df.with_columns(var_id, trait_id, credible_set_id, credible_set_id_count)\n",
    "    # apply filtering\n",
    "    df = (\n",
    "        df.filter(pl.col(\"posteriorProbability\") >= 0.9)\n",
    "        .filter(pl.col(\"credibleSetIdCount\") >= 2)\n",
    "        .unique(pl.col(\"credibleSetId\"))\n",
    "    )\n",
    "    following_n = df.shape[0]\n",
    "    print(f\"Initial number of variants: {initial_n}\")\n",
    "    print(f\"Following number of variants: {following_n}\")\n",
    "    print(f\"Number of variants removed: {initial_n - following_n}\")\n",
    "    print(f\"Percentage of variants removed: {(initial_n - following_n) / initial_n:.2%}\")\n",
    "    return df\n",
    "\n",
    "\n",
    "class StudyType:\n",
    "    def __init__(self, study_type: str, n: int):\n",
    "        self.study_type = study_type\n",
    "        self.n = n\n",
    "\n",
    "    def __eq__(self, other: StudyType) -> bool:\n",
    "        return self.n == other.n\n",
    "\n",
    "    def __lt__(self, other: StudyType) -> bool:\n",
    "        return self.n < other.n\n",
    "\n",
    "    def __gt__(self, other: StudyType) -> bool:\n",
    "        return self.n > other.n\n"
   ]
  },
  {
   "cell_type": "markdown",
   "id": "44306203",
   "metadata": {},
   "source": [
    "## Data"
   ]
  },
  {
   "cell_type": "code",
   "execution_count": 11,
   "id": "f3148a06",
   "metadata": {},
   "outputs": [],
   "source": [
    "dataset = pl.read_parquet(\"../../data/rescaled-betas.parquet\").with_columns(\n",
    "    adjust_study_type(pl.col(\"studyType\")),\n",
    "    classify_by_maf(pl.col(\"majorPopulationMAF\")),\n",
    "    classify_by_vep_score(pl.col(\"vepEffect\")),\n",
    "    classify_by_est_beta(pl.col(\"rescaledStatistics\").struct.field(\"estimatedBeta\")),\n",
    "    classify_by_altering(pl.col(\"vepEffect\")),\n",
    ")\n"
   ]
  },
  {
   "cell_type": "code",
   "execution_count": 13,
   "id": "15b6dc26",
   "metadata": {},
   "outputs": [
    {
     "data": {
      "text/html": [
       "<div><style>\n",
       ".dataframe > thead > tr,\n",
       ".dataframe > tbody > tr {\n",
       "  text-align: right;\n",
       "  white-space: pre-wrap;\n",
       "}\n",
       "</style>\n",
       "<small>shape: (5, 29)</small><table border=\"1\" class=\"dataframe\"><thead><tr><th>variantId</th><th>studyId</th><th>studyLocusId</th><th>beta</th><th>zScore</th><th>pValueMantissa</th><th>pValueExponent</th><th>standardError</th><th>finemappingMethod</th><th>studyType</th><th>credibleSetSize</th><th>isTransQtl</th><th>posteriorProbability</th><th>nSamples</th><th>nControls</th><th>nCases</th><th>geneId</th><th>traitFromSourceMappedIds</th><th>majorPopulation</th><th>allelefrequencies</th><th>vepEffect</th><th>majorPopulationAF</th><th>majorPopulationMAF</th><th>leadVariantStats</th><th>rescaledStatistics</th><th>MAFClass</th><th>vepScoreClass</th><th>estBetaClass</th><th>alteringStatus</th></tr><tr><td>str</td><td>str</td><td>str</td><td>f64</td><td>f64</td><td>f32</td><td>i32</td><td>f64</td><td>str</td><td>str</td><td>i32</td><td>bool</td><td>f64</td><td>i32</td><td>i32</td><td>i32</td><td>str</td><td>list[str]</td><td>struct[2]</td><td>list[struct[2]]</td><td>struct[3]</td><td>list[struct[2]]</td><td>f64</td><td>struct[3]</td><td>struct[7]</td><td>str</td><td>str</td><td>str</td><td>str</td></tr></thead><tbody><tr><td>&quot;10_100011477_C_G&quot;</td><td>&quot;gtex_exon_adipose_subcutaneous…</td><td>&quot;89d0eb8376a8551e0595f02a2ba424…</td><td>0.335197</td><td>null</td><td>1.613</td><td>-8</td><td>0.058476</td><td>&quot;SuSie&quot;</td><td>&quot;eqtl&quot;</td><td>14</td><td>false</td><td>0.759491</td><td>581</td><td>null</td><td>null</td><td>&quot;ENSG00000107554&quot;</td><td>null</td><td>{&quot;nfe&quot;,0.0}</td><td>[{&quot;sas_adj&quot;,0.140307}, {&quot;remaining_adj&quot;,0.236942}, … {&quot;afr_adj&quot;,0.156099}]</td><td>{&quot;upstream_gene_variant&quot;,0.0,null}</td><td>[{&quot;nfe_adj&quot;,0.291447}]</td><td>0.291447</td><td>{31.912211,1.6130e-8,0.054926}</td><td>{0.364678,&quot;quantitative&quot;,31.912211,0.064555,0.413011,null,581}</td><td>&quot;common&quot;</td><td>&quot;very low&quot;</td><td>&quot;&lt;0.5&quot;</td><td>&quot;non-protein_altering&quot;</td></tr><tr><td>&quot;10_100011477_C_G&quot;</td><td>&quot;gtex_exon_nerve_tibial_ensg000…</td><td>&quot;cbae94dbdf2ce21c8aaae9d88d1f1e…</td><td>0.222984</td><td>null</td><td>3.257</td><td>-8</td><td>0.0397304</td><td>&quot;SuSie&quot;</td><td>&quot;eqtl&quot;</td><td>66</td><td>false</td><td>0.317628</td><td>532</td><td>null</td><td>null</td><td>&quot;ENSG00000107554&quot;</td><td>null</td><td>{&quot;nfe&quot;,0.0}</td><td>[{&quot;sas_adj&quot;,0.140307}, {&quot;remaining_adj&quot;,0.236942}, … {&quot;afr_adj&quot;,0.156099}]</td><td>{&quot;upstream_gene_variant&quot;,0.0,null}</td><td>[{&quot;nfe_adj&quot;,0.291447}]</td><td>0.291447</td><td>{30.548044,3.2570e-8,0.057421}</td><td>{0.372868,&quot;quantitative&quot;,30.548044,0.067463,0.413011,null,532}</td><td>&quot;common&quot;</td><td>&quot;very low&quot;</td><td>&quot;&lt;0.5&quot;</td><td>&quot;non-protein_altering&quot;</td></tr><tr><td>&quot;10_100019534_G_GAA&quot;</td><td>&quot;blueprint_exon_monocyte_ensg00…</td><td>&quot;b14db85f5fe52358fa03809bdb0db2…</td><td>-1.11197</td><td>null</td><td>2.4</td><td>-7</td><td>0.206856</td><td>&quot;SuSie&quot;</td><td>&quot;eqtl&quot;</td><td>1</td><td>false</td><td>0.95</td><td>191</td><td>null</td><td>null</td><td>&quot;ENSG00000196072&quot;</td><td>null</td><td>{&quot;nfe&quot;,0.0}</td><td>[{&quot;sas_adj&quot;,0.071227}, {&quot;remaining_adj&quot;,0.075368}, … {&quot;afr_adj&quot;,0.189559}]</td><td>{&quot;upstream_gene_variant&quot;,0.0,null}</td><td>[{&quot;nfe_adj&quot;,0.03903}]</td><td>0.03903</td><td>{26.680755,2.4000e-7,0.13969}</td><td>{-1.364617,&quot;quantitative&quot;,26.680755,0.264187,0.075014,null,191}</td><td>&quot;common&quot;</td><td>&quot;very low&quot;</td><td>&quot;&gt;=0.5&quot;</td><td>&quot;non-protein_altering&quot;</td></tr><tr><td>&quot;10_100063173_T_G&quot;</td><td>&quot;gtex_exon_spleen_ensg000000954…</td><td>&quot;7f24212f9828dd4d13b848e3fbac0d…</td><td>0.412732</td><td>null</td><td>1.602</td><td>-7</td><td>0.0761278</td><td>&quot;SuSie&quot;</td><td>&quot;eqtl&quot;</td><td>43</td><td>false</td><td>0.226433</td><td>227</td><td>null</td><td>null</td><td>&quot;ENSG00000095485&quot;</td><td>null</td><td>{&quot;nfe&quot;,0.0}</td><td>[{&quot;sas_adj&quot;,0.14102}, {&quot;remaining_adj&quot;,0.340133}, … {&quot;afr_adj&quot;,0.189902}]</td><td>{&quot;intron_variant&quot;,0.1,null}</td><td>[{&quot;nfe_adj&quot;,0.395246}]</td><td>0.395246</td><td>{27.462141,1.6020e-7,0.120979}</td><td>{0.503056,&quot;quantitative&quot;,27.462141,0.095995,0.478053,null,227}</td><td>&quot;common&quot;</td><td>&quot;low&quot;</td><td>&quot;&gt;=0.5&quot;</td><td>&quot;non-protein_altering&quot;</td></tr><tr><td>&quot;10_100111179_C_T&quot;</td><td>&quot;gtex_exon_brain_hippocampus_en…</td><td>&quot;8dc7e55aa3a2982bf689175d673d78…</td><td>-0.311703</td><td>null</td><td>6.748</td><td>-6</td><td>0.0668019</td><td>&quot;SuSie&quot;</td><td>&quot;eqtl&quot;</td><td>88</td><td>false</td><td>0.024412</td><td>165</td><td>null</td><td>null</td><td>&quot;ENSG00000055950&quot;</td><td>null</td><td>{&quot;nfe&quot;,0.0}</td><td>[{&quot;sas_adj&quot;,0.149263}, {&quot;remaining_adj&quot;,0.340364}, … {&quot;afr_adj&quot;,0.28714}]</td><td>{&quot;intron_variant&quot;,0.1,null}</td><td>[{&quot;nfe_adj&quot;,0.361636}]</td><td>0.361636</td><td>{20.263376,0.000007,0.122808}</td><td>{-0.515738,&quot;quantitative&quot;,20.263376,0.114571,0.461711,null,165}</td><td>&quot;common&quot;</td><td>&quot;low&quot;</td><td>&quot;&gt;=0.5&quot;</td><td>&quot;non-protein_altering&quot;</td></tr></tbody></table></div>"
      ],
      "text/plain": [
       "shape: (5, 29)\n",
       "┌───────────┬───────────┬───────────┬───────────┬───┬──────────┬───────────┬───────────┬───────────┐\n",
       "│ variantId ┆ studyId   ┆ studyLocu ┆ beta      ┆ … ┆ MAFClass ┆ vepScoreC ┆ estBetaCl ┆ alteringS │\n",
       "│ ---       ┆ ---       ┆ sId       ┆ ---       ┆   ┆ ---      ┆ lass      ┆ ass       ┆ tatus     │\n",
       "│ str       ┆ str       ┆ ---       ┆ f64       ┆   ┆ str      ┆ ---       ┆ ---       ┆ ---       │\n",
       "│           ┆           ┆ str       ┆           ┆   ┆          ┆ str       ┆ str       ┆ str       │\n",
       "╞═══════════╪═══════════╪═══════════╪═══════════╪═══╪══════════╪═══════════╪═══════════╪═══════════╡\n",
       "│ 10_100011 ┆ gtex_exon ┆ 89d0eb837 ┆ 0.335197  ┆ … ┆ common   ┆ very low  ┆ <0.5      ┆ non-prote │\n",
       "│ 477_C_G   ┆ _adipose_ ┆ 6a8551e05 ┆           ┆   ┆          ┆           ┆           ┆ in_alteri │\n",
       "│           ┆ subcutane ┆ 95f02a2ba ┆           ┆   ┆          ┆           ┆           ┆ ng        │\n",
       "│           ┆ ous…      ┆ 424…      ┆           ┆   ┆          ┆           ┆           ┆           │\n",
       "│ 10_100011 ┆ gtex_exon ┆ cbae94dbd ┆ 0.222984  ┆ … ┆ common   ┆ very low  ┆ <0.5      ┆ non-prote │\n",
       "│ 477_C_G   ┆ _nerve_ti ┆ f2ce21c8a ┆           ┆   ┆          ┆           ┆           ┆ in_alteri │\n",
       "│           ┆ bial_ensg ┆ aae9d88d1 ┆           ┆   ┆          ┆           ┆           ┆ ng        │\n",
       "│           ┆ 000…      ┆ f1e…      ┆           ┆   ┆          ┆           ┆           ┆           │\n",
       "│ 10_100019 ┆ blueprint ┆ b14db85f5 ┆ -1.11197  ┆ … ┆ common   ┆ very low  ┆ >=0.5     ┆ non-prote │\n",
       "│ 534_G_GAA ┆ _exon_mon ┆ fe52358fa ┆           ┆   ┆          ┆           ┆           ┆ in_alteri │\n",
       "│           ┆ ocyte_ens ┆ 03809bdb0 ┆           ┆   ┆          ┆           ┆           ┆ ng        │\n",
       "│           ┆ g00…      ┆ db2…      ┆           ┆   ┆          ┆           ┆           ┆           │\n",
       "│ 10_100063 ┆ gtex_exon ┆ 7f24212f9 ┆ 0.412732  ┆ … ┆ common   ┆ low       ┆ >=0.5     ┆ non-prote │\n",
       "│ 173_T_G   ┆ _spleen_e ┆ 828dd4d13 ┆           ┆   ┆          ┆           ┆           ┆ in_alteri │\n",
       "│           ┆ nsg000000 ┆ b848e3fba ┆           ┆   ┆          ┆           ┆           ┆ ng        │\n",
       "│           ┆ 954…      ┆ c0d…      ┆           ┆   ┆          ┆           ┆           ┆           │\n",
       "│ 10_100111 ┆ gtex_exon ┆ 8dc7e55aa ┆ -0.311703 ┆ … ┆ common   ┆ low       ┆ >=0.5     ┆ non-prote │\n",
       "│ 179_C_T   ┆ _brain_hi ┆ 3a2982bf6 ┆           ┆   ┆          ┆           ┆           ┆ in_alteri │\n",
       "│           ┆ ppocampus ┆ 89175d673 ┆           ┆   ┆          ┆           ┆           ┆ ng        │\n",
       "│           ┆ _en…      ┆ d78…      ┆           ┆   ┆          ┆           ┆           ┆           │\n",
       "└───────────┴───────────┴───────────┴───────────┴───┴──────────┴───────────┴───────────┴───────────┘"
      ]
     },
     "execution_count": 13,
     "metadata": {},
     "output_type": "execute_result"
    }
   ],
   "source": [
    "dataset.head()\n"
   ]
  },
  {
   "cell_type": "code",
   "execution_count": 14,
   "id": "bfddaf75",
   "metadata": {},
   "outputs": [
    {
     "name": "stdout",
     "output_type": "stream",
     "text": [
      "Initial number of variants: 2621048\n",
      "Following number of variants: 79206\n",
      "Number of variants removed: 2541842\n",
      "Percentage of variants removed: 96.98%\n"
     ]
    }
   ],
   "source": [
    "filtered_dataset = prepare_dataset(dataset)\n",
    "gwas_dataset = filtered_dataset.filter(pl.col(\"studyType\") == \"gwas\")\n"
   ]
  },
  {
   "cell_type": "code",
   "execution_count": 15,
   "id": "b2da9a91",
   "metadata": {},
   "outputs": [
    {
     "data": {
      "text/html": [
       "<div><style>\n",
       ".dataframe > thead > tr,\n",
       ".dataframe > tbody > tr {\n",
       "  text-align: right;\n",
       "  white-space: pre-wrap;\n",
       "}\n",
       "</style>\n",
       "<small>shape: (9, 33)</small><table border=\"1\" class=\"dataframe\"><thead><tr><th>statistic</th><th>variantId</th><th>studyId</th><th>studyLocusId</th><th>beta</th><th>zScore</th><th>pValueMantissa</th><th>pValueExponent</th><th>standardError</th><th>finemappingMethod</th><th>studyType</th><th>credibleSetSize</th><th>isTransQtl</th><th>posteriorProbability</th><th>nSamples</th><th>nControls</th><th>nCases</th><th>geneId</th><th>traitFromSourceMappedIds</th><th>majorPopulation</th><th>allelefrequencies</th><th>vepEffect</th><th>majorPopulationAF</th><th>majorPopulationMAF</th><th>leadVariantStats</th><th>rescaledStatistics</th><th>MAFClass</th><th>vepScoreClass</th><th>estBetaClass</th><th>alteringStatus</th><th>traitId</th><th>credibleSetId</th><th>credibleSetIdCount</th></tr><tr><td>str</td><td>str</td><td>str</td><td>str</td><td>f64</td><td>f64</td><td>f64</td><td>f64</td><td>f64</td><td>str</td><td>str</td><td>f64</td><td>f64</td><td>f64</td><td>f64</td><td>f64</td><td>f64</td><td>str</td><td>f64</td><td>f64</td><td>f64</td><td>f64</td><td>f64</td><td>f64</td><td>f64</td><td>f64</td><td>str</td><td>str</td><td>str</td><td>str</td><td>str</td><td>str</td><td>f64</td></tr></thead><tbody><tr><td>&quot;count&quot;</td><td>&quot;31885&quot;</td><td>&quot;31885&quot;</td><td>&quot;31885&quot;</td><td>29688.0</td><td>24344.0</td><td>31885.0</td><td>31885.0</td><td>4467.0</td><td>&quot;31885&quot;</td><td>&quot;31885&quot;</td><td>31885.0</td><td>0.0</td><td>31885.0</td><td>31885.0</td><td>31885.0</td><td>31885.0</td><td>&quot;0&quot;</td><td>31885.0</td><td>31885.0</td><td>31885.0</td><td>31885.0</td><td>31885.0</td><td>31815.0</td><td>31885.0</td><td>31885.0</td><td>&quot;31815&quot;</td><td>&quot;31885&quot;</td><td>&quot;31885&quot;</td><td>&quot;31885&quot;</td><td>&quot;31885&quot;</td><td>&quot;31885&quot;</td><td>31885.0</td></tr><tr><td>&quot;null_count&quot;</td><td>&quot;0&quot;</td><td>&quot;0&quot;</td><td>&quot;0&quot;</td><td>2197.0</td><td>7541.0</td><td>0.0</td><td>0.0</td><td>27418.0</td><td>&quot;0&quot;</td><td>&quot;0&quot;</td><td>0.0</td><td>31885.0</td><td>0.0</td><td>0.0</td><td>0.0</td><td>0.0</td><td>&quot;31885&quot;</td><td>0.0</td><td>0.0</td><td>0.0</td><td>0.0</td><td>0.0</td><td>70.0</td><td>0.0</td><td>0.0</td><td>&quot;70&quot;</td><td>&quot;0&quot;</td><td>&quot;0&quot;</td><td>&quot;0&quot;</td><td>&quot;0&quot;</td><td>&quot;0&quot;</td><td>0.0</td></tr><tr><td>&quot;mean&quot;</td><td>null</td><td>null</td><td>null</td><td>0.042624</td><td>-0.313235</td><td>3.979271</td><td>-44.543077</td><td>0.042958</td><td>null</td><td>null</td><td>1.191313</td><td>null</td><td>0.987075</td><td>330970.106947</td><td>39732.248267</td><td>5102.870064</td><td>null</td><td>null</td><td>null</td><td>null</td><td>null</td><td>null</td><td>0.200077</td><td>null</td><td>null</td><td>null</td><td>null</td><td>null</td><td>null</td><td>null</td><td>null</td><td>3.475176</td></tr><tr><td>&quot;std&quot;</td><td>null</td><td>null</td><td>null</td><td>1.659387</td><td>13.855924</td><td>2.56434</td><td>228.658155</td><td>0.313009</td><td>null</td><td>null</td><td>3.055579</td><td>null</td><td>0.024515</td><td>507020.653566</td><td>180650.242611</td><td>28172.029233</td><td>null</td><td>null</td><td>null</td><td>null</td><td>null</td><td>null</td><td>0.161126</td><td>null</td><td>null</td><td>null</td><td>null</td><td>null</td><td>null</td><td>null</td><td>null</td><td>4.374706</td></tr><tr><td>&quot;min&quot;</td><td>&quot;10_100063265_C_T&quot;</td><td>&quot;FINNGEN_R12_AD_LO_EXMORE&quot;</td><td>&quot;0001e97b9486bdbc0b261cbd183a04…</td><td>-42.684</td><td>-162.302897</td><td>1.0</td><td>-28539.0</td><td>-0.005102</td><td>&quot;PICS&quot;</td><td>&quot;gwas&quot;</td><td>1.0</td><td>null</td><td>0.900015</td><td>97.0</td><td>0.0</td><td>0.0</td><td>null</td><td>null</td><td>null</td><td>null</td><td>null</td><td>null</td><td>0.0</td><td>null</td><td>null</td><td>&quot;common&quot;</td><td>&quot;high&quot;</td><td>&quot;&lt;0.5&quot;</td><td>&quot;non-protein_altering&quot;</td><td>&quot;EFO_0000094&quot;</td><td>&quot;10_100063265_C_T:EFO_0004736&quot;</td><td>2.0</td></tr><tr><td>&quot;25%&quot;</td><td>null</td><td>null</td><td>null</td><td>-0.050945</td><td>-8.208306</td><td>1.850178</td><td>-35.0</td><td>0.002551</td><td>null</td><td>null</td><td>1.0</td><td>null</td><td>0.987924</td><td>94195.0</td><td>0.0</td><td>0.0</td><td>null</td><td>null</td><td>null</td><td>null</td><td>null</td><td>null</td><td>0.034607</td><td>null</td><td>null</td><td>null</td><td>null</td><td>null</td><td>null</td><td>null</td><td>null</td><td>2.0</td></tr><tr><td>&quot;50%&quot;</td><td>null</td><td>null</td><td>null</td><td>0.007108</td><td>-4.511628</td><td>3.166393</td><td>-17.0</td><td>0.007143</td><td>null</td><td>null</td><td>1.0</td><td>null</td><td>0.999978</td><td>173421.0</td><td>0.0</td><td>0.0</td><td>null</td><td>null</td><td>null</td><td>null</td><td>null</td><td>null</td><td>0.182556</td><td>null</td><td>null</td><td>null</td><td>null</td><td>null</td><td>null</td><td>null</td><td>null</td><td>2.0</td></tr><tr><td>&quot;75%&quot;</td><td>null</td><td>null</td><td>null</td><td>0.049631</td><td>8.056375</td><td>5.804978</td><td>-11.0</td><td>0.018707</td><td>null</td><td>null</td><td>1.0</td><td>null</td><td>1.0</td><td>408112.0</td><td>0.0</td><td>0.0</td><td>null</td><td>null</td><td>null</td><td>null</td><td>null</td><td>null</td><td>0.341944</td><td>null</td><td>null</td><td>null</td><td>null</td><td>null</td><td>null</td><td>null</td><td>null</td><td>4.0</td></tr><tr><td>&quot;max&quot;</td><td>&quot;X_8927175_G_T&quot;</td><td>&quot;GCST90483346&quot;</td><td>&quot;ffff458deb9a20bc370997566d050f…</td><td>94.000821</td><td>152.272727</td><td>9.999903</td><td>-6.0</td><td>10.5807</td><td>&quot;SuSie&quot;</td><td>&quot;gwas&quot;</td><td>523.0</td><td>null</td><td>1.0</td><td>5.314291e6</td><td>2.927761e6</td><td>700125.0</td><td>null</td><td>null</td><td>null</td><td>null</td><td>null</td><td>null</td><td>0.499914</td><td>null</td><td>null</td><td>&quot;rare&quot;</td><td>&quot;very low&quot;</td><td>&quot;&gt;=0.5&quot;</td><td>&quot;protein_altering&quot;</td><td>&quot;Orphanet_309005&quot;</td><td>&quot;X_8927175_G_T:EFO_0004908&quot;</td><td>236.0</td></tr></tbody></table></div>"
      ],
      "text/plain": [
       "shape: (9, 33)\n",
       "┌───────────┬───────────┬───────────┬───────────┬───┬───────────┬───────────┬───────────┬──────────┐\n",
       "│ statistic ┆ variantId ┆ studyId   ┆ studyLocu ┆ … ┆ alteringS ┆ traitId   ┆ credibleS ┆ credible │\n",
       "│ ---       ┆ ---       ┆ ---       ┆ sId       ┆   ┆ tatus     ┆ ---       ┆ etId      ┆ SetIdCou │\n",
       "│ str       ┆ str       ┆ str       ┆ ---       ┆   ┆ ---       ┆ str       ┆ ---       ┆ nt       │\n",
       "│           ┆           ┆           ┆ str       ┆   ┆ str       ┆           ┆ str       ┆ ---      │\n",
       "│           ┆           ┆           ┆           ┆   ┆           ┆           ┆           ┆ f64      │\n",
       "╞═══════════╪═══════════╪═══════════╪═══════════╪═══╪═══════════╪═══════════╪═══════════╪══════════╡\n",
       "│ count     ┆ 31885     ┆ 31885     ┆ 31885     ┆ … ┆ 31885     ┆ 31885     ┆ 31885     ┆ 31885.0  │\n",
       "│ null_coun ┆ 0         ┆ 0         ┆ 0         ┆ … ┆ 0         ┆ 0         ┆ 0         ┆ 0.0      │\n",
       "│ t         ┆           ┆           ┆           ┆   ┆           ┆           ┆           ┆          │\n",
       "│ mean      ┆ null      ┆ null      ┆ null      ┆ … ┆ null      ┆ null      ┆ null      ┆ 3.475176 │\n",
       "│ std       ┆ null      ┆ null      ┆ null      ┆ … ┆ null      ┆ null      ┆ null      ┆ 4.374706 │\n",
       "│ min       ┆ 10_100063 ┆ FINNGEN_R ┆ 0001e97b9 ┆ … ┆ non-prote ┆ EFO_00000 ┆ 10_100063 ┆ 2.0      │\n",
       "│           ┆ 265_C_T   ┆ 12_AD_LO_ ┆ 486bdbc0b ┆   ┆ in_alteri ┆ 94        ┆ 265_C_T:E ┆          │\n",
       "│           ┆           ┆ EXMORE    ┆ 261cbd183 ┆   ┆ ng        ┆           ┆ FO_000473 ┆          │\n",
       "│           ┆           ┆           ┆ a04…      ┆   ┆           ┆           ┆ 6         ┆          │\n",
       "│ 25%       ┆ null      ┆ null      ┆ null      ┆ … ┆ null      ┆ null      ┆ null      ┆ 2.0      │\n",
       "│ 50%       ┆ null      ┆ null      ┆ null      ┆ … ┆ null      ┆ null      ┆ null      ┆ 2.0      │\n",
       "│ 75%       ┆ null      ┆ null      ┆ null      ┆ … ┆ null      ┆ null      ┆ null      ┆ 4.0      │\n",
       "│ max       ┆ X_8927175 ┆ GCST90483 ┆ ffff458de ┆ … ┆ protein_a ┆ Orphanet_ ┆ X_8927175 ┆ 236.0    │\n",
       "│           ┆ _G_T      ┆ 346       ┆ b9a20bc37 ┆   ┆ ltering   ┆ 309005    ┆ _G_T:EFO_ ┆          │\n",
       "│           ┆           ┆           ┆ 0997566d0 ┆   ┆           ┆           ┆ 0004908   ┆          │\n",
       "│           ┆           ┆           ┆ 50f…      ┆   ┆           ┆           ┆           ┆          │\n",
       "└───────────┴───────────┴───────────┴───────────┴───┴───────────┴───────────┴───────────┴──────────┘"
      ]
     },
     "execution_count": 15,
     "metadata": {},
     "output_type": "execute_result"
    }
   ],
   "source": [
    "gwas_dataset.describe()\n"
   ]
  },
  {
   "cell_type": "markdown",
   "id": "91a79f9f",
   "metadata": {},
   "source": [
    "## Plot the MAF vs protein altering - VEP score"
   ]
  },
  {
   "cell_type": "code",
   "execution_count": 16,
   "id": "99ff80dd",
   "metadata": {},
   "outputs": [
    {
     "data": {
      "text/html": [
       "<div><style>\n",
       ".dataframe > thead > tr,\n",
       ".dataframe > tbody > tr {\n",
       "  text-align: right;\n",
       "  white-space: pre-wrap;\n",
       "}\n",
       "</style>\n",
       "<small>shape: (2, 2)</small><table border=\"1\" class=\"dataframe\"><thead><tr><th>isNull</th><th>len</th></tr><tr><td>i32</td><td>u32</td></tr></thead><tbody><tr><td>0</td><td>16054</td></tr><tr><td>1</td><td>53</td></tr></tbody></table></div>"
      ],
      "text/plain": [
       "shape: (2, 2)\n",
       "┌────────┬───────┐\n",
       "│ isNull ┆ len   │\n",
       "│ ---    ┆ ---   │\n",
       "│ i32    ┆ u32   │\n",
       "╞════════╪═══════╡\n",
       "│ 0      ┆ 16054 │\n",
       "│ 1      ┆ 53    │\n",
       "└────────┴───────┘"
      ]
     },
     "execution_count": 16,
     "metadata": {},
     "output_type": "execute_result"
    }
   ],
   "source": [
    "# check how many lead gwas variants have majorPopulationMAF empty\n",
    "gwas_dataset.unique(\"variantId\").select(\"majorPopulationMAF\").with_columns(\n",
    "    pl.when(pl.col(\"majorPopulationMAF\").is_null()).then(pl.lit(1)).otherwise(pl.lit(0)).alias(\"isNull\")\n",
    ").group_by(\"isNull\").agg(pl.len()).sort(\"isNull\")\n"
   ]
  },
  {
   "cell_type": "code",
   "execution_count": 17,
   "id": "0b6be3f6",
   "metadata": {},
   "outputs": [
    {
     "data": {
      "text/html": [
       "<div><style>\n",
       ".dataframe > thead > tr,\n",
       ".dataframe > tbody > tr {\n",
       "  text-align: right;\n",
       "  white-space: pre-wrap;\n",
       "}\n",
       "</style>\n",
       "<small>shape: (5, 2)</small><table border=\"1\" class=\"dataframe\"><thead><tr><th>normalisedScore</th><th>meanMAF</th></tr><tr><td>f64</td><td>f64</td></tr></thead><tbody><tr><td>0.1</td><td>0.220077</td></tr><tr><td>0.0</td><td>0.218976</td></tr><tr><td>0.33</td><td>0.167075</td></tr><tr><td>0.66</td><td>0.088056</td></tr><tr><td>1.0</td><td>0.047382</td></tr></tbody></table></div>"
      ],
      "text/plain": [
       "shape: (5, 2)\n",
       "┌─────────────────┬──────────┐\n",
       "│ normalisedScore ┆ meanMAF  │\n",
       "│ ---             ┆ ---      │\n",
       "│ f64             ┆ f64      │\n",
       "╞═════════════════╪══════════╡\n",
       "│ 0.1             ┆ 0.220077 │\n",
       "│ 0.0             ┆ 0.218976 │\n",
       "│ 0.33            ┆ 0.167075 │\n",
       "│ 0.66            ┆ 0.088056 │\n",
       "│ 1.0             ┆ 0.047382 │\n",
       "└─────────────────┴──────────┘"
      ]
     },
     "execution_count": 17,
     "metadata": {},
     "output_type": "execute_result"
    }
   ],
   "source": [
    "maf_vep = (\n",
    "    gwas_dataset.select(\n",
    "        \"variantId\", \"majorPopulationMAF\", pl.col(\"vepEffect\").struct.field(\"normalisedScore\"), pl.col(\"alteringStatus\")\n",
    "    )\n",
    "    .unique(\"variantId\")\n",
    "    .filter((pl.col(\"majorPopulationMAF\").is_not_null()) & (pl.col(\"majorPopulationMAF\") > 0))\n",
    "    .sort(\"majorPopulationMAF\", descending=True)\n",
    ")\n",
    "maf_vep_agg = (\n",
    "    maf_vep.group_by(\"normalisedScore\")\n",
    "    .agg(pl.col(\"majorPopulationMAF\").mean().alias(\"meanMAF\"))\n",
    "    .sort(\"meanMAF\", descending=True)\n",
    ")\n",
    "maf_vep_agg\n"
   ]
  },
  {
   "cell_type": "code",
   "execution_count": 7,
   "id": "e3e35605",
   "metadata": {},
   "outputs": [
    {
     "data": {
      "text/plain": [
       "Text(0.5, 1.0, 'VEP normalised score vs Mean MAF')"
      ]
     },
     "execution_count": 7,
     "metadata": {},
     "output_type": "execute_result"
    },
    {
     "data": {
      "image/png": "[encoded data removed]",
      "text/plain": [
       "<Figure size 500x500 with 1 Axes>"
      ]
     },
     "metadata": {},
     "output_type": "display_data"
    }
   ],
   "source": [
    "import matplotlib.pyplot as plt\n",
    "import matplotlib.patches as patches\n",
    "\n",
    "fig = sns.lmplot(maf_vep_agg, x=\"normalisedScore\", y=\"meanMAF\")\n",
    "protein_alt = patches.Rectangle(\n",
    "    xy=(0.66, 0.00), height=0.25, width=0.34, linewidth=1, facecolor=\"red\", zorder=-1, alpha=0.1\n",
    ")\n",
    "non_protein_alt = patches.Rectangle(\n",
    "    xy=(0.00, 0.00), height=0.25, width=0.66, linewidth=1, facecolor=\"green\", zorder=-1, alpha=0.1\n",
    ")\n",
    "ax = fig.axes[0, 0]\n",
    "ax.add_patch(non_protein_alt)\n",
    "ax.add_patch(protein_alt)\n",
    "ax.text(\n",
    "    0.7,\n",
    "    0.05,\n",
    "    \"Protein-altering\",\n",
    "    horizontalalignment=\"center\",\n",
    "    verticalalignment=\"bottom\",\n",
    "    fontsize=12,\n",
    "    color=\"red\",\n",
    ")\n",
    "ax.text(\n",
    "    0.33,\n",
    "    0.05,\n",
    "    \"Non-protein-altering\",\n",
    "    horizontalalignment=\"center\",\n",
    "    verticalalignment=\"bottom\",\n",
    "    fontsize=12,\n",
    "    color=\"green\",\n",
    ")\n",
    "plt.xlabel(\"VEP normalised score\")\n",
    "plt.ylabel(\"Mean MAF\")\n",
    "plt.title(\"VEP normalised score vs Mean MAF\")\n"
   ]
  },
  {
   "cell_type": "code",
   "execution_count": 18,
   "id": "0916cac5",
   "metadata": {},
   "outputs": [
    {
     "data": {
      "text/plain": [
       "<Axes: xlabel='majorPopulationMAF', ylabel='alteringStatus'>"
      ]
     },
     "execution_count": 18,
     "metadata": {},
     "output_type": "execute_result"
    },
    {
     "data": {
      "image/png": "[encoded data removed]",
      "text/plain": [
       "<Figure size 640x480 with 1 Axes>"
      ]
     },
     "metadata": {},
     "output_type": "display_data"
    }
   ],
   "source": [
    "sns.scatterplot(\n",
    "    data=maf_vep,\n",
    "    x=\"majorPopulationMAF\",\n",
    "    y=\"alteringStatus\",\n",
    ")\n"
   ]
  }
 ],
 "metadata": {
  "kernelspec": {
   "display_name": ".venv",
   "language": "python",
   "name": "python3"
  },
  "language_info": {
   "codemirror_mode": {
    "name": "ipython",
    "version": 3
   },
   "file_extension": ".py",
   "mimetype": "text/x-python",
   "name": "python",
   "nbconvert_exporter": "python",
   "pygments_lexer": "ipython3",
   "version": "3.11.11"
  }
 },
 "nbformat": 4,
 "nbformat_minor": 5
}

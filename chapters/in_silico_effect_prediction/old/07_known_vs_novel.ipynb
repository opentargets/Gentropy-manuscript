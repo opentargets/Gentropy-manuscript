{
 "cells": [
  {
   "cell_type": "markdown",
   "metadata": {},
   "source": [
    "# Estimate the known vs novel credbile sets"
   ]
  },
  {
   "cell_type": "markdown",
   "metadata": {},
   "source": [
    "### Download the dataset of known vs novel studies"
   ]
  },
  {
   "cell_type": "code",
   "execution_count": null,
   "metadata": {},
   "outputs": [
    {
     "name": "stdout",
     "output_type": "stream",
     "text": [
      "Copying gs://genetics-portal-dev-analysis/yt4/20250403_for_gentropy_paper/known_studyLocusIds/_SUCCESS to file://../../data/known_studyLocusIds/_SUCCESS\n",
      "Copying gs://genetics-portal-dev-analysis/yt4/20250403_for_gentropy_paper/known_studyLocusIds/part-00000-2f0f4342-2a7e-4b1e-b6e0-8883049cb9a4-c000.snappy.parquet to file://../../data/known_studyLocusIds/part-00000-2f0f4342-2a7e-4b1e-b6e0-8883049cb9a4-c000.snappy.parquet\n",
      "Copying gs://genetics-portal-dev-analysis/yt4/20250403_for_gentropy_paper/known_studyLocusIds/part-00001-2f0f4342-2a7e-4b1e-b6e0-8883049cb9a4-c000.snappy.parquet to file://../../data/known_studyLocusIds/part-00001-2f0f4342-2a7e-4b1e-b6e0-8883049cb9a4-c000.snappy.parquet\n",
      "Copying gs://genetics-portal-dev-analysis/yt4/20250403_for_gentropy_paper/known_studyLocusIds/part-00002-2f0f4342-2a7e-4b1e-b6e0-8883049cb9a4-c000.snappy.parquet to file://../../data/known_studyLocusIds/part-00002-2f0f4342-2a7e-4b1e-b6e0-8883049cb9a4-c000.snappy.parquet\n",
      "Copying gs://genetics-portal-dev-analysis/yt4/20250403_for_gentropy_paper/known_studyLocusIds/part-00003-2f0f4342-2a7e-4b1e-b6e0-8883049cb9a4-c000.snappy.parquet to file://../../data/known_studyLocusIds/part-00003-2f0f4342-2a7e-4b1e-b6e0-8883049cb9a4-c000.snappy.parquet\n",
      "Copying gs://genetics-portal-dev-analysis/yt4/20250403_for_gentropy_paper/known_studyLocusIds/part-00004-2f0f4342-2a7e-4b1e-b6e0-8883049cb9a4-c000.snappy.parquet to file://../../data/known_studyLocusIds/part-00004-2f0f4342-2a7e-4b1e-b6e0-8883049cb9a4-c000.snappy.parquet\n",
      "Copying gs://genetics-portal-dev-analysis/yt4/20250403_for_gentropy_paper/known_studyLocusIds/part-00005-2f0f4342-2a7e-4b1e-b6e0-8883049cb9a4-c000.snappy.parquet to file://../../data/known_studyLocusIds/part-00005-2f0f4342-2a7e-4b1e-b6e0-8883049cb9a4-c000.snappy.parquet\n",
      "Copying gs://genetics-portal-dev-analysis/yt4/20250403_for_gentropy_paper/known_studyLocusIds/part-00006-2f0f4342-2a7e-4b1e-b6e0-8883049cb9a4-c000.snappy.parquet to file://../../data/known_studyLocusIds/part-00006-2f0f4342-2a7e-4b1e-b6e0-8883049cb9a4-c000.snappy.parquet\n",
      "Copying gs://genetics-portal-dev-analysis/yt4/20250403_for_gentropy_paper/known_studyLocusIds/part-00007-2f0f4342-2a7e-4b1e-b6e0-8883049cb9a4-c000.snappy.parquet to file://../../data/known_studyLocusIds/part-00007-2f0f4342-2a7e-4b1e-b6e0-8883049cb9a4-c000.snappy.parquet\n",
      "  Completed files 9/9 | 9.5MiB/9.5MiB                                          \n",
      "\n",
      "Average throughput: 8.4MiB/s\n"
     ]
    }
   ],
   "source": [
    "!gcloud storage cp -r gs://genetics-portal-dev-analysis/yt4/20250403_for_gentropy_paper/known_studyLocusIds ../../data/.\n",
    "!mkdir -p ../../data/counts\n"
   ]
  },
  {
   "cell_type": "code",
   "execution_count": null,
   "metadata": {},
   "outputs": [],
   "source": [
    "import polars as pl\n",
    "import seaborn as sns\n",
    "from gentropy.common.session import Session\n",
    "from matplotlib import pyplot as plt\n",
    "from pyspark.sql import DataFrame\n",
    "from pyspark.sql import functions as f\n"
   ]
  },
  {
   "cell_type": "code",
   "execution_count": 8,
   "metadata": {},
   "outputs": [],
   "source": [
    "session = Session(extended_spark_conf={\"spark.driver.memory\": \"40G\"})\n",
    "variant_index_path = \"../../data/variant\"\n",
    "study_index_path = \"../../data/study\"\n",
    "credible_set_path = \"../../data/credible_set\"\n",
    "known_studies_path = \"../../data/known_studyLocusIds\"\n"
   ]
  },
  {
   "cell_type": "code",
   "execution_count": 9,
   "metadata": {},
   "outputs": [],
   "source": [
    "ks = session.spark.read.parquet(known_studies_path)\n",
    "cs = session.spark.read.parquet(credible_set_path)\n"
   ]
  },
  {
   "cell_type": "code",
   "execution_count": 10,
   "metadata": {},
   "outputs": [],
   "source": [
    "def classify_study_locus(all: DataFrame, known: DataFrame) -> DataFrame:\n",
    "    \"\"\"Classify study locus ids based on known or novel.\"\"\"\n",
    "    assert \"studyLocusId\" in all.columns and \"studyLocusId\" in known.columns\n",
    "    known = known.withColumn(\"studyLocusClass\", f.lit(\"known\")).alias(\"r\")\n",
    "    classified = all.alias(\"l\").join(known, on=\"studyLocusId\", how=\"left\")\n",
    "    return classified.withColumn(\n",
    "        \"studyLocusClass\", f.when(f.col(\"studyLocusClass\") == \"known\", f.lit(\"known\")).otherwise(\"novel\")\n",
    "    )\n"
   ]
  },
  {
   "cell_type": "markdown",
   "metadata": {},
   "source": [
    "### GWAS credible sets - novel vs known"
   ]
  },
  {
   "cell_type": "code",
   "execution_count": 16,
   "metadata": {},
   "outputs": [
    {
     "name": "stdout",
     "output_type": "stream",
     "text": [
      "+---------------+------+-----+\n",
      "|studyLocusClass| count|    %|\n",
      "+---------------+------+-----+\n",
      "|          novel|272902|47.26|\n",
      "|          known|304569|52.74|\n",
      "+---------------+------+-----+\n",
      "\n"
     ]
    }
   ],
   "source": [
    "classified_cs = classify_study_locus(cs, ks).filter(f.col(\"studyType\") == \"gwas\")\n",
    "grouped = (\n",
    "    classified_cs.groupBy(\"studyLocusClass\")\n",
    "    .agg(f.count(\"studyLocusId\").alias(\"count\"))\n",
    "    .select(\n",
    "        f.col(\"studyLocusClass\"),\n",
    "        f.col(\"count\"),\n",
    "        f.round((f.col(\"count\") / f.lit(classified_cs.count()) * f.lit(100)), 2).alias(\"%\"),\n",
    "    )\n",
    ")\n",
    "\n",
    "grouped.coalesce(1).toPandas().to_csv(\"../../data/counts/known_vs_novel.csv\", index=False)\n",
    "grouped.show()\n"
   ]
  },
  {
   "cell_type": "code",
   "execution_count": null,
   "metadata": {},
   "outputs": [],
   "source": [
    "dataset = pl.read_csv(\"../../data/counts/known_vs_novel.csv\")\n"
   ]
  },
  {
   "cell_type": "code",
   "execution_count": 15,
   "metadata": {},
   "outputs": [
    {
     "data": {
      "image/png": "[encoded data removed]",
      "text/plain": [
       "<Figure size 640x480 with 1 Axes>"
      ]
     },
     "metadata": {},
     "output_type": "display_data"
    }
   ],
   "source": [
    "data = dataset\n",
    "ax = sns.barplot(data=data, x=\"studyLocusClass\", y=\"count\", color=\"lightblue\")\n",
    "N = data[\"count\"].sum()\n",
    "for container in ax.containers:\n",
    "    ax.bar_label(container, fmt=lambda x: f\"{round(x):,} ({round(x / N * 100, 2)}%)\", padding=3)\n",
    "ax.set_ylim(0, data[\"count\"].max() * 1.1)\n",
    "ax.set_ylabel(\"\")\n",
    "ax.set_xlabel(\"Known vs Novel GWAS credible sets\")\n",
    "ax.text(\n",
    "    x=0.05,\n",
    "    y=0.95,\n",
    "    horizontalalignment=\"left\",\n",
    "    verticalalignment=\"top\",\n",
    "    transform=ax.transAxes,\n",
    "    s=f\"N={N:,}\",\n",
    ")\n",
    "plt.show()\n"
   ]
  }
 ],
 "metadata": {
  "kernelspec": {
   "display_name": ".venv",
   "language": "python",
   "name": "python3"
  },
  "language_info": {
   "codemirror_mode": {
    "name": "ipython",
    "version": 3
   },
   "file_extension": ".py",
   "mimetype": "text/x-python",
   "name": "python",
   "nbconvert_exporter": "python",
   "pygments_lexer": "ipython3",
   "version": "3.11.11"
  }
 },
 "nbformat": 4,
 "nbformat_minor": 2
}

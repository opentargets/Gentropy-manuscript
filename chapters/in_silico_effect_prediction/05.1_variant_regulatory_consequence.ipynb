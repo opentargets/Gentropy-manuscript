{
 "cells": [
  {
   "cell_type": "markdown",
   "id": "daa96b86",
   "metadata": {},
   "source": [
    "# Variant regulatory consequence analysis\n",
    "\n",
    "This notebook introduces new dataset `Epiraction`, which contains the regulatory consequences for variants.\n"
   ]
  },
  {
   "cell_type": "markdown",
   "id": "1d412554",
   "metadata": {},
   "source": [
    "## Epiraction dataset ingesion\n"
   ]
  },
  {
   "cell_type": "code",
   "execution_count": 1,
   "id": "c2ca950e",
   "metadata": {},
   "outputs": [
    {
     "data": {
      "text/html": [
       "    <style>\n",
       "        .bk-notebook-logo {\n",
       "            display: block;\n",
       "            width: 20px;\n",
       "            height: 20px;\n",
       "            background-image: url(data:image/png;base64,iVBORw0KGgoAAAANSUhEUgAAABQAAAAUCAYAAACNiR0NAAAABHNCSVQICAgIfAhkiAAAAAlwSFlzAAALEgAACxIB0t1+/AAAABx0RVh0U29mdHdhcmUAQWRvYmUgRmlyZXdvcmtzIENTNui8sowAAAOkSURBVDiNjZRtaJVlGMd/1/08zzln5zjP1LWcU9N0NkN8m2CYjpgQYQXqSs0I84OLIC0hkEKoPtiH3gmKoiJDU7QpLgoLjLIQCpEsNJ1vqUOdO7ppbuec5+V+rj4ctwzd8IIbbi6u+8f1539dt3A78eXC7QizUF7gyV1fD1Yqg4JWz84yffhm0qkFqBogB9rM8tZdtwVsPUhWhGcFJngGeWrPzHm5oaMmkfEg1usvLFyc8jLRqDOMru7AyC8saQr7GG7f5fvDeH7Ej8CM66nIF+8yngt6HWaKh7k49Soy9nXurCi1o3qUbS3zWfrYeQDTB/Qj6kX6Ybhw4B+bOYoLKCC9H3Nu/leUTZ1JdRWkkn2ldcCamzrcf47KKXdAJllSlxAOkRgyHsGC/zRday5Qld9DyoM4/q/rUoy/CXh3jzOu3bHUVZeU+DEn8FInkPBFlu3+nW3Nw0mk6vCDiWg8CeJaxEwuHS3+z5RgY+YBR6V1Z1nxSOfoaPa4LASWxxdNp+VWTk7+4vzaou8v8PN+xo+KY2xsw6une2frhw05CTYOmQvsEhjhWjn0bmXPjpE1+kplmmkP3suftwTubK9Vq22qKmrBhpY4jvd5afdRA3wGjFAgcnTK2s4hY0/GPNIb0nErGMCRxWOOX64Z8RAC4oCXdklmEvcL8o0BfkNK4lUg9HTl+oPlQxdNo3Mg4Nv175e/1LDGzZen30MEjRUtmXSfiTVu1kK8W4txyV6BMKlbgk3lMwYCiusNy9fVfvvwMxv8Ynl6vxoByANLTWplvuj/nF9m2+PDtt1eiHPBr1oIfhCChQMBw6Aw0UulqTKZdfVvfG7VcfIqLG9bcldL/+pdWTLxLUy8Qq38heUIjh4XlzZxzQm19lLFlr8vdQ97rjZVOLf8nclzckbcD4wxXMidpX30sFd37Fv/GtwwhzhxGVAprjbg0gCAEeIgwCZyTV2Z1REEW8O4py0wsjeloKoMr6iCY6dP92H6Vw/oTyICIthibxjm/DfN9lVz8IqtqKYLUXfoKVMVQVVJOElGjrnnUt9T9wbgp8AyYKaGlqingHZU/uG2NTZSVqwHQTWkx9hxjkpWDaCg6Ckj5qebgBVbT3V3NNXMSiWSDdGV3hrtzla7J+duwPOToIg42ChPQOQjspnSlp1V+Gjdged7+8UN5CRAV7a5EdFNwCjEaBR27b3W890TE7g24NAP/mMDXRWrGoFPQI9ls/MWO2dWFAar/xcOIImbbpA3zgAAAABJRU5ErkJggg==);\n",
       "        }\n",
       "    </style>\n",
       "    <div>\n",
       "        <a href=\"https://bokeh.org\" target=\"_blank\" class=\"bk-notebook-logo\"></a>\n",
       "        <span id=\"d7d71ba5-b46f-4c7d-82dd-cef92557c3a5\">Loading BokehJS ...</span>\n",
       "    </div>\n"
      ]
     },
     "metadata": {},
     "output_type": "display_data"
    },
    {
     "data": {
      "application/javascript": "'use strict';\n(function(root) {\n  function now() {\n    return new Date();\n  }\n\n  const force = true;\n\n  if (typeof root._bokeh_onload_callbacks === \"undefined\" || force === true) {\n    root._bokeh_onload_callbacks = [];\n    root._bokeh_is_loading = undefined;\n  }\n\nconst JS_MIME_TYPE = 'application/javascript';\n  const HTML_MIME_TYPE = 'text/html';\n  const EXEC_MIME_TYPE = 'application/vnd.bokehjs_exec.v0+json';\n  const CLASS_NAME = 'output_bokeh rendered_html';\n\n  /**\n   * Render data to the DOM node\n   */\n  function render(props, node) {\n    const script = document.createElement(\"script\");\n    node.appendChild(script);\n  }\n\n  /**\n   * Handle when an output is cleared or removed\n   */\n  function handleClearOutput(event, handle) {\n    function drop(id) {\n      const view = Bokeh.index.get_by_id(id)\n      if (view != null) {\n        view.model.document.clear()\n        Bokeh.index.delete(view)\n      }\n    }\n\n    const cell = handle.cell;\n\n    const id = cell.output_area._bokeh_element_id;\n    const server_id = cell.output_area._bokeh_server_id;\n\n    // Clean up Bokeh references\n    if (id != null) {\n      drop(id)\n    }\n\n    if (server_id !== undefined) {\n      // Clean up Bokeh references\n      const cmd_clean = \"from bokeh.io.state import curstate; print(curstate().uuid_to_server['\" + server_id + \"'].get_sessions()[0].document.roots[0]._id)\";\n      cell.notebook.kernel.execute(cmd_clean, {\n        iopub: {\n          output: function(msg) {\n            const id = msg.content.text.trim()\n            drop(id)\n          }\n        }\n      });\n      // Destroy server and session\n      const cmd_destroy = \"import bokeh.io.notebook as ion; ion.destroy_server('\" + server_id + \"')\";\n      cell.notebook.kernel.execute(cmd_destroy);\n    }\n  }\n\n  /**\n   * Handle when a new output is added\n   */\n  function handleAddOutput(event, handle) {\n    const output_area = handle.output_area;\n    const output = handle.output;\n\n    // limit handleAddOutput to display_data with EXEC_MIME_TYPE content only\n    if ((output.output_type != \"display_data\") || (!Object.prototype.hasOwnProperty.call(output.data, EXEC_MIME_TYPE))) {\n      return\n    }\n\n    const toinsert = output_area.element.find(\".\" + CLASS_NAME.split(' ')[0]);\n\n    if (output.metadata[EXEC_MIME_TYPE][\"id\"] !== undefined) {\n      toinsert[toinsert.length - 1].firstChild.textContent = output.data[JS_MIME_TYPE];\n      // store reference to embed id on output_area\n      output_area._bokeh_element_id = output.metadata[EXEC_MIME_TYPE][\"id\"];\n    }\n    if (output.metadata[EXEC_MIME_TYPE][\"server_id\"] !== undefined) {\n      const bk_div = document.createElement(\"div\");\n      bk_div.innerHTML = output.data[HTML_MIME_TYPE];\n      const script_attrs = bk_div.children[0].attributes;\n      for (let i = 0; i < script_attrs.length; i++) {\n        toinsert[toinsert.length - 1].firstChild.setAttribute(script_attrs[i].name, script_attrs[i].value);\n        toinsert[toinsert.length - 1].firstChild.textContent = bk_div.children[0].textContent\n      }\n      // store reference to server id on output_area\n      output_area._bokeh_server_id = output.metadata[EXEC_MIME_TYPE][\"server_id\"];\n    }\n  }\n\n  function register_renderer(events, OutputArea) {\n\n    function append_mime(data, metadata, element) {\n      // create a DOM node to render to\n      const toinsert = this.create_output_subarea(\n        metadata,\n        CLASS_NAME,\n        EXEC_MIME_TYPE\n      );\n      this.keyboard_manager.register_events(toinsert);\n      // Render to node\n      const props = {data: data, metadata: metadata[EXEC_MIME_TYPE]};\n      render(props, toinsert[toinsert.length - 1]);\n      element.append(toinsert);\n      return toinsert\n    }\n\n    /* Handle when an output is cleared or removed */\n    events.on('clear_output.CodeCell', handleClearOutput);\n    events.on('delete.Cell', handleClearOutput);\n\n    /* Handle when a new output is added */\n    events.on('output_added.OutputArea', handleAddOutput);\n\n    /**\n     * Register the mime type and append_mime function with output_area\n     */\n    OutputArea.prototype.register_mime_type(EXEC_MIME_TYPE, append_mime, {\n      /* Is output safe? */\n      safe: true,\n      /* Index of renderer in `output_area.display_order` */\n      index: 0\n    });\n  }\n\n  // register the mime type if in Jupyter Notebook environment and previously unregistered\n  if (root.Jupyter !== undefined) {\n    const events = require('base/js/events');\n    const OutputArea = require('notebook/js/outputarea').OutputArea;\n\n    if (OutputArea.prototype.mime_types().indexOf(EXEC_MIME_TYPE) == -1) {\n      register_renderer(events, OutputArea);\n    }\n  }\n  if (typeof (root._bokeh_timeout) === \"undefined\" || force === true) {\n    root._bokeh_timeout = Date.now() + 5000;\n    root._bokeh_failed_load = false;\n  }\n\n  const NB_LOAD_WARNING = {'data': {'text/html':\n     \"<div style='background-color: #fdd'>\\n\"+\n     \"<p>\\n\"+\n     \"BokehJS does not appear to have successfully loaded. If loading BokehJS from CDN, this \\n\"+\n     \"may be due to a slow or bad network connection. Possible fixes:\\n\"+\n     \"</p>\\n\"+\n     \"<ul>\\n\"+\n     \"<li>re-rerun `output_notebook()` to attempt to load from CDN again, or</li>\\n\"+\n     \"<li>use INLINE resources instead, as so:</li>\\n\"+\n     \"</ul>\\n\"+\n     \"<code>\\n\"+\n     \"from bokeh.resources import INLINE\\n\"+\n     \"output_notebook(resources=INLINE)\\n\"+\n     \"</code>\\n\"+\n     \"</div>\"}};\n\n  function display_loaded(error = null) {\n    const el = document.getElementById(\"d7d71ba5-b46f-4c7d-82dd-cef92557c3a5\");\n    if (el != null) {\n      const html = (() => {\n        if (typeof root.Bokeh === \"undefined\") {\n          if (error == null) {\n            return \"BokehJS is loading ...\";\n          } else {\n            return \"BokehJS failed to load.\";\n          }\n        } else {\n          const prefix = `BokehJS ${root.Bokeh.version}`;\n          if (error == null) {\n            return `${prefix} successfully loaded.`;\n          } else {\n            return `${prefix} <b>encountered errors</b> while loading and may not function as expected.`;\n          }\n        }\n      })();\n      el.innerHTML = html;\n\n      if (error != null) {\n        const wrapper = document.createElement(\"div\");\n        wrapper.style.overflow = \"auto\";\n        wrapper.style.height = \"5em\";\n        wrapper.style.resize = \"vertical\";\n        const content = document.createElement(\"div\");\n        content.style.fontFamily = \"monospace\";\n        content.style.whiteSpace = \"pre-wrap\";\n        content.style.backgroundColor = \"rgb(255, 221, 221)\";\n        content.textContent = error.stack ?? error.toString();\n        wrapper.append(content);\n        el.append(wrapper);\n      }\n    } else if (Date.now() < root._bokeh_timeout) {\n      setTimeout(() => display_loaded(error), 100);\n    }\n  }\n\n  function run_callbacks() {\n    try {\n      root._bokeh_onload_callbacks.forEach(function(callback) {\n        if (callback != null)\n          callback();\n      });\n    } finally {\n      delete root._bokeh_onload_callbacks\n    }\n    console.debug(\"Bokeh: all callbacks have finished\");\n  }\n\n  function load_libs(css_urls, js_urls, callback) {\n    if (css_urls == null) css_urls = [];\n    if (js_urls == null) js_urls = [];\n\n    root._bokeh_onload_callbacks.push(callback);\n    if (root._bokeh_is_loading > 0) {\n      console.debug(\"Bokeh: BokehJS is being loaded, scheduling callback at\", now());\n      return null;\n    }\n    if (js_urls == null || js_urls.length === 0) {\n      run_callbacks();\n      return null;\n    }\n    console.debug(\"Bokeh: BokehJS not loaded, scheduling load and callback at\", now());\n    root._bokeh_is_loading = css_urls.length + js_urls.length;\n\n    function on_load() {\n      root._bokeh_is_loading--;\n      if (root._bokeh_is_loading === 0) {\n        console.debug(\"Bokeh: all BokehJS libraries/stylesheets loaded\");\n        run_callbacks()\n      }\n    }\n\n    function on_error(url) {\n      console.error(\"failed to load \" + url);\n    }\n\n    for (let i = 0; i < css_urls.length; i++) {\n      const url = css_urls[i];\n      const element = document.createElement(\"link\");\n      element.onload = on_load;\n      element.onerror = on_error.bind(null, url);\n      element.rel = \"stylesheet\";\n      element.type = \"text/css\";\n      element.href = url;\n      console.debug(\"Bokeh: injecting link tag for BokehJS stylesheet: \", url);\n      document.body.appendChild(element);\n    }\n\n    for (let i = 0; i < js_urls.length; i++) {\n      const url = js_urls[i];\n      const element = document.createElement('script');\n      element.onload = on_load;\n      element.onerror = on_error.bind(null, url);\n      element.async = false;\n      element.src = url;\n      console.debug(\"Bokeh: injecting script tag for BokehJS library: \", url);\n      document.head.appendChild(element);\n    }\n  };\n\n  function inject_raw_css(css) {\n    const element = document.createElement(\"style\");\n    element.appendChild(document.createTextNode(css));\n    document.body.appendChild(element);\n  }\n\n  const js_urls = [\"https://cdn.bokeh.org/bokeh/release/bokeh-3.4.3.min.js\", \"https://cdn.bokeh.org/bokeh/release/bokeh-gl-3.4.3.min.js\", \"https://cdn.bokeh.org/bokeh/release/bokeh-widgets-3.4.3.min.js\", \"https://cdn.bokeh.org/bokeh/release/bokeh-tables-3.4.3.min.js\", \"https://cdn.bokeh.org/bokeh/release/bokeh-mathjax-3.4.3.min.js\"];\n  const css_urls = [];\n\n  const inline_js = [    function(Bokeh) {\n      Bokeh.set_log_level(\"info\");\n    },\nfunction(Bokeh) {\n    }\n  ];\n\n  function run_inline_js() {\n    if (root.Bokeh !== undefined || force === true) {\n      try {\n            for (let i = 0; i < inline_js.length; i++) {\n      inline_js[i].call(root, root.Bokeh);\n    }\n\n      } catch (error) {display_loaded(error);throw error;\n      }if (force === true) {\n        display_loaded();\n      }} else if (Date.now() < root._bokeh_timeout) {\n      setTimeout(run_inline_js, 100);\n    } else if (!root._bokeh_failed_load) {\n      console.log(\"Bokeh: BokehJS failed to load within specified timeout.\");\n      root._bokeh_failed_load = true;\n    } else if (force !== true) {\n      const cell = $(document.getElementById(\"d7d71ba5-b46f-4c7d-82dd-cef92557c3a5\")).parents('.cell').data().cell;\n      cell.output_area.append_execute_result(NB_LOAD_WARNING)\n    }\n  }\n\n  if (root._bokeh_is_loading === 0) {\n    console.debug(\"Bokeh: BokehJS loaded, going straight to plotting\");\n    run_inline_js();\n  } else {\n    load_libs(css_urls, js_urls, function() {\n      console.debug(\"Bokeh: BokehJS plotting callback run at\", now());\n      run_inline_js();\n    });\n  }\n}(window));",
      "application/vnd.bokehjs_load.v0+json": ""
     },
     "metadata": {},
     "output_type": "display_data"
    }
   ],
   "source": [
    "from __future__ import annotations\n",
    "\n",
    "import pandas as pd\n",
    "from gentropy.common.session import Session\n",
    "from pyspark.sql import Column\n",
    "from pyspark.sql import functions as f\n",
    "\n",
    "from manuscript_methods.datasets import LeadVariantEffect\n"
   ]
  },
  {
   "cell_type": "code",
   "execution_count": 2,
   "id": "1b834ca4",
   "metadata": {},
   "outputs": [
    {
     "name": "stderr",
     "output_type": "stream",
     "text": [
      "25/06/26 08:55:26 WARN Utils: Your hostname, mindos resolves to a loopback address: 127.0.1.1; using 192.168.0.100 instead (on interface eno1)\n",
      "25/06/26 08:55:26 WARN Utils: Set SPARK_LOCAL_IP if you need to bind to another address\n",
      "Setting default log level to \"WARN\".\n",
      "To adjust logging level use sc.setLogLevel(newLevel). For SparkR, use setLogLevel(newLevel).\n",
      "25/06/26 08:55:26 WARN NativeCodeLoader: Unable to load native-hadoop library for your platform... using builtin-java classes where applicable\n"
     ]
    }
   ],
   "source": [
    "session = Session(extended_spark_conf={\"spark.driver.memory\": \"120G\"})\n",
    "dataset_path = \"../../data/epiraction_v1.6\"\n",
    "\n",
    "lead_variant_maf = \"../../data/lead-maf-vep\"\n",
    "so_terms_path = \"../../data/so_terms.tsv\"\n"
   ]
  },
  {
   "cell_type": "code",
   "execution_count": 3,
   "id": "ac768506",
   "metadata": {},
   "outputs": [
    {
     "data": {
      "text/html": [
       "\n",
       "            <div>\n",
       "                <p><b>SparkSession - in-memory</b></p>\n",
       "                \n",
       "        <div>\n",
       "            <p><b>SparkContext</b></p>\n",
       "\n",
       "            <p><a href=\"http://192.168.0.100:4040\">Spark UI</a></p>\n",
       "\n",
       "            <dl>\n",
       "              <dt>Version</dt>\n",
       "                <dd><code>v3.5.5</code></dd>\n",
       "              <dt>Master</dt>\n",
       "                <dd><code>local[*]</code></dd>\n",
       "              <dt>AppName</dt>\n",
       "                <dd><code>gentropy</code></dd>\n",
       "            </dl>\n",
       "        </div>\n",
       "        \n",
       "            </div>\n",
       "        "
      ],
      "text/plain": [
       "<pyspark.sql.session.SparkSession at 0x752ad57e5c50>"
      ]
     },
     "execution_count": 3,
     "metadata": {},
     "output_type": "execute_result"
    }
   ],
   "source": [
    "session.spark\n"
   ]
  },
  {
   "cell_type": "code",
   "execution_count": 6,
   "id": "65cb7e05",
   "metadata": {},
   "outputs": [],
   "source": [
    "epirack = session.spark.read.parquet(dataset_path)\n",
    "lve = LeadVariantEffect.from_parquet(session=session, path=lead_variant_maf)\n",
    "so_terms = pd.read_csv(so_terms_path, sep=\"\\t\")\n"
   ]
  },
  {
   "cell_type": "code",
   "execution_count": 7,
   "id": "511074b5",
   "metadata": {},
   "outputs": [],
   "source": [
    "# Prepare SO terms (change them to from SO:0000001 to SO_0000001)\n",
    "so_terms[\"featureId\"] = so_terms[\"featureId\"].str.replace(\"SO:\", \"SO_\")\n"
   ]
  },
  {
   "cell_type": "code",
   "execution_count": 8,
   "id": "bf423700",
   "metadata": {},
   "outputs": [],
   "source": [
    "def map_so_terms(so_term_col: Column, so_terms: pd.DataFrame) -> Column:\n",
    "    \"\"\"Map Sequence Ontology (SO) terms to their ids without joining.\n",
    "\n",
    "    Note:\n",
    "    ----\n",
    "    The scores are ordered by the most severe SO term so, if we have a list of SO_terms, choose the fist one as most severe.\n",
    "\n",
    "    \"\"\"\n",
    "    expr = f.when(f.lit(False), None)\n",
    "\n",
    "    for v in so_terms.iterrows():\n",
    "        so_term = v[1][1]\n",
    "        so_id = v[1][0]\n",
    "        expr = expr.when(f.lit(so_id) == so_term_col, f.lit(so_term))\n",
    "\n",
    "    return expr\n"
   ]
  },
  {
   "cell_type": "code",
   "execution_count": 9,
   "id": "b25d307f",
   "metadata": {},
   "outputs": [
    {
     "name": "stderr",
     "output_type": "stream",
     "text": [
      "/tmp/ipykernel_32236/224334163.py:12: FutureWarning: Series.__getitem__ treating keys as positions is deprecated. In a future version, integer keys will always be treated as labels (consistent with DataFrame behavior). To access a value by position, use `ser.iloc[pos]`\n"
     ]
    },
    {
     "name": "stdout",
     "output_type": "stream",
     "text": [
      "Initial number of variants: 2720012\n",
      "Following number of variants: 88109\n",
      "Number of variants removed: 2631903\n",
      "Percentage of variants removed: 96.76%\n"
     ]
    }
   ],
   "source": [
    "# Prefilter lead variants\n",
    "lve_dataset = (\n",
    "    lve.maf_filter()\n",
    "    .effect_size_filter()\n",
    "    .replicated()\n",
    "    .select(\n",
    "        f.col(\"variantId\"),\n",
    "        f.col(\"variant.chromosome\").alias(\"chromosome\"),\n",
    "        f.col(\"variant.start\").alias(\"start\"),\n",
    "        f.col(\"variant.end\").alias(\"end\"),\n",
    "        f.col(\"leadVariantConsequence\").getField(\"type\").alias(\"variantPositionEffect\"),\n",
    "        f.col(\"leadVariantConsequence\")\n",
    "        .getField(\"transcriptConsequence\")\n",
    "        .getField(\"consequenceScore\")\n",
    "        .alias(\"consequenceScore\"),\n",
    "        f.col(\"leadVariantConsequence\")\n",
    "        .getField(\"transcriptConsequence\")\n",
    "        .getField(\"variantFunctionalConsequenceIds\")\n",
    "        .alias(\"consequenceIds\"),\n",
    "        f.col(\"studyStatistics\").getField(\"studyType\").alias(\"studyType\"),\n",
    "        f.col(\"majorLdPopulationMaf\").getField(\"value\").alias(\"MAF\"),\n",
    "        f.col(\"rescaledStatistics\").getField(\"estimatedBeta\").alias(\"estimatedBeta\"),\n",
    "        f.col(\"rescaledStatistics\").getField(\"estimatedSE\").alias(\"estimatedSE\"),\n",
    "    )\n",
    "    .withColumn(\n",
    "        \"consequenceOntologyTerms\",\n",
    "        f.transform(f.col(\"consequenceIds\"), lambda x: map_so_terms(x, so_terms)).getItem(0),\n",
    "    )\n",
    ")\n",
    "# Filter based on score distribution - see 05.0 notebook\n",
    "epirack_dataset = (\n",
    "    epirack.filter(f.col(\"score\") > 0.05)\n",
    "    .dropDuplicates([\"chromosome\", \"start\", \"end\", \"intervalType\"])\n",
    "    .select(\n",
    "        f.regexp_replace(f.col(\"chromosome\"), \"chr\", \"\").alias(\"chromosome\"),\n",
    "        (f.col(\"start\") + 1).alias(\"start\"),\n",
    "        (f.col(\"end\") + 1).alias(\"end\"),\n",
    "        \"intervalType\",\n",
    "    )\n",
    ")\n"
   ]
  },
  {
   "cell_type": "code",
   "execution_count": 10,
   "id": "bc88cd74",
   "metadata": {},
   "outputs": [
    {
     "name": "stderr",
     "output_type": "stream",
     "text": [
      "                                                                                \r"
     ]
    }
   ],
   "source": [
    "lve_dataset.write.mode(\"overwrite\").bucketBy(50, \"chromosome\").sortBy(\"start\").saveAsTable(\"lve_lead_variants\")\n",
    "epirack_dataset.write.mode(\"overwrite\").bucketBy(50, \"chromosome\").sortBy(\"start\").saveAsTable(\"epirack_intervals\")\n"
   ]
  },
  {
   "cell_type": "code",
   "execution_count": 11,
   "id": "12699635",
   "metadata": {},
   "outputs": [],
   "source": [
    "lve_dataset_table = session.spark.table(\"lve_lead_variants\")\n",
    "epirack_dataset_table = session.spark.table(\"epirack_intervals\")\n",
    "\n",
    "nc_dataset = lve_dataset_table.join(\n",
    "    epirack_dataset_table,\n",
    "    on=(\n",
    "        (lve_dataset_table.chromosome == epirack_dataset_table.chromosome)\n",
    "        & (lve_dataset_table.start >= epirack_dataset_table.start)\n",
    "        & (lve_dataset_table.end < epirack_dataset_table.end)\n",
    "    ),\n",
    "    how=\"left\",\n",
    ").select(\n",
    "    lve_dataset_table.variantId,\n",
    "    lve_dataset_table.chromosome,\n",
    "    lve_dataset_table.start,\n",
    "    lve_dataset_table.end,\n",
    "    lve_dataset_table.variantPositionEffect,\n",
    "    lve_dataset_table.consequenceScore,\n",
    "    lve_dataset_table.consequenceOntologyTerms,\n",
    "    lve_dataset_table.studyType,\n",
    "    lve_dataset_table.MAF,\n",
    "    lve_dataset_table.estimatedBeta,\n",
    "    lve_dataset_table.estimatedSE,\n",
    "    epirack_dataset_table.intervalType,\n",
    ")\n"
   ]
  },
  {
   "cell_type": "code",
   "execution_count": 12,
   "id": "c5d40a1a",
   "metadata": {},
   "outputs": [
    {
     "name": "stderr",
     "output_type": "stream",
     "text": [
      "                                                                                \r"
     ]
    }
   ],
   "source": [
    "nc_dataset.write.mode(\"overwrite\").parquet(\"../../data/nc_dataset\")\n"
   ]
  },
  {
   "cell_type": "code",
   "execution_count": 13,
   "id": "7eee8c6f",
   "metadata": {},
   "outputs": [],
   "source": [
    "from pyspark.sql import Window\n",
    "\n",
    "w = Window().partitionBy(\"chromosome\", \"start\", \"end\").orderBy(\"start\")\n",
    "\n",
    "nc_dedup = (\n",
    "    nc_dataset.withColumn(\"inEnhancerRegion\", f.max((f.col(\"intervalType\") == \"enhancer\").cast(\"int\")).over(w) == 1)\n",
    "    .withColumn(\"inPromoterRegion\", f.max((f.col(\"intervalType\") == \"promoter\").cast(\"int\")).over(w) == 1)\n",
    "    .dropDuplicates([\"chromosome\", \"start\", \"end\"])\n",
    "    .cache()\n",
    ")\n"
   ]
  },
  {
   "cell_type": "code",
   "execution_count": null,
   "id": "d9213182",
   "metadata": {},
   "outputs": [
    {
     "name": "stdout",
     "output_type": "stream",
     "text": [
      "+----------+---------+---------+---------------------+----------------+------------------------+----------+--------------------+-------------------+-------------------+------------+\n",
      "|chromosome|    start|      end|variantPositionEffect|consequenceScore|consequenceOntologyTerms| studyType|                 MAF|      estimatedBeta|        estimatedSE|intervalType|\n",
      "+----------+---------+---------+---------------------+----------------+------------------------+----------+--------------------+-------------------+-------------------+------------+\n",
      "|         2|218156235|218156235|   out-of-gene-effect|             0.0|    upstream_gene_var...|trans-pqtl|0.011732533521524348| 0.2439420560557209|0.03636328703736627|    enhancer|\n",
      "|         2| 86930667| 86930667|   out-of-gene-effect|             0.0|    upstream_gene_var...|      eqtl| 0.08980134763485674|-0.9595888210139163|0.11139149209893032|    enhancer|\n",
      "|         2| 43195651| 43195652|   out-of-gene-effect|             0.1|          intron_variant|      eqtl|0.014164827078734364| 1.7992887502899557| 0.3634900805422291|    enhancer|\n",
      "|         1|161511771|161511771|   out-of-gene-effect|             0.1|          intron_variant|      eqtl|  0.3626207018370231|-0.8187780382595655| 0.1050586201897859|    enhancer|\n",
      "|         2|218161975|218161975|   out-of-gene-effect|             0.0|    upstream_gene_var...|trans-pqtl|0.002543818374308905| 1.0939095943986312|0.07675213879024438|    enhancer|\n",
      "|         2| 97095053| 97095053|   out-of-gene-effect|             0.0|    upstream_gene_var...|      eqtl|0.011882297440735936| 1.7079995293453427|0.37366337554678186|    promoter|\n",
      "|        19| 44141872| 44141872|   out-of-gene-effect|             0.1|          intron_variant|      eqtl|0.015002055076037813|-1.4094939702448324| 0.2521948107080013|    promoter|\n",
      "|         1|177960805|177960805|   out-of-gene-effect|            0.33|      synonymous_variant|     tuqtl| 0.17524151053864168|  1.023775207954053| 0.0964343241089516|    enhancer|\n",
      "|         9| 96302143| 96302143|   out-of-gene-effect|             0.1|     5_prime_UTR_variant|      sqtl| 0.17238209432454038| 0.6387487903911303|0.08116488367404029|    promoter|\n",
      "|         1|149268135|149268135|   out-of-gene-effect|             0.1|          intron_variant|     tuqtl|   0.256745028489491|-0.5024527391721026|0.08228289946031737|    enhancer|\n",
      "|        19| 53431822| 53431822|   out-of-gene-effect|             0.1|          intron_variant|     tuqtl| 0.47472174783581655|-0.6694646863936271|0.10957525562071403|    promoter|\n",
      "|         9| 34664675| 34664675|   out-of-gene-effect|             0.1|     3_prime_UTR_variant|      eqtl|  0.2634550669647898|-0.8632914462727831|0.08945490635129967|    enhancer|\n",
      "|         1|159854415|159854415|   out-of-gene-effect|             0.1|     3_prime_UTR_variant|     tuqtl| 0.23820886940271688| 0.4888156018501301|0.07300335354893364|    enhancer|\n",
      "|         1|112705091|112705091|   out-of-gene-effect|             0.1|          intron_variant|     tuqtl|  0.1761189685373752|-0.7669009926190441|0.10344791638114346|    enhancer|\n",
      "|         2| 86900583| 86900584|   out-of-gene-effect|             0.1|          intron_variant|     tuqtl|   0.186030825267276|-0.7049929215657149|0.07506539230688777|    enhancer|\n",
      "|        19| 38301201| 38301201|   out-of-gene-effect|             0.0|    upstream_gene_var...|      eqtl| 0.25690040466268044|-0.6204788811346067|0.09266786896991293|    enhancer|\n",
      "|         9|127906678|127906678|   out-of-gene-effect|             0.0|    upstream_gene_var...|    sceqtl| 0.16884970860069465| -1.463571064965284| 0.2000783330280711|    enhancer|\n",
      "|         2| 74198820| 74198820|   out-of-gene-effect|             0.1|          intron_variant|      eqtl| 0.06938211727646595|  1.263350055253743| 0.2109603837707438|    promoter|\n",
      "|         1|148438868|148438868|   out-of-gene-effect|             0.1|          intron_variant|      eqtl|0.016837244867948943|-1.5518275358374942| 0.3722275659460613|    enhancer|\n",
      "|         1|146035700|146035700|   out-of-gene-effect|             0.0|    upstream_gene_var...|      sqtl|0.044679349583933665| 1.0991086284630722|0.15573399795894124|    enhancer|\n",
      "+----------+---------+---------+---------------------+----------------+------------------------+----------+--------------------+-------------------+-------------------+------------+\n",
      "only showing top 20 rows\n",
      "\n"
     ]
    }
   ],
   "source": [
    "nc_dataset.filter(f.col(\"variantPositionEffect\") == \"out-of-gene-effect\").filter(\n",
    "    f.col(\"intervalType\").isNotNull()\n",
    ").show()\n"
   ]
  },
  {
   "cell_type": "code",
   "execution_count": null,
   "id": "793be60d",
   "metadata": {},
   "outputs": [
    {
     "name": "stdout",
     "output_type": "stream",
     "text": [
      "+-----------------------------------+-----+\n",
      "|consequenceOntologyTerms           |count|\n",
      "+-----------------------------------+-----+\n",
      "|upstream_gene_variant              |1358 |\n",
      "|intron_variant                     |924  |\n",
      "|5_prime_UTR_variant                |872  |\n",
      "|non_coding_transcript_exon_variant |212  |\n",
      "|downstream_gene_variant            |200  |\n",
      "|missense_variant                   |148  |\n",
      "|synonymous_variant                 |105  |\n",
      "|splice_region_variant              |41   |\n",
      "|splice_donor_region_variant        |25   |\n",
      "|splice_donor_variant               |14   |\n",
      "|splice_donor_5th_base_variant      |8    |\n",
      "|stop_gained                        |6    |\n",
      "|splice_polypyrimidine_tract_variant|5    |\n",
      "|frameshift_variant                 |5    |\n",
      "|inframe_deletion                   |4    |\n",
      "|inframe_insertion                  |3    |\n",
      "|3_prime_UTR_variant                |2    |\n",
      "|splice_acceptor_variant            |2    |\n",
      "+-----------------------------------+-----+\n",
      "\n"
     ]
    }
   ],
   "source": [
    "nc_dedup.filter(f.col(\"inPromoterRegion\")).groupBy(\"consequenceOntologyTerms\").count().orderBy(\n",
    "    f.col(\"count\").desc()\n",
    ").show(100, truncate=False)\n"
   ]
  },
  {
   "cell_type": "code",
   "execution_count": null,
   "id": "d9795c58",
   "metadata": {},
   "outputs": [
    {
     "name": "stdout",
     "output_type": "stream",
     "text": [
      "+-----------------------------------+-----+\n",
      "|consequenceOntologyTerms           |count|\n",
      "+-----------------------------------+-----+\n",
      "|intron_variant                     |4502 |\n",
      "|upstream_gene_variant              |2431 |\n",
      "|downstream_gene_variant            |1068 |\n",
      "|3_prime_UTR_variant                |366  |\n",
      "|missense_variant                   |286  |\n",
      "|synonymous_variant                 |152  |\n",
      "|non_coding_transcript_exon_variant |92   |\n",
      "|splice_region_variant              |49   |\n",
      "|5_prime_UTR_variant                |36   |\n",
      "|splice_polypyrimidine_tract_variant|36   |\n",
      "|splice_donor_region_variant        |16   |\n",
      "|frameshift_variant                 |11   |\n",
      "|inframe_deletion                   |6    |\n",
      "|splice_donor_5th_base_variant      |6    |\n",
      "|splice_donor_variant               |6    |\n",
      "|splice_acceptor_variant            |5    |\n",
      "|stop_gained                        |5    |\n",
      "|stop_lost                          |1    |\n",
      "+-----------------------------------+-----+\n",
      "\n"
     ]
    }
   ],
   "source": [
    "nc_dedup.filter(f.col(\"inEnhancerRegion\")).groupBy(\"consequenceOntologyTerms\").count().orderBy(\n",
    "    f.col(\"count\").desc()\n",
    ").show(100, truncate=False)\n"
   ]
  },
  {
   "cell_type": "code",
   "execution_count": null,
   "id": "5eb5ae59",
   "metadata": {},
   "outputs": [
    {
     "ename": "AnalysisException",
     "evalue": "[UNRESOLVED_COLUMN.WITH_SUGGESTION] A column or function parameter with name `biofeature` cannot be resolved. Did you mean one of the following? [`end`, `geneId`, `score`, `start`, `intervalType`].;\n'Aggregate ['biofeature], ['biofeature, count(1) AS count#4258L]\n+- Relation [chromosome#60,start#61,end#62,geneId#63,biosampleName#64,intervalType#65,score#66,resourceScore#67,datasourceId#68,pmid#69] parquet\n",
     "output_type": "error",
     "traceback": [
      "\u001b[31m---------------------------------------------------------------------------\u001b[39m",
      "\u001b[31mAnalysisException\u001b[39m                         Traceback (most recent call last)",
      "\u001b[36mCell\u001b[39m\u001b[36m \u001b[39m\u001b[32mIn[21]\u001b[39m\u001b[32m, line 1\u001b[39m\n\u001b[32m----> \u001b[39m\u001b[32m1\u001b[39m \u001b[43mepirack\u001b[49m\u001b[43m.\u001b[49m\u001b[43mgroupBy\u001b[49m\u001b[43m(\u001b[49m\u001b[33;43m\"\u001b[39;49m\u001b[33;43mbiofeature\u001b[39;49m\u001b[33;43m\"\u001b[39;49m\u001b[43m)\u001b[49m\u001b[43m.\u001b[49m\u001b[43mcount\u001b[49m\u001b[43m(\u001b[49m\u001b[43m)\u001b[49m.show()\n",
      "\u001b[36mFile \u001b[39m\u001b[32m~/Projects/OpenTargets/Gentropy-manuscript/.venv/lib/python3.11/site-packages/pyspark/sql/group.py:38\u001b[39m, in \u001b[36mdfapi.<locals>._api\u001b[39m\u001b[34m(self)\u001b[39m\n\u001b[32m     36\u001b[39m \u001b[38;5;28;01mdef\u001b[39;00m\u001b[38;5;250m \u001b[39m\u001b[34m_api\u001b[39m(\u001b[38;5;28mself\u001b[39m: \u001b[33m\"\u001b[39m\u001b[33mGroupedData\u001b[39m\u001b[33m\"\u001b[39m) -> DataFrame:\n\u001b[32m     37\u001b[39m     name = f.\u001b[34m__name__\u001b[39m\n\u001b[32m---> \u001b[39m\u001b[32m38\u001b[39m     jdf = \u001b[38;5;28;43mgetattr\u001b[39;49m\u001b[43m(\u001b[49m\u001b[38;5;28;43mself\u001b[39;49m\u001b[43m.\u001b[49m\u001b[43m_jgd\u001b[49m\u001b[43m,\u001b[49m\u001b[43m \u001b[49m\u001b[43mname\u001b[49m\u001b[43m)\u001b[49m\u001b[43m(\u001b[49m\u001b[43m)\u001b[49m\n\u001b[32m     39\u001b[39m     \u001b[38;5;28;01mreturn\u001b[39;00m DataFrame(jdf, \u001b[38;5;28mself\u001b[39m.session)\n",
      "\u001b[36mFile \u001b[39m\u001b[32m~/Projects/OpenTargets/Gentropy-manuscript/.venv/lib/python3.11/site-packages/py4j/java_gateway.py:1322\u001b[39m, in \u001b[36mJavaMember.__call__\u001b[39m\u001b[34m(self, *args)\u001b[39m\n\u001b[32m   1316\u001b[39m command = proto.CALL_COMMAND_NAME +\\\n\u001b[32m   1317\u001b[39m     \u001b[38;5;28mself\u001b[39m.command_header +\\\n\u001b[32m   1318\u001b[39m     args_command +\\\n\u001b[32m   1319\u001b[39m     proto.END_COMMAND_PART\n\u001b[32m   1321\u001b[39m answer = \u001b[38;5;28mself\u001b[39m.gateway_client.send_command(command)\n\u001b[32m-> \u001b[39m\u001b[32m1322\u001b[39m return_value = \u001b[43mget_return_value\u001b[49m\u001b[43m(\u001b[49m\n\u001b[32m   1323\u001b[39m \u001b[43m    \u001b[49m\u001b[43manswer\u001b[49m\u001b[43m,\u001b[49m\u001b[43m \u001b[49m\u001b[38;5;28;43mself\u001b[39;49m\u001b[43m.\u001b[49m\u001b[43mgateway_client\u001b[49m\u001b[43m,\u001b[49m\u001b[43m \u001b[49m\u001b[38;5;28;43mself\u001b[39;49m\u001b[43m.\u001b[49m\u001b[43mtarget_id\u001b[49m\u001b[43m,\u001b[49m\u001b[43m \u001b[49m\u001b[38;5;28;43mself\u001b[39;49m\u001b[43m.\u001b[49m\u001b[43mname\u001b[49m\u001b[43m)\u001b[49m\n\u001b[32m   1325\u001b[39m \u001b[38;5;28;01mfor\u001b[39;00m temp_arg \u001b[38;5;129;01min\u001b[39;00m temp_args:\n\u001b[32m   1326\u001b[39m     \u001b[38;5;28;01mif\u001b[39;00m \u001b[38;5;28mhasattr\u001b[39m(temp_arg, \u001b[33m\"\u001b[39m\u001b[33m_detach\u001b[39m\u001b[33m\"\u001b[39m):\n",
      "\u001b[36mFile \u001b[39m\u001b[32m~/Projects/OpenTargets/Gentropy-manuscript/.venv/lib/python3.11/site-packages/pyspark/errors/exceptions/captured.py:185\u001b[39m, in \u001b[36mcapture_sql_exception.<locals>.deco\u001b[39m\u001b[34m(*a, **kw)\u001b[39m\n\u001b[32m    181\u001b[39m converted = convert_exception(e.java_exception)\n\u001b[32m    182\u001b[39m \u001b[38;5;28;01mif\u001b[39;00m \u001b[38;5;129;01mnot\u001b[39;00m \u001b[38;5;28misinstance\u001b[39m(converted, UnknownException):\n\u001b[32m    183\u001b[39m     \u001b[38;5;66;03m# Hide where the exception came from that shows a non-Pythonic\u001b[39;00m\n\u001b[32m    184\u001b[39m     \u001b[38;5;66;03m# JVM exception message.\u001b[39;00m\n\u001b[32m--> \u001b[39m\u001b[32m185\u001b[39m     \u001b[38;5;28;01mraise\u001b[39;00m converted \u001b[38;5;28;01mfrom\u001b[39;00m\u001b[38;5;250m \u001b[39m\u001b[38;5;28;01mNone\u001b[39;00m\n\u001b[32m    186\u001b[39m \u001b[38;5;28;01melse\u001b[39;00m:\n\u001b[32m    187\u001b[39m     \u001b[38;5;28;01mraise\u001b[39;00m\n",
      "\u001b[31mAnalysisException\u001b[39m: [UNRESOLVED_COLUMN.WITH_SUGGESTION] A column or function parameter with name `biofeature` cannot be resolved. Did you mean one of the following? [`end`, `geneId`, `score`, `start`, `intervalType`].;\n'Aggregate ['biofeature], ['biofeature, count(1) AS count#4258L]\n+- Relation [chromosome#60,start#61,end#62,geneId#63,biosampleName#64,intervalType#65,score#66,resourceScore#67,datasourceId#68,pmid#69] parquet\n"
     ]
    }
   ],
   "source": [
    "epirack.groupBy(\"biofeature\").count().show()\n"
   ]
  }
 ],
 "metadata": {
  "kernelspec": {
   "display_name": ".venv",
   "language": "python",
   "name": "python3"
  },
  "language_info": {
   "codemirror_mode": {
    "name": "ipython",
    "version": 3
   },
   "file_extension": ".py",
   "mimetype": "text/x-python",
   "name": "python",
   "nbconvert_exporter": "python",
   "pygments_lexer": "ipython3",
   "version": "3.11.11"
  }
 },
 "nbformat": 4,
 "nbformat_minor": 5
}

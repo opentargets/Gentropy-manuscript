{
 "cells": [
  {
   "cell_type": "markdown",
   "id": "daa96b86",
   "metadata": {},
   "source": [
    "# Variant regulatory consequence analysis\n",
    "\n",
    "This notebook introduces new dataset `Epiraction`, which contains the regulatory consequences for variants."
   ]
  },
  {
   "cell_type": "markdown",
   "id": "1d412554",
   "metadata": {},
   "source": [
    "## Epiraction dataset ingesion"
   ]
  },
  {
   "cell_type": "code",
   "execution_count": null,
   "id": "c2ca950e",
   "metadata": {},
   "outputs": [],
   "source": [
    "from __future__ import annotations\n",
    "\n",
    "from gentropy.common.session import Session\n",
    "from pyspark.sql import functions as f\n",
    "\n",
    "from manuscript_methods.datasets import LeadVariantEffect\n"
   ]
  },
  {
   "cell_type": "code",
   "execution_count": 5,
   "id": "1b834ca4",
   "metadata": {},
   "outputs": [],
   "source": [
    "session = Session(extended_spark_conf={\"spark.driver.memory\": \"120G\"})\n",
    "dataset_path = \"/home/mindos/data/epiraction_v1.6\"\n",
    "lead_variant_maf = \"../../data/lead-maf-vep\"\n"
   ]
  },
  {
   "cell_type": "code",
   "execution_count": 3,
   "id": "ac768506",
   "metadata": {},
   "outputs": [
    {
     "data": {
      "text/html": [
       "\n",
       "            <div>\n",
       "                <p><b>SparkSession - in-memory</b></p>\n",
       "                \n",
       "        <div>\n",
       "            <p><b>SparkContext</b></p>\n",
       "\n",
       "            <p><a href=\"http://192.168.0.100:4041\">Spark UI</a></p>\n",
       "\n",
       "            <dl>\n",
       "              <dt>Version</dt>\n",
       "                <dd><code>v3.5.5</code></dd>\n",
       "              <dt>Master</dt>\n",
       "                <dd><code>local[*]</code></dd>\n",
       "              <dt>AppName</dt>\n",
       "                <dd><code>gentropy</code></dd>\n",
       "            </dl>\n",
       "        </div>\n",
       "        \n",
       "            </div>\n",
       "        "
      ],
      "text/plain": [
       "<pyspark.sql.session.SparkSession at 0x7adaed0cd1d0>"
      ]
     },
     "execution_count": 3,
     "metadata": {},
     "output_type": "execute_result"
    }
   ],
   "source": [
    "session.spark\n"
   ]
  },
  {
   "cell_type": "code",
   "execution_count": 10,
   "id": "65cb7e05",
   "metadata": {},
   "outputs": [],
   "source": [
    "epirack = session.spark.read.parquet(dataset_path)\n",
    "lve = LeadVariantEffect.from_parquet(session=session, path=lead_variant_maf)\n"
   ]
  },
  {
   "cell_type": "code",
   "execution_count": 13,
   "id": "b25d307f",
   "metadata": {},
   "outputs": [],
   "source": [
    "# Prefilter lead variants\n",
    "lve_dataset = lve.maf_filter().effect_size_filter()\n",
    "# Filter based on score distribution - see 05.0 notebook\n",
    "epirack_dataset = epirack.filter(f.col(\"score\") > 0.05)\n"
   ]
  },
  {
   "cell_type": "code",
   "execution_count": null,
   "id": "efead114",
   "metadata": {},
   "outputs": [
    {
     "name": "stdout",
     "output_type": "stream",
     "text": [
      "root\n",
      " |-- variantId: string (nullable = true)\n",
      " |-- studyLocusId: string (nullable = true)\n",
      " |-- studyId: string (nullable = true)\n",
      " |-- geneId: string (nullable = true)\n",
      " |-- originalBeta: double (nullable = true)\n",
      " |-- originalStandardError: double (nullable = true)\n",
      " |-- pip: double (nullable = true)\n",
      " |-- finemappingMethod: string (nullable = true)\n",
      " |-- credibleSetSize: integer (nullable = true)\n",
      " |-- isTransQtl: boolean (nullable = true)\n",
      " |-- variantEffect: array (nullable = true)\n",
      " |    |-- element: struct (containsNull = true)\n",
      " |    |    |-- method: string (nullable = true)\n",
      " |    |    |-- assessment: string (nullable = true)\n",
      " |    |    |-- score: float (nullable = true)\n",
      " |    |    |-- assessmentFlag: string (nullable = true)\n",
      " |    |    |-- targetId: string (nullable = true)\n",
      " |    |    |-- normalisedScore: double (nullable = true)\n",
      " |-- majorLdPopulation: struct (nullable = true)\n",
      " |    |-- ldPopulation: string (nullable = true)\n",
      " |    |-- relativeSampleSize: double (nullable = true)\n",
      " |-- majorLdPopulationMaf: struct (nullable = true)\n",
      " |    |-- value: double (nullable = true)\n",
      " |    |-- type: string (nullable = true)\n",
      " |-- majorLdPopulationAf: struct (nullable = true)\n",
      " |    |-- populationName: string (nullable = true)\n",
      " |    |-- alleleFrequency: double (nullable = true)\n",
      " |-- variantStatistics: struct (nullable = true)\n",
      " |    |-- chi2Stat: double (nullable = true)\n",
      " |    |-- pValueMantissa: float (nullable = true)\n",
      " |    |-- pValueExponent: integer (nullable = true)\n",
      " |    |-- ApproximatedVarianceExplained: double (nullable = true)\n",
      " |-- studyStatistics: struct (nullable = true)\n",
      " |    |-- nCases: integer (nullable = true)\n",
      " |    |-- nControls: integer (nullable = true)\n",
      " |    |-- nSamples: integer (nullable = true)\n",
      " |    |-- trait: string (nullable = true)\n",
      " |    |-- studyType: string (nullable = true)\n",
      " |    |-- traitClass: string (nullable = true)\n",
      " |    |-- molecularTrait: string (nullable = true)\n",
      " |-- rescaledStatistics: struct (nullable = true)\n",
      " |    |-- directionOfEffect: string (nullable = true)\n",
      " |    |-- zScore: double (nullable = true)\n",
      " |    |-- varG: double (nullable = true)\n",
      " |    |-- prevalence: double (nullable = true)\n",
      " |    |-- estimatedSE: double (nullable = true)\n",
      " |    |-- estimatedBeta: double (nullable = true)\n",
      " |    |-- majorAlleleEstimatedBeta: double (nullable = true)\n",
      " |-- leadVariantConsequence: struct (nullable = true)\n",
      " |    |-- type: string (nullable = true)\n",
      " |    |-- transcriptConsequence: struct (nullable = true)\n",
      " |    |    |-- variantFunctionalConsequenceIds: array (nullable = true)\n",
      " |    |    |    |-- element: string (containsNull = true)\n",
      " |    |    |-- aminoAcidChange: string (nullable = true)\n",
      " |    |    |-- uniprotAccessions: array (nullable = true)\n",
      " |    |    |    |-- element: string (containsNull = true)\n",
      " |    |    |-- isEnsemblCanonical: boolean (nullable = true)\n",
      " |    |    |-- codons: string (nullable = true)\n",
      " |    |    |-- distanceFromFootprint: long (nullable = true)\n",
      " |    |    |-- distanceFromTss: long (nullable = true)\n",
      " |    |    |-- appris: string (nullable = true)\n",
      " |    |    |-- maneSelect: string (nullable = true)\n",
      " |    |    |-- targetId: string (nullable = true)\n",
      " |    |    |-- impact: string (nullable = true)\n",
      " |    |    |-- lofteePrediction: string (nullable = true)\n",
      " |    |    |-- siftPrediction: float (nullable = true)\n",
      " |    |    |-- polyphenPrediction: float (nullable = true)\n",
      " |    |    |-- consequenceScore: float (nullable = true)\n",
      " |    |    |-- transcriptIndex: integer (nullable = true)\n",
      " |    |    |-- approvedSymbol: string (nullable = true)\n",
      " |    |    |-- biotype: string (nullable = true)\n",
      " |    |    |-- transcriptId: string (nullable = true)\n",
      " |-- traitFromSourceMappedIds: array (nullable = true)\n",
      " |    |-- element: string (containsNull = true)\n",
      "\n"
     ]
    }
   ],
   "source": [
    "# Partition both datasets by chromosome and sort by position to ensure rapid range joins\n",
    "lve_dataset.df.printSchema()\n"
   ]
  }
 ],
 "metadata": {
  "kernelspec": {
   "display_name": ".venv",
   "language": "python",
   "name": "python3"
  },
  "language_info": {
   "codemirror_mode": {
    "name": "ipython",
    "version": 3
   },
   "file_extension": ".py",
   "mimetype": "text/x-python",
   "name": "python",
   "nbconvert_exporter": "python",
   "pygments_lexer": "ipython3",
   "version": "3.11.11"
  }
 },
 "nbformat": 4,
 "nbformat_minor": 5
}

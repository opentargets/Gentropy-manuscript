{
 "cells": [
  {
   "cell_type": "markdown",
   "id": "daa96b86",
   "metadata": {},
   "source": [
    "# Variant regulatory consequence analysis\n",
    "\n",
    "This notebook introduces new dataset `Epiraction`, which contains the regulatory consequences for variants.\n"
   ]
  },
  {
   "cell_type": "markdown",
   "id": "1d412554",
   "metadata": {},
   "source": [
    "## Epiraction dataset ingesion\n"
   ]
  },
  {
   "cell_type": "code",
   "execution_count": 75,
   "id": "c2ca950e",
   "metadata": {},
   "outputs": [],
   "source": [
    "from __future__ import annotations\n",
    "\n",
    "import pandas as pd\n",
    "from gentropy.common.session import Session\n",
    "from pyspark.sql import Column\n",
    "from pyspark.sql import functions as f\n",
    "\n",
    "from manuscript_methods.datasets import LeadVariantEffect\n"
   ]
  },
  {
   "cell_type": "code",
   "execution_count": 21,
   "id": "1b834ca4",
   "metadata": {},
   "outputs": [],
   "source": [
    "session = Session(extended_spark_conf={\"spark.driver.memory\": \"120G\"})\n",
    "dataset_path = \"../../data/epiraction_v1.6\"\n",
    "\n",
    "lead_variant_maf = \"../../data/lead-maf-vep\"\n",
    "so_terms_path = \"../../data/so_terms.tsv\"\n"
   ]
  },
  {
   "cell_type": "code",
   "execution_count": 3,
   "id": "ac768506",
   "metadata": {},
   "outputs": [
    {
     "data": {
      "text/html": [
       "\n",
       "            <div>\n",
       "                <p><b>SparkSession - in-memory</b></p>\n",
       "                \n",
       "        <div>\n",
       "            <p><b>SparkContext</b></p>\n",
       "\n",
       "            <p><a href=\"http://mib117351s.internal.sanger.ac.uk:4040\">Spark UI</a></p>\n",
       "\n",
       "            <dl>\n",
       "              <dt>Version</dt>\n",
       "                <dd><code>v3.5.5</code></dd>\n",
       "              <dt>Master</dt>\n",
       "                <dd><code>local[*]</code></dd>\n",
       "              <dt>AppName</dt>\n",
       "                <dd><code>gentropy</code></dd>\n",
       "            </dl>\n",
       "        </div>\n",
       "        \n",
       "            </div>\n",
       "        "
      ],
      "text/plain": [
       "<pyspark.sql.session.SparkSession at 0x1644e8f90>"
      ]
     },
     "execution_count": 3,
     "metadata": {},
     "output_type": "execute_result"
    }
   ],
   "source": [
    "session.spark\n"
   ]
  },
  {
   "cell_type": "code",
   "execution_count": 30,
   "id": "65cb7e05",
   "metadata": {},
   "outputs": [],
   "source": [
    "epirack = session.spark.read.parquet(dataset_path)\n",
    "lve = LeadVariantEffect.from_parquet(session=session, path=lead_variant_maf)\n",
    "so_terms = pd.read_csv(so_terms_path, sep=\"\\t\")\n"
   ]
  },
  {
   "cell_type": "code",
   "execution_count": null,
   "id": "511074b5",
   "metadata": {},
   "outputs": [],
   "source": [
    "# Prepare SO terms (change them to from SO:0000001 to SO_0000001)\n",
    "so_terms[\"featureId\"] = so_terms[\"featureId\"].str.replace(\"SO:\", \"SO_\")\n"
   ]
  },
  {
   "cell_type": "code",
   "execution_count": null,
   "id": "bf423700",
   "metadata": {},
   "outputs": [],
   "source": [
    "def map_so_terms(so_term_col: Column, so_terms: pd.DataFrame) -> Column:\n",
    "    \"\"\"Map Sequence Ontology (SO) terms to their ids without joining.\n",
    "\n",
    "    Note:\n",
    "    ----\n",
    "    The scores are ordered by the most severe SO term so, if we have a list of SO_terms, choose the fist one as most severe.\n",
    "\n",
    "    \"\"\"\n",
    "    expr = f.when(f.lit(False), None)\n",
    "\n",
    "    for v in so_terms.iterrows():\n",
    "        so_term = v[1][1]\n",
    "        so_id = v[1][0]\n",
    "        expr = expr.when(f.lit(so_id) == so_term_col, f.lit(so_term))\n",
    "\n",
    "    return expr\n"
   ]
  },
  {
   "cell_type": "code",
   "execution_count": null,
   "id": "b25d307f",
   "metadata": {},
   "outputs": [
    {
     "name": "stderr",
     "output_type": "stream",
     "text": [
      "25/06/25 16:28:53 WARN CacheManager: Asked to cache already cached data.\n",
      "25/06/25 16:28:53 WARN CacheManager: Asked to cache already cached data.\n",
      "/var/folders/l7/4z91w2tj4wscfcpfjjy3s0mr0000gq/T/ipykernel_75911/4293443789.py:6: FutureWarning: Series.__getitem__ treating keys as positions is deprecated. In a future version, integer keys will always be treated as labels (consistent with DataFrame behavior). To access a value by position, use `ser.iloc[pos]`\n"
     ]
    },
    {
     "name": "stdout",
     "output_type": "stream",
     "text": [
      "Initial number of variants: 2720012\n",
      "Following number of variants: 88109\n",
      "Number of variants removed: 2631903\n",
      "Percentage of variants removed: 96.76%\n"
     ]
    }
   ],
   "source": [
    "# Prefilter lead variants\n",
    "lve_dataset = (\n",
    "    lve.maf_filter()\n",
    "    .effect_size_filter()\n",
    "    .replicated()\n",
    "    .select(\n",
    "        f.col(\"variantId\"),\n",
    "        f.col(\"variant.chromosome\").alias(\"chromosome\"),\n",
    "        f.col(\"variant.start\").alias(\"start\"),\n",
    "        f.col(\"variant.end\").alias(\"end\"),\n",
    "        f.col(\"leadVariantConsequence\").getField(\"type\").alias(\"variantPositionEffect\"),\n",
    "        f.col(\"leadVariantConsequence\")\n",
    "        .getField(\"transcriptConsequence\")\n",
    "        .getField(\"consequenceScore\")\n",
    "        .alias(\"consequenceScore\"),\n",
    "        f.col(\"leadVariantConsequence\")\n",
    "        .getField(\"transcriptConsequence\")\n",
    "        .getField(\"variantFunctionalConsequenceIds\")\n",
    "        .alias(\"consequenceIds\"),\n",
    "        f.col(\"studyStatistics\").getField(\"studyType\").alias(\"studyType\"),\n",
    "        f.col(\"majorLdPopulationMaf\").getField(\"value\").alias(\"MAF\"),\n",
    "        f.col(\"rescaledStatistics\").getField(\"estimatedBeta\").alias(\"estimatedBeta\"),\n",
    "        f.col(\"rescaledStatistics\").getField(\"estimatedSE\").alias(\"estimatedSE\"),\n",
    "    )\n",
    "    .withColumn(\n",
    "        \"consequenceOntologyTerms\",\n",
    "        f.transform(f.col(\"consequenceIds\"), lambda x: map_so_terms(x, so_terms)).getItem(0),\n",
    "    )\n",
    ")\n",
    "# Filter based on score distribution - see 05.0 notebook\n",
    "epirack_dataset = (\n",
    "    epirack.filter(f.col(\"score\") > 0.05)\n",
    "    .dropDuplicates([\"chromosome\", \"start\", \"end\", \"intervalType\"])\n",
    "    .select(\n",
    "        f.regexp_replace(f.col(\"chromosome\"), \"chr\", \"\").alias(\"chromosome\"),\n",
    "        (f.col(\"start\") + 1).alias(\"start\"),\n",
    "        (f.col(\"end\") + 1).alias(\"end\"),\n",
    "        \"intervalType\",\n",
    "    )\n",
    ")\n"
   ]
  },
  {
   "cell_type": "code",
   "execution_count": 98,
   "id": "bc88cd74",
   "metadata": {},
   "outputs": [
    {
     "name": "stderr",
     "output_type": "stream",
     "text": [
      "                                                                                \r"
     ]
    }
   ],
   "source": [
    "lve_dataset.write.mode(\"overwrite\").bucketBy(50, \"chromosome\").sortBy(\"start\").saveAsTable(\"lve_lead_variants\")\n",
    "epirack_dataset.write.mode(\"overwrite\").bucketBy(50, \"chromosome\").sortBy(\"start\").saveAsTable(\"epirack_intervals\")\n"
   ]
  },
  {
   "cell_type": "code",
   "execution_count": 99,
   "id": "12699635",
   "metadata": {},
   "outputs": [],
   "source": [
    "lve_dataset_table = session.spark.table(\"lve_lead_variants\")\n",
    "epirack_dataset_table = session.spark.table(\"epirack_intervals\")\n",
    "\n",
    "nc_dataset = lve_dataset_table.join(\n",
    "    epirack_dataset_table,\n",
    "    on=(\n",
    "        (lve_dataset_table.chromosome == epirack_dataset_table.chromosome)\n",
    "        & (lve_dataset_table.start >= epirack_dataset_table.start)\n",
    "        & (lve_dataset_table.end < epirack_dataset_table.end)\n",
    "    ),\n",
    "    how=\"left\",\n",
    ").select(\n",
    "    lve_dataset_table.variantId,\n",
    "    lve_dataset_table.chromosome,\n",
    "    lve_dataset_table.start,\n",
    "    lve_dataset_table.end,\n",
    "    lve_dataset_table.variantPositionEffect,\n",
    "    lve_dataset_table.consequenceScore,\n",
    "    lve_dataset_table.consequenceOntologyTerms,\n",
    "    lve_dataset_table.studyType,\n",
    "    lve_dataset_table.MAF,\n",
    "    lve_dataset_table.estimatedBeta,\n",
    "    lve_dataset_table.estimatedSE,\n",
    "    epirack_dataset_table.intervalType,\n",
    ")\n"
   ]
  },
  {
   "cell_type": "code",
   "execution_count": 100,
   "id": "c5d40a1a",
   "metadata": {},
   "outputs": [
    {
     "name": "stderr",
     "output_type": "stream",
     "text": [
      "                                                                                \r"
     ]
    }
   ],
   "source": [
    "nc_dataset.write.mode(\"overwrite\").parquet(\"../../data/nc_dataset\")\n"
   ]
  },
  {
   "cell_type": "code",
   "execution_count": 101,
   "id": "7eee8c6f",
   "metadata": {},
   "outputs": [],
   "source": [
    "from pyspark.sql import Window\n",
    "\n",
    "w = Window().partitionBy(\"chromosome\", \"start\", \"end\").orderBy(\"start\")\n",
    "\n",
    "nc_dedup = (\n",
    "    nc_dataset.withColumn(\"inEnhancerRegion\", f.max((f.col(\"intervalType\") == \"enhancer\").cast(\"int\")).over(w) == 1)\n",
    "    .withColumn(\"inPromoterRegion\", f.max((f.col(\"intervalType\") == \"promoter\").cast(\"int\")).over(w) == 1)\n",
    "    .dropDuplicates([\"chromosome\", \"start\", \"end\"])\n",
    "    .cache()\n",
    ")\n"
   ]
  },
  {
   "cell_type": "code",
   "execution_count": 106,
   "id": "3b6164f6",
   "metadata": {},
   "outputs": [
    {
     "name": "stdout",
     "output_type": "stream",
     "text": [
      "+----------------+----------+---------+---------+---------------------+----------------+------------------------+---------+--------------------+------------------+--------------------+----------------+\n",
      "|       variantId|chromosome|    start|      end|variantPositionEffect|consequenceScore|consequenceOntologyTerms|studyType|                 MAF|     estimatedBeta|         estimatedSE|inEnhancerRegion|\n",
      "+----------------+----------+---------+---------+---------------------+----------------+------------------------+---------+--------------------+------------------+--------------------+----------------+\n",
      "| 10_68496075_G_T|        10| 68496075| 68496075|              unknown|             0.1|          intron_variant|     gwas| 0.03204850584668684| 1.997161877193193|  0.3268992930940192|            true|\n",
      "|11_121575382_G_A|        11|121575382|121575382|              unknown|             0.1|          intron_variant|     gwas|1.882175795219273...| 2.413611310688524| 0.33543218335325353|            true|\n",
      "|11_134408676_G_C|        11|134408676|134408676|              unknown|             0.1|          intron_variant|     gwas|8.498342823149486E-5|1.0519584809740825| 0.21237652338088883|            true|\n",
      "| X_138708418_T_C|         X|138708418|138708418|              unknown|             0.1|          intron_variant|     gwas|0.002533783783783784|1.3594643319786548|  0.1467733120138804|            true|\n",
      "|   4_1899488_G_A|         4|  1899488|  1899488|              unknown|             0.1|          intron_variant|     gwas|4.408134477489127E-5| 1.286168287765382| 0.14376192637531615|            true|\n",
      "|  6_34817851_A_T|         6| 34817851| 34817851|              unknown|             0.1|          intron_variant|     gwas|3.090139365285374...|1.4727079369204374| 0.19249503688205197|            true|\n",
      "|  6_36095300_G_A|         6| 36095300| 36095300|              unknown|             0.1|          intron_variant|     gwas|0.001507727101394...|2.2148348578373245|  0.2667842870970662|            true|\n",
      "|  6_47076822_G_A|         6| 47076822| 47076822|              unknown|             0.1|          intron_variant|     gwas|0.009054296381221153|2.7547545892575336| 0.43760897949609134|            true|\n",
      "|6_137678425_GA_G|         6|137678425|137678426|              unknown|             0.1|          intron_variant|     gwas|0.001928268414963...|1.2467761935833999| 0.10269877353364329|            true|\n",
      "| 19_19591702_A_T|        19| 19591702| 19591702|              unknown|             0.1|          intron_variant|     gwas| 2.79362465447274E-4|1.7515577938142928|   0.255837717171613|            true|\n",
      "| 19_41341832_G_A|        19| 41341832| 41341832|              unknown|             0.1|          intron_variant|     gwas|3.028010368178919E-4| 1.746318014670307| 0.19765662867115905|            true|\n",
      "| 2_105749599_T_C|         2|105749599|105749599|              unknown|             0.1|          intron_variant|     gwas|0.005440216432394283|  2.67920650705314| 0.41429206296910037|            true|\n",
      "|2_112808721_G_GT|         2|112808721|112808722|              unknown|             0.1|          intron_variant|     gwas| 0.02738043635312816| 1.755745973902146|  0.2826567675359819|            true|\n",
      "| 2_169073292_G_C|         2|169073292|169073292|              unknown|             0.1|          intron_variant|     gwas|0.008702043216228134| 2.580657563871914| 0.44629886695979376|            true|\n",
      "|  1_65479182_G_T|         1| 65479182| 65479182|              unknown|             0.1|          intron_variant|     gwas|  0.0105713529567442| 2.501973294107992| 0.40530408488042585|            true|\n",
      "| 1_154453788_C_T|         1|154453788|154453788|              unknown|             0.1|          intron_variant|     gwas|  0.3930370239462755|1.5958384911779595|0.045850026543148695|            true|\n",
      "|    5_206721_C_T|         5|   206721|   206721|              unknown|             0.1|          intron_variant|     gwas|4.408911880547880...|2.5497276867956113|  0.4272293301202844|            true|\n",
      "+----------------+----------+---------+---------+---------------------+----------------+------------------------+---------+--------------------+------------------+--------------------+----------------+\n",
      "\n"
     ]
    }
   ],
   "source": [
    "# from manuscript_methods import group_statistics\n",
    "\n",
    "\n",
    "# group_statistics(\n",
    "#     nc_dataset, [f.col(\"variantPositionEffect\"), f.col(\"intervalType\"), f.col(\"consequenceOntologyTerms\")]\n",
    "# ).persist().filter(f.col(\"intervalType\") == \"enhancer\").orderBy(f.desc(\"count\")).show(truncate=False, n=200)\n",
    "\n",
    "\n",
    "# Get intronic variants with enhancer regions\n",
    "intronic_enhancers = (\n",
    "    nc_dedup.filter((f.col(\"consequenceOntologyTerms\") == \"intron_variant\") & (f.col(\"inEnhancerRegion\")))\n",
    "    .filter(f.col(\"estimatedBeta\") > 1)\n",
    "    .filter(f.col(\"variantPositionEffect\") == \"unknown\")\n",
    "    .select(\n",
    "        f.col(\"variantId\"),\n",
    "        f.col(\"chromosome\"),\n",
    "        f.col(\"start\"),\n",
    "        f.col(\"end\"),\n",
    "        f.col(\"variantPositionEffect\"),\n",
    "        f.col(\"consequenceScore\"),\n",
    "        f.col(\"consequenceOntologyTerms\"),\n",
    "        f.col(\"studyType\"),\n",
    "        f.col(\"MAF\"),\n",
    "        f.col(\"estimatedBeta\"),\n",
    "        f.col(\"estimatedSE\"),\n",
    "        f.col(\"inEnhancerRegion\"),\n",
    "    )\n",
    ")\n",
    "intronic_enhancers.show()\n"
   ]
  },
  {
   "cell_type": "code",
   "execution_count": null,
   "id": "08f0d5f4",
   "metadata": {},
   "outputs": [],
   "source": []
  },
  {
   "cell_type": "code",
   "execution_count": null,
   "id": "299a7d7c",
   "metadata": {},
   "outputs": [
    {
     "name": "stderr",
     "output_type": "stream",
     "text": [
      "[Stage 399:==================================================>    (71 + 7) / 78]\r"
     ]
    },
    {
     "name": "stdout",
     "output_type": "stream",
     "text": [
      "+----------+---------+---------+---------------+----------------------------+------------+------------+------------------------------------------------------------------------------------------------------------------------+------------+--------+\n",
      "|chromosome|start    |end      |geneId         |biosampleName               |intervalType|score       |resourceScore                                                                                                           |datasourceId|pmid    |\n",
      "+----------+---------+---------+---------------+----------------------------+------------+------------+------------------------------------------------------------------------------------------------------------------------+------------+--------+\n",
      "|chrX      |145817529|145818329|ENSG00000185985|Muscle.Skeletal             |promoter    |0.9806451114|[{H3K27ac, 1.4808}, {Open, 7.1693}, {Cofactor, 0.9308}, {CTCF, 0.7901}, {HiC_contacts, 1.0}, {abc_tissue, 6.520721}]    |epiraction  |40027634|\n",
      "|chrX      |145817529|145818329|ENSG00000185985|Skin.Basal.Cell.Carcinoma   |promoter    |0.9692229119|[{H3K27ac, 4.4186}, {Open, 2.3472}, {Cofactor, 0.0}, {CTCF, 0.7455}, {HiC_contacts, 1.0}, {abc_tissue, 5.501089}]       |epiraction  |40027634|\n",
      "|chrX      |145817529|145818329|ENSG00000185985|Spleen.Primary              |promoter    |0.9494415846|[{H3K27ac, 16.6273}, {Open, 3.321}, {Cofactor, 1.329}, {CTCF, 1.2643}, {HiC_contacts, 1.0}, {abc_tissue, 8.9549}]       |epiraction  |40027634|\n",
      "|chrX      |143635601|143636401|ENSG00000179542|Digestive.Stomach.Primary   |promoter    |0.9266189421|[{H3K27ac, 1.6067}, {Open, 2.8628}, {Cofactor, 12.1043}, {CTCF, 1.3531}, {HiC_contacts, 1.0}, {abc_tissue, 9.247784}]   |epiraction  |40027634|\n",
      "|chrX      |141903594|141904394|ENSG00000155495|Blood.Myeloid.K562          |promoter    |0.9152888168|[{H3K27ac, 24.8398}, {Open, 28.3717}, {Cofactor, 6.472}, {CTCF, 2.0213}, {HiC_contacts, 1.0}, {abc_tissue, 26.876862}]  |epiraction  |40027634|\n",
      "|chrX      |147911619|147912419|ENSG00000102081|Prostate.Primary            |promoter    |0.8985355086|[{H3K27ac, 36.5299}, {Open, 30.2441}, {Cofactor, 9.1899}, {CTCF, 7.0733}, {HiC_contacts, 1.0}, {abc_tissue, 35.427624}] |epiraction  |40027634|\n",
      "|chrX      |141176629|141177429|ENSG00000182195|Skin.Epidermis              |promoter    |0.8980290358|[{H3K27ac, 10.4781}, {Open, 24.5718}, {Cofactor, 11.8739}, {CTCF, 1.9189}, {HiC_contacts, 1.0}, {abc_tissue, 22.739397}]|epiraction  |40027634|\n",
      "|chrX      |142204790|142205590|ENSG00000046774|Blood.Myeloid.K562          |promoter    |0.8960617178|[{H3K27ac, 25.0604}, {Open, 29.3795}, {Cofactor, 1.8459}, {CTCF, 2.1553}, {HiC_contacts, 1.0}, {abc_tissue, 23.948694}] |epiraction  |40027634|\n",
      "|chrX      |147911619|147912419|ENSG00000102081|Mesenchyme.Adipose          |promoter    |0.8925867413|[{H3K27ac, 26.0725}, {Open, 8.9798}, {Cofactor, 7.6823}, {CTCF, 1.7617}, {HiC_contacts, 1.0}, {abc_tissue, 15.845112}]  |epiraction  |40027634|\n",
      "|chrX      |147911619|147912419|ENSG00000102081|Digestive.Stomach.Primary   |promoter    |0.8922845223|[{H3K27ac, 41.9115}, {Open, 27.2432}, {Cofactor, 5.6639}, {CTCF, 1.6999}, {HiC_contacts, 1.0}, {abc_tissue, 34.112267}] |epiraction  |40027634|\n",
      "|chrX      |143635601|143636401|ENSG00000179542|Prostate.Primary            |promoter    |0.8911450631|[{H3K27ac, 1.2509}, {Open, 1.5594}, {Cofactor, 3.77}, {CTCF, 1.4055}, {HiC_contacts, 1.0}, {abc_tissue, 6.6219144}]     |epiraction  |40027634|\n",
      "|chrX      |147911619|147912419|ENSG00000102081|Muscle.Smooth.Artery        |promoter    |0.8886350775|[{H3K27ac, 41.6937}, {Open, 28.2043}, {Cofactor, 8.4743}, {CTCF, 1.1971}, {HiC_contacts, 1.0}, {abc_tissue, 33.41058}]  |epiraction  |40027634|\n",
      "|chrX      |143635601|143636401|ENSG00000179542|Mesenchyme.Adipose          |promoter    |0.8819943861|[{H3K27ac, 1.4374}, {Open, 1.933}, {Cofactor, 6.3777}, {CTCF, 0.6867}, {HiC_contacts, 1.0}, {abc_tissue, 7.551631}]     |epiraction  |40027634|\n",
      "|chrX      |141176629|141177429|ENSG00000182195|Blood.Lymphoid.NK_cell      |promoter    |0.8789253501|[{H3K27ac, 10.8913}, {Open, 21.93}, {Cofactor, 2.4683}, {CTCF, 0.4592}, {HiC_contacts, 1.0}, {abc_tissue, 14.958633}]   |epiraction  |40027634|\n",
      "|chrX      |147911619|147912419|ENSG00000102081|Uterus.Primary.Myometrium   |promoter    |0.876215113 |[{H3K27ac, 23.6017}, {Open, 22.6635}, {Cofactor, 8.4743}, {CTCF, 3.0361}, {HiC_contacts, 1.0}, {abc_tissue, 25.255667}] |epiraction  |40027634|\n",
      "|chrX      |141176629|141177429|ENSG00000182195|Prostate.Primary            |promoter    |0.8762034757|[{H3K27ac, 11.6284}, {Open, 23.4077}, {Cofactor, 9.7119}, {CTCF, 2.7292}, {HiC_contacts, 1.0}, {abc_tissue, 21.383152}] |epiraction  |40027634|\n",
      "|chrX      |147911619|147912419|ENSG00000102081|Skin.Epidermis              |promoter    |0.8741343467|[{H3K27ac, 38.4897}, {Open, 32.4736}, {Cofactor, 7.4114}, {CTCF, 3.0135}, {HiC_contacts, 1.0}, {abc_tissue, 37.91764}]  |epiraction  |40027634|\n",
      "|chrX      |143635601|143636401|ENSG00000179542|Digestive.Colon.Primary.Mix |promoter    |0.8726399288|[{H3K27ac, 2.3598}, {Open, 5.9031}, {Cofactor, 7.5606}, {CTCF, 1.026}, {HiC_contacts, 1.0}, {abc_tissue, 8.6108055}]    |epiraction  |40027634|\n",
      "|chrX      |141698239|141699039|ENSG00000196406|Blood.Leukemia.BluePrint_ALL|promoter    |0.8713759064|[{H3K27ac, 0.0}, {Open, 3.3437}, {Cofactor, 0.6087}, {CTCF, 0.9244}, {HiC_contacts, 1.0}, {abc_tissue, 5.295599}]       |epiraction  |40027634|\n",
      "|chrX      |147911619|147912419|ENSG00000102081|Muscle.Skeletal             |promoter    |0.8688530497|[{H3K27ac, 35.868}, {Open, 29.3546}, {Cofactor, 0.5223}, {CTCF, 9.7104}, {HiC_contacts, 1.0}, {abc_tissue, 30.472399}]  |epiraction  |40027634|\n",
      "+----------+---------+---------+---------------+----------------------------+------------+------------+------------------------------------------------------------------------------------------------------------------------+------------+--------+\n",
      "only showing top 20 rows\n",
      "\n"
     ]
    },
    {
     "name": "stderr",
     "output_type": "stream",
     "text": [
      "                                                                                \r"
     ]
    }
   ],
   "source": [
    "epirack.filter(f.col(\"intervalType\") == f.lit(\"enhancer\")).filter(f.col(\"chromosome\") == f.lit(\"chrX\")).filter(\n",
    "    f.col(\"start\") >= 138708418\n",
    ").orderBy(f.desc(\"score\")).show(truncate=False)\n"
   ]
  },
  {
   "cell_type": "code",
   "execution_count": null,
   "id": "d9213182",
   "metadata": {},
   "outputs": [
    {
     "name": "stdout",
     "output_type": "stream",
     "text": [
      "+----------+---------+---------+---------------------+----------------+------------------------+----------+--------------------+-------------------+-------------------+------------+\n",
      "|chromosome|    start|      end|variantPositionEffect|consequenceScore|consequenceOntologyTerms| studyType|                 MAF|      estimatedBeta|        estimatedSE|intervalType|\n",
      "+----------+---------+---------+---------------------+----------------+------------------------+----------+--------------------+-------------------+-------------------+------------+\n",
      "|         2|218156235|218156235|   out-of-gene-effect|             0.0|    upstream_gene_var...|trans-pqtl|0.011732533521524348| 0.2439420560557209|0.03636328703736627|    enhancer|\n",
      "|         2| 86930667| 86930667|   out-of-gene-effect|             0.0|    upstream_gene_var...|      eqtl| 0.08980134763485674|-0.9595888210139163|0.11139149209893032|    enhancer|\n",
      "|         2| 43195651| 43195652|   out-of-gene-effect|             0.1|          intron_variant|      eqtl|0.014164827078734364| 1.7992887502899557| 0.3634900805422291|    enhancer|\n",
      "|         1|161511771|161511771|   out-of-gene-effect|             0.1|          intron_variant|      eqtl|  0.3626207018370231|-0.8187780382595655| 0.1050586201897859|    enhancer|\n",
      "|         2|218161975|218161975|   out-of-gene-effect|             0.0|    upstream_gene_var...|trans-pqtl|0.002543818374308905| 1.0939095943986312|0.07675213879024438|    enhancer|\n",
      "|         2| 97095053| 97095053|   out-of-gene-effect|             0.0|    upstream_gene_var...|      eqtl|0.011882297440735936| 1.7079995293453427|0.37366337554678186|    promoter|\n",
      "|        19| 44141872| 44141872|   out-of-gene-effect|             0.1|          intron_variant|      eqtl|0.015002055076037813|-1.4094939702448324| 0.2521948107080013|    promoter|\n",
      "|         1|177960805|177960805|   out-of-gene-effect|            0.33|      synonymous_variant|     tuqtl| 0.17524151053864168|  1.023775207954053| 0.0964343241089516|    enhancer|\n",
      "|         9| 96302143| 96302143|   out-of-gene-effect|             0.1|     5_prime_UTR_variant|      sqtl| 0.17238209432454038| 0.6387487903911303|0.08116488367404029|    promoter|\n",
      "|         1|149268135|149268135|   out-of-gene-effect|             0.1|          intron_variant|     tuqtl|   0.256745028489491|-0.5024527391721026|0.08228289946031737|    enhancer|\n",
      "|        19| 53431822| 53431822|   out-of-gene-effect|             0.1|          intron_variant|     tuqtl| 0.47472174783581655|-0.6694646863936271|0.10957525562071403|    promoter|\n",
      "|         9| 34664675| 34664675|   out-of-gene-effect|             0.1|     3_prime_UTR_variant|      eqtl|  0.2634550669647898|-0.8632914462727831|0.08945490635129967|    enhancer|\n",
      "|         1|159854415|159854415|   out-of-gene-effect|             0.1|     3_prime_UTR_variant|     tuqtl| 0.23820886940271688| 0.4888156018501301|0.07300335354893364|    enhancer|\n",
      "|         1|112705091|112705091|   out-of-gene-effect|             0.1|          intron_variant|     tuqtl|  0.1761189685373752|-0.7669009926190441|0.10344791638114346|    enhancer|\n",
      "|         2| 86900583| 86900584|   out-of-gene-effect|             0.1|          intron_variant|     tuqtl|   0.186030825267276|-0.7049929215657149|0.07506539230688777|    enhancer|\n",
      "|        19| 38301201| 38301201|   out-of-gene-effect|             0.0|    upstream_gene_var...|      eqtl| 0.25690040466268044|-0.6204788811346067|0.09266786896991293|    enhancer|\n",
      "|         9|127906678|127906678|   out-of-gene-effect|             0.0|    upstream_gene_var...|    sceqtl| 0.16884970860069465| -1.463571064965284| 0.2000783330280711|    enhancer|\n",
      "|         2| 74198820| 74198820|   out-of-gene-effect|             0.1|          intron_variant|      eqtl| 0.06938211727646595|  1.263350055253743| 0.2109603837707438|    promoter|\n",
      "|         1|148438868|148438868|   out-of-gene-effect|             0.1|          intron_variant|      eqtl|0.016837244867948943|-1.5518275358374942| 0.3722275659460613|    enhancer|\n",
      "|         1|146035700|146035700|   out-of-gene-effect|             0.0|    upstream_gene_var...|      sqtl|0.044679349583933665| 1.0991086284630722|0.15573399795894124|    enhancer|\n",
      "+----------+---------+---------+---------------------+----------------+------------------------+----------+--------------------+-------------------+-------------------+------------+\n",
      "only showing top 20 rows\n",
      "\n"
     ]
    }
   ],
   "source": [
    "nc_dataset.filter(f.col(\"variantPositionEffect\") == \"out-of-gene-effect\").filter(\n",
    "    f.col(\"intervalType\").isNotNull()\n",
    ").show()\n"
   ]
  }
 ],
 "metadata": {
  "kernelspec": {
   "display_name": "gentropy-manuscript",
   "language": "python",
   "name": "python3"
  },
  "language_info": {
   "codemirror_mode": {
    "name": "ipython",
    "version": 3
   },
   "file_extension": ".py",
   "mimetype": "text/x-python",
   "name": "python",
   "nbconvert_exporter": "python",
   "pygments_lexer": "ipython3",
   "version": "3.11.11"
  }
 },
 "nbformat": 4,
 "nbformat_minor": 5
}

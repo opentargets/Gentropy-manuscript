{
 "cells": [
  {
   "cell_type": "markdown",
   "id": "daa96b86",
   "metadata": {},
   "source": [
    "# Variant regulatory consequence analysis\n",
    "\n",
    "This notebook introduces new dataset `Epiraction`, which contains the regulatory consequences for variants.\n"
   ]
  },
  {
   "cell_type": "markdown",
   "id": "1d412554",
   "metadata": {},
   "source": [
    "## Data loading\n",
    "\n",
    "The data requires two datasets:\n",
    "\n",
    "- `Epiraction` dataset, which contains the regulatory consequences for variants.\n",
    "- `LeadVariantEffect` dataset, which contains the lead variants and their effects. - use qualified replicated maf filtered dataset.\n"
   ]
  },
  {
   "cell_type": "code",
   "execution_count": 32,
   "id": "c2ca950e",
   "metadata": {},
   "outputs": [],
   "source": [
    "from __future__ import annotations\n",
    "\n",
    "from enum import Enum\n",
    "\n",
    "import pandas as pd\n",
    "import plotnine as p9\n",
    "from gentropy.common.session import Session\n",
    "from pyspark.sql import Column, Window\n",
    "from pyspark.sql import functions as f\n",
    "\n",
    "from manuscript_methods import OpenTargetsTheme, group_statistics\n",
    "from manuscript_methods.consequence import ConsequenceCategory\n",
    "from manuscript_methods.datasets import LeadVariantEffect\n"
   ]
  },
  {
   "cell_type": "code",
   "execution_count": 33,
   "id": "1b834ca4",
   "metadata": {},
   "outputs": [],
   "source": [
    "session = Session(extended_spark_conf={\"spark.driver.memory\": \"120G\"})\n",
    "dataset_path = \"../../data/epiraction_v1.6\"\n",
    "\n",
    "lead_variant_maf = \"../../data/qualified_lead_variant_effect_maf_filtered\"\n",
    "\n",
    "so_terms_path = \"../../data/so_terms.tsv\"\n",
    "pd.set_option(\"display.max_colwidth\", None)\n"
   ]
  },
  {
   "cell_type": "code",
   "execution_count": 34,
   "id": "ac768506",
   "metadata": {},
   "outputs": [
    {
     "data": {
      "text/html": [
       "\n",
       "            <div>\n",
       "                <p><b>SparkSession - in-memory</b></p>\n",
       "                \n",
       "        <div>\n",
       "            <p><b>SparkContext</b></p>\n",
       "\n",
       "            <p><a href=\"http://mib117351s.internal.sanger.ac.uk:4043\">Spark UI</a></p>\n",
       "\n",
       "            <dl>\n",
       "              <dt>Version</dt>\n",
       "                <dd><code>v3.5.5</code></dd>\n",
       "              <dt>Master</dt>\n",
       "                <dd><code>local[*]</code></dd>\n",
       "              <dt>AppName</dt>\n",
       "                <dd><code>gentropy</code></dd>\n",
       "            </dl>\n",
       "        </div>\n",
       "        \n",
       "            </div>\n",
       "        "
      ],
      "text/plain": [
       "<pyspark.sql.session.SparkSession at 0x30ee17f90>"
      ]
     },
     "execution_count": 34,
     "metadata": {},
     "output_type": "execute_result"
    }
   ],
   "source": [
    "session.spark\n"
   ]
  },
  {
   "cell_type": "code",
   "execution_count": 35,
   "id": "65cb7e05",
   "metadata": {},
   "outputs": [],
   "source": [
    "epirack = session.spark.read.parquet(dataset_path)\n",
    "lve = LeadVariantEffect.from_parquet(session=session, path=lead_variant_maf)\n",
    "so_terms = pd.read_csv(so_terms_path, sep=\"\\t\")\n"
   ]
  },
  {
   "cell_type": "markdown",
   "id": "3d795005",
   "metadata": {},
   "source": [
    "## Consequence classification\n",
    "\n",
    "We classify the consequences into 4 categories:\n",
    "\n",
    "- intergenic (upstream, downstream, and intergenic regions)\n",
    "- regulatory (LOW or MODIFIER impact, bound to regulatory regions)\n",
    "- intragenic (LOW or MODIFIER impact, rest)\n",
    "- protein_altering (HIGH and MODERATE impact)\n",
    "\n",
    "We need to merge the so_terms dataset, so the featureId contains the `SO_XXX` format rather then `SO:XXX` format.\n"
   ]
  },
  {
   "cell_type": "code",
   "execution_count": 15,
   "id": "f8b451d5",
   "metadata": {},
   "outputs": [],
   "source": [
    "# Change SO terms to the `SO_XXX` format\n",
    "so_terms[\"featureId\"] = so_terms[\"featureId\"].str.replace(\"SO:\", \"SO_\")\n"
   ]
  },
  {
   "cell_type": "markdown",
   "id": "e14d6e91",
   "metadata": {},
   "source": [
    "## Merging of LVE x Epiraction datasets\n",
    "\n",
    "In order to add the regulatory consequences from the Epiraction we need to merge the `LeadVariantEffect` dataset with the Epiraction dataset. The Epiraction dataset contains the regulatory consequences for interval regions.\n",
    "\n",
    "The Epiraction interval region is defined as\n",
    "| chromosome | start | end | intervalType |\n",
    "|------------|---------|---------|----------------|\n",
    "| chr1 | 128717 | 129517 | promoter |\n",
    "| chr1 | 138675 | 139325 | enhancer |\n",
    "| chr1 | 96475 | 96925 | enhancer |\n",
    "| chr1 | 103950 | 104600 | enhancer |\n",
    "\n",
    "Where the `intervalType` can be `promoter` or `enhancer`\n",
    "\n",
    "<div class=\"alert alert-block alert-info\"> \n",
    "<b> Epiraction interval offset </b>\n",
    "<br>\n",
    "    Epiraction intervals are 0-based (based on bed intervals), while the `LeadVariantEffect` dataset is 1-based. This means that we need to add 1 to the start and end positions of the Epiraction intervals when merging with the \n",
    "    `LeadVariantEffect` dataset.\n",
    "<br>\n",
    "<br>\n",
    "<img src=\"plots/0_vs_1_based.png\" width=\"500\"/>\n",
    "</div>\n",
    "\n",
    "The join to the `LeadVariantEffect` dataset is done using the positions to the lead variant.\n"
   ]
  },
  {
   "cell_type": "markdown",
   "id": "aa2c06d3",
   "metadata": {},
   "source": [
    "### Extract the relevant information from both datasets\n"
   ]
  },
  {
   "cell_type": "code",
   "execution_count": 16,
   "id": "bf423700",
   "metadata": {},
   "outputs": [],
   "source": [
    "def map_so_terms(so_term_col: Column, so_terms: pd.DataFrame) -> Column:\n",
    "    \"\"\"Map Sequence Ontology (SO) terms to their ids without joining.\"\"\"\n",
    "    expr = f.when(f.lit(False), None)\n",
    "    so_terms = so_terms[[\"featureId\", \"term\"]]\n",
    "    for v in so_terms.iterrows():\n",
    "        so_term = v[1][1]\n",
    "        so_id = v[1][0]\n",
    "        expr = expr.when(f.lit(so_id) == so_term_col, f.lit(so_term))\n",
    "\n",
    "    return expr\n"
   ]
  },
  {
   "cell_type": "code",
   "execution_count": 17,
   "id": "b25d307f",
   "metadata": {},
   "outputs": [
    {
     "name": "stderr",
     "output_type": "stream",
     "text": [
      "/var/folders/l7/4z91w2tj4wscfcpfjjy3s0mr0000gq/T/ipykernel_53947/2657062128.py:6: FutureWarning:\n",
      "\n",
      "Series.__getitem__ treating keys as positions is deprecated. In a future version, integer keys will always be treated as labels (consistent with DataFrame behavior). To access a value by position, use `ser.iloc[pos]`\n",
      "\n"
     ]
    }
   ],
   "source": [
    "# Prefilter lead variants\n",
    "lve_dataset = lve.df.select(\n",
    "    f.col(\"variantId\"),\n",
    "    f.col(\"variant.chromosome\").alias(\"chromosome\"),\n",
    "    f.col(\"variant.start\").alias(\"start\"),\n",
    "    f.col(\"variant.end\").alias(\"end\"),\n",
    "    f.col(\"leadVariantConsequence\").getField(\"mostSevereConsequence\").getField(\"type\").alias(\"variantPositionEffect\"),\n",
    "    f.col(\"leadVariantConsequence\")\n",
    "    .getField(\"mostSevereConsequence\")\n",
    "    .getField(\"transcriptConsequence\")\n",
    "    .getField(\"consequenceScore\")\n",
    "    .alias(\"consequenceScore\"),\n",
    "    f.col(\"leadVariantConsequence\")\n",
    "    .getField(\"mostSevereConsequence\")\n",
    "    .getField(\"transcriptConsequence\")\n",
    "    .getField(\"variantFunctionalConsequenceIds\")\n",
    "    .alias(\"consequenceIds\"),\n",
    "    f.col(\"studyStatistics\").getField(\"studyType\").alias(\"studyType\"),\n",
    "    f.col(\"majorLdPopulationMaf\").getField(\"value\").alias(\"MAF\"),\n",
    "    f.col(\"rescaledStatistics\").getField(\"estimatedBeta\").alias(\"estimatedBeta\"),\n",
    "    f.col(\"rescaledStatistics\").getField(\"estimatedSE\").alias(\"estimatedSE\"),\n",
    "    f.col(\"studyStatistics\").getField(\"traitClass\").alias(\"traitClass\"),\n",
    ").withColumn(\"consequenceOntologyTerms\", f.transform(f.col(\"consequenceIds\"), lambda x: map_so_terms(x, so_terms)))\n",
    "# Filter based on score distribution - see 05.0 notebook\n",
    "epirack_dataset = (\n",
    "    epirack.filter(f.col(\"score\") > 0.05)\n",
    "    .dropDuplicates([\"chromosome\", \"start\", \"end\", \"intervalType\"])\n",
    "    .select(\n",
    "        f.regexp_replace(f.col(\"chromosome\"), \"chr\", \"\").alias(\"chromosome\"),\n",
    "        (f.col(\"start\") + 1).alias(\"start\"),\n",
    "        (f.col(\"end\") + 1).alias(\"end\"),\n",
    "        \"intervalType\",\n",
    "    )\n",
    ")\n"
   ]
  },
  {
   "cell_type": "markdown",
   "id": "351918b3",
   "metadata": {},
   "source": [
    "### Save the datasets as tables partitioned by chromosome and sorted by position\n"
   ]
  },
  {
   "cell_type": "code",
   "execution_count": 18,
   "id": "bc88cd74",
   "metadata": {},
   "outputs": [
    {
     "name": "stderr",
     "output_type": "stream",
     "text": [
      "                                                                                \r"
     ]
    }
   ],
   "source": [
    "lve_dataset.write.mode(\"overwrite\").bucketBy(50, \"chromosome\").sortBy(\"start\").saveAsTable(\"lve_lead_variants\")\n",
    "epirack_dataset.write.mode(\"overwrite\").bucketBy(50, \"chromosome\").sortBy(\"start\").saveAsTable(\"epirack_intervals\")\n"
   ]
  },
  {
   "cell_type": "markdown",
   "id": "4efbaa5b",
   "metadata": {},
   "source": [
    "### Perform the join between the LeadVariantEffect and Epiraction datasets\n",
    "\n",
    "The join is left on lead_variant, so we keep all the lead variants and add the Epiraction information where available.\n",
    "\n",
    "The Epiraction intervals are added when the lead variant is within the Epiraction interval.\n"
   ]
  },
  {
   "cell_type": "code",
   "execution_count": 19,
   "id": "12699635",
   "metadata": {},
   "outputs": [],
   "source": [
    "lve_dataset_table = session.spark.table(\"lve_lead_variants\")\n",
    "epirack_dataset_table = session.spark.table(\"epirack_intervals\")\n",
    "\n",
    "nc_dataset = lve_dataset_table.join(\n",
    "    epirack_dataset_table,\n",
    "    on=(\n",
    "        (lve_dataset_table.chromosome == epirack_dataset_table.chromosome)\n",
    "        & (lve_dataset_table.start >= epirack_dataset_table.start)\n",
    "        & (lve_dataset_table.end < epirack_dataset_table.end)\n",
    "    ),\n",
    "    how=\"left\",\n",
    ").select(\n",
    "    lve_dataset_table.variantId,\n",
    "    lve_dataset_table.chromosome,\n",
    "    lve_dataset_table.start,\n",
    "    lve_dataset_table.end,\n",
    "    lve_dataset_table.variantPositionEffect,\n",
    "    lve_dataset_table.consequenceScore,\n",
    "    lve_dataset_table.consequenceOntologyTerms,\n",
    "    lve_dataset_table.studyType,\n",
    "    lve_dataset_table.MAF,\n",
    "    lve_dataset_table.estimatedBeta,\n",
    "    lve_dataset_table.estimatedSE,\n",
    "    lve_dataset_table.traitClass,\n",
    "    epirack_dataset_table.intervalType,\n",
    ")\n"
   ]
  },
  {
   "cell_type": "markdown",
   "id": "8ae9a8ea",
   "metadata": {},
   "source": [
    "### Save the dataset after joining\n"
   ]
  },
  {
   "cell_type": "code",
   "execution_count": 36,
   "id": "c5d40a1a",
   "metadata": {},
   "outputs": [
    {
     "name": "stderr",
     "output_type": "stream",
     "text": [
      "                                                                                \r"
     ]
    }
   ],
   "source": [
    "nc_dataset.write.mode(\"overwrite\").parquet(\"../../data/nc_dataset\")\n"
   ]
  },
  {
   "cell_type": "markdown",
   "id": "20c01ed8",
   "metadata": {},
   "source": [
    "## Unify the consequence terms with Epiraction interval types\n",
    "\n",
    "Before unification, we need to ensure that all the filtering is applied. We need two datasets:\n",
    "\n",
    "1. **Mean estimated effect size in consequence categories** (gwas_dataset). The analysis is done on\n",
    "\n",
    "   - the common variants (MAF >= 0.01)\n",
    "   - with absolute value of estimated effect size <= 3\n",
    "   - GWAS replicated credible sets (studyType == \"gwas\")\n",
    "   - traitClass == \"binary\"\n",
    "\n",
    "2. **Consequence categories fraction of all consequences across study types** (merged_dataset). The analysis is done on\n",
    "\n",
    "   - the common variants (MAF >= 0.01)\n",
    "   - with absolute value of estimated effect size <= 3\n",
    "   - replicated credible sets (studyType == \"gwas\", \"eqtl\", \"cis-pqtl\")\n",
    "\n",
    "After applying the specific filtering we need to unify the consequence terms with the Epiraction interval types. The unification is done by\n",
    "\n",
    "- maping the consequence terms to consequence categories\n",
    "- adding the Epiraction interval types to the consequence categories\n",
    "- deduplicating the consequence terms\n",
    "- removing the null entries (due to the left-join)\n",
    "- exploding the unified non-duplicated list of terms.\n",
    "\n",
    "At the end we remove the duplicates based on the variantId, consequence, and studyType.\n"
   ]
  },
  {
   "cell_type": "code",
   "execution_count": 37,
   "id": "270b1c38",
   "metadata": {},
   "outputs": [],
   "source": [
    "nc_dataset = session.spark.read.parquet(\"../../data/nc_dataset\")\n"
   ]
  },
  {
   "cell_type": "code",
   "execution_count": 38,
   "id": "9424bb15",
   "metadata": {},
   "outputs": [
    {
     "data": {
      "text/plain": [
       "7328"
      ]
     },
     "execution_count": 38,
     "metadata": {},
     "output_type": "execute_result"
    }
   ],
   "source": [
    "# Extract only GWAS\n",
    "gwas_dataset = (\n",
    "    (\n",
    "        nc_dataset.filter(f.col(\"studyType\").isin(\"gwas-disease\")).select(\n",
    "            \"variantId\",\n",
    "            \"intervalType\",\n",
    "            \"estimatedBeta\",\n",
    "            \"estimatedSE\",\n",
    "            \"studyType\",\n",
    "            \"consequenceOntologyTerms\",\n",
    "            \"MAF\",\n",
    "        )\n",
    "    )\n",
    "    .withColumn(\n",
    "        \"consequence\",\n",
    "        f.explode(\n",
    "            f.filter(\n",
    "                f.array_distinct(\n",
    "                    f.array_sort(\n",
    "                        f.array_append(\n",
    "                            f.transform(\n",
    "                                f.array_distinct(f.col(\"consequenceOntologyTerms\")),\n",
    "                                lambda x: ConsequenceCategory.classify_so_terms(x),\n",
    "                            ),\n",
    "                            f.col(\"intervalType\"),\n",
    "                        )\n",
    "                    )\n",
    "                ),\n",
    "                lambda x: x.isNotNull(),\n",
    "            )\n",
    "        ),\n",
    "    )\n",
    "    .drop_duplicates([\"variantId\", \"consequence\", \"studyType\"])\n",
    "    .cache()\n",
    ")\n",
    "gwas_dataset.count()\n"
   ]
  },
  {
   "cell_type": "code",
   "execution_count": 39,
   "id": "f0ec9a64",
   "metadata": {},
   "outputs": [
    {
     "name": "stderr",
     "output_type": "stream",
     "text": [
      "                                                                                \r"
     ]
    },
    {
     "data": {
      "text/plain": [
       "7328"
      ]
     },
     "execution_count": 39,
     "metadata": {},
     "output_type": "execute_result"
    }
   ],
   "source": [
    "# Extract only GWAS\n",
    "gwas_measurement = (\n",
    "    (\n",
    "        nc_dataset.filter(f.col(\"studyType\").isin(\"gwas-measurement\")).select(\n",
    "            \"variantId\",\n",
    "            \"intervalType\",\n",
    "            \"estimatedBeta\",\n",
    "            \"estimatedSE\",\n",
    "            \"studyType\",\n",
    "            \"consequenceOntologyTerms\",\n",
    "            \"MAF\",\n",
    "        )\n",
    "    )\n",
    "    .withColumn(\n",
    "        \"consequence\",\n",
    "        f.explode(\n",
    "            f.filter(\n",
    "                f.array_distinct(\n",
    "                    f.array_sort(\n",
    "                        f.array_append(\n",
    "                            f.transform(\n",
    "                                f.array_distinct(f.col(\"consequenceOntologyTerms\")),\n",
    "                                lambda x: ConsequenceCategory.classify_so_terms(x),\n",
    "                            ),\n",
    "                            f.col(\"intervalType\"),\n",
    "                        )\n",
    "                    )\n",
    "                ),\n",
    "                lambda x: x.isNotNull(),\n",
    "            )\n",
    "        ),\n",
    "    )\n",
    "    .drop_duplicates([\"variantId\", \"consequence\", \"studyType\"])\n",
    "    .cache()\n",
    ")\n",
    "gwas_dataset.count()\n"
   ]
  },
  {
   "cell_type": "code",
   "execution_count": 40,
   "id": "201d79c9",
   "metadata": {},
   "outputs": [
    {
     "name": "stderr",
     "output_type": "stream",
     "text": [
      "                                                                                \r"
     ]
    },
    {
     "data": {
      "text/plain": [
       "252134"
      ]
     },
     "execution_count": 40,
     "metadata": {},
     "output_type": "execute_result"
    }
   ],
   "source": [
    "# Extract merged dataset\n",
    "merged_dataset = (\n",
    "    (\n",
    "        nc_dataset.select(\n",
    "            \"variantId\",\n",
    "            \"intervalType\",\n",
    "            \"estimatedBeta\",\n",
    "            \"estimatedSE\",\n",
    "            \"studyType\",\n",
    "            \"consequenceOntologyTerms\",\n",
    "            \"MAF\",\n",
    "        )\n",
    "    )\n",
    "    .withColumn(\n",
    "        \"consequence\",\n",
    "        f.explode(\n",
    "            f.filter(\n",
    "                f.array_distinct(\n",
    "                    f.array_sort(\n",
    "                        f.array_append(\n",
    "                            f.transform(\n",
    "                                f.array_distinct(f.col(\"consequenceOntologyTerms\")),\n",
    "                                lambda x: ConsequenceCategory.classify_so_terms(x),\n",
    "                            ),\n",
    "                            f.col(\"intervalType\"),\n",
    "                        )\n",
    "                    )\n",
    "                ),\n",
    "                lambda x: x.isNotNull(),\n",
    "            )\n",
    "        ),\n",
    "    )\n",
    "    .drop_duplicates([\"variantId\", \"consequence\", \"studyType\"])\n",
    "    .cache()\n",
    ")\n",
    "merged_dataset.count()\n"
   ]
  },
  {
   "cell_type": "markdown",
   "id": "0a7dbb20",
   "metadata": {},
   "source": [
    "## Mean estimated effect size in consequence categories\n",
    "\n",
    "The analysis is made to see the difference between the mean estimated effect size in different consequence categories within the GWAS replicated binary credible sets.\n"
   ]
  },
  {
   "cell_type": "code",
   "execution_count": 41,
   "id": "773f8222",
   "metadata": {},
   "outputs": [
    {
     "name": "stderr",
     "output_type": "stream",
     "text": [
      "                                                                                \r"
     ]
    },
    {
     "name": "stdout",
     "output_type": "stream",
     "text": [
      "+----------------+-----+-----+------------------+\n",
      "|     consequence|count|    %|        percentage|\n",
      "+----------------+-----+-----+------------------+\n",
      "|      intragenic| 4393|59.95| 59.94814410480349|\n",
      "|      intergenic| 1639|22.37| 22.36626637554585|\n",
      "|        enhancer|  826|11.27|11.271834061135372|\n",
      "|protein_altering|  304| 4.15| 4.148471615720524|\n",
      "|        promoter|  166| 2.27|  2.26528384279476|\n",
      "+----------------+-----+-----+------------------+\n",
      "\n"
     ]
    }
   ],
   "source": [
    "group_statistics(gwas_dataset, [f.col(\"consequence\")]).show()\n"
   ]
  },
  {
   "cell_type": "markdown",
   "id": "b4862d73",
   "metadata": {},
   "source": [
    "### Aggregate the estimated effect sizes\n",
    "\n",
    "The aggregation is done by the consequence and studyType\n"
   ]
  },
  {
   "cell_type": "code",
   "execution_count": 42,
   "id": "f2fbc737",
   "metadata": {},
   "outputs": [
    {
     "name": "stderr",
     "output_type": "stream",
     "text": [
      "                                                                                \r"
     ]
    },
    {
     "data": {
      "text/html": [
       "<div>\n",
       "<style scoped>\n",
       "    .dataframe tbody tr th:only-of-type {\n",
       "        vertical-align: middle;\n",
       "    }\n",
       "\n",
       "    .dataframe tbody tr th {\n",
       "        vertical-align: top;\n",
       "    }\n",
       "\n",
       "    .dataframe thead th {\n",
       "        text-align: right;\n",
       "    }\n",
       "</style>\n",
       "<table border=\"1\" class=\"dataframe\">\n",
       "  <thead>\n",
       "    <tr style=\"text-align: right;\">\n",
       "      <th></th>\n",
       "      <th>consequence</th>\n",
       "      <th>studyType</th>\n",
       "      <th>meanAbsEstimatedBeta</th>\n",
       "      <th>stddevAbsEstimatedBeta</th>\n",
       "      <th>variantCount</th>\n",
       "      <th>label</th>\n",
       "    </tr>\n",
       "  </thead>\n",
       "  <tbody>\n",
       "    <tr>\n",
       "      <th>0</th>\n",
       "      <td>protein_altering</td>\n",
       "      <td>gwas-disease</td>\n",
       "      <td>0.211700</td>\n",
       "      <td>0.249963</td>\n",
       "      <td>304</td>\n",
       "      <td>protein_altering / N=304 / β̂=0.212±0.25</td>\n",
       "    </tr>\n",
       "    <tr>\n",
       "      <th>1</th>\n",
       "      <td>intergenic</td>\n",
       "      <td>gwas-disease</td>\n",
       "      <td>0.125904</td>\n",
       "      <td>0.146008</td>\n",
       "      <td>1639</td>\n",
       "      <td>intergenic / N=1639 / β̂=0.126±0.146</td>\n",
       "    </tr>\n",
       "    <tr>\n",
       "      <th>2</th>\n",
       "      <td>enhancer</td>\n",
       "      <td>gwas-disease</td>\n",
       "      <td>0.121565</td>\n",
       "      <td>0.125101</td>\n",
       "      <td>826</td>\n",
       "      <td>enhancer / N=826 / β̂=0.122±0.125</td>\n",
       "    </tr>\n",
       "    <tr>\n",
       "      <th>3</th>\n",
       "      <td>promoter</td>\n",
       "      <td>gwas-disease</td>\n",
       "      <td>0.126467</td>\n",
       "      <td>0.151475</td>\n",
       "      <td>166</td>\n",
       "      <td>promoter / N=166 / β̂=0.126±0.151</td>\n",
       "    </tr>\n",
       "    <tr>\n",
       "      <th>4</th>\n",
       "      <td>intragenic</td>\n",
       "      <td>gwas-disease</td>\n",
       "      <td>0.122350</td>\n",
       "      <td>0.142577</td>\n",
       "      <td>4393</td>\n",
       "      <td>intragenic / N=4393 / β̂=0.122±0.143</td>\n",
       "    </tr>\n",
       "  </tbody>\n",
       "</table>\n",
       "</div>"
      ],
      "text/plain": [
       "        consequence     studyType  meanAbsEstimatedBeta  \\\n",
       "0  protein_altering  gwas-disease              0.211700   \n",
       "1        intergenic  gwas-disease              0.125904   \n",
       "2          enhancer  gwas-disease              0.121565   \n",
       "3          promoter  gwas-disease              0.126467   \n",
       "4        intragenic  gwas-disease              0.122350   \n",
       "\n",
       "   stddevAbsEstimatedBeta  variantCount  \\\n",
       "0                0.249963           304   \n",
       "1                0.146008          1639   \n",
       "2                0.125101           826   \n",
       "3                0.151475           166   \n",
       "4                0.142577          4393   \n",
       "\n",
       "                                      label  \n",
       "0  protein_altering / N=304 / β̂=0.212±0.25  \n",
       "1      intergenic / N=1639 / β̂=0.126±0.146  \n",
       "2         enhancer / N=826 / β̂=0.122±0.125  \n",
       "3         promoter / N=166 / β̂=0.126±0.151  \n",
       "4      intragenic / N=4393 / β̂=0.122±0.143  "
      ]
     },
     "execution_count": 42,
     "metadata": {},
     "output_type": "execute_result"
    }
   ],
   "source": [
    "beta = \"\\u03b2\"\n",
    "hat = \"\\u0302\"\n",
    "plus_minus = \"\\u00b1\"\n",
    "\n",
    "\n",
    "data = (\n",
    "    gwas_dataset.groupBy(\"consequence\", \"studyType\")\n",
    "    .agg(\n",
    "        f.mean(f.abs(\"estimatedBeta\")).alias(\"meanAbsEstimatedBeta\"),\n",
    "        f.stddev(f.abs(\"estimatedBeta\")).alias(\"stddevAbsEstimatedBeta\"),\n",
    "        f.count(f.col(\"variantId\")).alias(\"variantCount\"),\n",
    "    )\n",
    "    .withColumn(\n",
    "        \"label\",\n",
    "        f.concat_ws(\n",
    "            \" / \",\n",
    "            \"consequence\",\n",
    "            f.concat_ws(\"=\", f.lit(\"N\"), \"variantCount\"),\n",
    "            f.concat_ws(\n",
    "                plus_minus,\n",
    "                f.concat_ws(\"=\", f.lit(beta + hat), f.round(\"meanAbsEstimatedBeta\", 3)),\n",
    "                f.round(\"stddevAbsEstimatedBeta\", 3),\n",
    "            ),\n",
    "        ),\n",
    "    )\n",
    "    .toPandas()\n",
    ")\n",
    "data\n"
   ]
  },
  {
   "cell_type": "code",
   "execution_count": 43,
   "id": "588101cb",
   "metadata": {},
   "outputs": [
    {
     "data": {
      "image/png": "[encoded data removed]",
      "text/plain": [
       "<Figure size 600x400 with 1 Axes>"
      ]
     },
     "metadata": {
      "image/png": {
       "height": 400,
       "width": 600
      }
     },
     "output_type": "display_data"
    },
    {
     "data": {
      "text/plain": [
       "<Figure Size: (600 x 400)>"
      ]
     },
     "execution_count": 43,
     "metadata": {},
     "output_type": "execute_result"
    }
   ],
   "source": [
    "plot = (\n",
    "    p9.ggplot(data)\n",
    "    + p9.geom_point(p9.aes(x=\"reorder(label, variantCount)\", y=\"meanAbsEstimatedBeta\"), fill=\"#DBEAF6\")\n",
    "    + OpenTargetsTheme.theme\n",
    "    + p9.theme(figure_size=(10, 6))\n",
    "    # move the y-axis label to the bottom\n",
    "    + p9.theme(axis_text_y=p9.element_text(rotation=0))\n",
    "    + p9.geom_errorbar(\n",
    "        p9.aes(\n",
    "            x=\"label\",\n",
    "            ymin=\"meanAbsEstimatedBeta - stddevAbsEstimatedBeta\",\n",
    "            ymax=\"meanAbsEstimatedBeta + stddevAbsEstimatedBeta\",\n",
    "        ),\n",
    "        width=0.2,\n",
    "        position=p9.position_dodge(width=0.9),\n",
    "    )\n",
    "    + p9.labs(x=\"\", y=r\"$mean(|\\hat{\\beta}_{\\mathrm{rescaled}}|)$\")\n",
    "    + p9.theme(legend_position=\"none\", figure_size=(6, 4))  # Remove the legend\n",
    "    # Remove the color scale from legend\n",
    "    + p9.geom_hline(p9.aes(yintercept=0), linetype=\"dashed\", color=\"red\", size=0.5)\n",
    "    + p9.coord_flip()\n",
    ")\n",
    "plot\n"
   ]
  },
  {
   "cell_type": "code",
   "execution_count": 44,
   "id": "cae9e7e8",
   "metadata": {},
   "outputs": [
    {
     "name": "stderr",
     "output_type": "stream",
     "text": [
      "                                                                                \r"
     ]
    },
    {
     "data": {
      "text/html": [
       "<div>\n",
       "<style scoped>\n",
       "    .dataframe tbody tr th:only-of-type {\n",
       "        vertical-align: middle;\n",
       "    }\n",
       "\n",
       "    .dataframe tbody tr th {\n",
       "        vertical-align: top;\n",
       "    }\n",
       "\n",
       "    .dataframe thead th {\n",
       "        text-align: right;\n",
       "    }\n",
       "</style>\n",
       "<table border=\"1\" class=\"dataframe\">\n",
       "  <thead>\n",
       "    <tr style=\"text-align: right;\">\n",
       "      <th></th>\n",
       "      <th>consequence</th>\n",
       "      <th>studyType</th>\n",
       "      <th>meanAbsEstimatedBeta</th>\n",
       "      <th>stddevAbsEstimatedBeta</th>\n",
       "      <th>variantCount</th>\n",
       "      <th>label</th>\n",
       "    </tr>\n",
       "  </thead>\n",
       "  <tbody>\n",
       "    <tr>\n",
       "      <th>0</th>\n",
       "      <td>enhancer</td>\n",
       "      <td>gwas-measurement</td>\n",
       "      <td>0.046201</td>\n",
       "      <td>0.089815</td>\n",
       "      <td>3666</td>\n",
       "      <td>enhancer / N=3666 / β̂=0.046±0.09</td>\n",
       "    </tr>\n",
       "    <tr>\n",
       "      <th>1</th>\n",
       "      <td>intergenic</td>\n",
       "      <td>gwas-measurement</td>\n",
       "      <td>0.042103</td>\n",
       "      <td>0.064243</td>\n",
       "      <td>7776</td>\n",
       "      <td>intergenic / N=7776 / β̂=0.042±0.064</td>\n",
       "    </tr>\n",
       "    <tr>\n",
       "      <th>2</th>\n",
       "      <td>intragenic</td>\n",
       "      <td>gwas-measurement</td>\n",
       "      <td>0.041692</td>\n",
       "      <td>0.070201</td>\n",
       "      <td>19820</td>\n",
       "      <td>intragenic / N=19820 / β̂=0.042±0.07</td>\n",
       "    </tr>\n",
       "    <tr>\n",
       "      <th>3</th>\n",
       "      <td>promoter</td>\n",
       "      <td>gwas-measurement</td>\n",
       "      <td>0.052646</td>\n",
       "      <td>0.085622</td>\n",
       "      <td>745</td>\n",
       "      <td>promoter / N=745 / β̂=0.053±0.086</td>\n",
       "    </tr>\n",
       "    <tr>\n",
       "      <th>4</th>\n",
       "      <td>protein_altering</td>\n",
       "      <td>gwas-measurement</td>\n",
       "      <td>0.097403</td>\n",
       "      <td>0.197087</td>\n",
       "      <td>1091</td>\n",
       "      <td>protein_altering / N=1091 / β̂=0.097±0.197</td>\n",
       "    </tr>\n",
       "  </tbody>\n",
       "</table>\n",
       "</div>"
      ],
      "text/plain": [
       "        consequence         studyType  meanAbsEstimatedBeta  \\\n",
       "0          enhancer  gwas-measurement              0.046201   \n",
       "1        intergenic  gwas-measurement              0.042103   \n",
       "2        intragenic  gwas-measurement              0.041692   \n",
       "3          promoter  gwas-measurement              0.052646   \n",
       "4  protein_altering  gwas-measurement              0.097403   \n",
       "\n",
       "   stddevAbsEstimatedBeta  variantCount  \\\n",
       "0                0.089815          3666   \n",
       "1                0.064243          7776   \n",
       "2                0.070201         19820   \n",
       "3                0.085622           745   \n",
       "4                0.197087          1091   \n",
       "\n",
       "                                        label  \n",
       "0           enhancer / N=3666 / β̂=0.046±0.09  \n",
       "1        intergenic / N=7776 / β̂=0.042±0.064  \n",
       "2        intragenic / N=19820 / β̂=0.042±0.07  \n",
       "3           promoter / N=745 / β̂=0.053±0.086  \n",
       "4  protein_altering / N=1091 / β̂=0.097±0.197  "
      ]
     },
     "execution_count": 44,
     "metadata": {},
     "output_type": "execute_result"
    }
   ],
   "source": [
    "beta = \"\\u03b2\"\n",
    "hat = \"\\u0302\"\n",
    "plus_minus = \"\\u00b1\"\n",
    "\n",
    "\n",
    "data = (\n",
    "    gwas_measurement.groupBy(\"consequence\", \"studyType\")\n",
    "    .agg(\n",
    "        f.mean(f.abs(\"estimatedBeta\")).alias(\"meanAbsEstimatedBeta\"),\n",
    "        f.stddev(f.abs(\"estimatedBeta\")).alias(\"stddevAbsEstimatedBeta\"),\n",
    "        f.count(f.col(\"variantId\")).alias(\"variantCount\"),\n",
    "    )\n",
    "    .withColumn(\n",
    "        \"label\",\n",
    "        f.concat_ws(\n",
    "            \" / \",\n",
    "            \"consequence\",\n",
    "            f.concat_ws(\"=\", f.lit(\"N\"), \"variantCount\"),\n",
    "            f.concat_ws(\n",
    "                plus_minus,\n",
    "                f.concat_ws(\"=\", f.lit(beta + hat), f.round(\"meanAbsEstimatedBeta\", 3)),\n",
    "                f.round(\"stddevAbsEstimatedBeta\", 3),\n",
    "            ),\n",
    "        ),\n",
    "    )\n",
    "    .toPandas()\n",
    ")\n",
    "data\n"
   ]
  },
  {
   "cell_type": "code",
   "execution_count": 46,
   "id": "4d859cb9",
   "metadata": {},
   "outputs": [
    {
     "data": {
      "image/png": "[encoded data removed]",
      "text/plain": [
       "<Figure size 600x400 with 1 Axes>"
      ]
     },
     "metadata": {
      "image/png": {
       "height": 400,
       "width": 600
      }
     },
     "output_type": "display_data"
    },
    {
     "data": {
      "text/plain": [
       "<Figure Size: (600 x 400)>"
      ]
     },
     "execution_count": 46,
     "metadata": {},
     "output_type": "execute_result"
    }
   ],
   "source": [
    "plot = (\n",
    "    p9.ggplot(data)\n",
    "    + p9.geom_point(p9.aes(x=\"reorder(label, variantCount)\", y=\"meanAbsEstimatedBeta\"), fill=\"#DBEAF6\")\n",
    "    + OpenTargetsTheme.theme\n",
    "    + p9.theme(figure_size=(10, 6))\n",
    "    # move the y-axis label to the bottom\n",
    "    + p9.theme(axis_text_y=p9.element_text(rotation=0))\n",
    "    + p9.geom_errorbar(\n",
    "        p9.aes(\n",
    "            x=\"label\",\n",
    "            ymin=\"meanAbsEstimatedBeta - stddevAbsEstimatedBeta\",\n",
    "            ymax=\"meanAbsEstimatedBeta + stddevAbsEstimatedBeta\",\n",
    "        ),\n",
    "        width=0.2,\n",
    "        position=p9.position_dodge(width=0.9),\n",
    "    )\n",
    "    + p9.labs(x=\"\", y=r\"$mean(|\\hat{\\beta}_{\\mathrm{rescaled}}|)$\")\n",
    "    + p9.theme(legend_position=\"none\", figure_size=(6, 4))  # Remove the legend\n",
    "    # Remove the color scale from legend\n",
    "    + p9.geom_hline(p9.aes(yintercept=0), linetype=\"dashed\", color=\"red\", size=0.5)\n",
    "    + p9.coord_flip()\n",
    ")\n",
    "plot\n"
   ]
  },
  {
   "cell_type": "markdown",
   "id": "2bea5ad0",
   "metadata": {},
   "source": [
    "## Mean estimated effect size in consequence categories x study Type\n",
    "\n",
    "This analysis is done to see the difference between the mean estimated effect size in different consequence categories across the study types.\n"
   ]
  },
  {
   "cell_type": "code",
   "execution_count": 26,
   "id": "de7ab7cd",
   "metadata": {},
   "outputs": [
    {
     "name": "stderr",
     "output_type": "stream",
     "text": [
      "                                                                                \r"
     ]
    },
    {
     "data": {
      "text/html": [
       "<div>\n",
       "<style scoped>\n",
       "    .dataframe tbody tr th:only-of-type {\n",
       "        vertical-align: middle;\n",
       "    }\n",
       "\n",
       "    .dataframe tbody tr th {\n",
       "        vertical-align: top;\n",
       "    }\n",
       "\n",
       "    .dataframe thead th {\n",
       "        text-align: right;\n",
       "    }\n",
       "</style>\n",
       "<table border=\"1\" class=\"dataframe\">\n",
       "  <thead>\n",
       "    <tr style=\"text-align: right;\">\n",
       "      <th></th>\n",
       "      <th>pointLabel</th>\n",
       "      <th>pointLabelPosition</th>\n",
       "      <th>fillLabel</th>\n",
       "      <th>percentage</th>\n",
       "      <th>consequence</th>\n",
       "      <th>studyType</th>\n",
       "      <th>totalCountPerStudyTypeAndConsequence</th>\n",
       "      <th>totalCountPerStudyType</th>\n",
       "      <th>totalCountPerConsequence</th>\n",
       "      <th>cumulativeSum</th>\n",
       "      <th>label_to_show</th>\n",
       "    </tr>\n",
       "  </thead>\n",
       "  <tbody>\n",
       "    <tr>\n",
       "      <th>10</th>\n",
       "      <td>50.66%</td>\n",
       "      <td>0.253276</td>\n",
       "      <td>intragenic / 157920</td>\n",
       "      <td>0.506552</td>\n",
       "      <td>intragenic</td>\n",
       "      <td>cis-pqtl</td>\n",
       "      <td>1121</td>\n",
       "      <td>2213</td>\n",
       "      <td>157920</td>\n",
       "      <td>0.506552</td>\n",
       "      <td>50.66%</td>\n",
       "    </tr>\n",
       "    <tr>\n",
       "      <th>14</th>\n",
       "      <td>16.27%</td>\n",
       "      <td>0.587890</td>\n",
       "      <td>intergenic / 50966</td>\n",
       "      <td>0.162675</td>\n",
       "      <td>intergenic</td>\n",
       "      <td>cis-pqtl</td>\n",
       "      <td>360</td>\n",
       "      <td>2213</td>\n",
       "      <td>50966</td>\n",
       "      <td>0.669227</td>\n",
       "      <td>16.27%</td>\n",
       "    </tr>\n",
       "    <tr>\n",
       "      <th>15</th>\n",
       "      <td>14.32%</td>\n",
       "      <td>0.740850</td>\n",
       "      <td>enhancer / 29039</td>\n",
       "      <td>0.143244</td>\n",
       "      <td>enhancer</td>\n",
       "      <td>cis-pqtl</td>\n",
       "      <td>317</td>\n",
       "      <td>2213</td>\n",
       "      <td>29039</td>\n",
       "      <td>0.812472</td>\n",
       "      <td>14.32%</td>\n",
       "    </tr>\n",
       "    <tr>\n",
       "      <th>18</th>\n",
       "      <td>8.90%</td>\n",
       "      <td>0.856981</td>\n",
       "      <td>promoter / 9825</td>\n",
       "      <td>0.089019</td>\n",
       "      <td>promoter</td>\n",
       "      <td>cis-pqtl</td>\n",
       "      <td>197</td>\n",
       "      <td>2213</td>\n",
       "      <td>9825</td>\n",
       "      <td>0.901491</td>\n",
       "      <td>8.90%</td>\n",
       "    </tr>\n",
       "    <tr>\n",
       "      <th>17</th>\n",
       "      <td>9.85%</td>\n",
       "      <td>0.950746</td>\n",
       "      <td>protein_altering / 4384</td>\n",
       "      <td>0.098509</td>\n",
       "      <td>protein_altering</td>\n",
       "      <td>cis-pqtl</td>\n",
       "      <td>218</td>\n",
       "      <td>2213</td>\n",
       "      <td>4384</td>\n",
       "      <td>1.000000</td>\n",
       "      <td>9.85%</td>\n",
       "    </tr>\n",
       "    <tr>\n",
       "      <th>0</th>\n",
       "      <td>63.29%</td>\n",
       "      <td>0.316442</td>\n",
       "      <td>intragenic / 157920</td>\n",
       "      <td>0.632884</td>\n",
       "      <td>intragenic</td>\n",
       "      <td>eqtl</td>\n",
       "      <td>132586</td>\n",
       "      <td>209495</td>\n",
       "      <td>157920</td>\n",
       "      <td>0.632884</td>\n",
       "      <td>63.29%</td>\n",
       "    </tr>\n",
       "    <tr>\n",
       "      <th>1</th>\n",
       "      <td>19.66%</td>\n",
       "      <td>0.731194</td>\n",
       "      <td>intergenic / 50966</td>\n",
       "      <td>0.196620</td>\n",
       "      <td>intergenic</td>\n",
       "      <td>eqtl</td>\n",
       "      <td>41191</td>\n",
       "      <td>209495</td>\n",
       "      <td>50966</td>\n",
       "      <td>0.829504</td>\n",
       "      <td>19.66%</td>\n",
       "    </tr>\n",
       "    <tr>\n",
       "      <th>2</th>\n",
       "      <td>11.57%</td>\n",
       "      <td>0.887334</td>\n",
       "      <td>enhancer / 29039</td>\n",
       "      <td>0.115659</td>\n",
       "      <td>enhancer</td>\n",
       "      <td>eqtl</td>\n",
       "      <td>24230</td>\n",
       "      <td>209495</td>\n",
       "      <td>29039</td>\n",
       "      <td>0.945163</td>\n",
       "      <td>11.57%</td>\n",
       "    </tr>\n",
       "    <tr>\n",
       "      <th>4</th>\n",
       "      <td>4.16%</td>\n",
       "      <td>0.965968</td>\n",
       "      <td>promoter / 9825</td>\n",
       "      <td>0.041610</td>\n",
       "      <td>promoter</td>\n",
       "      <td>eqtl</td>\n",
       "      <td>8717</td>\n",
       "      <td>209495</td>\n",
       "      <td>9825</td>\n",
       "      <td>0.986773</td>\n",
       "      <td></td>\n",
       "    </tr>\n",
       "    <tr>\n",
       "      <th>8</th>\n",
       "      <td>1.32%</td>\n",
       "      <td>0.993386</td>\n",
       "      <td>protein_altering / 4384</td>\n",
       "      <td>0.013227</td>\n",
       "      <td>protein_altering</td>\n",
       "      <td>eqtl</td>\n",
       "      <td>2771</td>\n",
       "      <td>209495</td>\n",
       "      <td>4384</td>\n",
       "      <td>1.000000</td>\n",
       "      <td></td>\n",
       "    </tr>\n",
       "    <tr>\n",
       "      <th>6</th>\n",
       "      <td>59.95%</td>\n",
       "      <td>0.299741</td>\n",
       "      <td>intragenic / 157920</td>\n",
       "      <td>0.599481</td>\n",
       "      <td>intragenic</td>\n",
       "      <td>gwas-disease</td>\n",
       "      <td>4393</td>\n",
       "      <td>7328</td>\n",
       "      <td>157920</td>\n",
       "      <td>0.599481</td>\n",
       "      <td>59.95%</td>\n",
       "    </tr>\n",
       "    <tr>\n",
       "      <th>9</th>\n",
       "      <td>22.37%</td>\n",
       "      <td>0.711313</td>\n",
       "      <td>intergenic / 50966</td>\n",
       "      <td>0.223663</td>\n",
       "      <td>intergenic</td>\n",
       "      <td>gwas-disease</td>\n",
       "      <td>1639</td>\n",
       "      <td>7328</td>\n",
       "      <td>50966</td>\n",
       "      <td>0.823144</td>\n",
       "      <td>22.37%</td>\n",
       "    </tr>\n",
       "    <tr>\n",
       "      <th>12</th>\n",
       "      <td>11.27%</td>\n",
       "      <td>0.879503</td>\n",
       "      <td>enhancer / 29039</td>\n",
       "      <td>0.112718</td>\n",
       "      <td>enhancer</td>\n",
       "      <td>gwas-disease</td>\n",
       "      <td>826</td>\n",
       "      <td>7328</td>\n",
       "      <td>29039</td>\n",
       "      <td>0.935862</td>\n",
       "      <td>11.27%</td>\n",
       "    </tr>\n",
       "    <tr>\n",
       "      <th>19</th>\n",
       "      <td>2.27%</td>\n",
       "      <td>0.947189</td>\n",
       "      <td>promoter / 9825</td>\n",
       "      <td>0.022653</td>\n",
       "      <td>promoter</td>\n",
       "      <td>gwas-disease</td>\n",
       "      <td>166</td>\n",
       "      <td>7328</td>\n",
       "      <td>9825</td>\n",
       "      <td>0.958515</td>\n",
       "      <td></td>\n",
       "    </tr>\n",
       "    <tr>\n",
       "      <th>16</th>\n",
       "      <td>4.15%</td>\n",
       "      <td>0.979258</td>\n",
       "      <td>protein_altering / 4384</td>\n",
       "      <td>0.041485</td>\n",
       "      <td>protein_altering</td>\n",
       "      <td>gwas-disease</td>\n",
       "      <td>304</td>\n",
       "      <td>7328</td>\n",
       "      <td>4384</td>\n",
       "      <td>1.000000</td>\n",
       "      <td></td>\n",
       "    </tr>\n",
       "    <tr>\n",
       "      <th>3</th>\n",
       "      <td>59.88%</td>\n",
       "      <td>0.299414</td>\n",
       "      <td>intragenic / 157920</td>\n",
       "      <td>0.598828</td>\n",
       "      <td>intragenic</td>\n",
       "      <td>gwas-measurement</td>\n",
       "      <td>19820</td>\n",
       "      <td>33098</td>\n",
       "      <td>157920</td>\n",
       "      <td>0.598828</td>\n",
       "      <td>59.88%</td>\n",
       "    </tr>\n",
       "    <tr>\n",
       "      <th>5</th>\n",
       "      <td>23.49%</td>\n",
       "      <td>0.716297</td>\n",
       "      <td>intergenic / 50966</td>\n",
       "      <td>0.234939</td>\n",
       "      <td>intergenic</td>\n",
       "      <td>gwas-measurement</td>\n",
       "      <td>7776</td>\n",
       "      <td>33098</td>\n",
       "      <td>50966</td>\n",
       "      <td>0.833766</td>\n",
       "      <td>23.49%</td>\n",
       "    </tr>\n",
       "    <tr>\n",
       "      <th>7</th>\n",
       "      <td>11.08%</td>\n",
       "      <td>0.889147</td>\n",
       "      <td>enhancer / 29039</td>\n",
       "      <td>0.110762</td>\n",
       "      <td>enhancer</td>\n",
       "      <td>gwas-measurement</td>\n",
       "      <td>3666</td>\n",
       "      <td>33098</td>\n",
       "      <td>29039</td>\n",
       "      <td>0.944528</td>\n",
       "      <td>11.08%</td>\n",
       "    </tr>\n",
       "    <tr>\n",
       "      <th>13</th>\n",
       "      <td>2.25%</td>\n",
       "      <td>0.955783</td>\n",
       "      <td>promoter / 9825</td>\n",
       "      <td>0.022509</td>\n",
       "      <td>promoter</td>\n",
       "      <td>gwas-measurement</td>\n",
       "      <td>745</td>\n",
       "      <td>33098</td>\n",
       "      <td>9825</td>\n",
       "      <td>0.967037</td>\n",
       "      <td></td>\n",
       "    </tr>\n",
       "    <tr>\n",
       "      <th>11</th>\n",
       "      <td>3.30%</td>\n",
       "      <td>0.983519</td>\n",
       "      <td>protein_altering / 4384</td>\n",
       "      <td>0.032963</td>\n",
       "      <td>protein_altering</td>\n",
       "      <td>gwas-measurement</td>\n",
       "      <td>1091</td>\n",
       "      <td>33098</td>\n",
       "      <td>4384</td>\n",
       "      <td>1.000000</td>\n",
       "      <td></td>\n",
       "    </tr>\n",
       "  </tbody>\n",
       "</table>\n",
       "</div>"
      ],
      "text/plain": [
       "   pointLabel  pointLabelPosition                fillLabel  percentage  \\\n",
       "10     50.66%            0.253276      intragenic / 157920    0.506552   \n",
       "14     16.27%            0.587890       intergenic / 50966    0.162675   \n",
       "15     14.32%            0.740850         enhancer / 29039    0.143244   \n",
       "18      8.90%            0.856981          promoter / 9825    0.089019   \n",
       "17      9.85%            0.950746  protein_altering / 4384    0.098509   \n",
       "0      63.29%            0.316442      intragenic / 157920    0.632884   \n",
       "1      19.66%            0.731194       intergenic / 50966    0.196620   \n",
       "2      11.57%            0.887334         enhancer / 29039    0.115659   \n",
       "4       4.16%            0.965968          promoter / 9825    0.041610   \n",
       "8       1.32%            0.993386  protein_altering / 4384    0.013227   \n",
       "6      59.95%            0.299741      intragenic / 157920    0.599481   \n",
       "9      22.37%            0.711313       intergenic / 50966    0.223663   \n",
       "12     11.27%            0.879503         enhancer / 29039    0.112718   \n",
       "19      2.27%            0.947189          promoter / 9825    0.022653   \n",
       "16      4.15%            0.979258  protein_altering / 4384    0.041485   \n",
       "3      59.88%            0.299414      intragenic / 157920    0.598828   \n",
       "5      23.49%            0.716297       intergenic / 50966    0.234939   \n",
       "7      11.08%            0.889147         enhancer / 29039    0.110762   \n",
       "13      2.25%            0.955783          promoter / 9825    0.022509   \n",
       "11      3.30%            0.983519  protein_altering / 4384    0.032963   \n",
       "\n",
       "         consequence         studyType  totalCountPerStudyTypeAndConsequence  \\\n",
       "10        intragenic          cis-pqtl                                  1121   \n",
       "14        intergenic          cis-pqtl                                   360   \n",
       "15          enhancer          cis-pqtl                                   317   \n",
       "18          promoter          cis-pqtl                                   197   \n",
       "17  protein_altering          cis-pqtl                                   218   \n",
       "0         intragenic              eqtl                                132586   \n",
       "1         intergenic              eqtl                                 41191   \n",
       "2           enhancer              eqtl                                 24230   \n",
       "4           promoter              eqtl                                  8717   \n",
       "8   protein_altering              eqtl                                  2771   \n",
       "6         intragenic      gwas-disease                                  4393   \n",
       "9         intergenic      gwas-disease                                  1639   \n",
       "12          enhancer      gwas-disease                                   826   \n",
       "19          promoter      gwas-disease                                   166   \n",
       "16  protein_altering      gwas-disease                                   304   \n",
       "3         intragenic  gwas-measurement                                 19820   \n",
       "5         intergenic  gwas-measurement                                  7776   \n",
       "7           enhancer  gwas-measurement                                  3666   \n",
       "13          promoter  gwas-measurement                                   745   \n",
       "11  protein_altering  gwas-measurement                                  1091   \n",
       "\n",
       "    totalCountPerStudyType  totalCountPerConsequence  cumulativeSum  \\\n",
       "10                    2213                    157920       0.506552   \n",
       "14                    2213                     50966       0.669227   \n",
       "15                    2213                     29039       0.812472   \n",
       "18                    2213                      9825       0.901491   \n",
       "17                    2213                      4384       1.000000   \n",
       "0                   209495                    157920       0.632884   \n",
       "1                   209495                     50966       0.829504   \n",
       "2                   209495                     29039       0.945163   \n",
       "4                   209495                      9825       0.986773   \n",
       "8                   209495                      4384       1.000000   \n",
       "6                     7328                    157920       0.599481   \n",
       "9                     7328                     50966       0.823144   \n",
       "12                    7328                     29039       0.935862   \n",
       "19                    7328                      9825       0.958515   \n",
       "16                    7328                      4384       1.000000   \n",
       "3                    33098                    157920       0.598828   \n",
       "5                    33098                     50966       0.833766   \n",
       "7                    33098                     29039       0.944528   \n",
       "13                   33098                      9825       0.967037   \n",
       "11                   33098                      4384       1.000000   \n",
       "\n",
       "   label_to_show  \n",
       "10        50.66%  \n",
       "14        16.27%  \n",
       "15        14.32%  \n",
       "18         8.90%  \n",
       "17         9.85%  \n",
       "0         63.29%  \n",
       "1         19.66%  \n",
       "2         11.57%  \n",
       "4                 \n",
       "8                 \n",
       "6         59.95%  \n",
       "9         22.37%  \n",
       "12        11.27%  \n",
       "19                \n",
       "16                \n",
       "3         59.88%  \n",
       "5         23.49%  \n",
       "7         11.08%  \n",
       "13                \n",
       "11                "
      ]
     },
     "execution_count": 26,
     "metadata": {},
     "output_type": "execute_result"
    }
   ],
   "source": [
    "data2 = (\n",
    "    merged_dataset.withColumn(\n",
    "        \"totalCountPerStudyType\", f.count(f.col(\"variantId\")).over(Window.partitionBy(\"studyType\"))\n",
    "    )\n",
    "    .withColumn(\n",
    "        \"totalCountPerStudyTypeAndConsequence\",\n",
    "        f.count(f.col(\"variantId\")).over(Window.partitionBy(\"studyType\", \"consequence\")),\n",
    "    )\n",
    "    .withColumn(\"totalCountPerConsequence\", f.count(f.col(\"variantId\")).over(Window.partitionBy(\"consequence\")))\n",
    "    .withColumn(\"percentage\", f.col(\"totalCountPerStudyTypeAndConsequence\") / f.col(\"totalCountPerStudyType\"))\n",
    "    .drop_duplicates([\"consequence\", \"studyType\", \"totalCountPerStudyTypeAndConsequence\", \"totalCountPerStudyType\"])\n",
    "    .withColumn(\n",
    "        \"cumulativeSum\",\n",
    "        f.sum(f.col(\"percentage\")).over(Window.partitionBy(\"studyType\").orderBy(f.desc(\"totalCountPerConsequence\"))),\n",
    "    )\n",
    "    .withColumn(\"pointLabel\", f.concat_ws(\"\", f.format_number(f.col(\"percentage\") * 100, 2), f.lit(\"%\")))\n",
    "    .withColumn(\"pointLabelPosition\", f.col(\"cumulativeSum\") - (f.col(\"percentage\") / 2))\n",
    "    .withColumn(\"fillLabel\", f.concat_ws(\" / \", \"consequence\", \"totalCountPerConsequence\"))\n",
    "    .select(\n",
    "        \"pointLabel\",\n",
    "        \"pointLabelPosition\",\n",
    "        \"fillLabel\",\n",
    "        \"percentage\",\n",
    "        \"consequence\",\n",
    "        \"studyType\",\n",
    "        \"totalCountPerStudyTypeAndConsequence\",\n",
    "        \"totalCountPerStudyType\",\n",
    "        \"totalCountPerConsequence\",\n",
    "        \"cumulativeSum\",\n",
    "    )\n",
    "    .orderBy(\"totalCountPerStudyTypeAndConsequence\", ascending=False)\n",
    "    .toPandas()\n",
    ")\n",
    "data2.sort_values(by=[\"studyType\", \"totalCountPerConsequence\"], ascending=[True, False], inplace=True)\n",
    "data2[\"label_to_show\"] = data2.apply(lambda row: f\"{row['pointLabel']}\" if row[\"percentage\"] > 0.05 else \"\", axis=1)\n",
    "data2\n"
   ]
  },
  {
   "cell_type": "markdown",
   "id": "70dc5278",
   "metadata": {},
   "source": []
  },
  {
   "cell_type": "code",
   "execution_count": 27,
   "id": "bc7c2df1",
   "metadata": {},
   "outputs": [
    {
     "data": {
      "image/png": "[encoded data removed]",
      "text/plain": [
       "<Figure size 600x400 with 1 Axes>"
      ]
     },
     "metadata": {
      "image/png": {
       "height": 400,
       "width": 600
      }
     },
     "output_type": "display_data"
    },
    {
     "data": {
      "text/plain": [
       "<Figure Size: (600 x 400)>"
      ]
     },
     "execution_count": 27,
     "metadata": {},
     "output_type": "execute_result"
    }
   ],
   "source": [
    "plot2 = (\n",
    "    p9.ggplot(data2)\n",
    "    + p9.geom_col(p9.aes(x=\"studyType\", y=\"percentage\", fill=\"reorder(fillLabel, totalCountPerConsequence)\"), width=0.7)\n",
    "    + OpenTargetsTheme.categorical_theme(5)\n",
    "    + p9.theme(figure_size=(6, 4))\n",
    "    + p9.theme(\n",
    "        axis_text_y=p9.element_text(rotation=0, hjust=1, size=10),\n",
    "        axis_text_x=p9.element_text(size=10),\n",
    "        legend_text=p9.element_text(size=10),\n",
    "    )\n",
    "    + p9.labs(x=\"\", y=\"[%]\", fill=\"Consequence category\")\n",
    "    + p9.theme(legend_title=p9.element_text(size=10, weight=50), legend_position=\"right\")\n",
    "    # Move the geom_text to point to the correct part of the bar\n",
    "    # + p9.geom_text(p9.aes(label=\"%\", y=\"percentage\", x=\"studyType\"), size=8, color=\"black\")\n",
    "    + p9.geom_text(p9.aes(label=\"label_to_show\", y=\"pointLabelPosition\", x=\"studyType\"), size=10, color=\"white\")\n",
    "    + p9.scale_fill_manual(values=OpenTargetsTheme.categorical_dark_colors)\n",
    ")\n",
    "plot2\n"
   ]
  },
  {
   "cell_type": "markdown",
   "id": "48d6750b",
   "metadata": {},
   "source": [
    "## Merge plots into one figure\n"
   ]
  },
  {
   "cell_type": "code",
   "execution_count": null,
   "id": "49b2578e",
   "metadata": {},
   "outputs": [],
   "source": [
    "import patchworklib as pw\n",
    "\n",
    "\n",
    "p1 = pw.load_ggplot(plot)\n",
    "p2 = pw.load_ggplot(plot2)\n"
   ]
  },
  {
   "cell_type": "code",
   "execution_count": null,
   "id": "84c9251b",
   "metadata": {},
   "outputs": [
    {
     "data": {
      "image/png": "[encoded data removed]",
      "text/plain": [
       "<Figure size 100x100 with 5 Axes>"
      ]
     },
     "execution_count": 64,
     "metadata": {
      "image/png": {
       "height": 100,
       "width": 100
      }
     },
     "output_type": "execute_result"
    }
   ],
   "source": [
    "fig = p1 | p2\n",
    "fig.savefig(\"plots/05.1_variant_regulatory_consequence.jpg\", dpi=300, bbox_inches=\"tight\")\n"
   ]
  }
 ],
 "metadata": {
  "kernelspec": {
   "display_name": "gentropy-manuscript",
   "language": "python",
   "name": "python3"
  },
  "language_info": {
   "codemirror_mode": {
    "name": "ipython",
    "version": 3
   },
   "file_extension": ".py",
   "mimetype": "text/x-python",
   "name": "python",
   "nbconvert_exporter": "python",
   "pygments_lexer": "ipython3",
   "version": "3.11.11"
  }
 },
 "nbformat": 4,
 "nbformat_minor": 5
}

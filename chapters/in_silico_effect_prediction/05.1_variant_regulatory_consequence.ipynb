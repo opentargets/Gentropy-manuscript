{
 "cells": [
  {
   "cell_type": "markdown",
   "id": "daa96b86",
   "metadata": {},
   "source": [
    "# Variant regulatory consequence analysis\n",
    "\n",
    "This notebook introduces new dataset `Epiraction`, which contains the regulatory consequences for variants.\n"
   ]
  },
  {
   "cell_type": "markdown",
   "id": "1d412554",
   "metadata": {},
   "source": [
    "## Data loading\n",
    "\n",
    "The data requires two datasets:\n",
    "\n",
    "- `Epiraction` dataset, which contains the regulatory consequences for variants.\n",
    "- `LeadVariantEffect` dataset, which contains the lead variants and their effects.\n"
   ]
  },
  {
   "cell_type": "code",
   "execution_count": 1,
   "id": "c2ca950e",
   "metadata": {},
   "outputs": [
    {
     "data": {
      "text/html": [
       "    <style>\n",
       "        .bk-notebook-logo {\n",
       "            display: block;\n",
       "            width: 20px;\n",
       "            height: 20px;\n",
       "            background-image: url(data:image/png;base64,iVBORw0KGgoAAAANSUhEUgAAABQAAAAUCAYAAACNiR0NAAAABHNCSVQICAgIfAhkiAAAAAlwSFlzAAALEgAACxIB0t1+/AAAABx0RVh0U29mdHdhcmUAQWRvYmUgRmlyZXdvcmtzIENTNui8sowAAAOkSURBVDiNjZRtaJVlGMd/1/08zzln5zjP1LWcU9N0NkN8m2CYjpgQYQXqSs0I84OLIC0hkEKoPtiH3gmKoiJDU7QpLgoLjLIQCpEsNJ1vqUOdO7ppbuec5+V+rj4ctwzd8IIbbi6u+8f1539dt3A78eXC7QizUF7gyV1fD1Yqg4JWz84yffhm0qkFqBogB9rM8tZdtwVsPUhWhGcFJngGeWrPzHm5oaMmkfEg1usvLFyc8jLRqDOMru7AyC8saQr7GG7f5fvDeH7Ej8CM66nIF+8yngt6HWaKh7k49Soy9nXurCi1o3qUbS3zWfrYeQDTB/Qj6kX6Ybhw4B+bOYoLKCC9H3Nu/leUTZ1JdRWkkn2ldcCamzrcf47KKXdAJllSlxAOkRgyHsGC/zRday5Qld9DyoM4/q/rUoy/CXh3jzOu3bHUVZeU+DEn8FInkPBFlu3+nW3Nw0mk6vCDiWg8CeJaxEwuHS3+z5RgY+YBR6V1Z1nxSOfoaPa4LASWxxdNp+VWTk7+4vzaou8v8PN+xo+KY2xsw6une2frhw05CTYOmQvsEhjhWjn0bmXPjpE1+kplmmkP3suftwTubK9Vq22qKmrBhpY4jvd5afdRA3wGjFAgcnTK2s4hY0/GPNIb0nErGMCRxWOOX64Z8RAC4oCXdklmEvcL8o0BfkNK4lUg9HTl+oPlQxdNo3Mg4Nv175e/1LDGzZen30MEjRUtmXSfiTVu1kK8W4txyV6BMKlbgk3lMwYCiusNy9fVfvvwMxv8Ynl6vxoByANLTWplvuj/nF9m2+PDtt1eiHPBr1oIfhCChQMBw6Aw0UulqTKZdfVvfG7VcfIqLG9bcldL/+pdWTLxLUy8Qq38heUIjh4XlzZxzQm19lLFlr8vdQ97rjZVOLf8nclzckbcD4wxXMidpX30sFd37Fv/GtwwhzhxGVAprjbg0gCAEeIgwCZyTV2Z1REEW8O4py0wsjeloKoMr6iCY6dP92H6Vw/oTyICIthibxjm/DfN9lVz8IqtqKYLUXfoKVMVQVVJOElGjrnnUt9T9wbgp8AyYKaGlqingHZU/uG2NTZSVqwHQTWkx9hxjkpWDaCg6Ckj5qebgBVbT3V3NNXMSiWSDdGV3hrtzla7J+duwPOToIg42ChPQOQjspnSlp1V+Gjdged7+8UN5CRAV7a5EdFNwCjEaBR27b3W890TE7g24NAP/mMDXRWrGoFPQI9ls/MWO2dWFAar/xcOIImbbpA3zgAAAABJRU5ErkJggg==);\n",
       "        }\n",
       "    </style>\n",
       "    <div>\n",
       "        <a href=\"https://bokeh.org\" target=\"_blank\" class=\"bk-notebook-logo\"></a>\n",
       "        <span id=\"c2b93da9-855b-4a39-a663-0f659868777d\">Loading BokehJS ...</span>\n",
       "    </div>\n"
      ]
     },
     "metadata": {},
     "output_type": "display_data"
    },
    {
     "data": {
      "application/javascript": "'use strict';\n(function(root) {\n  function now() {\n    return new Date();\n  }\n\n  const force = true;\n\n  if (typeof root._bokeh_onload_callbacks === \"undefined\" || force === true) {\n    root._bokeh_onload_callbacks = [];\n    root._bokeh_is_loading = undefined;\n  }\n\nconst JS_MIME_TYPE = 'application/javascript';\n  const HTML_MIME_TYPE = 'text/html';\n  const EXEC_MIME_TYPE = 'application/vnd.bokehjs_exec.v0+json';\n  const CLASS_NAME = 'output_bokeh rendered_html';\n\n  /**\n   * Render data to the DOM node\n   */\n  function render(props, node) {\n    const script = document.createElement(\"script\");\n    node.appendChild(script);\n  }\n\n  /**\n   * Handle when an output is cleared or removed\n   */\n  function handleClearOutput(event, handle) {\n    function drop(id) {\n      const view = Bokeh.index.get_by_id(id)\n      if (view != null) {\n        view.model.document.clear()\n        Bokeh.index.delete(view)\n      }\n    }\n\n    const cell = handle.cell;\n\n    const id = cell.output_area._bokeh_element_id;\n    const server_id = cell.output_area._bokeh_server_id;\n\n    // Clean up Bokeh references\n    if (id != null) {\n      drop(id)\n    }\n\n    if (server_id !== undefined) {\n      // Clean up Bokeh references\n      const cmd_clean = \"from bokeh.io.state import curstate; print(curstate().uuid_to_server['\" + server_id + \"'].get_sessions()[0].document.roots[0]._id)\";\n      cell.notebook.kernel.execute(cmd_clean, {\n        iopub: {\n          output: function(msg) {\n            const id = msg.content.text.trim()\n            drop(id)\n          }\n        }\n      });\n      // Destroy server and session\n      const cmd_destroy = \"import bokeh.io.notebook as ion; ion.destroy_server('\" + server_id + \"')\";\n      cell.notebook.kernel.execute(cmd_destroy);\n    }\n  }\n\n  /**\n   * Handle when a new output is added\n   */\n  function handleAddOutput(event, handle) {\n    const output_area = handle.output_area;\n    const output = handle.output;\n\n    // limit handleAddOutput to display_data with EXEC_MIME_TYPE content only\n    if ((output.output_type != \"display_data\") || (!Object.prototype.hasOwnProperty.call(output.data, EXEC_MIME_TYPE))) {\n      return\n    }\n\n    const toinsert = output_area.element.find(\".\" + CLASS_NAME.split(' ')[0]);\n\n    if (output.metadata[EXEC_MIME_TYPE][\"id\"] !== undefined) {\n      toinsert[toinsert.length - 1].firstChild.textContent = output.data[JS_MIME_TYPE];\n      // store reference to embed id on output_area\n      output_area._bokeh_element_id = output.metadata[EXEC_MIME_TYPE][\"id\"];\n    }\n    if (output.metadata[EXEC_MIME_TYPE][\"server_id\"] !== undefined) {\n      const bk_div = document.createElement(\"div\");\n      bk_div.innerHTML = output.data[HTML_MIME_TYPE];\n      const script_attrs = bk_div.children[0].attributes;\n      for (let i = 0; i < script_attrs.length; i++) {\n        toinsert[toinsert.length - 1].firstChild.setAttribute(script_attrs[i].name, script_attrs[i].value);\n        toinsert[toinsert.length - 1].firstChild.textContent = bk_div.children[0].textContent\n      }\n      // store reference to server id on output_area\n      output_area._bokeh_server_id = output.metadata[EXEC_MIME_TYPE][\"server_id\"];\n    }\n  }\n\n  function register_renderer(events, OutputArea) {\n\n    function append_mime(data, metadata, element) {\n      // create a DOM node to render to\n      const toinsert = this.create_output_subarea(\n        metadata,\n        CLASS_NAME,\n        EXEC_MIME_TYPE\n      );\n      this.keyboard_manager.register_events(toinsert);\n      // Render to node\n      const props = {data: data, metadata: metadata[EXEC_MIME_TYPE]};\n      render(props, toinsert[toinsert.length - 1]);\n      element.append(toinsert);\n      return toinsert\n    }\n\n    /* Handle when an output is cleared or removed */\n    events.on('clear_output.CodeCell', handleClearOutput);\n    events.on('delete.Cell', handleClearOutput);\n\n    /* Handle when a new output is added */\n    events.on('output_added.OutputArea', handleAddOutput);\n\n    /**\n     * Register the mime type and append_mime function with output_area\n     */\n    OutputArea.prototype.register_mime_type(EXEC_MIME_TYPE, append_mime, {\n      /* Is output safe? */\n      safe: true,\n      /* Index of renderer in `output_area.display_order` */\n      index: 0\n    });\n  }\n\n  // register the mime type if in Jupyter Notebook environment and previously unregistered\n  if (root.Jupyter !== undefined) {\n    const events = require('base/js/events');\n    const OutputArea = require('notebook/js/outputarea').OutputArea;\n\n    if (OutputArea.prototype.mime_types().indexOf(EXEC_MIME_TYPE) == -1) {\n      register_renderer(events, OutputArea);\n    }\n  }\n  if (typeof (root._bokeh_timeout) === \"undefined\" || force === true) {\n    root._bokeh_timeout = Date.now() + 5000;\n    root._bokeh_failed_load = false;\n  }\n\n  const NB_LOAD_WARNING = {'data': {'text/html':\n     \"<div style='background-color: #fdd'>\\n\"+\n     \"<p>\\n\"+\n     \"BokehJS does not appear to have successfully loaded. If loading BokehJS from CDN, this \\n\"+\n     \"may be due to a slow or bad network connection. Possible fixes:\\n\"+\n     \"</p>\\n\"+\n     \"<ul>\\n\"+\n     \"<li>re-rerun `output_notebook()` to attempt to load from CDN again, or</li>\\n\"+\n     \"<li>use INLINE resources instead, as so:</li>\\n\"+\n     \"</ul>\\n\"+\n     \"<code>\\n\"+\n     \"from bokeh.resources import INLINE\\n\"+\n     \"output_notebook(resources=INLINE)\\n\"+\n     \"</code>\\n\"+\n     \"</div>\"}};\n\n  function display_loaded(error = null) {\n    const el = document.getElementById(\"c2b93da9-855b-4a39-a663-0f659868777d\");\n    if (el != null) {\n      const html = (() => {\n        if (typeof root.Bokeh === \"undefined\") {\n          if (error == null) {\n            return \"BokehJS is loading ...\";\n          } else {\n            return \"BokehJS failed to load.\";\n          }\n        } else {\n          const prefix = `BokehJS ${root.Bokeh.version}`;\n          if (error == null) {\n            return `${prefix} successfully loaded.`;\n          } else {\n            return `${prefix} <b>encountered errors</b> while loading and may not function as expected.`;\n          }\n        }\n      })();\n      el.innerHTML = html;\n\n      if (error != null) {\n        const wrapper = document.createElement(\"div\");\n        wrapper.style.overflow = \"auto\";\n        wrapper.style.height = \"5em\";\n        wrapper.style.resize = \"vertical\";\n        const content = document.createElement(\"div\");\n        content.style.fontFamily = \"monospace\";\n        content.style.whiteSpace = \"pre-wrap\";\n        content.style.backgroundColor = \"rgb(255, 221, 221)\";\n        content.textContent = error.stack ?? error.toString();\n        wrapper.append(content);\n        el.append(wrapper);\n      }\n    } else if (Date.now() < root._bokeh_timeout) {\n      setTimeout(() => display_loaded(error), 100);\n    }\n  }\n\n  function run_callbacks() {\n    try {\n      root._bokeh_onload_callbacks.forEach(function(callback) {\n        if (callback != null)\n          callback();\n      });\n    } finally {\n      delete root._bokeh_onload_callbacks\n    }\n    console.debug(\"Bokeh: all callbacks have finished\");\n  }\n\n  function load_libs(css_urls, js_urls, callback) {\n    if (css_urls == null) css_urls = [];\n    if (js_urls == null) js_urls = [];\n\n    root._bokeh_onload_callbacks.push(callback);\n    if (root._bokeh_is_loading > 0) {\n      console.debug(\"Bokeh: BokehJS is being loaded, scheduling callback at\", now());\n      return null;\n    }\n    if (js_urls == null || js_urls.length === 0) {\n      run_callbacks();\n      return null;\n    }\n    console.debug(\"Bokeh: BokehJS not loaded, scheduling load and callback at\", now());\n    root._bokeh_is_loading = css_urls.length + js_urls.length;\n\n    function on_load() {\n      root._bokeh_is_loading--;\n      if (root._bokeh_is_loading === 0) {\n        console.debug(\"Bokeh: all BokehJS libraries/stylesheets loaded\");\n        run_callbacks()\n      }\n    }\n\n    function on_error(url) {\n      console.error(\"failed to load \" + url);\n    }\n\n    for (let i = 0; i < css_urls.length; i++) {\n      const url = css_urls[i];\n      const element = document.createElement(\"link\");\n      element.onload = on_load;\n      element.onerror = on_error.bind(null, url);\n      element.rel = \"stylesheet\";\n      element.type = \"text/css\";\n      element.href = url;\n      console.debug(\"Bokeh: injecting link tag for BokehJS stylesheet: \", url);\n      document.body.appendChild(element);\n    }\n\n    for (let i = 0; i < js_urls.length; i++) {\n      const url = js_urls[i];\n      const element = document.createElement('script');\n      element.onload = on_load;\n      element.onerror = on_error.bind(null, url);\n      element.async = false;\n      element.src = url;\n      console.debug(\"Bokeh: injecting script tag for BokehJS library: \", url);\n      document.head.appendChild(element);\n    }\n  };\n\n  function inject_raw_css(css) {\n    const element = document.createElement(\"style\");\n    element.appendChild(document.createTextNode(css));\n    document.body.appendChild(element);\n  }\n\n  const js_urls = [\"https://cdn.bokeh.org/bokeh/release/bokeh-3.4.3.min.js\", \"https://cdn.bokeh.org/bokeh/release/bokeh-gl-3.4.3.min.js\", \"https://cdn.bokeh.org/bokeh/release/bokeh-widgets-3.4.3.min.js\", \"https://cdn.bokeh.org/bokeh/release/bokeh-tables-3.4.3.min.js\", \"https://cdn.bokeh.org/bokeh/release/bokeh-mathjax-3.4.3.min.js\"];\n  const css_urls = [];\n\n  const inline_js = [    function(Bokeh) {\n      Bokeh.set_log_level(\"info\");\n    },\nfunction(Bokeh) {\n    }\n  ];\n\n  function run_inline_js() {\n    if (root.Bokeh !== undefined || force === true) {\n      try {\n            for (let i = 0; i < inline_js.length; i++) {\n      inline_js[i].call(root, root.Bokeh);\n    }\n\n      } catch (error) {display_loaded(error);throw error;\n      }if (force === true) {\n        display_loaded();\n      }} else if (Date.now() < root._bokeh_timeout) {\n      setTimeout(run_inline_js, 100);\n    } else if (!root._bokeh_failed_load) {\n      console.log(\"Bokeh: BokehJS failed to load within specified timeout.\");\n      root._bokeh_failed_load = true;\n    } else if (force !== true) {\n      const cell = $(document.getElementById(\"c2b93da9-855b-4a39-a663-0f659868777d\")).parents('.cell').data().cell;\n      cell.output_area.append_execute_result(NB_LOAD_WARNING)\n    }\n  }\n\n  if (root._bokeh_is_loading === 0) {\n    console.debug(\"Bokeh: BokehJS loaded, going straight to plotting\");\n    run_inline_js();\n  } else {\n    load_libs(css_urls, js_urls, function() {\n      console.debug(\"Bokeh: BokehJS plotting callback run at\", now());\n      run_inline_js();\n    });\n  }\n}(window));",
      "application/vnd.bokehjs_load.v0+json": ""
     },
     "metadata": {},
     "output_type": "display_data"
    }
   ],
   "source": [
    "from __future__ import annotations\n",
    "\n",
    "from enum import Enum\n",
    "\n",
    "import pandas as pd\n",
    "import plotnine as p9\n",
    "from gentropy.common.session import Session\n",
    "from pyspark.sql import Column, Window\n",
    "from pyspark.sql import functions as f\n",
    "\n",
    "from manuscript_methods import OpenTargetsTheme, group_statistics\n",
    "from manuscript_methods.datasets import LeadVariantEffect\n"
   ]
  },
  {
   "cell_type": "code",
   "execution_count": 2,
   "id": "1b834ca4",
   "metadata": {},
   "outputs": [
    {
     "name": "stderr",
     "output_type": "stream",
     "text": [
      "Setting default log level to \"WARN\".\n",
      "To adjust logging level use sc.setLogLevel(newLevel). For SparkR, use setLogLevel(newLevel).\n",
      "25/07/03 10:19:57 WARN NativeCodeLoader: Unable to load native-hadoop library for your platform... using builtin-java classes where applicable\n",
      "25/07/03 10:19:58 WARN Utils: Service 'SparkUI' could not bind on port 4040. Attempting port 4041.\n",
      "25/07/03 10:19:58 WARN Utils: Service 'SparkUI' could not bind on port 4041. Attempting port 4042.\n",
      "25/07/03 10:19:58 WARN Utils: Service 'SparkUI' could not bind on port 4042. Attempting port 4043.\n"
     ]
    }
   ],
   "source": [
    "session = Session(extended_spark_conf={\"spark.driver.memory\": \"120G\"})\n",
    "dataset_path = \"../../data/epiraction_v1.6\"\n",
    "\n",
    "lead_variant_maf = \"../../data/lead_variant_effect_filtered\"\n",
    "\n",
    "so_terms_path = \"../../data/so_terms.tsv\"\n",
    "pd.set_option(\"display.max_colwidth\", None)\n"
   ]
  },
  {
   "cell_type": "code",
   "execution_count": 3,
   "id": "ac768506",
   "metadata": {},
   "outputs": [
    {
     "data": {
      "text/html": [
       "\n",
       "            <div>\n",
       "                <p><b>SparkSession - in-memory</b></p>\n",
       "                \n",
       "        <div>\n",
       "            <p><b>SparkContext</b></p>\n",
       "\n",
       "            <p><a href=\"http://mib117351s.internal.sanger.ac.uk:4043\">Spark UI</a></p>\n",
       "\n",
       "            <dl>\n",
       "              <dt>Version</dt>\n",
       "                <dd><code>v3.5.5</code></dd>\n",
       "              <dt>Master</dt>\n",
       "                <dd><code>local[*]</code></dd>\n",
       "              <dt>AppName</dt>\n",
       "                <dd><code>gentropy</code></dd>\n",
       "            </dl>\n",
       "        </div>\n",
       "        \n",
       "            </div>\n",
       "        "
      ],
      "text/plain": [
       "<pyspark.sql.session.SparkSession at 0x30d113e50>"
      ]
     },
     "execution_count": 3,
     "metadata": {},
     "output_type": "execute_result"
    }
   ],
   "source": [
    "session.spark\n"
   ]
  },
  {
   "cell_type": "code",
   "execution_count": 4,
   "id": "65cb7e05",
   "metadata": {},
   "outputs": [],
   "source": [
    "epirack = session.spark.read.parquet(dataset_path)\n",
    "lve = LeadVariantEffect.from_parquet(session=session, path=lead_variant_maf)\n",
    "so_terms = pd.read_csv(so_terms_path, sep=\"\\t\")\n"
   ]
  },
  {
   "cell_type": "markdown",
   "id": "3d795005",
   "metadata": {},
   "source": [
    "## Consequence classification\n",
    "\n",
    "We classify the consequences into 4 categories:\n",
    "\n",
    "- intergenic (upstream, downstream, and intergenic regions)\n",
    "- regulatory (LOW or MODIFIER impact, bound to regulatory regions)\n",
    "- intragenic (LOW or MODIFIER impact, rest)\n",
    "- protein_altering (HIGH and MODERATE impact)\n",
    "\n",
    "We need to merge the so_terms dataset, so the featureId contains the `SO_XXX` format rather then `SO:XXX` format.\n"
   ]
  },
  {
   "cell_type": "code",
   "execution_count": 5,
   "id": "f8b451d5",
   "metadata": {},
   "outputs": [],
   "source": [
    "# Change SO terms to the `SO_XXX` format\n",
    "so_terms[\"featureId\"] = so_terms[\"featureId\"].str.replace(\"SO:\", \"SO_\")\n"
   ]
  },
  {
   "cell_type": "code",
   "execution_count": 6,
   "id": "a115adab",
   "metadata": {},
   "outputs": [],
   "source": [
    "class IntergenicConsequence(str, Enum):\n",
    "    \"\"\"Enum for intergenic consequences.\"\"\"\n",
    "\n",
    "    UPSTREAM = \"upstream_gene_variant\"\n",
    "    DOWNSTREAM = \"downstream_gene_variant\"\n",
    "    INTERGENIC = \"intergenic_variant\"\n",
    "\n",
    "\n",
    "class RegulatoryConsequence(str, Enum):\n",
    "    \"\"\"Enum for regulatory consequences.\"\"\"\n",
    "\n",
    "    TFBS_ABLATION = \"TFBS_ablation\"\n",
    "    TFBS_AMPLIFICATION = \"TFBS_amplification\"\n",
    "    TF_BINDING_SITE_VARIANT = \"TF_binding_site_variant\"\n",
    "    REGULATORY_REGION_ABLATION = \"regulatory_region_ablation\"\n",
    "    REGULATORY_REGION_AMPLIFICATION = \"regulatory_region_amplification\"\n",
    "    REGULATORY_REGION_VARIANT = \"regulatory_region_variant\"\n",
    "\n",
    "\n",
    "class IntragenicConsequence(str, Enum):\n",
    "    \"\"\"Enum for intragenic consequences.\"\"\"\n",
    "\n",
    "    SPLICE_DONOR_5TH_BASE_VARIANT = \"splice_donor_5th_base_variant\"\n",
    "    SPLICE_REGION_VARIANT = \"splice_region_variant\"\n",
    "    SPLICE_DONOR_REGION_VARIANT = \"splice_donor_region_variant\"\n",
    "    SPLICE_POLYPYRIMIDINE_TRACT_VARIANT = \"splice_polypyrimidine_tract_variant\"\n",
    "    INCOMPLETE_TERMINAL_CODON_VARIANT = \"incomplete_terminal_codon_variant\"\n",
    "    START_RETAINED_VARIANT = \"start_retained_variant\"\n",
    "    STOP_RETAINED_VARIANT = \"stop_retained_variant\"\n",
    "    SYNONYMOUS_VARIANT = \"synonymous_variant\"\n",
    "    CODING_SEQUENCE_VARIANT = \"coding_sequence_variant\"\n",
    "    MATURE_MIRNA_VARIANT = \"mature_miRNA_variant\"\n",
    "    FIVE_PRIME_UTR_VARIANT = \"5_prime_UTR_variant\"\n",
    "    THREE_PRIME_UTR_VARIANT = \"3_prime_UTR_variant\"\n",
    "    NON_CODING_TRANSCRIPT_EXON_VARIANT = \"non_coding_transcript_exon_variant\"\n",
    "    INTRON_VARIANT = \"intron_variant\"\n",
    "    NMD_TRANSCRIPT_VARIANT = \"NMD_transcript_variant\"\n",
    "    NON_CODING_TRANSCRIPT_VARIANT = \"non_coding_transcript_variant\"\n",
    "    CODING_TRANSCRIPT_VARIANT = \"coding_transcript_variant\"\n",
    "\n",
    "\n",
    "class ProteinAlteringConsequence(str, Enum):\n",
    "    \"\"\"Enum for protein-altering consequences.\"\"\"\n",
    "\n",
    "    TRANSCRIPT_ABLATION = \"transcript_ablation\"\n",
    "    SPLICE_ACCEPTOR_VARIANT = \"splice_acceptor_variant\"\n",
    "    SPLICE_DONOR_VARIANT = \"splice_donor_variant\"\n",
    "    STOP_GAINED = \"stop_gained\"\n",
    "    FRAMESHIFT_VARIANT = \"frameshift_variant\"\n",
    "    STOP_LOST = \"stop_lost\"\n",
    "    START_LOST = \"start_lost\"\n",
    "    TRANSCRIPT_AMPLIFICATION = \"transcript_amplification\"\n",
    "    FEATURE_ELONGATION = \"feature_elongation\"\n",
    "    FEATURE_TRUNCATION = \"feature_truncation\"\n",
    "    INFRAME_INSERTION = \"inframe_insertion\"\n",
    "    INFRAME_DELETION = \"inframe_deletion\"\n",
    "    MISSENSE_VARIANT = \"missense_variant\"\n",
    "    PROTEIN_ALTERING_VARIANT = \"protein_altering_variant\"\n",
    "\n",
    "\n",
    "class ConsequenceCategory(str, Enum):\n",
    "    \"\"\"Enum for consequence categories.\"\"\"\n",
    "\n",
    "    INTERGENIC = \"intergenic\"\n",
    "    REGULATORY = \"regulatory\"\n",
    "    INTRAGENIC = \"intragenic\"\n",
    "    PROTEIN_ALTERING = \"protein_altering\"\n",
    "\n",
    "    @classmethod\n",
    "    def classify_so_terms(cls, so_terms: Column) -> Column:\n",
    "        \"\"\"Classify SO terms into consequence categories.\"\"\"\n",
    "        return (\n",
    "            f.when(so_terms.isin(*IntergenicConsequence.__members__.values()), f.lit(cls.INTERGENIC.value))\n",
    "            .when(so_terms.isin(*RegulatoryConsequence.__members__.values()), f.lit(cls.REGULATORY.value))\n",
    "            .when(so_terms.isin(*IntragenicConsequence.__members__.values()), f.lit(cls.INTRAGENIC.value))\n",
    "            .when(so_terms.isin(*ProteinAlteringConsequence.__members__.values()), f.lit(cls.PROTEIN_ALTERING.value))\n",
    "            .otherwise(None)\n",
    "        )\n"
   ]
  },
  {
   "cell_type": "markdown",
   "id": "e14d6e91",
   "metadata": {},
   "source": [
    "## Merging of LVE x Epiraction datasets\n",
    "\n",
    "In order to add the regulatory consequences from the Epiraction we need to merge the `LeadVariantEffect` dataset with the Epiraction dataset. The Epiraction dataset contains the regulatory consequences for interval regions.\n",
    "\n",
    "The Epiraction interval region is defined as\n",
    "| chromosome | start | end | intervalType |\n",
    "|------------|---------|---------|----------------|\n",
    "| chr1 | 128717 | 129517 | promoter |\n",
    "| chr1 | 138675 | 139325 | enhancer |\n",
    "| chr1 | 96475 | 96925 | enhancer |\n",
    "| chr1 | 103950 | 104600 | enhancer |\n",
    "\n",
    "Where the `intervalType` can be `promoter` or `enhancer`\n",
    "\n",
    "<div class=\"alert alert-block alert-info\"> \n",
    "<b> Epiraction interval offset </b>\n",
    "<br>\n",
    "    Epiraction intervals are 0-based (based on bed intervals), while the `LeadVariantEffect` dataset is 1-based. This means that we need to add 1 to the start and end positions of the Epiraction intervals when merging with the \n",
    "    `LeadVariantEffect` dataset.\n",
    "<br>\n",
    "<br>\n",
    "<img src=\"plots/0_vs_1_based.png\" width=\"500\"/>\n",
    "</div>\n",
    "\n",
    "The join to the `LeadVariantEffect` dataset is done using the positions to the lead variant.\n"
   ]
  },
  {
   "cell_type": "markdown",
   "id": "aa2c06d3",
   "metadata": {},
   "source": [
    "### Extract the relevant information from both datasets\n"
   ]
  },
  {
   "cell_type": "code",
   "execution_count": 7,
   "id": "bf423700",
   "metadata": {},
   "outputs": [],
   "source": [
    "def map_so_terms(so_term_col: Column, so_terms: pd.DataFrame) -> Column:\n",
    "    \"\"\"Map Sequence Ontology (SO) terms to their ids without joining.\"\"\"\n",
    "    expr = f.when(f.lit(False), None)\n",
    "    so_terms = so_terms[[\"featureId\", \"term\"]]\n",
    "    for v in so_terms.iterrows():\n",
    "        so_term = v[1][1]\n",
    "        so_id = v[1][0]\n",
    "        expr = expr.when(f.lit(so_id) == so_term_col, f.lit(so_term))\n",
    "\n",
    "    return expr\n"
   ]
  },
  {
   "cell_type": "code",
   "execution_count": 9,
   "id": "b25d307f",
   "metadata": {},
   "outputs": [
    {
     "name": "stderr",
     "output_type": "stream",
     "text": [
      "/var/folders/l7/4z91w2tj4wscfcpfjjy3s0mr0000gq/T/ipykernel_81332/2657062128.py:6: FutureWarning:\n",
      "\n",
      "Series.__getitem__ treating keys as positions is deprecated. In a future version, integer keys will always be treated as labels (consistent with DataFrame behavior). To access a value by position, use `ser.iloc[pos]`\n",
      "\n"
     ]
    }
   ],
   "source": [
    "# Prefilter lead variants\n",
    "lve_dataset = lve.df.select(\n",
    "    f.col(\"variantId\"),\n",
    "    f.col(\"variant.chromosome\").alias(\"chromosome\"),\n",
    "    f.col(\"variant.start\").alias(\"start\"),\n",
    "    f.col(\"variant.end\").alias(\"end\"),\n",
    "    f.col(\"leadVariantConsequence\").getField(\"mostSevereConsequence\").getField(\"type\").alias(\"variantPositionEffect\"),\n",
    "    f.col(\"leadVariantConsequence\")\n",
    "    .getField(\"mostSevereConsequence\")\n",
    "    .getField(\"transcriptConsequence\")\n",
    "    .getField(\"consequenceScore\")\n",
    "    .alias(\"consequenceScore\"),\n",
    "    f.col(\"leadVariantConsequence\")\n",
    "    .getField(\"mostSevereConsequence\")\n",
    "    .getField(\"transcriptConsequence\")\n",
    "    .getField(\"variantFunctionalConsequenceIds\")\n",
    "    .alias(\"consequenceIds\"),\n",
    "    f.col(\"studyStatistics\").getField(\"studyType\").alias(\"studyType\"),\n",
    "    f.col(\"majorLdPopulationMaf\").getField(\"value\").alias(\"MAF\"),\n",
    "    f.col(\"rescaledStatistics\").getField(\"estimatedBeta\").alias(\"estimatedBeta\"),\n",
    "    f.col(\"rescaledStatistics\").getField(\"estimatedSE\").alias(\"estimatedSE\"),\n",
    "    f.col(\"studyStatistics\").getField(\"traitClass\").alias(\"traitClass\"),\n",
    ").withColumn(\"consequenceOntologyTerms\", f.transform(f.col(\"consequenceIds\"), lambda x: map_so_terms(x, so_terms)))\n",
    "# Filter based on score distribution - see 05.0 notebook\n",
    "epirack_dataset = (\n",
    "    epirack.filter(f.col(\"score\") > 0.05)\n",
    "    .dropDuplicates([\"chromosome\", \"start\", \"end\", \"intervalType\"])\n",
    "    .select(\n",
    "        f.regexp_replace(f.col(\"chromosome\"), \"chr\", \"\").alias(\"chromosome\"),\n",
    "        (f.col(\"start\") + 1).alias(\"start\"),\n",
    "        (f.col(\"end\") + 1).alias(\"end\"),\n",
    "        \"intervalType\",\n",
    "    )\n",
    ")\n"
   ]
  },
  {
   "cell_type": "markdown",
   "id": "351918b3",
   "metadata": {},
   "source": [
    "### Save the datasets as tables partitioned by chromosome and sorted by position\n"
   ]
  },
  {
   "cell_type": "code",
   "execution_count": 13,
   "id": "bc88cd74",
   "metadata": {},
   "outputs": [
    {
     "name": "stderr",
     "output_type": "stream",
     "text": [
      "                                                                                \r"
     ]
    }
   ],
   "source": [
    "lve_dataset.write.mode(\"overwrite\").bucketBy(50, \"chromosome\").sortBy(\"start\").saveAsTable(\"lve_lead_variants\")\n",
    "epirack_dataset.write.mode(\"overwrite\").bucketBy(50, \"chromosome\").sortBy(\"start\").saveAsTable(\"epirack_intervals\")\n"
   ]
  },
  {
   "cell_type": "markdown",
   "id": "4efbaa5b",
   "metadata": {},
   "source": [
    "### Perform the join between the LeadVariantEffect and Epiraction datasets\n",
    "\n",
    "The join is left on lead_variant, so we keep all the lead variants and add the Epiraction information where available.\n",
    "\n",
    "The Epiraction intervals are added when the lead variant is within the Epiraction interval.\n"
   ]
  },
  {
   "cell_type": "code",
   "execution_count": 14,
   "id": "12699635",
   "metadata": {},
   "outputs": [],
   "source": [
    "lve_dataset_table = session.spark.table(\"lve_lead_variants\")\n",
    "epirack_dataset_table = session.spark.table(\"epirack_intervals\")\n",
    "\n",
    "nc_dataset = lve_dataset_table.join(\n",
    "    epirack_dataset_table,\n",
    "    on=(\n",
    "        (lve_dataset_table.chromosome == epirack_dataset_table.chromosome)\n",
    "        & (lve_dataset_table.start >= epirack_dataset_table.start)\n",
    "        & (lve_dataset_table.end < epirack_dataset_table.end)\n",
    "    ),\n",
    "    how=\"left\",\n",
    ").select(\n",
    "    lve_dataset_table.variantId,\n",
    "    lve_dataset_table.chromosome,\n",
    "    lve_dataset_table.start,\n",
    "    lve_dataset_table.end,\n",
    "    lve_dataset_table.variantPositionEffect,\n",
    "    lve_dataset_table.consequenceScore,\n",
    "    lve_dataset_table.consequenceOntologyTerms,\n",
    "    lve_dataset_table.studyType,\n",
    "    lve_dataset_table.MAF,\n",
    "    lve_dataset_table.estimatedBeta,\n",
    "    lve_dataset_table.estimatedSE,\n",
    "    lve_dataset_table.traitClass,\n",
    "    epirack_dataset_table.intervalType,\n",
    ")\n"
   ]
  },
  {
   "cell_type": "markdown",
   "id": "8ae9a8ea",
   "metadata": {},
   "source": [
    "### Save the dataset after joining\n"
   ]
  },
  {
   "cell_type": "code",
   "execution_count": 15,
   "id": "c5d40a1a",
   "metadata": {},
   "outputs": [
    {
     "name": "stderr",
     "output_type": "stream",
     "text": [
      "                                                                                \r"
     ]
    }
   ],
   "source": [
    "nc_dataset.write.mode(\"overwrite\").parquet(\"../../data/nc_dataset\")\n"
   ]
  },
  {
   "cell_type": "markdown",
   "id": "20c01ed8",
   "metadata": {},
   "source": [
    "## Unify the consequence terms with Epiraction interval types\n",
    "\n",
    "Before unification, we need to ensure that all the filtering is applied. We need two datasets:\n",
    "\n",
    "1. **Mean estimated effect size in consequence categories** (gwas_dataset). The analysis is done on\n",
    "\n",
    "   - the common variants (MAF >= 0.01)\n",
    "   - with absolute value of estimated effect size <= 3\n",
    "   - GWAS replicated credible sets (studyType == \"gwas\")\n",
    "   - traitClass == \"binary\"\n",
    "\n",
    "2. **Consequence categories fraction of all consequences across study types** (merged_dataset). The analysis is done on\n",
    "\n",
    "   - the common variants (MAF >= 0.01)\n",
    "   - with absolute value of estimated effect size <= 3\n",
    "   - replicated credible sets (studyType == \"gwas\", \"eqtl\", \"cis-pqtl\")\n",
    "\n",
    "After applying the specific filtering we need to unify the consequence terms with the Epiraction interval types. The unification is done by\n",
    "\n",
    "- maping the consequence terms to consequence categories\n",
    "- adding the Epiraction interval types to the consequence categories\n",
    "- deduplicating the consequence terms\n",
    "- removing the null entries (due to the left-join)\n",
    "- exploding the unified non-duplicated list of terms.\n",
    "\n",
    "At the end we remove the duplicates based on the variantId, consequence, and studyType.\n"
   ]
  },
  {
   "cell_type": "code",
   "execution_count": 16,
   "id": "9424bb15",
   "metadata": {},
   "outputs": [
    {
     "name": "stderr",
     "output_type": "stream",
     "text": [
      "                                                                                \r"
     ]
    },
    {
     "data": {
      "text/plain": [
       "8541"
      ]
     },
     "execution_count": 16,
     "metadata": {},
     "output_type": "execute_result"
    }
   ],
   "source": [
    "# Extract only GWAS\n",
    "gwas_dataset = (\n",
    "    (\n",
    "        nc_dataset.filter(f.col(\"studyType\").isin(\"gwas-disease\")).select(\n",
    "            \"variantId\",\n",
    "            \"intervalType\",\n",
    "            \"estimatedBeta\",\n",
    "            \"estimatedSE\",\n",
    "            \"studyType\",\n",
    "            \"consequenceOntologyTerms\",\n",
    "            \"MAF\",\n",
    "        )\n",
    "    )\n",
    "    .withColumn(\n",
    "        \"consequence\",\n",
    "        f.explode(\n",
    "            f.filter(\n",
    "                f.array_distinct(\n",
    "                    f.array_sort(\n",
    "                        f.array_append(\n",
    "                            f.transform(\n",
    "                                f.array_distinct(f.col(\"consequenceOntologyTerms\")),\n",
    "                                lambda x: ConsequenceCategory.classify_so_terms(x),\n",
    "                            ),\n",
    "                            f.col(\"intervalType\"),\n",
    "                        )\n",
    "                    )\n",
    "                ),\n",
    "                lambda x: x.isNotNull(),\n",
    "            )\n",
    "        ),\n",
    "    )\n",
    "    .drop_duplicates([\"variantId\", \"consequence\", \"studyType\"])\n",
    "    .cache()\n",
    ")\n",
    "gwas_dataset.count()\n"
   ]
  },
  {
   "cell_type": "code",
   "execution_count": 17,
   "id": "201d79c9",
   "metadata": {},
   "outputs": [
    {
     "name": "stderr",
     "output_type": "stream",
     "text": [
      "                                                                                \r"
     ]
    },
    {
     "data": {
      "text/plain": [
       "297320"
      ]
     },
     "execution_count": 17,
     "metadata": {},
     "output_type": "execute_result"
    }
   ],
   "source": [
    "# Extract merged dataset\n",
    "merged_dataset = (\n",
    "    (\n",
    "        nc_dataset.select(\n",
    "            \"variantId\",\n",
    "            \"intervalType\",\n",
    "            \"estimatedBeta\",\n",
    "            \"estimatedSE\",\n",
    "            \"studyType\",\n",
    "            \"consequenceOntologyTerms\",\n",
    "            \"MAF\",\n",
    "        )\n",
    "    )\n",
    "    .withColumn(\n",
    "        \"consequence\",\n",
    "        f.explode(\n",
    "            f.filter(\n",
    "                f.array_distinct(\n",
    "                    f.array_sort(\n",
    "                        f.array_append(\n",
    "                            f.transform(\n",
    "                                f.array_distinct(f.col(\"consequenceOntologyTerms\")),\n",
    "                                lambda x: ConsequenceCategory.classify_so_terms(x),\n",
    "                            ),\n",
    "                            f.col(\"intervalType\"),\n",
    "                        )\n",
    "                    )\n",
    "                ),\n",
    "                lambda x: x.isNotNull(),\n",
    "            )\n",
    "        ),\n",
    "    )\n",
    "    .drop_duplicates([\"variantId\", \"consequence\", \"studyType\"])\n",
    "    .cache()\n",
    ")\n",
    "merged_dataset.count()\n"
   ]
  },
  {
   "cell_type": "markdown",
   "id": "0a7dbb20",
   "metadata": {},
   "source": [
    "## Mean estimated effect size in consequence categories\n",
    "\n",
    "The analysis is made to see the difference between the mean estimated effect size in different consequence categories within the GWAS replicated binary credible sets.\n"
   ]
  },
  {
   "cell_type": "code",
   "execution_count": 18,
   "id": "773f8222",
   "metadata": {},
   "outputs": [
    {
     "name": "stderr",
     "output_type": "stream",
     "text": [
      "[Stage 45:===================================================>  (190 + 8) / 200]\r"
     ]
    },
    {
     "name": "stdout",
     "output_type": "stream",
     "text": [
      "+----------------+-----+-----+------------------+\n",
      "|     consequence|count|    %|        percentage|\n",
      "+----------------+-----+-----+------------------+\n",
      "|      intragenic| 5139|60.17|60.168598524762906|\n",
      "|      intergenic| 1919|22.47|  22.4680950708348|\n",
      "|        enhancer|  922|10.79|10.794988877180659|\n",
      "|protein_altering|  375| 4.39| 4.390586582367404|\n",
      "|        promoter|  186| 2.18|2.1777309448542326|\n",
      "+----------------+-----+-----+------------------+\n",
      "\n"
     ]
    },
    {
     "name": "stderr",
     "output_type": "stream",
     "text": [
      "                                                                                \r"
     ]
    }
   ],
   "source": [
    "group_statistics(gwas_dataset, [f.col(\"consequence\")]).show()\n"
   ]
  },
  {
   "cell_type": "markdown",
   "id": "b4862d73",
   "metadata": {},
   "source": [
    "### Aggregate the estimated effect sizes\n",
    "\n",
    "The aggregation is done by the consequence and studyType\n"
   ]
  },
  {
   "cell_type": "code",
   "execution_count": 19,
   "id": "f2fbc737",
   "metadata": {},
   "outputs": [
    {
     "name": "stderr",
     "output_type": "stream",
     "text": [
      "                                                                                \r"
     ]
    },
    {
     "data": {
      "text/html": [
       "<div>\n",
       "<style scoped>\n",
       "    .dataframe tbody tr th:only-of-type {\n",
       "        vertical-align: middle;\n",
       "    }\n",
       "\n",
       "    .dataframe tbody tr th {\n",
       "        vertical-align: top;\n",
       "    }\n",
       "\n",
       "    .dataframe thead th {\n",
       "        text-align: right;\n",
       "    }\n",
       "</style>\n",
       "<table border=\"1\" class=\"dataframe\">\n",
       "  <thead>\n",
       "    <tr style=\"text-align: right;\">\n",
       "      <th></th>\n",
       "      <th>consequence</th>\n",
       "      <th>studyType</th>\n",
       "      <th>meanAbsEstimatedBeta</th>\n",
       "      <th>stddevAbsEstimatedBeta</th>\n",
       "      <th>variantCount</th>\n",
       "      <th>label</th>\n",
       "    </tr>\n",
       "  </thead>\n",
       "  <tbody>\n",
       "    <tr>\n",
       "      <th>0</th>\n",
       "      <td>protein_altering</td>\n",
       "      <td>gwas-disease</td>\n",
       "      <td>0.286831</td>\n",
       "      <td>0.379792</td>\n",
       "      <td>375</td>\n",
       "      <td>protein_altering / N=375 / β̂=0.287±0.38</td>\n",
       "    </tr>\n",
       "    <tr>\n",
       "      <th>1</th>\n",
       "      <td>intergenic</td>\n",
       "      <td>gwas-disease</td>\n",
       "      <td>0.141308</td>\n",
       "      <td>0.187531</td>\n",
       "      <td>1919</td>\n",
       "      <td>intergenic / N=1919 / β̂=0.141±0.188</td>\n",
       "    </tr>\n",
       "    <tr>\n",
       "      <th>2</th>\n",
       "      <td>enhancer</td>\n",
       "      <td>gwas-disease</td>\n",
       "      <td>0.144568</td>\n",
       "      <td>0.193418</td>\n",
       "      <td>922</td>\n",
       "      <td>enhancer / N=922 / β̂=0.145±0.193</td>\n",
       "    </tr>\n",
       "    <tr>\n",
       "      <th>3</th>\n",
       "      <td>promoter</td>\n",
       "      <td>gwas-disease</td>\n",
       "      <td>0.149701</td>\n",
       "      <td>0.218906</td>\n",
       "      <td>186</td>\n",
       "      <td>promoter / N=186 / β̂=0.15±0.219</td>\n",
       "    </tr>\n",
       "    <tr>\n",
       "      <th>4</th>\n",
       "      <td>intragenic</td>\n",
       "      <td>gwas-disease</td>\n",
       "      <td>0.142059</td>\n",
       "      <td>0.191625</td>\n",
       "      <td>5139</td>\n",
       "      <td>intragenic / N=5139 / β̂=0.142±0.192</td>\n",
       "    </tr>\n",
       "  </tbody>\n",
       "</table>\n",
       "</div>"
      ],
      "text/plain": [
       "        consequence     studyType  meanAbsEstimatedBeta  \\\n",
       "0  protein_altering  gwas-disease              0.286831   \n",
       "1        intergenic  gwas-disease              0.141308   \n",
       "2          enhancer  gwas-disease              0.144568   \n",
       "3          promoter  gwas-disease              0.149701   \n",
       "4        intragenic  gwas-disease              0.142059   \n",
       "\n",
       "   stddevAbsEstimatedBeta  variantCount  \\\n",
       "0                0.379792           375   \n",
       "1                0.187531          1919   \n",
       "2                0.193418           922   \n",
       "3                0.218906           186   \n",
       "4                0.191625          5139   \n",
       "\n",
       "                                      label  \n",
       "0  protein_altering / N=375 / β̂=0.287±0.38  \n",
       "1      intergenic / N=1919 / β̂=0.141±0.188  \n",
       "2         enhancer / N=922 / β̂=0.145±0.193  \n",
       "3          promoter / N=186 / β̂=0.15±0.219  \n",
       "4      intragenic / N=5139 / β̂=0.142±0.192  "
      ]
     },
     "execution_count": 19,
     "metadata": {},
     "output_type": "execute_result"
    }
   ],
   "source": [
    "beta = \"\\u03b2\"\n",
    "hat = \"\\u0302\"\n",
    "plus_minus = \"\\u00b1\"\n",
    "\n",
    "\n",
    "data = (\n",
    "    gwas_dataset.groupBy(\"consequence\", \"studyType\")\n",
    "    .agg(\n",
    "        f.mean(f.abs(\"estimatedBeta\")).alias(\"meanAbsEstimatedBeta\"),\n",
    "        f.stddev(f.abs(\"estimatedBeta\")).alias(\"stddevAbsEstimatedBeta\"),\n",
    "        f.count(f.col(\"variantId\")).alias(\"variantCount\"),\n",
    "    )\n",
    "    .withColumn(\n",
    "        \"label\",\n",
    "        f.concat_ws(\n",
    "            \" / \",\n",
    "            \"consequence\",\n",
    "            f.concat_ws(\"=\", f.lit(\"N\"), \"variantCount\"),\n",
    "            f.concat_ws(\n",
    "                plus_minus,\n",
    "                f.concat_ws(\"=\", f.lit(beta + hat), f.round(\"meanAbsEstimatedBeta\", 3)),\n",
    "                f.round(\"stddevAbsEstimatedBeta\", 3),\n",
    "            ),\n",
    "        ),\n",
    "    )\n",
    "    .toPandas()\n",
    ")\n",
    "data\n"
   ]
  },
  {
   "cell_type": "code",
   "execution_count": 20,
   "id": "588101cb",
   "metadata": {},
   "outputs": [
    {
     "data": {
      "image/png": "[encoded data removed]",
      "text/plain": [
       "<Figure size 600x400 with 1 Axes>"
      ]
     },
     "metadata": {
      "image/png": {
       "height": 400,
       "width": 600
      }
     },
     "output_type": "display_data"
    },
    {
     "data": {
      "text/plain": [
       "<Figure Size: (600 x 400)>"
      ]
     },
     "execution_count": 20,
     "metadata": {},
     "output_type": "execute_result"
    }
   ],
   "source": [
    "plot = (\n",
    "    p9.ggplot(data)\n",
    "    + p9.geom_point(p9.aes(x=\"reorder(label, variantCount)\", y=\"meanAbsEstimatedBeta\"), fill=\"#DBEAF6\")\n",
    "    + OpenTargetsTheme.theme\n",
    "    + p9.theme(figure_size=(10, 6))\n",
    "    # move the y-axis label to the bottom\n",
    "    + p9.theme(axis_text_y=p9.element_text(rotation=0))\n",
    "    + p9.geom_errorbar(\n",
    "        p9.aes(\n",
    "            x=\"label\",\n",
    "            ymin=\"meanAbsEstimatedBeta - stddevAbsEstimatedBeta\",\n",
    "            ymax=\"meanAbsEstimatedBeta + stddevAbsEstimatedBeta\",\n",
    "        ),\n",
    "        width=0.2,\n",
    "        position=p9.position_dodge(width=0.9),\n",
    "    )\n",
    "    + p9.labs(x=\"\", y=r\"$mean(|\\hat{\\beta}_{\\mathrm{rescaled}}|)$\")\n",
    "    + p9.theme(legend_position=\"none\", figure_size=(6, 4))  # Remove the legend\n",
    "    # Remove the color scale from legend\n",
    "    + p9.geom_hline(p9.aes(yintercept=0), linetype=\"dashed\", color=\"red\", size=0.5)\n",
    "    + p9.coord_flip()\n",
    ")\n",
    "plot\n"
   ]
  },
  {
   "cell_type": "markdown",
   "id": "2bea5ad0",
   "metadata": {},
   "source": [
    "## Mean estimated effect size in consequence categories x study Type\n",
    "\n",
    "This analysis is done to see the difference between the mean estimated effect size in different consequence categories across the study types.\n"
   ]
  },
  {
   "cell_type": "code",
   "execution_count": 21,
   "id": "de7ab7cd",
   "metadata": {},
   "outputs": [
    {
     "name": "stderr",
     "output_type": "stream",
     "text": [
      "                                                                                \r"
     ]
    },
    {
     "data": {
      "text/html": [
       "<div>\n",
       "<style scoped>\n",
       "    .dataframe tbody tr th:only-of-type {\n",
       "        vertical-align: middle;\n",
       "    }\n",
       "\n",
       "    .dataframe tbody tr th {\n",
       "        vertical-align: top;\n",
       "    }\n",
       "\n",
       "    .dataframe thead th {\n",
       "        text-align: right;\n",
       "    }\n",
       "</style>\n",
       "<table border=\"1\" class=\"dataframe\">\n",
       "  <thead>\n",
       "    <tr style=\"text-align: right;\">\n",
       "      <th></th>\n",
       "      <th>pointLabel</th>\n",
       "      <th>pointLabelPosition</th>\n",
       "      <th>fillLabel</th>\n",
       "      <th>percentage</th>\n",
       "      <th>consequence</th>\n",
       "      <th>studyType</th>\n",
       "      <th>totalCountPerStudyTypeAndConsequence</th>\n",
       "      <th>totalCountPerStudyType</th>\n",
       "      <th>totalCountPerConsequence</th>\n",
       "      <th>cumulativeSum</th>\n",
       "      <th>label_to_show</th>\n",
       "    </tr>\n",
       "  </thead>\n",
       "  <tbody>\n",
       "    <tr>\n",
       "      <th>11</th>\n",
       "      <td>51.39%</td>\n",
       "      <td>0.256930</td>\n",
       "      <td>intragenic / 188022</td>\n",
       "      <td>0.513859</td>\n",
       "      <td>intragenic</td>\n",
       "      <td>cis-pqtl</td>\n",
       "      <td>1205</td>\n",
       "      <td>2345</td>\n",
       "      <td>188022</td>\n",
       "      <td>0.513859</td>\n",
       "      <td>51.39%</td>\n",
       "    </tr>\n",
       "    <tr>\n",
       "      <th>14</th>\n",
       "      <td>16.50%</td>\n",
       "      <td>0.596375</td>\n",
       "      <td>intergenic / 60143</td>\n",
       "      <td>0.165032</td>\n",
       "      <td>intergenic</td>\n",
       "      <td>cis-pqtl</td>\n",
       "      <td>387</td>\n",
       "      <td>2345</td>\n",
       "      <td>60143</td>\n",
       "      <td>0.678891</td>\n",
       "      <td>16.50%</td>\n",
       "    </tr>\n",
       "    <tr>\n",
       "      <th>16</th>\n",
       "      <td>13.82%</td>\n",
       "      <td>0.747974</td>\n",
       "      <td>enhancer / 33150</td>\n",
       "      <td>0.138166</td>\n",
       "      <td>enhancer</td>\n",
       "      <td>cis-pqtl</td>\n",
       "      <td>324</td>\n",
       "      <td>2345</td>\n",
       "      <td>33150</td>\n",
       "      <td>0.817058</td>\n",
       "      <td>13.82%</td>\n",
       "    </tr>\n",
       "    <tr>\n",
       "      <th>18</th>\n",
       "      <td>8.61%</td>\n",
       "      <td>0.860128</td>\n",
       "      <td>promoter / 10765</td>\n",
       "      <td>0.086141</td>\n",
       "      <td>promoter</td>\n",
       "      <td>cis-pqtl</td>\n",
       "      <td>202</td>\n",
       "      <td>2345</td>\n",
       "      <td>10765</td>\n",
       "      <td>0.903198</td>\n",
       "      <td>8.61%</td>\n",
       "    </tr>\n",
       "    <tr>\n",
       "      <th>17</th>\n",
       "      <td>9.68%</td>\n",
       "      <td>0.951599</td>\n",
       "      <td>protein_altering / 5240</td>\n",
       "      <td>0.096802</td>\n",
       "      <td>protein_altering</td>\n",
       "      <td>cis-pqtl</td>\n",
       "      <td>227</td>\n",
       "      <td>2345</td>\n",
       "      <td>5240</td>\n",
       "      <td>1.000000</td>\n",
       "      <td>9.68%</td>\n",
       "    </tr>\n",
       "    <tr>\n",
       "      <th>0</th>\n",
       "      <td>63.97%</td>\n",
       "      <td>0.319827</td>\n",
       "      <td>intragenic / 188022</td>\n",
       "      <td>0.639654</td>\n",
       "      <td>intragenic</td>\n",
       "      <td>eqtl</td>\n",
       "      <td>158370</td>\n",
       "      <td>247587</td>\n",
       "      <td>188022</td>\n",
       "      <td>0.639654</td>\n",
       "      <td>63.97%</td>\n",
       "    </tr>\n",
       "    <tr>\n",
       "      <th>1</th>\n",
       "      <td>19.72%</td>\n",
       "      <td>0.738233</td>\n",
       "      <td>intergenic / 60143</td>\n",
       "      <td>0.197159</td>\n",
       "      <td>intergenic</td>\n",
       "      <td>eqtl</td>\n",
       "      <td>48814</td>\n",
       "      <td>247587</td>\n",
       "      <td>60143</td>\n",
       "      <td>0.836813</td>\n",
       "      <td>19.72%</td>\n",
       "    </tr>\n",
       "    <tr>\n",
       "      <th>2</th>\n",
       "      <td>11.22%</td>\n",
       "      <td>0.892896</td>\n",
       "      <td>enhancer / 33150</td>\n",
       "      <td>0.112167</td>\n",
       "      <td>enhancer</td>\n",
       "      <td>eqtl</td>\n",
       "      <td>27771</td>\n",
       "      <td>247587</td>\n",
       "      <td>33150</td>\n",
       "      <td>0.948980</td>\n",
       "      <td>11.22%</td>\n",
       "    </tr>\n",
       "    <tr>\n",
       "      <th>4</th>\n",
       "      <td>3.85%</td>\n",
       "      <td>0.968231</td>\n",
       "      <td>promoter / 10765</td>\n",
       "      <td>0.038504</td>\n",
       "      <td>promoter</td>\n",
       "      <td>eqtl</td>\n",
       "      <td>9533</td>\n",
       "      <td>247587</td>\n",
       "      <td>10765</td>\n",
       "      <td>0.987483</td>\n",
       "      <td></td>\n",
       "    </tr>\n",
       "    <tr>\n",
       "      <th>8</th>\n",
       "      <td>1.25%</td>\n",
       "      <td>0.993742</td>\n",
       "      <td>protein_altering / 5240</td>\n",
       "      <td>0.012517</td>\n",
       "      <td>protein_altering</td>\n",
       "      <td>eqtl</td>\n",
       "      <td>3099</td>\n",
       "      <td>247587</td>\n",
       "      <td>5240</td>\n",
       "      <td>1.000000</td>\n",
       "      <td></td>\n",
       "    </tr>\n",
       "    <tr>\n",
       "      <th>6</th>\n",
       "      <td>60.17%</td>\n",
       "      <td>0.300843</td>\n",
       "      <td>intragenic / 188022</td>\n",
       "      <td>0.601686</td>\n",
       "      <td>intragenic</td>\n",
       "      <td>gwas-disease</td>\n",
       "      <td>5139</td>\n",
       "      <td>8541</td>\n",
       "      <td>188022</td>\n",
       "      <td>0.601686</td>\n",
       "      <td>60.17%</td>\n",
       "    </tr>\n",
       "    <tr>\n",
       "      <th>9</th>\n",
       "      <td>22.47%</td>\n",
       "      <td>0.714026</td>\n",
       "      <td>intergenic / 60143</td>\n",
       "      <td>0.224681</td>\n",
       "      <td>intergenic</td>\n",
       "      <td>gwas-disease</td>\n",
       "      <td>1919</td>\n",
       "      <td>8541</td>\n",
       "      <td>60143</td>\n",
       "      <td>0.826367</td>\n",
       "      <td>22.47%</td>\n",
       "    </tr>\n",
       "    <tr>\n",
       "      <th>12</th>\n",
       "      <td>10.79%</td>\n",
       "      <td>0.880342</td>\n",
       "      <td>enhancer / 33150</td>\n",
       "      <td>0.107950</td>\n",
       "      <td>enhancer</td>\n",
       "      <td>gwas-disease</td>\n",
       "      <td>922</td>\n",
       "      <td>8541</td>\n",
       "      <td>33150</td>\n",
       "      <td>0.934317</td>\n",
       "      <td>10.79%</td>\n",
       "    </tr>\n",
       "    <tr>\n",
       "      <th>19</th>\n",
       "      <td>2.18%</td>\n",
       "      <td>0.945205</td>\n",
       "      <td>promoter / 10765</td>\n",
       "      <td>0.021777</td>\n",
       "      <td>promoter</td>\n",
       "      <td>gwas-disease</td>\n",
       "      <td>186</td>\n",
       "      <td>8541</td>\n",
       "      <td>10765</td>\n",
       "      <td>0.956094</td>\n",
       "      <td></td>\n",
       "    </tr>\n",
       "    <tr>\n",
       "      <th>15</th>\n",
       "      <td>4.39%</td>\n",
       "      <td>0.978047</td>\n",
       "      <td>protein_altering / 5240</td>\n",
       "      <td>0.043906</td>\n",
       "      <td>protein_altering</td>\n",
       "      <td>gwas-disease</td>\n",
       "      <td>375</td>\n",
       "      <td>8541</td>\n",
       "      <td>5240</td>\n",
       "      <td>1.000000</td>\n",
       "      <td></td>\n",
       "    </tr>\n",
       "    <tr>\n",
       "      <th>3</th>\n",
       "      <td>60.00%</td>\n",
       "      <td>0.299997</td>\n",
       "      <td>intragenic / 188022</td>\n",
       "      <td>0.599995</td>\n",
       "      <td>intragenic</td>\n",
       "      <td>gwas-measurement</td>\n",
       "      <td>23308</td>\n",
       "      <td>38847</td>\n",
       "      <td>188022</td>\n",
       "      <td>0.599995</td>\n",
       "      <td>60.00%</td>\n",
       "    </tr>\n",
       "    <tr>\n",
       "      <th>5</th>\n",
       "      <td>23.23%</td>\n",
       "      <td>0.716130</td>\n",
       "      <td>intergenic / 60143</td>\n",
       "      <td>0.232270</td>\n",
       "      <td>intergenic</td>\n",
       "      <td>gwas-measurement</td>\n",
       "      <td>9023</td>\n",
       "      <td>38847</td>\n",
       "      <td>60143</td>\n",
       "      <td>0.832265</td>\n",
       "      <td>23.23%</td>\n",
       "    </tr>\n",
       "    <tr>\n",
       "      <th>7</th>\n",
       "      <td>10.64%</td>\n",
       "      <td>0.885461</td>\n",
       "      <td>enhancer / 33150</td>\n",
       "      <td>0.106392</td>\n",
       "      <td>enhancer</td>\n",
       "      <td>gwas-measurement</td>\n",
       "      <td>4133</td>\n",
       "      <td>38847</td>\n",
       "      <td>33150</td>\n",
       "      <td>0.938657</td>\n",
       "      <td>10.64%</td>\n",
       "    </tr>\n",
       "    <tr>\n",
       "      <th>13</th>\n",
       "      <td>2.17%</td>\n",
       "      <td>0.949520</td>\n",
       "      <td>promoter / 10765</td>\n",
       "      <td>0.021726</td>\n",
       "      <td>promoter</td>\n",
       "      <td>gwas-measurement</td>\n",
       "      <td>844</td>\n",
       "      <td>38847</td>\n",
       "      <td>10765</td>\n",
       "      <td>0.960383</td>\n",
       "      <td></td>\n",
       "    </tr>\n",
       "    <tr>\n",
       "      <th>10</th>\n",
       "      <td>3.96%</td>\n",
       "      <td>0.980192</td>\n",
       "      <td>protein_altering / 5240</td>\n",
       "      <td>0.039617</td>\n",
       "      <td>protein_altering</td>\n",
       "      <td>gwas-measurement</td>\n",
       "      <td>1539</td>\n",
       "      <td>38847</td>\n",
       "      <td>5240</td>\n",
       "      <td>1.000000</td>\n",
       "      <td></td>\n",
       "    </tr>\n",
       "  </tbody>\n",
       "</table>\n",
       "</div>"
      ],
      "text/plain": [
       "   pointLabel  pointLabelPosition                fillLabel  percentage  \\\n",
       "11     51.39%            0.256930      intragenic / 188022    0.513859   \n",
       "14     16.50%            0.596375       intergenic / 60143    0.165032   \n",
       "16     13.82%            0.747974         enhancer / 33150    0.138166   \n",
       "18      8.61%            0.860128         promoter / 10765    0.086141   \n",
       "17      9.68%            0.951599  protein_altering / 5240    0.096802   \n",
       "0      63.97%            0.319827      intragenic / 188022    0.639654   \n",
       "1      19.72%            0.738233       intergenic / 60143    0.197159   \n",
       "2      11.22%            0.892896         enhancer / 33150    0.112167   \n",
       "4       3.85%            0.968231         promoter / 10765    0.038504   \n",
       "8       1.25%            0.993742  protein_altering / 5240    0.012517   \n",
       "6      60.17%            0.300843      intragenic / 188022    0.601686   \n",
       "9      22.47%            0.714026       intergenic / 60143    0.224681   \n",
       "12     10.79%            0.880342         enhancer / 33150    0.107950   \n",
       "19      2.18%            0.945205         promoter / 10765    0.021777   \n",
       "15      4.39%            0.978047  protein_altering / 5240    0.043906   \n",
       "3      60.00%            0.299997      intragenic / 188022    0.599995   \n",
       "5      23.23%            0.716130       intergenic / 60143    0.232270   \n",
       "7      10.64%            0.885461         enhancer / 33150    0.106392   \n",
       "13      2.17%            0.949520         promoter / 10765    0.021726   \n",
       "10      3.96%            0.980192  protein_altering / 5240    0.039617   \n",
       "\n",
       "         consequence         studyType  totalCountPerStudyTypeAndConsequence  \\\n",
       "11        intragenic          cis-pqtl                                  1205   \n",
       "14        intergenic          cis-pqtl                                   387   \n",
       "16          enhancer          cis-pqtl                                   324   \n",
       "18          promoter          cis-pqtl                                   202   \n",
       "17  protein_altering          cis-pqtl                                   227   \n",
       "0         intragenic              eqtl                                158370   \n",
       "1         intergenic              eqtl                                 48814   \n",
       "2           enhancer              eqtl                                 27771   \n",
       "4           promoter              eqtl                                  9533   \n",
       "8   protein_altering              eqtl                                  3099   \n",
       "6         intragenic      gwas-disease                                  5139   \n",
       "9         intergenic      gwas-disease                                  1919   \n",
       "12          enhancer      gwas-disease                                   922   \n",
       "19          promoter      gwas-disease                                   186   \n",
       "15  protein_altering      gwas-disease                                   375   \n",
       "3         intragenic  gwas-measurement                                 23308   \n",
       "5         intergenic  gwas-measurement                                  9023   \n",
       "7           enhancer  gwas-measurement                                  4133   \n",
       "13          promoter  gwas-measurement                                   844   \n",
       "10  protein_altering  gwas-measurement                                  1539   \n",
       "\n",
       "    totalCountPerStudyType  totalCountPerConsequence  cumulativeSum  \\\n",
       "11                    2345                    188022       0.513859   \n",
       "14                    2345                     60143       0.678891   \n",
       "16                    2345                     33150       0.817058   \n",
       "18                    2345                     10765       0.903198   \n",
       "17                    2345                      5240       1.000000   \n",
       "0                   247587                    188022       0.639654   \n",
       "1                   247587                     60143       0.836813   \n",
       "2                   247587                     33150       0.948980   \n",
       "4                   247587                     10765       0.987483   \n",
       "8                   247587                      5240       1.000000   \n",
       "6                     8541                    188022       0.601686   \n",
       "9                     8541                     60143       0.826367   \n",
       "12                    8541                     33150       0.934317   \n",
       "19                    8541                     10765       0.956094   \n",
       "15                    8541                      5240       1.000000   \n",
       "3                    38847                    188022       0.599995   \n",
       "5                    38847                     60143       0.832265   \n",
       "7                    38847                     33150       0.938657   \n",
       "13                   38847                     10765       0.960383   \n",
       "10                   38847                      5240       1.000000   \n",
       "\n",
       "   label_to_show  \n",
       "11        51.39%  \n",
       "14        16.50%  \n",
       "16        13.82%  \n",
       "18         8.61%  \n",
       "17         9.68%  \n",
       "0         63.97%  \n",
       "1         19.72%  \n",
       "2         11.22%  \n",
       "4                 \n",
       "8                 \n",
       "6         60.17%  \n",
       "9         22.47%  \n",
       "12        10.79%  \n",
       "19                \n",
       "15                \n",
       "3         60.00%  \n",
       "5         23.23%  \n",
       "7         10.64%  \n",
       "13                \n",
       "10                "
      ]
     },
     "execution_count": 21,
     "metadata": {},
     "output_type": "execute_result"
    }
   ],
   "source": [
    "data2 = (\n",
    "    merged_dataset.withColumn(\n",
    "        \"totalCountPerStudyType\", f.count(f.col(\"variantId\")).over(Window.partitionBy(\"studyType\"))\n",
    "    )\n",
    "    .withColumn(\n",
    "        \"totalCountPerStudyTypeAndConsequence\",\n",
    "        f.count(f.col(\"variantId\")).over(Window.partitionBy(\"studyType\", \"consequence\")),\n",
    "    )\n",
    "    .withColumn(\"totalCountPerConsequence\", f.count(f.col(\"variantId\")).over(Window.partitionBy(\"consequence\")))\n",
    "    .withColumn(\"percentage\", f.col(\"totalCountPerStudyTypeAndConsequence\") / f.col(\"totalCountPerStudyType\"))\n",
    "    .drop_duplicates([\"consequence\", \"studyType\", \"totalCountPerStudyTypeAndConsequence\", \"totalCountPerStudyType\"])\n",
    "    .withColumn(\n",
    "        \"cumulativeSum\",\n",
    "        f.sum(f.col(\"percentage\")).over(Window.partitionBy(\"studyType\").orderBy(f.desc(\"totalCountPerConsequence\"))),\n",
    "    )\n",
    "    .withColumn(\"pointLabel\", f.concat_ws(\"\", f.format_number(f.col(\"percentage\") * 100, 2), f.lit(\"%\")))\n",
    "    .withColumn(\"pointLabelPosition\", f.col(\"cumulativeSum\") - (f.col(\"percentage\") / 2))\n",
    "    .withColumn(\"fillLabel\", f.concat_ws(\" / \", \"consequence\", \"totalCountPerConsequence\"))\n",
    "    .select(\n",
    "        \"pointLabel\",\n",
    "        \"pointLabelPosition\",\n",
    "        \"fillLabel\",\n",
    "        \"percentage\",\n",
    "        \"consequence\",\n",
    "        \"studyType\",\n",
    "        \"totalCountPerStudyTypeAndConsequence\",\n",
    "        \"totalCountPerStudyType\",\n",
    "        \"totalCountPerConsequence\",\n",
    "        \"cumulativeSum\",\n",
    "    )\n",
    "    .orderBy(\"totalCountPerStudyTypeAndConsequence\", ascending=False)\n",
    "    .toPandas()\n",
    ")\n",
    "data2.sort_values(by=[\"studyType\", \"totalCountPerConsequence\"], ascending=[True, False], inplace=True)\n",
    "data2[\"label_to_show\"] = data2.apply(lambda row: f\"{row['pointLabel']}\" if row[\"percentage\"] > 0.05 else \"\", axis=1)\n",
    "data2\n"
   ]
  },
  {
   "cell_type": "markdown",
   "id": "70dc5278",
   "metadata": {},
   "source": []
  },
  {
   "cell_type": "code",
   "execution_count": 22,
   "id": "bc7c2df1",
   "metadata": {},
   "outputs": [
    {
     "data": {
      "image/png": "[encoded data removed]",
      "text/plain": [
       "<Figure size 600x400 with 1 Axes>"
      ]
     },
     "metadata": {
      "image/png": {
       "height": 400,
       "width": 600
      }
     },
     "output_type": "display_data"
    },
    {
     "data": {
      "text/plain": [
       "<Figure Size: (600 x 400)>"
      ]
     },
     "execution_count": 22,
     "metadata": {},
     "output_type": "execute_result"
    }
   ],
   "source": [
    "plot2 = (\n",
    "    p9.ggplot(data2)\n",
    "    + p9.geom_col(p9.aes(x=\"studyType\", y=\"percentage\", fill=\"reorder(fillLabel, totalCountPerConsequence)\"), width=0.7)\n",
    "    + OpenTargetsTheme.theme\n",
    "    + p9.theme(figure_size=(6, 4))\n",
    "    + p9.theme(axis_title_y=p9.element_text(rotation=0))\n",
    "    + p9.theme(axis_text_y=p9.element_text(rotation=0, hjust=1))\n",
    "    + p9.labs(x=\"\", y=\"[%]\", fill=\"Consequence category\")\n",
    "    + p9.theme(legend_title=p9.element_text(margin={\"l\": 10, \"r\": 10, \"t\": 10, \"b\": 10}))\n",
    "    # Move the geom_text to point to the correct part of the bar\n",
    "    # + p9.geom_text(p9.aes(label=\"%\", y=\"percentage\", x=\"studyType\"), size=8, color=\"black\")\n",
    "    + p9.geom_text(p9.aes(label=\"label_to_show\", y=\"pointLabelPosition\", x=\"studyType\"), size=6, color=\"black\")\n",
    "    # + p9.scale_fill_manual(values=[], name=\"Study Type\")\n",
    ")\n",
    "plot2\n"
   ]
  },
  {
   "cell_type": "markdown",
   "id": "48d6750b",
   "metadata": {},
   "source": [
    "## Merge plots into one figure\n"
   ]
  },
  {
   "cell_type": "code",
   "execution_count": 23,
   "id": "49b2578e",
   "metadata": {},
   "outputs": [],
   "source": [
    "import patchworklib as pw\n",
    "\n",
    "\n",
    "p1 = pw.load_ggplot(plot)\n",
    "p2 = pw.load_ggplot(plot2)\n"
   ]
  },
  {
   "cell_type": "code",
   "execution_count": 24,
   "id": "84c9251b",
   "metadata": {},
   "outputs": [
    {
     "data": {
      "image/png": "[encoded data removed]",
      "text/plain": [
       "<Figure size 100x100 with 5 Axes>"
      ]
     },
     "execution_count": 24,
     "metadata": {
      "image/png": {
       "height": 100,
       "width": 100
      }
     },
     "output_type": "execute_result"
    }
   ],
   "source": [
    "fig = p1 | p2\n",
    "fig.savefig(\"plots/05.1_variant_regulatory_consequence.jpg\", dpi=300, bbox_inches=\"tight\")\n"
   ]
  }
 ],
 "metadata": {
  "kernelspec": {
   "display_name": "gentropy-manuscript",
   "language": "python",
   "name": "python3"
  },
  "language_info": {
   "codemirror_mode": {
    "name": "ipython",
    "version": 3
   },
   "file_extension": ".py",
   "mimetype": "text/x-python",
   "name": "python",
   "nbconvert_exporter": "python",
   "pygments_lexer": "ipython3",
   "version": "3.11.11"
  }
 },
 "nbformat": 4,
 "nbformat_minor": 5
}

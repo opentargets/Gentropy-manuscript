{
 "cells": [
  {
   "cell_type": "code",
   "execution_count": 1,
   "id": "0eb08579",
   "metadata": {},
   "outputs": [
    {
     "name": "stdout",
     "output_type": "stream",
     "text": [
      "Your browser has been opened to visit:\n",
      "\n",
      "    https://accounts.google.com/o/oauth2/auth?response_type=code&client_id=764086051850-6qr4p6gpi6hn506pt8ejuq83di341hur.apps.googleusercontent.com&redirect_uri=http%3A%2F%2Flocalhost%3A8085%2F&scope=openid+https%3A%2F%2Fwww.googleapis.com%2Fauth%2Fuserinfo.email+https%3A%2F%2Fwww.googleapis.com%2Fauth%2Fcloud-platform+https%3A%2F%2Fwww.googleapis.com%2Fauth%2Fsqlservice.login&state=kaLpz8Tzdlt0L9xTL1JVMn3Ouv7S4S&access_type=offline&code_challenge=ERR69nuwbMisSFAjyHAyeS6x1XVQKJfQglolz1RTN2Q&code_challenge_method=S256\n",
      "\n",
      "\n",
      "Credentials saved to file: [/Users/yt4/.config/gcloud/application_default_credentials.json]\n",
      "\n",
      "These credentials will be used by any library that requests Application Default Credentials (ADC).\n",
      "\n",
      "Quota project \"open-targets-genetics-dev\" was added to ADC which can be used by Google client libraries for billing and quota. Note that some services may still bill the project owning the resource.\n",
      "\n",
      "\n",
      "Updates are available for some Google Cloud CLI components.  To install them,\n",
      "please run:\n",
      "  $ gcloud components update\n",
      "\n",
      "\n",
      "\n",
      "To take a quick anonymous survey, run:\n",
      "  $ gcloud survey\n",
      "\n"
     ]
    }
   ],
   "source": [
    "!gcloud auth application-default login"
   ]
  },
  {
   "cell_type": "code",
   "execution_count": null,
   "id": "1201b2f9",
   "metadata": {},
   "outputs": [],
   "source": [
    "!gcloud auth login"
   ]
  },
  {
   "cell_type": "code",
   "execution_count": 2,
   "id": "6eef1ccc",
   "metadata": {},
   "outputs": [
    {
     "data": {
      "text/html": [
       "    <style>\n",
       "        .bk-notebook-logo {\n",
       "            display: block;\n",
       "            width: 20px;\n",
       "            height: 20px;\n",
       "            background-image: url(data:image/png;base64,iVBORw0KGgoAAAANSUhEUgAAABQAAAAUCAYAAACNiR0NAAAABHNCSVQICAgIfAhkiAAAAAlwSFlzAAALEgAACxIB0t1+/AAAABx0RVh0U29mdHdhcmUAQWRvYmUgRmlyZXdvcmtzIENTNui8sowAAAOkSURBVDiNjZRtaJVlGMd/1/08zzln5zjP1LWcU9N0NkN8m2CYjpgQYQXqSs0I84OLIC0hkEKoPtiH3gmKoiJDU7QpLgoLjLIQCpEsNJ1vqUOdO7ppbuec5+V+rj4ctwzd8IIbbi6u+8f1539dt3A78eXC7QizUF7gyV1fD1Yqg4JWz84yffhm0qkFqBogB9rM8tZdtwVsPUhWhGcFJngGeWrPzHm5oaMmkfEg1usvLFyc8jLRqDOMru7AyC8saQr7GG7f5fvDeH7Ej8CM66nIF+8yngt6HWaKh7k49Soy9nXurCi1o3qUbS3zWfrYeQDTB/Qj6kX6Ybhw4B+bOYoLKCC9H3Nu/leUTZ1JdRWkkn2ldcCamzrcf47KKXdAJllSlxAOkRgyHsGC/zRday5Qld9DyoM4/q/rUoy/CXh3jzOu3bHUVZeU+DEn8FInkPBFlu3+nW3Nw0mk6vCDiWg8CeJaxEwuHS3+z5RgY+YBR6V1Z1nxSOfoaPa4LASWxxdNp+VWTk7+4vzaou8v8PN+xo+KY2xsw6une2frhw05CTYOmQvsEhjhWjn0bmXPjpE1+kplmmkP3suftwTubK9Vq22qKmrBhpY4jvd5afdRA3wGjFAgcnTK2s4hY0/GPNIb0nErGMCRxWOOX64Z8RAC4oCXdklmEvcL8o0BfkNK4lUg9HTl+oPlQxdNo3Mg4Nv175e/1LDGzZen30MEjRUtmXSfiTVu1kK8W4txyV6BMKlbgk3lMwYCiusNy9fVfvvwMxv8Ynl6vxoByANLTWplvuj/nF9m2+PDtt1eiHPBr1oIfhCChQMBw6Aw0UulqTKZdfVvfG7VcfIqLG9bcldL/+pdWTLxLUy8Qq38heUIjh4XlzZxzQm19lLFlr8vdQ97rjZVOLf8nclzckbcD4wxXMidpX30sFd37Fv/GtwwhzhxGVAprjbg0gCAEeIgwCZyTV2Z1REEW8O4py0wsjeloKoMr6iCY6dP92H6Vw/oTyICIthibxjm/DfN9lVz8IqtqKYLUXfoKVMVQVVJOElGjrnnUt9T9wbgp8AyYKaGlqingHZU/uG2NTZSVqwHQTWkx9hxjkpWDaCg6Ckj5qebgBVbT3V3NNXMSiWSDdGV3hrtzla7J+duwPOToIg42ChPQOQjspnSlp1V+Gjdged7+8UN5CRAV7a5EdFNwCjEaBR27b3W890TE7g24NAP/mMDXRWrGoFPQI9ls/MWO2dWFAar/xcOIImbbpA3zgAAAABJRU5ErkJggg==);\n",
       "        }\n",
       "    </style>\n",
       "    <div>\n",
       "        <a href=\"https://bokeh.org\" target=\"_blank\" class=\"bk-notebook-logo\"></a>\n",
       "        <span id=\"b6a52fdf-a384-4084-8a09-5f7836a1e24f\">Loading BokehJS ...</span>\n",
       "    </div>\n"
      ]
     },
     "metadata": {},
     "output_type": "display_data"
    },
    {
     "data": {
      "application/javascript": "(function(root) {\n  function now() {\n    return new Date();\n  }\n\n  const force = true;\n\n  if (typeof root._bokeh_onload_callbacks === \"undefined\" || force === true) {\n    root._bokeh_onload_callbacks = [];\n    root._bokeh_is_loading = undefined;\n  }\n\nconst JS_MIME_TYPE = 'application/javascript';\n  const HTML_MIME_TYPE = 'text/html';\n  const EXEC_MIME_TYPE = 'application/vnd.bokehjs_exec.v0+json';\n  const CLASS_NAME = 'output_bokeh rendered_html';\n\n  /**\n   * Render data to the DOM node\n   */\n  function render(props, node) {\n    const script = document.createElement(\"script\");\n    node.appendChild(script);\n  }\n\n  /**\n   * Handle when an output is cleared or removed\n   */\n  function handleClearOutput(event, handle) {\n    function drop(id) {\n      const view = Bokeh.index.get_by_id(id)\n      if (view != null) {\n        view.model.document.clear()\n        Bokeh.index.delete(view)\n      }\n    }\n\n    const cell = handle.cell;\n\n    const id = cell.output_area._bokeh_element_id;\n    const server_id = cell.output_area._bokeh_server_id;\n\n    // Clean up Bokeh references\n    if (id != null) {\n      drop(id)\n    }\n\n    if (server_id !== undefined) {\n      // Clean up Bokeh references\n      const cmd_clean = \"from bokeh.io.state import curstate; print(curstate().uuid_to_server['\" + server_id + \"'].get_sessions()[0].document.roots[0]._id)\";\n      cell.notebook.kernel.execute(cmd_clean, {\n        iopub: {\n          output: function(msg) {\n            const id = msg.content.text.trim()\n            drop(id)\n          }\n        }\n      });\n      // Destroy server and session\n      const cmd_destroy = \"import bokeh.io.notebook as ion; ion.destroy_server('\" + server_id + \"')\";\n      cell.notebook.kernel.execute(cmd_destroy);\n    }\n  }\n\n  /**\n   * Handle when a new output is added\n   */\n  function handleAddOutput(event, handle) {\n    const output_area = handle.output_area;\n    const output = handle.output;\n\n    // limit handleAddOutput to display_data with EXEC_MIME_TYPE content only\n    if ((output.output_type != \"display_data\") || (!Object.prototype.hasOwnProperty.call(output.data, EXEC_MIME_TYPE))) {\n      return\n    }\n\n    const toinsert = output_area.element.find(\".\" + CLASS_NAME.split(' ')[0]);\n\n    if (output.metadata[EXEC_MIME_TYPE][\"id\"] !== undefined) {\n      toinsert[toinsert.length - 1].firstChild.textContent = output.data[JS_MIME_TYPE];\n      // store reference to embed id on output_area\n      output_area._bokeh_element_id = output.metadata[EXEC_MIME_TYPE][\"id\"];\n    }\n    if (output.metadata[EXEC_MIME_TYPE][\"server_id\"] !== undefined) {\n      const bk_div = document.createElement(\"div\");\n      bk_div.innerHTML = output.data[HTML_MIME_TYPE];\n      const script_attrs = bk_div.children[0].attributes;\n      for (let i = 0; i < script_attrs.length; i++) {\n        toinsert[toinsert.length - 1].firstChild.setAttribute(script_attrs[i].name, script_attrs[i].value);\n        toinsert[toinsert.length - 1].firstChild.textContent = bk_div.children[0].textContent\n      }\n      // store reference to server id on output_area\n      output_area._bokeh_server_id = output.metadata[EXEC_MIME_TYPE][\"server_id\"];\n    }\n  }\n\n  function register_renderer(events, OutputArea) {\n\n    function append_mime(data, metadata, element) {\n      // create a DOM node to render to\n      const toinsert = this.create_output_subarea(\n        metadata,\n        CLASS_NAME,\n        EXEC_MIME_TYPE\n      );\n      this.keyboard_manager.register_events(toinsert);\n      // Render to node\n      const props = {data: data, metadata: metadata[EXEC_MIME_TYPE]};\n      render(props, toinsert[toinsert.length - 1]);\n      element.append(toinsert);\n      return toinsert\n    }\n\n    /* Handle when an output is cleared or removed */\n    events.on('clear_output.CodeCell', handleClearOutput);\n    events.on('delete.Cell', handleClearOutput);\n\n    /* Handle when a new output is added */\n    events.on('output_added.OutputArea', handleAddOutput);\n\n    /**\n     * Register the mime type and append_mime function with output_area\n     */\n    OutputArea.prototype.register_mime_type(EXEC_MIME_TYPE, append_mime, {\n      /* Is output safe? */\n      safe: true,\n      /* Index of renderer in `output_area.display_order` */\n      index: 0\n    });\n  }\n\n  // register the mime type if in Jupyter Notebook environment and previously unregistered\n  if (root.Jupyter !== undefined) {\n    const events = require('base/js/events');\n    const OutputArea = require('notebook/js/outputarea').OutputArea;\n\n    if (OutputArea.prototype.mime_types().indexOf(EXEC_MIME_TYPE) == -1) {\n      register_renderer(events, OutputArea);\n    }\n  }\n  if (typeof (root._bokeh_timeout) === \"undefined\" || force === true) {\n    root._bokeh_timeout = Date.now() + 5000;\n    root._bokeh_failed_load = false;\n  }\n\n  const NB_LOAD_WARNING = {'data': {'text/html':\n     \"<div style='background-color: #fdd'>\\n\"+\n     \"<p>\\n\"+\n     \"BokehJS does not appear to have successfully loaded. If loading BokehJS from CDN, this \\n\"+\n     \"may be due to a slow or bad network connection. Possible fixes:\\n\"+\n     \"</p>\\n\"+\n     \"<ul>\\n\"+\n     \"<li>re-rerun `output_notebook()` to attempt to load from CDN again, or</li>\\n\"+\n     \"<li>use INLINE resources instead, as so:</li>\\n\"+\n     \"</ul>\\n\"+\n     \"<code>\\n\"+\n     \"from bokeh.resources import INLINE\\n\"+\n     \"output_notebook(resources=INLINE)\\n\"+\n     \"</code>\\n\"+\n     \"</div>\"}};\n\n  function display_loaded() {\n    const el = document.getElementById(\"b6a52fdf-a384-4084-8a09-5f7836a1e24f\");\n    if (el != null) {\n      el.textContent = \"BokehJS is loading...\";\n    }\n    if (root.Bokeh !== undefined) {\n      if (el != null) {\n        el.textContent = \"BokehJS \" + root.Bokeh.version + \" successfully loaded.\";\n      }\n    } else if (Date.now() < root._bokeh_timeout) {\n      setTimeout(display_loaded, 100)\n    }\n  }\n\n  function run_callbacks() {\n    try {\n      root._bokeh_onload_callbacks.forEach(function(callback) {\n        if (callback != null)\n          callback();\n      });\n    } finally {\n      delete root._bokeh_onload_callbacks\n    }\n    console.debug(\"Bokeh: all callbacks have finished\");\n  }\n\n  function load_libs(css_urls, js_urls, callback) {\n    if (css_urls == null) css_urls = [];\n    if (js_urls == null) js_urls = [];\n\n    root._bokeh_onload_callbacks.push(callback);\n    if (root._bokeh_is_loading > 0) {\n      console.debug(\"Bokeh: BokehJS is being loaded, scheduling callback at\", now());\n      return null;\n    }\n    if (js_urls == null || js_urls.length === 0) {\n      run_callbacks();\n      return null;\n    }\n    console.debug(\"Bokeh: BokehJS not loaded, scheduling load and callback at\", now());\n    root._bokeh_is_loading = css_urls.length + js_urls.length;\n\n    function on_load() {\n      root._bokeh_is_loading--;\n      if (root._bokeh_is_loading === 0) {\n        console.debug(\"Bokeh: all BokehJS libraries/stylesheets loaded\");\n        run_callbacks()\n      }\n    }\n\n    function on_error(url) {\n      console.error(\"failed to load \" + url);\n    }\n\n    for (let i = 0; i < css_urls.length; i++) {\n      const url = css_urls[i];\n      const element = document.createElement(\"link\");\n      element.onload = on_load;\n      element.onerror = on_error.bind(null, url);\n      element.rel = \"stylesheet\";\n      element.type = \"text/css\";\n      element.href = url;\n      console.debug(\"Bokeh: injecting link tag for BokehJS stylesheet: \", url);\n      document.body.appendChild(element);\n    }\n\n    for (let i = 0; i < js_urls.length; i++) {\n      const url = js_urls[i];\n      const element = document.createElement('script');\n      element.onload = on_load;\n      element.onerror = on_error.bind(null, url);\n      element.async = false;\n      element.src = url;\n      console.debug(\"Bokeh: injecting script tag for BokehJS library: \", url);\n      document.head.appendChild(element);\n    }\n  };\n\n  function inject_raw_css(css) {\n    const element = document.createElement(\"style\");\n    element.appendChild(document.createTextNode(css));\n    document.body.appendChild(element);\n  }\n\n  const js_urls = [\"https://cdn.bokeh.org/bokeh/release/bokeh-3.3.4.min.js\", \"https://cdn.bokeh.org/bokeh/release/bokeh-gl-3.3.4.min.js\", \"https://cdn.bokeh.org/bokeh/release/bokeh-widgets-3.3.4.min.js\", \"https://cdn.bokeh.org/bokeh/release/bokeh-tables-3.3.4.min.js\", \"https://cdn.bokeh.org/bokeh/release/bokeh-mathjax-3.3.4.min.js\"];\n  const css_urls = [];\n\n  const inline_js = [    function(Bokeh) {\n      Bokeh.set_log_level(\"info\");\n    },\nfunction(Bokeh) {\n    }\n  ];\n\n  function run_inline_js() {\n    if (root.Bokeh !== undefined || force === true) {\n          for (let i = 0; i < inline_js.length; i++) {\n      inline_js[i].call(root, root.Bokeh);\n    }\nif (force === true) {\n        display_loaded();\n      }} else if (Date.now() < root._bokeh_timeout) {\n      setTimeout(run_inline_js, 100);\n    } else if (!root._bokeh_failed_load) {\n      console.log(\"Bokeh: BokehJS failed to load within specified timeout.\");\n      root._bokeh_failed_load = true;\n    } else if (force !== true) {\n      const cell = $(document.getElementById(\"b6a52fdf-a384-4084-8a09-5f7836a1e24f\")).parents('.cell').data().cell;\n      cell.output_area.append_execute_result(NB_LOAD_WARNING)\n    }\n  }\n\n  if (root._bokeh_is_loading === 0) {\n    console.debug(\"Bokeh: BokehJS loaded, going straight to plotting\");\n    run_inline_js();\n  } else {\n    load_libs(css_urls, js_urls, function() {\n      console.debug(\"Bokeh: BokehJS plotting callback run at\", now());\n      run_inline_js();\n    });\n  }\n}(window));",
      "application/vnd.bokehjs_load.v0+json": ""
     },
     "metadata": {},
     "output_type": "display_data"
    },
    {
     "name": "stderr",
     "output_type": "stream",
     "text": [
      "Setting default log level to \"WARN\".\n",
      "To adjust logging level use sc.setLogLevel(newLevel). For SparkR, use setLogLevel(newLevel).\n",
      "25/07/01 17:41:05 WARN NativeCodeLoader: Unable to load native-hadoop library for your platform... using builtin-java classes where applicable\n"
     ]
    }
   ],
   "source": [
    "import os\n",
    "\n",
    "import hail as hl\n",
    "import numpy as np\n",
    "import pyspark.sql.functions as f\n",
    "from pyspark.sql import DataFrame\n",
    "\n",
    "from gentropy.common.session import Session\n",
    "from gentropy.dataset.study_index import StudyIndex\n",
    "from gentropy.dataset.summary_statistics import SummaryStatistics\n",
    "from gentropy.dataset.study_locus import StudyLocus\n",
    "from gentropy.susie_finemapper import SusieFineMapperStep\n",
    "from gentropy.method.drug_enrichment_from_evid import chemblDrugEnrichment\n",
    "\n",
    "\"\"\"Common utilities for the project.\"\"\"\n",
    "\n",
    "import os\n",
    "from pathlib import Path\n",
    "from gentropy.common.session import Session\n",
    "import logging\n",
    "\n",
    "\n",
    "def get_gcs_credentials() -> str:\n",
    "    \"\"\"Get the credentials for google cloud storage.\"\"\"\n",
    "    app_default_credentials = os.path.join(\n",
    "        os.getenv(\"HOME\", \".\"), \".config/gcloud/application_default_credentials.json\"\n",
    "    )\n",
    "\n",
    "    service_account_credentials = os.path.join(\n",
    "        os.getenv(\"HOME\", \".\"), \".config/gcloud/service_account_credentials.json\"\n",
    "    )\n",
    "\n",
    "    if Path(app_default_credentials).exists():\n",
    "        return app_default_credentials\n",
    "    else:\n",
    "        raise FileNotFoundError(\"No GCS credentials found.\")\n",
    "\n",
    "\n",
    "def get_gcs_hadoop_connector_jar() -> str:\n",
    "    \"\"\"Get the google cloud storage hadoop connector for spark.\n",
    "\n",
    "    This function will return the url to download the hadoop jar.\n",
    "    \"\"\"\n",
    "\n",
    "    return (\n",
    "        \"https://storage.googleapis.com/hadoop-lib/gcs/gcs-connector-hadoop3-latest.jar\"\n",
    "    )\n",
    "\n",
    "\n",
    "def gcs_conf(\n",
    "    credentials_path=None, project=\"open-targets-genetics-dev\"\n",
    ") -> dict[str, str]:\n",
    "    \"\"\"Get the spark configuration with hadoop connector for google cloud storage.\"\"\"\n",
    "    credentials_path = credentials_path or get_gcs_credentials()\n",
    "    return {\n",
    "        \"spark.driver.memory\": \"12g\",\n",
    "        \"spark.kryoserializer.buffer.max\": \"500m\",\n",
    "        \"spark.driver.maxResultSize\":\"2g\",\n",
    "        \"spark.hadoop.fs.gs.impl\": \"com.google.cloud.hadoop.fs.gcs.GoogleHadoopFileSystem\",\n",
    "        \"spark.jars\": get_gcs_hadoop_connector_jar(),\n",
    "        \"spark.hadoop.google.cloud.auth.service.account.enable\": \"true\",\n",
    "        \"spark.hadoop.fs.gs.project.id\": project,\n",
    "        \"spark.hadoop.google.cloud.auth.service.account.json.keyfile\": credentials_path,\n",
    "        \"spark.hadoop.fs.gs.requester.pays.mode\": \"AUTO\",\n",
    "    }\n",
    "\n",
    "\n",
    "class GentropySession(Session):\n",
    "    def __init__(self, *args, **kwargs):\n",
    "        if \"extended_spark_conf\" in kwargs:\n",
    "            kwargs[\"extended_spark_conf\"].update(gcs_conf())\n",
    "        else:\n",
    "            kwargs[\"extended_spark_conf\"] = gcs_conf()\n",
    "        super().__init__(*args, **kwargs)\n",
    "\n",
    "    @property\n",
    "    def conf(self):\n",
    "        logging.warning(\n",
    "            \"To change the config restart the session and use the `extended_spark_conf` parameter.\"\n",
    "        )\n",
    "        return self.spark.sparkContext.getConf().getAll()\n",
    "\n",
    "session= GentropySession()"
   ]
  },
  {
   "cell_type": "code",
   "execution_count": 3,
   "id": "98fa31f5",
   "metadata": {},
   "outputs": [
    {
     "name": "stderr",
     "output_type": "stream",
     "text": [
      "                                                                                \r"
     ]
    }
   ],
   "source": [
    "path_to_release_folder=\"gs://open-targets-data-releases/25.06/\"\n",
    "#path_to_release_folder=\"gs://open-targets-pre-data-releases/24.12-uo_test-3/output/genetics/parquet/\"\n",
    "#path_to_release_folder=\"gs://ot_orchestration/releases/25.02_freeze1/\"\n",
    "\n",
    "si=StudyIndex.from_parquet(session,path_to_release_folder+\"output/study/\")\n",
    "sl=StudyLocus.from_parquet(session,path_to_release_folder+\"output/credible_set/\")"
   ]
  },
  {
   "cell_type": "markdown",
   "id": "f417491b",
   "metadata": {},
   "source": [
    "# Defining novel and known L2G predictions"
   ]
  },
  {
   "cell_type": "code",
   "execution_count": 4,
   "id": "13797db1",
   "metadata": {},
   "outputs": [],
   "source": [
    "old_l2g=session.spark.read.parquet(\"gs://open-targets-data-releases/24.09/output/etl/parquet/evidence/sourceId=ot_genetics_portal\")"
   ]
  },
  {
   "cell_type": "code",
   "execution_count": 5,
   "id": "191e43dd",
   "metadata": {},
   "outputs": [
    {
     "name": "stderr",
     "output_type": "stream",
     "text": [
      "                                                                                \r"
     ]
    }
   ],
   "source": [
    "#l2g=session.spark.read.parquet(path_to_release_folder+\"output/l2g_prediction\")\n",
    "l2g=session.spark.read.parquet(\"gs://ot-team/irene/l2g/xgboost/2706/l2g_predictions\").select(\"studyLocusId\",\"geneId\",\"score\")"
   ]
  },
  {
   "cell_type": "code",
   "execution_count": 6,
   "id": "d1305fa2",
   "metadata": {},
   "outputs": [
    {
     "name": "stderr",
     "output_type": "stream",
     "text": [
      "                                                                                \r"
     ]
    },
    {
     "data": {
      "text/plain": [
       "781213"
      ]
     },
     "execution_count": 6,
     "metadata": {},
     "output_type": "execute_result"
    }
   ],
   "source": [
    "old_l2g.count()"
   ]
  },
  {
   "cell_type": "code",
   "execution_count": 7,
   "id": "977803a2",
   "metadata": {},
   "outputs": [
    {
     "name": "stdout",
     "output_type": "stream",
     "text": [
      "root\n",
      " |-- studyLocusId: string (nullable = true)\n",
      " |-- geneId: string (nullable = true)\n",
      " |-- score: float (nullable = true)\n",
      "\n"
     ]
    }
   ],
   "source": [
    "l2g.printSchema()"
   ]
  },
  {
   "cell_type": "code",
   "execution_count": 8,
   "id": "d527a3d4",
   "metadata": {},
   "outputs": [
    {
     "name": "stderr",
     "output_type": "stream",
     "text": [
      "                                                                                \r"
     ]
    },
    {
     "data": {
      "text/plain": [
       "10623371"
      ]
     },
     "execution_count": 8,
     "metadata": {},
     "output_type": "execute_result"
    }
   ],
   "source": [
    "l2g.count()"
   ]
  },
  {
   "cell_type": "code",
   "execution_count": 16,
   "id": "587aa807",
   "metadata": {},
   "outputs": [
    {
     "name": "stderr",
     "output_type": "stream",
     "text": [
      "                                                                                \r"
     ]
    },
    {
     "data": {
      "text/plain": [
       "1667749"
      ]
     },
     "execution_count": 16,
     "metadata": {},
     "output_type": "execute_result"
    }
   ],
   "source": [
    "new_l2g_evidence=chemblDrugEnrichment.to_disease_target_evidence(table_with_score=l2g,\n",
    "    score_column=\"score\",\n",
    "    datasource_id=\"new_l2g\",\n",
    "    study_locus=sl,\n",
    "    study_index=si,\n",
    "    min_score=0.05\n",
    ").cache()\n",
    "new_l2g_evidence.count()"
   ]
  },
  {
   "cell_type": "code",
   "execution_count": 10,
   "id": "07a8bb3a",
   "metadata": {},
   "outputs": [
    {
     "name": "stdout",
     "output_type": "stream",
     "text": [
      "root\n",
      " |-- datasourceId: string (nullable = true)\n",
      " |-- targetId: string (nullable = true)\n",
      " |-- alleleOrigins: array (nullable = true)\n",
      " |    |-- element: string (containsNull = true)\n",
      " |-- allelicRequirements: array (nullable = true)\n",
      " |    |-- element: string (containsNull = true)\n",
      " |-- ancestry: string (nullable = true)\n",
      " |-- ancestryId: string (nullable = true)\n",
      " |-- beta: double (nullable = true)\n",
      " |-- betaConfidenceIntervalLower: double (nullable = true)\n",
      " |-- betaConfidenceIntervalUpper: double (nullable = true)\n",
      " |-- biologicalModelAllelicComposition: string (nullable = true)\n",
      " |-- biologicalModelGeneticBackground: string (nullable = true)\n",
      " |-- biologicalModelId: string (nullable = true)\n",
      " |-- biomarkerName: string (nullable = true)\n",
      " |-- biomarkers: struct (nullable = true)\n",
      " |    |-- geneExpression: array (nullable = true)\n",
      " |    |    |-- element: struct (containsNull = true)\n",
      " |    |    |    |-- id: string (nullable = true)\n",
      " |    |    |    |-- name: string (nullable = true)\n",
      " |    |-- geneticVariation: array (nullable = true)\n",
      " |    |    |-- element: struct (containsNull = true)\n",
      " |    |    |    |-- functionalConsequenceId: string (nullable = true)\n",
      " |    |    |    |-- id: string (nullable = true)\n",
      " |    |    |    |-- name: string (nullable = true)\n",
      " |-- biosamplesFromSource: array (nullable = true)\n",
      " |    |-- element: string (containsNull = true)\n",
      " |-- cellType: string (nullable = true)\n",
      " |-- clinicalPhase: double (nullable = true)\n",
      " |-- clinicalSignificances: array (nullable = true)\n",
      " |    |-- element: string (containsNull = true)\n",
      " |-- clinicalStatus: string (nullable = true)\n",
      " |-- cohortDescription: string (nullable = true)\n",
      " |-- cohortId: string (nullable = true)\n",
      " |-- cohortPhenotypes: array (nullable = true)\n",
      " |    |-- element: string (containsNull = true)\n",
      " |-- cohortShortName: string (nullable = true)\n",
      " |-- confidence: string (nullable = true)\n",
      " |-- contrast: string (nullable = true)\n",
      " |-- crisprScreenLibrary: string (nullable = true)\n",
      " |-- datatypeId: string (nullable = true)\n",
      " |-- diseaseCellLines: array (nullable = true)\n",
      " |    |-- element: struct (containsNull = true)\n",
      " |    |    |-- id: string (nullable = true)\n",
      " |    |    |-- name: string (nullable = true)\n",
      " |    |    |-- tissue: string (nullable = true)\n",
      " |    |    |-- tissueId: string (nullable = true)\n",
      " |-- diseaseFromSource: string (nullable = true)\n",
      " |-- diseaseFromSourceId: string (nullable = true)\n",
      " |-- diseaseFromSourceMappedId: string (nullable = true)\n",
      " |-- diseaseModelAssociatedHumanPhenotypes: array (nullable = true)\n",
      " |    |-- element: struct (containsNull = true)\n",
      " |    |    |-- id: string (nullable = true)\n",
      " |    |    |-- label: string (nullable = true)\n",
      " |-- diseaseModelAssociatedModelPhenotypes: array (nullable = true)\n",
      " |    |-- element: struct (containsNull = true)\n",
      " |    |    |-- id: string (nullable = true)\n",
      " |    |    |-- label: string (nullable = true)\n",
      " |-- drugFromSource: string (nullable = true)\n",
      " |-- drugId: string (nullable = true)\n",
      " |-- drugResponse: string (nullable = true)\n",
      " |-- geneticBackground: string (nullable = true)\n",
      " |-- literature: array (nullable = true)\n",
      " |    |-- element: string (containsNull = true)\n",
      " |-- log2FoldChangePercentileRank: long (nullable = true)\n",
      " |-- log2FoldChangeValue: double (nullable = true)\n",
      " |-- mutatedSamples: array (nullable = true)\n",
      " |    |-- element: struct (containsNull = true)\n",
      " |    |    |-- functionalConsequenceId: string (nullable = true)\n",
      " |    |    |-- numberMutatedSamples: double (nullable = true)\n",
      " |    |    |-- numberSamplesTested: double (nullable = true)\n",
      " |    |    |-- numberSamplesWithMutationType: long (nullable = true)\n",
      " |-- oddsRatio: double (nullable = true)\n",
      " |-- oddsRatioConfidenceIntervalLower: double (nullable = true)\n",
      " |-- oddsRatioConfidenceIntervalUpper: double (nullable = true)\n",
      " |-- pValueExponent: long (nullable = true)\n",
      " |-- pValueMantissa: double (nullable = true)\n",
      " |-- pathways: array (nullable = true)\n",
      " |    |-- element: struct (containsNull = true)\n",
      " |    |    |-- id: string (nullable = true)\n",
      " |    |    |-- name: string (nullable = true)\n",
      " |-- pmcIds: array (nullable = true)\n",
      " |    |-- element: string (containsNull = true)\n",
      " |-- projectId: string (nullable = true)\n",
      " |-- publicationFirstAuthor: string (nullable = true)\n",
      " |-- publicationYear: long (nullable = true)\n",
      " |-- reactionId: string (nullable = true)\n",
      " |-- reactionName: string (nullable = true)\n",
      " |-- releaseDate: string (nullable = true)\n",
      " |-- releaseVersion: string (nullable = true)\n",
      " |-- resourceScore: double (nullable = true)\n",
      " |-- sex: array (nullable = true)\n",
      " |    |-- element: string (containsNull = true)\n",
      " |-- significantDriverMethods: array (nullable = true)\n",
      " |    |-- element: string (containsNull = true)\n",
      " |-- statisticalMethod: string (nullable = true)\n",
      " |-- statisticalMethodOverview: string (nullable = true)\n",
      " |-- statisticalTestTail: string (nullable = true)\n",
      " |-- studyCases: long (nullable = true)\n",
      " |-- studyCasesWithQualifyingVariants: long (nullable = true)\n",
      " |-- studyId: string (nullable = true)\n",
      " |-- studyOverview: string (nullable = true)\n",
      " |-- studySampleSize: long (nullable = true)\n",
      " |-- studyStartDate: string (nullable = true)\n",
      " |-- studyStopReason: string (nullable = true)\n",
      " |-- studyStopReasonCategories: array (nullable = true)\n",
      " |    |-- element: string (containsNull = true)\n",
      " |-- targetFromSource: string (nullable = true)\n",
      " |-- targetFromSourceId: string (nullable = true)\n",
      " |-- targetInModel: string (nullable = true)\n",
      " |-- targetInModelEnsemblId: string (nullable = true)\n",
      " |-- targetInModelMgiId: string (nullable = true)\n",
      " |-- targetModulation: string (nullable = true)\n",
      " |-- textMiningSentences: array (nullable = true)\n",
      " |    |-- element: struct (containsNull = true)\n",
      " |    |    |-- dEnd: long (nullable = true)\n",
      " |    |    |-- dStart: long (nullable = true)\n",
      " |    |    |-- section: string (nullable = true)\n",
      " |    |    |-- tEnd: long (nullable = true)\n",
      " |    |    |-- tStart: long (nullable = true)\n",
      " |    |    |-- text: string (nullable = true)\n",
      " |-- urls: array (nullable = true)\n",
      " |    |-- element: struct (containsNull = true)\n",
      " |    |    |-- niceName: string (nullable = true)\n",
      " |    |    |-- url: string (nullable = true)\n",
      " |-- variantAminoacidDescriptions: array (nullable = true)\n",
      " |    |-- element: string (containsNull = true)\n",
      " |-- variantFunctionalConsequenceFromQtlId: string (nullable = true)\n",
      " |-- variantFunctionalConsequenceId: string (nullable = true)\n",
      " |-- variantHgvsId: string (nullable = true)\n",
      " |-- variantId: string (nullable = true)\n",
      " |-- variantRsId: string (nullable = true)\n",
      " |-- diseaseId: string (nullable = true)\n",
      " |-- id: string (nullable = true)\n",
      " |-- score: double (nullable = true)\n",
      " |-- variantEffect: string (nullable = true)\n",
      " |-- directionOnTrait: string (nullable = true)\n",
      "\n"
     ]
    }
   ],
   "source": [
    "old_l2g.printSchema()"
   ]
  },
  {
   "cell_type": "code",
   "execution_count": 11,
   "id": "c31ea4a6",
   "metadata": {},
   "outputs": [],
   "source": [
    "disease_index_path=path_to_release_folder+\"output/disease/disease.parquet\"\n",
    "disease_index_orig = session.spark.read.parquet(disease_index_path)"
   ]
  },
  {
   "cell_type": "code",
   "execution_count": 12,
   "id": "bcfb4517",
   "metadata": {},
   "outputs": [],
   "source": [
    "indirect_assoc_old_l2g=chemblDrugEnrichment.evidence_to_indirect_assosiations(\n",
    "        disease_target_evidence=old_l2g.select(\"targetId\",\"diseaseId\",\"score\").withColumnRenamed(\"score\", \"resourceScore\"),\n",
    "        disease_index_orig=disease_index_orig,\n",
    "        use_max=True,\n",
    "        efo_to_remove=None,\n",
    ").filter(f.col(\"indirect_assoc_score\")>=0.5).cache()"
   ]
  },
  {
   "cell_type": "code",
   "execution_count": 13,
   "id": "cbddc054",
   "metadata": {},
   "outputs": [
    {
     "name": "stderr",
     "output_type": "stream",
     "text": [
      "                                                                                \r"
     ]
    },
    {
     "data": {
      "text/plain": [
       "240071"
      ]
     },
     "execution_count": 13,
     "metadata": {},
     "output_type": "execute_result"
    }
   ],
   "source": [
    "indirect_assoc_old_l2g.count()"
   ]
  },
  {
   "cell_type": "code",
   "execution_count": 14,
   "id": "1700ab75",
   "metadata": {},
   "outputs": [
    {
     "name": "stdout",
     "output_type": "stream",
     "text": [
      "+---------------+-------------+--------------------+\n",
      "|       targetId|    diseaseId|indirect_assoc_score|\n",
      "+---------------+-------------+--------------------+\n",
      "|ENSG00000049759|  EFO_0004747|        0.8746914864|\n",
      "|ENSG00000109320|  EFO_0000684|        0.8085828424|\n",
      "|ENSG00000148053|MONDO_0002025|        0.8656496406|\n",
      "|ENSG00000171130|  EFO_0001444|        0.7053959966|\n",
      "|ENSG00000196586|MONDO_0002149|        0.7589675784|\n",
      "|ENSG00000213901|  EFO_0001444|        0.5279757977|\n",
      "|ENSG00000088305|  EFO_0000508|        0.6777986288|\n",
      "|ENSG00000115507|  EFO_0006848|         0.787563026|\n",
      "|ENSG00000147883|  EFO_0001642|        0.8152068257|\n",
      "|ENSG00000147883|  EFO_0000574|        0.8152068257|\n",
      "|ENSG00000152034|  EFO_0005115|        0.5517882705|\n",
      "|ENSG00000163714|  EFO_0004503|        0.6146195531|\n",
      "|ENSG00000005020|  EFO_0007991|        0.6031781435|\n",
      "|ENSG00000005073|  EFO_0008002|        0.6886193752|\n",
      "|ENSG00000006607|  EFO_0004833|        0.5389696956|\n",
      "|ENSG00000006611|  EFO_0004517|        0.8637906909|\n",
      "|ENSG00000006611|  EFO_0004298|        0.8637906909|\n",
      "|ENSG00000007237|  EFO_0009270|        0.8440366983|\n",
      "|ENSG00000008083|  EFO_0006941|        0.8390624523|\n",
      "|ENSG00000009950|  EFO_0010093|         0.550478518|\n",
      "+---------------+-------------+--------------------+\n",
      "only showing top 20 rows\n",
      "\n"
     ]
    }
   ],
   "source": [
    "indirect_assoc_old_l2g.show()"
   ]
  },
  {
   "cell_type": "code",
   "execution_count": 17,
   "id": "9051feec",
   "metadata": {},
   "outputs": [
    {
     "name": "stdout",
     "output_type": "stream",
     "text": [
      "+----------+------------+---------------+-----------+-------------+--------------------+\n",
      "|datatypeId|datasourceId|       targetId|  diseaseId|resourceScore|        studyLocusId|\n",
      "+----------+------------+---------------+-----------+-------------+--------------------+\n",
      "|      GWAS|     new_l2g|ENSG00000167645|EFO_0010968|   0.18192655|0005218bc3a62e387...|\n",
      "|      GWAS|     new_l2g|ENSG00000099337|EFO_0010968|   0.87497157|0005218bc3a62e387...|\n",
      "|      GWAS|     new_l2g|ENSG00000215547|EFO_0004528|   0.47645262|002462a2da2f7c279...|\n",
      "|      GWAS|     new_l2g|ENSG00000215545|EFO_0004528|  0.053832773|002462a2da2f7c279...|\n",
      "|      GWAS|     new_l2g|ENSG00000184937|EFO_0004309|    0.7815953|00274cac95947bd00...|\n",
      "|      GWAS|     new_l2g|ENSG00000087237|EFO_0004612|    0.8629739|005bc8624f8dd7f7c...|\n",
      "|      GWAS|     new_l2g|ENSG00000140853|EFO_0004612|   0.09162829|005bc8624f8dd7f7c...|\n",
      "|      GWAS|     new_l2g|ENSG00000197406|EFO_0004617|   0.62509125|0064268fb58ddabbb...|\n",
      "|      GWAS|     new_l2g|ENSG00000078304|EFO_0004617|  0.069025226|0064268fb58ddabbb...|\n",
      "|      GWAS|     new_l2g|ENSG00000166035|EFO_0004612|    0.8632056|008b97f651f444888...|\n",
      "|      GWAS|     new_l2g|ENSG00000166035|EFO_0004530|    0.8632056|008b97f651f444888...|\n",
      "|      GWAS|     new_l2g|ENSG00000244067|EFO_0004530|   0.86968505|009c65f69b7705d4c...|\n",
      "|      GWAS|     new_l2g|ENSG00000174156|EFO_0004530|   0.12250557|009c65f69b7705d4c...|\n",
      "|      GWAS|     new_l2g|ENSG00000243955|EFO_0004530|  0.065596595|009c65f69b7705d4c...|\n",
      "|      GWAS|     new_l2g|ENSG00000176920|EFO_0020946|    0.7547627|00a2c80e5097f8a93...|\n",
      "|      GWAS|     new_l2g|ENSG00000176909|EFO_0020946|    0.0940804|00a2c80e5097f8a93...|\n",
      "|      GWAS|     new_l2g|ENSG00000166033|EFO_0009927|   0.13514726|00a70f45252881a9f...|\n",
      "|      GWAS|     new_l2g|ENSG00000107679|EFO_0009927|   0.25327316|00a70f45252881a9f...|\n",
      "|      GWAS|     new_l2g|ENSG00000254636|EFO_0009927|    0.4249295|00a70f45252881a9f...|\n",
      "|      GWAS|     new_l2g|ENSG00000105655|OBA_2050034|   0.20505728|00badf4cd2ff71a2c...|\n",
      "+----------+------------+---------------+-----------+-------------+--------------------+\n",
      "only showing top 20 rows\n",
      "\n"
     ]
    }
   ],
   "source": [
    "new_l2g_evidence.show()"
   ]
  },
  {
   "cell_type": "code",
   "execution_count": 18,
   "id": "0171846c",
   "metadata": {},
   "outputs": [
    {
     "data": {
      "text/plain": [
       "1667749"
      ]
     },
     "execution_count": 18,
     "metadata": {},
     "output_type": "execute_result"
    }
   ],
   "source": [
    "# Perform a left join\n",
    "result_df = new_l2g_evidence.join(\n",
    "    indirect_assoc_old_l2g,  # The second DataFrame\n",
    "    on=[\"targetId\", \"diseaseId\"],  # Join condition\n",
    "    how=\"left\"  # Left join ensures all rows from new_l2g_evidence are retained\n",
    ")\n",
    "\n",
    "# Show the result\n",
    "result_df.count()"
   ]
  },
  {
   "cell_type": "code",
   "execution_count": 19,
   "id": "383bac2d",
   "metadata": {},
   "outputs": [],
   "source": [
    "result_df=result_df.filter(f.col(\"indirect_assoc_score\")>=0.5).cache()"
   ]
  },
  {
   "cell_type": "code",
   "execution_count": 20,
   "id": "afa2af8f",
   "metadata": {},
   "outputs": [
    {
     "data": {
      "text/plain": [
       "411574"
      ]
     },
     "execution_count": 20,
     "metadata": {},
     "output_type": "execute_result"
    }
   ],
   "source": [
    "result_df.count()"
   ]
  },
  {
   "cell_type": "code",
   "execution_count": 21,
   "id": "0966bbf0",
   "metadata": {},
   "outputs": [],
   "source": [
    "known_studyLocusIds=result_df.select(\"studyLocusId\").distinct().collect()"
   ]
  },
  {
   "cell_type": "code",
   "execution_count": 22,
   "id": "10ffdea9",
   "metadata": {},
   "outputs": [],
   "source": [
    "studyLocusId_list = [row.studyLocusId for row in known_studyLocusIds]"
   ]
  },
  {
   "cell_type": "code",
   "execution_count": 23,
   "id": "3910881d",
   "metadata": {},
   "outputs": [
    {
     "data": {
      "text/plain": [
       "333130"
      ]
     },
     "execution_count": 23,
     "metadata": {},
     "output_type": "execute_result"
    }
   ],
   "source": [
    "len(studyLocusId_list)"
   ]
  },
  {
   "cell_type": "code",
   "execution_count": 24,
   "id": "f56ba7cb",
   "metadata": {},
   "outputs": [],
   "source": [
    "studyLocusId_df = session.spark.createDataFrame([(id,) for id in studyLocusId_list], [\"studyLocusId\"])\n"
   ]
  },
  {
   "cell_type": "code",
   "execution_count": 25,
   "id": "70dc2168",
   "metadata": {},
   "outputs": [
    {
     "name": "stderr",
     "output_type": "stream",
     "text": [
      "25/07/01 17:53:31 WARN TaskSetManager: Stage 79 contains a task of very large size (1490 KiB). The maximum recommended task size is 1000 KiB.\n",
      "                                                                                \r"
     ]
    },
    {
     "data": {
      "text/plain": [
       "333130"
      ]
     },
     "execution_count": 25,
     "metadata": {},
     "output_type": "execute_result"
    }
   ],
   "source": [
    "studyLocusId_df.count()"
   ]
  },
  {
   "cell_type": "code",
   "execution_count": 26,
   "id": "ce3d2b74",
   "metadata": {},
   "outputs": [
    {
     "name": "stderr",
     "output_type": "stream",
     "text": [
      "25/07/01 17:53:38 WARN TaskSetManager: Stage 82 contains a task of very large size (1490 KiB). The maximum recommended task size is 1000 KiB.\n",
      "                                                                                \r"
     ]
    }
   ],
   "source": [
    "studyLocusId_df.write.parquet(\"gs://genetics-portal-dev-analysis/yt4/20250403_for_gentropy_paper/known_studyLocusIds\",mode=\"overwrite\")"
   ]
  },
  {
   "cell_type": "code",
   "execution_count": 27,
   "id": "ef2d8770",
   "metadata": {},
   "outputs": [
    {
     "name": "stderr",
     "output_type": "stream",
     "text": [
      "                                                                                \r"
     ]
    },
    {
     "data": {
      "text/plain": [
       "333130"
      ]
     },
     "execution_count": 27,
     "metadata": {},
     "output_type": "execute_result"
    }
   ],
   "source": [
    "session.spark.read.parquet(\"gs://genetics-portal-dev-analysis/yt4/20250403_for_gentropy_paper/known_studyLocusIds\").count()"
   ]
  },
  {
   "cell_type": "code",
   "execution_count": null,
   "id": "3940cfb0",
   "metadata": {},
   "outputs": [],
   "source": []
  },
  {
   "cell_type": "code",
   "execution_count": null,
   "id": "65a803e8",
   "metadata": {},
   "outputs": [],
   "source": []
  },
  {
   "cell_type": "code",
   "execution_count": null,
   "id": "4404657c",
   "metadata": {},
   "outputs": [],
   "source": []
  },
  {
   "cell_type": "code",
   "execution_count": null,
   "id": "69582188",
   "metadata": {},
   "outputs": [],
   "source": []
  },
  {
   "cell_type": "code",
   "execution_count": null,
   "id": "f6de3d10",
   "metadata": {},
   "outputs": [],
   "source": []
  }
 ],
 "metadata": {
  "kernelspec": {
   "display_name": ".venv",
   "language": "python",
   "name": "python3"
  },
  "language_info": {
   "codemirror_mode": {
    "name": "ipython",
    "version": 3
   },
   "file_extension": ".py",
   "mimetype": "text/x-python",
   "name": "python",
   "nbconvert_exporter": "python",
   "pygments_lexer": "ipython3",
   "version": "3.11.11"
  }
 },
 "nbformat": 4,
 "nbformat_minor": 5
}

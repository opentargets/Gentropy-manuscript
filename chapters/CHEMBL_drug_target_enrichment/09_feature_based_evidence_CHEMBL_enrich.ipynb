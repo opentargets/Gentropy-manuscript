{
 "cells": [
  {
   "cell_type": "code",
   "execution_count": null,
   "id": "3e1ffa76",
   "metadata": {},
   "outputs": [
    {
     "name": "stdout",
     "output_type": "stream",
     "text": [
      "Your browser has been opened to visit:\n",
      "\n",
      "    https://accounts.google.com/o/oauth2/auth?response_type=code&client_id=764086051850-6qr4p6gpi6hn506pt8ejuq83di341hur.apps.googleusercontent.com&redirect_uri=http%3A%2F%2Flocalhost%3A8085%2F&scope=openid+https%3A%2F%2Fwww.googleapis.com%2Fauth%2Fuserinfo.email+https%3A%2F%2Fwww.googleapis.com%2Fauth%2Fcloud-platform+https%3A%2F%2Fwww.googleapis.com%2Fauth%2Fsqlservice.login&state=KhcIXmGB9qiqYSurmEd1OE7ai1gsoY&access_type=offline&code_challenge=FXd8t_iNJ1Smwus7s7YNkiZ2VgOos-bXrFHWGHwaAs8&code_challenge_method=S256\n",
      "\n",
      "\n",
      "Credentials saved to file: [/Users/yt4/.config/gcloud/application_default_credentials.json]\n",
      "\n",
      "These credentials will be used by any library that requests Application Default Credentials (ADC).\n",
      "\n",
      "Quota project \"open-targets-genetics-dev\" was added to ADC which can be used by Google client libraries for billing and quota. Note that some services may still bill the project owning the resource.\n"
     ]
    }
   ],
   "source": [
    "!gcloud auth application-default login"
   ]
  },
  {
   "cell_type": "code",
   "execution_count": null,
   "id": "4c4d9e53",
   "metadata": {},
   "outputs": [
    {
     "name": "stdout",
     "output_type": "stream",
     "text": [
      "Your browser has been opened to visit:\n",
      "\n",
      "    https://accounts.google.com/o/oauth2/auth?response_type=code&client_id=32555940559.apps.googleusercontent.com&redirect_uri=http%3A%2F%2Flocalhost%3A8085%2F&scope=openid+https%3A%2F%2Fwww.googleapis.com%2Fauth%2Fuserinfo.email+https%3A%2F%2Fwww.googleapis.com%2Fauth%2Fcloud-platform+https%3A%2F%2Fwww.googleapis.com%2Fauth%2Fappengine.admin+https%3A%2F%2Fwww.googleapis.com%2Fauth%2Fsqlservice.login+https%3A%2F%2Fwww.googleapis.com%2Fauth%2Fcompute+https%3A%2F%2Fwww.googleapis.com%2Fauth%2Faccounts.reauth&state=UiDTZiS2COSkwLlSyy0l1pVKoF8Yfg&access_type=offline&code_challenge=4jMAWGLzSEe-ozTnSiVWYKCSv6hg9PyZzX727eiHbYk&code_challenge_method=S256\n",
      "\n",
      "\n",
      "You are now logged in as [yt4@sanger.ac.uk].\n",
      "Your current project is [open-targets-genetics-dev].  You can change this setting by running:\n",
      "  $ gcloud config set project PROJECT_ID\n",
      "\n",
      "\n",
      "Updates are available for some Google Cloud CLI components.  To install them,\n",
      "please run:\n",
      "  $ gcloud components update\n",
      "\n"
     ]
    }
   ],
   "source": [
    "!gcloud auth login"
   ]
  },
  {
   "cell_type": "code",
   "execution_count": 1,
   "id": "9689b270",
   "metadata": {},
   "outputs": [
    {
     "data": {
      "text/html": [
       "    <style>\n",
       "        .bk-notebook-logo {\n",
       "            display: block;\n",
       "            width: 20px;\n",
       "            height: 20px;\n",
       "            background-image: url(data:image/png;base64,iVBORw0KGgoAAAANSUhEUgAAABQAAAAUCAYAAACNiR0NAAAABHNCSVQICAgIfAhkiAAAAAlwSFlzAAALEgAACxIB0t1+/AAAABx0RVh0U29mdHdhcmUAQWRvYmUgRmlyZXdvcmtzIENTNui8sowAAAOkSURBVDiNjZRtaJVlGMd/1/08zzln5zjP1LWcU9N0NkN8m2CYjpgQYQXqSs0I84OLIC0hkEKoPtiH3gmKoiJDU7QpLgoLjLIQCpEsNJ1vqUOdO7ppbuec5+V+rj4ctwzd8IIbbi6u+8f1539dt3A78eXC7QizUF7gyV1fD1Yqg4JWz84yffhm0qkFqBogB9rM8tZdtwVsPUhWhGcFJngGeWrPzHm5oaMmkfEg1usvLFyc8jLRqDOMru7AyC8saQr7GG7f5fvDeH7Ej8CM66nIF+8yngt6HWaKh7k49Soy9nXurCi1o3qUbS3zWfrYeQDTB/Qj6kX6Ybhw4B+bOYoLKCC9H3Nu/leUTZ1JdRWkkn2ldcCamzrcf47KKXdAJllSlxAOkRgyHsGC/zRday5Qld9DyoM4/q/rUoy/CXh3jzOu3bHUVZeU+DEn8FInkPBFlu3+nW3Nw0mk6vCDiWg8CeJaxEwuHS3+z5RgY+YBR6V1Z1nxSOfoaPa4LASWxxdNp+VWTk7+4vzaou8v8PN+xo+KY2xsw6une2frhw05CTYOmQvsEhjhWjn0bmXPjpE1+kplmmkP3suftwTubK9Vq22qKmrBhpY4jvd5afdRA3wGjFAgcnTK2s4hY0/GPNIb0nErGMCRxWOOX64Z8RAC4oCXdklmEvcL8o0BfkNK4lUg9HTl+oPlQxdNo3Mg4Nv175e/1LDGzZen30MEjRUtmXSfiTVu1kK8W4txyV6BMKlbgk3lMwYCiusNy9fVfvvwMxv8Ynl6vxoByANLTWplvuj/nF9m2+PDtt1eiHPBr1oIfhCChQMBw6Aw0UulqTKZdfVvfG7VcfIqLG9bcldL/+pdWTLxLUy8Qq38heUIjh4XlzZxzQm19lLFlr8vdQ97rjZVOLf8nclzckbcD4wxXMidpX30sFd37Fv/GtwwhzhxGVAprjbg0gCAEeIgwCZyTV2Z1REEW8O4py0wsjeloKoMr6iCY6dP92H6Vw/oTyICIthibxjm/DfN9lVz8IqtqKYLUXfoKVMVQVVJOElGjrnnUt9T9wbgp8AyYKaGlqingHZU/uG2NTZSVqwHQTWkx9hxjkpWDaCg6Ckj5qebgBVbT3V3NNXMSiWSDdGV3hrtzla7J+duwPOToIg42ChPQOQjspnSlp1V+Gjdged7+8UN5CRAV7a5EdFNwCjEaBR27b3W890TE7g24NAP/mMDXRWrGoFPQI9ls/MWO2dWFAar/xcOIImbbpA3zgAAAABJRU5ErkJggg==);\n",
       "        }\n",
       "    </style>\n",
       "    <div>\n",
       "        <a href=\"https://bokeh.org\" target=\"_blank\" class=\"bk-notebook-logo\"></a>\n",
       "        <span id=\"f51288d9-8474-473e-918d-cb59527cb521\">Loading BokehJS ...</span>\n",
       "    </div>\n"
      ]
     },
     "metadata": {},
     "output_type": "display_data"
    },
    {
     "data": {
      "application/javascript": "(function(root) {\n  function now() {\n    return new Date();\n  }\n\n  const force = true;\n\n  if (typeof root._bokeh_onload_callbacks === \"undefined\" || force === true) {\n    root._bokeh_onload_callbacks = [];\n    root._bokeh_is_loading = undefined;\n  }\n\nconst JS_MIME_TYPE = 'application/javascript';\n  const HTML_MIME_TYPE = 'text/html';\n  const EXEC_MIME_TYPE = 'application/vnd.bokehjs_exec.v0+json';\n  const CLASS_NAME = 'output_bokeh rendered_html';\n\n  /**\n   * Render data to the DOM node\n   */\n  function render(props, node) {\n    const script = document.createElement(\"script\");\n    node.appendChild(script);\n  }\n\n  /**\n   * Handle when an output is cleared or removed\n   */\n  function handleClearOutput(event, handle) {\n    function drop(id) {\n      const view = Bokeh.index.get_by_id(id)\n      if (view != null) {\n        view.model.document.clear()\n        Bokeh.index.delete(view)\n      }\n    }\n\n    const cell = handle.cell;\n\n    const id = cell.output_area._bokeh_element_id;\n    const server_id = cell.output_area._bokeh_server_id;\n\n    // Clean up Bokeh references\n    if (id != null) {\n      drop(id)\n    }\n\n    if (server_id !== undefined) {\n      // Clean up Bokeh references\n      const cmd_clean = \"from bokeh.io.state import curstate; print(curstate().uuid_to_server['\" + server_id + \"'].get_sessions()[0].document.roots[0]._id)\";\n      cell.notebook.kernel.execute(cmd_clean, {\n        iopub: {\n          output: function(msg) {\n            const id = msg.content.text.trim()\n            drop(id)\n          }\n        }\n      });\n      // Destroy server and session\n      const cmd_destroy = \"import bokeh.io.notebook as ion; ion.destroy_server('\" + server_id + \"')\";\n      cell.notebook.kernel.execute(cmd_destroy);\n    }\n  }\n\n  /**\n   * Handle when a new output is added\n   */\n  function handleAddOutput(event, handle) {\n    const output_area = handle.output_area;\n    const output = handle.output;\n\n    // limit handleAddOutput to display_data with EXEC_MIME_TYPE content only\n    if ((output.output_type != \"display_data\") || (!Object.prototype.hasOwnProperty.call(output.data, EXEC_MIME_TYPE))) {\n      return\n    }\n\n    const toinsert = output_area.element.find(\".\" + CLASS_NAME.split(' ')[0]);\n\n    if (output.metadata[EXEC_MIME_TYPE][\"id\"] !== undefined) {\n      toinsert[toinsert.length - 1].firstChild.textContent = output.data[JS_MIME_TYPE];\n      // store reference to embed id on output_area\n      output_area._bokeh_element_id = output.metadata[EXEC_MIME_TYPE][\"id\"];\n    }\n    if (output.metadata[EXEC_MIME_TYPE][\"server_id\"] !== undefined) {\n      const bk_div = document.createElement(\"div\");\n      bk_div.innerHTML = output.data[HTML_MIME_TYPE];\n      const script_attrs = bk_div.children[0].attributes;\n      for (let i = 0; i < script_attrs.length; i++) {\n        toinsert[toinsert.length - 1].firstChild.setAttribute(script_attrs[i].name, script_attrs[i].value);\n        toinsert[toinsert.length - 1].firstChild.textContent = bk_div.children[0].textContent\n      }\n      // store reference to server id on output_area\n      output_area._bokeh_server_id = output.metadata[EXEC_MIME_TYPE][\"server_id\"];\n    }\n  }\n\n  function register_renderer(events, OutputArea) {\n\n    function append_mime(data, metadata, element) {\n      // create a DOM node to render to\n      const toinsert = this.create_output_subarea(\n        metadata,\n        CLASS_NAME,\n        EXEC_MIME_TYPE\n      );\n      this.keyboard_manager.register_events(toinsert);\n      // Render to node\n      const props = {data: data, metadata: metadata[EXEC_MIME_TYPE]};\n      render(props, toinsert[toinsert.length - 1]);\n      element.append(toinsert);\n      return toinsert\n    }\n\n    /* Handle when an output is cleared or removed */\n    events.on('clear_output.CodeCell', handleClearOutput);\n    events.on('delete.Cell', handleClearOutput);\n\n    /* Handle when a new output is added */\n    events.on('output_added.OutputArea', handleAddOutput);\n\n    /**\n     * Register the mime type and append_mime function with output_area\n     */\n    OutputArea.prototype.register_mime_type(EXEC_MIME_TYPE, append_mime, {\n      /* Is output safe? */\n      safe: true,\n      /* Index of renderer in `output_area.display_order` */\n      index: 0\n    });\n  }\n\n  // register the mime type if in Jupyter Notebook environment and previously unregistered\n  if (root.Jupyter !== undefined) {\n    const events = require('base/js/events');\n    const OutputArea = require('notebook/js/outputarea').OutputArea;\n\n    if (OutputArea.prototype.mime_types().indexOf(EXEC_MIME_TYPE) == -1) {\n      register_renderer(events, OutputArea);\n    }\n  }\n  if (typeof (root._bokeh_timeout) === \"undefined\" || force === true) {\n    root._bokeh_timeout = Date.now() + 5000;\n    root._bokeh_failed_load = false;\n  }\n\n  const NB_LOAD_WARNING = {'data': {'text/html':\n     \"<div style='background-color: #fdd'>\\n\"+\n     \"<p>\\n\"+\n     \"BokehJS does not appear to have successfully loaded. If loading BokehJS from CDN, this \\n\"+\n     \"may be due to a slow or bad network connection. Possible fixes:\\n\"+\n     \"</p>\\n\"+\n     \"<ul>\\n\"+\n     \"<li>re-rerun `output_notebook()` to attempt to load from CDN again, or</li>\\n\"+\n     \"<li>use INLINE resources instead, as so:</li>\\n\"+\n     \"</ul>\\n\"+\n     \"<code>\\n\"+\n     \"from bokeh.resources import INLINE\\n\"+\n     \"output_notebook(resources=INLINE)\\n\"+\n     \"</code>\\n\"+\n     \"</div>\"}};\n\n  function display_loaded() {\n    const el = document.getElementById(\"f51288d9-8474-473e-918d-cb59527cb521\");\n    if (el != null) {\n      el.textContent = \"BokehJS is loading...\";\n    }\n    if (root.Bokeh !== undefined) {\n      if (el != null) {\n        el.textContent = \"BokehJS \" + root.Bokeh.version + \" successfully loaded.\";\n      }\n    } else if (Date.now() < root._bokeh_timeout) {\n      setTimeout(display_loaded, 100)\n    }\n  }\n\n  function run_callbacks() {\n    try {\n      root._bokeh_onload_callbacks.forEach(function(callback) {\n        if (callback != null)\n          callback();\n      });\n    } finally {\n      delete root._bokeh_onload_callbacks\n    }\n    console.debug(\"Bokeh: all callbacks have finished\");\n  }\n\n  function load_libs(css_urls, js_urls, callback) {\n    if (css_urls == null) css_urls = [];\n    if (js_urls == null) js_urls = [];\n\n    root._bokeh_onload_callbacks.push(callback);\n    if (root._bokeh_is_loading > 0) {\n      console.debug(\"Bokeh: BokehJS is being loaded, scheduling callback at\", now());\n      return null;\n    }\n    if (js_urls == null || js_urls.length === 0) {\n      run_callbacks();\n      return null;\n    }\n    console.debug(\"Bokeh: BokehJS not loaded, scheduling load and callback at\", now());\n    root._bokeh_is_loading = css_urls.length + js_urls.length;\n\n    function on_load() {\n      root._bokeh_is_loading--;\n      if (root._bokeh_is_loading === 0) {\n        console.debug(\"Bokeh: all BokehJS libraries/stylesheets loaded\");\n        run_callbacks()\n      }\n    }\n\n    function on_error(url) {\n      console.error(\"failed to load \" + url);\n    }\n\n    for (let i = 0; i < css_urls.length; i++) {\n      const url = css_urls[i];\n      const element = document.createElement(\"link\");\n      element.onload = on_load;\n      element.onerror = on_error.bind(null, url);\n      element.rel = \"stylesheet\";\n      element.type = \"text/css\";\n      element.href = url;\n      console.debug(\"Bokeh: injecting link tag for BokehJS stylesheet: \", url);\n      document.body.appendChild(element);\n    }\n\n    for (let i = 0; i < js_urls.length; i++) {\n      const url = js_urls[i];\n      const element = document.createElement('script');\n      element.onload = on_load;\n      element.onerror = on_error.bind(null, url);\n      element.async = false;\n      element.src = url;\n      console.debug(\"Bokeh: injecting script tag for BokehJS library: \", url);\n      document.head.appendChild(element);\n    }\n  };\n\n  function inject_raw_css(css) {\n    const element = document.createElement(\"style\");\n    element.appendChild(document.createTextNode(css));\n    document.body.appendChild(element);\n  }\n\n  const js_urls = [\"https://cdn.bokeh.org/bokeh/release/bokeh-3.3.4.min.js\", \"https://cdn.bokeh.org/bokeh/release/bokeh-gl-3.3.4.min.js\", \"https://cdn.bokeh.org/bokeh/release/bokeh-widgets-3.3.4.min.js\", \"https://cdn.bokeh.org/bokeh/release/bokeh-tables-3.3.4.min.js\", \"https://cdn.bokeh.org/bokeh/release/bokeh-mathjax-3.3.4.min.js\"];\n  const css_urls = [];\n\n  const inline_js = [    function(Bokeh) {\n      Bokeh.set_log_level(\"info\");\n    },\nfunction(Bokeh) {\n    }\n  ];\n\n  function run_inline_js() {\n    if (root.Bokeh !== undefined || force === true) {\n          for (let i = 0; i < inline_js.length; i++) {\n      inline_js[i].call(root, root.Bokeh);\n    }\nif (force === true) {\n        display_loaded();\n      }} else if (Date.now() < root._bokeh_timeout) {\n      setTimeout(run_inline_js, 100);\n    } else if (!root._bokeh_failed_load) {\n      console.log(\"Bokeh: BokehJS failed to load within specified timeout.\");\n      root._bokeh_failed_load = true;\n    } else if (force !== true) {\n      const cell = $(document.getElementById(\"f51288d9-8474-473e-918d-cb59527cb521\")).parents('.cell').data().cell;\n      cell.output_area.append_execute_result(NB_LOAD_WARNING)\n    }\n  }\n\n  if (root._bokeh_is_loading === 0) {\n    console.debug(\"Bokeh: BokehJS loaded, going straight to plotting\");\n    run_inline_js();\n  } else {\n    load_libs(css_urls, js_urls, function() {\n      console.debug(\"Bokeh: BokehJS plotting callback run at\", now());\n      run_inline_js();\n    });\n  }\n}(window));",
      "application/vnd.bokehjs_load.v0+json": ""
     },
     "metadata": {},
     "output_type": "display_data"
    },
    {
     "name": "stderr",
     "output_type": "stream",
     "text": [
      "Setting default log level to \"WARN\".\n",
      "To adjust logging level use sc.setLogLevel(newLevel). For SparkR, use setLogLevel(newLevel).\n",
      "25/04/24 23:32:30 WARN NativeCodeLoader: Unable to load native-hadoop library for your platform... using builtin-java classes where applicable\n",
      "25/04/24 23:32:30 WARN Utils: Service 'SparkUI' could not bind on port 4040. Attempting port 4041.\n",
      "25/04/24 23:32:30 WARN Utils: Service 'SparkUI' could not bind on port 4041. Attempting port 4042.\n",
      "25/04/24 23:32:30 WARN Utils: Service 'SparkUI' could not bind on port 4042. Attempting port 4043.\n",
      "                                                                                \r"
     ]
    }
   ],
   "source": [
    "import os\n",
    "\n",
    "import hail as hl\n",
    "import numpy as np\n",
    "import pyspark.sql.functions as f\n",
    "from pyspark.sql import DataFrame\n",
    "\n",
    "from gentropy.common.session import Session\n",
    "from gentropy.dataset.study_index import StudyIndex\n",
    "from gentropy.dataset.summary_statistics import SummaryStatistics\n",
    "from gentropy.dataset.study_locus import StudyLocus\n",
    "from gentropy.susie_finemapper import SusieFineMapperStep\n",
    "from gentropy.method.drug_enrichment_from_evid import chemblDrugEnrichment\n",
    "\n",
    "\"\"\"Common utilities for the project.\"\"\"\n",
    "\n",
    "import os\n",
    "from pathlib import Path\n",
    "from gentropy.common.session import Session\n",
    "import logging\n",
    "\n",
    "\n",
    "def get_gcs_credentials() -> str:\n",
    "    \"\"\"Get the credentials for google cloud storage.\"\"\"\n",
    "    app_default_credentials = os.path.join(\n",
    "        os.getenv(\"HOME\", \".\"), \".config/gcloud/application_default_credentials.json\"\n",
    "    )\n",
    "\n",
    "    service_account_credentials = os.path.join(\n",
    "        os.getenv(\"HOME\", \".\"), \".config/gcloud/service_account_credentials.json\"\n",
    "    )\n",
    "\n",
    "    if Path(app_default_credentials).exists():\n",
    "        return app_default_credentials\n",
    "    else:\n",
    "        raise FileNotFoundError(\"No GCS credentials found.\")\n",
    "\n",
    "\n",
    "def get_gcs_hadoop_connector_jar() -> str:\n",
    "    \"\"\"Get the google cloud storage hadoop connector for spark.\n",
    "\n",
    "    This function will return the url to download the hadoop jar.\n",
    "    \"\"\"\n",
    "\n",
    "    return (\n",
    "        \"https://storage.googleapis.com/hadoop-lib/gcs/gcs-connector-hadoop3-latest.jar\"\n",
    "    )\n",
    "\n",
    "\n",
    "def gcs_conf(\n",
    "    credentials_path=None, project=\"open-targets-genetics-dev\"\n",
    ") -> dict[str, str]:\n",
    "    \"\"\"Get the spark configuration with hadoop connector for google cloud storage.\"\"\"\n",
    "    credentials_path = credentials_path or get_gcs_credentials()\n",
    "    return {\n",
    "        \"spark.driver.memory\": \"12g\",\n",
    "        \"spark.kryoserializer.buffer.max\": \"500m\",\n",
    "        \"spark.driver.maxResultSize\":\"2g\",\n",
    "        \"spark.hadoop.fs.gs.impl\": \"com.google.cloud.hadoop.fs.gcs.GoogleHadoopFileSystem\",\n",
    "        \"spark.jars\": get_gcs_hadoop_connector_jar(),\n",
    "        \"spark.hadoop.google.cloud.auth.service.account.enable\": \"true\",\n",
    "        \"spark.hadoop.fs.gs.project.id\": project,\n",
    "        \"spark.hadoop.google.cloud.auth.service.account.json.keyfile\": credentials_path,\n",
    "        \"spark.hadoop.fs.gs.requester.pays.mode\": \"AUTO\",\n",
    "    }\n",
    "\n",
    "\n",
    "class GentropySession(Session):\n",
    "    def __init__(self, *args, **kwargs):\n",
    "        if \"extended_spark_conf\" in kwargs:\n",
    "            kwargs[\"extended_spark_conf\"].update(gcs_conf())\n",
    "        else:\n",
    "            kwargs[\"extended_spark_conf\"] = gcs_conf()\n",
    "        super().__init__(*args, **kwargs)\n",
    "\n",
    "    @property\n",
    "    def conf(self):\n",
    "        logging.warning(\n",
    "            \"To change the config restart the session and use the `extended_spark_conf` parameter.\"\n",
    "        )\n",
    "        return self.spark.sparkContext.getConf().getAll()\n",
    "\n",
    "session= GentropySession()\n",
    "\n",
    "\n",
    "path_to_release_folder=\"gs://open-targets-data-releases/25.03/\"\n",
    "#path_to_release_folder=\"gs://open-targets-pre-data-releases/24.12-uo_test-3/output/genetics/parquet/\"\n",
    "#path_to_release_folder=\"gs://ot_orchestration/releases/25.02_freeze1/\"\n",
    "\n",
    "si=StudyIndex.from_parquet(session,path_to_release_folder+\"output/study/\")\n",
    "sl=StudyLocus.from_parquet(session,path_to_release_folder+\"output/credible_set/\")"
   ]
  },
  {
   "cell_type": "markdown",
   "id": "e3129cef",
   "metadata": {},
   "source": [
    "# Feature matrix evidence"
   ]
  },
  {
   "cell_type": "code",
   "execution_count": 2,
   "id": "349f343d",
   "metadata": {},
   "outputs": [
    {
     "name": "stderr",
     "output_type": "stream",
     "text": [
      "25/04/24 23:33:12 WARN SparkStringUtils: Truncated the string representation of a plan since it was too large. This behavior can be adjusted by setting 'spark.sql.debug.maxToStringFields'.\n",
      "                                                                                \r"
     ]
    },
    {
     "data": {
      "text/plain": [
       "7734143"
      ]
     },
     "execution_count": 2,
     "metadata": {},
     "output_type": "execute_result"
    }
   ],
   "source": [
    "fm=session.spark.read.parquet(path_to_release_folder+\"intermediate/l2g_feature_matrix/\")\n",
    "fm=fm.filter(f.col(\"isProteinCoding\")==1).cache()\n",
    "fm.count()"
   ]
  },
  {
   "cell_type": "code",
   "execution_count": 3,
   "id": "9941f541",
   "metadata": {},
   "outputs": [],
   "source": [
    "# combinig it with l2g predictions\n",
    "l2g=session.spark.read.parquet(path_to_release_folder+\"output/l2g_prediction\")"
   ]
  },
  {
   "cell_type": "code",
   "execution_count": 4,
   "id": "fdb79f4c",
   "metadata": {},
   "outputs": [
    {
     "name": "stderr",
     "output_type": "stream",
     "text": [
      "                                                                                \r"
     ]
    },
    {
     "data": {
      "text/plain": [
       "7734143"
      ]
     },
     "execution_count": 4,
     "metadata": {},
     "output_type": "execute_result"
    }
   ],
   "source": [
    "combined_df = fm.join(l2g.drop(\"features\",\"shapBaseValue\"), on=[\"geneId\", \"studyLocusId\"], how=\"left\").fillna(0)\n",
    "\n",
    "combined_df.count()"
   ]
  },
  {
   "cell_type": "code",
   "execution_count": 5,
   "id": "add2c975",
   "metadata": {},
   "outputs": [
    {
     "name": "stderr",
     "output_type": "stream",
     "text": [
      "                                                                                \r"
     ]
    },
    {
     "data": {
      "text/plain": [
       "7734143"
      ]
     },
     "execution_count": 5,
     "metadata": {},
     "output_type": "execute_result"
    }
   ],
   "source": [
    "clpp_thr=0.01\n",
    "coloc_thr=0.8\n",
    "\n",
    "combined_df = combined_df.withColumn(\n",
    "    \"l2g_005\",\n",
    "    f.when(f.col(\"score\") >= 0.05, 1).otherwise(0)\n",
    ")\n",
    "combined_df = combined_df.withColumn(\n",
    "    \"eQTL_coloc\",\n",
    "    f.when(\n",
    "    (f.col(\"eQtlColocClppMaximum\")>=clpp_thr) | \n",
    "    (f.col(\"eQtlColocH4Maximum\")>=coloc_thr), 1).otherwise(0)\n",
    ")\n",
    "combined_df = combined_df.withColumn(\n",
    "    \"pQTL_coloc\",\n",
    "    f.when(\n",
    "    (f.col(\"pQtlColocClppMaximum\")>=clpp_thr) | \n",
    "    (f.col(\"pQtlColocH4Maximum\")>=coloc_thr), 1).otherwise(0)\n",
    ")\n",
    "combined_df = combined_df.withColumn(\n",
    "    \"sQTL_coloc\",\n",
    "    f.when(\n",
    "    (f.col(\"sQtlColocClppMaximum\")>=clpp_thr) | \n",
    "    (f.col(\"sQtlColocH4Maximum\")>=coloc_thr), 1).otherwise(0)\n",
    ")\n",
    "combined_df = combined_df.withColumn(\n",
    "    \"VEP\",\n",
    "    f.when((f.col(\"vepMaximum\")>=0.66), 1).otherwise(0)\n",
    ")\n",
    "combined_df = combined_df.withColumn(\n",
    "    \"distance\",\n",
    "    f.when((f.col(\"distanceSentinelFootprintNeighbourhood\")==1) |\n",
    "    (f.col(\"distanceSentinelTssNeighbourhood\")==1), 1).otherwise(0)\n",
    ")\n",
    "\n",
    "combined_df = combined_df.withColumn(\n",
    "    \"sum_coloc_vep_distance\",\n",
    "    f.col(\"eQTL_coloc\") + f.col(\"pQTL_coloc\") + f.col(\"sQTL_coloc\") + f.col(\"VEP\") + f.col(\"distance\")\n",
    ")\n",
    "\n",
    "combined_df = combined_df.withColumn(\n",
    "    \"eQTLs_not_in_L2G\",\n",
    "    f.when((f.col(\"eQTL_coloc\")==1) &\n",
    "    (f.col(\"l2g_005\")==0), 1).otherwise(0)\n",
    ").cache()\n",
    "\n",
    "combined_df.count()"
   ]
  },
  {
   "cell_type": "code",
   "execution_count": 6,
   "id": "aae8f5ce",
   "metadata": {},
   "outputs": [],
   "source": [
    "colnames=[\"eQTL_coloc\",\"pQTL_coloc\",\"sQTL_coloc\",\"VEP\",\"distance\",\"sum_coloc_vep_distance\",\"eQTLs_not_in_L2G\"]"
   ]
  },
  {
   "cell_type": "code",
   "execution_count": 7,
   "id": "142f12dd",
   "metadata": {},
   "outputs": [],
   "source": [
    "disease_index_path=path_to_release_folder+\"output/disease/disease.parquet\"\n",
    "disease_index_orig = session.spark.read.parquet(disease_index_path)\n",
    "\n",
    "platform_chembl_evidence_path=path_to_release_folder+\"output/evidence/sourceId=chembl\"\n",
    "chembl_evidence=session.spark.read.parquet(platform_chembl_evidence_path)"
   ]
  },
  {
   "cell_type": "code",
   "execution_count": 8,
   "id": "c7fc05c5",
   "metadata": {},
   "outputs": [],
   "source": [
    "import pandas as pd\n",
    "all_enrich = []"
   ]
  },
  {
   "cell_type": "code",
   "execution_count": 9,
   "id": "417569b8",
   "metadata": {},
   "outputs": [
    {
     "name": "stdout",
     "output_type": "stream",
     "text": [
      "eQTL_coloc\n"
     ]
    },
    {
     "name": "stderr",
     "output_type": "stream",
     "text": [
      "                                                                                \r"
     ]
    },
    {
     "name": "stdout",
     "output_type": "stream",
     "text": [
      "pQTL_coloc\n"
     ]
    },
    {
     "name": "stderr",
     "output_type": "stream",
     "text": [
      "                                                                                \r"
     ]
    },
    {
     "name": "stdout",
     "output_type": "stream",
     "text": [
      "sQTL_coloc\n"
     ]
    },
    {
     "name": "stderr",
     "output_type": "stream",
     "text": [
      "                                                                                \r"
     ]
    },
    {
     "name": "stdout",
     "output_type": "stream",
     "text": [
      "VEP\n"
     ]
    },
    {
     "name": "stderr",
     "output_type": "stream",
     "text": [
      "                                                                                \r"
     ]
    },
    {
     "name": "stdout",
     "output_type": "stream",
     "text": [
      "distance\n"
     ]
    },
    {
     "name": "stderr",
     "output_type": "stream",
     "text": [
      "                                                                                \r"
     ]
    },
    {
     "name": "stdout",
     "output_type": "stream",
     "text": [
      "sum_coloc_vep_distance\n"
     ]
    },
    {
     "name": "stderr",
     "output_type": "stream",
     "text": [
      "                                                                                \r"
     ]
    },
    {
     "name": "stdout",
     "output_type": "stream",
     "text": [
      "eQTLs_not_in_L2G\n"
     ]
    },
    {
     "name": "stderr",
     "output_type": "stream",
     "text": [
      "                                                                                \r"
     ]
    }
   ],
   "source": [
    "for coln in colnames:\n",
    "    print(coln)\n",
    "    evidence=chemblDrugEnrichment.to_disease_target_evidence(table_with_score=combined_df,\n",
    "        score_column=coln,\n",
    "        datasource_id=coln,\n",
    "        study_locus=sl,\n",
    "        study_index=si,\n",
    "        min_score=0.5\n",
    "    ).cache()\n",
    "    enrich=chemblDrugEnrichment.drug_enrichemnt_from_evidence(\n",
    "        evid=evidence,\n",
    "        disease_index_orig=disease_index_orig,\n",
    "        chembl_orig=chembl_evidence,\n",
    "        indirect_assoc_score_thr=0.5,\n",
    "        efo_ancestors_to_remove=[\"MONDO_0045024\"]\n",
    "    )\n",
    "    enrich[\"datasource\"] = coln\n",
    "    all_enrich.append(enrich)"
   ]
  },
  {
   "cell_type": "code",
   "execution_count": null,
   "id": "34f90483",
   "metadata": {},
   "outputs": [
    {
     "name": "stderr",
     "output_type": "stream",
     "text": [
      "                                                                                \r"
     ]
    }
   ],
   "source": [
    "#pQTLS-transpatls\n",
    "#coln=\"pQTL_coloc\"\n",
    "#evidence=chemblDrugEnrichment.to_disease_target_evidence(table_with_score=combined_df,\n",
    "#    score_column=coln,\n",
    "#    datasource_id=coln,\n",
    "#    study_locus=sl,\n",
    "#    study_index=si,\n",
    "#    min_score=0.5\n",
    "#)\n",
    "#filtered_evidence = evidence.join(\n",
    "#    trsn_pqtls_evidence.select(\"targetId\", \"diseaseId\"),\n",
    "#    on=[\"targetId\", \"diseaseId\"],\n",
    "#    how=\"left_anti\"\n",
    "#)\n",
    "#enrich=chemblDrugEnrichment.drug_enrichemnt_from_evidence(\n",
    "#    evid=filtered_evidence,\n",
    "#    disease_index_orig=disease_index_orig,\n",
    "#    chembl_orig=chembl_evidence, \n",
    "#    indirect_assoc_score_thr=0.5,\n",
    "#    efo_ancestors_to_remove=[\"MONDO_0045024\"]\n",
    "#)\n",
    "#enrich[\"datasource\"] = \"cis_pQTL\"\n",
    "#all_enrich.append(enrich)"
   ]
  },
  {
   "cell_type": "code",
   "execution_count": 10,
   "id": "da1177fb",
   "metadata": {},
   "outputs": [],
   "source": [
    "combined_enrich = pd.concat(all_enrich, ignore_index=True)"
   ]
  },
  {
   "cell_type": "code",
   "execution_count": 11,
   "id": "f7a0009f",
   "metadata": {},
   "outputs": [
    {
     "data": {
      "text/html": [
       "<div>\n",
       "<style scoped>\n",
       "    .dataframe tbody tr th:only-of-type {\n",
       "        vertical-align: middle;\n",
       "    }\n",
       "\n",
       "    .dataframe tbody tr th {\n",
       "        vertical-align: top;\n",
       "    }\n",
       "\n",
       "    .dataframe thead th {\n",
       "        text-align: right;\n",
       "    }\n",
       "</style>\n",
       "<table border=\"1\" class=\"dataframe\">\n",
       "  <thead>\n",
       "    <tr style=\"text-align: right;\">\n",
       "      <th></th>\n",
       "      <th>clinicalPhase</th>\n",
       "      <th>odds_ratio</th>\n",
       "      <th>p_value</th>\n",
       "      <th>ci_low</th>\n",
       "      <th>ci_high</th>\n",
       "      <th>no_evid-low_clinphase</th>\n",
       "      <th>no_evid-high_clinphase</th>\n",
       "      <th>yes_evid-low_clinphase</th>\n",
       "      <th>yes_evid-high_clinphase</th>\n",
       "      <th>total_indirect_assoc</th>\n",
       "      <th>datasource</th>\n",
       "    </tr>\n",
       "  </thead>\n",
       "  <tbody>\n",
       "    <tr>\n",
       "      <th>0</th>\n",
       "      <td>2+</td>\n",
       "      <td>1.506217</td>\n",
       "      <td>4.694139e-03</td>\n",
       "      <td>1.126551</td>\n",
       "      <td>2.013837</td>\n",
       "      <td>6111</td>\n",
       "      <td>30819</td>\n",
       "      <td>52</td>\n",
       "      <td>395</td>\n",
       "      <td>475428</td>\n",
       "      <td>eQTL_coloc</td>\n",
       "    </tr>\n",
       "    <tr>\n",
       "      <th>1</th>\n",
       "      <td>3+</td>\n",
       "      <td>1.812091</td>\n",
       "      <td>7.085542e-10</td>\n",
       "      <td>1.498576</td>\n",
       "      <td>2.191195</td>\n",
       "      <td>20392</td>\n",
       "      <td>16538</td>\n",
       "      <td>181</td>\n",
       "      <td>266</td>\n",
       "      <td>475428</td>\n",
       "      <td>eQTL_coloc</td>\n",
       "    </tr>\n",
       "    <tr>\n",
       "      <th>2</th>\n",
       "      <td>4+</td>\n",
       "      <td>3.175194</td>\n",
       "      <td>2.575596e-24</td>\n",
       "      <td>2.588372</td>\n",
       "      <td>3.895057</td>\n",
       "      <td>32501</td>\n",
       "      <td>4429</td>\n",
       "      <td>312</td>\n",
       "      <td>135</td>\n",
       "      <td>475428</td>\n",
       "      <td>eQTL_coloc</td>\n",
       "    </tr>\n",
       "    <tr>\n",
       "      <th>3</th>\n",
       "      <td>2+</td>\n",
       "      <td>2.274356</td>\n",
       "      <td>2.094285e-02</td>\n",
       "      <td>1.103751</td>\n",
       "      <td>4.686470</td>\n",
       "      <td>6155</td>\n",
       "      <td>31122</td>\n",
       "      <td>8</td>\n",
       "      <td>92</td>\n",
       "      <td>40429</td>\n",
       "      <td>pQTL_coloc</td>\n",
       "    </tr>\n",
       "    <tr>\n",
       "      <th>4</th>\n",
       "      <td>3+</td>\n",
       "      <td>2.278631</td>\n",
       "      <td>7.102439e-05</td>\n",
       "      <td>1.510047</td>\n",
       "      <td>3.438409</td>\n",
       "      <td>20538</td>\n",
       "      <td>16739</td>\n",
       "      <td>35</td>\n",
       "      <td>65</td>\n",
       "      <td>40429</td>\n",
       "      <td>pQTL_coloc</td>\n",
       "    </tr>\n",
       "    <tr>\n",
       "      <th>5</th>\n",
       "      <td>4+</td>\n",
       "      <td>3.893473</td>\n",
       "      <td>3.127336e-09</td>\n",
       "      <td>2.578482</td>\n",
       "      <td>5.879092</td>\n",
       "      <td>32748</td>\n",
       "      <td>4529</td>\n",
       "      <td>65</td>\n",
       "      <td>35</td>\n",
       "      <td>40429</td>\n",
       "      <td>pQTL_coloc</td>\n",
       "    </tr>\n",
       "    <tr>\n",
       "      <th>6</th>\n",
       "      <td>2+</td>\n",
       "      <td>1.738724</td>\n",
       "      <td>4.566229e-03</td>\n",
       "      <td>1.166609</td>\n",
       "      <td>2.591408</td>\n",
       "      <td>6136</td>\n",
       "      <td>30977</td>\n",
       "      <td>27</td>\n",
       "      <td>237</td>\n",
       "      <td>281879</td>\n",
       "      <td>sQTL_coloc</td>\n",
       "    </tr>\n",
       "    <tr>\n",
       "      <th>7</th>\n",
       "      <td>3+</td>\n",
       "      <td>1.922538</td>\n",
       "      <td>2.044068e-07</td>\n",
       "      <td>1.500052</td>\n",
       "      <td>2.464015</td>\n",
       "      <td>20470</td>\n",
       "      <td>16643</td>\n",
       "      <td>103</td>\n",
       "      <td>161</td>\n",
       "      <td>281879</td>\n",
       "      <td>sQTL_coloc</td>\n",
       "    </tr>\n",
       "    <tr>\n",
       "      <th>8</th>\n",
       "      <td>4+</td>\n",
       "      <td>3.399271</td>\n",
       "      <td>3.523711e-17</td>\n",
       "      <td>2.618746</td>\n",
       "      <td>4.412434</td>\n",
       "      <td>32633</td>\n",
       "      <td>4480</td>\n",
       "      <td>180</td>\n",
       "      <td>84</td>\n",
       "      <td>281879</td>\n",
       "      <td>sQTL_coloc</td>\n",
       "    </tr>\n",
       "    <tr>\n",
       "      <th>9</th>\n",
       "      <td>2+</td>\n",
       "      <td>3.155833</td>\n",
       "      <td>9.804996e-06</td>\n",
       "      <td>1.759984</td>\n",
       "      <td>5.658734</td>\n",
       "      <td>6151</td>\n",
       "      <td>31023</td>\n",
       "      <td>12</td>\n",
       "      <td>191</td>\n",
       "      <td>121530</td>\n",
       "      <td>VEP</td>\n",
       "    </tr>\n",
       "    <tr>\n",
       "      <th>10</th>\n",
       "      <td>3+</td>\n",
       "      <td>2.735104</td>\n",
       "      <td>7.243859e-12</td>\n",
       "      <td>2.030164</td>\n",
       "      <td>3.684823</td>\n",
       "      <td>20510</td>\n",
       "      <td>16664</td>\n",
       "      <td>63</td>\n",
       "      <td>140</td>\n",
       "      <td>121530</td>\n",
       "      <td>VEP</td>\n",
       "    </tr>\n",
       "    <tr>\n",
       "      <th>11</th>\n",
       "      <td>4+</td>\n",
       "      <td>5.258201</td>\n",
       "      <td>1.935925e-26</td>\n",
       "      <td>3.971750</td>\n",
       "      <td>6.961335</td>\n",
       "      <td>32695</td>\n",
       "      <td>4479</td>\n",
       "      <td>118</td>\n",
       "      <td>85</td>\n",
       "      <td>121530</td>\n",
       "      <td>VEP</td>\n",
       "    </tr>\n",
       "    <tr>\n",
       "      <th>12</th>\n",
       "      <td>2+</td>\n",
       "      <td>1.692133</td>\n",
       "      <td>6.290037e-07</td>\n",
       "      <td>1.359360</td>\n",
       "      <td>2.106369</td>\n",
       "      <td>6072</td>\n",
       "      <td>30442</td>\n",
       "      <td>91</td>\n",
       "      <td>772</td>\n",
       "      <td>657548</td>\n",
       "      <td>distance</td>\n",
       "    </tr>\n",
       "    <tr>\n",
       "      <th>13</th>\n",
       "      <td>3+</td>\n",
       "      <td>2.009435</td>\n",
       "      <td>1.629262e-23</td>\n",
       "      <td>1.748959</td>\n",
       "      <td>2.308704</td>\n",
       "      <td>20243</td>\n",
       "      <td>16271</td>\n",
       "      <td>330</td>\n",
       "      <td>533</td>\n",
       "      <td>657548</td>\n",
       "      <td>distance</td>\n",
       "    </tr>\n",
       "    <tr>\n",
       "      <th>14</th>\n",
       "      <td>4+</td>\n",
       "      <td>3.282965</td>\n",
       "      <td>4.115394e-47</td>\n",
       "      <td>2.830204</td>\n",
       "      <td>3.808155</td>\n",
       "      <td>32213</td>\n",
       "      <td>4301</td>\n",
       "      <td>600</td>\n",
       "      <td>263</td>\n",
       "      <td>657548</td>\n",
       "      <td>distance</td>\n",
       "    </tr>\n",
       "    <tr>\n",
       "      <th>15</th>\n",
       "      <td>2+</td>\n",
       "      <td>1.522124</td>\n",
       "      <td>1.391803e-05</td>\n",
       "      <td>1.250802</td>\n",
       "      <td>1.852302</td>\n",
       "      <td>6048</td>\n",
       "      <td>30336</td>\n",
       "      <td>115</td>\n",
       "      <td>878</td>\n",
       "      <td>911508</td>\n",
       "      <td>sum_coloc_vep_distance</td>\n",
       "    </tr>\n",
       "    <tr>\n",
       "      <th>16</th>\n",
       "      <td>3+</td>\n",
       "      <td>1.917853</td>\n",
       "      <td>1.442003e-23</td>\n",
       "      <td>1.685789</td>\n",
       "      <td>2.181862</td>\n",
       "      <td>20182</td>\n",
       "      <td>16202</td>\n",
       "      <td>391</td>\n",
       "      <td>602</td>\n",
       "      <td>911508</td>\n",
       "      <td>sum_coloc_vep_distance</td>\n",
       "    </tr>\n",
       "    <tr>\n",
       "      <th>17</th>\n",
       "      <td>4+</td>\n",
       "      <td>3.067460</td>\n",
       "      <td>8.563772e-47</td>\n",
       "      <td>2.664765</td>\n",
       "      <td>3.531009</td>\n",
       "      <td>32108</td>\n",
       "      <td>4276</td>\n",
       "      <td>705</td>\n",
       "      <td>288</td>\n",
       "      <td>911508</td>\n",
       "      <td>sum_coloc_vep_distance</td>\n",
       "    </tr>\n",
       "    <tr>\n",
       "      <th>18</th>\n",
       "      <td>2+</td>\n",
       "      <td>1.005176</td>\n",
       "      <td>1.000000e+00</td>\n",
       "      <td>0.526335</td>\n",
       "      <td>1.919651</td>\n",
       "      <td>6152</td>\n",
       "      <td>31158</td>\n",
       "      <td>11</td>\n",
       "      <td>56</td>\n",
       "      <td>171917</td>\n",
       "      <td>eQTLs_not_in_L2G</td>\n",
       "    </tr>\n",
       "    <tr>\n",
       "      <th>19</th>\n",
       "      <td>3+</td>\n",
       "      <td>1.339777</td>\n",
       "      <td>2.686316e-01</td>\n",
       "      <td>0.829182</td>\n",
       "      <td>2.164787</td>\n",
       "      <td>20541</td>\n",
       "      <td>16769</td>\n",
       "      <td>32</td>\n",
       "      <td>35</td>\n",
       "      <td>171917</td>\n",
       "      <td>eQTLs_not_in_L2G</td>\n",
       "    </tr>\n",
       "    <tr>\n",
       "      <th>20</th>\n",
       "      <td>4+</td>\n",
       "      <td>2.077443</td>\n",
       "      <td>2.238579e-02</td>\n",
       "      <td>1.168662</td>\n",
       "      <td>3.692916</td>\n",
       "      <td>32761</td>\n",
       "      <td>4549</td>\n",
       "      <td>52</td>\n",
       "      <td>15</td>\n",
       "      <td>171917</td>\n",
       "      <td>eQTLs_not_in_L2G</td>\n",
       "    </tr>\n",
       "  </tbody>\n",
       "</table>\n",
       "</div>"
      ],
      "text/plain": [
       "   clinicalPhase  odds_ratio       p_value    ci_low   ci_high  \\\n",
       "0             2+    1.506217  4.694139e-03  1.126551  2.013837   \n",
       "1             3+    1.812091  7.085542e-10  1.498576  2.191195   \n",
       "2             4+    3.175194  2.575596e-24  2.588372  3.895057   \n",
       "3             2+    2.274356  2.094285e-02  1.103751  4.686470   \n",
       "4             3+    2.278631  7.102439e-05  1.510047  3.438409   \n",
       "5             4+    3.893473  3.127336e-09  2.578482  5.879092   \n",
       "6             2+    1.738724  4.566229e-03  1.166609  2.591408   \n",
       "7             3+    1.922538  2.044068e-07  1.500052  2.464015   \n",
       "8             4+    3.399271  3.523711e-17  2.618746  4.412434   \n",
       "9             2+    3.155833  9.804996e-06  1.759984  5.658734   \n",
       "10            3+    2.735104  7.243859e-12  2.030164  3.684823   \n",
       "11            4+    5.258201  1.935925e-26  3.971750  6.961335   \n",
       "12            2+    1.692133  6.290037e-07  1.359360  2.106369   \n",
       "13            3+    2.009435  1.629262e-23  1.748959  2.308704   \n",
       "14            4+    3.282965  4.115394e-47  2.830204  3.808155   \n",
       "15            2+    1.522124  1.391803e-05  1.250802  1.852302   \n",
       "16            3+    1.917853  1.442003e-23  1.685789  2.181862   \n",
       "17            4+    3.067460  8.563772e-47  2.664765  3.531009   \n",
       "18            2+    1.005176  1.000000e+00  0.526335  1.919651   \n",
       "19            3+    1.339777  2.686316e-01  0.829182  2.164787   \n",
       "20            4+    2.077443  2.238579e-02  1.168662  3.692916   \n",
       "\n",
       "    no_evid-low_clinphase  no_evid-high_clinphase  yes_evid-low_clinphase  \\\n",
       "0                    6111                   30819                      52   \n",
       "1                   20392                   16538                     181   \n",
       "2                   32501                    4429                     312   \n",
       "3                    6155                   31122                       8   \n",
       "4                   20538                   16739                      35   \n",
       "5                   32748                    4529                      65   \n",
       "6                    6136                   30977                      27   \n",
       "7                   20470                   16643                     103   \n",
       "8                   32633                    4480                     180   \n",
       "9                    6151                   31023                      12   \n",
       "10                  20510                   16664                      63   \n",
       "11                  32695                    4479                     118   \n",
       "12                   6072                   30442                      91   \n",
       "13                  20243                   16271                     330   \n",
       "14                  32213                    4301                     600   \n",
       "15                   6048                   30336                     115   \n",
       "16                  20182                   16202                     391   \n",
       "17                  32108                    4276                     705   \n",
       "18                   6152                   31158                      11   \n",
       "19                  20541                   16769                      32   \n",
       "20                  32761                    4549                      52   \n",
       "\n",
       "    yes_evid-high_clinphase  total_indirect_assoc              datasource  \n",
       "0                       395                475428              eQTL_coloc  \n",
       "1                       266                475428              eQTL_coloc  \n",
       "2                       135                475428              eQTL_coloc  \n",
       "3                        92                 40429              pQTL_coloc  \n",
       "4                        65                 40429              pQTL_coloc  \n",
       "5                        35                 40429              pQTL_coloc  \n",
       "6                       237                281879              sQTL_coloc  \n",
       "7                       161                281879              sQTL_coloc  \n",
       "8                        84                281879              sQTL_coloc  \n",
       "9                       191                121530                     VEP  \n",
       "10                      140                121530                     VEP  \n",
       "11                       85                121530                     VEP  \n",
       "12                      772                657548                distance  \n",
       "13                      533                657548                distance  \n",
       "14                      263                657548                distance  \n",
       "15                      878                911508  sum_coloc_vep_distance  \n",
       "16                      602                911508  sum_coloc_vep_distance  \n",
       "17                      288                911508  sum_coloc_vep_distance  \n",
       "18                       56                171917        eQTLs_not_in_L2G  \n",
       "19                       35                171917        eQTLs_not_in_L2G  \n",
       "20                       15                171917        eQTLs_not_in_L2G  "
      ]
     },
     "execution_count": 11,
     "metadata": {},
     "output_type": "execute_result"
    }
   ],
   "source": [
    "combined_enrich"
   ]
  },
  {
   "cell_type": "code",
   "execution_count": 12,
   "id": "e4606b9c",
   "metadata": {},
   "outputs": [
    {
     "data": {
      "image/png": "[encoded data removed]",
      "text/plain": [
       "<Figure size 1000x600 with 1 Axes>"
      ]
     },
     "metadata": {},
     "output_type": "display_data"
    }
   ],
   "source": [
    "import matplotlib.pyplot as plt\n",
    "\n",
    "# Assuming `combined_enrich` is your pandas DataFrame\n",
    "# Sort the DataFrame by odds_ratio for better visualization\n",
    "combined_enrich_4=combined_enrich[combined_enrich[\"clinicalPhase\"]==\"4+\"]\n",
    "combined_enrich_4 = combined_enrich_4.sort_values(by=\"odds_ratio\", ascending=True)\n",
    "\n",
    "# Extract data for the plot\n",
    "datasources = combined_enrich_4.apply(\n",
    "    lambda row: f\"{row['datasource']} / {row['total_indirect_assoc']} / {row['yes_evid-high_clinphase']}\", axis=1\n",
    ")\n",
    "odds_ratios = combined_enrich_4[\"odds_ratio\"]\n",
    "ci_low = combined_enrich_4[\"ci_low\"]\n",
    "ci_high = combined_enrich_4[\"ci_high\"]\n",
    "\n",
    "# Create the forest plot\n",
    "plt.figure(figsize=(10, 6))\n",
    "plt.errorbar(odds_ratios, datasources, xerr=[odds_ratios - ci_low, ci_high - odds_ratios], fmt='o', color='blue', ecolor='black', capsize=3, label=\"Odds Ratio (95% CI)\")\n",
    "\n",
    "# Add labels and title\n",
    "plt.axvline(x=1, color='red', linestyle='--', label=\"Null Effect (OR=1)\")\n",
    "plt.xlabel(\"Odds Ratio\")\n",
    "plt.ylabel(\"Datasource\")\n",
    "plt.title(\"Forest Plot of Odds Ratios with 95% Confidence Intervals\")\n",
    "plt.legend()\n",
    "plt.grid(axis='x', linestyle='--', alpha=0.7)\n",
    "\n",
    "# Show the plot\n",
    "plt.tight_layout()\n",
    "plt.show()"
   ]
  },
  {
   "cell_type": "code",
   "execution_count": 13,
   "id": "54c88687",
   "metadata": {},
   "outputs": [],
   "source": [
    "folder_to_save=\"chembl_enrichment/\"\n",
    "combined_enrich.to_csv(folder_to_save+\"feature_based.csv\", index=False)"
   ]
  },
  {
   "cell_type": "code",
   "execution_count": null,
   "id": "04254465",
   "metadata": {},
   "outputs": [],
   "source": []
  }
 ],
 "metadata": {
  "kernelspec": {
   "display_name": ".venv",
   "language": "python",
   "name": "python3"
  },
  "language_info": {
   "codemirror_mode": {
    "name": "ipython",
    "version": 3
   },
   "file_extension": ".py",
   "mimetype": "text/x-python",
   "name": "python",
   "nbconvert_exporter": "python",
   "pygments_lexer": "ipython3",
   "version": "3.11.11"
  }
 },
 "nbformat": 4,
 "nbformat_minor": 5
}

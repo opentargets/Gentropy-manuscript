{
 "cells": [
  {
   "cell_type": "code",
   "execution_count": null,
   "id": "bbc29418",
   "metadata": {},
   "outputs": [
    {
     "name": "stdout",
     "output_type": "stream",
     "text": [
      "Your browser has been opened to visit:\n",
      "\n",
      "    https://accounts.google.com/o/oauth2/auth?response_type=code&client_id=764086051850-6qr4p6gpi6hn506pt8ejuq83di341hur.apps.googleusercontent.com&redirect_uri=http%3A%2F%2Flocalhost%3A8085%2F&scope=openid+https%3A%2F%2Fwww.googleapis.com%2Fauth%2Fuserinfo.email+https%3A%2F%2Fwww.googleapis.com%2Fauth%2Fcloud-platform+https%3A%2F%2Fwww.googleapis.com%2Fauth%2Fsqlservice.login&state=KhcIXmGB9qiqYSurmEd1OE7ai1gsoY&access_type=offline&code_challenge=FXd8t_iNJ1Smwus7s7YNkiZ2VgOos-bXrFHWGHwaAs8&code_challenge_method=S256\n",
      "\n",
      "\n",
      "Credentials saved to file: [/Users/yt4/.config/gcloud/application_default_credentials.json]\n",
      "\n",
      "These credentials will be used by any library that requests Application Default Credentials (ADC).\n",
      "\n",
      "Quota project \"open-targets-genetics-dev\" was added to ADC which can be used by Google client libraries for billing and quota. Note that some services may still bill the project owning the resource.\n"
     ]
    }
   ],
   "source": [
    "!gcloud auth application-default login"
   ]
  },
  {
   "cell_type": "code",
   "execution_count": null,
   "id": "c297d91c",
   "metadata": {},
   "outputs": [
    {
     "name": "stdout",
     "output_type": "stream",
     "text": [
      "Your browser has been opened to visit:\n",
      "\n",
      "    https://accounts.google.com/o/oauth2/auth?response_type=code&client_id=32555940559.apps.googleusercontent.com&redirect_uri=http%3A%2F%2Flocalhost%3A8085%2F&scope=openid+https%3A%2F%2Fwww.googleapis.com%2Fauth%2Fuserinfo.email+https%3A%2F%2Fwww.googleapis.com%2Fauth%2Fcloud-platform+https%3A%2F%2Fwww.googleapis.com%2Fauth%2Fappengine.admin+https%3A%2F%2Fwww.googleapis.com%2Fauth%2Fsqlservice.login+https%3A%2F%2Fwww.googleapis.com%2Fauth%2Fcompute+https%3A%2F%2Fwww.googleapis.com%2Fauth%2Faccounts.reauth&state=UiDTZiS2COSkwLlSyy0l1pVKoF8Yfg&access_type=offline&code_challenge=4jMAWGLzSEe-ozTnSiVWYKCSv6hg9PyZzX727eiHbYk&code_challenge_method=S256\n",
      "\n",
      "\n",
      "You are now logged in as [yt4@sanger.ac.uk].\n",
      "Your current project is [open-targets-genetics-dev].  You can change this setting by running:\n",
      "  $ gcloud config set project PROJECT_ID\n",
      "\n",
      "\n",
      "Updates are available for some Google Cloud CLI components.  To install them,\n",
      "please run:\n",
      "  $ gcloud components update\n",
      "\n"
     ]
    }
   ],
   "source": [
    "!gcloud auth login"
   ]
  },
  {
   "cell_type": "code",
   "execution_count": 1,
   "id": "71f17718",
   "metadata": {},
   "outputs": [
    {
     "data": {
      "text/html": [
       "    <style>\n",
       "        .bk-notebook-logo {\n",
       "            display: block;\n",
       "            width: 20px;\n",
       "            height: 20px;\n",
       "            background-image: url(data:image/png;base64,iVBORw0KGgoAAAANSUhEUgAAABQAAAAUCAYAAACNiR0NAAAABHNCSVQICAgIfAhkiAAAAAlwSFlzAAALEgAACxIB0t1+/AAAABx0RVh0U29mdHdhcmUAQWRvYmUgRmlyZXdvcmtzIENTNui8sowAAAOkSURBVDiNjZRtaJVlGMd/1/08zzln5zjP1LWcU9N0NkN8m2CYjpgQYQXqSs0I84OLIC0hkEKoPtiH3gmKoiJDU7QpLgoLjLIQCpEsNJ1vqUOdO7ppbuec5+V+rj4ctwzd8IIbbi6u+8f1539dt3A78eXC7QizUF7gyV1fD1Yqg4JWz84yffhm0qkFqBogB9rM8tZdtwVsPUhWhGcFJngGeWrPzHm5oaMmkfEg1usvLFyc8jLRqDOMru7AyC8saQr7GG7f5fvDeH7Ej8CM66nIF+8yngt6HWaKh7k49Soy9nXurCi1o3qUbS3zWfrYeQDTB/Qj6kX6Ybhw4B+bOYoLKCC9H3Nu/leUTZ1JdRWkkn2ldcCamzrcf47KKXdAJllSlxAOkRgyHsGC/zRday5Qld9DyoM4/q/rUoy/CXh3jzOu3bHUVZeU+DEn8FInkPBFlu3+nW3Nw0mk6vCDiWg8CeJaxEwuHS3+z5RgY+YBR6V1Z1nxSOfoaPa4LASWxxdNp+VWTk7+4vzaou8v8PN+xo+KY2xsw6une2frhw05CTYOmQvsEhjhWjn0bmXPjpE1+kplmmkP3suftwTubK9Vq22qKmrBhpY4jvd5afdRA3wGjFAgcnTK2s4hY0/GPNIb0nErGMCRxWOOX64Z8RAC4oCXdklmEvcL8o0BfkNK4lUg9HTl+oPlQxdNo3Mg4Nv175e/1LDGzZen30MEjRUtmXSfiTVu1kK8W4txyV6BMKlbgk3lMwYCiusNy9fVfvvwMxv8Ynl6vxoByANLTWplvuj/nF9m2+PDtt1eiHPBr1oIfhCChQMBw6Aw0UulqTKZdfVvfG7VcfIqLG9bcldL/+pdWTLxLUy8Qq38heUIjh4XlzZxzQm19lLFlr8vdQ97rjZVOLf8nclzckbcD4wxXMidpX30sFd37Fv/GtwwhzhxGVAprjbg0gCAEeIgwCZyTV2Z1REEW8O4py0wsjeloKoMr6iCY6dP92H6Vw/oTyICIthibxjm/DfN9lVz8IqtqKYLUXfoKVMVQVVJOElGjrnnUt9T9wbgp8AyYKaGlqingHZU/uG2NTZSVqwHQTWkx9hxjkpWDaCg6Ckj5qebgBVbT3V3NNXMSiWSDdGV3hrtzla7J+duwPOToIg42ChPQOQjspnSlp1V+Gjdged7+8UN5CRAV7a5EdFNwCjEaBR27b3W890TE7g24NAP/mMDXRWrGoFPQI9ls/MWO2dWFAar/xcOIImbbpA3zgAAAABJRU5ErkJggg==);\n",
       "        }\n",
       "    </style>\n",
       "    <div>\n",
       "        <a href=\"https://bokeh.org\" target=\"_blank\" class=\"bk-notebook-logo\"></a>\n",
       "        <span id=\"f912ffec-7764-4b61-a180-6118448dc8cc\">Loading BokehJS ...</span>\n",
       "    </div>\n"
      ]
     },
     "metadata": {},
     "output_type": "display_data"
    },
    {
     "data": {
      "application/javascript": "(function(root) {\n  function now() {\n    return new Date();\n  }\n\n  const force = true;\n\n  if (typeof root._bokeh_onload_callbacks === \"undefined\" || force === true) {\n    root._bokeh_onload_callbacks = [];\n    root._bokeh_is_loading = undefined;\n  }\n\nconst JS_MIME_TYPE = 'application/javascript';\n  const HTML_MIME_TYPE = 'text/html';\n  const EXEC_MIME_TYPE = 'application/vnd.bokehjs_exec.v0+json';\n  const CLASS_NAME = 'output_bokeh rendered_html';\n\n  /**\n   * Render data to the DOM node\n   */\n  function render(props, node) {\n    const script = document.createElement(\"script\");\n    node.appendChild(script);\n  }\n\n  /**\n   * Handle when an output is cleared or removed\n   */\n  function handleClearOutput(event, handle) {\n    function drop(id) {\n      const view = Bokeh.index.get_by_id(id)\n      if (view != null) {\n        view.model.document.clear()\n        Bokeh.index.delete(view)\n      }\n    }\n\n    const cell = handle.cell;\n\n    const id = cell.output_area._bokeh_element_id;\n    const server_id = cell.output_area._bokeh_server_id;\n\n    // Clean up Bokeh references\n    if (id != null) {\n      drop(id)\n    }\n\n    if (server_id !== undefined) {\n      // Clean up Bokeh references\n      const cmd_clean = \"from bokeh.io.state import curstate; print(curstate().uuid_to_server['\" + server_id + \"'].get_sessions()[0].document.roots[0]._id)\";\n      cell.notebook.kernel.execute(cmd_clean, {\n        iopub: {\n          output: function(msg) {\n            const id = msg.content.text.trim()\n            drop(id)\n          }\n        }\n      });\n      // Destroy server and session\n      const cmd_destroy = \"import bokeh.io.notebook as ion; ion.destroy_server('\" + server_id + \"')\";\n      cell.notebook.kernel.execute(cmd_destroy);\n    }\n  }\n\n  /**\n   * Handle when a new output is added\n   */\n  function handleAddOutput(event, handle) {\n    const output_area = handle.output_area;\n    const output = handle.output;\n\n    // limit handleAddOutput to display_data with EXEC_MIME_TYPE content only\n    if ((output.output_type != \"display_data\") || (!Object.prototype.hasOwnProperty.call(output.data, EXEC_MIME_TYPE))) {\n      return\n    }\n\n    const toinsert = output_area.element.find(\".\" + CLASS_NAME.split(' ')[0]);\n\n    if (output.metadata[EXEC_MIME_TYPE][\"id\"] !== undefined) {\n      toinsert[toinsert.length - 1].firstChild.textContent = output.data[JS_MIME_TYPE];\n      // store reference to embed id on output_area\n      output_area._bokeh_element_id = output.metadata[EXEC_MIME_TYPE][\"id\"];\n    }\n    if (output.metadata[EXEC_MIME_TYPE][\"server_id\"] !== undefined) {\n      const bk_div = document.createElement(\"div\");\n      bk_div.innerHTML = output.data[HTML_MIME_TYPE];\n      const script_attrs = bk_div.children[0].attributes;\n      for (let i = 0; i < script_attrs.length; i++) {\n        toinsert[toinsert.length - 1].firstChild.setAttribute(script_attrs[i].name, script_attrs[i].value);\n        toinsert[toinsert.length - 1].firstChild.textContent = bk_div.children[0].textContent\n      }\n      // store reference to server id on output_area\n      output_area._bokeh_server_id = output.metadata[EXEC_MIME_TYPE][\"server_id\"];\n    }\n  }\n\n  function register_renderer(events, OutputArea) {\n\n    function append_mime(data, metadata, element) {\n      // create a DOM node to render to\n      const toinsert = this.create_output_subarea(\n        metadata,\n        CLASS_NAME,\n        EXEC_MIME_TYPE\n      );\n      this.keyboard_manager.register_events(toinsert);\n      // Render to node\n      const props = {data: data, metadata: metadata[EXEC_MIME_TYPE]};\n      render(props, toinsert[toinsert.length - 1]);\n      element.append(toinsert);\n      return toinsert\n    }\n\n    /* Handle when an output is cleared or removed */\n    events.on('clear_output.CodeCell', handleClearOutput);\n    events.on('delete.Cell', handleClearOutput);\n\n    /* Handle when a new output is added */\n    events.on('output_added.OutputArea', handleAddOutput);\n\n    /**\n     * Register the mime type and append_mime function with output_area\n     */\n    OutputArea.prototype.register_mime_type(EXEC_MIME_TYPE, append_mime, {\n      /* Is output safe? */\n      safe: true,\n      /* Index of renderer in `output_area.display_order` */\n      index: 0\n    });\n  }\n\n  // register the mime type if in Jupyter Notebook environment and previously unregistered\n  if (root.Jupyter !== undefined) {\n    const events = require('base/js/events');\n    const OutputArea = require('notebook/js/outputarea').OutputArea;\n\n    if (OutputArea.prototype.mime_types().indexOf(EXEC_MIME_TYPE) == -1) {\n      register_renderer(events, OutputArea);\n    }\n  }\n  if (typeof (root._bokeh_timeout) === \"undefined\" || force === true) {\n    root._bokeh_timeout = Date.now() + 5000;\n    root._bokeh_failed_load = false;\n  }\n\n  const NB_LOAD_WARNING = {'data': {'text/html':\n     \"<div style='background-color: #fdd'>\\n\"+\n     \"<p>\\n\"+\n     \"BokehJS does not appear to have successfully loaded. If loading BokehJS from CDN, this \\n\"+\n     \"may be due to a slow or bad network connection. Possible fixes:\\n\"+\n     \"</p>\\n\"+\n     \"<ul>\\n\"+\n     \"<li>re-rerun `output_notebook()` to attempt to load from CDN again, or</li>\\n\"+\n     \"<li>use INLINE resources instead, as so:</li>\\n\"+\n     \"</ul>\\n\"+\n     \"<code>\\n\"+\n     \"from bokeh.resources import INLINE\\n\"+\n     \"output_notebook(resources=INLINE)\\n\"+\n     \"</code>\\n\"+\n     \"</div>\"}};\n\n  function display_loaded() {\n    const el = document.getElementById(\"f912ffec-7764-4b61-a180-6118448dc8cc\");\n    if (el != null) {\n      el.textContent = \"BokehJS is loading...\";\n    }\n    if (root.Bokeh !== undefined) {\n      if (el != null) {\n        el.textContent = \"BokehJS \" + root.Bokeh.version + \" successfully loaded.\";\n      }\n    } else if (Date.now() < root._bokeh_timeout) {\n      setTimeout(display_loaded, 100)\n    }\n  }\n\n  function run_callbacks() {\n    try {\n      root._bokeh_onload_callbacks.forEach(function(callback) {\n        if (callback != null)\n          callback();\n      });\n    } finally {\n      delete root._bokeh_onload_callbacks\n    }\n    console.debug(\"Bokeh: all callbacks have finished\");\n  }\n\n  function load_libs(css_urls, js_urls, callback) {\n    if (css_urls == null) css_urls = [];\n    if (js_urls == null) js_urls = [];\n\n    root._bokeh_onload_callbacks.push(callback);\n    if (root._bokeh_is_loading > 0) {\n      console.debug(\"Bokeh: BokehJS is being loaded, scheduling callback at\", now());\n      return null;\n    }\n    if (js_urls == null || js_urls.length === 0) {\n      run_callbacks();\n      return null;\n    }\n    console.debug(\"Bokeh: BokehJS not loaded, scheduling load and callback at\", now());\n    root._bokeh_is_loading = css_urls.length + js_urls.length;\n\n    function on_load() {\n      root._bokeh_is_loading--;\n      if (root._bokeh_is_loading === 0) {\n        console.debug(\"Bokeh: all BokehJS libraries/stylesheets loaded\");\n        run_callbacks()\n      }\n    }\n\n    function on_error(url) {\n      console.error(\"failed to load \" + url);\n    }\n\n    for (let i = 0; i < css_urls.length; i++) {\n      const url = css_urls[i];\n      const element = document.createElement(\"link\");\n      element.onload = on_load;\n      element.onerror = on_error.bind(null, url);\n      element.rel = \"stylesheet\";\n      element.type = \"text/css\";\n      element.href = url;\n      console.debug(\"Bokeh: injecting link tag for BokehJS stylesheet: \", url);\n      document.body.appendChild(element);\n    }\n\n    for (let i = 0; i < js_urls.length; i++) {\n      const url = js_urls[i];\n      const element = document.createElement('script');\n      element.onload = on_load;\n      element.onerror = on_error.bind(null, url);\n      element.async = false;\n      element.src = url;\n      console.debug(\"Bokeh: injecting script tag for BokehJS library: \", url);\n      document.head.appendChild(element);\n    }\n  };\n\n  function inject_raw_css(css) {\n    const element = document.createElement(\"style\");\n    element.appendChild(document.createTextNode(css));\n    document.body.appendChild(element);\n  }\n\n  const js_urls = [\"https://cdn.bokeh.org/bokeh/release/bokeh-3.3.4.min.js\", \"https://cdn.bokeh.org/bokeh/release/bokeh-gl-3.3.4.min.js\", \"https://cdn.bokeh.org/bokeh/release/bokeh-widgets-3.3.4.min.js\", \"https://cdn.bokeh.org/bokeh/release/bokeh-tables-3.3.4.min.js\", \"https://cdn.bokeh.org/bokeh/release/bokeh-mathjax-3.3.4.min.js\"];\n  const css_urls = [];\n\n  const inline_js = [    function(Bokeh) {\n      Bokeh.set_log_level(\"info\");\n    },\nfunction(Bokeh) {\n    }\n  ];\n\n  function run_inline_js() {\n    if (root.Bokeh !== undefined || force === true) {\n          for (let i = 0; i < inline_js.length; i++) {\n      inline_js[i].call(root, root.Bokeh);\n    }\nif (force === true) {\n        display_loaded();\n      }} else if (Date.now() < root._bokeh_timeout) {\n      setTimeout(run_inline_js, 100);\n    } else if (!root._bokeh_failed_load) {\n      console.log(\"Bokeh: BokehJS failed to load within specified timeout.\");\n      root._bokeh_failed_load = true;\n    } else if (force !== true) {\n      const cell = $(document.getElementById(\"f912ffec-7764-4b61-a180-6118448dc8cc\")).parents('.cell').data().cell;\n      cell.output_area.append_execute_result(NB_LOAD_WARNING)\n    }\n  }\n\n  if (root._bokeh_is_loading === 0) {\n    console.debug(\"Bokeh: BokehJS loaded, going straight to plotting\");\n    run_inline_js();\n  } else {\n    load_libs(css_urls, js_urls, function() {\n      console.debug(\"Bokeh: BokehJS plotting callback run at\", now());\n      run_inline_js();\n    });\n  }\n}(window));",
      "application/vnd.bokehjs_load.v0+json": ""
     },
     "metadata": {},
     "output_type": "display_data"
    },
    {
     "name": "stderr",
     "output_type": "stream",
     "text": [
      "Setting default log level to \"WARN\".\n",
      "To adjust logging level use sc.setLogLevel(newLevel). For SparkR, use setLogLevel(newLevel).\n",
      "25/04/24 22:55:25 WARN NativeCodeLoader: Unable to load native-hadoop library for your platform... using builtin-java classes where applicable\n",
      "25/04/24 22:55:26 WARN Utils: Service 'SparkUI' could not bind on port 4040. Attempting port 4041.\n",
      "                                                                                \r"
     ]
    }
   ],
   "source": [
    "import os\n",
    "\n",
    "import hail as hl\n",
    "import numpy as np\n",
    "import pyspark.sql.functions as f\n",
    "from pyspark.sql import DataFrame\n",
    "\n",
    "from gentropy.common.session import Session\n",
    "from gentropy.dataset.study_index import StudyIndex\n",
    "from gentropy.dataset.summary_statistics import SummaryStatistics\n",
    "from gentropy.dataset.study_locus import StudyLocus\n",
    "from gentropy.susie_finemapper import SusieFineMapperStep\n",
    "from gentropy.method.drug_enrichment_from_evid import chemblDrugEnrichment\n",
    "\n",
    "\"\"\"Common utilities for the project.\"\"\"\n",
    "\n",
    "import os\n",
    "from pathlib import Path\n",
    "from gentropy.common.session import Session\n",
    "import logging\n",
    "\n",
    "\n",
    "def get_gcs_credentials() -> str:\n",
    "    \"\"\"Get the credentials for google cloud storage.\"\"\"\n",
    "    app_default_credentials = os.path.join(\n",
    "        os.getenv(\"HOME\", \".\"), \".config/gcloud/application_default_credentials.json\"\n",
    "    )\n",
    "\n",
    "    service_account_credentials = os.path.join(\n",
    "        os.getenv(\"HOME\", \".\"), \".config/gcloud/service_account_credentials.json\"\n",
    "    )\n",
    "\n",
    "    if Path(app_default_credentials).exists():\n",
    "        return app_default_credentials\n",
    "    else:\n",
    "        raise FileNotFoundError(\"No GCS credentials found.\")\n",
    "\n",
    "\n",
    "def get_gcs_hadoop_connector_jar() -> str:\n",
    "    \"\"\"Get the google cloud storage hadoop connector for spark.\n",
    "\n",
    "    This function will return the url to download the hadoop jar.\n",
    "    \"\"\"\n",
    "\n",
    "    return (\n",
    "        \"https://storage.googleapis.com/hadoop-lib/gcs/gcs-connector-hadoop3-latest.jar\"\n",
    "    )\n",
    "\n",
    "\n",
    "def gcs_conf(\n",
    "    credentials_path=None, project=\"open-targets-genetics-dev\"\n",
    ") -> dict[str, str]:\n",
    "    \"\"\"Get the spark configuration with hadoop connector for google cloud storage.\"\"\"\n",
    "    credentials_path = credentials_path or get_gcs_credentials()\n",
    "    return {\n",
    "        \"spark.driver.memory\": \"12g\",\n",
    "        \"spark.kryoserializer.buffer.max\": \"500m\",\n",
    "        \"spark.driver.maxResultSize\":\"2g\",\n",
    "        \"spark.hadoop.fs.gs.impl\": \"com.google.cloud.hadoop.fs.gcs.GoogleHadoopFileSystem\",\n",
    "        \"spark.jars\": get_gcs_hadoop_connector_jar(),\n",
    "        \"spark.hadoop.google.cloud.auth.service.account.enable\": \"true\",\n",
    "        \"spark.hadoop.fs.gs.project.id\": project,\n",
    "        \"spark.hadoop.google.cloud.auth.service.account.json.keyfile\": credentials_path,\n",
    "        \"spark.hadoop.fs.gs.requester.pays.mode\": \"AUTO\",\n",
    "    }\n",
    "\n",
    "\n",
    "class GentropySession(Session):\n",
    "    def __init__(self, *args, **kwargs):\n",
    "        if \"extended_spark_conf\" in kwargs:\n",
    "            kwargs[\"extended_spark_conf\"].update(gcs_conf())\n",
    "        else:\n",
    "            kwargs[\"extended_spark_conf\"] = gcs_conf()\n",
    "        super().__init__(*args, **kwargs)\n",
    "\n",
    "    @property\n",
    "    def conf(self):\n",
    "        logging.warning(\n",
    "            \"To change the config restart the session and use the `extended_spark_conf` parameter.\"\n",
    "        )\n",
    "        return self.spark.sparkContext.getConf().getAll()\n",
    "\n",
    "session= GentropySession()\n",
    "\n",
    "\n",
    "path_to_release_folder=\"gs://open-targets-data-releases/25.03/\"\n",
    "#path_to_release_folder=\"gs://open-targets-pre-data-releases/24.12-uo_test-3/output/genetics/parquet/\"\n",
    "#path_to_release_folder=\"gs://ot_orchestration/releases/25.02_freeze1/\"\n",
    "\n",
    "si=StudyIndex.from_parquet(session,path_to_release_folder+\"output/study/\")\n",
    "sl=StudyLocus.from_parquet(session,path_to_release_folder+\"output/credible_set/\")"
   ]
  },
  {
   "cell_type": "markdown",
   "id": "f08058fd",
   "metadata": {},
   "source": [
    "# trans pQTL evidence"
   ]
  },
  {
   "cell_type": "code",
   "execution_count": 2,
   "id": "376e9c2b",
   "metadata": {},
   "outputs": [],
   "source": [
    "trans_pqt=session.spark.read.parquet(\"gs://genetics-portal-dev-analysis/dc16/output/trans_pqtl_colocs.parquet\")"
   ]
  },
  {
   "cell_type": "code",
   "execution_count": 3,
   "id": "5c750034",
   "metadata": {},
   "outputs": [
    {
     "name": "stderr",
     "output_type": "stream",
     "text": [
      "                                                                                \r"
     ]
    },
    {
     "data": {
      "text/plain": [
       "3509383"
      ]
     },
     "execution_count": 3,
     "metadata": {},
     "output_type": "execute_result"
    }
   ],
   "source": [
    "trans_pqt.count()"
   ]
  },
  {
   "cell_type": "code",
   "execution_count": 4,
   "id": "d2ee5fae",
   "metadata": {},
   "outputs": [
    {
     "name": "stderr",
     "output_type": "stream",
     "text": [
      "                                                                                \r"
     ]
    },
    {
     "data": {
      "text/plain": [
       "3509383"
      ]
     },
     "execution_count": 4,
     "metadata": {},
     "output_type": "execute_result"
    }
   ],
   "source": [
    "trans_pqt.filter((f.col(\"isTransQtl\")==True)&((f.col(\"clpp\")>=0.01)|(f.col(\"h4\")>=0.8))).count()"
   ]
  },
  {
   "cell_type": "code",
   "execution_count": 5,
   "id": "f82569ee",
   "metadata": {},
   "outputs": [
    {
     "name": "stderr",
     "output_type": "stream",
     "text": [
      "                                                                                \r"
     ]
    },
    {
     "name": "stdout",
     "output_type": "stream",
     "text": [
      "+--------------------+--------------------+--------------+----------+--------------------+--------------------------+----+----+----+----+----+----+--------------------+--------------------+----------+------------+\n",
      "|    leftStudyLocusId|   rightStudyLocusId|rightStudyType|chromosome|colocalisationMethod|numberColocalisingVariants|  h0|  h1|  h2|  h3|  h4|clpp|betaRatioSignAverage|    transPQTLStudyId|isTransQtl| leftStudyId|\n",
      "+--------------------+--------------------+--------------+----------+--------------------+--------------------------+----+----+----+----+----+----+--------------------+--------------------+----------+------------+\n",
      "|00054cbf4912bfa67...|812612a2ed4564652...|          pqtl|        11|             eCAVIAR|                         1|NULL|NULL|NULL|NULL|NULL| 1.0|                 1.0|UKB_PPP_EUR_MSTN_...|      true|GCST90078909|\n",
      "+--------------------+--------------------+--------------+----------+--------------------+--------------------------+----+----+----+----+----+----+--------------------+--------------------+----------+------------+\n",
      "only showing top 1 row\n",
      "\n"
     ]
    }
   ],
   "source": [
    "trans_pqt.show(1)"
   ]
  },
  {
   "cell_type": "code",
   "execution_count": 6,
   "id": "a913ced1",
   "metadata": {},
   "outputs": [
    {
     "name": "stderr",
     "output_type": "stream",
     "text": [
      "                                                                                \r"
     ]
    },
    {
     "data": {
      "text/plain": [
       "2303537"
      ]
     },
     "execution_count": 6,
     "metadata": {},
     "output_type": "execute_result"
    }
   ],
   "source": [
    "trans_pqt=trans_pqt.select(\"leftStudyLocusId\",\"rightStudyLocusId\",\"transPQTLStudyId\",\"leftStudyId\").distinct().cache()\n",
    "trans_pqt.count()"
   ]
  },
  {
   "cell_type": "code",
   "execution_count": 7,
   "id": "3b214cdd",
   "metadata": {},
   "outputs": [],
   "source": [
    "trans_pqt = (trans_pqt.join(\n",
    "    si.df.select(\"studyId\",\"geneId\"),  # Select only the necessary column from si.df\n",
    "    trans_pqt[\"transPQTLStudyId\"] == si.df[\"studyId\"],  # Join condition\n",
    "    how=\"inner\"\n",
    ").select(\"leftStudyLocusId\",\"leftStudyId\",\"geneId\")\n",
    ".withColumnRenamed(\"leftStudyLocusId\",\"studyLocusId\")\n",
    ".withColumnRenamed(\"leftStudyId\",\"studyId\")\n",
    ".withColumn(\"trans_pQTL_Score\", f.lit(1))\n",
    ".cache())"
   ]
  },
  {
   "cell_type": "code",
   "execution_count": 8,
   "id": "b3c73ad6",
   "metadata": {},
   "outputs": [
    {
     "name": "stderr",
     "output_type": "stream",
     "text": [
      "                                                                                \r"
     ]
    },
    {
     "data": {
      "text/plain": [
       "2303537"
      ]
     },
     "execution_count": 8,
     "metadata": {},
     "output_type": "execute_result"
    }
   ],
   "source": [
    "trans_pqt.count()"
   ]
  },
  {
   "cell_type": "code",
   "execution_count": 9,
   "id": "320c5c57",
   "metadata": {},
   "outputs": [
    {
     "name": "stdout",
     "output_type": "stream",
     "text": [
      "+--------------------+------------+---------------+----------------+\n",
      "|        studyLocusId|     studyId|         geneId|trans_pQTL_Score|\n",
      "+--------------------+------------+---------------+----------------+\n",
      "|0040e872d53bb8393...|GCST90249387|ENSG00000089248|               1|\n",
      "+--------------------+------------+---------------+----------------+\n",
      "only showing top 1 row\n",
      "\n"
     ]
    }
   ],
   "source": [
    "trans_pqt.show(1)"
   ]
  },
  {
   "cell_type": "code",
   "execution_count": 10,
   "id": "da257059",
   "metadata": {},
   "outputs": [],
   "source": [
    "trsn_pqtls_evidence=chemblDrugEnrichment.to_disease_target_evidence(table_with_score=trans_pqt,\n",
    "    score_column=\"trans_pQTL_Score\",\n",
    "    datasource_id=\"trans_pQTLs\",\n",
    "    study_locus=sl,\n",
    "    study_index=si,\n",
    "    min_score=1\n",
    ").cache()"
   ]
  },
  {
   "cell_type": "code",
   "execution_count": 11,
   "id": "6851c3cb",
   "metadata": {},
   "outputs": [
    {
     "name": "stderr",
     "output_type": "stream",
     "text": [
      "                                                                                \r"
     ]
    },
    {
     "data": {
      "text/plain": [
       "2710381"
      ]
     },
     "execution_count": 11,
     "metadata": {},
     "output_type": "execute_result"
    }
   ],
   "source": [
    "trsn_pqtls_evidence.count()"
   ]
  },
  {
   "cell_type": "code",
   "execution_count": 12,
   "id": "26516371",
   "metadata": {},
   "outputs": [],
   "source": [
    "trsn_pqtls_evidence=trsn_pqtls_evidence.distinct().cache()"
   ]
  },
  {
   "cell_type": "code",
   "execution_count": 13,
   "id": "c6dd39e8",
   "metadata": {},
   "outputs": [
    {
     "name": "stderr",
     "output_type": "stream",
     "text": [
      "                                                                                \r"
     ]
    },
    {
     "data": {
      "text/plain": [
       "2654813"
      ]
     },
     "execution_count": 13,
     "metadata": {},
     "output_type": "execute_result"
    }
   ],
   "source": [
    "trsn_pqtls_evidence.count()"
   ]
  },
  {
   "cell_type": "code",
   "execution_count": 14,
   "id": "7369fa86",
   "metadata": {},
   "outputs": [],
   "source": [
    "import pandas as pd\n",
    "all_enrich = []"
   ]
  },
  {
   "cell_type": "code",
   "execution_count": 16,
   "id": "2e53b620",
   "metadata": {},
   "outputs": [],
   "source": [
    "disease_index_path=path_to_release_folder+\"output/disease/disease.parquet\"\n",
    "disease_index_orig = session.spark.read.parquet(disease_index_path)\n",
    "\n",
    "platform_chembl_evidence_path=path_to_release_folder+\"output/evidence/sourceId=chembl\"\n",
    "chembl_evidence=session.spark.read.parquet(platform_chembl_evidence_path)"
   ]
  },
  {
   "cell_type": "code",
   "execution_count": 17,
   "id": "767d400c",
   "metadata": {},
   "outputs": [
    {
     "name": "stderr",
     "output_type": "stream",
     "text": [
      "                                                                                \r"
     ]
    }
   ],
   "source": [
    "#trans_pQTLs\n",
    "enrich=chemblDrugEnrichment.drug_enrichemnt_from_evidence(\n",
    "    evid=trsn_pqtls_evidence,\n",
    "    disease_index_orig=disease_index_orig,\n",
    "    chembl_orig=chembl_evidence, \n",
    "    indirect_assoc_score_thr=0.5,\n",
    "    efo_ancestors_to_remove=[\"MONDO_0045024\"]\n",
    ")\n",
    "enrich[\"datasource\"] = \"trans_pQTL\"\n",
    "all_enrich.append(enrich)"
   ]
  },
  {
   "cell_type": "markdown",
   "id": "f487dffa",
   "metadata": {},
   "source": [
    "## interaction with cis"
   ]
  },
  {
   "cell_type": "code",
   "execution_count": 18,
   "id": "4b2a400e",
   "metadata": {},
   "outputs": [
    {
     "name": "stderr",
     "output_type": "stream",
     "text": [
      "[Stage 249:>                                                        (0 + 1) / 1]\r"
     ]
    },
    {
     "name": "stdout",
     "output_type": "stream",
     "text": [
      "+--------------+---------------+---------------+------------------+---------------+---------------+------------------+--------------------+--------------------+-----+-------+\n",
      "|sourceDatabase|        targetA|           intA|intABiologicalRole|        targetB|           intB|intBBiologicalRole|            speciesA|            speciesB|count|scoring|\n",
      "+--------------+---------------+---------------+------------------+---------------+---------------+------------------+--------------------+--------------------+-----+-------+\n",
      "|        string|ENSG00000004059|ENSP00000000233|  unspecified role|ENSG00000105443|ENSP00000493357|  unspecified role|{human, Homo sapi...|{human, Homo sapi...|    3|  0.471|\n",
      "+--------------+---------------+---------------+------------------+---------------+---------------+------------------+--------------------+--------------------+-----+-------+\n",
      "only showing top 1 row\n",
      "\n"
     ]
    },
    {
     "name": "stderr",
     "output_type": "stream",
     "text": [
      "                                                                                \r"
     ]
    }
   ],
   "source": [
    "# trans pqt interactions\n",
    "inter=session.spark.read.parquet(\"gs://open-targets-pre-data-releases/partners/24.12/output/etl/parquet/interaction\")\n",
    "inter.show(1)"
   ]
  },
  {
   "cell_type": "code",
   "execution_count": 19,
   "id": "1c5bfbbc",
   "metadata": {},
   "outputs": [
    {
     "name": "stderr",
     "output_type": "stream",
     "text": [
      "[Stage 250:==================================================>     (9 + 1) / 10]\r"
     ]
    },
    {
     "name": "stdout",
     "output_type": "stream",
     "text": [
      "+--------------+--------+\n",
      "|sourceDatabase|   count|\n",
      "+--------------+--------+\n",
      "|        string|13218902|\n",
      "|        intact| 1113884|\n",
      "|        signor|   36379|\n",
      "|      reactome|   52972|\n",
      "+--------------+--------+\n",
      "\n"
     ]
    },
    {
     "name": "stderr",
     "output_type": "stream",
     "text": [
      "                                                                                \r"
     ]
    }
   ],
   "source": [
    "inter.groupBy(\"sourceDatabase\").count().show()"
   ]
  },
  {
   "cell_type": "code",
   "execution_count": 20,
   "id": "3c3fb6bf",
   "metadata": {},
   "outputs": [
    {
     "name": "stderr",
     "output_type": "stream",
     "text": [
      "                                                                                \r"
     ]
    },
    {
     "data": {
      "text/plain": [
       "317496"
      ]
     },
     "execution_count": 20,
     "metadata": {},
     "output_type": "execute_result"
    }
   ],
   "source": [
    "inter=inter.filter((f.col(\"sourceDatabase\")==\"string\")&(f.col(\"scoring\")>=0.8)).select(\"targetA\",\"targetB\").distinct().cache()\n",
    "inter.count()"
   ]
  },
  {
   "cell_type": "code",
   "execution_count": null,
   "id": "0554f459",
   "metadata": {},
   "outputs": [],
   "source": [
    "#inter.repartition(1).write.csv(\"gs://genetics-portal-dev-analysis/yt4/20250403_for_gentropy_paper/interactions_005.csv\", header=True, mode=\"overwrite\")"
   ]
  },
  {
   "cell_type": "code",
   "execution_count": 21,
   "id": "6b96fbec",
   "metadata": {},
   "outputs": [
    {
     "name": "stdout",
     "output_type": "stream",
     "text": [
      "+---------------+---------------+\n",
      "|        targetA|        targetB|\n",
      "+---------------+---------------+\n",
      "|ENSG00000153774|ENSG00000163159|\n",
      "+---------------+---------------+\n",
      "only showing top 1 row\n",
      "\n"
     ]
    }
   ],
   "source": [
    "inter.show(1)"
   ]
  },
  {
   "cell_type": "code",
   "execution_count": 22,
   "id": "aa455459",
   "metadata": {},
   "outputs": [
    {
     "name": "stdout",
     "output_type": "stream",
     "text": [
      "+----------+------------+---------------+-----------+-------------+--------------------+\n",
      "|datatypeId|datasourceId|       targetId|  diseaseId|resourceScore|        studyLocusId|\n",
      "+----------+------------+---------------+-----------+-------------+--------------------+\n",
      "|      GWAS| trans_pQTLs|ENSG00000135404|EFO_0010968|            1|0005218bc3a62e387...|\n",
      "+----------+------------+---------------+-----------+-------------+--------------------+\n",
      "only showing top 1 row\n",
      "\n"
     ]
    }
   ],
   "source": [
    "trsn_pqtls_evidence.show(1)"
   ]
  },
  {
   "cell_type": "code",
   "execution_count": null,
   "id": "d204ca20",
   "metadata": {},
   "outputs": [],
   "source": []
  },
  {
   "cell_type": "code",
   "execution_count": 23,
   "id": "9e17dd32",
   "metadata": {},
   "outputs": [
    {
     "name": "stderr",
     "output_type": "stream",
     "text": [
      "25/04/24 23:04:16 WARN SparkStringUtils: Truncated the string representation of a plan since it was too large. This behavior can be adjusted by setting 'spark.sql.debug.maxToStringFields'.\n",
      "                                                                                \r"
     ]
    },
    {
     "data": {
      "text/plain": [
       "7734143"
      ]
     },
     "execution_count": 23,
     "metadata": {},
     "output_type": "execute_result"
    }
   ],
   "source": [
    "fm=session.spark.read.parquet(path_to_release_folder+\"intermediate/l2g_feature_matrix/\")\n",
    "fm=fm.filter(f.col(\"isProteinCoding\")==1).cache()\n",
    "fm.count()"
   ]
  },
  {
   "cell_type": "code",
   "execution_count": 24,
   "id": "f42f16b4",
   "metadata": {},
   "outputs": [],
   "source": [
    "clpp_thr=0.01\n",
    "coloc_thr=0.8\n",
    "combined_df = fm.withColumn(\n",
    "    \"pQTL_coloc\",\n",
    "    f.when(\n",
    "    (f.col(\"pQtlColocClppMaximum\")>=clpp_thr) | \n",
    "    (f.col(\"pQtlColocH4Maximum\")>=coloc_thr), 1).otherwise(0)\n",
    ")"
   ]
  },
  {
   "cell_type": "code",
   "execution_count": 25,
   "id": "1734a17e",
   "metadata": {},
   "outputs": [],
   "source": [
    "coln=\"pQTL_coloc\"\n",
    "pQTLs_evidence=chemblDrugEnrichment.to_disease_target_evidence(table_with_score=combined_df,\n",
    "    score_column=coln,\n",
    "    datasource_id=coln,\n",
    "    study_locus=sl,\n",
    "    study_index=si,\n",
    "    min_score=0.5\n",
    ").select(\"datasourceId\",\"targetId\",\"diseaseId\").withColumnRenamed(\"datasourceId\",\"datasourceId_pQTL\").distinct().cache()"
   ]
  },
  {
   "cell_type": "code",
   "execution_count": 26,
   "id": "edc1aa8f",
   "metadata": {},
   "outputs": [
    {
     "name": "stderr",
     "output_type": "stream",
     "text": [
      "[Stage 278:==================================================>      (8 + 1) / 9]\r"
     ]
    },
    {
     "name": "stdout",
     "output_type": "stream",
     "text": [
      "+-----------------+---------------+-----------+\n",
      "|datasourceId_pQTL|       targetId|  diseaseId|\n",
      "+-----------------+---------------+-----------+\n",
      "|       pQTL_coloc|ENSG00000241186|EFO_0800979|\n",
      "+-----------------+---------------+-----------+\n",
      "only showing top 1 row\n",
      "\n"
     ]
    },
    {
     "name": "stderr",
     "output_type": "stream",
     "text": [
      "                                                                                \r"
     ]
    }
   ],
   "source": [
    "pQTLs_evidence.show(1)"
   ]
  },
  {
   "cell_type": "code",
   "execution_count": 27,
   "id": "9d2b1077",
   "metadata": {},
   "outputs": [
    {
     "name": "stderr",
     "output_type": "stream",
     "text": [
      "                                                                                \r"
     ]
    },
    {
     "data": {
      "text/plain": [
       "19117"
      ]
     },
     "execution_count": 27,
     "metadata": {},
     "output_type": "execute_result"
    }
   ],
   "source": [
    "pQTLs_evidence.count()"
   ]
  },
  {
   "cell_type": "code",
   "execution_count": 28,
   "id": "c7f70c10",
   "metadata": {},
   "outputs": [],
   "source": [
    "combined_df_trp = pQTLs_evidence.join(inter, pQTLs_evidence[\"targetId\"] == inter[\"targetA\"], how=\"inner\").drop(\"targetId\").withColumnRenamed(\"diseaseId\", \"diseaseId_2\")"
   ]
  },
  {
   "cell_type": "code",
   "execution_count": 29,
   "id": "efa5fe0a",
   "metadata": {},
   "outputs": [
    {
     "data": {
      "text/plain": [
       "428126"
      ]
     },
     "execution_count": 29,
     "metadata": {},
     "output_type": "execute_result"
    }
   ],
   "source": [
    "combined_df_trp.count()"
   ]
  },
  {
   "cell_type": "code",
   "execution_count": 30,
   "id": "057ffe48",
   "metadata": {},
   "outputs": [
    {
     "name": "stdout",
     "output_type": "stream",
     "text": [
      "+-----------------+-----------+---------------+---------------+\n",
      "|datasourceId_pQTL|diseaseId_2|        targetA|        targetB|\n",
      "+-----------------+-----------+---------------+---------------+\n",
      "|       pQTL_coloc|EFO_0004458|ENSG00000173163|ENSG00000101997|\n",
      "|       pQTL_coloc|EFO_0004694|ENSG00000082781|ENSG00000197122|\n",
      "|       pQTL_coloc|EFO_0005208|ENSG00000082781|ENSG00000197122|\n",
      "|       pQTL_coloc|EFO_0004629|ENSG00000082781|ENSG00000197122|\n",
      "|       pQTL_coloc|EFO_0001645|ENSG00000082781|ENSG00000197122|\n",
      "+-----------------+-----------+---------------+---------------+\n",
      "only showing top 5 rows\n",
      "\n"
     ]
    }
   ],
   "source": [
    "combined_df_trp.show(5)"
   ]
  },
  {
   "cell_type": "code",
   "execution_count": 31,
   "id": "7b87c8b9",
   "metadata": {},
   "outputs": [
    {
     "name": "stderr",
     "output_type": "stream",
     "text": [
      "[Stage 320:>                                                        (0 + 1) / 1]\r"
     ]
    },
    {
     "name": "stdout",
     "output_type": "stream",
     "text": [
      "+----------+------------+---------------+-----------+-------------+--------------------------------+\n",
      "|datatypeId|datasourceId|targetId       |diseaseId  |resourceScore|studyLocusId                    |\n",
      "+----------+------------+---------------+-----------+-------------+--------------------------------+\n",
      "|GWAS      |trans_pQTLs |ENSG00000000971|EFO_0009765|1            |a0e905b4782ca6419848fe36fd1fe559|\n",
      "|GWAS      |trans_pQTLs |ENSG00000002586|EFO_0004308|1            |74d079746b9fe6290e2f3cb004d281a2|\n",
      "|GWAS      |trans_pQTLs |ENSG00000002586|EFO_0004308|1            |b9ce4cc83f6320f7800db08d8aeb40b6|\n",
      "|GWAS      |trans_pQTLs |ENSG00000002586|EFO_0004308|1            |ab436975b124b0f37034c3fdb3344efa|\n",
      "|GWAS      |trans_pQTLs |ENSG00000002586|EFO_0004308|1            |a012109570ae2a5aca76c845dc6cba58|\n",
      "|GWAS      |trans_pQTLs |ENSG00000002586|EFO_0004308|1            |e6eb5154666b34afe63e5246722dc9d5|\n",
      "|GWAS      |trans_pQTLs |ENSG00000002586|EFO_0004308|1            |61f50ce7293979a40d8fc71e566b19cb|\n",
      "|GWAS      |trans_pQTLs |ENSG00000002586|EFO_0004308|1            |027d6a8aa6f3f8df029e290671412708|\n",
      "|GWAS      |trans_pQTLs |ENSG00000002586|EFO_0004339|1            |c48a349b6b98be9386208e8c6c35af11|\n",
      "|GWAS      |trans_pQTLs |ENSG00000002586|EFO_0004339|1            |87553ee2c1a72d2a43dc6044a436ec59|\n",
      "|GWAS      |trans_pQTLs |ENSG00000002586|EFO_0004339|1            |e6fdd0f50a5ef4f80db1784114012549|\n",
      "|GWAS      |trans_pQTLs |ENSG00000002586|EFO_0004339|1            |9c98460c2d1f21ce47add42b657b8a52|\n",
      "|GWAS      |trans_pQTLs |ENSG00000002586|EFO_0004339|1            |9464599f5fbcdb4e104240ad34d760c6|\n",
      "|GWAS      |trans_pQTLs |ENSG00000002586|EFO_0004339|1            |963abd7dee74f847620ae0a1d5233833|\n",
      "|GWAS      |trans_pQTLs |ENSG00000002586|EFO_0004339|1            |1f7216a7b03e04b8d229d227fdacc2ba|\n",
      "|GWAS      |trans_pQTLs |ENSG00000002586|EFO_0004339|1            |042ed9bf5cd39afdf971702aea57f76d|\n",
      "|GWAS      |trans_pQTLs |ENSG00000002586|EFO_0004339|1            |33aaa911732d4513a26a88300206140c|\n",
      "|GWAS      |trans_pQTLs |ENSG00000002586|EFO_0004339|1            |28ef67e95fa87741a7eb09d71078a021|\n",
      "|GWAS      |trans_pQTLs |ENSG00000002586|EFO_0004339|1            |6efd57ca4a4720b7e655be52e222aadd|\n",
      "|GWAS      |trans_pQTLs |ENSG00000002586|EFO_0004339|1            |7f0384b6a56d5b6bacd32e9370421625|\n",
      "+----------+------------+---------------+-----------+-------------+--------------------------------+\n",
      "only showing top 20 rows\n",
      "\n"
     ]
    },
    {
     "name": "stderr",
     "output_type": "stream",
     "text": [
      "                                                                                \r"
     ]
    }
   ],
   "source": [
    "# Perform the join based on the conditions\n",
    "result_df2 = trsn_pqtls_evidence.join(\n",
    "    combined_df_trp,\n",
    "    (combined_df_trp[\"targetB\"] == trsn_pqtls_evidence[\"targetId\"]) &\n",
    "    (combined_df_trp[\"diseaseId_2\"] == trsn_pqtls_evidence[\"diseaseId\"]),\n",
    "    how=\"inner\"  # Use \"inner\" join to keep only matching rows\n",
    ").drop(\"diseaseId_2\",\"targetA\",\"targetB\",\"datasourceId_pQTL\").distinct()\n",
    "\n",
    "# Show the resulting DataFrame\n",
    "result_df2.show(truncate=False)"
   ]
  },
  {
   "cell_type": "code",
   "execution_count": 32,
   "id": "67d6af14",
   "metadata": {},
   "outputs": [
    {
     "name": "stderr",
     "output_type": "stream",
     "text": [
      "                                                                                \r"
     ]
    },
    {
     "data": {
      "text/plain": [
       "541131"
      ]
     },
     "execution_count": 32,
     "metadata": {},
     "output_type": "execute_result"
    }
   ],
   "source": [
    "result_df2.count()"
   ]
  },
  {
   "cell_type": "code",
   "execution_count": 33,
   "id": "ba93df24",
   "metadata": {},
   "outputs": [
    {
     "data": {
      "text/plain": [
       "2654813"
      ]
     },
     "execution_count": 33,
     "metadata": {},
     "output_type": "execute_result"
    }
   ],
   "source": [
    "trsn_pqtls_evidence.count()"
   ]
  },
  {
   "cell_type": "code",
   "execution_count": 34,
   "id": "fdb535d0",
   "metadata": {},
   "outputs": [
    {
     "name": "stderr",
     "output_type": "stream",
     "text": [
      "                                                                                \r"
     ]
    }
   ],
   "source": [
    "enrich=chemblDrugEnrichment.drug_enrichemnt_from_evidence(\n",
    "    evid=result_df2,\n",
    "    disease_index_orig=disease_index_orig,\n",
    "    chembl_orig=chembl_evidence,\n",
    "    indirect_assoc_score_thr=0.5,\n",
    "    efo_ancestors_to_remove=[\"MONDO_0045024\"]\n",
    ")\n",
    "enrich[\"datasource\"] = \"trans_pQTL_with_interaction\"\n",
    "all_enrich.append(enrich)"
   ]
  },
  {
   "cell_type": "code",
   "execution_count": 35,
   "id": "61aa8057",
   "metadata": {},
   "outputs": [],
   "source": [
    "combined_enrich = pd.concat(all_enrich, ignore_index=True)"
   ]
  },
  {
   "cell_type": "code",
   "execution_count": 36,
   "id": "ea02e5f2",
   "metadata": {},
   "outputs": [
    {
     "data": {
      "image/png": "[encoded data removed]",
      "text/plain": [
       "<Figure size 1000x600 with 1 Axes>"
      ]
     },
     "metadata": {},
     "output_type": "display_data"
    }
   ],
   "source": [
    "import matplotlib.pyplot as plt\n",
    "\n",
    "# Assuming `combined_enrich` is your pandas DataFrame\n",
    "# Sort the DataFrame by odds_ratio for better visualization\n",
    "combined_enrich_4=combined_enrich[combined_enrich[\"clinicalPhase\"]==\"4+\"]\n",
    "combined_enrich_4 = combined_enrich_4.sort_values(by=\"odds_ratio\", ascending=True)\n",
    "\n",
    "# Extract data for the plot\n",
    "datasources = combined_enrich_4.apply(\n",
    "    lambda row: f\"{row['datasource']} / {row['total_indirect_assoc']} / {row['yes_evid-high_clinphase']}\", axis=1\n",
    ")\n",
    "odds_ratios = combined_enrich_4[\"odds_ratio\"]\n",
    "ci_low = combined_enrich_4[\"ci_low\"]\n",
    "ci_high = combined_enrich_4[\"ci_high\"]\n",
    "\n",
    "# Create the forest plot\n",
    "plt.figure(figsize=(10, 6))\n",
    "plt.errorbar(odds_ratios, datasources, xerr=[odds_ratios - ci_low, ci_high - odds_ratios], fmt='o', color='blue', ecolor='black', capsize=3, label=\"Odds Ratio (95% CI)\")\n",
    "\n",
    "# Add labels and title\n",
    "plt.axvline(x=1, color='red', linestyle='--', label=\"Null Effect (OR=1)\")\n",
    "plt.xlabel(\"Odds Ratio\")\n",
    "plt.ylabel(\"Datasource\")\n",
    "plt.title(\"Forest Plot of Odds Ratios with 95% Confidence Intervals\")\n",
    "plt.legend()\n",
    "plt.grid(axis='x', linestyle='--', alpha=0.7)\n",
    "\n",
    "# Show the plot\n",
    "plt.tight_layout()\n",
    "plt.show()"
   ]
  },
  {
   "cell_type": "code",
   "execution_count": 37,
   "id": "69154231",
   "metadata": {},
   "outputs": [],
   "source": [
    "folder_to_save=\"chembl_enrichment/\"\n",
    "combined_enrich.to_csv(folder_to_save+\"trans_pQTLs_trans_pQTLs_inter.csv\", index=False)"
   ]
  },
  {
   "cell_type": "code",
   "execution_count": null,
   "id": "87258e52",
   "metadata": {},
   "outputs": [],
   "source": []
  }
 ],
 "metadata": {
  "kernelspec": {
   "display_name": ".venv",
   "language": "python",
   "name": "python3"
  },
  "language_info": {
   "codemirror_mode": {
    "name": "ipython",
    "version": 3
   },
   "file_extension": ".py",
   "mimetype": "text/x-python",
   "name": "python",
   "nbconvert_exporter": "python",
   "pygments_lexer": "ipython3",
   "version": "3.11.11"
  }
 },
 "nbformat": 4,
 "nbformat_minor": 5
}

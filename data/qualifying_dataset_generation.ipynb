{
 "cells": [
  {
   "cell_type": "code",
   "execution_count": 1,
   "metadata": {},
   "outputs": [
    {
     "data": {
      "text/html": [
       "    <style>\n",
       "        .bk-notebook-logo {\n",
       "            display: block;\n",
       "            width: 20px;\n",
       "            height: 20px;\n",
       "            background-image: url(data:image/png;base64,iVBORw0KGgoAAAANSUhEUgAAABQAAAAUCAYAAACNiR0NAAAABHNCSVQICAgIfAhkiAAAAAlwSFlzAAALEgAACxIB0t1+/AAAABx0RVh0U29mdHdhcmUAQWRvYmUgRmlyZXdvcmtzIENTNui8sowAAAOkSURBVDiNjZRtaJVlGMd/1/08zzln5zjP1LWcU9N0NkN8m2CYjpgQYQXqSs0I84OLIC0hkEKoPtiH3gmKoiJDU7QpLgoLjLIQCpEsNJ1vqUOdO7ppbuec5+V+rj4ctwzd8IIbbi6u+8f1539dt3A78eXC7QizUF7gyV1fD1Yqg4JWz84yffhm0qkFqBogB9rM8tZdtwVsPUhWhGcFJngGeWrPzHm5oaMmkfEg1usvLFyc8jLRqDOMru7AyC8saQr7GG7f5fvDeH7Ej8CM66nIF+8yngt6HWaKh7k49Soy9nXurCi1o3qUbS3zWfrYeQDTB/Qj6kX6Ybhw4B+bOYoLKCC9H3Nu/leUTZ1JdRWkkn2ldcCamzrcf47KKXdAJllSlxAOkRgyHsGC/zRday5Qld9DyoM4/q/rUoy/CXh3jzOu3bHUVZeU+DEn8FInkPBFlu3+nW3Nw0mk6vCDiWg8CeJaxEwuHS3+z5RgY+YBR6V1Z1nxSOfoaPa4LASWxxdNp+VWTk7+4vzaou8v8PN+xo+KY2xsw6une2frhw05CTYOmQvsEhjhWjn0bmXPjpE1+kplmmkP3suftwTubK9Vq22qKmrBhpY4jvd5afdRA3wGjFAgcnTK2s4hY0/GPNIb0nErGMCRxWOOX64Z8RAC4oCXdklmEvcL8o0BfkNK4lUg9HTl+oPlQxdNo3Mg4Nv175e/1LDGzZen30MEjRUtmXSfiTVu1kK8W4txyV6BMKlbgk3lMwYCiusNy9fVfvvwMxv8Ynl6vxoByANLTWplvuj/nF9m2+PDtt1eiHPBr1oIfhCChQMBw6Aw0UulqTKZdfVvfG7VcfIqLG9bcldL/+pdWTLxLUy8Qq38heUIjh4XlzZxzQm19lLFlr8vdQ97rjZVOLf8nclzckbcD4wxXMidpX30sFd37Fv/GtwwhzhxGVAprjbg0gCAEeIgwCZyTV2Z1REEW8O4py0wsjeloKoMr6iCY6dP92H6Vw/oTyICIthibxjm/DfN9lVz8IqtqKYLUXfoKVMVQVVJOElGjrnnUt9T9wbgp8AyYKaGlqingHZU/uG2NTZSVqwHQTWkx9hxjkpWDaCg6Ckj5qebgBVbT3V3NNXMSiWSDdGV3hrtzla7J+duwPOToIg42ChPQOQjspnSlp1V+Gjdged7+8UN5CRAV7a5EdFNwCjEaBR27b3W890TE7g24NAP/mMDXRWrGoFPQI9ls/MWO2dWFAar/xcOIImbbpA3zgAAAABJRU5ErkJggg==);\n",
       "        }\n",
       "    </style>\n",
       "    <div>\n",
       "        <a href=\"https://bokeh.org\" target=\"_blank\" class=\"bk-notebook-logo\"></a>\n",
       "        <span id=\"cf4f072b-fb4e-4bf7-9b46-4e21b7be5005\">Loading BokehJS ...</span>\n",
       "    </div>\n"
      ]
     },
     "metadata": {},
     "output_type": "display_data"
    },
    {
     "data": {
      "application/javascript": "(function(root) {\n  function now() {\n    return new Date();\n  }\n\n  const force = true;\n\n  if (typeof root._bokeh_onload_callbacks === \"undefined\" || force === true) {\n    root._bokeh_onload_callbacks = [];\n    root._bokeh_is_loading = undefined;\n  }\n\nconst JS_MIME_TYPE = 'application/javascript';\n  const HTML_MIME_TYPE = 'text/html';\n  const EXEC_MIME_TYPE = 'application/vnd.bokehjs_exec.v0+json';\n  const CLASS_NAME = 'output_bokeh rendered_html';\n\n  /**\n   * Render data to the DOM node\n   */\n  function render(props, node) {\n    const script = document.createElement(\"script\");\n    node.appendChild(script);\n  }\n\n  /**\n   * Handle when an output is cleared or removed\n   */\n  function handleClearOutput(event, handle) {\n    function drop(id) {\n      const view = Bokeh.index.get_by_id(id)\n      if (view != null) {\n        view.model.document.clear()\n        Bokeh.index.delete(view)\n      }\n    }\n\n    const cell = handle.cell;\n\n    const id = cell.output_area._bokeh_element_id;\n    const server_id = cell.output_area._bokeh_server_id;\n\n    // Clean up Bokeh references\n    if (id != null) {\n      drop(id)\n    }\n\n    if (server_id !== undefined) {\n      // Clean up Bokeh references\n      const cmd_clean = \"from bokeh.io.state import curstate; print(curstate().uuid_to_server['\" + server_id + \"'].get_sessions()[0].document.roots[0]._id)\";\n      cell.notebook.kernel.execute(cmd_clean, {\n        iopub: {\n          output: function(msg) {\n            const id = msg.content.text.trim()\n            drop(id)\n          }\n        }\n      });\n      // Destroy server and session\n      const cmd_destroy = \"import bokeh.io.notebook as ion; ion.destroy_server('\" + server_id + \"')\";\n      cell.notebook.kernel.execute(cmd_destroy);\n    }\n  }\n\n  /**\n   * Handle when a new output is added\n   */\n  function handleAddOutput(event, handle) {\n    const output_area = handle.output_area;\n    const output = handle.output;\n\n    // limit handleAddOutput to display_data with EXEC_MIME_TYPE content only\n    if ((output.output_type != \"display_data\") || (!Object.prototype.hasOwnProperty.call(output.data, EXEC_MIME_TYPE))) {\n      return\n    }\n\n    const toinsert = output_area.element.find(\".\" + CLASS_NAME.split(' ')[0]);\n\n    if (output.metadata[EXEC_MIME_TYPE][\"id\"] !== undefined) {\n      toinsert[toinsert.length - 1].firstChild.textContent = output.data[JS_MIME_TYPE];\n      // store reference to embed id on output_area\n      output_area._bokeh_element_id = output.metadata[EXEC_MIME_TYPE][\"id\"];\n    }\n    if (output.metadata[EXEC_MIME_TYPE][\"server_id\"] !== undefined) {\n      const bk_div = document.createElement(\"div\");\n      bk_div.innerHTML = output.data[HTML_MIME_TYPE];\n      const script_attrs = bk_div.children[0].attributes;\n      for (let i = 0; i < script_attrs.length; i++) {\n        toinsert[toinsert.length - 1].firstChild.setAttribute(script_attrs[i].name, script_attrs[i].value);\n        toinsert[toinsert.length - 1].firstChild.textContent = bk_div.children[0].textContent\n      }\n      // store reference to server id on output_area\n      output_area._bokeh_server_id = output.metadata[EXEC_MIME_TYPE][\"server_id\"];\n    }\n  }\n\n  function register_renderer(events, OutputArea) {\n\n    function append_mime(data, metadata, element) {\n      // create a DOM node to render to\n      const toinsert = this.create_output_subarea(\n        metadata,\n        CLASS_NAME,\n        EXEC_MIME_TYPE\n      );\n      this.keyboard_manager.register_events(toinsert);\n      // Render to node\n      const props = {data: data, metadata: metadata[EXEC_MIME_TYPE]};\n      render(props, toinsert[toinsert.length - 1]);\n      element.append(toinsert);\n      return toinsert\n    }\n\n    /* Handle when an output is cleared or removed */\n    events.on('clear_output.CodeCell', handleClearOutput);\n    events.on('delete.Cell', handleClearOutput);\n\n    /* Handle when a new output is added */\n    events.on('output_added.OutputArea', handleAddOutput);\n\n    /**\n     * Register the mime type and append_mime function with output_area\n     */\n    OutputArea.prototype.register_mime_type(EXEC_MIME_TYPE, append_mime, {\n      /* Is output safe? */\n      safe: true,\n      /* Index of renderer in `output_area.display_order` */\n      index: 0\n    });\n  }\n\n  // register the mime type if in Jupyter Notebook environment and previously unregistered\n  if (root.Jupyter !== undefined) {\n    const events = require('base/js/events');\n    const OutputArea = require('notebook/js/outputarea').OutputArea;\n\n    if (OutputArea.prototype.mime_types().indexOf(EXEC_MIME_TYPE) == -1) {\n      register_renderer(events, OutputArea);\n    }\n  }\n  if (typeof (root._bokeh_timeout) === \"undefined\" || force === true) {\n    root._bokeh_timeout = Date.now() + 5000;\n    root._bokeh_failed_load = false;\n  }\n\n  const NB_LOAD_WARNING = {'data': {'text/html':\n     \"<div style='background-color: #fdd'>\\n\"+\n     \"<p>\\n\"+\n     \"BokehJS does not appear to have successfully loaded. If loading BokehJS from CDN, this \\n\"+\n     \"may be due to a slow or bad network connection. Possible fixes:\\n\"+\n     \"</p>\\n\"+\n     \"<ul>\\n\"+\n     \"<li>re-rerun `output_notebook()` to attempt to load from CDN again, or</li>\\n\"+\n     \"<li>use INLINE resources instead, as so:</li>\\n\"+\n     \"</ul>\\n\"+\n     \"<code>\\n\"+\n     \"from bokeh.resources import INLINE\\n\"+\n     \"output_notebook(resources=INLINE)\\n\"+\n     \"</code>\\n\"+\n     \"</div>\"}};\n\n  function display_loaded() {\n    const el = document.getElementById(\"cf4f072b-fb4e-4bf7-9b46-4e21b7be5005\");\n    if (el != null) {\n      el.textContent = \"BokehJS is loading...\";\n    }\n    if (root.Bokeh !== undefined) {\n      if (el != null) {\n        el.textContent = \"BokehJS \" + root.Bokeh.version + \" successfully loaded.\";\n      }\n    } else if (Date.now() < root._bokeh_timeout) {\n      setTimeout(display_loaded, 100)\n    }\n  }\n\n  function run_callbacks() {\n    try {\n      root._bokeh_onload_callbacks.forEach(function(callback) {\n        if (callback != null)\n          callback();\n      });\n    } finally {\n      delete root._bokeh_onload_callbacks\n    }\n    console.debug(\"Bokeh: all callbacks have finished\");\n  }\n\n  function load_libs(css_urls, js_urls, callback) {\n    if (css_urls == null) css_urls = [];\n    if (js_urls == null) js_urls = [];\n\n    root._bokeh_onload_callbacks.push(callback);\n    if (root._bokeh_is_loading > 0) {\n      console.debug(\"Bokeh: BokehJS is being loaded, scheduling callback at\", now());\n      return null;\n    }\n    if (js_urls == null || js_urls.length === 0) {\n      run_callbacks();\n      return null;\n    }\n    console.debug(\"Bokeh: BokehJS not loaded, scheduling load and callback at\", now());\n    root._bokeh_is_loading = css_urls.length + js_urls.length;\n\n    function on_load() {\n      root._bokeh_is_loading--;\n      if (root._bokeh_is_loading === 0) {\n        console.debug(\"Bokeh: all BokehJS libraries/stylesheets loaded\");\n        run_callbacks()\n      }\n    }\n\n    function on_error(url) {\n      console.error(\"failed to load \" + url);\n    }\n\n    for (let i = 0; i < css_urls.length; i++) {\n      const url = css_urls[i];\n      const element = document.createElement(\"link\");\n      element.onload = on_load;\n      element.onerror = on_error.bind(null, url);\n      element.rel = \"stylesheet\";\n      element.type = \"text/css\";\n      element.href = url;\n      console.debug(\"Bokeh: injecting link tag for BokehJS stylesheet: \", url);\n      document.body.appendChild(element);\n    }\n\n    for (let i = 0; i < js_urls.length; i++) {\n      const url = js_urls[i];\n      const element = document.createElement('script');\n      element.onload = on_load;\n      element.onerror = on_error.bind(null, url);\n      element.async = false;\n      element.src = url;\n      console.debug(\"Bokeh: injecting script tag for BokehJS library: \", url);\n      document.head.appendChild(element);\n    }\n  };\n\n  function inject_raw_css(css) {\n    const element = document.createElement(\"style\");\n    element.appendChild(document.createTextNode(css));\n    document.body.appendChild(element);\n  }\n\n  const js_urls = [\"https://cdn.bokeh.org/bokeh/release/bokeh-3.3.4.min.js\", \"https://cdn.bokeh.org/bokeh/release/bokeh-gl-3.3.4.min.js\", \"https://cdn.bokeh.org/bokeh/release/bokeh-widgets-3.3.4.min.js\", \"https://cdn.bokeh.org/bokeh/release/bokeh-tables-3.3.4.min.js\", \"https://cdn.bokeh.org/bokeh/release/bokeh-mathjax-3.3.4.min.js\"];\n  const css_urls = [];\n\n  const inline_js = [    function(Bokeh) {\n      Bokeh.set_log_level(\"info\");\n    },\nfunction(Bokeh) {\n    }\n  ];\n\n  function run_inline_js() {\n    if (root.Bokeh !== undefined || force === true) {\n          for (let i = 0; i < inline_js.length; i++) {\n      inline_js[i].call(root, root.Bokeh);\n    }\nif (force === true) {\n        display_loaded();\n      }} else if (Date.now() < root._bokeh_timeout) {\n      setTimeout(run_inline_js, 100);\n    } else if (!root._bokeh_failed_load) {\n      console.log(\"Bokeh: BokehJS failed to load within specified timeout.\");\n      root._bokeh_failed_load = true;\n    } else if (force !== true) {\n      const cell = $(document.getElementById(\"cf4f072b-fb4e-4bf7-9b46-4e21b7be5005\")).parents('.cell').data().cell;\n      cell.output_area.append_execute_result(NB_LOAD_WARNING)\n    }\n  }\n\n  if (root._bokeh_is_loading === 0) {\n    console.debug(\"Bokeh: BokehJS loaded, going straight to plotting\");\n    run_inline_js();\n  } else {\n    load_libs(css_urls, js_urls, function() {\n      console.debug(\"Bokeh: BokehJS plotting callback run at\", now());\n      run_inline_js();\n    });\n  }\n}(window));",
      "application/vnd.bokehjs_load.v0+json": ""
     },
     "metadata": {},
     "output_type": "display_data"
    }
   ],
   "source": [
    "import pyspark.sql.functions as f\n",
    "import pyspark.sql.types as t\n",
    "import statsmodels.api as sm\n",
    "import pandas as pd\n",
    "import numpy as np\n",
    "import plotly.express as px\n",
    "import plotly.io as pio\n",
    "import scipy.stats as stats\n",
    "\n",
    "\n",
    "from gentropy.common.session import Session\n",
    "\n",
    "pio.renderers.default = \"vscode\"\n"
   ]
  },
  {
   "cell_type": "code",
   "execution_count": 2,
   "metadata": {},
   "outputs": [
    {
     "name": "stderr",
     "output_type": "stream",
     "text": [
      "Setting default log level to \"WARN\".\n",
      "To adjust logging level use sc.setLogLevel(newLevel). For SparkR, use setLogLevel(newLevel).\n",
      "25/05/20 12:20:46 WARN NativeCodeLoader: Unable to load native-hadoop library for your platform... using builtin-java classes where applicable\n"
     ]
    }
   ],
   "source": [
    "session = Session(\n",
    "    extended_spark_conf={\"spark.executor.memory\": \"10g\", \"spark.driver.memory\": \"10g\"}\n",
    ")"
   ]
  },
  {
   "cell_type": "markdown",
   "metadata": {},
   "source": [
    "This is the therapeutic area hierarchy:"
   ]
  },
  {
   "cell_type": "code",
   "execution_count": 3,
   "metadata": {},
   "outputs": [],
   "source": [
    "therapy_area_hierarchy = {\n",
    "    \"EFO_0001444\": \"measurement\",\n",
    "    \"MONDO_0045024\": \"cancer or benign tumor\",\n",
    "    \"EFO_0005741\": \"infectious disease\",\n",
    "    \"OTAR_0000014\": \"pregnancy or perinatal disease\",\n",
    "    \"MONDO_0024458\": \"disorder of visual system\",\n",
    "    \"EFO_0000319\": \"cardiovascular disease\",\n",
    "    \"EFO_0009605\": \"pancreas disease\",\n",
    "    \"EFO_0010282\": \"gastrointestinal disease\",\n",
    "    \"OTAR_0000017\": \"reproductive system or breast disease\",\n",
    "    \"EFO_0010285\": \"integumentary system disease\",\n",
    "    \"EFO_0001379\": \"endocrine system disease\",\n",
    "    \"OTAR_0000010\": \"respiratory or thoracic disease\",\n",
    "    \"EFO_0009690\": \"urinary system disease\",\n",
    "    \"OTAR_0000006\": \"musculoskeletal or connective tissue disease\",\n",
    "    \"MONDO_0021205\": \"disorder of ear\",\n",
    "    \"EFO_0000540\": \"immune system disease\",\n",
    "    \"EFO_0005803\": \"hematologic disease\",\n",
    "    \"EFO_0000618\": \"nervous system disease\",\n",
    "    \"MONDO_0002025\": \"psychiatric disorder\",\n",
    "    \"OTAR_0000020\": \"nutritional or metabolic disease\",\n",
    "    \"OTAR_0000018\": \"genetic, familial or congenital disease\",\n",
    "    \"OTAR_0000009\": \"injury, poisoning or other complication\",\n",
    "    \"EFO_0003765\": \"sign or symptom\",\n",
    "    \"other\": \"other\",\n",
    "    # \"EFO_0000651\",  # \"phenotype\",\n",
    "    # \"GO_0008150\",  # \"biological process\"\n",
    "    # \"EFO_0002571\", # \"medical procedure\",\"\n",
    "    # \"EFO_0005932\": \"animal disease\",\n",
    "}"
   ]
  },
  {
   "cell_type": "code",
   "execution_count": 4,
   "metadata": {},
   "outputs": [
    {
     "name": "stderr",
     "output_type": "stream",
     "text": [
      "25/05/20 12:20:48 WARN MetricsConfig: Cannot locate configuration: tried hadoop-metrics2-google-hadoop-file-system.properties,hadoop-metrics2.properties\n",
      "                                                                                \r"
     ]
    }
   ],
   "source": [
    "target = session.spark.read.parquet(\n",
    "    \"gs://open-targets-data-releases/25.03/output/target\"\n",
    ")\n",
    "studies = session.spark.read.parquet(\n",
    "    \"gs://open-targets-data-releases/25.03/output/study\"\n",
    ")\n",
    "cred_sets = session.spark.read.parquet(\n",
    "    \"gs://open-targets-data-releases/25.03/output/credible_set\"\n",
    ")\n",
    "tissue_expression = session.spark.read.parquet(\n",
    "    \"gs://open-targets-data-releases/25.03/output/target_prioritisation\"\n",
    ").select(\"targetId\", \"tissueSpecificity\", \"tissueDistribution\")\n"
   ]
  },
  {
   "cell_type": "markdown",
   "metadata": {},
   "source": [
    "# Generation of Study-Index with Therapeutic Areas assigned"
   ]
  },
  {
   "cell_type": "code",
   "execution_count": 5,
   "metadata": {},
   "outputs": [],
   "source": [
    "gwas = (\n",
    "    studies\n",
    "    .filter(f.col('studyType') =='gwas')\n",
    ")"
   ]
  },
  {
   "cell_type": "code",
   "execution_count": 6,
   "metadata": {},
   "outputs": [
    {
     "name": "stderr",
     "output_type": "stream",
     "text": [
      "                                                                                \r"
     ]
    }
   ],
   "source": [
    "# This udf extracts the FIRST therapeutic area, as per hierarchy list, for each diseaseId\n",
    "@f.udf(t.StringType())\n",
    "def get_first_matching_therapeutic_area(therapeutic_areas_list):\n",
    "    if therapeutic_areas_list is None:\n",
    "        return None\n",
    "    for ta in therapy_area_hierarchy:\n",
    "        if ta in therapeutic_areas_list:\n",
    "            return ta\n",
    "    return None\n",
    "\n",
    "# These lines create a dictionary of diseaseId to primary therapeutic area\n",
    "efo_ta = ( \n",
    "    session.spark.read.parquet(\n",
    "        'gs://open-targets-data-releases/25.03/output/disease/disease.parquet'\n",
    "    )\n",
    "    .select('id', 'ancestors', )\n",
    "    .withColumn(\n",
    "        'primaryTherapeuticArea',\n",
    "        get_first_matching_therapeutic_area(f.col('ancestors'))\n",
    "    )\n",
    "    .withColumn(\n",
    "        'primaryTherapeuticArea',\n",
    "        f.when(f.col('primaryTherapeuticArea').isNull(), f.lit('other'))\n",
    "        .otherwise(f.col('primaryTherapeuticArea'))\n",
    "    )\n",
    "    .join(\n",
    "        studies.select(f.explode('diseaseIds').alias('efo')),\n",
    "        f.col('id') == f.col('efo'),\n",
    "        'semi'\n",
    "    )\n",
    ")\n",
    "efo_ta_lookup = efo_ta.select('id', 'primaryTherapeuticArea').collect()\n",
    "efo_ta_dict = {row['id']: row['primaryTherapeuticArea'] for row in efo_ta_lookup}\n",
    "\n",
    "# This udf takes a diseaseIds arrays and creates an array of mapped therapeutic areas\n",
    "@f.udf(t.ArrayType(t.StringType())) \n",
    "def map_efos_to_therapeutic_areas(efo_ids):\n",
    "    if efo_ids is None:\n",
    "        return None\n",
    "    lookup_dict = efo_ta_dict\n",
    "    mapped_areas = []\n",
    "    for efo_id in efo_ids:\n",
    "        mapped_areas.append(lookup_dict.get(efo_id, None))\n",
    "        mapped_areas = list(set(area for area in mapped_areas if area is not None))\n",
    "    return mapped_areas\n",
    "        "
   ]
  },
  {
   "cell_type": "code",
   "execution_count": 7,
   "metadata": {},
   "outputs": [],
   "source": [
    "gwas = (\n",
    "    gwas.withColumn(\n",
    "        \"mappedTherapeuticAreas\", map_efos_to_therapeutic_areas(f.col(\"diseaseIds\"))\n",
    "    )\n",
    "    .withColumn(\n",
    "        \"measurement\", f.array_contains(\"mappedTherapeuticAreas\", \"EFO_0001444\")\n",
    "    )\n",
    "    .withColumn(\n",
    "        \"binaryLessCases\",\n",
    "        f.when(f.col(\"nCases\") < f.col(\"nControls\"), True).otherwise(False),\n",
    "    )\n",
    "    .withColumns(\n",
    "        {\n",
    "            \"cancerOrBenignTumor\": f.when(\n",
    "                f.array_contains(\"mappedTherapeuticAreas\", \"MONDO_0045024\"), 1\n",
    "            ).otherwise(0),\n",
    "            \"infectiousDisease\": f.when(\n",
    "                f.array_contains(\"mappedTherapeuticAreas\", \"EFO_0005741\"), 1\n",
    "            ).otherwise(0),\n",
    "            \"pregnancyOrPerinatalDisease\": f.when(\n",
    "                f.array_contains(\"mappedTherapeuticAreas\", \"OTAR_0000014\"), 1\n",
    "            ).otherwise(0),\n",
    "            \"disorderOfVisualSystem\": f.when(\n",
    "                f.array_contains(\"mappedTherapeuticAreas\", \"MONDO_0024458\"), 1\n",
    "            ).otherwise(0),\n",
    "            \"cardiovascularDisease\": f.when(\n",
    "                f.array_contains(\"mappedTherapeuticAreas\", \"EFO_0000319\"), 1\n",
    "            ).otherwise(0),\n",
    "            \"pancreasDisease\": f.when(\n",
    "                f.array_contains(\"mappedTherapeuticAreas\", \"EFO_0009605\"), 1\n",
    "            ).otherwise(0),\n",
    "            \"gastrointestinalDisease\": f.when(\n",
    "                f.array_contains(\"mappedTherapeuticAreas\", \"EFO_0010282\"), 1\n",
    "            ).otherwise(0),\n",
    "            \"reproductiveSystemOrBreastDisease\": f.when(\n",
    "                f.array_contains(\"mappedTherapeuticAreas\", \"OTAR_0000017\"), 1\n",
    "            ).otherwise(0),\n",
    "            \"integumentarySystemDisease\": f.when(\n",
    "                f.array_contains(\"mappedTherapeuticAreas\", \"EFO_0010285\"), 1\n",
    "            ).otherwise(0),\n",
    "            \"endocrineSystemDisease\": f.when(\n",
    "                f.array_contains(\"mappedTherapeuticAreas\", \"EFO_0001379\"), 1\n",
    "            ).otherwise(0),\n",
    "            \"respiratoryOrThoracicDisease\": f.when(\n",
    "                f.array_contains(\"mappedTherapeuticAreas\", \"OTAR_0000010\"), 1\n",
    "            ).otherwise(0),\n",
    "            \"urinarySystemDisease\": f.when(\n",
    "                f.array_contains(\"mappedTherapeuticAreas\", \"EFO_0009690\"), 1\n",
    "            ).otherwise(0),\n",
    "            \"musculoskeletalOrConnectiveTissueDisease\": f.when(\n",
    "                f.array_contains(\"mappedTherapeuticAreas\", \"OTAR_0000006\"), 1\n",
    "            ).otherwise(0),\n",
    "            \"disorderOfEar\": f.when(\n",
    "                f.array_contains(\"mappedTherapeuticAreas\", \"MONDO_0021205\"), 1\n",
    "            ).otherwise(0),\n",
    "            \"immuneSystemDisease\": f.when(\n",
    "                f.array_contains(\"mappedTherapeuticAreas\", \"EFO_000540\"), 1\n",
    "            ).otherwise(0),\n",
    "            \"hematologicDisease\": f.when(\n",
    "                f.array_contains(\"mappedTherapeuticAreas\", \"EFO_0005803\"), 1\n",
    "            ).otherwise(0),\n",
    "            \"nervousSystemDisease\": f.when(\n",
    "                f.array_contains(\"mappedTherapeuticAreas\", \"EFO_0000618\"), 1\n",
    "            ).otherwise(0),\n",
    "            \"psychiatricDisorder\": f.when(\n",
    "                f.array_contains(\"mappedTherapeuticAreas\", \"MONDO_0002025\"), 1\n",
    "            ).otherwise(0),\n",
    "            \"nutritionalOrMetabolicDisease\": f.when(\n",
    "                f.array_contains(\"mappedTherapeuticAreas\", \"OTAR_0000020\"), 1\n",
    "            ).otherwise(0),\n",
    "            \"geneticFamilialOrCongenitalDisease\": f.when(\n",
    "                f.array_contains(\"mappedTherapeuticAreas\", \"OTAR_0000018\"), 1\n",
    "            ).otherwise(0),\n",
    "            \"injuryPoisoningOrOtherComplication\": f.when(\n",
    "                f.array_contains(\"mappedTherapeuticAreas\", \"OTAR_0000009\"), 1\n",
    "            ).otherwise(0),\n",
    "            \"signOrSymptom\": f.when(\n",
    "                f.array_contains(\"mappedTherapeuticAreas\", \"EFO_0003765\"), 1\n",
    "            ).otherwise(0),\n",
    "            \"other\": f.when(\n",
    "                f.array_contains(\"mappedTherapeuticAreas\", \"other\"), 1\n",
    "            ).otherwise(0),\n",
    "        }\n",
    "    )\n",
    "    .withColumn(\n",
    "        \"totalTherapeuticAreas\",\n",
    "        f.col(\"cancerOrBenignTumor\")\n",
    "        + f.col(\"infectiousDisease\")\n",
    "        + f.col(\"pregnancyOrPerinatalDisease\")\n",
    "        + f.col(\"disorderOfVisualSystem\")\n",
    "        + f.col(\"cardiovascularDisease\")\n",
    "        + f.col(\"pancreasDisease\")\n",
    "        + f.col(\"gastrointestinalDisease\")\n",
    "        + f.col(\"reproductiveSystemOrBreastDisease\")\n",
    "        + f.col(\"integumentarySystemDisease\")\n",
    "        + f.col(\"endocrineSystemDisease\")\n",
    "        + f.col(\"respiratoryOrThoracicDisease\")\n",
    "        + f.col(\"urinarySystemDisease\")\n",
    "        + f.col(\"musculoskeletalOrConnectiveTissueDisease\")\n",
    "        + f.col(\"disorderOfEar\")\n",
    "        + f.col(\"immuneSystemDisease\")\n",
    "        + f.col(\"hematologicDisease\")\n",
    "        + f.col(\"nervousSystemDisease\")\n",
    "        + f.col(\"psychiatricDisorder\")\n",
    "        + f.col(\"nutritionalOrMetabolicDisease\")\n",
    "        + f.col(\"geneticFamilialOrCongenitalDisease\")\n",
    "        + f.col(\"injuryPoisoningOrOtherComplication\")\n",
    "        + f.col(\"signOrSymptom\")\n",
    "        + f.col(\"other\"),\n",
    "    )\n",
    ")"
   ]
  },
  {
   "cell_type": "code",
   "execution_count": 8,
   "metadata": {},
   "outputs": [
    {
     "name": "stderr",
     "output_type": "stream",
     "text": [
      "                                                                                \r"
     ]
    },
    {
     "name": "stdout",
     "output_type": "stream",
     "text": [
      "+-----------+--------------+\n",
      "|measurement|count(studyId)|\n",
      "+-----------+--------------+\n",
      "|       true|          3860|\n",
      "|      false|         15389|\n",
      "+-----------+--------------+\n",
      "\n"
     ]
    }
   ],
   "source": [
    "(\n",
    "    gwas\n",
    "    .filter(f.col('binaryLessCases'))\n",
    "    .groupBy('measurement')\n",
    "    .agg(f.count('studyId'))\n",
    "    .show()\n",
    ")"
   ]
  },
  {
   "cell_type": "code",
   "execution_count": 9,
   "metadata": {},
   "outputs": [
    {
     "name": "stderr",
     "output_type": "stream",
     "text": [
      "25/05/20 12:21:01 WARN SparkStringUtils: Truncated the string representation of a plan since it was too large. This behavior can be adjusted by setting 'spark.sql.debug.maxToStringFields'.\n",
      "[Stage 10:==================================================>       (7 + 1) / 8]\r"
     ]
    },
    {
     "name": "stdout",
     "output_type": "stream",
     "text": [
      "+--------------------+------+-----------+---------+--------------------+------------------------+---------------------+--------+--------------------+----------------------+---------------+--------------------+----------------------------------+--------------------+------+---------+--------+--------------------+---------------------+--------------------+------------------+--------------------+-------------+--------------------+-----------+---------+--------------------+--------------------+--------------------+-----------+----------------------+-----------+---------------+-------------------+-----------------+---------------------------+----------------------+---------------------+---------------+-----------------------+---------------------------------+--------------------------+----------------------+----------------------------+--------------------+----------------------------------------+-------------+-------------------+------------------+--------------------+-------------------+-----------------------------+----------------------------------+----------------------------------+-------------+-----+---------------------+\n",
      "|             studyId|geneId|  projectId|studyType|     traitFromSource|traitFromSourceMappedIds|biosampleFromSourceId|pubmedId|    publicationTitle|publicationFirstAuthor|publicationDate|  publicationJournal|backgroundTraitFromSourceMappedIds|   initialSampleSize|nCases|nControls|nSamples|             cohorts|ldPopulationStructure|    discoverySamples|replicationSamples|     qualityControls|analysisFlags|summarystatsLocation|hasSumstats|condition|     sumstatQCValues|          diseaseIds|backgroundDiseaseIds|biosampleId|mappedTherapeuticAreas|measurement|binaryLessCases|cancerOrBenignTumor|infectiousDisease|pregnancyOrPerinatalDisease|disorderOfVisualSystem|cardiovascularDisease|pancreasDisease|gastrointestinalDisease|reproductiveSystemOrBreastDisease|integumentarySystemDisease|endocrineSystemDisease|respiratoryOrThoracicDisease|urinarySystemDisease|musculoskeletalOrConnectiveTissueDisease|disorderOfEar|immuneSystemDisease|hematologicDisease|nervousSystemDisease|psychiatricDisorder|nutritionalOrMetabolicDisease|geneticFamilialOrCongenitalDisease|injuryPoisoningOrOtherComplication|signOrSymptom|other|totalTherapeuticAreas|\n",
      "+--------------------+------+-----------+---------+--------------------+------------------------+---------------------+--------+--------------------+----------------------+---------------+--------------------+----------------------------------+--------------------+------+---------+--------+--------------------+---------------------+--------------------+------------------+--------------------+-------------+--------------------+-----------+---------+--------------------+--------------------+--------------------+-----------+----------------------+-----------+---------------+-------------------+-----------------+---------------------------+----------------------+---------------------+---------------+-----------------------+---------------------------------+--------------------------+----------------------+----------------------------+--------------------+----------------------------------------+-------------+-------------------+------------------+--------------------+-------------------+-----------------------------+----------------------------------+----------------------------------+-------------+-----+---------------------+\n",
      "|          GCST003097|  NULL|       GCST|     gwas|Pediatric autoimm...|    [EFO_0000384, EFO...|                 NULL|26301688|Meta-analysis of ...|                 Li YR|     2015-08-24|             Nat Med|                              NULL|97 European ances...|  6035|    10718|   16753|                NULL|         [{nfe, 1.0}]| [{16753, European}]|                []|[Harmonized summa...|           []|                NULL|      false|     NULL|                NULL|[EFO_0001060, EFO...|                  []|       NULL|  [EFO_0001379, EFO...|      false|           true|                  1|                0|                          0|                     0|                    0|              1|                      1|                                0|                         1|                     1|                           0|                   1|                                       1|            0|                  0|                 0|                   0|                  0|                            0|                                 0|                                 0|            0|    0|                    7|\n",
      "|          GCST005322|  NULL|       GCST|     gwas|Corticobasal dege...|    [EFO_0000384, EFO...|                 NULL|29315334|Immune-related ge...|               Broce I|     2018-01-09|            PLoS Med|                              NULL|152 corticobasal ...|127417|   130576|  130728|                NULL|         [{nfe, 1.0}]|      [{146011, NR}]|                []|[Harmonized summa...|           []|                NULL|      false|     NULL|                NULL|[EFO_0001060, EFO...|                  []|       NULL|  [EFO_0009605, EFO...|      false|           true|                  0|                0|                          0|                     0|                    0|              1|                      1|                                0|                         1|                     0|                           0|                   0|                                       1|            0|                  0|                 0|                   1|                  0|                            0|                                 0|                                 0|            0|    0|                    5|\n",
      "|          GCST005321|  NULL|       GCST|     gwas|Amyotrophic later...|    [EFO_0000384, EFO...|                 NULL|29315334|Immune-related ge...|               Broce I|     2018-01-09|            PLoS Med|                              NULL|12,577 amyotrophi...|139842|   150740|  163317|                NULL|         [{nfe, 1.0}]|      [{178600, NR}]|                []|[Harmonized summa...|           []|                NULL|      false|     NULL|                NULL|[EFO_0001060, EFO...|                  []|       NULL|  [EFO_0009605, EFO...|      false|           true|                  0|                0|                          0|                     0|                    0|              1|                      1|                                0|                         1|                     0|                           0|                   0|                                       1|            0|                  0|                 0|                   1|                  0|                            0|                                 0|                                 0|            0|    0|                    5|\n",
      "|        GCST90435162|  NULL|       GCST|     gwas|Extraintestinal m...|    [EFO_0000701, EFO...|                 NULL|38490347|Comprehensive ass...|               Khrom M|     2024-02-27|    Gastroenterology|                     [EFO_0003767]|1,704 European an...|  1704|    10190|   11894|[MIRIAD, SHARE-IB...|         [{nfe, 1.0}]| [{11894, European}]|                []|[Harmonized summa...|           []|                NULL|      false|     NULL|                NULL|[EFO_0003966, EFO...|       [EFO_0003767]|       NULL|  [other, EFO_00102...|      false|           true|                  0|                0|                          0|                     1|                    0|              0|                      1|                                0|                         1|                     0|                           0|                   0|                                       1|            0|                  0|                 0|                   0|                  0|                            0|                                 0|                                 0|            0|    1|                    5|\n",
      "|          GCST005320|  NULL|       GCST|     gwas|Progressive supra...|    [EFO_0000384, EFO...|                 NULL|29315334|Immune-related ge...|               Broce I|     2018-01-09|            PLoS Med|                              NULL|1,114 progressive...|128379|   130512|  131626|                NULL|         [{nfe, 1.0}]|      [{146909, NR}]|                []|[Harmonized summa...|           []|                NULL|      false|     NULL|                NULL|[EFO_0001060, EFO...|                  []|       NULL|  [EFO_0009605, EFO...|      false|           true|                  0|                0|                          0|                     1|                    0|              1|                      1|                                0|                         1|                     0|                           0|                   0|                                       1|            0|                  0|                 0|                   0|                  0|                            0|                                 0|                                 0|            0|    0|                    5|\n",
      "|        GCST90435164|  NULL|       GCST|     gwas|Extraintestinal m...|    [EFO_0000701, EFO...|                 NULL|38490347|Comprehensive ass...|               Khrom M|     2024-02-27|    Gastroenterology|                     [EFO_0003767]|240 European ance...|   240|     8572|    8812|[MIRIAD, SHARE-IB...|         [{nfe, 1.0}]|  [{8812, European}]|                []|[Harmonized summa...|           []|                NULL|      false|     NULL|                NULL|[EFO_0003966, EFO...|       [EFO_0003767]|       NULL|  [other, EFO_00102...|      false|           true|                  0|                0|                          0|                     1|                    0|              0|                      1|                                0|                         1|                     0|                           0|                   0|                                       1|            0|                  0|                 0|                   0|                  0|                            0|                                 0|                                 0|            0|    1|                    5|\n",
      "|          GCST005563|  NULL|       GCST|     gwas|Primary sclerosin...|    [EFO_0000384, EFO...|                 NULL|23603763|Dense genotyping ...|                Liu JZ|     2013-06-01|           Nat Genet|                              NULL|6,333 European an...| 37492|   106357|  143849|                NULL|         [{nfe, 1.0}]|[{143849, European}]|                []|[Harmonized summa...|           []|                NULL|      false|     NULL|                NULL|[EFO_0001060, EFO...|                  []|       NULL|  [OTAR_0000006, EF...|      false|           true|                  0|                0|                          0|                     0|                    0|              1|                      1|                                0|                         1|                     0|                           0|                   0|                                       1|            0|                  0|                 0|                   0|                  0|                            0|                                 0|                                 0|            0|    0|                    4|\n",
      "|          GCST005319|  NULL|       GCST|     gwas|Frontotemporal de...|    [EFO_0000384, EFO...|                 NULL|29315334|Immune-related ge...|               Broce I|     2018-01-09|            PLoS Med|                              NULL|2,154 frontotempo...|129419|   131573|  133727|                NULL|         [{nfe, 1.0}]|      [{149010, NR}]|                []|[Harmonized summa...|           []|                NULL|      false|     NULL|                NULL|[EFO_0001060, EFO...|                  []|       NULL|  [EFO_0000618, EFO...|      false|           true|                  0|                0|                          0|                     0|                    0|              0|                      1|                                0|                         1|                     0|                           0|                   0|                                       1|            0|                  0|                 0|                   1|                  0|                            0|                                 0|                                 0|            0|    0|                    4|\n",
      "|        GCST90435163|  NULL|       GCST|     gwas|Extraintestinal m...|    [EFO_0000701, EFO...|                 NULL|38490347|Comprehensive ass...|               Khrom M|     2024-02-27|    Gastroenterology|                     [EFO_0003767]|3,255 European an...|  3255|     8572|   11827|[MIRIAD, SHARE-IB...|         [{nfe, 1.0}]| [{11827, European}]|                []|[Harmonized summa...|           []|                NULL|      false|     NULL|                NULL|[EFO_0003966, EFO...|       [EFO_0003767]|       NULL|  [MONDO_0024458, E...|      false|           true|                  0|                0|                          0|                     1|                    0|              0|                      1|                                0|                         1|                     0|                           0|                   0|                                       1|            0|                  0|                 0|                   0|                  0|                            0|                                 0|                                 0|            0|    0|                    4|\n",
      "|          GCST004757|  NULL|       GCST|     gwas|Alcohol dependenc...|    [EFO_1000802, EFO...|                 NULL|28714907|Genetic Contribut...|           Treutlein J|     2017-07-17|       Genes (Basel)|                              NULL|1,331 German ance...|  2841|     3684|    6525|                NULL|         [{nfe, 1.0}]|  [{4775, European}]|                []|[Harmonized summa...|           []|                NULL|      false|     NULL|                NULL|[EFO_1000802, EFO...|                  []|       NULL|  [MONDO_0045024, E...|      false|           true|                  1|                0|                          0|                     0|                    0|              1|                      0|                                0|                         0|                     0|                           0|                   0|                                       0|            0|                  0|                 0|                   1|                  0|                            0|                                 0|                                 0|            0|    0|                    3|\n",
      "|FINNGEN_R12_E4_EN...|  NULL|FINNGEN_R12|     gwas|Postprocedural en...|    [EFO_0009518, EFO...|                 NULL|    NULL|                NULL|                  NULL|           NULL|                NULL|                              NULL|500,348 (282,064 ...|  5016|   420066|  425082|           [FinnGen]|         [{fin, 1.0}]| [{500348, Finnish}]|              NULL|                  []|           []|gs://finngen-publ...|       true|     NULL|                NULL|[EFO_0000589, EFO...|                  []|       NULL|  [OTAR_0000009, ot...|      false|           true|                  0|                0|                          0|                     0|                    0|              0|                      0|                                0|                         0|                     0|                           0|                   0|                                       0|            0|                  0|                 0|                   0|                  0|                            1|                                 0|                                 1|            0|    1|                    3|\n",
      "|        GCST90435523|  NULL|       GCST|     gwas|Herpes zoster wit...|    [EFO_0000618, EFO...|                 NULL|30104761|Efficiently contr...|                Zhou W|     2018-08-13|           Nat Genet|                              NULL|96 British ancest...|    96|   403316|  403412|               [UKB]|         [{nfe, 1.0}]|[{403412, European}]|                []|[Harmonized summa...|           []|                NULL|      false|     NULL|                NULL|[EFO_0006510, EFO...|                  []|       NULL|  [OTAR_0000009, EF...|      false|           true|                  0|                1|                          0|                     0|                    0|              0|                      0|                                0|                         0|                     0|                           0|                   0|                                       0|            0|                  0|                 0|                   0|                  0|                            0|                                 0|                                 1|            0|    1|                    3|\n",
      "|          GCST007278|  NULL|       GCST|     gwas|Systemic seroposi...|    [EFO_0000685, EFO...|                 NULL|30573655|Genome-wide meta-...|      Acosta-Herrera M|     2018-12-20|       Ann Rheum Dis|                              NULL|up to 4,595 Europ...| 11704|    19704|   31408|                NULL|         [{nfe, 1.0}]| [{31382, European}]|                []|[Harmonized summa...|           []|                NULL|      false|     NULL|                NULL|[EFO_0000685, EFO...|                  []|       NULL|  [MONDO_0024458, E...|      false|           true|                  0|                0|                          0|                     1|                    0|              0|                      0|                                0|                         0|                     0|                           0|                   1|                                       1|            0|                  0|                 0|                   0|                  0|                            0|                                 0|                                 0|            0|    0|                    3|\n",
      "|        GCST90102276|  NULL|       GCST|     gwas|Steroid induced o...|    [EFO_0020976, EFO...|                 NULL|34850884|Novel susceptibil...|            Suetsugu H|     2021-12-01|       Hum Mol Genet|                              NULL|636 Japanese ance...|   636|    95588|   96224|        [BBJ, other]|         [{eas, 1.0}]|[{96224, East Asi...|                []|[Harmonized summa...|           []|                NULL|      false|     NULL|                NULL|[EFO_0020976, MON...|                  []|       NULL|  [other, OTAR_0000...|      false|           true|                  0|                0|                          0|                     0|                    0|              0|                      0|                                0|                         0|                     0|                           0|                   1|                                       1|            0|                  0|                 0|                   0|                  0|                            0|                                 0|                                 0|            0|    1|                    3|\n",
      "|        GCST90042829|  NULL|       GCST|     gwas|Substances taken ...|    [EFO_0004329, EFO...|                 NULL|34737426|A generalized lin...|               Jiang L|     2021-11-04|           Nat Genet|                              NULL|10,704 European a...| 10704|   136692|  147396|               [UKB]|         [{nfe, 1.0}]|[{147396, European}]|                []|                  []|           []|                NULL|       true|     NULL|{mean_beta -> -2....|[MONDO_0002009, E...|                  []|       NULL|  [MONDO_0002025, o...|      false|           true|                  0|                0|                          0|                     0|                    0|              0|                      0|                                0|                         0|                     0|                           0|                   0|                                       0|            0|                  0|                 0|                   1|                  1|                            0|                                 0|                                 0|            0|    1|                    3|\n",
      "|          GCST011795|  NULL|       GCST|     gwas|Severe skin toxic...|    [EFO_0000701, EFO...|                 NULL|33203692|Genetic predictor...|            Labadie JD|     2020-11-17|Cancer Epidemiol ...|                              NULL|216 European ance...|   243|      966|    1209|                NULL| [{eas, 0.05459057...|[{60, Asian unspe...|                []|[Harmonized summa...|           []|                NULL|      false|     NULL|                NULL|[EFO_0000701, EFO...|                  []|       NULL|  [other, MONDO_004...|      false|           true|                  1|                0|                          0|                     0|                    0|              0|                      0|                                0|                         1|                     0|                           0|                   0|                                       0|            0|                  0|                 0|                   0|                  0|                            0|                                 0|                                 0|            0|    1|                    3|\n",
      "|          GCST000824|  NULL|       GCST|     gwas|Erectile dysfunct...|    [EFO_0001663, EFO...|                 NULL|20932654|Genome-wide assoc...|              Kerns SL|     2010-10-05|Int J Radiat Onco...|                              NULL|27 African Americ...|    27|       52|      79|                NULL|         [{afr, 1.0}]|[{79, African Ame...|                []|[Harmonized summa...|           []|                NULL|      false|     NULL|                NULL|[EFO_0004234, EFO...|                  []|       NULL|  [other, MONDO_004...|      false|           true|                  1|                0|                          0|                     0|                    0|              0|                      0|                                1|                         0|                     0|                           0|                   0|                                       0|            0|                  0|                 0|                   0|                  0|                            0|                                 0|                                 0|            0|    1|                    3|\n",
      "|          GCST002949|  NULL|       GCST|     gwas|Epilepsy and lamo...|    [EFO_0000474, EFO...|                 NULL|26220383|GWAS identifies t...|               Jang HW|     2015-06-02|        Epilepsy Res|                              NULL|34 Korean ancestr...|    34|     1080|    1114|                NULL|         [{eas, 1.0}]|[{1114, East Asian}]|                []|[Harmonized summa...|           []|                NULL|      false|     NULL|                NULL|[EFO_0000474, OBA...|                  []|       NULL|  [other, EFO_00006...|      false|           true|                  0|                0|                          0|                     0|                    0|              0|                      0|                                0|                         1|                     0|                           0|                   0|                                       0|            0|                  0|                 0|                   1|                  0|                            0|                                 0|                                 0|            0|    1|                    3|\n",
      "|        GCST90102279|  NULL|       GCST|     gwas|Steroid induced o...|    [EFO_0020976, EFO...|                 NULL|34850884|Novel susceptibil...|            Suetsugu H|     2021-12-01|       Hum Mol Genet|                              NULL|784 East Asian an...|   784|   132603|  133387|        [BBJ, other]|         [{eas, 1.0}]|[{133387, East As...|                []|[Harmonized summa...|           []|                NULL|      false|     NULL|                NULL|[EFO_0020976, MON...|                  []|       NULL|  [other, OTAR_0000...|      false|           true|                  0|                0|                          0|                     0|                    0|              0|                      0|                                0|                         0|                     0|                           0|                   1|                                       1|            0|                  0|                 0|                   0|                  0|                            0|                                 0|                                 0|            0|    1|                    3|\n",
      "|          GCST008976|  NULL|       GCST|     gwas|Type 2 diabetes o...|    [EFO_0001073, EFO...|                 NULL|30459114|Multivariate anal...|                 Jia X|     2018-10-31|       Int J Cardiol|                              NULL|234,069 European ...| 70519|   315433|  620021|                NULL|         [{nfe, 1.0}]|[{620021, European}]|                []|[Harmonized summa...|           []|                NULL|      false|     NULL|                NULL|[EFO_0001645, EFO...|                  []|       NULL|  [EFO_0000319, OTA...|      false|           true|                  0|                0|                          0|                     0|                    1|              1|                      0|                                0|                         0|                     0|                           0|                   0|                                       0|            0|                  0|                 0|                   0|                  0|                            1|                                 0|                                 0|            0|    0|                    3|\n",
      "+--------------------+------+-----------+---------+--------------------+------------------------+---------------------+--------+--------------------+----------------------+---------------+--------------------+----------------------------------+--------------------+------+---------+--------+--------------------+---------------------+--------------------+------------------+--------------------+-------------+--------------------+-----------+---------+--------------------+--------------------+--------------------+-----------+----------------------+-----------+---------------+-------------------+-----------------+---------------------------+----------------------+---------------------+---------------+-----------------------+---------------------------------+--------------------------+----------------------+----------------------------+--------------------+----------------------------------------+-------------+-------------------+------------------+--------------------+-------------------+-----------------------------+----------------------------------+----------------------------------+-------------+-----+---------------------+\n",
      "only showing top 20 rows\n",
      "\n"
     ]
    },
    {
     "name": "stderr",
     "output_type": "stream",
     "text": [
      "                                                                                \r"
     ]
    }
   ],
   "source": [
    "gwas.filter(f.col('binaryLessCases')).filter(~f.col('measurement')).sort(f.desc('totalTherapeuticAreas')).show()"
   ]
  },
  {
   "cell_type": "code",
   "execution_count": 10,
   "metadata": {},
   "outputs": [
    {
     "name": "stderr",
     "output_type": "stream",
     "text": [
      "                                                                                \r"
     ]
    }
   ],
   "source": [
    "gwas.write.parquet('gs://genetics-portal-dev-analysis/dc16/output/gentropy_paper/gwas_therapeutic_areas', mode='overwrite')"
   ]
  }
 ],
 "metadata": {
  "kernelspec": {
   "display_name": ".venv",
   "language": "python",
   "name": "python3"
  },
  "language_info": {
   "codemirror_mode": {
    "name": "ipython",
    "version": 3
   },
   "file_extension": ".py",
   "mimetype": "text/x-python",
   "name": "python",
   "nbconvert_exporter": "python",
   "pygments_lexer": "ipython3",
   "version": "3.11.11"
  }
 },
 "nbformat": 4,
 "nbformat_minor": 2
}
